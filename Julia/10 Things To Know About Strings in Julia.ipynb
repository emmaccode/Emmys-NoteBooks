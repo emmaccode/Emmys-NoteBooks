{
 "cells": [
  {
   "cell_type": "code",
   "execution_count": 1,
   "id": "71683842-9513-4b5b-b3ef-404c80a25c6b",
   "metadata": {},
   "outputs": [
    {
     "data": {
      "text/plain": [
       "'a': ASCII/Unicode U+0061 (category Ll: Letter, lowercase)"
      ]
     },
     "execution_count": 1,
     "metadata": {},
     "output_type": "execute_result"
    }
   ],
   "source": [
    "Char(Int8(97))"
   ]
  },
  {
   "cell_type": "code",
   "execution_count": 2,
   "id": "3c626717-7369-49a8-966b-44eb8d7b8f8f",
   "metadata": {},
   "outputs": [
    {
     "data": {
      "text/plain": [
       "\"x² = 5²\""
      ]
     },
     "execution_count": 2,
     "metadata": {},
     "output_type": "execute_result"
    }
   ],
   "source": [
    "x = \"x² = 5²\""
   ]
  },
  {
   "cell_type": "code",
   "execution_count": 3,
   "id": "8e23eaea-982b-4602-80da-7e6b153a82fa",
   "metadata": {},
   "outputs": [
    {
     "ename": "LoadError",
     "evalue": "StringIndexError: invalid index [3], valid nearby indices [2]=>'²', [4]=>' '",
     "output_type": "error",
     "traceback": [
      "StringIndexError: invalid index [3], valid nearby indices [2]=>'²', [4]=>' '",
      "",
      "Stacktrace:",
      " [1] getindex(s::String, i::Int64)",
      "   @ Base ./strings/string.jl:241",
      " [2] top-level scope",
      "   @ In[3]:1"
     ]
    }
   ],
   "source": [
    "x[3]"
   ]
  },
  {
   "cell_type": "code",
   "execution_count": 4,
   "id": "39ba8e37-0a95-47a2-871f-537746e8a9cd",
   "metadata": {},
   "outputs": [
    {
     "data": {
      "text/plain": [
       "'²': Unicode U+00B2 (category No: Number, other)"
      ]
     },
     "execution_count": 4,
     "metadata": {},
     "output_type": "execute_result"
    }
   ],
   "source": [
    "x[2]"
   ]
  },
  {
   "cell_type": "code",
   "execution_count": 5,
   "id": "837e3cea-10a8-475c-824a-694e2be2b3e1",
   "metadata": {},
   "outputs": [
    {
     "ename": "LoadError",
     "evalue": "StringIndexError: invalid index [3], valid nearby indices [2]=>'²', [4]=>' '",
     "output_type": "error",
     "traceback": [
      "StringIndexError: invalid index [3], valid nearby indices [2]=>'²', [4]=>' '",
      "",
      "Stacktrace:",
      " [1] top-level scope",
      "   @ In[5]:3"
     ]
    }
   ],
   "source": [
    "x = \"x² = 5²\"\n",
    "position = findfirst(\" \", x)\n",
    "first_operand = x[1:minimum(position) - 1]"
   ]
  },
  {
   "cell_type": "code",
   "execution_count": 1,
   "id": "4ee83a3e-b32a-49b1-bafa-c58b8fd18bdf",
   "metadata": {},
   "outputs": [
    {
     "data": {
      "text/plain": [
       "5-element Vector{SubString{String}}:\n",
       " \"\"\n",
       " \"home\"\n",
       " \"emmac\"\n",
       " \"dev\"\n",
       " \"file1.svg\""
      ]
     },
     "execution_count": 1,
     "metadata": {},
     "output_type": "execute_result"
    }
   ],
   "source": [
    "path_parts = split(\"/home/emmac/dev/file1.svg\", \"/\")"
   ]
  },
  {
   "cell_type": "code",
   "execution_count": 2,
   "id": "842fc521-c910-45eb-9a64-6db563ab2b71",
   "metadata": {},
   "outputs": [
    {
     "data": {
      "text/plain": [
       "\"/home/emmac\""
      ]
     },
     "execution_count": 2,
     "metadata": {},
     "output_type": "execute_result"
    }
   ],
   "source": [
    "join(path_parts[1:3], \"/\")"
   ]
  },
  {
   "cell_type": "code",
   "execution_count": 4,
   "id": "ab2719c4-cc73-485c-a6c5-78fcd9f0c885",
   "metadata": {},
   "outputs": [
    {
     "data": {
      "text/plain": [
       "\"\\\\ntge\\\\ergegareg\\\\abgb\\$x\""
      ]
     },
     "execution_count": 4,
     "metadata": {},
     "output_type": "execute_result"
    }
   ],
   "source": [
    "raws = raw\"\\ntge\\ergegareg\\abgb$x\""
   ]
  },
  {
   "cell_type": "code",
   "execution_count": 6,
   "id": "20ea3cf3-47a2-4d0f-9577-3c1f3fda3452",
   "metadata": {},
   "outputs": [
    {
     "data": {
      "text/latex": [
       "\\subsection{hello world}\n",
       "\\begin{itemize}\n",
       "\\item this is Markdown\n",
       "\n",
       "\n",
       "\\item and convenient\n",
       "\n",
       "\\end{itemize}\n"
      ],
      "text/markdown": [
       "## hello world\n",
       "\n",
       "  * this is Markdown\n",
       "  * and convenient\n"
      ],
      "text/plain": [
       "\u001b[1m  hello world\u001b[22m\n",
       "\u001b[1m  =============\u001b[22m\n",
       "\n",
       "    •  this is Markdown\n",
       "\n",
       "    •  and convenient"
      ]
     },
     "execution_count": 6,
     "metadata": {},
     "output_type": "execute_result"
    }
   ],
   "source": [
    "using Markdown\n",
    "\n",
    "md\"\"\"## hello world\n",
    "- this is Markdown\n",
    "- and convenient\"\"\""
   ]
  },
  {
   "cell_type": "code",
   "execution_count": 7,
   "id": "241a6840-d586-42fc-9968-14e905c6e184",
   "metadata": {},
   "outputs": [
    {
     "name": "stdout",
     "output_type": "stream",
     "text": [
      "hello world from Python!\n"
     ]
    }
   ],
   "source": [
    "using PyCall\n",
    "py\"\"\"print('hello world from Python!')\"\"\""
   ]
  },
  {
   "cell_type": "code",
   "execution_count": 8,
   "id": "a4153be9-ce73-4942-9bae-0247b14e3789",
   "metadata": {},
   "outputs": [
    {
     "data": {
      "text/plain": [
       "'j': ASCII/Unicode U+006A (category Ll: Letter, lowercase)"
      ]
     },
     "execution_count": 8,
     "metadata": {},
     "output_type": "execute_result"
    }
   ],
   "source": [
    "\"julia\"[1]"
   ]
  },
  {
   "cell_type": "code",
   "execution_count": 9,
   "id": "62c4d421-63b7-4c13-802a-85aaa5e15642",
   "metadata": {},
   "outputs": [
    {
     "data": {
      "text/plain": [
       "32-element Vector{UInt8}:\n",
       " 0x68\n",
       " 0x69\n",
       " 0x00\n",
       " 0x00\n",
       " 0x00\n",
       " 0x00\n",
       " 0x00\n",
       " 0x00\n",
       " 0x00\n",
       " 0x00\n",
       " 0x00\n",
       " 0x00\n",
       " 0x00\n",
       "    ⋮\n",
       " 0x00\n",
       " 0x00\n",
       " 0x00\n",
       " 0x00\n",
       " 0x00\n",
       " 0x00\n",
       " 0x00\n",
       " 0x00\n",
       " 0x00\n",
       " 0x00\n",
       " 0x00\n",
       " 0x00"
      ]
     },
     "execution_count": 9,
     "metadata": {},
     "output_type": "execute_result"
    }
   ],
   "source": [
    "buff = IOBuffer()\n",
    "write(buff, \"hi\")\n",
    "buff.data"
   ]
  },
  {
   "cell_type": "code",
   "execution_count": 10,
   "id": "26b3ea87-3dc3-400b-9832-2768c98e64ae",
   "metadata": {},
   "outputs": [
    {
     "data": {
      "text/plain": [
       "\"hi\""
      ]
     },
     "execution_count": 10,
     "metadata": {},
     "output_type": "execute_result"
    }
   ],
   "source": [
    "String(take!(buff))"
   ]
  },
  {
   "cell_type": "code",
   "execution_count": 11,
   "id": "21b5aaa2-314d-4c7a-8e08-d530665214cf",
   "metadata": {},
   "outputs": [
    {
     "data": {
      "text/plain": [
       "show_math (generic function with 1 method)"
      ]
     },
     "execution_count": 11,
     "metadata": {},
     "output_type": "execute_result"
    }
   ],
   "source": [
    "function show_math(x::Int64)\n",
    "    x_minus_five = x - 5\n",
    "    println(\"the number provided was $x\")\n",
    "    println(\"- the number minus 5 is $(x_minus_five)\")\n",
    "    println(\"- the number plus 5 is $(x + 5)\")\n",
    "    nothing::Nothing\n",
    "end"
   ]
  },
  {
   "cell_type": "code",
   "execution_count": 12,
   "id": "560ca65b-8300-458a-8241-e6f7ae7f2aab",
   "metadata": {},
   "outputs": [
    {
     "name": "stdout",
     "output_type": "stream",
     "text": [
      "the number provided was 20\n",
      "- the number minus 5 is 15\n",
      "- the number plus 5 is 25\n"
     ]
    }
   ],
   "source": [
    "show_math(20)"
   ]
  },
  {
   "cell_type": "code",
   "execution_count": 13,
   "id": "ff090486-b3d1-4230-b4cf-443e2a3ff547",
   "metadata": {},
   "outputs": [
    {
     "name": "stdout",
     "output_type": "stream",
     "text": [
      "UInt8[0x48, 0x65, 0x6c, 0x6c, 0x6f]\n"
     ]
    }
   ],
   "source": [
    "text = \"Hello\"\n",
    "byte_data = codeunits(text)\n",
    "println(byte_data)"
   ]
  },
  {
   "cell_type": "code",
   "execution_count": 14,
   "id": "47474efc-44a6-4350-8042-f6f90cba463f",
   "metadata": {},
   "outputs": [
    {
     "name": "stdout",
     "output_type": "stream",
     "text": [
      "0100100001100101011011000110110001101111\n"
     ]
    }
   ],
   "source": [
    "binary_data = join(bitstring(b) for b in byte_data)\n",
    "println(binary_data)"
   ]
  },
  {
   "cell_type": "code",
   "execution_count": 15,
   "id": "2a4bf9f8-0912-4da4-8c6f-7f3092191083",
   "metadata": {},
   "outputs": [
    {
     "name": "stdout",
     "output_type": "stream",
     "text": [
      "Hello\n"
     ]
    }
   ],
   "source": [
    "bytes_data = UInt8[parse(Int, binary_data[i:i+7], base = 2) for i in 1:8:length(binary_data)]\n",
    "decoded_text = String(bytes_data)\n",
    "println(decoded_text)"
   ]
  },
  {
   "cell_type": "code",
   "execution_count": 18,
   "id": "c7a4edf1-73f1-4e99-ac2b-6089af03a73b",
   "metadata": {},
   "outputs": [
    {
     "data": {
      "text/plain": [
       "\"<div id=\\\"samplediv\\\"><a id=\\\"label\\\">hello!</a><h2 id=\\\"header\\\"></h2></div>\""
      ]
     },
     "execution_count": 18,
     "metadata": {},
     "output_type": "execute_result"
    }
   ],
   "source": [
    "sample = \"\"\"<div id=\"samplediv\"><a id=\"label\">hello!</a><h2 id=\"header\"></h2></div>\"\"\""
   ]
  },
  {
   "cell_type": "code",
   "execution_count": 25,
   "id": "ee9065a6-2055-4691-bcc6-f0ae8dac7a2d",
   "metadata": {},
   "outputs": [
    {
     "data": {
      "text/plain": [
       "('>', ' ')"
      ]
     },
     "execution_count": 25,
     "metadata": {},
     "output_type": "execute_result"
    }
   ],
   "source": [
    "current_name = maximum(findfirst(\"id=\", sample))\n",
    "ids = Vector{String}()\n",
    "delims::Tuple{Char, Char} = ('>', ' ')"
   ]
  },
  {
   "cell_type": "code",
   "execution_count": 26,
   "id": "044b0b41-12f4-4848-9ffd-6a85baff1f74",
   "metadata": {},
   "outputs": [
    {
     "name": "stdout",
     "output_type": "stream",
     "text": [
      "[\"=\\\"samplediv\\\"\", \"=\\\"label\\\"\", \"=\\\"header\\\"\"]\n"
     ]
    }
   ],
   "source": [
    "while true\n",
    "  # parse data:\n",
    "               # use case for ::Function, ::String ;p\n",
    "  endname = findnext(c::Char -> c in delims, sample, current_name)\n",
    "  push!(ids, sample[current_name:minimum(endname) - 1])\n",
    "   # begin setting the next position\n",
    "  f = findnext(\"id=\", sample, current_name)\n",
    "   # break if we run out of ids to parse\n",
    "  if isnothing(f)\n",
    "      break\n",
    "  end\n",
    "  current_name = maximum(f)\n",
    "  # repeat the loop ...\n",
    "end\n",
    "println(ids)"
   ]
  },
  {
   "cell_type": "code",
   "execution_count": 28,
   "id": "0cbb7593-6d37-4996-b624-dc66072cad93",
   "metadata": {},
   "outputs": [
    {
     "name": "stdout",
     "output_type": "stream",
     "text": [
      "emmac"
     ]
    }
   ],
   "source": [
    "x = [\"hello my friend,\", \"my name; it's actually\", \"kind of cool, so\", \n",
    "    \"I guess\", \"I will tell it to you\", \"my name is\", \"emmac\"]\n",
    "                     # takes ::String, returns ::Bool\n",
    "name_brief = findfirst(x -> contains(x, \"name is\"), x)\n",
    "# returns nothing if not found:\n",
    "\n",
    "if ~(isnothing(name_brief))\n",
    "    quit_yapping_just_want_your_name = x[name_brief + 1]\n",
    "    print(quit_yapping_just_want_your_name)\n",
    "end"
   ]
  },
  {
   "cell_type": "code",
   "execution_count": 29,
   "id": "8e1b0b2d-0f99-4ba6-ba3a-6b2894436651",
   "metadata": {},
   "outputs": [
    {
     "name": "stdout",
     "output_type": "stream",
     "text": [
      "21\n"
     ]
    }
   ],
   "source": [
    "found = findfirst(character -> character == 'c', \n",
    "    \"my friend's name is corey\")\n",
    "println(found)"
   ]
  },
  {
   "cell_type": "code",
   "execution_count": 30,
   "id": "4c23e92b-238f-4b93-8d7c-f5d4cdc0e3da",
   "metadata": {},
   "outputs": [
    {
     "name": "stdout",
     "output_type": "stream",
     "text": [
      "x + y\n",
      "Expr\n"
     ]
    }
   ],
   "source": [
    "expr = Meta.parse(\"x + y\")\n",
    "println(expr)  # Output: :(x + y)\n",
    "println(typeof(expr))  # Output: Expr"
   ]
  },
  {
   "cell_type": "code",
   "execution_count": 31,
   "id": "15f3037a-f71a-4e55-98d8-48c7802aec69",
   "metadata": {},
   "outputs": [
    {
     "name": "stdout",
     "output_type": "stream",
     "text": [
      "15\n"
     ]
    }
   ],
   "source": [
    "x = 10\n",
    "y = 5\n",
    "result = eval(expr)  # Evaluates \"x + y\"\n",
    "println(result)  # Output: 15"
   ]
  },
  {
   "cell_type": "code",
   "execution_count": 32,
   "id": "6b218a0c-3401-4ac6-b4a7-91d2474fbbba",
   "metadata": {},
   "outputs": [
    {
     "name": "stdout",
     "output_type": "stream",
     "text": [
      "15\n"
     ]
    }
   ],
   "source": [
    "module Sample\n",
    "x = 5\n",
    "end\n",
    "\n",
    "add_x = \"x += 10\"\n",
    "Sample.eval(Meta.parse(add_x))\n",
    "println(Sample.x)"
   ]
  },
  {
   "cell_type": "code",
   "execution_count": 33,
   "id": "7e2cce0e-b795-4854-b314-9032bb457678",
   "metadata": {},
   "outputs": [
    {
     "name": "stdout",
     "output_type": "stream",
     "text": [
      "sqrt(16)\n",
      "4.0\n"
     ]
    }
   ],
   "source": [
    "user_input = \"sqrt\"\n",
    "value = 16\n",
    "code_str = \"$(user_input)($value)\"  # Dynamically builds \"sqrt(16)\"\n",
    "println(code_str)  # Output: \"sqrt(16)\"\n",
    "\n",
    "expr = Meta.parse(code_str)  # Parse into an expression\n",
    "result = eval(expr)  # Evaluate the expression\n",
    "println(result)  # Output: 4.0"
   ]
  },
  {
   "cell_type": "code",
   "execution_count": 34,
   "id": "371a8225-1ea9-4800-8d50-2560c2cb7adc",
   "metadata": {},
   "outputs": [
    {
     "name": "stdout",
     "output_type": "stream",
     "text": [
      "Hello\n"
     ]
    }
   ],
   "source": [
    "s = \"Hello, World!\" \n",
    "\n",
    "v = SubString(s, 1, 5) # Efficiently views \"Hello\" \n",
    "println(v)"
   ]
  },
  {
   "cell_type": "code",
   "execution_count": 35,
   "id": "db560ec4-21be-4d7a-9acd-8481947b6630",
   "metadata": {},
   "outputs": [
    {
     "data": {
      "text/plain": [
       "SubString{String}"
      ]
     },
     "execution_count": 35,
     "metadata": {},
     "output_type": "execute_result"
    }
   ],
   "source": [
    "typeof(v)"
   ]
  },
  {
   "cell_type": "code",
   "execution_count": null,
   "id": "7a19ba2e-b8aa-4cb6-98bb-b987dd49f6e4",
   "metadata": {},
   "outputs": [],
   "source": []
  }
 ],
 "metadata": {
  "kernelspec": {
   "display_name": "Julia 1.9.2",
   "language": "julia",
   "name": "julia-1.9"
  },
  "language_info": {
   "file_extension": ".jl",
   "mimetype": "application/julia",
   "name": "julia",
   "version": "1.9.2"
  }
 },
 "nbformat": 4,
 "nbformat_minor": 5
}

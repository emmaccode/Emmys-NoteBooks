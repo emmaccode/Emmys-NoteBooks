{
 "cells": [
  {
   "cell_type": "code",
   "execution_count": 1,
   "id": "28422619-837a-4ee9-a2f9-2cbc8ba93cb8",
   "metadata": {},
   "outputs": [],
   "source": [
    "using TOML"
   ]
  },
  {
   "cell_type": "code",
   "execution_count": 2,
   "id": "86501c9e-04b2-484b-a04a-3be3d165929b",
   "metadata": {},
   "outputs": [
    {
     "data": {
      "text/plain": [
       "\"value\""
      ]
     },
     "execution_count": 2,
     "metadata": {},
     "output_type": "execute_result"
    }
   ],
   "source": [
    "myfile = TOML.parse(\"\"\"[sectionname]\n",
    "key1 = \"value\"\n",
    "\n",
    "[sectionname.subsectionname]\n",
    "key2 = \"value\"\n",
    "    \"\"\")\n",
    "\n",
    "myfile[\"sectionname\"][\"subsectionname\"][\"key2\"]"
   ]
  },
  {
   "cell_type": "code",
   "execution_count": 25,
   "id": "b2a6f9b7-4319-4be6-b336-13a893682248",
   "metadata": {},
   "outputs": [
    {
     "data": {
      "text/plain": [
       "rec_index (generic function with 1 method)"
      ]
     },
     "execution_count": 25,
     "metadata": {},
     "output_type": "execute_result"
    }
   ],
   "source": [
    "import Base: getindex\n",
    "\n"
   ]
  },
  {
   "cell_type": "code",
   "execution_count": 63,
   "id": "d2133c66-3a56-428f-9c59-5bf2d885e6db",
   "metadata": {},
   "outputs": [
    {
     "name": "stderr",
     "output_type": "stream",
     "text": [
      "WARNING: replacing module EmmysTOML.\n"
     ]
    },
    {
     "data": {
      "text/plain": [
       "Main.EmmysTOML"
      ]
     },
     "execution_count": 63,
     "metadata": {},
     "output_type": "execute_result"
    }
   ],
   "source": [
    "module EmmysTOML\n",
    "\n",
    "rec_index(d::Dict{String, Any}, keys::AbstractString ...) = begin\n",
    "    n = length(keys)\n",
    "    rec_index(d[keys[1]], keys[2:length(keys)] ...)::Dict{<:Any, <:Any}\n",
    "end\n",
    "\n",
    "rec_index(d::Dict{String, Any}, key::AbstractString) = d[key]\n",
    "\n",
    "function parse(raw::String)\n",
    "    main_dct::Dict{String, Any} = Dict{String, Any}()\n",
    "    selected_section::Dict{String, Any} = main_dct\n",
    "    for x in split(raw, \"\\n\")\n",
    "        if contains(x, \"[\")\n",
    "            selected_section = Dict{String, Any}()\n",
    "            section_name = x[2:length(x) - 1]\n",
    "            if contains(section_name, \".\")\n",
    "                splts = split(section_name, \".\")\n",
    "                n = length(splts)\n",
    "                section_name = splts[n]\n",
    "                push!(rec_index(main_dct, splts[1:n - 1] ...), section_name => selected_section)\n",
    "                continue\n",
    "            end\n",
    "            push!(main_dct, section_name => selected_section)\n",
    "        else\n",
    "            if length(x) < 2\n",
    "                continue\n",
    "            end\n",
    "            key_value = split(replace(x, \" \" => \"\"), \"=\")\n",
    "            push!(selected_section, key_value[1] => key_value[2])\n",
    "        end\n",
    "    end\n",
    "    main_dct\n",
    "end\n",
    "\n",
    "end"
   ]
  },
  {
   "cell_type": "code",
   "execution_count": 64,
   "id": "ac1471ce-daae-4f1b-926b-510907ae749a",
   "metadata": {},
   "outputs": [
    {
     "data": {
      "text/plain": [
       "\"nosection = 5\\n[sample]\\nemmy = 5\\nclarence = 2\\nsteve = 7\\ncharise = 3\\n[sample.count]\\ncharise = 2\\nclarence = 1\\nemily = 5\\n[sample.count.apples]\\nemmy = 2\\nsammy = 5\\nharry = 12\\n[other]\\njohn = 5\\nemily = 8\\n\""
      ]
     },
     "execution_count": 64,
     "metadata": {},
     "output_type": "execute_result"
    }
   ],
   "source": [
    "sample_toml = \"\"\"\n",
    "nosection = 5\n",
    "[sample]\n",
    "emmy = 5\n",
    "clarence = 2\n",
    "steve = 7\n",
    "charise = 3\n",
    "[sample.count]\n",
    "charise = 2\n",
    "clarence = 1\n",
    "emily = 5\n",
    "[sample.count.apples]\n",
    "emmy = 2\n",
    "sammy = 5\n",
    "harry = 12\n",
    "[other]\n",
    "john = 5\n",
    "emily = 8\n",
    "\"\"\""
   ]
  },
  {
   "cell_type": "code",
   "execution_count": 65,
   "id": "2f9144f9-b492-4cf9-9413-b40422f75188",
   "metadata": {},
   "outputs": [
    {
     "data": {
      "text/plain": [
       "Dict{String, Any} with 3 entries:\n",
       "  \"nosection\" => \"5\"\n",
       "  \"other\"     => Dict{String, Any}(\"john\"=>\"5\", \"emily\"=>\"8\")\n",
       "  \"sample\"    => Dict{String, Any}(\"emmy\"=>\"5\", \"charise\"=>\"3\", \"count\"=>Dict{S…"
      ]
     },
     "execution_count": 65,
     "metadata": {},
     "output_type": "execute_result"
    }
   ],
   "source": [
    "samp2 = EmmysTOML.parse(sample_toml)"
   ]
  },
  {
   "cell_type": "code",
   "execution_count": 67,
   "id": "a1420227-1aac-41ef-bb3f-faf652b5715d",
   "metadata": {},
   "outputs": [
    {
     "data": {
      "text/plain": [
       "KeySet for a Dict{String, Any} with 5 entries. Keys:\n",
       "  \"emmy\"\n",
       "  \"charise\"\n",
       "  \"count\"\n",
       "  \"steve\"\n",
       "  \"clarence\""
      ]
     },
     "execution_count": 67,
     "metadata": {},
     "output_type": "execute_result"
    }
   ],
   "source": [
    "keys(samp2[\"sample\"])"
   ]
  },
  {
   "cell_type": "code",
   "execution_count": 68,
   "id": "bba20d87-b15b-47e5-8c20-d8226307fe68",
   "metadata": {},
   "outputs": [
    {
     "data": {
      "text/plain": [
       "KeySet for a Dict{String, Any} with 4 entries. Keys:\n",
       "  \"emily\"\n",
       "  \"charise\"\n",
       "  \"apples\"\n",
       "  \"clarence\""
      ]
     },
     "execution_count": 68,
     "metadata": {},
     "output_type": "execute_result"
    }
   ],
   "source": [
    "keys(samp2[\"sample\"][\"count\"])"
   ]
  },
  {
   "cell_type": "code",
   "execution_count": 69,
   "id": "32ec90b0-38f2-431b-bcfc-0946d282c830",
   "metadata": {},
   "outputs": [
    {
     "data": {
      "text/plain": [
       "Dict{String, Any} with 3 entries:\n",
       "  \"emmy\"  => \"2\"\n",
       "  \"sammy\" => \"5\"\n",
       "  \"harry\" => \"12\""
      ]
     },
     "execution_count": 69,
     "metadata": {},
     "output_type": "execute_result"
    }
   ],
   "source": [
    "samp2[\"sample\"][\"count\"][\"apples\"]"
   ]
  },
  {
   "cell_type": "code",
   "execution_count": 70,
   "id": "f68d74ee-43da-40e8-9cf1-e4e13ed093af",
   "metadata": {},
   "outputs": [
    {
     "data": {
      "text/plain": [
       "Dict{String, Any} with 3 entries:\n",
       "  \"emmy\"  => \"2\"\n",
       "  \"sammy\" => \"5\"\n",
       "  \"harry\" => \"12\""
      ]
     },
     "execution_count": 70,
     "metadata": {},
     "output_type": "execute_result"
    }
   ],
   "source": [
    "apples = samp2[\"sample\"][\"count\"][\"apples\"]"
   ]
  },
  {
   "cell_type": "code",
   "execution_count": 75,
   "id": "2c96fc3f-265a-4e40-954e-f2570b93a13c",
   "metadata": {},
   "outputs": [],
   "source": [
    "for key in keys(apples)\n",
    "    mask = [isnumeric(x) for x in apples[key]]\n",
    "    f = findfirst(t -> ~(t), mask)\n",
    "    if isnothing(f)\n",
    "        apples[key] = parse(Int64, apples[key])\n",
    "    end\n",
    "end"
   ]
  },
  {
   "cell_type": "code",
   "execution_count": 76,
   "id": "84641c3b-62cf-4638-9e6d-0849596e8a7e",
   "metadata": {},
   "outputs": [
    {
     "data": {
      "text/plain": [
       "Dict{String, Any} with 3 entries:\n",
       "  \"emmy\"  => 2\n",
       "  \"sammy\" => 5\n",
       "  \"harry\" => 12"
      ]
     },
     "execution_count": 76,
     "metadata": {},
     "output_type": "execute_result"
    }
   ],
   "source": [
    "apples"
   ]
  },
  {
   "cell_type": "code",
   "execution_count": 77,
   "id": "a7a2d481-a3bf-4284-84cf-0013b05adfa1",
   "metadata": {},
   "outputs": [
    {
     "data": {
      "text/plain": [
       "\"<h1>hello world!</h1><sep></sep>\""
      ]
     },
     "execution_count": 77,
     "metadata": {},
     "output_type": "execute_result"
    }
   ],
   "source": [
    "\"\"\"<h1>hello world!</h1><sep></sep>\"\"\""
   ]
  },
  {
   "cell_type": "code",
   "execution_count": 104,
   "id": "d8343505-1403-4c80-bf1d-7a3388f41438",
   "metadata": {},
   "outputs": [
    {
     "name": "stderr",
     "output_type": "stream",
     "text": [
      "WARNING: replacing module EmmyHTML.\n"
     ]
    },
    {
     "data": {
      "text/plain": [
       "Main.EmmyHTML"
      ]
     },
     "execution_count": 104,
     "metadata": {},
     "output_type": "execute_result"
    }
   ],
   "source": [
    "module EmmyHTML\n",
    "\n",
    "mutable struct Element\n",
    "    tag::String\n",
    "    properties::Dict{String, Any}\n",
    "    text::String\n",
    "end\n",
    "\n",
    "const Elements = Vector{Element}\n",
    "\n",
    "function parse(raw::String)\n",
    "    position = findfirst(\"<\", raw)\n",
    "    elements = Elements()\n",
    "    while true\n",
    "        next_caret = findnext(\">\", raw, position[1])\n",
    "        opening = raw[position[1] + 1:next_caret[1] - 1]\n",
    "        open_splits = split(opening, \" \")\n",
    "        tag = string(open_splits[1])\n",
    "        properties = Dict{String, Any}(begin\n",
    "                propsplit = split(property, \"=\")\n",
    "                propsplit[1] => propsplit[2]\n",
    "        end for property in open_splits[2:length(open_splits)])\n",
    "        txt_end = findnext(\"</$tag>\", raw, next_caret[1])\n",
    "        text = raw[next_caret[1] + 1:txt_end[1] - 1]\n",
    "        push!(elements, Element(tag, properties, text))\n",
    "        position = findnext(\"<\", raw, txt_end[2])\n",
    "        if isnothing(position)\n",
    "            break\n",
    "        end\n",
    "    end\n",
    "    elements::Elements\n",
    "end\n",
    "\n",
    "end"
   ]
  },
  {
   "cell_type": "code",
   "execution_count": 105,
   "id": "08b30c9d-c4cb-4a6d-964e-b86d84736003",
   "metadata": {},
   "outputs": [
    {
     "data": {
      "text/plain": [
       "\"<h1>hello friend</h1><sep></sep><p>welcome to my new page.</p>\""
      ]
     },
     "execution_count": 105,
     "metadata": {},
     "output_type": "execute_result"
    }
   ],
   "source": [
    "sample_html = \"\"\"<h1>hello friend</h1><sep></sep><p>welcome to my new page.</p>\"\"\""
   ]
  },
  {
   "cell_type": "code",
   "execution_count": 106,
   "id": "42f5b04e-d0ca-4050-8111-065d535ee0a4",
   "metadata": {},
   "outputs": [
    {
     "data": {
      "text/plain": [
       "3-element Vector{Main.EmmyHTML.Element}:\n",
       " Main.EmmyHTML.Element(\"h1\", Dict{String, Any}(), \"hello friend\")\n",
       " Main.EmmyHTML.Element(\"sep\", Dict{String, Any}(), \"\")\n",
       " Main.EmmyHTML.Element(\"p\", Dict{String, Any}(), \"welcome to my new page.\")"
      ]
     },
     "execution_count": 106,
     "metadata": {},
     "output_type": "execute_result"
    }
   ],
   "source": [
    "elements = EmmyHTML.parse(sample_html)"
   ]
  },
  {
   "cell_type": "code",
   "execution_count": 155,
   "id": "c2ac88ea-3765-4f18-af31-e196191eba22",
   "metadata": {},
   "outputs": [
    {
     "name": "stderr",
     "output_type": "stream",
     "text": [
      "WARNING: replacing module EmmyCSS.\n"
     ]
    },
    {
     "data": {
      "text/plain": [
       "Main.EmmyCSS"
      ]
     },
     "execution_count": 155,
     "metadata": {},
     "output_type": "execute_result"
    }
   ],
   "source": [
    "module EmmyCSS\n",
    "\n",
    "mutable struct CSSClass\n",
    "    name::String\n",
    "    properties::Dict{String, <:Any}\n",
    "end\n",
    "\n",
    "function parse(raw::String)\n",
    "    position = findfirst(\"{\", raw)\n",
    "    classes = Vector{CSSClass}()\n",
    "    while true\n",
    "        name_start = findprev(\" \", raw, position[1] - 2)\n",
    "        if isnothing(name_start)\n",
    "            name_start = 0:0\n",
    "        end\n",
    "        class_n = raw[name_start[1] + 1:position[1] - 1]\n",
    "        propend = findnext(\"}\", raw, position[1])\n",
    "        propstring = raw[position[1] + 1:propend[1] - 1]\n",
    "        propsplits = split(propstring, \";\")\n",
    "        properties = Dict{String, Any}(begin\n",
    "                propsplit = split(prop, \":\")\n",
    "                string(replace(propsplit[1], \" \" => \"\", \"\\n\" => \"\")) => replace(propsplit[2], \" \" => \"\", \"\\n\" => \"\")\n",
    "            end for prop in propsplits[1:length(propsplits) - 1])\n",
    "        push!(classes, CSSClass(replace(class_n, \" \" => \"\"), properties))\n",
    "        position = findnext(\"{\", raw, propend[1])\n",
    "        if isnothing(position)\n",
    "            break\n",
    "        end\n",
    "    end\n",
    "    classes\n",
    "end\n",
    "\n",
    "end"
   ]
  },
  {
   "cell_type": "code",
   "execution_count": 156,
   "id": "36176d34-c890-4478-bb03-bff7e55ea451",
   "metadata": {},
   "outputs": [
    {
     "data": {
      "text/plain": [
       "\"div.main {\\n    background-color: red;\\n    border-radius: 5px;\\n}\\ndiv.header {\\n    background-color: white;\\n    border-weight: 12px;\\n    border-style: solid;\\n    border-color: green;\\n}\\n\""
      ]
     },
     "execution_count": 156,
     "metadata": {},
     "output_type": "execute_result"
    }
   ],
   "source": [
    "css =  \"\"\"div.main {\n",
    "    background-color: red;\n",
    "    border-radius: 5px;\n",
    "}\n",
    "div.header {\n",
    "    background-color: white;\n",
    "    border-weight: 12px;\n",
    "    border-style: solid;\n",
    "    border-color: green;\n",
    "}\n",
    "\"\"\""
   ]
  },
  {
   "cell_type": "code",
   "execution_count": 157,
   "id": "eff97940-c469-435c-8727-596b02aeee0a",
   "metadata": {},
   "outputs": [
    {
     "data": {
      "text/plain": [
       "2-element Vector{Main.EmmyCSS.CSSClass}:\n",
       " Main.EmmyCSS.CSSClass(\"div.main\", Dict{String, Any}(\"background-color\" => \"red\", \"border-radius\" => \"5px\"))\n",
       " Main.EmmyCSS.CSSClass(\"5px;\\n}\\ndiv.header\", Dict{String, Any}(\"border-color\" => \"green\", \"background-color\" => \"white\", \"border-style\" => \"solid\", \"border-weight\" => \"12px\"))"
      ]
     },
     "execution_count": 157,
     "metadata": {},
     "output_type": "execute_result"
    }
   ],
   "source": [
    "EmmyCSS.parse(css)"
   ]
  },
  {
   "cell_type": "code",
   "execution_count": null,
   "id": "8daa0a87-190e-4d68-9493-9dd96442b730",
   "metadata": {},
   "outputs": [],
   "source": []
  },
  {
   "cell_type": "code",
   "execution_count": null,
   "id": "f24cde70-1f03-4cf8-adb3-2b75c07fecb7",
   "metadata": {},
   "outputs": [],
   "source": []
  },
  {
   "cell_type": "code",
   "execution_count": null,
   "id": "65114a45-9bf8-42a1-8974-cfa0bb1d82f2",
   "metadata": {},
   "outputs": [],
   "source": []
  }
 ],
 "metadata": {
  "kernelspec": {
   "display_name": "Julia 1.9.2",
   "language": "julia",
   "name": "julia-1.9"
  },
  "language_info": {
   "file_extension": ".jl",
   "mimetype": "application/julia",
   "name": "julia",
   "version": "1.9.2"
  }
 },
 "nbformat": 4,
 "nbformat_minor": 5
}

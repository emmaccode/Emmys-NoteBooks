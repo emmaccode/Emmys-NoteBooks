{
 "cells": [
  {
   "cell_type": "code",
   "execution_count": 1,
   "id": "af1386a9-6809-47ba-b27c-611c91898726",
   "metadata": {},
   "outputs": [
    {
     "name": "stdout",
     "output_type": "stream",
     "text": [
      "Int64\n",
      "8\n",
      "2\n"
     ]
    }
   ],
   "source": [
    "x = 5\n",
    "println(typeof(x))\n",
    "println(sizeof(x))\n",
    "println(sizeof(Int16(x)))"
   ]
  },
  {
   "cell_type": "code",
   "execution_count": 1,
   "id": "2ce46edb-23dc-4ff9-9f34-15fdb07f1b43",
   "metadata": {},
   "outputs": [
    {
     "name": "stdout",
     "output_type": "stream",
     "text": [
      "40\n",
      "10\n"
     ]
    }
   ],
   "source": [
    "user_ips = [\"192.168.1.$n\" for n in [10, 14, 11, 12, 18]]\n",
    "\n",
    "user_ports = [80 for n in 1:5]\n",
    "\n",
    "user_ports_int16 = [Int16(80) for n in 1:5]\n",
    "\n",
    "println(sizeof(user_ports))\n",
    "println(sizeof(user_ports_int16))"
   ]
  },
  {
   "cell_type": "code",
   "execution_count": 2,
   "id": "a0bf405f-a797-4131-90f7-8c0902c669c2",
   "metadata": {},
   "outputs": [],
   "source": [
    "struct IPv41\n",
    "    ip::String\n",
    "    port::Int64\n",
    "end\n",
    "\n",
    "struct IPv42\n",
    "    ip::String\n",
    "    port::UInt16\n",
    "    IPv42(ip::String, port::Integer) = new(ip, UInt16(port))\n",
    "end"
   ]
  },
  {
   "cell_type": "code",
   "execution_count": 3,
   "id": "b3fb0c00-b2e6-4a7d-a1b2-45e8f85b2a54",
   "metadata": {},
   "outputs": [
    {
     "name": "stdout",
     "output_type": "stream",
     "text": [
      "16\n",
      "16\n"
     ]
    }
   ],
   "source": [
    "println(sizeof(IPv41(\"127.0.0.1\", 8000)))\n",
    "\n",
    "println(sizeof(IPv42(\"127.0.0.1\", 8000)))"
   ]
  },
  {
   "cell_type": "code",
   "execution_count": 4,
   "id": "f4886d89-9099-43a9-a2c8-af3f24a544c6",
   "metadata": {},
   "outputs": [
    {
     "name": "stdout",
     "output_type": "stream",
     "text": [
      "16\n",
      "120\n"
     ]
    }
   ],
   "source": [
    "println(sizeof((\"hello world\" for x in 1:15)))\n",
    "println(sizeof([\"hello world\" for x in 1:15]))"
   ]
  },
  {
   "cell_type": "code",
   "execution_count": 3,
   "id": "0a03f513-962c-4f5e-a2cd-bcdf2b6097ab",
   "metadata": {},
   "outputs": [
    {
     "data": {
      "text/plain": [
       "4-element Vector{Pair{String, String}}:\n",
       "            \"color\" => \"blue\"\n",
       "           \"stroke\" => \"brown\"\n",
       " \"background-color\" => \"yellow\"\n",
       "            \"width\" => \"500\""
      ]
     },
     "execution_count": 3,
     "metadata": {},
     "output_type": "execute_result"
    }
   ],
   "source": [
    "css_props = [\"color\" => \"blue\", \"stroke\" => \"brown\", \"background-color\" => \"yellow\", \"width\" => \"500\"]"
   ]
  },
  {
   "cell_type": "code",
   "execution_count": 5,
   "id": "83093888-7049-4540-acd1-bc72c70678d8",
   "metadata": {},
   "outputs": [
    {
     "data": {
      "text/plain": [
       "\"color:blue;stroke:brown;background-color:yellow;width:500\""
      ]
     },
     "execution_count": 5,
     "metadata": {},
     "output_type": "execute_result"
    }
   ],
   "source": [
    "join((\"$(property[1]):$(property[2])\" for property in css_props), \";\")"
   ]
  },
  {
   "cell_type": "code",
   "execution_count": 7,
   "id": "d9af3d7d-b393-4101-a75a-9661a20a1078",
   "metadata": {},
   "outputs": [
    {
     "data": {
      "text/plain": [
       "example (generic function with 1 method)"
      ]
     },
     "execution_count": 7,
     "metadata": {},
     "output_type": "execute_result"
    }
   ],
   "source": [
    "function example(data::Dict{String, Any})::Function\n",
    "      function show_name()\n",
    "           println(data[\"name\"])\n",
    "      end\n",
    "end"
   ]
  },
  {
   "cell_type": "code",
   "execution_count": 10,
   "id": "9eb9337f-1b13-4363-bc88-5e73a08f545b",
   "metadata": {},
   "outputs": [
    {
     "data": {
      "text/plain": [
       "(::var\"#show_name#17\"{Dict{String, Any}}) (generic function with 1 method)"
      ]
     },
     "execution_count": 10,
     "metadata": {},
     "output_type": "execute_result"
    }
   ],
   "source": [
    "myf = example(main_dct)"
   ]
  },
  {
   "cell_type": "code",
   "execution_count": 13,
   "id": "c32a6919-48a9-4e84-956d-4847b24ad377",
   "metadata": {},
   "outputs": [
    {
     "data": {
      "text/plain": [
       "example2 (generic function with 1 method)"
      ]
     },
     "execution_count": 13,
     "metadata": {},
     "output_type": "execute_result"
    }
   ],
   "source": [
    "function example2(data::Dict{String, Any})::Function\n",
    "      name = data[\"name\"]\n",
    "      function show_name()\n",
    "           println(name)\n",
    "      end\n",
    "end"
   ]
  },
  {
   "cell_type": "code",
   "execution_count": 16,
   "id": "a0d6edd9-29e3-4c1c-9583-37e007f4ab28",
   "metadata": {},
   "outputs": [
    {
     "name": "stdout",
     "output_type": "stream",
     "text": [
      "[:Sample]\n",
      "[Symbol(\"#eval\"), Symbol(\"#include\"), :Sample2, :eval, :include]\n"
     ]
    }
   ],
   "source": [
    "baremodule Sample\n",
    "\n",
    "end\n",
    "\n",
    "module Sample2\n",
    "\n",
    "end\n",
    "\n",
    "println(names(Sample, all = true))\n",
    "\n",
    "println(names(Sample2, all = true))"
   ]
  },
  {
   "cell_type": "code",
   "execution_count": 6,
   "id": "03f643d7-c4f7-4b1b-9f9b-c3cff504b6e3",
   "metadata": {},
   "outputs": [
    {
     "data": {
      "text/plain": [
       "encode_ip (generic function with 1 method)"
      ]
     },
     "execution_count": 6,
     "metadata": {},
     "output_type": "execute_result"
    }
   ],
   "source": [
    "function encode_ip(ip::String)::UInt32\n",
    "    octets = parse.(Int, split(ip, \".\"))  # Split the string into its 4 octets\n",
    "    return UInt32(octets[1] << 24 | octets[2] << 16 | octets[3] << 8 | octets[4])\n",
    "end"
   ]
  },
  {
   "cell_type": "code",
   "execution_count": 7,
   "id": "0111947c-58f3-45d1-bc30-e324e41e189e",
   "metadata": {},
   "outputs": [
    {
     "data": {
      "text/plain": [
       "0x7f000001"
      ]
     },
     "execution_count": 7,
     "metadata": {},
     "output_type": "execute_result"
    }
   ],
   "source": [
    "encode_ip(\"127.0.0.1\")"
   ]
  },
  {
   "cell_type": "code",
   "execution_count": null,
   "id": "98455d43-ebbc-4500-88b4-18f2cb58ddad",
   "metadata": {},
   "outputs": [],
   "source": []
  }
 ],
 "metadata": {
  "kernelspec": {
   "display_name": "Julia 1.9.2",
   "language": "julia",
   "name": "julia-1.9"
  },
  "language_info": {
   "file_extension": ".jl",
   "mimetype": "application/julia",
   "name": "julia",
   "version": "1.9.2"
  }
 },
 "nbformat": 4,
 "nbformat_minor": 5
}

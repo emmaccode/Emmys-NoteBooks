{
 "cells": [
  {
   "cell_type": "code",
   "execution_count": 1,
   "id": "8422682c-c0a2-4979-a82e-2a91783e12a4",
   "metadata": {},
   "outputs": [
    {
     "data": {
      "text/plain": [
       "3×3 Matrix{Int64}:\n",
       " 1  5  6\n",
       " 2  4  9\n",
       " 3  2  5"
      ]
     },
     "execution_count": 1,
     "metadata": {},
     "output_type": "execute_result"
    }
   ],
   "source": [
    "[1 5 6; 2 4 9; 3 2 5]"
   ]
  },
  {
   "cell_type": "code",
   "execution_count": 2,
   "id": "916c9e32-0074-4dd1-9c61-daa66fd9c535",
   "metadata": {},
   "outputs": [
    {
     "data": {
      "text/plain": [
       "3×3 Matrix{Int64}:\n",
       " 1  5  6\n",
       " 2  4  9\n",
       " 3  2  5"
      ]
     },
     "execution_count": 2,
     "metadata": {},
     "output_type": "execute_result"
    }
   ],
   "source": [
    "hcat([1, 2, 3], [5, 4, 2], [6, 9, 5])"
   ]
  },
  {
   "cell_type": "code",
   "execution_count": 3,
   "id": "da9108a5-0a26-4e55-a1e5-8d100940c729",
   "metadata": {},
   "outputs": [
    {
     "data": {
      "text/plain": [
       "Vector{Int64}\u001b[90m (alias for \u001b[39m\u001b[90mArray{Int64, 1}\u001b[39m\u001b[90m)\u001b[39m"
      ]
     },
     "execution_count": 3,
     "metadata": {},
     "output_type": "execute_result"
    }
   ],
   "source": [
    "typeof([1, 2, 3, 4])"
   ]
  },
  {
   "cell_type": "code",
   "execution_count": 4,
   "id": "008a2acf-22f3-4001-9aee-505eb9e7c292",
   "metadata": {},
   "outputs": [
    {
     "data": {
      "text/plain": [
       "Matrix{Int64}\u001b[90m (alias for \u001b[39m\u001b[90mArray{Int64, 2}\u001b[39m\u001b[90m)\u001b[39m"
      ]
     },
     "execution_count": 4,
     "metadata": {},
     "output_type": "execute_result"
    }
   ],
   "source": [
    "typeof([5 10; 2 3])"
   ]
  },
  {
   "cell_type": "code",
   "execution_count": 5,
   "id": "902e6089-9e1a-4b19-835c-684cad3d50da",
   "metadata": {},
   "outputs": [
    {
     "data": {
      "text/plain": [
       "SampleVector\u001b[90m (alias for \u001b[39m\u001b[90mSampleArray{T, 1} where T\u001b[39m\u001b[90m)\u001b[39m"
      ]
     },
     "execution_count": 5,
     "metadata": {},
     "output_type": "execute_result"
    }
   ],
   "source": [
    "mutable struct SampleArray{T <: Any, N}\n",
    "end\n",
    "\n",
    "const SampleVector{T} = SampleArray{T, 1}"
   ]
  },
  {
   "cell_type": "code",
   "execution_count": 6,
   "id": "8e9ef51b-094b-4393-a27f-fa89ce6cdf5e",
   "metadata": {},
   "outputs": [
    {
     "data": {
      "text/plain": [
       "example (generic function with 2 methods)"
      ]
     },
     "execution_count": 6,
     "metadata": {},
     "output_type": "execute_result"
    }
   ],
   "source": [
    "function example(vec::Vector{Int64})\n",
    "    println(\"the input was a vector\")\n",
    "end\n",
    "\n",
    "function example(vec::Matrix{Int64})\n",
    "    println(\"the input was a matrix\")\n",
    "end"
   ]
  },
  {
   "cell_type": "code",
   "execution_count": 7,
   "id": "e9e0ced9-f830-4fdf-ab44-6c3bfc03ac7a",
   "metadata": {},
   "outputs": [
    {
     "name": "stdout",
     "output_type": "stream",
     "text": [
      "the input was a vector\n",
      "the input was a matrix\n"
     ]
    }
   ],
   "source": [
    "example([5, 6])\n",
    "\n",
    "example([5 6; 7 8])"
   ]
  },
  {
   "cell_type": "code",
   "execution_count": 65,
   "id": "6ef84905-f3f2-41e3-9cdd-578106ba4ec6",
   "metadata": {},
   "outputs": [
    {
     "name": "stdout",
     "output_type": "stream",
     "text": [
      "vector size: (3,) | vector length: 3\n",
      "matrix size: (2, 2) | matrix length: 4\n"
     ]
    }
   ],
   "source": [
    "x = [5, 10, 15]\n",
    "y = [5 10; 15 20]\n",
    "\n",
    "println(\"vector size: $(size(x)) | vector length: $(length(x))\")\n",
    "println(\"matrix size: $(size(y)) | matrix length: $(length(y))\")"
   ]
  },
  {
   "cell_type": "code",
   "execution_count": 67,
   "id": "c475b862-0669-4efd-baac-f4883c70ccbd",
   "metadata": {},
   "outputs": [
    {
     "data": {
      "text/plain": [
       "5×2 Matrix{Int64}:\n",
       "  5   5\n",
       " 10  10\n",
       " 15  15\n",
       "  5  10\n",
       " 15  20"
      ]
     },
     "execution_count": 67,
     "metadata": {},
     "output_type": "execute_result"
    }
   ],
   "source": [
    "vcat(hcat(x, x), y)"
   ]
  },
  {
   "cell_type": "code",
   "execution_count": 68,
   "id": "cac8d849-985c-459d-b7d3-508ace4c9a28",
   "metadata": {},
   "outputs": [
    {
     "data": {
      "text/plain": [
       "3-element Vector{Int64}:\n",
       "  5\n",
       " 10\n",
       " 15"
      ]
     },
     "execution_count": 68,
     "metadata": {},
     "output_type": "execute_result"
    }
   ],
   "source": [
    "x[1:end]"
   ]
  },
  {
   "cell_type": "code",
   "execution_count": 76,
   "id": "8c37fbde-18df-45e1-aa6c-c9faf13e94ed",
   "metadata": {},
   "outputs": [
    {
     "data": {
      "text/plain": [
       "2×2 Matrix{Int64}:\n",
       "  5  10\n",
       " 15  20"
      ]
     },
     "execution_count": 76,
     "metadata": {},
     "output_type": "execute_result"
    }
   ],
   "source": [
    "y"
   ]
  },
  {
   "cell_type": "code",
   "execution_count": 75,
   "id": "e1ebd546-adda-4da2-8609-0d75f416dd0f",
   "metadata": {},
   "outputs": [
    {
     "data": {
      "text/plain": [
       "2×1 Matrix{Int64}:\n",
       "  5\n",
       " 15"
      ]
     },
     "execution_count": 75,
     "metadata": {},
     "output_type": "execute_result"
    }
   ],
   "source": [
    "y[1:2, 1:1]"
   ]
  },
  {
   "cell_type": "code",
   "execution_count": 8,
   "id": "b95d923f-1d52-47c2-8eff-13b2d66353ef",
   "metadata": {
    "scrolled": true
   },
   "outputs": [
    {
     "data": {
      "text/plain": [
       "give_me_my_function (generic function with 1 method)"
      ]
     },
     "execution_count": 8,
     "metadata": {},
     "output_type": "execute_result"
    }
   ],
   "source": [
    "function give_me_my_function()\n",
    "     function my_function(x::String)\n",
    "           println(\"you provided a String\")\n",
    "     end\n",
    "     function my_function(x::Int64)\n",
    "           println(\"you provided an integer\")\n",
    "     end\n",
    "     return(my_function)\n",
    "end"
   ]
  },
  {
   "cell_type": "code",
   "execution_count": 9,
   "id": "68ba7751-979f-4c3c-9c50-9c237b4513d7",
   "metadata": {},
   "outputs": [
    {
     "name": "stdout",
     "output_type": "stream",
     "text": [
      "you provided an integer\n",
      "you provided a String\n"
     ]
    }
   ],
   "source": [
    "myfunc = give_me_my_function()\n",
    "myfunc(5)\n",
    "myfunc(\"hi\")"
   ]
  },
  {
   "cell_type": "code",
   "execution_count": 10,
   "id": "941a5351-caae-4c6e-835a-c4f4ddd29b63",
   "metadata": {},
   "outputs": [
    {
     "data": {
      "text/plain": [
       "10"
      ]
     },
     "execution_count": 10,
     "metadata": {},
     "output_type": "execute_result"
    }
   ],
   "source": [
    "x = v::Int64 -> v += 5\n",
    "x(5)"
   ]
  },
  {
   "cell_type": "code",
   "execution_count": 11,
   "id": "9293cff6-0bce-4627-b84a-c6154c7d519b",
   "metadata": {},
   "outputs": [
    {
     "name": "stdout",
     "output_type": "stream",
     "text": [
      "sum: 15\n"
     ]
    }
   ],
   "source": [
    "x = (x::Int64, y::Int64) -> begin\n",
    "    println(\"sum: $(x + y)\")\n",
    "end\n",
    "\n",
    "x(5, 10)"
   ]
  },
  {
   "cell_type": "code",
   "execution_count": 12,
   "id": "b3fcb4cd-8969-4ba4-bde0-00844c7b0f29",
   "metadata": {},
   "outputs": [
    {
     "data": {
      "text/html": [
       "<div><div style = \"float: left;\"><span>8×2 DataFrame</span></div><div style = \"clear: both;\"></div></div><div class = \"data-frame\" style = \"overflow-x: scroll;\"><table class = \"data-frame\" style = \"margin-bottom: 6px;\"><thead><tr class = \"header\"><th class = \"rowNumber\" style = \"font-weight: bold; text-align: right;\">Row</th><th style = \"text-align: left;\">A</th><th style = \"text-align: left;\">B</th></tr><tr class = \"subheader headerLastRow\"><th class = \"rowNumber\" style = \"font-weight: bold; text-align: right;\"></th><th title = \"Int64\" style = \"text-align: left;\">Int64</th><th title = \"Int64\" style = \"text-align: left;\">Int64</th></tr></thead><tbody><tr><td class = \"rowNumber\" style = \"font-weight: bold; text-align: right;\">1</td><td style = \"text-align: right;\">1</td><td style = \"text-align: right;\">1</td></tr><tr><td class = \"rowNumber\" style = \"font-weight: bold; text-align: right;\">2</td><td style = \"text-align: right;\">3</td><td style = \"text-align: right;\">7</td></tr><tr><td class = \"rowNumber\" style = \"font-weight: bold; text-align: right;\">3</td><td style = \"text-align: right;\">2</td><td style = \"text-align: right;\">2</td></tr><tr><td class = \"rowNumber\" style = \"font-weight: bold; text-align: right;\">4</td><td style = \"text-align: right;\">3</td><td style = \"text-align: right;\">3</td></tr><tr><td class = \"rowNumber\" style = \"font-weight: bold; text-align: right;\">5</td><td style = \"text-align: right;\">6</td><td style = \"text-align: right;\">4</td></tr><tr><td class = \"rowNumber\" style = \"font-weight: bold; text-align: right;\">6</td><td style = \"text-align: right;\">7</td><td style = \"text-align: right;\">1</td></tr><tr><td class = \"rowNumber\" style = \"font-weight: bold; text-align: right;\">7</td><td style = \"text-align: right;\">3</td><td style = \"text-align: right;\">2</td></tr><tr><td class = \"rowNumber\" style = \"font-weight: bold; text-align: right;\">8</td><td style = \"text-align: right;\">9</td><td style = \"text-align: right;\">6</td></tr></tbody></table></div>"
      ],
      "text/latex": [
       "\\begin{tabular}{r|cc}\n",
       "\t& A & B\\\\\n",
       "\t\\hline\n",
       "\t& Int64 & Int64\\\\\n",
       "\t\\hline\n",
       "\t1 & 1 & 1 \\\\\n",
       "\t2 & 3 & 7 \\\\\n",
       "\t3 & 2 & 2 \\\\\n",
       "\t4 & 3 & 3 \\\\\n",
       "\t5 & 6 & 4 \\\\\n",
       "\t6 & 7 & 1 \\\\\n",
       "\t7 & 3 & 2 \\\\\n",
       "\t8 & 9 & 6 \\\\\n",
       "\\end{tabular}\n"
      ],
      "text/plain": [
       "\u001b[1m8×2 DataFrame\u001b[0m\n",
       "\u001b[1m Row \u001b[0m│\u001b[1m A     \u001b[0m\u001b[1m B     \u001b[0m\n",
       "     │\u001b[90m Int64 \u001b[0m\u001b[90m Int64 \u001b[0m\n",
       "─────┼──────────────\n",
       "   1 │     1      1\n",
       "   2 │     3      7\n",
       "   3 │     2      2\n",
       "   4 │     3      3\n",
       "   5 │     6      4\n",
       "   6 │     7      1\n",
       "   7 │     3      2\n",
       "   8 │     9      6"
      ]
     },
     "execution_count": 12,
     "metadata": {},
     "output_type": "execute_result"
    }
   ],
   "source": [
    "using DataFrames\n",
    "df = DataFrame(:A => [1, 3, 2, 3, 6, 7, 3, 9], :B => [1, 7, 2, 3, 4, 1, 2, 6])"
   ]
  },
  {
   "cell_type": "code",
   "execution_count": 13,
   "id": "ecbf7298-b185-4af1-bf7d-182d5ba45683",
   "metadata": {},
   "outputs": [
    {
     "data": {
      "text/html": [
       "<div><div style = \"float: left;\"><span>6×2 DataFrame</span></div><div style = \"clear: both;\"></div></div><div class = \"data-frame\" style = \"overflow-x: scroll;\"><table class = \"data-frame\" style = \"margin-bottom: 6px;\"><thead><tr class = \"header\"><th class = \"rowNumber\" style = \"font-weight: bold; text-align: right;\">Row</th><th style = \"text-align: left;\">A</th><th style = \"text-align: left;\">B</th></tr><tr class = \"subheader headerLastRow\"><th class = \"rowNumber\" style = \"font-weight: bold; text-align: right;\"></th><th title = \"Int64\" style = \"text-align: left;\">Int64</th><th title = \"Int64\" style = \"text-align: left;\">Int64</th></tr></thead><tbody><tr><td class = \"rowNumber\" style = \"font-weight: bold; text-align: right;\">1</td><td style = \"text-align: right;\">3</td><td style = \"text-align: right;\">7</td></tr><tr><td class = \"rowNumber\" style = \"font-weight: bold; text-align: right;\">2</td><td style = \"text-align: right;\">3</td><td style = \"text-align: right;\">3</td></tr><tr><td class = \"rowNumber\" style = \"font-weight: bold; text-align: right;\">3</td><td style = \"text-align: right;\">6</td><td style = \"text-align: right;\">4</td></tr><tr><td class = \"rowNumber\" style = \"font-weight: bold; text-align: right;\">4</td><td style = \"text-align: right;\">7</td><td style = \"text-align: right;\">1</td></tr><tr><td class = \"rowNumber\" style = \"font-weight: bold; text-align: right;\">5</td><td style = \"text-align: right;\">3</td><td style = \"text-align: right;\">2</td></tr><tr><td class = \"rowNumber\" style = \"font-weight: bold; text-align: right;\">6</td><td style = \"text-align: right;\">9</td><td style = \"text-align: right;\">6</td></tr></tbody></table></div>"
      ],
      "text/latex": [
       "\\begin{tabular}{r|cc}\n",
       "\t& A & B\\\\\n",
       "\t\\hline\n",
       "\t& Int64 & Int64\\\\\n",
       "\t\\hline\n",
       "\t1 & 3 & 7 \\\\\n",
       "\t2 & 3 & 3 \\\\\n",
       "\t3 & 6 & 4 \\\\\n",
       "\t4 & 7 & 1 \\\\\n",
       "\t5 & 3 & 2 \\\\\n",
       "\t6 & 9 & 6 \\\\\n",
       "\\end{tabular}\n"
      ],
      "text/plain": [
       "\u001b[1m6×2 DataFrame\u001b[0m\n",
       "\u001b[1m Row \u001b[0m│\u001b[1m A     \u001b[0m\u001b[1m B     \u001b[0m\n",
       "     │\u001b[90m Int64 \u001b[0m\u001b[90m Int64 \u001b[0m\n",
       "─────┼──────────────\n",
       "   1 │     3      7\n",
       "   2 │     3      3\n",
       "   3 │     6      4\n",
       "   4 │     7      1\n",
       "   5 │     3      2\n",
       "   6 │     9      6"
      ]
     },
     "execution_count": 13,
     "metadata": {},
     "output_type": "execute_result"
    }
   ],
   "source": [
    "sample = filter(row -> row[:A] > 2, df)"
   ]
  },
  {
   "cell_type": "code",
   "execution_count": 14,
   "id": "48bd558a-1390-4793-ae2d-dbfa74d19308",
   "metadata": {},
   "outputs": [
    {
     "name": "stdout",
     "output_type": "stream",
     "text": [
      "[2, 3, 4]\n"
     ]
    }
   ],
   "source": [
    "values = [2, 8, 7, 5, 3, 4]\n",
    "\n",
    "filtered_copy = filter(x -> x < 5, values)\n",
    "println(filtered_copy)"
   ]
  },
  {
   "cell_type": "code",
   "execution_count": 15,
   "id": "62b700ed-938c-48cf-aeeb-24d8f36d81e8",
   "metadata": {
    "scrolled": true
   },
   "outputs": [
    {
     "name": "stdout",
     "output_type": "stream",
     "text": [
      "[2, 5, 3, 4]\n"
     ]
    }
   ],
   "source": [
    "filter!(v -> v < 6, values); println(values)"
   ]
  },
  {
   "cell_type": "code",
   "execution_count": 16,
   "id": "49b90b58-bada-4f45-90d1-a2f79ca27037",
   "metadata": {},
   "outputs": [
    {
     "name": "stdout",
     "output_type": "stream",
     "text": [
      "[2, 1, 5, 1, 9, 5, 10, 7, 6, 10, 8, 10, 6, 10, 3, 3, 3, 10, 2, 2, 3, 5, 8, 9, 1, 1, 10, 6, 7, 8, 7, 3, 4, 2, 3, 9, 1, 4, 9, 4, 1, 4, 7, 5, 7, 4, 2, 5, 9, 3, 5, 5, 3, 5, 1, 8, 5, 2, 10, 10, 3, 2, 2, 5, 2, 10, 5, 6, 4, 9, 2, 2, 6, 4, 6, 7, 10, 5, 9, 4, 10, 6, 3, 3, 7, 10, 5, 8, 7, 8, 5, 2, 5, 4, 8, 6, 4, 1, 8, 1, 7, 2, 1, 10, 9, 1, 1, 5, 5, 3, 7, 8, 6, 5, 10, 8, 7, 6, 8, 10, 6, 6, 2, 2, 10, 3, 10, 1, 5, 6, 6, 8, 8, 7, 5, 4, 6, 2, 7, 1, 8, 2, 7, 5, 7, 8, 1, 6, 5, 6, 5, 3, 10, 6, 10, 4, 7, 8, 8, 3, 9, 8, 9, 9, 1, 5, 5, 9, 6, 1, 1, 10, 5, 2, 2, 4, 3, 3, 4, 2, 6, 1, 5, 10, 2, 4, 1, 9, 4, 3, 1, 10, 4, 10, 10, 3, 8, 9, 9, 8]\n",
      "[0.6249090219242578, 0.28089344924878257, 1.6569557399506838, 0.28089344924878257, 3.0330180306525847, 1.6569557399506838, 3.37703360332806, 2.3449868853016342, 2.000971312626159, 3.37703360332806, 2.6890024579771095, 3.37703360332806, 2.000971312626159, 3.37703360332806, 0.9689245945997332, 0.9689245945997332, 0.9689245945997332, 3.37703360332806, 0.6249090219242578, 0.6249090219242578, 0.9689245945997332, 1.6569557399506838, 2.6890024579771095, 3.0330180306525847, 0.28089344924878257, 0.28089344924878257, 3.37703360332806, 2.000971312626159, 2.3449868853016342, 2.6890024579771095, 2.3449868853016342, 0.9689245945997332, 1.3129401672752086, 0.6249090219242578, 0.9689245945997332, 3.0330180306525847, 0.28089344924878257, 1.3129401672752086, 3.0330180306525847, 1.3129401672752086, 0.28089344924878257, 1.3129401672752086, 2.3449868853016342, 1.6569557399506838, 2.3449868853016342, 1.3129401672752086, 0.6249090219242578, 1.6569557399506838, 3.0330180306525847, 0.9689245945997332, 1.6569557399506838, 1.6569557399506838, 0.9689245945997332, 1.6569557399506838, 0.28089344924878257, 2.6890024579771095, 1.6569557399506838, 0.6249090219242578, 3.37703360332806, 3.37703360332806, 0.9689245945997332, 0.6249090219242578, 0.6249090219242578, 1.6569557399506838, 0.6249090219242578, 3.37703360332806, 1.6569557399506838, 2.000971312626159, 1.3129401672752086, 3.0330180306525847, 0.6249090219242578, 0.6249090219242578, 2.000971312626159, 1.3129401672752086, 2.000971312626159, 2.3449868853016342, 3.37703360332806, 1.6569557399506838, 3.0330180306525847, 1.3129401672752086, 3.37703360332806, 2.000971312626159, 0.9689245945997332, 0.9689245945997332, 2.3449868853016342, 3.37703360332806, 1.6569557399506838, 2.6890024579771095, 2.3449868853016342, 2.6890024579771095, 1.6569557399506838, 0.6249090219242578, 1.6569557399506838, 1.3129401672752086, 2.6890024579771095, 2.000971312626159, 1.3129401672752086, 0.28089344924878257, 2.6890024579771095, 0.28089344924878257, 2.3449868853016342, 0.6249090219242578, 0.28089344924878257, 3.37703360332806, 3.0330180306525847, 0.28089344924878257, 0.28089344924878257, 1.6569557399506838, 1.6569557399506838, 0.9689245945997332, 2.3449868853016342, 2.6890024579771095, 2.000971312626159, 1.6569557399506838, 3.37703360332806, 2.6890024579771095, 2.3449868853016342, 2.000971312626159, 2.6890024579771095, 3.37703360332806, 2.000971312626159, 2.000971312626159, 0.6249090219242578, 0.6249090219242578, 3.37703360332806, 0.9689245945997332, 3.37703360332806, 0.28089344924878257, 1.6569557399506838, 2.000971312626159, 2.000971312626159, 2.6890024579771095, 2.6890024579771095, 2.3449868853016342, 1.6569557399506838, 1.3129401672752086, 2.000971312626159, 0.6249090219242578, 2.3449868853016342, 0.28089344924878257, 2.6890024579771095, 0.6249090219242578, 2.3449868853016342, 1.6569557399506838, 2.3449868853016342, 2.6890024579771095, 0.28089344924878257, 2.000971312626159, 1.6569557399506838, 2.000971312626159, 1.6569557399506838, 0.9689245945997332, 3.37703360332806, 2.000971312626159, 3.37703360332806, 1.3129401672752086, 2.3449868853016342, 2.6890024579771095, 2.6890024579771095, 0.9689245945997332, 3.0330180306525847, 2.6890024579771095, 3.0330180306525847, 3.0330180306525847, 0.28089344924878257, 1.6569557399506838, 1.6569557399506838, 3.0330180306525847, 2.000971312626159, 0.28089344924878257, 0.28089344924878257, 3.37703360332806, 1.6569557399506838, 0.6249090219242578, 0.6249090219242578, 1.3129401672752086, 0.9689245945997332, 0.9689245945997332, 1.3129401672752086, 0.6249090219242578, 2.000971312626159, 0.28089344924878257, 1.6569557399506838, 3.37703360332806, 0.6249090219242578, 1.3129401672752086, 0.28089344924878257, 3.0330180306525847, 1.3129401672752086, 0.9689245945997332, 0.28089344924878257, 3.37703360332806, 1.3129401672752086, 3.37703360332806, 3.37703360332806, 0.9689245945997332, 2.6890024579771095, 3.0330180306525847, 3.0330180306525847, 2.6890024579771095]\n"
     ]
    }
   ],
   "source": [
    "using Statistics\n",
    "\n",
    "values = [rand(1:10) for i in 1:200]\n",
    "println(values)\n",
    "function normalize(x::Number, mu::Number, std::Number)\n",
    "    (x - mu) / std\n",
    "end\n",
    "\n",
    "println(broadcast(normalize, values, length(values) / sum(values), Statistics.std(values)))"
   ]
  },
  {
   "cell_type": "code",
   "execution_count": 17,
   "id": "0d5384cc-f5ab-4e6a-8514-45d469f28b74",
   "metadata": {},
   "outputs": [],
   "source": [
    "# comprehension\n",
    "my_zeros = [0 for x in 1:100]\n",
    "\n",
    "# alternative\n",
    "my_zeros = Vector{Int64}()\n",
    "for x in 1:100\n",
    "    push!(my_zeros, x)\n",
    "end"
   ]
  },
  {
   "cell_type": "code",
   "execution_count": 18,
   "id": "2c579fdb-ae8b-42d1-a223-6834b233a476",
   "metadata": {},
   "outputs": [
    {
     "data": {
      "text/plain": [
       "Dict{Int64, String} with 2 entries:\n",
       "  6 => \"hank\"\n",
       "  2 => \"john\""
      ]
     },
     "execution_count": 18,
     "metadata": {},
     "output_type": "execute_result"
    }
   ],
   "source": [
    "# dict comprehension\n",
    "names = [\"steve\", \"john\", \"hank\"]\n",
    "dct = Dict{Int64, String}(rand(1:10) => names[e] for e in 1:length(names))"
   ]
  },
  {
   "cell_type": "code",
   "execution_count": 19,
   "id": "9a29ffe6-5e29-4fd7-a726-48f5b18bf486",
   "metadata": {},
   "outputs": [
    {
     "data": {
      "text/plain": [
       "20-element Vector{Int64}:\n",
       " 8\n",
       " 4\n",
       " 7\n",
       " 2\n",
       " 1\n",
       " 2\n",
       " 5\n",
       " 9\n",
       " 1\n",
       " 5\n",
       " 1\n",
       " 4\n",
       " 6\n",
       " 3\n",
       " 6\n",
       " 9\n",
       " 3\n",
       " 1\n",
       " 6\n",
       " 5"
      ]
     },
     "execution_count": 19,
     "metadata": {},
     "output_type": "execute_result"
    }
   ],
   "source": [
    "# array comprehension\n",
    "values = [rand(1:10) for x in 1:20]"
   ]
  },
  {
   "cell_type": "code",
   "execution_count": 20,
   "id": "612f10f8-ce00-4442-8f10-c0f575b8073c",
   "metadata": {},
   "outputs": [
    {
     "data": {
      "text/plain": [
       "\"~/projects/example/sample.txt\""
      ]
     },
     "execution_count": 20,
     "metadata": {},
     "output_type": "execute_result"
    }
   ],
   "source": [
    "# tuple comprehension\n",
    "dir_parts = [\"DIRECTORY: ~\", \"DIRECTORY: projects\", \"DIRECTORY: example\", \"FILE: sample.txt\"]\n",
    "join((replace(part, \"DIRECTORY: \" => \"\", \"FILE: \" => \"\") for part in dir_parts), \"/\")"
   ]
  },
  {
   "cell_type": "code",
   "execution_count": 21,
   "id": "81f9d38c-85e1-41e0-9d6e-25580b823e7d",
   "metadata": {},
   "outputs": [
    {
     "data": {
      "text/plain": [
       "50-element Vector{Int64}:\n",
       "  55\n",
       "  60\n",
       "  65\n",
       "  70\n",
       "  75\n",
       "  80\n",
       "  85\n",
       "  90\n",
       "  95\n",
       " 100\n",
       " 105\n",
       " 110\n",
       " 115\n",
       "   ⋮\n",
       " 245\n",
       " 250\n",
       " 255\n",
       " 260\n",
       " 265\n",
       " 270\n",
       " 275\n",
       " 280\n",
       " 285\n",
       " 290\n",
       " 295\n",
       " 300"
      ]
     },
     "execution_count": 21,
     "metadata": {},
     "output_type": "execute_result"
    }
   ],
   "source": [
    "# multi-line comprehension\n",
    "values = [begin\n",
    "        y = x + 10\n",
    "        y * 5\n",
    "    end for x in 1:50]"
   ]
  },
  {
   "cell_type": "code",
   "execution_count": 22,
   "id": "6c250ae4-3c09-4253-872b-e6205dcebe81",
   "metadata": {},
   "outputs": [],
   "source": [
    "import Base: getindex, setindex!, in\n",
    "mutable struct Employee\n",
    "    EIN::Int64\n",
    "    f_name::String\n",
    "    l_name::String\n",
    "end"
   ]
  },
  {
   "cell_type": "code",
   "execution_count": 43,
   "id": "5d7ddb83-5417-43e7-9c9c-55c1975bb3ea",
   "metadata": {},
   "outputs": [
    {
     "data": {
      "text/plain": [
       "in (generic function with 60 methods)"
      ]
     },
     "execution_count": 43,
     "metadata": {},
     "output_type": "execute_result"
    }
   ],
   "source": [
    "function in(name::String, employees::Vector{Employee})\n",
    "    names = split(replace(name, \" \" => \"\"), \",\")\n",
    "    f_name = names[2]\n",
    "    l_name = names[1]\n",
    "    found = findfirst(emp::Employee -> emp.l_name == l_name && emp.f_name == f_name, employees)\n",
    "    ~(isnothing(found))\n",
    "end\n"
   ]
  },
  {
   "cell_type": "code",
   "execution_count": 44,
   "id": "d4a15344-ea83-485b-a266-ec660603238b",
   "metadata": {},
   "outputs": [
    {
     "data": {
      "text/plain": [
       "getindex (generic function with 357 methods)"
      ]
     },
     "execution_count": 44,
     "metadata": {},
     "output_type": "execute_result"
    }
   ],
   "source": [
    "function getindex(employees::Vector{Employee}, l_name::String, f_name::String)\n",
    "    found = findfirst(emp::Employee -> emp.l_name == l_name && emp.f_name == f_name, employees)\n",
    "    if isnothing(found)\n",
    "        throw(BoundsError())\n",
    "    end\n",
    "    employees[found]::Employee\n",
    "end"
   ]
  },
  {
   "cell_type": "code",
   "execution_count": 45,
   "id": "13170b58-9785-4f35-9cf3-a8a84fbe414d",
   "metadata": {},
   "outputs": [
    {
     "data": {
      "text/plain": [
       "3-element Vector{Employee}:\n",
       " Employee(55, \"Emma\", \"Boudreau\")\n",
       " Employee(23, \"Sam\", \"Novel\")\n",
       " Employee(47, \"steve\", \"phillips\")"
      ]
     },
     "execution_count": 45,
     "metadata": {},
     "output_type": "execute_result"
    }
   ],
   "source": [
    "employees = [Employee(55, \"Emma\", \"Boudreau\"), Employee(23, \"Sam\", \"Novel\"), Employee(47, \"steve\", \"phillips\")]"
   ]
  },
  {
   "cell_type": "code",
   "execution_count": 46,
   "id": "a756d26e-1e46-484d-9db9-efbe646f1f1b",
   "metadata": {},
   "outputs": [
    {
     "name": "stdout",
     "output_type": "stream",
     "text": [
      "Employee(55, \"Emma\", \"Boudreau\")\n"
     ]
    }
   ],
   "source": [
    "if \"Boudreau, Emma\" in employees\n",
    "    println(employees[\"Boudreau\", \"Emma\"])\n",
    "end\n",
    "\n",
    "if \"Jones, Hank\" in employees\n",
    "    println(employees[\"Jones\", \"Hank\"])\n",
    "end"
   ]
  },
  {
   "cell_type": "code",
   "execution_count": 47,
   "id": "d31c70f0-dbb0-4d5f-ba24-e93bf538e3c8",
   "metadata": {},
   "outputs": [
    {
     "data": {
      "text/plain": [
       "19:20"
      ]
     },
     "execution_count": 47,
     "metadata": {},
     "output_type": "execute_result"
    }
   ],
   "source": [
    "my_string = \"Julia is awesome! c:\"\n",
    "\n",
    "smile = findfirst(\"c:\", my_string)"
   ]
  },
  {
   "cell_type": "code",
   "execution_count": 48,
   "id": "984cbf60-45e4-4555-86ff-a3f282c52417",
   "metadata": {},
   "outputs": [
    {
     "data": {
      "text/plain": [
       "4-element Vector{Int64}:\n",
       "  1\n",
       "  2\n",
       " 10\n",
       " 11"
      ]
     },
     "execution_count": 48,
     "metadata": {},
     "output_type": "execute_result"
    }
   ],
   "source": [
    "accumulate(+, [1, 1, 8, 1])"
   ]
  },
  {
   "cell_type": "code",
   "execution_count": 52,
   "id": "521fb039-5ea4-442e-9985-1866fef5995e",
   "metadata": {},
   "outputs": [
    {
     "data": {
      "text/plain": [
       "3-element Vector{Float64}:\n",
       " 100.0\n",
       "  20.0\n",
       "   4.0"
      ]
     },
     "execution_count": 52,
     "metadata": {},
     "output_type": "execute_result"
    }
   ],
   "source": [
    "accumulate(/, [100, 5, 5])"
   ]
  },
  {
   "cell_type": "code",
   "execution_count": 57,
   "id": "c317f4c2-783e-42c1-8a39-4a268a64d465",
   "metadata": {},
   "outputs": [
    {
     "data": {
      "text/plain": [
       "4×6 Matrix{Float64}:\n",
       " 108.0  140.0  172.0  204.0  236.0  268.0\n",
       " 116.0  148.0  180.0  212.0  244.0  276.0\n",
       " 124.0  156.0  188.0  220.0  252.0  284.0\n",
       " 132.0  164.0  196.0  228.0  260.0  292.0"
      ]
     },
     "execution_count": 57,
     "metadata": {},
     "output_type": "execute_result"
    }
   ],
   "source": [
    "accumulate(+, fill(8, 4, 6), init=100.0)"
   ]
  },
  {
   "cell_type": "code",
   "execution_count": 59,
   "id": "4893d90c-8f64-429b-a82c-d425766bfb75",
   "metadata": {},
   "outputs": [
    {
     "data": {
      "text/plain": [
       "12-element Vector{Int64}:\n",
       " 1\n",
       " 2\n",
       " 3\n",
       " 4\n",
       " 1\n",
       " 2\n",
       " 3\n",
       " 4\n",
       " 1\n",
       " 2\n",
       " 3\n",
       " 4"
      ]
     },
     "execution_count": 59,
     "metadata": {},
     "output_type": "execute_result"
    }
   ],
   "source": [
    "repeat([1, 2, 3, 4], 3)"
   ]
  },
  {
   "cell_type": "code",
   "execution_count": 62,
   "id": "0cda624c-9ee5-44b6-ad90-d9d61df7cd5b",
   "metadata": {},
   "outputs": [
    {
     "data": {
      "text/plain": [
       "40-element Vector{Int64}:\n",
       " 1\n",
       " 1\n",
       " 2\n",
       " 2\n",
       " 3\n",
       " 3\n",
       " 4\n",
       " 4\n",
       " 1\n",
       " 1\n",
       " 2\n",
       " 2\n",
       " 3\n",
       " ⋮\n",
       " 3\n",
       " 3\n",
       " 4\n",
       " 4\n",
       " 1\n",
       " 1\n",
       " 2\n",
       " 2\n",
       " 3\n",
       " 3\n",
       " 4\n",
       " 4"
      ]
     },
     "execution_count": 62,
     "metadata": {},
     "output_type": "execute_result"
    }
   ],
   "source": [
    "repeat([1, 2, 3, 4], outer = 5, inner = 2)"
   ]
  },
  {
   "cell_type": "code",
   "execution_count": 64,
   "id": "feb883dd-0481-4c50-bde1-2f0044394d69",
   "metadata": {},
   "outputs": [
    {
     "data": {
      "text/plain": [
       "4-element Vector{Int64}:\n",
       "  5\n",
       "  5\n",
       " 10\n",
       " 10"
      ]
     },
     "execution_count": 64,
     "metadata": {},
     "output_type": "execute_result"
    }
   ],
   "source": [
    "repeat([5, 10], inner=2)"
   ]
  },
  {
   "cell_type": "code",
   "execution_count": null,
   "id": "254e79d5-9f4a-4092-a4a5-ea4425824937",
   "metadata": {},
   "outputs": [],
   "source": []
  }
 ],
 "metadata": {
  "kernelspec": {
   "display_name": "Julia 1.9.2",
   "language": "julia",
   "name": "julia-1.9"
  },
  "language_info": {
   "file_extension": ".jl",
   "mimetype": "application/julia",
   "name": "julia",
   "version": "1.9.2"
  }
 },
 "nbformat": 4,
 "nbformat_minor": 5
}

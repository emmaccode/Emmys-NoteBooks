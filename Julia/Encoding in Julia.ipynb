{
 "cells": [
  {
   "cell_type": "code",
   "execution_count": 2,
   "id": "428a25f1-4664-4888-8482-f0011710fde1",
   "metadata": {},
   "outputs": [
    {
     "name": "stdout",
     "output_type": "stream",
     "text": [
      "1 | 2\n",
      "1 | 2\n"
     ]
    },
    {
     "name": "stderr",
     "output_type": "stream",
     "text": [
      "\u001b[36m\u001b[1m[ \u001b[22m\u001b[39m\u001b[36m\u001b[1mInfo: \u001b[22m\u001b[39m12345\n",
      "\u001b[36m\u001b[1m[ \u001b[22m\u001b[39m\u001b[36m\u001b[1mInfo: \u001b[22m\u001b[39m12345\n",
      "\u001b[36m\u001b[1m[ \u001b[22m\u001b[39m\u001b[36m\u001b[1mInfo: \u001b[22m\u001b[39m12345\n",
      "\u001b[36m\u001b[1m[ \u001b[22m\u001b[39m\u001b[36m\u001b[1mInfo: \u001b[22m\u001b[39m12345\n",
      "\u001b[36m\u001b[1m[ \u001b[22m\u001b[39m\u001b[36m\u001b[1mInfo: \u001b[22m\u001b[39m12345\n"
     ]
    }
   ],
   "source": [
    "str = \"12345\"\n",
    "vec = ['1', '2', '3', '4', '5']\n",
    "println(vec[1], \" | \", vec[2])\n",
    "println(str[1], \" | \", str[2])\n",
    "\n",
    "for value in str\n",
    "    @info str\n",
    "end"
   ]
  },
  {
   "cell_type": "code",
   "execution_count": 4,
   "id": "f98f51aa-746c-4d92-b2fa-83cb8d54ce37",
   "metadata": {},
   "outputs": [
    {
     "data": {
      "text/plain": [
       "1-element Vector{Int64}:\n",
       " 10"
      ]
     },
     "execution_count": 4,
     "metadata": {},
     "output_type": "execute_result"
    }
   ],
   "source": [
    "findall(c::Char -> c == 'a', \"hello, I am your friend\")"
   ]
  },
  {
   "cell_type": "code",
   "execution_count": 6,
   "id": "e906ba75-91c6-4de0-8167-5352b9fc9596",
   "metadata": {},
   "outputs": [
    {
     "name": "stdout",
     "output_type": "stream",
     "text": [
      "Char\n",
      "String\n"
     ]
    }
   ],
   "source": [
    "println(typeof(\"hello\"[1]))\n",
    "\n",
    "println(typeof(\"hello\"[1:3]))"
   ]
  },
  {
   "cell_type": "code",
   "execution_count": 22,
   "id": "93a607e4-5460-411a-bb52-aaa71cbd5c6a",
   "metadata": {},
   "outputs": [
    {
     "name": "stdout",
     "output_type": "stream",
     "text": [
      "9\n"
     ]
    },
    {
     "name": "stderr",
     "output_type": "stream",
     "text": [
      "\u001b[36m\u001b[1m[ \u001b[22m\u001b[39m\u001b[36m\u001b[1mInfo: \u001b[22m\u001b[39mfirst index presented error:\n",
      "StringIndexError: invalid index [8], valid nearby indices [6]=>'₂', [9]=>' '\n",
      "\n",
      "\n",
      "\u001b[33m\u001b[1m┌ \u001b[22m\u001b[39m\u001b[33m\u001b[1mWarning: \u001b[22m\u001b[39mappropraite value: ₂\n",
      "\u001b[33m\u001b[1m└ \u001b[22m\u001b[39m\u001b[90m@ Main In[22]:12\u001b[39m\n"
     ]
    }
   ],
   "source": [
    "str = \"hello₂ and how are you?\"\n",
    "position = findfirst(x -> x == ' ', str)\n",
    "\n",
    "try\n",
    "    value = str[position - 1]\n",
    "catch e\n",
    "    @info \"first index presented error:\"\n",
    "    showerror(stderr, e)\n",
    "    println(position)\n",
    "    value = str[position - 3]\n",
    "    println(stderr, \"\\n\\n\")\n",
    "    @warn \"appropraite value: $value\"\n",
    "end\n",
    "\n"
   ]
  },
  {
   "cell_type": "code",
   "execution_count": 25,
   "id": "7932d50b-73a3-4e4a-9b3c-bbff76347c4b",
   "metadata": {},
   "outputs": [
    {
     "data": {
      "text/plain": [
       "6-element Vector{UInt8}:\n",
       " 0x68\n",
       " 0x65\n",
       " 0x6c\n",
       " 0x6c\n",
       " 0x6f\n",
       " 0x21"
      ]
     },
     "execution_count": 25,
     "metadata": {},
     "output_type": "execute_result"
    }
   ],
   "source": [
    "value = Vector{UInt8}(\"hello!\")"
   ]
  },
  {
   "cell_type": "code",
   "execution_count": 26,
   "id": "e5579c54-f687-41d7-bcf4-0f653919511d",
   "metadata": {},
   "outputs": [
    {
     "data": {
      "text/plain": [
       "\"hello!\""
      ]
     },
     "execution_count": 26,
     "metadata": {},
     "output_type": "execute_result"
    }
   ],
   "source": [
    "value = String(value)"
   ]
  },
  {
   "cell_type": "code",
   "execution_count": 27,
   "id": "67138969-1f46-4044-b5d9-1899be8fcf97",
   "metadata": {},
   "outputs": [
    {
     "ename": "LoadError",
     "evalue": "ArgumentError: String not a primitive type",
     "output_type": "error",
     "traceback": [
      "ArgumentError: String not a primitive type",
      "",
      "Stacktrace:",
      " [1] \u001b[0m\u001b[1mbitstring\u001b[22m\u001b[0m\u001b[1m(\u001b[22m\u001b[90mx\u001b[39m::\u001b[0mString\u001b[0m\u001b[1m)\u001b[22m",
      "\u001b[90m   @\u001b[39m \u001b[90mBase\u001b[39m \u001b[90m./\u001b[39m\u001b[90m\u001b[4mintfuncs.jl:959\u001b[24m\u001b[39m",
      " [2] top-level scope",
      "\u001b[90m   @\u001b[39m \u001b[90m\u001b[4mIn[27]:1\u001b[24m\u001b[39m"
     ]
    }
   ],
   "source": [
    "bitstring(\"example\")"
   ]
  },
  {
   "cell_type": "code",
   "execution_count": 28,
   "id": "ae02ec32-4223-44af-bdba-4311981e66cb",
   "metadata": {},
   "outputs": [
    {
     "data": {
      "text/plain": [
       "\"01100101000000000000000000000000\""
      ]
     },
     "execution_count": 28,
     "metadata": {},
     "output_type": "execute_result"
    }
   ],
   "source": [
    "bitstring('e')"
   ]
  },
  {
   "cell_type": "code",
   "execution_count": 29,
   "id": "5d719493-6e64-4c6e-9737-64d9ea7784fd",
   "metadata": {},
   "outputs": [
    {
     "data": {
      "text/plain": [
       "\"01100101000000000000000000000000011110000000000000000000000000000110000100000000000000000000000001101101000000000000000000000000011100000000000000000000000000000110110000000000000000000000000001100101000000000000000000000000\""
      ]
     },
     "execution_count": 29,
     "metadata": {},
     "output_type": "execute_result"
    }
   ],
   "source": [
    "join(bitstring(e) for e in \"example\")"
   ]
  },
  {
   "cell_type": "code",
   "execution_count": 30,
   "id": "8a790c1a-7436-40b2-8d98-9fb342ae41cb",
   "metadata": {},
   "outputs": [
    {
     "name": "stdout",
     "output_type": "stream",
     "text": [
      "8 bit bitstring:01100101 length: 8\n",
      "32 bit bitstring:01100101000000000000000000000000  length: 32\n"
     ]
    }
   ],
   "source": [
    "thtwo = bitstring('e')\n",
    "eight = bitstring(UInt8('e'))\n",
    "println(\"8 bit bitstring:\" * eight * \" length: \" * string(length(eight)))\n",
    "println(\"32 bit bitstring:\" * thtwo * \"  length: \" * string(length(thtwo)))"
   ]
  },
  {
   "cell_type": "code",
   "execution_count": 31,
   "id": "6478095c-3239-4ad1-82f1-2ecb848cfa0e",
   "metadata": {},
   "outputs": [
    {
     "data": {
      "text/plain": [
       "\"01100101\""
      ]
     },
     "execution_count": 31,
     "metadata": {},
     "output_type": "execute_result"
    }
   ],
   "source": [
    "eight"
   ]
  },
  {
   "cell_type": "code",
   "execution_count": 33,
   "id": "6c79748f-e19a-4f0b-8153-2f15b0cf2c8f",
   "metadata": {},
   "outputs": [
    {
     "data": {
      "text/plain": [
       "101"
      ]
     },
     "execution_count": 33,
     "metadata": {},
     "output_type": "execute_result"
    }
   ],
   "source": [
    "Int64(parse(UInt8, eight, base = 2))"
   ]
  },
  {
   "cell_type": "code",
   "execution_count": null,
   "id": "d81050c6-bcaf-4822-9e9c-f9432dab6712",
   "metadata": {},
   "outputs": [],
   "source": []
  }
 ],
 "metadata": {
  "kernelspec": {
   "display_name": "Julia 1.11.5",
   "language": "julia",
   "name": "julia-1.11"
  },
  "language_info": {
   "file_extension": ".jl",
   "mimetype": "application/julia",
   "name": "julia",
   "version": "1.11.5"
  }
 },
 "nbformat": 4,
 "nbformat_minor": 5
}

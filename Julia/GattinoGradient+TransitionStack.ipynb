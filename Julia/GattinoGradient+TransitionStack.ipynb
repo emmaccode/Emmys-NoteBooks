{
 "cells": [
  {
   "cell_type": "code",
   "execution_count": null,
   "id": "f4572610-4f5a-4c7e-a84b-d3d817b9e073",
   "metadata": {},
   "outputs": [],
   "source": [
    "function rgba(r::Number, g::Number, b::Number, a::Number = 1.0)\n",
    "    \"rgb($r,$g,$b,$a)\"::String\n",
    "end"
   ]
  },
  {
   "cell_type": "code",
   "execution_count": null,
   "id": "0adb92b4-c328-42ae-bec2-3131b2c0bd12",
   "metadata": {},
   "outputs": [],
   "source": [
    "using Revise\n",
    "using DataFrames\n",
    "using Pkg; Pkg.activate(\"Gattino.jl\")\n",
    "using Gattino"
   ]
  },
  {
   "cell_type": "code",
   "execution_count": null,
   "id": "dcbe5acb-6818-4cc3-835a-1c613ea1e183",
   "metadata": {},
   "outputs": [],
   "source": [
    "df = DataFrame(:food => [\"pasta\", \"pizza\", \"wings\", \"stir fry\"], :votes => [10, 15, 3, 6], :cost => [20, 30, 10, 10])"
   ]
  },
  {
   "cell_type": "code",
   "execution_count": null,
   "id": "7c145bdf-4b22-4ae2-b3c3-c0fb6df43443",
   "metadata": {},
   "outputs": [],
   "source": [
    "hist(df, \"food\", \"votes\", ymin = 0, ymax = 20)"
   ]
  },
  {
   "cell_type": "code",
   "execution_count": null,
   "id": "b8e31632-4e0e-45e4-b175-e49cd14871cd",
   "metadata": {},
   "outputs": [],
   "source": [
    "scatter(df, \"votes\", \"cost\", ymin = -100, ymax = 100, xmin = -100, xmax = 100)"
   ]
  },
  {
   "cell_type": "code",
   "execution_count": null,
   "id": "8290ab25-3565-450b-92cc-8fc622045925",
   "metadata": {},
   "outputs": [],
   "source": [
    "df[!, \"cost\"]"
   ]
  },
  {
   "cell_type": "code",
   "execution_count": null,
   "id": "62219198-4d35-4d5c-89e8-f3a71c381e20",
   "metadata": {},
   "outputs": [],
   "source": [
    "line(df, ymax = 5, ymin = 0)"
   ]
  },
  {
   "cell_type": "code",
   "execution_count": null,
   "id": "82a278e9-3c3f-4b95-bc03-bd4fe37f5dd1",
   "metadata": {},
   "outputs": [],
   "source": [
    "line([1, 2, 3, 4, 5], [1, 2, 3, 4, 5], ymax = 50, ymin = 0, xmax = 10, xmin = -1)"
   ]
  },
  {
   "cell_type": "code",
   "execution_count": null,
   "id": "049bbe1d-a0b1-436a-b296-1bac548df63f",
   "metadata": {},
   "outputs": [],
   "source": [
    "x = [30, 20, 80, 10]\n",
    "y = [8, 16, 12, 11]\n",
    "mycon = context(500, 500) do con::Context\n",
    "    Gattino.labeled_grid!(con, x, y, [20, 40, 60, 90], [10, 20, 30, 40], xmin = 0, xmax = 100, ymin = 0, ymax = 40)\n",
    "    Gattino.points!(con, x, y, xmin = 0, xmax = 100, ymin = 0, ymax = 40)\n",
    "end"
   ]
  },
  {
   "cell_type": "code",
   "execution_count": null,
   "id": "b6f189e3-32bc-4396-b8cf-82577d886fc5",
   "metadata": {},
   "outputs": [],
   "source": [
    "reverse([1, 2, 3])"
   ]
  },
  {
   "cell_type": "code",
   "execution_count": null,
   "id": "8f2be88f-ce76-4697-834b-4e8fb81130a6",
   "metadata": {},
   "outputs": [],
   "source": [
    "df = DataFrame(:day => [1, 2, 3, 4, 5], :red => [50, 25, 30, 22, 5], :green => [22, 33, 29, 38, 20], \n",
    ":blue => [65, 22, 33, 48, 22])"
   ]
  },
  {
   "cell_type": "code",
   "execution_count": null,
   "id": "cdc83177-775e-448a-87fd-2f509d090873",
   "metadata": {},
   "outputs": [],
   "source": [
    "line(df, title = \"video game scores\", xlabel = \"day\", ylabel = \"daily score\", \n",
    "ymax = 80, ymin = 0)"
   ]
  },
  {
   "cell_type": "code",
   "execution_count": null,
   "id": "04133227-de7b-4092-b196-38552755b2be",
   "metadata": {},
   "outputs": [],
   "source": [
    "scatter(df)"
   ]
  },
  {
   "cell_type": "code",
   "execution_count": null,
   "id": "955c0534-f3d9-4ba8-b565-231e72f8f392",
   "metadata": {},
   "outputs": [],
   "source": [
    "a = keyframes(\"fadein\")\n",
    "keyframes!(a, 0percent, \"opacity\" => 0percent)\n",
    "keyframes!(a, 100percent, \"opacity\" => 100percent)"
   ]
  },
  {
   "cell_type": "code",
   "execution_count": null,
   "id": "371a9e44-8754-4853-8cc8-f14247da7ce2",
   "metadata": {},
   "outputs": [],
   "source": [
    "scatter([5, 10, 15], [5, 10, 15], ymax = 20, ymin = 0, xmax = 20, xmin = 0)"
   ]
  },
  {
   "cell_type": "code",
   "execution_count": null,
   "id": "7a65490e-5b27-4438-9e30-a49a7c7e6793",
   "metadata": {},
   "outputs": [],
   "source": [
    "scat = scatter(df)\n",
    "Gattino.rename_layer!(scat, \"blue\", \"samp\")\n",
    "Gattino.style!(scat, \"samp\", a)\n",
    "scat"
   ]
  },
  {
   "cell_type": "code",
   "execution_count": null,
   "id": "4772293c-d234-4492-bb1e-1a8b4a162b83",
   "metadata": {},
   "outputs": [],
   "source": [
    "red = 1"
   ]
  },
  {
   "cell_type": "code",
   "execution_count": null,
   "id": "ed22e8c2-078a-4d79-8fbd-2ce493aec0ce",
   "metadata": {},
   "outputs": [],
   "source": [
    "make_gradient(base_color::Tuple, len::Int64, scaler::Int64 ...) = begin\n",
    "    base = [base_color ...]\n",
    "    scaler = [scaler ...]\n",
    "    n = length(scaler)\n",
    "    [begin\n",
    "        [base[e] += scaler[e] for e in 1:n]\n",
    "        rgba(base ...)\n",
    "    end for e in 1:len]\n",
    "end"
   ]
  },
  {
   "cell_type": "code",
   "execution_count": null,
   "id": "c9a6af69-f9ad-4a32-9999-0d8b6a96fef2",
   "metadata": {},
   "outputs": [],
   "source": [
    "newdiv = div(\"sample\")\n",
    "style!(newdiv, \"background-color\" => rgba(1, 100, 120), \"width\" => 50px, \"height\" => 50px)\n",
    "newdiv"
   ]
  },
  {
   "cell_type": "code",
   "execution_count": null,
   "id": "c83c5bdc-16ac-45e2-af11-78140a861c73",
   "metadata": {},
   "outputs": [],
   "source": [
    "colors = make_gradient((1, 100, 120), 10, 30, 10, -10)"
   ]
  },
  {
   "cell_type": "code",
   "execution_count": null,
   "id": "c1856e23-d993-46dc-9a9b-d00eb2039a10",
   "metadata": {},
   "outputs": [],
   "source": [
    "circs = []\n",
    "for e in 1:length(colors)\n",
    "        circy = Gattino.circle(\"$e\", cx = 5 + (6 * e), cy = 50, r = 5)\n",
    "        style!(circy, \"fill\" => colors[e])\n",
    "        push!(circs, circy)\n",
    "end\n",
    "Gattino.svg(width = 200, height = 100, children = Vector{Gattino.ToolipsSVG.AbstractComponent}(circs))"
   ]
  },
  {
   "cell_type": "code",
   "execution_count": null,
   "id": "00994355-239c-4fb8-8d2a-dbdf19c5f2a3",
   "metadata": {},
   "outputs": [],
   "source": [
    "circs[1][\"style\"]"
   ]
  },
  {
   "cell_type": "code",
   "execution_count": null,
   "id": "f0586e43-c9d6-422a-8caa-e87d251ff08b",
   "metadata": {},
   "outputs": [],
   "source": [
    "circs"
   ]
  },
  {
   "cell_type": "code",
   "execution_count": null,
   "id": "66b7bd8a-18a1-4e43-b9c9-8fb7ee003459",
   "metadata": {},
   "outputs": [],
   "source": [
    "circs = []\n",
    "for e in 1:20\n",
    "        circy = Gattino.circle(\"$e\", cx = 5 + (6 * e), cy = 50, r = 5)\n",
    "        style!(circy, \"fill\" => \"rgb($red,100,120,1.0)\")\n",
    "        red += 15\n",
    "        @info red\n",
    "        push!(circs, circy)\n",
    "end\n",
    "Gattino.svg(width = 200, height = 100, children = Vector{Gattino.ToolipsSVG.AbstractComponent}(circs))"
   ]
  },
  {
   "cell_type": "code",
   "execution_count": null,
   "id": "4c578ca1-0e71-479f-aadb-c09aa00084d5",
   "metadata": {},
   "outputs": [],
   "source": [
    "using Gattino.ToolipsSVG.ToolipsServables"
   ]
  },
  {
   "cell_type": "code",
   "execution_count": null,
   "id": "34316eff-c707-489c-b510-a2231c2dcc21",
   "metadata": {},
   "outputs": [],
   "source": [
    "next_transition!(cl::ClientModifier, name::String, gen::AbstractVector, e::Int64) = begin\n",
    "    if e > length(gen)\n",
    "        return\n",
    "    end\n",
    "    style!(cl, name, \"transition\" => gen[e][1], gen[e][2] ...)\n",
    "    next!(cl, name) do cl2\n",
    "        next_transition!(cl2, name, gen, e + 1)\n",
    "    end\n",
    "end"
   ]
  },
  {
   "cell_type": "code",
   "execution_count": null,
   "id": "248edbae-7481-4dc2-ac62-553838d7da1b",
   "metadata": {},
   "outputs": [],
   "source": [
    "function transition!(cl::ClientModifier, comp::Component{<:Any}, tpairs::Pair{<:Any, <:Any} ...)\n",
    "    gen = [pair for pair in tpairs]\n",
    "    e = 1\n",
    "    next!(cl, comp.name) do cl2\n",
    "        next_transition!(cl, comp.name, gen, e)\n",
    "    end\n",
    "end"
   ]
  },
  {
   "cell_type": "code",
   "execution_count": null,
   "id": "3d750055-8f23-4e46-b608-370f71945231",
   "metadata": {},
   "outputs": [],
   "source": [
    "newcomp = Gattino.div(\"sss\")\n",
    "style!(newcomp, \"width\" => 200px, \"height\" => 200px, \"background-color\" => \"green\")\n",
    "on(newcomp, \"click\") do cl::ClientModifier\n",
    "    style!(cl, newcomp, \"width\" => 100px)\n",
    "    transition!(cl, newcomp,\n",
    "        [\"2s\" => [\"background-color\" => \"orange\"],\n",
    "        \"2s\" => [\"height\" => 199px],\n",
    "        \"4s\" => [\"background-color\" => \"red\"],\n",
    "        \"2s\" => [\"width\" => 200px],\n",
    "        \"1s\" => [\"background-color\" => \"green\"]] ... )\n",
    "end"
   ]
  },
  {
   "cell_type": "code",
   "execution_count": null,
   "id": "6d946647-3894-44c9-b674-8751ec2357e3",
   "metadata": {},
   "outputs": [],
   "source": [
    "newcomp"
   ]
  },
  {
   "cell_type": "code",
   "execution_count": null,
   "id": "639e3b0a-cee8-42dd-906f-eaf6179710a1",
   "metadata": {},
   "outputs": [],
   "source": [
    "timetracker = Gattino.circle(\"time\", cx = 25, cy = 25, r = 8)\n",
    "style!(timetracker, \"transition\" => 3s, \"fill\" => \"blue\")"
   ]
  },
  {
   "cell_type": "code",
   "execution_count": null,
   "id": "c0317a25-64d8-4dee-9df3-fe1e4c7d2840",
   "metadata": {},
   "outputs": [],
   "source": [
    "on(timetracker, \"click\") do cl::ClientModifier\n",
    "    style!(cl, timetracker, \"fill\" => \"purple\")\n",
    "    next!(cl, \"time\") do cl2::ClientModifier\n",
    "        style!(cl, timetracker, \"fill\" => \"orange\")\n",
    "    end\n",
    "end\n",
    "svg(width = 50, height = 50, children = [timetracker])"
   ]
  },
  {
   "cell_type": "code",
   "execution_count": null,
   "id": "d7bbf0ba-3776-4e55-b659-7f4a2a11b400",
   "metadata": {},
   "outputs": [],
   "source": [
    "?next!"
   ]
  },
  {
   "cell_type": "code",
   "execution_count": null,
   "id": "7bd18ffa-d263-4f4d-9101-e681aa564e6b",
   "metadata": {},
   "outputs": [],
   "source": []
  }
 ],
 "metadata": {
  "kernelspec": {
   "display_name": "Julia 1.9.2",
   "language": "julia",
   "name": "julia-1.9"
  },
  "language_info": {
   "file_extension": ".jl",
   "mimetype": "application/julia",
   "name": "julia",
   "version": "1.9.2"
  }
 },
 "nbformat": 4,
 "nbformat_minor": 5
}

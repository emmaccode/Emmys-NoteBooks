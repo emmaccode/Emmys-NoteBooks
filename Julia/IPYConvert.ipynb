{
 "cells": [
  {
   "cell_type": "code",
   "execution_count": 1,
   "id": "5f75892f-d780-4a75-b794-0d48d4701fc3",
   "metadata": {},
   "outputs": [
    {
     "name": "stderr",
     "output_type": "stream",
     "text": [
      "\u001b[32m\u001b[1m  Activating\u001b[22m\u001b[39m project at `~/dev/packages/parametric/IPyCells.jl`\n"
     ]
    }
   ],
   "source": [
    "using Pkg\n",
    "Pkg.activate(\"../packages/parametric/IPyCells.jl\")"
   ]
  },
  {
   "cell_type": "code",
   "execution_count": 2,
   "id": "92557aa0-389b-424c-92cf-150e4b2234f4",
   "metadata": {},
   "outputs": [
    {
     "name": "stderr",
     "output_type": "stream",
     "text": [
      "\u001b[32m\u001b[1mPrecompiling\u001b[22m\u001b[39m IPyCells\n",
      "\u001b[32m  ✓ \u001b[39mIPyCells\n",
      "  1 dependency successfully precompiled in 3 seconds. 4 already precompiled.\n"
     ]
    }
   ],
   "source": [
    "using IPyCells"
   ]
  },
  {
   "cell_type": "code",
   "execution_count": 3,
   "id": "4f13c446-bc9f-4b99-81ca-9e3b4642cb90",
   "metadata": {},
   "outputs": [
    {
     "data": {
      "text/plain": [
       "183"
      ]
     },
     "execution_count": 3,
     "metadata": {},
     "output_type": "execute_result"
    }
   ],
   "source": [
    "IPyCells.ipyjl(\"poem.ipynb\", \"example.jl\")"
   ]
  },
  {
   "cell_type": "code",
   "execution_count": 4,
   "id": "0a51f3d9-6a79-4b2d-befd-c07daf3bada1",
   "metadata": {},
   "outputs": [
    {
     "name": "stdout",
     "output_type": "stream",
     "text": [
      "println(\"test cell 1\")\n",
      "#==output[code]\n",
      "\n",
      "==#\n",
      "#==|||==#\n",
      "println(\"test cell 2\")\n",
      "#==output[code]\n",
      "\n",
      "==#\n",
      "#==|||==#\n",
      "\"\"\"# gilby, gilby, I love you\"\"\"\n",
      "#==|||==#\n",
      "\n",
      "#==output[code]\n",
      "\n",
      "==#\n",
      "#==|||==#\n"
     ]
    }
   ],
   "source": [
    "open(\"example.jl\", \"r\") do i::IO\n",
    "    for x in readlines(i)\n",
    "        println(x)\n",
    "    end\n",
    "end"
   ]
  },
  {
   "cell_type": "code",
   "execution_count": 5,
   "id": "f0711748-edb9-477e-a228-496dad089902",
   "metadata": {},
   "outputs": [],
   "source": [
    "IPyCells.jlipy(\"example.jl\", \"test.ipynb\")"
   ]
  },
  {
   "cell_type": "code",
   "execution_count": 6,
   "id": "bbcfbb9a-3a4e-41fe-b87c-62df1d138782",
   "metadata": {},
   "outputs": [
    {
     "name": "stdout",
     "output_type": "stream",
     "text": [
      "{\"cells\":[{\"outputs\":\"\",\"cell_type\":\"code\",\"source\":\"println(\\\"test cell 1\\\")\",\"id\":\"NuPfq\",\"metadata\":{},\"execution_count\":\"1\"},{\"outputs\":\"\",\"cell_type\":\"code\",\"source\":\"\\nprintln(\\\"test cell 2\\\")\",\"id\":\"9G4Xu\",\"metadata\":{},\"execution_count\":\"2\"},{\"outputs\":\"\",\"cell_type\":\"markdown\",\"source\":\"\\n# gilby, gilby, I love you\\n\",\"id\":\"uSCZc\",\"metadata\":{},\"execution_count\":\"3\"},{\"outputs\":\"\",\"cell_type\":\"code\",\"source\":\"\\n\",\"id\":\"9mMiH\",\"metadata\":{},\"execution_count\":\"4\"},{\"outputs\":\"\",\"cell_type\":\"code\",\"source\":\"\\n\",\"id\":\"JwLVm\",\"metadata\":{},\"execution_count\":\"5\"}]}\n"
     ]
    }
   ],
   "source": [
    "open(\"test.ipynb\", \"r\") do i::IO\n",
    "    for x in readlines(i)\n",
    "        println(x)\n",
    "    end\n",
    "end"
   ]
  },
  {
   "cell_type": "code",
   "execution_count": 7,
   "id": "ea53a89d-4f5b-486c-870b-1698de3fef9c",
   "metadata": {},
   "outputs": [
    {
     "name": "stdout",
     "output_type": "stream",
     "text": [
      "{\n",
      " \"cells\": [\n",
      "  {\n",
      "   \"cell_type\": \"code\",\n",
      "   \"execution_count\": 1,\n",
      "   \"id\": \"26fc71d7-49e7-480f-ae0c-5b386ab72d68\",\n",
      "   \"metadata\": {},\n",
      "   \"outputs\": [\n",
      "    {\n",
      "     \"name\": \"stdout\",\n",
      "     \"output_type\": \"stream\",\n",
      "     \"text\": [\n",
      "      \"test cell 1\\n\"\n",
      "     ]\n",
      "    }\n",
      "   ],\n",
      "   \"source\": [\n",
      "    \"println(\\\"test cell 1\\\")\"\n",
      "   ]\n",
      "  },\n",
      "  {\n",
      "   \"cell_type\": \"code\",\n",
      "   \"execution_count\": 2,\n",
      "   \"id\": \"b98fa9b4-4946-45c8-9ff3-0f128e50979d\",\n",
      "   \"metadata\": {},\n",
      "   \"outputs\": [\n",
      "    {\n",
      "     \"name\": \"stdout\",\n",
      "     \"output_type\": \"stream\",\n",
      "     \"text\": [\n",
      "      \"test cell 2\\n\"\n",
      "     ]\n",
      "    }\n",
      "   ],\n",
      "   \"source\": [\n",
      "    \"println(\\\"test cell 2\\\")\"\n",
      "   ]\n",
      "  },\n",
      "  {\n",
      "   \"cell_type\": \"markdown\",\n",
      "   \"id\": \"9866f037-5ea8-4bf0-8d28-d95906c5b253\",\n",
      "   \"metadata\": {},\n",
      "   \"source\": [\n",
      "    \"# gilby, gilby, I love you\"\n",
      "   ]\n",
      "  },\n",
      "  {\n",
      "   \"cell_type\": \"code\",\n",
      "   \"execution_count\": null,\n",
      "   \"id\": \"00c65622-ee11-4eed-a404-0b86dab3c8a2\",\n",
      "   \"metadata\": {},\n",
      "   \"outputs\": [],\n",
      "   \"source\": []\n",
      "  }\n",
      " ],\n",
      " \"metadata\": {\n",
      "  \"kernelspec\": {\n",
      "   \"display_name\": \"Julia 1.10.3\",\n",
      "   \"language\": \"julia\",\n",
      "   \"name\": \"julia-1.10\"\n",
      "  },\n",
      "  \"language_info\": {\n",
      "   \"file_extension\": \".jl\",\n",
      "   \"mimetype\": \"application/julia\",\n",
      "   \"name\": \"julia\",\n",
      "   \"version\": \"1.10.3\"\n",
      "  }\n",
      " },\n",
      " \"nbformat\": 4,\n",
      " \"nbformat_minor\": 5\n",
      "}\n"
     ]
    }
   ],
   "source": [
    "open(\"poem.ipynb\", \"r\") do i::IO\n",
    "    for x in readlines(i)\n",
    "        println(x)\n",
    "    end\n",
    "end"
   ]
  },
  {
   "cell_type": "code",
   "execution_count": null,
   "id": "67b0cc70-a02e-4e0b-bf35-ced8b589aef5",
   "metadata": {},
   "outputs": [],
   "source": []
  }
 ],
 "metadata": {
  "kernelspec": {
   "display_name": "Julia 1.10.3",
   "language": "julia",
   "name": "julia-1.10"
  },
  "language_info": {
   "file_extension": ".jl",
   "mimetype": "application/julia",
   "name": "julia",
   "version": "1.10.3"
  }
 },
 "nbformat": 4,
 "nbformat_minor": 5
}

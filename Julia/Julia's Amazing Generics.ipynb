{
 "cells": [
  {
   "cell_type": "code",
   "execution_count": 3,
   "id": "8a92df4d-6249-400f-b2f0-961761ca9e2f",
   "metadata": {},
   "outputs": [
    {
     "data": {
      "text/plain": [
       "get_half_population (generic function with 1 method)"
      ]
     },
     "execution_count": 3,
     "metadata": {},
     "output_type": "execute_result"
    }
   ],
   "source": [
    "function get_half_population(population::Any)::Int64\n",
    "  Int64(round(length(population) / 2))\n",
    "end"
   ]
  },
  {
   "cell_type": "code",
   "execution_count": 8,
   "id": "1255b13f-b471-4858-bc43-8a3975a54479",
   "metadata": {},
   "outputs": [
    {
     "name": "stdout",
     "output_type": "stream",
     "text": [
      "3\n",
      "3\n"
     ]
    }
   ],
   "source": [
    "println(get_half_population(\"sample\"))\n",
    "println(get_half_population([1, 2, 3, 4, 5, 6]))"
   ]
  },
  {
   "cell_type": "code",
   "execution_count": 18,
   "id": "4ac71837-0a8f-4a70-8006-2df671e594e1",
   "metadata": {},
   "outputs": [
    {
     "data": {
      "text/plain": [
       "length (generic function with 90 methods)"
      ]
     },
     "execution_count": 18,
     "metadata": {},
     "output_type": "execute_result"
    }
   ],
   "source": [
    "import Base: length\n",
    "\n",
    "mutable struct ContractorsInfo\n",
    "    TINs::Vector{Int64}\n",
    "    codes::Vector{Int64}\n",
    "    rates::Vector{Float64}\n",
    "    names::Vector{String}\n",
    "end\n",
    "\n",
    "function length(info::ContractorsInfo)::Int64\n",
    "    length(info.TINs)\n",
    "end"
   ]
  },
  {
   "cell_type": "code",
   "execution_count": 19,
   "id": "e9c4ed69-7d69-416a-a110-a6b0aa85f5bf",
   "metadata": {},
   "outputs": [
    {
     "data": {
      "text/plain": [
       "ContractorsInfo([135, 827, 334], [32, 82, 11], [125.0, 225.0, 101.0], [\"Sanchez, Herbert\", \"Jones, Rick\", \"Thomason\", \"Mayhew\"])"
      ]
     },
     "execution_count": 19,
     "metadata": {},
     "output_type": "execute_result"
    }
   ],
   "source": [
    "info = ContractorsInfo([135, 827, 334], [32, 82, 11], [125, 225, 101], \n",
    "    [\"Sanchez, Herbert\", \"Jones, Rick\", \"Thomason\", \"Mayhew\"])"
   ]
  },
  {
   "cell_type": "code",
   "execution_count": 21,
   "id": "00d40986-1c95-4525-a0e9-c1e8ae5a4002",
   "metadata": {},
   "outputs": [
    {
     "data": {
      "text/plain": [
       "2"
      ]
     },
     "execution_count": 21,
     "metadata": {},
     "output_type": "execute_result"
    }
   ],
   "source": [
    "get_half_population(info)"
   ]
  },
  {
   "cell_type": "code",
   "execution_count": 50,
   "id": "eadc70a4-0366-4cac-88ee-61f75d73be6f",
   "metadata": {},
   "outputs": [
    {
     "name": "stderr",
     "output_type": "stream",
     "text": [
      "WARNING: replacing module InfoDisplay.\n"
     ]
    },
    {
     "data": {
      "text/plain": [
       "Main.InfoDisplay"
      ]
     },
     "execution_count": 50,
     "metadata": {},
     "output_type": "execute_result"
    }
   ],
   "source": [
    "module InfoDisplay\n",
    "\n",
    "function display_info(info::Any)\n",
    "    html = \"<table>\"\n",
    "    if length(methods(names, Any[typeof(info)])) > 0\n",
    "        html = html * \"<tr>\" * join(\"<th>$(val)</th>\" for val in names(info)) * \"</tr>\"\n",
    "    end\n",
    "    html = html * join(begin\n",
    "            \"<tr>\" * join(\"<td>$(val)</td>\" for val in row) * \"</tr>\"\n",
    "            end for row in eachrow(info)) * \"</table>\"\n",
    "    display(\"text/html\", html)\n",
    "    nothing\n",
    "end\n",
    "end"
   ]
  },
  {
   "cell_type": "code",
   "execution_count": 51,
   "id": "caf5bc75-07af-451f-b4d6-2f271701ae64",
   "metadata": {},
   "outputs": [
    {
     "data": {
      "text/html": [
       "<table><tr><td>5</td><td>10</td></tr><tr><td>1</td><td>2</td></tr><tr><td>3</td><td>4</td></tr></table>"
      ]
     },
     "metadata": {},
     "output_type": "display_data"
    }
   ],
   "source": [
    "InfoDisplay.display_info([5 10; 1 2; 3 4])"
   ]
  },
  {
   "cell_type": "code",
   "execution_count": 59,
   "id": "95c3de1d-3714-4a2c-b92c-249db96bb5e6",
   "metadata": {},
   "outputs": [
    {
     "data": {
      "text/plain": [
       "names (generic function with 19 methods)"
      ]
     },
     "execution_count": 59,
     "metadata": {},
     "output_type": "execute_result"
    }
   ],
   "source": [
    "import Base: eachrow, names\n",
    "\n",
    "eachrow(ci::ContractorsInfo) = begin\n",
    "    [ci.TINs, ci.codes, [\"\\$$rate\" for rate in ci.rates]]\n",
    "end\n",
    "\n",
    "names(ci::ContractorsInfo)::Vector{String} = ci.names"
   ]
  },
  {
   "cell_type": "code",
   "execution_count": 60,
   "id": "66666384-e4da-4d21-84ac-0391d3b333bb",
   "metadata": {},
   "outputs": [
    {
     "data": {
      "text/html": [
       "<table><tr><th>Sanchez, Herbert</th><th>Jones, Rick</th><th>Thomason</th><th>Mayhew</th></tr><tr><td>135</td><td>827</td><td>334</td></tr><tr><td>32</td><td>82</td><td>11</td></tr><tr><td>$125.0</td><td>$225.0</td><td>$101.0</td></tr></table>"
      ]
     },
     "metadata": {},
     "output_type": "display_data"
    }
   ],
   "source": [
    "InfoDisplay.display_info(info)"
   ]
  },
  {
   "cell_type": "code",
   "execution_count": 61,
   "id": "e86110b1-d9f6-4491-8be5-8e836959d055",
   "metadata": {},
   "outputs": [
    {
     "data": {
      "text/html": [
       "<table><tr><th>A</th><th>B</th></tr><tr><td>5</td><td>1</td></tr><tr><td>10</td><td>2</td></tr><tr><td>15</td><td>3</td></tr></table>"
      ]
     },
     "metadata": {},
     "output_type": "display_data"
    }
   ],
   "source": [
    "using DataFrames\n",
    "df = DataFrame(:A => [5, 10, 15], :B => [1, 2, 3])\n",
    "InfoDisplay.display_info(df)"
   ]
  },
  {
   "cell_type": "code",
   "execution_count": 62,
   "id": "3fd90dc4-2e1a-4c0a-b46f-813bc668878e",
   "metadata": {},
   "outputs": [
    {
     "data": {
      "text/html": [
       "# 0 methods for generic function <b>names</b> from \u001b[90mBase\u001b[39m<ul></ul>"
      ],
      "text/plain": [
       "# 0 methods for generic function \"names\" from \u001b[90mBase\u001b[39m"
      ]
     },
     "execution_count": 62,
     "metadata": {},
     "output_type": "execute_result"
    }
   ],
   "source": [
    "methods(names, Any[Matrix])"
   ]
  },
  {
   "cell_type": "code",
   "execution_count": 63,
   "id": "a1eb1cd1-c639-416f-8e83-aa5bda6bfb04",
   "metadata": {
    "scrolled": true
   },
   "outputs": [
    {
     "data": {
      "text/html": [
       "# 1 method for generic function <b>names</b> from \u001b[90mBase\u001b[39m:<ul><li> names(df::<b>AbstractDataFrame</b>) in DataFrames at <a href=\"file:///home/emmac/.julia/packages/DataFrames/kcA9R/src/abstractdataframe/abstractdataframe.jl\" target=\"_blank\">/home/emmac/.julia/packages/DataFrames/kcA9R/src/abstractdataframe/abstractdataframe.jl:99</a></li> </ul>"
      ],
      "text/plain": [
       "# 1 method for generic function \"names\" from \u001b[90mBase\u001b[39m:\n",
       " [1] names(\u001b[90mdf\u001b[39m::\u001b[1mAbstractDataFrame\u001b[22m)\n",
       "\u001b[90m     @\u001b[39m \u001b[36mDataFrames\u001b[39m \u001b[90m~/.julia/packages/DataFrames/kcA9R/src/abstractdataframe/\u001b[39m\u001b[90m\u001b[4mabstractdataframe.jl:99\u001b[24m\u001b[39m"
      ]
     },
     "execution_count": 63,
     "metadata": {},
     "output_type": "execute_result"
    }
   ],
   "source": [
    "methods(names, Any[DataFrame])"
   ]
  },
  {
   "cell_type": "code",
   "execution_count": 57,
   "id": "6e39e18a-7e2c-46d2-b306-38f70dc2ad5e",
   "metadata": {},
   "outputs": [
    {
     "data": {
      "text/plain": [
       "true"
      ]
     },
     "execution_count": 57,
     "metadata": {},
     "output_type": "execute_result"
    }
   ],
   "source": [
    "length(methods(names, Any[DataFrame])) == 1"
   ]
  },
  {
   "cell_type": "code",
   "execution_count": 58,
   "id": "69786836-2452-4553-8633-66f8ebabc5fc",
   "metadata": {},
   "outputs": [
    {
     "data": {
      "text/plain": [
       "display_info (generic function with 1 method)"
      ]
     },
     "execution_count": 58,
     "metadata": {},
     "output_type": "execute_result"
    }
   ],
   "source": [
    "function display_info(info::Any)\n",
    "    html = \"<table>\"\n",
    "    if length(methods(names, Any[typeof(info)])) > 0\n",
    "        html = html * \"<tr>\" * join(\"<th>$(val)</th>\" for val in names(info)) * \"</tr>\"\n",
    "    end\n",
    "    html = html * join(begin\n",
    "            \"<tr>\" * join(\"<td>$(val)</td>\" for val in row) * \"</tr>\"\n",
    "            end for row in eachrow(info)) * \"</table>\"\n",
    "    display(\"text/html\", html)\n",
    "    nothing\n",
    "end"
   ]
  },
  {
   "cell_type": "code",
   "execution_count": null,
   "id": "448bad02-5e2a-41a3-8f53-3ef0c2512f65",
   "metadata": {},
   "outputs": [],
   "source": []
  },
  {
   "cell_type": "code",
   "execution_count": null,
   "id": "11e6a414-6c25-4c08-9ddb-7e54a9bd6923",
   "metadata": {},
   "outputs": [],
   "source": []
  }
 ],
 "metadata": {
  "kernelspec": {
   "display_name": "Julia 1.9.2",
   "language": "julia",
   "name": "julia-1.9"
  },
  "language_info": {
   "file_extension": ".jl",
   "mimetype": "application/julia",
   "name": "julia",
   "version": "1.9.2"
  }
 },
 "nbformat": 4,
 "nbformat_minor": 5
}

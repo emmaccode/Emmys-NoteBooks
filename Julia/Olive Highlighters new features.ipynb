{
 "cells": [
  {
   "cell_type": "code",
   "execution_count": 1,
   "id": "085c8c4b-6f4f-4928-990a-a7873871b0f0",
   "metadata": {},
   "outputs": [
    {
     "name": "stderr",
     "output_type": "stream",
     "text": [
      "\u001b[32m\u001b[1m  Activating\u001b[22m\u001b[39m project at `~/mounted/packages/olive/OliveHighlighters`\n"
     ]
    }
   ],
   "source": [
    "using Revise\n",
    "using Pkg; Pkg.activate(\"OliveHighlighters\")"
   ]
  },
  {
   "cell_type": "code",
   "execution_count": 2,
   "id": "3f25ebaa-56e5-4215-b7e5-e522d245f71c",
   "metadata": {},
   "outputs": [
    {
     "name": "stderr",
     "output_type": "stream",
     "text": [
      "\u001b[36m\u001b[1m[ \u001b[22m\u001b[39m\u001b[36m\u001b[1mInfo: \u001b[22m\u001b[39mPrecompiling OliveHighlighters [f769160f-f39a-4920-b1de-ba699e2d8893]\n"
     ]
    }
   ],
   "source": [
    "using OliveHighlighters"
   ]
  },
  {
   "cell_type": "code",
   "execution_count": 3,
   "id": "b59102de-a912-4ec2-a9f9-9b925859efda",
   "metadata": {},
   "outputs": [
    {
     "data": {
      "text/plain": [
       "OliveHighlighters.TextStyleModifier(\"function example(x::Any)\\n    \\nend\\n    #== this is a basic julia function, `example`. `example` has one Method: `example(::Any)` \\n    ==#\\n    mys = \\\"sample\\\"\\n    #====\\n    here is another multi-line comment\\n    ====#\", Int64[], Dict{UnitRange{Int64}, Symbol}(), Dict{Symbol, Vector{Pair{String, String}}}())"
      ]
     },
     "execution_count": 3,
     "metadata": {},
     "output_type": "execute_result"
    }
   ],
   "source": [
    "tm = OliveHighlighters.TextStyleModifier(\"\"\"function example(x::Any)\n",
    "    \n",
    "end\n",
    "    #== this is a basic julia function, `example`. `example` has one Method: `example(::Any)` \n",
    "    ==#\n",
    "    mys = \"sample\"\n",
    "    #====\n",
    "    here is another multi-line comment\n",
    "    ====#\"\"\")"
   ]
  },
  {
   "cell_type": "code",
   "execution_count": 4,
   "id": "99e40799-4280-447b-b226-436cbe23a236",
   "metadata": {},
   "outputs": [
    {
     "name": "stdout",
     "output_type": "stream",
     "text": [
      "working mark after now!\n"
     ]
    },
    {
     "data": {
      "text/plain": [
       "Dict{Symbol, Vector{Pair{String, String}}} with 22 entries:\n",
       "  :begin    => [\"color\"=>\"#fc038c\"]\n",
       "  :default  => [\"color\"=>\"#3D3D3D\"]\n",
       "  :for      => [\"color\"=>\"#fc038c\"]\n",
       "  :exit     => [\"color\"=>\"#006C67\"]\n",
       "  :mutable  => [\"color\"=>\"#006C67\"]\n",
       "  :struct   => [\"color\"=>\"#fc038c\"]\n",
       "  :func     => [\"color\"=>\"#fc038c\"]\n",
       "  :module   => [\"color\"=>\"#b81870\"]\n",
       "  :string   => [\"color\"=>\"#007958\"]\n",
       "  :in       => [\"color\"=>\"#006C67\"]\n",
       "  :abstract => [\"color\"=>\"#006C67\"]\n",
       "  :char     => [\"color\"=>\"#8b0000\"]\n",
       "  :end      => [\"color\"=>\"#b81870\"]\n",
       "  :import   => [\"color\"=>\"#fc038c\"]\n",
       "  :op       => [\"color\"=>\"#0C023E\"]\n",
       "  :comment  => [\"color\"=>\"#808080\"]\n",
       "  :interp   => [\"color\"=>\"orange\"]\n",
       "  :type     => [\"color\"=>\"#D67229\"]\n",
       "  :funcn    => [\"color\"=>\"#2F387B\"]\n",
       "  :number   => [\"color\"=>\"#8b0000\"]\n",
       "  :if       => [\"color\"=>\"#fc038c\"]\n",
       "  :using    => [\"color\"=>\"#006C67\"]"
      ]
     },
     "execution_count": 4,
     "metadata": {},
     "output_type": "execute_result"
    }
   ],
   "source": [
    "OliveHighlighters.julia_block!(tm)"
   ]
  },
  {
   "cell_type": "code",
   "execution_count": 5,
   "id": "f3a37270-12fa-4c97-96b0-16993aebbe8f",
   "metadata": {},
   "outputs": [
    {
     "data": {
      "text/html": [
       "<span id='modiftxt' style='color:#fc038c;'>function</span><span id='modiftxt' style='color:#3D3D3D;'>&nbsp;</span><span id='modiftxt' style='color:#2F387B;'>example</span><span id='modiftxt' style='color:#3D3D3D;'>(x</span><span id='modiftxt' style='color:#D67229;'>::Any</span><span id='modiftxt' style='color:#3D3D3D;'>)<br>&nbsp;&nbsp;&nbsp;&nbsp;<br></span><span id='modiftxt' style='color:#b81870;'>end</span><span id='modiftxt' style='color:#3D3D3D;'><br>&nbsp;&nbsp;&nbsp;&nbsp;</span><span id='modiftxt' style='color:#808080;'>#==&nbsp;this&nbsp;is&nbsp;a&nbsp;basic&nbsp;julia&nbsp;function,&nbsp;`example`.&nbsp;`example`&nbsp;has&nbsp;one&nbsp;Method:&nbsp;`example(::Any)`&nbsp;<br>&nbsp;&nbsp;&nbsp;&nbsp;==#</span><span id='modiftxt' style='color:#3D3D3D;'><br>&nbsp;&nbsp;&nbsp;&nbsp;mys&nbsp;</span><span id='modiftxt' style='color:#0C023E;'>=</span><span id='modiftxt' style='color:#3D3D3D;'>&nbsp;\"sample\"<br>&nbsp;&nbsp;&nbsp;&nbsp;</span><span id='modiftxt' style='color:#808080;'>#====<br>&nbsp;&nbsp;&nbsp;&nbsp;here&nbsp;is&nbsp;another&nbsp;multi-line&nbsp;comment<br>&nbsp;&nbsp;&nbsp;&nbsp;====#</span>"
      ]
     },
     "metadata": {},
     "output_type": "display_data"
    }
   ],
   "source": [
    "display(\"text/html\", string(tm))"
   ]
  },
  {
   "cell_type": "code",
   "execution_count": 6,
   "id": "d8798763-866d-4e75-a434-69a48649647d",
   "metadata": {},
   "outputs": [
    {
     "data": {
      "text/plain": [
       "\"the number is 3 and the names are athena, aniston, jennifer\""
      ]
     },
     "execution_count": 6,
     "metadata": {},
     "output_type": "execute_result"
    }
   ],
   "source": [
    "x = 3\n",
    "names = [\"athena\", \"aniston\", \"jennifer\"]\n",
    "new_str = \"\"\"the number is $x and the names are $(join((name for name in names), \", \"))\"\"\""
   ]
  },
  {
   "cell_type": "code",
   "execution_count": 59,
   "id": "035cb09c-7035-427f-88f5-a284d9a53201",
   "metadata": {},
   "outputs": [
    {
     "data": {
      "text/plain": [
       "OliveHighlighters.TextStyleModifier(\"mys = \\\"hello world \\$x\\\"\", Int64[], Dict{UnitRange{Int64}, Symbol}(), Dict{Symbol, Vector{Pair{String, String}}}())"
      ]
     },
     "execution_count": 59,
     "metadata": {},
     "output_type": "execute_result"
    }
   ],
   "source": [
    "tm = OliveHighlighters.TextStyleModifier(\"\"\"mys = \"hello world \\$x\\\"\"\"\")"
   ]
  },
  {
   "cell_type": "code",
   "execution_count": 60,
   "id": "9ad5e5fd-5b99-42a7-8e3b-1b39bab61725",
   "metadata": {},
   "outputs": [
    {
     "name": "stdout",
     "output_type": "stream",
     "text": [
      "working mark after now!\n"
     ]
    },
    {
     "data": {
      "text/plain": [
       "Dict{Symbol, Vector{Pair{String, String}}} with 22 entries:\n",
       "  :begin    => [\"color\"=>\"#fc038c\"]\n",
       "  :default  => [\"color\"=>\"#3D3D3D\"]\n",
       "  :for      => [\"color\"=>\"#fc038c\"]\n",
       "  :exit     => [\"color\"=>\"#006C67\"]\n",
       "  :mutable  => [\"color\"=>\"#006C67\"]\n",
       "  :struct   => [\"color\"=>\"#fc038c\"]\n",
       "  :func     => [\"color\"=>\"#fc038c\"]\n",
       "  :module   => [\"color\"=>\"#b81870\"]\n",
       "  :string   => [\"color\"=>\"#007958\"]\n",
       "  :in       => [\"color\"=>\"#006C67\"]\n",
       "  :abstract => [\"color\"=>\"#006C67\"]\n",
       "  :char     => [\"color\"=>\"#8b0000\"]\n",
       "  :end      => [\"color\"=>\"#b81870\"]\n",
       "  :import   => [\"color\"=>\"#fc038c\"]\n",
       "  :op       => [\"color\"=>\"#0C023E\"]\n",
       "  :comment  => [\"color\"=>\"#808080\"]\n",
       "  :interp   => [\"color\"=>\"orange\"]\n",
       "  :type     => [\"color\"=>\"#D67229\"]\n",
       "  :funcn    => [\"color\"=>\"#2F387B\"]\n",
       "  :number   => [\"color\"=>\"#8b0000\"]\n",
       "  :if       => [\"color\"=>\"#fc038c\"]\n",
       "  :using    => [\"color\"=>\"#006C67\"]"
      ]
     },
     "execution_count": 60,
     "metadata": {},
     "output_type": "execute_result"
    }
   ],
   "source": [
    "OliveHighlighters.julia_block!(tm)"
   ]
  },
  {
   "cell_type": "code",
   "execution_count": 61,
   "id": "2e0c2953-c3c5-434a-8466-e4843ed1333d",
   "metadata": {},
   "outputs": [
    {
     "name": "stdout",
     "output_type": "stream",
     "text": [
      "$\n"
     ]
    }
   ],
   "source": [
    "OliveHighlighters.mark_inside!(tm, :string) do tm2\n",
    "    OliveHighlighters.mark_after!(tm2, \"\\$\", :interp)\n",
    "    \n",
    "    println(tm2.raw[first(tm2.marks)[1]])\n",
    "end"
   ]
  },
  {
   "cell_type": "code",
   "execution_count": 62,
   "id": "760c9488-728a-4196-824a-5aac5de281ed",
   "metadata": {},
   "outputs": [
    {
     "data": {
      "text/plain": [
       "\"\\$x\\\"\""
      ]
     },
     "execution_count": 62,
     "metadata": {},
     "output_type": "execute_result"
    }
   ],
   "source": [
    "tm.raw[20:22]"
   ]
  },
  {
   "cell_type": "code",
   "execution_count": 63,
   "id": "2ac85795-b150-426f-bc0d-384c09a9a773",
   "metadata": {},
   "outputs": [
    {
     "data": {
      "text/plain": [
       "\"mys = \\\"hello world \\$x\\\"\""
      ]
     },
     "execution_count": 63,
     "metadata": {},
     "output_type": "execute_result"
    }
   ],
   "source": [
    "tm.raw"
   ]
  },
  {
   "cell_type": "code",
   "execution_count": 64,
   "id": "69abeb81-f7ee-4520-b9ac-3bb3b1fc90ba",
   "metadata": {},
   "outputs": [
    {
     "data": {
      "text/plain": [
       "Dict{UnitRange{Int64}, Symbol} with 3 entries:\n",
       "  5:5   => :op\n",
       "  20:20 => :interp\n",
       "  20:22 => :interp"
      ]
     },
     "execution_count": 64,
     "metadata": {},
     "output_type": "execute_result"
    }
   ],
   "source": [
    "tm.marks"
   ]
  },
  {
   "cell_type": "code",
   "execution_count": 80,
   "id": "09aa3009-7b0b-4f9b-bca6-01b9fa7bc8ef",
   "metadata": {},
   "outputs": [
    {
     "data": {
      "text/plain": [
       "\"function myexample(name::String)\\n    \\n    println(\\\"hello world, \\$name is here\\\\n\\\")\\n    return(\\\"\\$name is pretty cool, as well.\\\")\\n\\nend\\n\""
      ]
     },
     "execution_count": 80,
     "metadata": {},
     "output_type": "execute_result"
    }
   ],
   "source": [
    "mys = \"\"\"function myexample(name::String)\n",
    "    \n",
    "    println(\"hello world, \\$name is here\\\\n\")\n",
    "    return(\"\\$name is pretty cool, as well.\")\n",
    "\n",
    "end\n",
    "\"\"\""
   ]
  },
  {
   "cell_type": "code",
   "execution_count": 81,
   "id": "1b2e9fdf-2c77-41e3-86f4-4b6499320cbc",
   "metadata": {},
   "outputs": [
    {
     "data": {
      "text/plain": [
       "OliveHighlighters.TextStyleModifier(\"function myexample(name::String)\\n    \\n    println(\\\"hello world, \\$name is here\\\\n\\\")\\n    return(\\\"\\$name is pretty cool, as well.\\\")\\n\\nend\\n\", Int64[], Dict{UnitRange{Int64}, Symbol}(), Dict{Symbol, Vector{Pair{String, String}}}())"
      ]
     },
     "execution_count": 81,
     "metadata": {},
     "output_type": "execute_result"
    }
   ],
   "source": [
    "tm = OliveHighlighters.TextStyleModifier(mys)"
   ]
  },
  {
   "cell_type": "code",
   "execution_count": 82,
   "id": "a4198671-2439-45df-9f64-63169f8199e8",
   "metadata": {},
   "outputs": [
    {
     "name": "stdout",
     "output_type": "stream",
     "text": [
      "working mark after now!\n",
      "working mark after now!\n"
     ]
    },
    {
     "data": {
      "text/plain": [
       "Dict{Symbol, Vector{Pair{String, String}}} with 22 entries:\n",
       "  :begin    => [\"color\"=>\"#fc038c\"]\n",
       "  :default  => [\"color\"=>\"#3D3D3D\"]\n",
       "  :for      => [\"color\"=>\"#fc038c\"]\n",
       "  :exit     => [\"color\"=>\"#cc0099\"]\n",
       "  :mutable  => [\"color\"=>\"#006C67\"]\n",
       "  :struct   => [\"color\"=>\"#fc038c\"]\n",
       "  :func     => [\"color\"=>\"#fc038c\"]\n",
       "  :module   => [\"color\"=>\"#b81870\"]\n",
       "  :string   => [\"color\"=>\"#007958\"]\n",
       "  :in       => [\"color\"=>\"#006C67\"]\n",
       "  :abstract => [\"color\"=>\"#006C67\"]\n",
       "  :char     => [\"color\"=>\"#8b0000\"]\n",
       "  :end      => [\"color\"=>\"#b81870\"]\n",
       "  :import   => [\"color\"=>\"#fc038c\"]\n",
       "  :op       => [\"color\"=>\"#0C023E\"]\n",
       "  :comment  => [\"color\"=>\"#808080\"]\n",
       "  :interp   => [\"color\"=>\"darkred\"]\n",
       "  :type     => [\"color\"=>\"#D67229\"]\n",
       "  :funcn    => [\"color\"=>\"#2F387B\"]\n",
       "  :number   => [\"color\"=>\"#8b0000\"]\n",
       "  :if       => [\"color\"=>\"#fc038c\"]\n",
       "  :using    => [\"color\"=>\"#006C67\"]"
      ]
     },
     "execution_count": 82,
     "metadata": {},
     "output_type": "execute_result"
    }
   ],
   "source": [
    "OliveHighlighters.julia_block!(tm)"
   ]
  },
  {
   "cell_type": "code",
   "execution_count": 83,
   "id": "dc3cd3cb-d630-42a6-bd15-a313d6c3df28",
   "metadata": {},
   "outputs": [
    {
     "data": {
      "text/plain": [
       "Dict{UnitRange{Int64}, Symbol} with 13 entries:\n",
       "  24:31   => :type\n",
       "  94:94   => :string\n",
       "  43:49   => :funcn\n",
       "  129:131 => :end\n",
       "  101:125 => :string\n",
       "  51:64   => :string\n",
       "  65:70   => :interp\n",
       "  78:80   => :exit\n",
       "  1:8     => :func\n",
       "  95:100  => :interp\n",
       "  71:77   => :string\n",
       "  10:18   => :funcn\n",
       "  87:92   => :funcn"
      ]
     },
     "execution_count": 83,
     "metadata": {},
     "output_type": "execute_result"
    }
   ],
   "source": [
    "tm.marks"
   ]
  },
  {
   "cell_type": "code",
   "execution_count": 84,
   "id": "223b0226-bb73-46c1-a1aa-245d9fa9bb17",
   "metadata": {},
   "outputs": [
    {
     "data": {
      "text/html": [
       "<span id='modiftxt' style='color:#fc038c;'>function</span><span id='modiftxt' style='color:#3D3D3D;'>&nbsp;</span><span id='modiftxt' style='color:#2F387B;'>myexample</span><span id='modiftxt' style='color:#3D3D3D;'>(name</span><span id='modiftxt' style='color:#D67229;'>::String</span><span id='modiftxt' style='color:#3D3D3D;'>)<br>&nbsp;&nbsp;&nbsp;&nbsp;<br>&nbsp;&nbsp;&nbsp;&nbsp;</span><span id='modiftxt' style='color:#2F387B;'>println</span><span id='modiftxt' style='color:#3D3D3D;'>(</span><span id='modiftxt' style='color:#007958;'>\"hello&nbsp;world,&nbsp;</span><span id='modiftxt' style='color:#3D3D3D;'></span><span id='modiftxt' style='color:darkred;'>$name&nbsp;</span><span id='modiftxt' style='color:#3D3D3D;'></span><span id='modiftxt' style='color:#007958;'>is&nbsp;here</span><span id='modiftxt' style='color:#3D3D3D;'></span><span id='modiftxt' style='color:#cc0099;'>&bsol;n\"</span><span id='modiftxt' style='color:#3D3D3D;'>)<br>&nbsp;&nbsp;&nbsp;&nbsp;</span><span id='modiftxt' style='color:#2F387B;'>return</span><span id='modiftxt' style='color:#3D3D3D;'>(</span><span id='modiftxt' style='color:#007958;'>\"</span><span id='modiftxt' style='color:#3D3D3D;'></span><span id='modiftxt' style='color:darkred;'>$name&nbsp;</span><span id='modiftxt' style='color:#3D3D3D;'></span><span id='modiftxt' style='color:#007958;'>is&nbsp;pretty&nbsp;cool,&nbsp;as&nbsp;well.\"</span><span id='modiftxt' style='color:#3D3D3D;'>)<br><br></span><span id='modiftxt' style='color:#b81870;'>end</span><span id='modiftxt' style='color:#3D3D3D;'><br></span>"
      ]
     },
     "metadata": {},
     "output_type": "display_data"
    }
   ],
   "source": [
    "display(\"text/html\", string(tm))"
   ]
  },
  {
   "cell_type": "code",
   "execution_count": null,
   "id": "f1d533c3-849e-4971-878b-3765a7f27141",
   "metadata": {},
   "outputs": [],
   "source": []
  },
  {
   "cell_type": "code",
   "execution_count": null,
   "id": "67f52aa2-3eca-451f-94f6-480c4e818832",
   "metadata": {},
   "outputs": [],
   "source": []
  },
  {
   "cell_type": "code",
   "execution_count": null,
   "id": "15cecd18-dfd2-4f80-af95-e75bf6c1381d",
   "metadata": {},
   "outputs": [],
   "source": []
  },
  {
   "cell_type": "code",
   "execution_count": null,
   "id": "a5368856-fc74-4d01-b217-087107f6a082",
   "metadata": {},
   "outputs": [],
   "source": []
  }
 ],
 "metadata": {
  "kernelspec": {
   "display_name": "Julia 1.9.2",
   "language": "julia",
   "name": "julia-1.9"
  },
  "language_info": {
   "file_extension": ".jl",
   "mimetype": "application/julia",
   "name": "julia",
   "version": "1.9.2"
  }
 },
 "nbformat": 4,
 "nbformat_minor": 5
}

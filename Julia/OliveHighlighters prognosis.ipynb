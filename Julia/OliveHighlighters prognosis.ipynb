{
 "cells": [
  {
   "cell_type": "markdown",
   "id": "2a28c2e9-a4a2-4e58-b7d4-7c071f57bd5d",
   "metadata": {},
   "source": [
    "### My highlighters\n",
    "this is a *'prognosis'* of `OliveHighlighters` -- pre `0.1` release, pre `Olive` `0.1` -- `Olive` is currently in **pre-release II**. I am using this notebook to check how well the highlighters are currently operating."
   ]
  },
  {
   "cell_type": "code",
   "execution_count": 1,
   "id": "0dd17d0e-f879-4e3c-8a77-7bf773bafe07",
   "metadata": {},
   "outputs": [],
   "source": [
    "using Revise"
   ]
  },
  {
   "cell_type": "code",
   "execution_count": 2,
   "id": "e66d83ea-0743-4c2a-8e4f-1a14f26f22d1",
   "metadata": {},
   "outputs": [
    {
     "name": "stderr",
     "output_type": "stream",
     "text": [
      "\u001b[32m\u001b[1m  Activating\u001b[22m\u001b[39m project at `~/mounted/packages/olive/OliveHighlighters`\n"
     ]
    }
   ],
   "source": [
    "using Pkg; Pkg.activate(\"OliveHighlighters\")"
   ]
  },
  {
   "cell_type": "code",
   "execution_count": 3,
   "id": "adde42c7-317e-4766-b32e-47a4fa727c2a",
   "metadata": {},
   "outputs": [
    {
     "name": "stderr",
     "output_type": "stream",
     "text": [
      "\u001b[36m\u001b[1m[ \u001b[22m\u001b[39m\u001b[36m\u001b[1mInfo: \u001b[22m\u001b[39mPrecompiling OliveHighlighters [f769160f-f39a-4920-b1de-ba699e2d8893]\n"
     ]
    }
   ],
   "source": [
    "using OliveHighlighters"
   ]
  },
  {
   "cell_type": "code",
   "execution_count": 4,
   "id": "736977a5-1b0a-4cfe-8a7b-b193694d6059",
   "metadata": {},
   "outputs": [
    {
     "data": {
      "text/plain": [
       "OliveHighlighters.TextStyleModifier(\"\", Int64[], Dict{UnitRange{Int64}, Symbol}(), Dict{Symbol, Vector{Pair{String, String}}}())"
      ]
     },
     "execution_count": 4,
     "metadata": {},
     "output_type": "execute_result"
    }
   ],
   "source": [
    "tm = OliveHighlighters.TextStyleModifier()"
   ]
  },
  {
   "cell_type": "code",
   "execution_count": 5,
   "id": "93265e8c-d32d-47bf-8396-1a9921bd74e3",
   "metadata": {},
   "outputs": [
    {
     "ename": "LoadError",
     "evalue": "UndefVarError: `TextModifier` not defined",
     "output_type": "error",
     "traceback": [
      "UndefVarError: `TextModifier` not defined",
      "",
      "Stacktrace:",
      " [1] top-level scope",
      "   @ In[5]:2"
     ]
    }
   ],
   "source": [
    "\n",
    "set_text!(tm::TextModifier, s::String) = tm.raw = rep_in(s)"
   ]
  },
  {
   "cell_type": "code",
   "execution_count": 6,
   "id": "ea5f3d27-cb05-4a30-935f-1bc50bed05b1",
   "metadata": {},
   "outputs": [
    {
     "data": {
      "text/plain": [
       "\"module Example\\nusing Toolips\\nusing Toolips.Components\\nimport Base: length\\n\\nfunction example(x::Int64, y::String)\\n    x += y\\nend\\n\\nfor x in 1:15\\n\\nend\\nif 1 > 2\\nelseif 3 < 5\\nend\""
      ]
     },
     "execution_count": 6,
     "metadata": {},
     "output_type": "execute_result"
    }
   ],
   "source": [
    "OliveHighlighters.set_text!(tm, \n",
    "    \"\"\"module Example\n",
    "       using Toolips\n",
    "       using Toolips.Components\n",
    "       import Base: length\n",
    "\n",
    "       function example(x::Int64, y::String)\n",
    "           x += y\n",
    "       end\n",
    "\n",
    "       for x in 1:15\n",
    "\n",
    "       end\n",
    "       if 1 > 2\n",
    "       elseif 3 < 5\n",
    "       end\"\"\")"
   ]
  },
  {
   "cell_type": "code",
   "execution_count": 7,
   "id": "8ff2f349-baa3-47c0-96ff-d9a269a38a85",
   "metadata": {},
   "outputs": [
    {
     "data": {
      "text/plain": [
       "Dict{Symbol, Vector{Pair{String, String}}} with 21 entries:\n",
       "  :begin    => [\"color\"=>\"#fc038c\"]\n",
       "  :default  => [\"color\"=>\"#3D3D3D\"]\n",
       "  :for      => [\"color\"=>\"#fc038c\"]\n",
       "  :exit     => [\"color\"=>\"#006C67\"]\n",
       "  :mutable  => [\"color\"=>\"#006C67\"]\n",
       "  :struct   => [\"color\"=>\"#fc038c\"]\n",
       "  :func     => [\"color\"=>\"#fc038c\"]\n",
       "  :module   => [\"color\"=>\"#b81870\"]\n",
       "  :string   => [\"color\"=>\"#007958\"]\n",
       "  :in       => [\"color\"=>\"#006C67\"]\n",
       "  :abstract => [\"color\"=>\"#006C67\"]\n",
       "  :char     => [\"color\"=>\"#8b0000\"]\n",
       "  :end      => [\"color\"=>\"#b81870\"]\n",
       "  :import   => [\"color\"=>\"#fc038c\"]\n",
       "  :op       => [\"color\"=>\"#0C023E\"]\n",
       "  :comment  => [\"color\"=>\"#808080\"]\n",
       "  :type     => [\"color\"=>\"#D67229\"]\n",
       "  :funcn    => [\"color\"=>\"#2F387B\"]\n",
       "  :number   => [\"color\"=>\"#8b0000\"]\n",
       "  :if       => [\"color\"=>\"#fc038c\"]\n",
       "  :using    => [\"color\"=>\"#006C67\"]"
      ]
     },
     "execution_count": 7,
     "metadata": {},
     "output_type": "execute_result"
    }
   ],
   "source": [
    "OliveHighlighters.julia_block!(tm)"
   ]
  },
  {
   "cell_type": "code",
   "execution_count": 8,
   "id": "4e725b04-8d63-44eb-86b8-09aeabab8295",
   "metadata": {},
   "outputs": [
    {
     "data": {
      "text/plain": [
       "\"<span id='modiftxt' style='color:#b81870;'>module</span><span id='modiftxt' style='color:#3D3D3D;'>&nbsp;Example<br></span><span id='modiftxt' style='color:#006C67;'>using</span><span id='modiftxt' style='color:#3D3D3D;'>&nbsp;Toolips<br></span><span id='modiftxt' style\" ⋯ 2235 bytes ⋯ \"span><span id='modiftxt' style='color:#0C023E;'><</span><span id='modiftxt' style='color:#3D3D3D;'>&nbsp;</span><span id='modiftxt' style='color:#8b0000;'>5</span><span id='modiftxt' style='color:#3D3D3D;'><br></span><span id='modiftxt' style='color:#b81870;'>end</span>\""
      ]
     },
     "execution_count": 8,
     "metadata": {},
     "output_type": "execute_result"
    }
   ],
   "source": [
    "mys = string(tm)"
   ]
  },
  {
   "cell_type": "code",
   "execution_count": 9,
   "id": "dba2b413-38a4-49fe-a157-99930dfc86d8",
   "metadata": {},
   "outputs": [
    {
     "data": {
      "text/html": [
       "<span id='modiftxt' style='color:#b81870;'>module</span><span id='modiftxt' style='color:#3D3D3D;'>&nbsp;Example<br></span><span id='modiftxt' style='color:#006C67;'>using</span><span id='modiftxt' style='color:#3D3D3D;'>&nbsp;Toolips<br></span><span id='modiftxt' style='color:#006C67;'>using</span><span id='modiftxt' style='color:#3D3D3D;'>&nbsp;Toolips.Components<br></span><span id='modiftxt' style='color:#fc038c;'>import</span><span id='modiftxt' style='color:#3D3D3D;'>&nbsp;Base:&nbsp;length<br><br></span><span id='modiftxt' style='color:#fc038c;'>function</span><span id='modiftxt' style='color:#3D3D3D;'>&nbsp;</span><span id='modiftxt' style='color:#2F387B;'>example</span><span id='modiftxt' style='color:#3D3D3D;'>(x</span><span id='modiftxt' style='color:#D67229;'>::Int64</span><span id='modiftxt' style='color:#3D3D3D;'>,&nbsp;y</span><span id='modiftxt' style='color:#D67229;'>::String</span><span id='modiftxt' style='color:#3D3D3D;'>)<br>&nbsp;&nbsp;&nbsp;&nbsp;x&nbsp;</span><span id='modiftxt' style='color:#0C023E;'>+=</span><span id='modiftxt' style='color:#3D3D3D;'>&nbsp;y<br></span><span id='modiftxt' style='color:#b81870;'>end</span><span id='modiftxt' style='color:#3D3D3D;'><br><br></span><span id='modiftxt' style='color:#fc038c;'>for</span><span id='modiftxt' style='color:#3D3D3D;'>&nbsp;x&nbsp;</span><span id='modiftxt' style='color:#006C67;'>in</span><span id='modiftxt' style='color:#3D3D3D;'>&nbsp;</span><span id='modiftxt' style='color:#8b0000;'>1</span><span id='modiftxt' style='color:#3D3D3D;'>:</span><span id='modiftxt' style='color:#8b0000;'>1</span><span id='modiftxt' style='color:#3D3D3D;'></span><span id='modiftxt' style='color:#8b0000;'>5</span><span id='modiftxt' style='color:#3D3D3D;'><br><br></span><span id='modiftxt' style='color:#b81870;'>end</span><span id='modiftxt' style='color:#3D3D3D;'><br></span><span id='modiftxt' style='color:#fc038c;'>if</span><span id='modiftxt' style='color:#3D3D3D;'>&nbsp;</span><span id='modiftxt' style='color:#8b0000;'>1</span><span id='modiftxt' style='color:#3D3D3D;'>&nbsp;</span><span id='modiftxt' style='color:#0C023E;'>></span><span id='modiftxt' style='color:#3D3D3D;'>&nbsp;</span><span id='modiftxt' style='color:#8b0000;'>2</span><span id='modiftxt' style='color:#3D3D3D;'><br></span><span id='modiftxt' style='color:#fc038c;'>elseif</span><span id='modiftxt' style='color:#3D3D3D;'>&nbsp;</span><span id='modiftxt' style='color:#8b0000;'>3</span><span id='modiftxt' style='color:#3D3D3D;'>&nbsp;</span><span id='modiftxt' style='color:#0C023E;'><</span><span id='modiftxt' style='color:#3D3D3D;'>&nbsp;</span><span id='modiftxt' style='color:#8b0000;'>5</span><span id='modiftxt' style='color:#3D3D3D;'><br></span><span id='modiftxt' style='color:#b81870;'>end</span>"
      ]
     },
     "metadata": {},
     "output_type": "display_data"
    }
   ],
   "source": [
    "display(\"text/html\", mys)"
   ]
  },
  {
   "cell_type": "code",
   "execution_count": 11,
   "id": "c43ab001-efa4-4745-a5de-d2ce40eabf05",
   "metadata": {},
   "outputs": [
    {
     "data": {
      "text/html": [
       "<span id='modiftxt' style='color:#b81870;'>module</span><span id='modiftxt' style='color:#3D3D3D;'>&nbsp;Example<br></span><span id='modiftxt' style='color:#006C67;'>using</span><span id='modiftxt' style='color:#3D3D3D;'>&nbsp;Toolips<br></span><span id='modiftxt' style='color:#006C67;'>using</span><span id='modiftxt' style='color:#3D3D3D;'>&nbsp;Toolips.Components<br></span><span id='modiftxt' style='color:#fc038c;'>import</span><span id='modiftxt' style='color:#3D3D3D;'>&nbsp;Base:&nbsp;length<br><br></span><span id='modiftxt' style='color:#fc038c;'>function</span><span id='modiftxt' style='color:#3D3D3D;'>&nbsp;</span><span id='modiftxt' style='color:#2F387B;'>example</span><span id='modiftxt' style='color:#3D3D3D;'>(x</span><span id='modiftxt' style='color:#D67229;'>::Int64</span><span id='modiftxt' style='color:#3D3D3D;'>,&nbsp;y</span><span id='modiftxt' style='color:#D67229;'>::String</span><span id='modiftxt' style='color:#3D3D3D;'>)<br>&nbsp;&nbsp;&nbsp;&nbsp;x&nbsp;</span><span id='modiftxt' style='color:#0C023E;'>+=</span><span id='modiftxt' style='color:#3D3D3D;'>&nbsp;y<br></span><span id='modiftxt' style='color:#b81870;'>end</span><span id='modiftxt' style='color:#3D3D3D;'><br><br></span><span id='modiftxt' style='color:#fc038c;'>for</span><span id='modiftxt' style='color:#3D3D3D;'>&nbsp;x&nbsp;</span><span id='modiftxt' style='color:#006C67;'>in</span><span id='modiftxt' style='color:#3D3D3D;'>&nbsp;</span><span id='modiftxt' style='color:#8b0000;'>1</span><span id='modiftxt' style='color:#3D3D3D;'>:</span><span id='modiftxt' style='color:#8b0000;'>1</span><span id='modiftxt' style='color:#3D3D3D;'></span><span id='modiftxt' style='color:#8b0000;'>5</span><span id='modiftxt' style='color:#3D3D3D;'><br><br></span><span id='modiftxt' style='color:#b81870;'>end</span><span id='modiftxt' style='color:#3D3D3D;'><br></span><span id='modiftxt' style='color:#fc038c;'>if</span><span id='modiftxt' style='color:#3D3D3D;'>&nbsp;</span><span id='modiftxt' style='color:#8b0000;'>1</span><span id='modiftxt' style='color:#3D3D3D;'>&nbsp;</span><span id='modiftxt' style='color:#0C023E;'>></span><span id='modiftxt' style='color:#3D3D3D;'>&nbsp;</span><span id='modiftxt' style='color:#8b0000;'>2</span><span id='modiftxt' style='color:#3D3D3D;'><br></span><span id='modiftxt' style='color:#fc038c;'>elseif</span><span id='modiftxt' style='color:#3D3D3D;'>&nbsp;</span><span id='modiftxt' style='color:#8b0000;'>3</span><span id='modiftxt' style='color:#3D3D3D;'>&nbsp;</span><span id='modiftxt' style='color:#0C023E;'><</span><span id='modiftxt' style='color:#3D3D3D;'>&nbsp;</span><span id='modiftxt' style='color:#8b0000;'>5</span><span id='modiftxt' style='color:#3D3D3D;'><br></span><span id='modiftxt' style='color:#b81870;'>end</span>"
      ]
     },
     "metadata": {},
     "output_type": "display_data"
    }
   ],
   "source": [
    "display(\"text/html\", string(tm))"
   ]
  },
  {
   "cell_type": "code",
   "execution_count": 26,
   "id": "8e929f24-b4a7-4c24-9f25-2a7b36894cae",
   "metadata": {},
   "outputs": [
    {
     "data": {
      "text/plain": [
       "\"function sample(x::Int64)\\n    x = x * 5 + 1\\n    sleep(5)\\n    return(x)\\n end\\nfunction sample(y::String)\\n    sleep(5)\\n    return(y)\\n end\\n\\n@async sample(55)\\n@async sample(\\\"hello friend!\\\\n\\\")\\n# hello\\n# hi\\n#== \\nno\\n==#\""
      ]
     },
     "execution_count": 26,
     "metadata": {},
     "output_type": "execute_result"
    }
   ],
   "source": [
    "OliveHighlighters.clear!(tm)\n",
    "OliveHighlighters.set_text!(tm, \n",
    "    \"\"\"function sample(x::Int64)\n",
    "        x = x * 5 + 1\n",
    "        sleep(5)\n",
    "        return(x)\n",
    "     end\n",
    "    function sample(y::String)\n",
    "        sleep(5)\n",
    "        return(y)\n",
    "     end\n",
    "    \n",
    "    @async sample(55)\n",
    "    @async sample(\"hello friend!\\\\n\")\n",
    "    # hello\n",
    "    # hi\n",
    "    #== \n",
    "    no\n",
    "    ==#\"\"\")"
   ]
  },
  {
   "cell_type": "code",
   "execution_count": 27,
   "id": "f83a844b-0241-461d-a0c0-e842e3d81312",
   "metadata": {},
   "outputs": [
    {
     "data": {
      "text/plain": [
       "Dict{Symbol, Vector{Pair{String, String}}} with 21 entries:\n",
       "  :begin    => [\"color\"=>\"#fc038c\"]\n",
       "  :default  => [\"color\"=>\"#3D3D3D\"]\n",
       "  :for      => [\"color\"=>\"#fc038c\"]\n",
       "  :exit     => [\"color\"=>\"#006C67\"]\n",
       "  :mutable  => [\"color\"=>\"#006C67\"]\n",
       "  :struct   => [\"color\"=>\"#fc038c\"]\n",
       "  :func     => [\"color\"=>\"#fc038c\"]\n",
       "  :module   => [\"color\"=>\"#b81870\"]\n",
       "  :string   => [\"color\"=>\"#007958\"]\n",
       "  :in       => [\"color\"=>\"#006C67\"]\n",
       "  :abstract => [\"color\"=>\"#006C67\"]\n",
       "  :char     => [\"color\"=>\"#8b0000\"]\n",
       "  :end      => [\"color\"=>\"#b81870\"]\n",
       "  :import   => [\"color\"=>\"#fc038c\"]\n",
       "  :op       => [\"color\"=>\"#0C023E\"]\n",
       "  :comment  => [\"color\"=>\"#808080\"]\n",
       "  :type     => [\"color\"=>\"#D67229\"]\n",
       "  :funcn    => [\"color\"=>\"#2F387B\"]\n",
       "  :number   => [\"color\"=>\"#8b0000\"]\n",
       "  :if       => [\"color\"=>\"#fc038c\"]\n",
       "  :using    => [\"color\"=>\"#006C67\"]"
      ]
     },
     "execution_count": 27,
     "metadata": {},
     "output_type": "execute_result"
    }
   ],
   "source": [
    "OliveHighlighters.julia_block!(tm)"
   ]
  },
  {
   "cell_type": "code",
   "execution_count": 28,
   "id": "db38443a-e7a1-43a2-a1b0-aaafa22780f6",
   "metadata": {},
   "outputs": [
    {
     "data": {
      "text/html": [
       "<span id='modiftxt' style='color:#fc038c;'>function</span><span id='modiftxt' style='color:#3D3D3D;'>&nbsp;</span><span id='modiftxt' style='color:#2F387B;'>sample</span><span id='modiftxt' style='color:#3D3D3D;'>(x</span><span id='modiftxt' style='color:#D67229;'>::Int64</span><span id='modiftxt' style='color:#3D3D3D;'>)<br>&nbsp;&nbsp;&nbsp;&nbsp;x&nbsp;</span><span id='modiftxt' style='color:#0C023E;'>=</span><span id='modiftxt' style='color:#3D3D3D;'>&nbsp;x&nbsp;</span><span id='modiftxt' style='color:#0C023E;'>*</span><span id='modiftxt' style='color:#3D3D3D;'>&nbsp;</span><span id='modiftxt' style='color:#8b0000;'>5</span><span id='modiftxt' style='color:#3D3D3D;'>&nbsp;</span><span id='modiftxt' style='color:#0C023E;'>+</span><span id='modiftxt' style='color:#3D3D3D;'>&nbsp;</span><span id='modiftxt' style='color:#8b0000;'>1</span><span id='modiftxt' style='color:#3D3D3D;'><br>&nbsp;&nbsp;&nbsp;&nbsp;</span><span id='modiftxt' style='color:#2F387B;'>sleep</span><span id='modiftxt' style='color:#3D3D3D;'>(</span><span id='modiftxt' style='color:#8b0000;'>5</span><span id='modiftxt' style='color:#3D3D3D;'>)<br>&nbsp;&nbsp;&nbsp;&nbsp;</span><span id='modiftxt' style='color:#2F387B;'>return</span><span id='modiftxt' style='color:#3D3D3D;'>(x)<br>&nbsp;</span><span id='modiftxt' style='color:#b81870;'>end</span><span id='modiftxt' style='color:#3D3D3D;'><br></span><span id='modiftxt' style='color:#fc038c;'>function</span><span id='modiftxt' style='color:#3D3D3D;'>&nbsp;</span><span id='modiftxt' style='color:#2F387B;'>sample</span><span id='modiftxt' style='color:#3D3D3D;'>(y</span><span id='modiftxt' style='color:#D67229;'>::String</span><span id='modiftxt' style='color:#3D3D3D;'>)<br>&nbsp;&nbsp;&nbsp;&nbsp;</span><span id='modiftxt' style='color:#2F387B;'>sleep</span><span id='modiftxt' style='color:#3D3D3D;'>(</span><span id='modiftxt' style='color:#8b0000;'>5</span><span id='modiftxt' style='color:#3D3D3D;'>)<br>&nbsp;&nbsp;&nbsp;&nbsp;</span><span id='modiftxt' style='color:#2F387B;'>return</span><span id='modiftxt' style='color:#3D3D3D;'>(y)<br>&nbsp;</span><span id='modiftxt' style='color:#b81870;'>end</span><span id='modiftxt' style='color:#3D3D3D;'><br><br></span><span id='modiftxt' style='color:#D67229;'>@async</span><span id='modiftxt' style='color:#3D3D3D;'>&nbsp;</span><span id='modiftxt' style='color:#2F387B;'>sample</span><span id='modiftxt' style='color:#3D3D3D;'>(</span><span id='modiftxt' style='color:#8b0000;'>5</span><span id='modiftxt' style='color:#3D3D3D;'></span><span id='modiftxt' style='color:#8b0000;'>5</span><span id='modiftxt' style='color:#3D3D3D;'>)<br></span><span id='modiftxt' style='color:#D67229;'>@async</span><span id='modiftxt' style='color:#3D3D3D;'>&nbsp;</span><span id='modiftxt' style='color:#2F387B;'>sample</span><span id='modiftxt' style='color:#3D3D3D;'>(</span><span id='modiftxt' style='color:#007958;'>\"hello&nbsp;friend!&bsol;n\"</span><span id='modiftxt' style='color:#3D3D3D;'>)<br></span><span id='modiftxt' style='color:#808080;'>#&nbsp;hello<br></span><span id='modiftxt' style='color:#3D3D3D;'></span><span id='modiftxt' style='color:#808080;'>#&nbsp;hi<br></span><span id='modiftxt' style='color:#3D3D3D;'></span><span id='modiftxt' style='color:#808080;'>#==&nbsp;<br></span><span id='modiftxt' style='color:#3D3D3D;'>no<br>==</span><span id='modiftxt' style='color:#808080;'>#</span>"
      ]
     },
     "metadata": {},
     "output_type": "display_data"
    }
   ],
   "source": [
    "display(\"text/html\", string(tm))"
   ]
  },
  {
   "cell_type": "code",
   "execution_count": 59,
   "id": "5ab383ff-8002-49df-8178-34c9370d4ff1",
   "metadata": {},
   "outputs": [
    {
     "data": {
      "text/plain": [
       "\"my_sample_string = \\\"\\\"\\\"hello world! my name is emmac! \\\\n  \\$(x + 5)\\\"\\\"\\\" \""
      ]
     },
     "execution_count": 59,
     "metadata": {},
     "output_type": "execute_result"
    }
   ],
   "source": [
    "OliveHighlighters.clear!(tm)\n",
    "OliveHighlighters.set_text!(tm, \n",
    "    \"\"\"my_sample_string = \\\"\\\"\\\"hello world! my name is emmac! \\\\n  \\$(x + 5)\"\\\"\\\" \"\"\")"
   ]
  },
  {
   "cell_type": "code",
   "execution_count": 60,
   "id": "1f349e84-75a1-4e1e-9ade-db8702048959",
   "metadata": {},
   "outputs": [],
   "source": [
    "OliveHighlighters.mark_julia!(tm)"
   ]
  },
  {
   "cell_type": "code",
   "execution_count": 62,
   "id": "2c90d492-067d-4fc5-96c8-10d3005866f0",
   "metadata": {},
   "outputs": [
    {
     "data": {
      "text/html": [
       "<span id='modiftxt' style='color:#3D3D3D;'>my_sample_string&nbsp;</span><span id='modiftxt' style='color:#0C023E;'>=</span><span id='modiftxt' style='color:#3D3D3D;'>&nbsp;</span><span id='modiftxt' style='color:#007958;'>\"\"</span><span id='modiftxt' style='color:#3D3D3D;'>\"hello&nbsp;world!&nbsp;my&nbsp;name&nbsp;is&nbsp;emmac!&nbsp;&bsol;n&nbsp;&nbsp;</span><span id='modiftxt' style='color:#2F387B;'>$</span><span id='modiftxt' style='color:#3D3D3D;'>(x&nbsp;</span><span id='modiftxt' style='color:#0C023E;'>+</span><span id='modiftxt' style='color:#3D3D3D;'>&nbsp;</span><span id='modiftxt' style='color:#8b0000;'>5</span><span id='modiftxt' style='color:#3D3D3D;'>)</span><span id='modiftxt' style='color:#007958;'>\"\"</span><span id='modiftxt' style='color:#3D3D3D;'></span><span id='modiftxt' style='color:#007958;'>\"&nbsp;</span>"
      ]
     },
     "metadata": {},
     "output_type": "display_data"
    }
   ],
   "source": [
    "display(\"text/html\", string(tm))"
   ]
  },
  {
   "cell_type": "code",
   "execution_count": null,
   "id": "60bbc0da-3f6c-4c52-98b1-97e6a92b4eba",
   "metadata": {},
   "outputs": [],
   "source": []
  },
  {
   "cell_type": "code",
   "execution_count": null,
   "id": "5a568e27-eba7-4a32-9901-ca379e7831ee",
   "metadata": {},
   "outputs": [],
   "source": []
  }
 ],
 "metadata": {
  "kernelspec": {
   "display_name": "Julia 1.9.2",
   "language": "julia",
   "name": "julia-1.9"
  },
  "language_info": {
   "file_extension": ".jl",
   "mimetype": "application/julia",
   "name": "julia",
   "version": "1.9.2"
  }
 },
 "nbformat": 4,
 "nbformat_minor": 5
}

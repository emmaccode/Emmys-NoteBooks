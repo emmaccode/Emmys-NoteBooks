{
 "cells": [
  {
   "cell_type": "code",
   "execution_count": 8,
   "id": "eddca2ac-1576-4e0c-9352-c255a423a33c",
   "metadata": {},
   "outputs": [
    {
     "name": "stdout",
     "output_type": "stream",
     "text": [
      "this is the first line of my new file\n",
      "this is the second line of my new file\n",
      "\n"
     ]
    }
   ],
   "source": [
    "open(\"myfile.txt\", \"r\") do i::IOStream\n",
    "    println(read(i, String))\n",
    "end"
   ]
  },
  {
   "cell_type": "code",
   "execution_count": 9,
   "id": "3c211556-5344-4f9b-a52d-4599e69f20e0",
   "metadata": {},
   "outputs": [
    {
     "data": {
      "text/plain": [
       "37"
      ]
     },
     "execution_count": 9,
     "metadata": {},
     "output_type": "execute_result"
    }
   ],
   "source": [
    "open(\"myfile.txt\", \"a\") do i::IOStream\n",
    "    write(i, \"this is the third line of my new file\")\n",
    "end"
   ]
  },
  {
   "cell_type": "code",
   "execution_count": 10,
   "id": "0022604c-6681-4335-9f78-4f3d832f121b",
   "metadata": {},
   "outputs": [
    {
     "name": "stdout",
     "output_type": "stream",
     "text": [
      "this is the first line of my new file\n",
      "this is the second line of my new file\n",
      "this is the third line of my new file\n"
     ]
    }
   ],
   "source": [
    "open(\"myfile.txt\", \"r\") do i::IOStream\n",
    "    println(read(i, String))\n",
    "end"
   ]
  },
  {
   "cell_type": "code",
   "execution_count": 11,
   "id": "60dc4ce8-52b6-4bb5-b776-47d121ccff0a",
   "metadata": {},
   "outputs": [
    {
     "data": {
      "text/plain": [
       "\"this is the first line of my new file\\nthis is the second line of my new file\\nthis is the third line of my new file\""
      ]
     },
     "execution_count": 11,
     "metadata": {},
     "output_type": "execute_result"
    }
   ],
   "source": [
    "read(\"myfile.txt\", String)"
   ]
  },
  {
   "cell_type": "code",
   "execution_count": 13,
   "id": "8fc88575-8a4a-4cfb-a526-d29cee9bfea8",
   "metadata": {},
   "outputs": [
    {
     "name": "stdout",
     "output_type": "stream",
     "text": [
      "POSITION: 20\n",
      "ne of my new file\n",
      "this is the second line of my new file\n",
      "this is the third line of my new file\n"
     ]
    }
   ],
   "source": [
    "open(\"myfile.txt\", \"r\") do i::IOStream\n",
    "    seek(i, 20)\n",
    "    println(\"POSITION: $(position(i))\")\n",
    "    println(read(i, String))\n",
    "end"
   ]
  },
  {
   "cell_type": "code",
   "execution_count": 19,
   "id": "b6126160-9f6a-4b82-bdb9-1174881a18bd",
   "metadata": {},
   "outputs": [
    {
     "name": "stdout",
     "output_type": "stream",
     "text": [
      "this is the first line of my new file\n",
      "t\n"
     ]
    }
   ],
   "source": [
    "open(\"myfile.txt\", \"r\") do i::IOStream\n",
    "    # both of these will seek for us\n",
    "    line1 = readline(i)\n",
    "    line2 = readuntil(i, \"\\n\")\n",
    "    println(line1)\n",
    "    println(Char(peek(i)))\n",
    "end"
   ]
  },
  {
   "cell_type": "code",
   "execution_count": 24,
   "id": "725f87fd-7cbe-4821-b4ee-348b1af5978b",
   "metadata": {},
   "outputs": [
    {
     "data": {
      "text/plain": [
       "\"1920x1080\""
      ]
     },
     "execution_count": 24,
     "metadata": {},
     "output_type": "execute_result"
    }
   ],
   "source": [
    "open(\"display.ini\", \"r\") do i::IOStream\n",
    "    readuntil(i, \"resolution=\")\n",
    "    resolution = readline(i)\n",
    "end"
   ]
  },
  {
   "cell_type": "code",
   "execution_count": 28,
   "id": "30c3b628-e371-4882-b2d3-052d234edd29",
   "metadata": {},
   "outputs": [
    {
     "data": {
      "text/plain": [
       "7×4 Matrix{SubString{String}}:\n",
       " \"emmac\"     \"25\"  \"November\"  \"NM\"\n",
       " \"jaunita\"   \"37\"  \"January\"   \"AL\"\n",
       " \"james\"     \"28\"  \"February\"  \"TX\"\n",
       " \"rob\"       \"78\"  \"June\"      \"KS\"\n",
       " \"diane\"     \"65\"  \"August\"    \"TX\"\n",
       " \"jude\"      \"54\"  \"June\"      \"TN\"\n",
       " \"challisa\"  \"33\"  \"August\"    \"CA\""
      ]
     },
     "execution_count": 28,
     "metadata": {},
     "output_type": "execute_result"
    }
   ],
   "source": [
    "names, age, bm, st = [], [], [], []\n",
    "open(\"samplefile.txt\", \"r\") do o::IOStream\n",
    "    while true\n",
    "        if eof(o)\n",
    "            break\n",
    "        end\n",
    "        line = readline(o)\n",
    "         splits = split(line, \"|\")\n",
    "         [push!(g, splits[e]) for (e, g) in enumerate([names, age, bm, st])]\n",
    "    end\n",
    "end\n",
    "\n",
    "hcat(names, age, bm, st)"
   ]
  },
  {
   "cell_type": "code",
   "execution_count": null,
   "id": "2d169dc2-6af2-4f60-b0af-efead308988a",
   "metadata": {},
   "outputs": [],
   "source": []
  }
 ],
 "metadata": {
  "kernelspec": {
   "display_name": "Julia 1.9.2",
   "language": "julia",
   "name": "julia-1.9"
  },
  "language_info": {
   "file_extension": ".jl",
   "mimetype": "application/julia",
   "name": "julia",
   "version": "1.9.2"
  }
 },
 "nbformat": 4,
 "nbformat_minor": 5
}

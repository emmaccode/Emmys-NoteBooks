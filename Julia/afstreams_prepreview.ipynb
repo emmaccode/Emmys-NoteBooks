{
 "cells": [
  {
   "cell_type": "markdown",
   "id": "7371aa1a-4288-485a-a2a5-0f8fd5a9a65c",
   "metadata": {},
   "source": [
    "#### what have you found?\n",
    "The following is a simple notebook I created to test my 'ff' feature-set within `AlgebraStreamFrames`. The goal of this package is to provide out-of-memory data using a number of algebraic file-readers. This notebook will be exclusively focused on the `:ff` ( Feature File ) format."
   ]
  },
  {
   "cell_type": "code",
   "execution_count": 1,
   "id": "0ea83b04-07dc-4df8-a2b7-e6f5de52ce69",
   "metadata": {},
   "outputs": [
    {
     "name": "stderr",
     "output_type": "stream",
     "text": [
      "\u001b[32m\u001b[1m  Activating\u001b[22m\u001b[39m project at `~/dev/packages/algebraframes/AlgebraStreamFrames`\n"
     ]
    }
   ],
   "source": [
    "using Pkg; Pkg.activate(\"AlgebraStreamFrames\")"
   ]
  },
  {
   "cell_type": "code",
   "execution_count": 2,
   "id": "ddc124bd-38f5-49d5-b86d-599b2eddc590",
   "metadata": {},
   "outputs": [],
   "source": [
    "using AlgebraStreamFrames"
   ]
  },
  {
   "cell_type": "code",
   "execution_count": 3,
   "id": "8f0f41a8-849a-49c9-9275-44a1088742cb",
   "metadata": {},
   "outputs": [
    {
     "name": "stderr",
     "output_type": "stream",
     "text": [
      "\u001b[36m\u001b[1m[ \u001b[22m\u001b[39m\u001b[36m\u001b[1mInfo: \u001b[22m\u001b[39mB.ff\n",
      "\u001b[36m\u001b[1m[ \u001b[22m\u001b[39m\u001b[36m\u001b[1mInfo: \u001b[22m\u001b[39mA.ff\n",
      "\u001b[36m\u001b[1m[ \u001b[22m\u001b[39m\u001b[36m\u001b[1mInfo: \u001b[22m\u001b[39mDataType[String, Int64]\n"
     ]
    },
    {
     "data": {
      "text/plain": [
       "frame 27 x 2 | B | A\n"
      ]
     },
     "execution_count": 3,
     "metadata": {},
     "output_type": "execute_result"
    }
   ],
   "source": [
    "mysf = AlgebraStreamFrames.StreamFrame(\"A\" => \"A.ff\", \"B\" => \"B.ff\")"
   ]
  },
  {
   "cell_type": "code",
   "execution_count": 12,
   "id": "a2aee7aa-37cf-407f-835d-301f4ab64520",
   "metadata": {},
   "outputs": [
    {
     "data": {
      "text/plain": [
       "27-element Vector{Int64}:\n",
       "   1\n",
       "   2\n",
       "   3\n",
       "   4\n",
       "  74\n",
       "  49\n",
       " 543\n",
       "  34\n",
       "  22\n",
       "  11\n",
       "  23\n",
       "  55\n",
       "  82\n",
       "   ⋮\n",
       "  33\n",
       "  10\n",
       "  45\n",
       "  14\n",
       "  33\n",
       "  44\n",
       "  22\n",
       "   1\n",
       "   4\n",
       "   5\n",
       "  76\n",
       " 414"
      ]
     },
     "execution_count": 12,
     "metadata": {},
     "output_type": "execute_result"
    }
   ],
   "source": [
    "mysf[\"A\"]"
   ]
  },
  {
   "cell_type": "code",
   "execution_count": 13,
   "id": "958c8412-93ba-4816-a24c-a512a14ffc4c",
   "metadata": {},
   "outputs": [
    {
     "data": {
      "text/plain": [
       "27-element Vector{String}:\n",
       " \"answer\"\n",
       " \"to\"\n",
       " \"my\"\n",
       " \"question\"\n",
       " \"wont\"\n",
       " \"you\"\n",
       " \"please\"\n",
       " \"tell\"\n",
       " \"me\"\n",
       " \"the\"\n",
       " \"answer\"\n",
       " \"oh\"\n",
       " \"my\"\n",
       " ⋮\n",
       " \"not\"\n",
       " \"know\"\n",
       " \"anything\"\n",
       " \"about\"\n",
       " \"spaghetti\"\n",
       " \"please\"\n",
       " \"help\"\n",
       " \"me\"\n",
       " \"figure\"\n",
       " \"this\"\n",
       " \"out\"\n",
       " \"sire\""
      ]
     },
     "execution_count": 13,
     "metadata": {},
     "output_type": "execute_result"
    }
   ],
   "source": [
    "mysf[\"B\"]"
   ]
  },
  {
   "cell_type": "code",
   "execution_count": 14,
   "id": "12e3ffc7-8f66-4e44-8b17-207511f973c4",
   "metadata": {},
   "outputs": [
    {
     "data": {
      "text/html": [
       "<table><tr><th>B</th><th>A</th></tr><tr><td>answer</td><td>1</td></tr><tr><td>to</td><td>2</td></tr><tr><td>my</td><td>3</td></tr><tr><td>question</td><td>4</td></tr><tr><td>wont</td><td>74</td></tr></table>"
      ]
     },
     "metadata": {},
     "output_type": "display_data"
    },
    {
     "data": {
      "text/plain": []
     },
     "execution_count": 14,
     "metadata": {},
     "output_type": "execute_result"
    }
   ],
   "source": [
    "generate(mysf)"
   ]
  },
  {
   "cell_type": "markdown",
   "id": "bca8c9cd-6675-4eba-81d5-5a3885bddbf2",
   "metadata": {},
   "source": [
    "A pretty simple test, but it is easy to see the advantages presented by this data-structure and understand what I am trying to do. As you can see, *actually* allocating this data would take a lot more memory. *This data,* `A.ff` and `B.ff` contains 27 observations. The less observations we have, the less these memory-less benefits are felt. Here, we see a regular data-structure would easily put us above a Kb, even with this relatively small frame, whereas the algebraic representation struggles to approach that 1Kb marker."
   ]
  },
  {
   "cell_type": "code",
   "execution_count": 15,
   "id": "b909fd0e-e096-4586-af5c-377277113267",
   "metadata": {},
   "outputs": [
    {
     "data": {
      "text/latex": [
       "\\begin{tabular}\n",
       "{l | r | l}\n",
       "name & size & summary \\\\\n",
       "\\hline\n",
       "Base &  & Module \\\\\n",
       "Core &  & Module \\\\\n",
       "Main &  & Module \\\\\n",
       "mysf & 746 bytes & StreamFrame\\{:feature\\_file\\} \\\\\n",
       "\\end{tabular}\n"
      ],
      "text/markdown": [
       "| name |      size | summary                    |\n",
       "|:---- | ---------:|:-------------------------- |\n",
       "| Base |           | Module                     |\n",
       "| Core |           | Module                     |\n",
       "| Main |           | Module                     |\n",
       "| mysf | 746 bytes | StreamFrame{:feature_file} |\n"
      ],
      "text/plain": [
       "  name      size summary                   \n",
       "  –––– ––––––––– ––––––––––––––––––––––––––\n",
       "  Base           Module                    \n",
       "  Core           Module                    \n",
       "  Main           Module                    \n",
       "  mysf 746 bytes StreamFrame{:feature_file}"
      ]
     },
     "execution_count": 15,
     "metadata": {},
     "output_type": "execute_result"
    }
   ],
   "source": [
    "varinfo()"
   ]
  },
  {
   "cell_type": "code",
   "execution_count": 16,
   "id": "c9e650d1-85ee-49e1-afad-0dd22aa389d4",
   "metadata": {},
   "outputs": [
    {
     "data": {
      "text/plain": [
       "56"
      ]
     },
     "execution_count": 16,
     "metadata": {},
     "output_type": "execute_result"
    }
   ],
   "source": [
    "sizeof(mysf)"
   ]
  },
  {
   "cell_type": "code",
   "execution_count": 17,
   "id": "26af6a17-8338-4e68-b19d-5ee32e12b889",
   "metadata": {},
   "outputs": [
    {
     "data": {
      "text/html": [
       "<table><tr><th>B</th><th>A</th></tr><tr><td>answer</td><td>1</td></tr><tr><td>to</td><td>2</td></tr><tr><td>my</td><td>3</td></tr><tr><td>question</td><td>4</td></tr><tr><td>wont</td><td>74</td></tr></table>"
      ]
     },
     "metadata": {},
     "output_type": "display_data"
    },
    {
     "data": {
      "text/plain": []
     },
     "execution_count": 17,
     "metadata": {},
     "output_type": "execute_result"
    }
   ],
   "source": [
    "myf = generate(mysf)"
   ]
  },
  {
   "cell_type": "code",
   "execution_count": 18,
   "id": "ac45562c-97bb-40d1-a981-8c0ab26cbf51",
   "metadata": {},
   "outputs": [
    {
     "data": {
      "text/latex": [
       "\\begin{tabular}\n",
       "{l | r | l}\n",
       "name & size & summary \\\\\n",
       "\\hline\n",
       "Base &  & Module \\\\\n",
       "Core &  & Module \\\\\n",
       "Main &  & Module \\\\\n",
       "myf & 1.024 KiB & AlgebraFrames.Frame \\\\\n",
       "mysf & 746 bytes & StreamFrame\\{:feature\\_file\\} \\\\\n",
       "\\end{tabular}\n"
      ],
      "text/markdown": [
       "| name |      size | summary                    |\n",
       "|:---- | ---------:|:-------------------------- |\n",
       "| Base |           | Module                     |\n",
       "| Core |           | Module                     |\n",
       "| Main |           | Module                     |\n",
       "| myf  | 1.024 KiB | AlgebraFrames.Frame        |\n",
       "| mysf | 746 bytes | StreamFrame{:feature_file} |\n"
      ],
      "text/plain": [
       "  name      size summary                   \n",
       "  –––– ––––––––– ––––––––––––––––––––––––––\n",
       "  Base           Module                    \n",
       "  Core           Module                    \n",
       "  Main           Module                    \n",
       "  myf  1.024 KiB AlgebraFrames.Frame       \n",
       "  mysf 746 bytes StreamFrame{:feature_file}"
      ]
     },
     "execution_count": 18,
     "metadata": {},
     "output_type": "execute_result"
    }
   ],
   "source": [
    "varinfo()"
   ]
  },
  {
   "cell_type": "code",
   "execution_count": 19,
   "id": "fffbf8cf-4e11-4b83-9d79-5d2d351f53d6",
   "metadata": {},
   "outputs": [
    {
     "data": {
      "text/plain": [
       "24"
      ]
     },
     "execution_count": 19,
     "metadata": {},
     "output_type": "execute_result"
    }
   ],
   "source": [
    "sizeof(myf)"
   ]
  },
  {
   "cell_type": "markdown",
   "id": "76fe76ea-6217-4b7c-b220-e265f2213301",
   "metadata": {},
   "source": [
    "This is an **early iteration**. It is likely this package will *eventually* come to support more popular formats, such as CSV and JSON. For now, the main focus is my use-case, which revolves primarily around *feature files*. More work to `AlgebraFrames` **and** this package will be required to finally accomplish these goals, but this demonstration is a good sign that the project is on the right track and we are indeed slowly inching closer."
   ]
  }
 ],
 "metadata": {
  "kernelspec": {
   "display_name": "Julia 1.11.5",
   "language": "julia",
   "name": "julia-1.11"
  },
  "language_info": {
   "file_extension": ".jl",
   "mimetype": "application/julia",
   "name": "julia",
   "version": "1.11.5"
  }
 },
 "nbformat": 4,
 "nbformat_minor": 5
}

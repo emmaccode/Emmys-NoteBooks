{
 "cells": [
  {
   "cell_type": "code",
   "execution_count": 1,
   "id": "41e848b1-daa8-40c6-bf1e-760461e99052",
   "metadata": {},
   "outputs": [
    {
     "name": "stderr",
     "output_type": "stream",
     "text": [
      "\u001b[32m\u001b[1m  Activating\u001b[22m\u001b[39m project at `~/dev/packages/algebraframes/AlgebraFrames.jl`\n",
      "\u001b[36m\u001b[1m[ \u001b[22m\u001b[39m\u001b[36m\u001b[1mInfo: \u001b[22m\u001b[39mPrecompiling AlgebraFrames [91245b94-7320-4a9d-ac3a-8d3b3e6674af] (cache misses: include_dependency fsize change (2))\n"
     ]
    }
   ],
   "source": [
    "using Revise\n",
    "using Pkg; Pkg.activate(\"AlgebraFrames.jl\")\n",
    "using AlgebraFrames"
   ]
  },
  {
   "cell_type": "code",
   "execution_count": 2,
   "id": "06e53952-d702-4c36-922a-04fc9c65fb9f",
   "metadata": {},
   "outputs": [
    {
     "data": {
      "text/plain": [
       "frame 30rows x 3columns | B | goodbye | hello\n"
      ]
     },
     "execution_count": 2,
     "metadata": {},
     "output_type": "execute_result"
    }
   ],
   "source": [
    "new_af = algebra(30, \"hello\" => Int64, \"goodbye\" => String, \"B\" => Bool)"
   ]
  },
  {
   "cell_type": "code",
   "execution_count": 3,
   "id": "083731b9-5e2b-4082-9889-5565cf518b10",
   "metadata": {},
   "outputs": [
    {
     "data": {
      "text/plain": [
       "30-element Vector{Int64}:\n",
       " 0\n",
       " 0\n",
       " 0\n",
       " 0\n",
       " 0\n",
       " 0\n",
       " 0\n",
       " 0\n",
       " 0\n",
       " 0\n",
       " 0\n",
       " 0\n",
       " 0\n",
       " ⋮\n",
       " 0\n",
       " 0\n",
       " 0\n",
       " 0\n",
       " 0\n",
       " 0\n",
       " 0\n",
       " 0\n",
       " 0\n",
       " 0\n",
       " 0\n",
       " 0"
      ]
     },
     "execution_count": 3,
     "metadata": {},
     "output_type": "execute_result"
    }
   ],
   "source": [
    "new_af[\"hello\"]"
   ]
  },
  {
   "cell_type": "code",
   "execution_count": 4,
   "id": "8d38461b-48ac-4b64-a259-d2557adb56f9",
   "metadata": {},
   "outputs": [
    {
     "data": {
      "text/plain": [
       "30-element Vector{String}:\n",
       " \"null\"\n",
       " \"null\"\n",
       " \"null\"\n",
       " \"null\"\n",
       " \"null\"\n",
       " \"null\"\n",
       " \"null\"\n",
       " \"null\"\n",
       " \"null\"\n",
       " \"null\"\n",
       " \"null\"\n",
       " \"null\"\n",
       " \"null\"\n",
       " ⋮\n",
       " \"null\"\n",
       " \"null\"\n",
       " \"null\"\n",
       " \"null\"\n",
       " \"null\"\n",
       " \"null\"\n",
       " \"null\"\n",
       " \"null\"\n",
       " \"null\"\n",
       " \"null\"\n",
       " \"null\"\n",
       " \"null\""
      ]
     },
     "execution_count": 4,
     "metadata": {},
     "output_type": "execute_result"
    }
   ],
   "source": [
    "new_af[\"goodbye\"]"
   ]
  },
  {
   "cell_type": "code",
   "execution_count": 5,
   "id": "7096e7ba-66f0-4617-b7e7-f40ecba7f7f7",
   "metadata": {},
   "outputs": [
    {
     "data": {
      "text/plain": [
       "30-element Vector{Bool}:\n",
       " 0\n",
       " 0\n",
       " 0\n",
       " 0\n",
       " 0\n",
       " 0\n",
       " 0\n",
       " 0\n",
       " 0\n",
       " 0\n",
       " 0\n",
       " 0\n",
       " 0\n",
       " ⋮\n",
       " 0\n",
       " 0\n",
       " 0\n",
       " 0\n",
       " 0\n",
       " 0\n",
       " 0\n",
       " 0\n",
       " 0\n",
       " 0\n",
       " 0\n",
       " 0"
      ]
     },
     "execution_count": 5,
     "metadata": {},
     "output_type": "execute_result"
    }
   ],
   "source": [
    "new_af[\"B\"]"
   ]
  },
  {
   "cell_type": "code",
   "execution_count": 6,
   "id": "8da56b50-129a-4f13-b684-5415be2016bb",
   "metadata": {},
   "outputs": [
    {
     "data": {
      "text/plain": [
       "frame 30rows x 3columns | B | goodbye | hello\n"
      ]
     },
     "execution_count": 6,
     "metadata": {},
     "output_type": "execute_result"
    }
   ],
   "source": [
    "new_af"
   ]
  },
  {
   "cell_type": "code",
   "execution_count": 7,
   "id": "7aa3b4a8-86f0-4c9d-9926-68da04d15c02",
   "metadata": {},
   "outputs": [
    {
     "data": {
      "text/plain": [
       "frame 29rows x 3columns | B | goodbye | hello\n"
      ]
     },
     "execution_count": 7,
     "metadata": {},
     "output_type": "execute_result"
    }
   ],
   "source": [
    "deleteat!(new_af, 20)"
   ]
  },
  {
   "cell_type": "code",
   "execution_count": 8,
   "id": "2a1853af-6d07-451e-a24a-387493b00adf",
   "metadata": {},
   "outputs": [
    {
     "data": {
      "text/plain": [
       "frame 29rows x 3columns | B | goodbye | hello\n"
      ]
     },
     "execution_count": 8,
     "metadata": {},
     "output_type": "execute_result"
    }
   ],
   "source": [
    "new_af"
   ]
  },
  {
   "cell_type": "code",
   "execution_count": 9,
   "id": "b76c13d0-6a7d-4025-8bf4-8ad5317caa79",
   "metadata": {},
   "outputs": [
    {
     "data": {
      "text/plain": [
       "-1"
      ]
     },
     "execution_count": 9,
     "metadata": {},
     "output_type": "execute_result"
    }
   ],
   "source": [
    "new_af.offsets"
   ]
  },
  {
   "cell_type": "code",
   "execution_count": 10,
   "id": "5269d51f-5c07-43fd-ba3f-6fcba1f1bee5",
   "metadata": {},
   "outputs": [
    {
     "data": {
      "text/plain": [
       "frame 29rows x 2columns | goodbye | hello\n"
      ]
     },
     "execution_count": 10,
     "metadata": {},
     "output_type": "execute_result"
    }
   ],
   "source": [
    "AlgebraFrames.drop!(new_af, \"B\")"
   ]
  },
  {
   "cell_type": "code",
   "execution_count": 11,
   "id": "51f5b47d-7050-497f-aede-c9c92a8d691a",
   "metadata": {},
   "outputs": [
    {
     "data": {
      "text/plain": [
       "frame 29rows x 2columns | goodbye | hello\n"
      ]
     },
     "execution_count": 11,
     "metadata": {},
     "output_type": "execute_result"
    }
   ],
   "source": [
    "new_af"
   ]
  },
  {
   "cell_type": "code",
   "execution_count": 12,
   "id": "cb3b35e2-fdb4-413f-9240-53dc572c0b5a",
   "metadata": {},
   "outputs": [
    {
     "data": {
      "text/plain": [
       "frame 29rows x 3columns | goodbye | hello | B\n"
      ]
     },
     "execution_count": 12,
     "metadata": {},
     "output_type": "execute_result"
    }
   ],
   "source": [
    "join!(new_af, \"B\" => Bool)"
   ]
  },
  {
   "cell_type": "code",
   "execution_count": 13,
   "id": "a339426b-19f4-4702-99fc-5321f4d98694",
   "metadata": {},
   "outputs": [
    {
     "data": {
      "text/plain": [
       "5-element Vector{Bool}:\n",
       " 0\n",
       " 0\n",
       " 0\n",
       " 0\n",
       " 0"
      ]
     },
     "execution_count": 13,
     "metadata": {},
     "output_type": "execute_result"
    }
   ],
   "source": [
    "new_af[\"B\"][1:5]"
   ]
  },
  {
   "cell_type": "code",
   "execution_count": 14,
   "id": "812aa103-387b-45cb-9fb7-00de2ed70a8a",
   "metadata": {},
   "outputs": [
    {
     "data": {
      "text/plain": [
       "5-element Vector{Bool}:\n",
       " 0\n",
       " 0\n",
       " 0\n",
       " 0\n",
       " 0"
      ]
     },
     "execution_count": 14,
     "metadata": {},
     "output_type": "execute_result"
    }
   ],
   "source": [
    "new_af[\"B\", 1:5]"
   ]
  },
  {
   "cell_type": "code",
   "execution_count": 15,
   "id": "fa660f9d-d633-45c6-a39a-ebb1a34d9540",
   "metadata": {},
   "outputs": [
    {
     "data": {
      "text/plain": [
       "frame 29rows x 4columns | goodbye | W | hello | B\n"
      ]
     },
     "execution_count": 15,
     "metadata": {},
     "output_type": "execute_result"
    }
   ],
   "source": [
    "join!(new_af, \"W\" => Float64, axis = 1)"
   ]
  },
  {
   "cell_type": "code",
   "execution_count": 16,
   "id": "666367a3-1b2d-4ee0-9a08-61ce9e2d0232",
   "metadata": {},
   "outputs": [
    {
     "data": {
      "text/plain": [
       "frame 29rows x 5columns | A | goodbye | W | hello | B\n"
      ]
     },
     "execution_count": 16,
     "metadata": {},
     "output_type": "execute_result"
    }
   ],
   "source": [
    "join!(new_af, \"A\" => Float64, axis = 0)"
   ]
  },
  {
   "cell_type": "code",
   "execution_count": 17,
   "id": "f08dd2b4-4fa5-4255-b548-9faa77501d94",
   "metadata": {},
   "outputs": [
    {
     "data": {
      "text/plain": [
       "5-element Vector{Pair{String}}:\n",
       "       \"A\" => [0.0, 0.0, 0.0, 0.0, 0.0, 0.0, 0.0, 0.0, 0.0, 0.0  …  0.0, 0.0, 0.0, 0.0, 0.0, 0.0, 0.0, 0.0, 0.0, 0.0]\n",
       " \"goodbye\" => [\"null\", \"null\", \"null\", \"null\", \"null\", \"null\", \"null\", \"null\", \"null\", \"null\"  …  \"null\", \"null\", \"null\", \"null\", \"null\", \"null\", \"null\", \"null\", \"null\", \"null\"]\n",
       "       \"W\" => [0.0, 0.0, 0.0, 0.0, 0.0, 0.0, 0.0, 0.0, 0.0, 0.0  …  0.0, 0.0, 0.0, 0.0, 0.0, 0.0, 0.0, 0.0, 0.0, 0.0]\n",
       "   \"hello\" => [0, 0, 0, 0, 0, 0, 0, 0, 0, 0  …  0, 0, 0, 0, 0, 0, 0, 0, 0, 0]\n",
       "       \"B\" => Bool[0, 0, 0, 0, 0, 0, 0, 0, 0, 0  …  0, 0, 0, 0, 0, 0, 0, 0, 0, 0]"
      ]
     },
     "execution_count": 17,
     "metadata": {},
     "output_type": "execute_result"
    }
   ],
   "source": [
    "x = pairs(new_af)"
   ]
  },
  {
   "cell_type": "code",
   "execution_count": 18,
   "id": "aceaa8a4-cb95-4983-b570-1a297100d73c",
   "metadata": {},
   "outputs": [
    {
     "data": {
      "text/plain": [
       "30"
      ]
     },
     "execution_count": 18,
     "metadata": {},
     "output_type": "execute_result"
    }
   ],
   "source": [
    "new_af.length"
   ]
  },
  {
   "cell_type": "code",
   "execution_count": 19,
   "id": "ddbdc486-3a50-4c16-9e75-237af9234160",
   "metadata": {},
   "outputs": [
    {
     "data": {
      "text/plain": [
       "\"A\" => [0.0, 0.0, 0.0, 0.0, 0.0, 0.0, 0.0, 0.0, 0.0, 0.0  …  0.0, 0.0, 0.0, 0.0, 0.0, 0.0, 0.0, 0.0, 0.0, 0.0]"
      ]
     },
     "execution_count": 19,
     "metadata": {},
     "output_type": "execute_result"
    }
   ],
   "source": [
    "x[1]"
   ]
  },
  {
   "cell_type": "code",
   "execution_count": 20,
   "id": "86bedca8-7a0e-454b-9a9e-2f9f6d8766e0",
   "metadata": {},
   "outputs": [
    {
     "data": {
      "text/plain": [
       "Float64 29x1\n"
      ]
     },
     "execution_count": 20,
     "metadata": {},
     "output_type": "execute_result"
    }
   ],
   "source": [
    "new_af.algebra[1]"
   ]
  },
  {
   "cell_type": "code",
   "execution_count": 21,
   "id": "cec5ec63-f3f4-4cc8-8608-a977c3b34322",
   "metadata": {},
   "outputs": [
    {
     "data": {
      "text/plain": [
       "Dict{String, Vector} with 5 entries:\n",
       "  \"B\"       => Bool[0, 0, 0, 0, 0, 0, 0, 0, 0, 0  …  0, 0, 0, 0, 0, 0, 0, 0, 0,…\n",
       "  \"A\"       => [0.0, 0.0, 0.0, 0.0, 0.0, 0.0, 0.0, 0.0, 0.0, 0.0  …  0.0, 0.0, …\n",
       "  \"goodbye\" => [\"null\", \"null\", \"null\", \"null\", \"null\", \"null\", \"null\", \"null\",…\n",
       "  \"W\"       => [0.0, 0.0, 0.0, 0.0, 0.0, 0.0, 0.0, 0.0, 0.0, 0.0  …  0.0, 0.0, …\n",
       "  \"hello\"   => [0, 0, 0, 0, 0, 0, 0, 0, 0, 0  …  0, 0, 0, 0, 0, 0, 0, 0, 0, 0]"
      ]
     },
     "execution_count": 21,
     "metadata": {},
     "output_type": "execute_result"
    }
   ],
   "source": [
    "Dict(new_af)"
   ]
  },
  {
   "cell_type": "code",
   "execution_count": 26,
   "id": "9026dd77-b9bc-438d-95cf-7e68e20aca34",
   "metadata": {},
   "outputs": [
    {
     "name": "stdout",
     "output_type": "stream",
     "text": [
      "Any[0.0, 0.0, 0.0, 0.0, 0.0, 0.0, 0.0, 0.0, 0.0, 0.0, 0.0, 0.0, 0.0, 0.0, 0.0, 0.0, 0.0, 0.0, 0.0, 0.0, 0.0, 0.0, 0.0, 0.0, 0.0, 0.0, 0.0, 0.0, 0.0]\n",
      "Any[\"null\", \"null\", \"null\", \"null\", \"null\", \"null\", \"null\", \"null\", \"null\", \"null\", \"null\", \"null\", \"null\", \"null\", \"null\", \"null\", \"null\", \"null\", \"null\", \"null\", \"null\", \"null\", \"null\", \"null\", \"null\", \"null\", \"null\", \"null\", \"null\"]\n",
      "Any[0.0, 0.0, 0.0, 0.0, 0.0, 0.0, 0.0, 0.0, 0.0, 0.0, 0.0, 0.0, 0.0, 0.0, 0.0, 0.0, 0.0, 0.0, 0.0, 0.0, 0.0, 0.0, 0.0, 0.0, 0.0, 0.0, 0.0, 0.0, 0.0]\n",
      "Any[0, 0, 0, 0, 0, 0, 0, 0, 0, 0, 0, 0, 0, 0, 0, 0, 0, 0, 0, 0, 0, 0, 0, 0, 0, 0, 0, 0, 0]\n",
      "Any[false, false, false, false, false, false, false, false, false, false, false, false, false, false, false, false, false, false, false, false, false, false, false, false, false, false, false, false, false]\n"
     ]
    }
   ],
   "source": [
    "AlgebraFrames.algebra!(new_af) do vec\n",
    "    for col in eachcol(vec)\n",
    "        println(col)\n",
    "    end\n",
    "end"
   ]
  },
  {
   "cell_type": "code",
   "execution_count": null,
   "id": "c0692eb7-ab7b-455d-893d-e60e5e6e373c",
   "metadata": {},
   "outputs": [],
   "source": []
  },
  {
   "cell_type": "code",
   "execution_count": null,
   "id": "1d73ff19-a818-4bd9-afc1-4326e1052dca",
   "metadata": {},
   "outputs": [],
   "source": []
  },
  {
   "cell_type": "code",
   "execution_count": null,
   "id": "2b7ea7ed-30f0-448e-b56b-1a45ad61b062",
   "metadata": {},
   "outputs": [],
   "source": []
  }
 ],
 "metadata": {
  "kernelspec": {
   "display_name": "Julia 1.11.0-rc3",
   "language": "julia",
   "name": "julia-1.11"
  },
  "language_info": {
   "file_extension": ".jl",
   "mimetype": "application/julia",
   "name": "julia",
   "version": "1.11.0"
  }
 },
 "nbformat": 4,
 "nbformat_minor": 5
}

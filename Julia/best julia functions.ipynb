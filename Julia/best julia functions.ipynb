{
 "cells": [
  {
   "cell_type": "code",
   "execution_count": 14,
   "id": "9acadf49-76cd-4d83-978c-5973dbee20d3",
   "metadata": {},
   "outputs": [
    {
     "name": "stdout",
     "output_type": "stream",
     "text": [
      "[3]\n"
     ]
    },
    {
     "data": {
      "text/html": [
       "<div><div style = \"float: left;\"><span>2×2 DataFrame</span></div><div style = \"clear: both;\"></div></div><div class = \"data-frame\" style = \"overflow-x: scroll;\"><table class = \"data-frame\" style = \"margin-bottom: 6px;\"><thead><tr class = \"header\"><th class = \"rowNumber\" style = \"font-weight: bold; text-align: right;\">Row</th><th style = \"text-align: left;\">A</th><th style = \"text-align: left;\">B</th></tr><tr class = \"subheader headerLastRow\"><th class = \"rowNumber\" style = \"font-weight: bold; text-align: right;\"></th><th title = \"Int64\" style = \"text-align: left;\">Int64</th><th title = \"Int64\" style = \"text-align: left;\">Int64</th></tr></thead><tbody><tr><td class = \"rowNumber\" style = \"font-weight: bold; text-align: right;\">1</td><td style = \"text-align: right;\">2</td><td style = \"text-align: right;\">2</td></tr><tr><td class = \"rowNumber\" style = \"font-weight: bold; text-align: right;\">2</td><td style = \"text-align: right;\">3</td><td style = \"text-align: right;\">3</td></tr></tbody></table></div>"
      ],
      "text/latex": [
       "\\begin{tabular}{r|cc}\n",
       "\t& A & B\\\\\n",
       "\t\\hline\n",
       "\t& Int64 & Int64\\\\\n",
       "\t\\hline\n",
       "\t1 & 2 & 2 \\\\\n",
       "\t2 & 3 & 3 \\\\\n",
       "\\end{tabular}\n"
      ],
      "text/plain": [
       "\u001b[1m2×2 DataFrame\u001b[0m\n",
       "\u001b[1m Row \u001b[0m│\u001b[1m A     \u001b[0m\u001b[1m B     \u001b[0m\n",
       "     │\u001b[90m Int64 \u001b[0m\u001b[90m Int64 \u001b[0m\n",
       "─────┼──────────────\n",
       "   1 │     2      2\n",
       "   2 │     3      3"
      ]
     },
     "execution_count": 14,
     "metadata": {},
     "output_type": "execute_result"
    }
   ],
   "source": [
    "using DataFrames\n",
    "df = DataFrame(\"A\" => [1, 2, 3], \"B\" => [1, 2, 3])\n",
    "vec = [1, 2, 3]\n",
    "\n",
    "println(filter!(x -> x == 3, vec))\n",
    "filter!(row -> row[\"A\"] != 1, df)"
   ]
  },
  {
   "cell_type": "markdown",
   "id": "8c3b9fa4-a158-4d7b-ac8e-963d00622842",
   "metadata": {},
   "source": [
    "### findfirst"
   ]
  },
  {
   "cell_type": "code",
   "execution_count": 2,
   "id": "6d699a37-0e79-47dd-a7d9-33659cd79811",
   "metadata": {},
   "outputs": [
    {
     "data": {
      "text/plain": [
       "3"
      ]
     },
     "execution_count": 2,
     "metadata": {},
     "output_type": "execute_result"
    }
   ],
   "source": [
    "position = findfirst(x -> x == \"hi\", [\"hello\", \"hello\", \"hi\", \"bye\"])"
   ]
  },
  {
   "cell_type": "code",
   "execution_count": 3,
   "id": "6a6cb8dc-58a3-4ddb-bbc7-b5df51b1fbbf",
   "metadata": {},
   "outputs": [
    {
     "data": {
      "text/plain": [
       "getindex (generic function with 319 methods)"
      ]
     },
     "execution_count": 3,
     "metadata": {},
     "output_type": "execute_result"
    }
   ],
   "source": [
    "import Base: getindex, in\n",
    "\n",
    "struct Employee\n",
    "    name::String\n",
    "end\n",
    "\n",
    "in(emps::Vector{Employee}, name::String) = begin\n",
    "    found = findfirst(emp::Employee -> emp.name == name, emps)\n",
    "    if isnothing(found)\n",
    "        return(false)\n",
    "     end\n",
    "     return(true)\n",
    "end\n",
    "\n",
    "getindex(emps::Vector{Employee}, name::String) = begin\n",
    "    found = findfirst(emp -> emp.name == name, emps)\n",
    "    if isnothing(found)\n",
    "        throw(KeyError([emp.name for emp in emps], name))\n",
    "    end\n",
    "    emps[found]\n",
    "end"
   ]
  },
  {
   "cell_type": "code",
   "execution_count": 15,
   "id": "7eeaa3dc-eb7c-43f5-ba7d-5666f2afea5c",
   "metadata": {},
   "outputs": [
    {
     "data": {
      "text/plain": [
       "7:7"
      ]
     },
     "execution_count": 15,
     "metadata": {},
     "output_type": "execute_result"
    }
   ],
   "source": [
    "rawtext = \"hello!\\n how are you doing?\\n I am well, and you?\\n\"\n",
    "\n",
    "findfirst(\"\\n\", rawtext)"
   ]
  },
  {
   "cell_type": "markdown",
   "id": "94e7ba43-9f90-448b-9259-c09973961fd6",
   "metadata": {},
   "source": [
    "### filter"
   ]
  },
  {
   "cell_type": "code",
   "execution_count": 16,
   "id": "9ff1d575-cf64-4566-b17d-aaded8b309ea",
   "metadata": {},
   "outputs": [
    {
     "name": "stdout",
     "output_type": "stream",
     "text": [
      "[2, 4, 6]\n",
      "[1, 2, 3, 4, 5, 6]\n"
     ]
    }
   ],
   "source": [
    "arr = [1, 2, 3, 4, 5, 6]\n",
    "\n",
    "# Keep only even numbers, returns a new array\n",
    "evens = filter(x -> x % 2 == 0, arr)\n",
    "\n",
    "println(evens)  \n",
    "# [2, 4, 6]\n",
    "println(arr)    \n",
    "# [1, 2, 3, 4, 5, 6]"
   ]
  },
  {
   "cell_type": "code",
   "execution_count": 17,
   "id": "6aaf4761-ff79-4436-813a-3bf2fa3a854a",
   "metadata": {},
   "outputs": [
    {
     "name": "stdout",
     "output_type": "stream",
     "text": [
      "[2, 4, 6]\n"
     ]
    }
   ],
   "source": [
    "arr = [1, 2, 3, 4, 5, 6]\n",
    "\n",
    "# Keep only even numbers, modifying original array\n",
    "filter!(x -> x % 2 == 0, arr)\n",
    "\n",
    "println(arr)  # [2, 4, 6]"
   ]
  },
  {
   "cell_type": "markdown",
   "id": "95c5a16b-74e1-4ce0-94a0-6cc5c89275c2",
   "metadata": {},
   "source": [
    "### findall"
   ]
  },
  {
   "cell_type": "code",
   "execution_count": 19,
   "id": "95216e40-4e63-43ff-a482-6451dee3f4bf",
   "metadata": {},
   "outputs": [
    {
     "data": {
      "text/plain": [
       "n_employees_named (generic function with 2 methods)"
      ]
     },
     "execution_count": 19,
     "metadata": {},
     "output_type": "execute_result"
    }
   ],
   "source": [
    "function n_employees_named(employees::Vector{Employee}, name::String = \"steve\")\n",
    "    length(findall(emp::Employee -> emp.name == name))\n",
    "end"
   ]
  },
  {
   "cell_type": "code",
   "execution_count": 20,
   "id": "3fe678b8-6d35-41c3-bcca-f3b9ea7297f6",
   "metadata": {},
   "outputs": [
    {
     "data": {
      "text/plain": [
       "\"<!DOCTYPE html>\\n<html lang=\\\"en\\\" id=\\\"html1\\\">\\n<head id=\\\"head1\\\">\\n  <title id=\\\"title1\\\">Small Page</title>\\n</head>\\n<body id=\\\"body1\\\">\\n  <h1 id=\\\"header1\\\">Hello World</h1>\\n  <p id=\\\"para1\\\">This is a paragraph.</p>\\n  <a href=\\\"#\\\" id=\\\"link1\\\">Click me</a>\\n</body>\\n</html>\\n\""
      ]
     },
     "execution_count": 20,
     "metadata": {},
     "output_type": "execute_result"
    }
   ],
   "source": [
    "rawhtml = \"\"\"<!DOCTYPE html>\n",
    "<html lang=\"en\" id=\"html1\">\n",
    "<head id=\"head1\">\n",
    "  <title id=\"title1\">Small Page</title>\n",
    "</head>\n",
    "<body id=\"body1\">\n",
    "  <h1 id=\"header1\">Hello World</h1>\n",
    "  <p id=\"para1\">This is a paragraph.</p>\n",
    "  <a href=\"#\" id=\"link1\">Click me</a>\n",
    "</body>\n",
    "</html>\n",
    "\"\"\""
   ]
  },
  {
   "cell_type": "code",
   "execution_count": 22,
   "id": "d3a7bc58-5e52-40d1-a5f5-c809c2c4e91d",
   "metadata": {},
   "outputs": [
    {
     "data": {
      "text/plain": [
       "7-element Vector{String}:\n",
       " \"html1\"\n",
       " \"head1\"\n",
       " \"title1\"\n",
       " \"body1\"\n",
       " \"header1\"\n",
       " \"para1\"\n",
       " \"link1\""
      ]
     },
     "execution_count": 22,
     "metadata": {},
     "output_type": "execute_result"
    }
   ],
   "source": [
    "all_ids = [begin \n",
    "    start_quot = maximum(idpos)\n",
    "    finish = findnext(\"\\\"\", rawhtml, start_quot + 1)\n",
    "    if isnothing(finish)\n",
    "        throw(\"invalid HTML\")\n",
    "    end\n",
    "    # note -- not unicode safe\n",
    "    rawhtml[start_quot + 1:minimum(finish) - 1]\n",
    "end for idpos in findall(\"id=\\\"\", rawhtml)]"
   ]
  },
  {
   "cell_type": "markdown",
   "id": "2e06051b-5fc6-4237-9ba4-6874bb25a093",
   "metadata": {},
   "source": [
    "### replace"
   ]
  },
  {
   "cell_type": "code",
   "execution_count": 23,
   "id": "154ed1a2-57c5-4c1e-be10-c8d5bf6fc80d",
   "metadata": {},
   "outputs": [
    {
     "name": "stdout",
     "output_type": "stream",
     "text": [
      "hello Julia\n",
      "[1, 99, 3, 99, 4]\n"
     ]
    }
   ],
   "source": [
    "s = \"hello world\"\n",
    "s2 = replace(s, \"world\" => \"Julia\")\n",
    "println(s2)  # \"hello Julia\"\n",
    "\n",
    "v = [1, 2, 3, 2, 4]\n",
    "v2 = replace(v, 2 => 99)\n",
    "println(v2)  \n",
    "# [1, 99, 3, 99, 4]"
   ]
  },
  {
   "cell_type": "code",
   "execution_count": 24,
   "id": "aa6a56d0-db7d-4b0e-944c-bb326d33b9ad",
   "metadata": {},
   "outputs": [
    {
     "name": "stdout",
     "output_type": "stream",
     "text": [
      "[1, 99, 3, 99, 4]\n"
     ]
    }
   ],
   "source": [
    "v = [1, 2, 3, 2, 4]\n",
    "replace!(v, 2 => 99)\n",
    "println(v)  \n",
    "\n",
    "# [1, 99, 3, 99, 4]"
   ]
  },
  {
   "cell_type": "markdown",
   "id": "e12ec1a9-874b-4f96-a3e1-a32487beafd0",
   "metadata": {},
   "source": [
    "### split"
   ]
  },
  {
   "cell_type": "code",
   "execution_count": 26,
   "id": "5197498a-ed19-43c4-a327-906097ec53db",
   "metadata": {
    "scrolled": true
   },
   "outputs": [
    {
     "data": {
      "text/plain": [
       "\"path\""
      ]
     },
     "execution_count": 26,
     "metadata": {},
     "output_type": "execute_result"
    }
   ],
   "source": [
    "path = \"/path/to/my/stuff\"\n",
    "\n",
    "top_directory = split(path, \"/\")[2]"
   ]
  },
  {
   "cell_type": "markdown",
   "id": "37ce8270-e238-4d23-acbe-8ff91c0114d6",
   "metadata": {},
   "source": [
    "### parse"
   ]
  },
  {
   "cell_type": "code",
   "execution_count": 27,
   "id": "b7c661fd-d366-45e6-ad5d-3b516856a16a",
   "metadata": {},
   "outputs": [
    {
     "data": {
      "text/plain": [
       "5"
      ]
     },
     "execution_count": 27,
     "metadata": {},
     "output_type": "execute_result"
    }
   ],
   "source": [
    "parse(Int64, \"5\")"
   ]
  },
  {
   "cell_type": "code",
   "execution_count": 28,
   "id": "d684125d-3f8e-4d37-87f9-71c53cab0d3f",
   "metadata": {},
   "outputs": [
    {
     "data": {
      "text/plain": [
       "1.5"
      ]
     },
     "execution_count": 28,
     "metadata": {},
     "output_type": "execute_result"
    }
   ],
   "source": [
    "parse(Bool, \"1\")\n",
    "\n",
    "parse(Bool, \"false\")\n",
    "\n",
    "parse(Float64, \"1.5\")"
   ]
  },
  {
   "cell_type": "code",
   "execution_count": 31,
   "id": "3f3216d6-b217-4e14-bda0-871ee78f6a58",
   "metadata": {},
   "outputs": [
    {
     "name": "stdout",
     "output_type": "stream",
     "text": [
      "❤\n"
     ]
    }
   ],
   "source": [
    "value = parse(UInt16, \"0010011101100100\", base = 2)\n",
    "\n",
    "println(Char(value))"
   ]
  },
  {
   "cell_type": "markdown",
   "id": "06a4d0b9-fd8f-4a73-aa3a-afd74e6afc9b",
   "metadata": {},
   "source": [
    "### tryparse"
   ]
  },
  {
   "cell_type": "code",
   "execution_count": 33,
   "id": "118e8799-32ef-4cf1-acf3-e8d4e4b0f3ff",
   "metadata": {},
   "outputs": [
    {
     "name": "stdout",
     "output_type": "stream",
     "text": [
      "123\n",
      "nothing\n",
      "Parsing failed for str2\n"
     ]
    }
   ],
   "source": [
    "str1 = \"123\"\n",
    "str2 = \"abc\"\n",
    "\n",
    "x = tryparse(Int, str1)\n",
    "y = tryparse(Int, str2)\n",
    "\n",
    "println(x)  \n",
    "println(y)  \n",
    "\n",
    "if y === nothing\n",
    "    println(\"Parsing failed for str2\")\n",
    "end"
   ]
  },
  {
   "cell_type": "code",
   "execution_count": 40,
   "id": "0672c98c-05bc-4d48-a681-c1e9e444d354",
   "metadata": {},
   "outputs": [
    {
     "data": {
      "text/plain": [
       "assume_parse (generic function with 1 method)"
      ]
     },
     "execution_count": 40,
     "metadata": {},
     "output_type": "execute_result"
    }
   ],
   "source": [
    "function is_numerical(s::AbstractString)\n",
    "    nums = ('0', '1', '2', '3', '4', '5', '6', '7', '8', '9')\n",
    "    found = findfirst(x::Char -> x in nums, s)\n",
    "    if isnothing(found)\n",
    "        return(false)\n",
    "    end\n",
    "    return(true)\n",
    "end\n",
    "\n",
    "function is_numericalf(s::AbstractString)\n",
    "    nums = ('0', '1', '2', '3', '4', '5', '6', '7', '8', '9', '.')\n",
    "    found = findfirst(x::Char -> x in nums, s)\n",
    "    if isnothing(found)\n",
    "        return(false)\n",
    "    end\n",
    "    return(true)\n",
    "end\n",
    "\n",
    "function assume_parse(s::AbstractString)\n",
    "    val = nothing\n",
    "    if is_numericalf(s)\n",
    "        val = tryparse(Float64, s)\n",
    "    elseif is_numerical(s)\n",
    "        val = tryparse(Int64, s)\n",
    "    end\n",
    "    if isnothing(val)\n",
    "        return(string(s))\n",
    "    end\n",
    "    val\n",
    "end"
   ]
  },
  {
   "cell_type": "code",
   "execution_count": 41,
   "id": "3df27a81-82a5-4261-9167-bb10c06c7830",
   "metadata": {},
   "outputs": [
    {
     "data": {
      "text/plain": [
       "30.5"
      ]
     },
     "execution_count": 41,
     "metadata": {},
     "output_type": "execute_result"
    }
   ],
   "source": [
    "assume_parse(\"25\") + assume_parse(\"5.5\")"
   ]
  },
  {
   "cell_type": "markdown",
   "id": "99fcee34-9be7-48e6-877c-7b36f4b18e48",
   "metadata": {},
   "source": [
    "### unique"
   ]
  },
  {
   "cell_type": "code",
   "execution_count": 42,
   "id": "e592a78c-6047-4902-8dbf-9720136d99dd",
   "metadata": {},
   "outputs": [
    {
     "name": "stdout",
     "output_type": "stream",
     "text": [
      "Original array: [1, 2, 2, 3, 3, 3, 4]\n",
      "Unique array: [1, 2, 3, 4]\n"
     ]
    }
   ],
   "source": [
    "arr = [1, 2, 2, 3, 3, 3, 4]\n",
    "new_arr = unique(arr)\n",
    "\n",
    "println(\"Original array: \", arr)\n",
    "println(\"Unique array: \", new_arr)"
   ]
  },
  {
   "cell_type": "code",
   "execution_count": 43,
   "id": "31cecb48-dcc5-4982-b3a6-86e360b80cb7",
   "metadata": {},
   "outputs": [
    {
     "name": "stdout",
     "output_type": "stream",
     "text": [
      "Modified original array: [1, 2, 3, 4]\n"
     ]
    }
   ],
   "source": [
    "arr = [1, 2, 2, 3, 3, 3, 4]\n",
    "unique!(arr)\n",
    "\n",
    "println(\"Modified original array: \", arr)"
   ]
  },
  {
   "cell_type": "code",
   "execution_count": 44,
   "id": "e1a84124-71bf-40eb-9905-e578103a464d",
   "metadata": {},
   "outputs": [
    {
     "data": {
      "text/plain": [
       "7-element Vector{Int8}:\n",
       " 101\n",
       " 120\n",
       "  97\n",
       " 109\n",
       " 112\n",
       " 108\n",
       " 101"
      ]
     },
     "execution_count": 44,
     "metadata": {},
     "output_type": "execute_result"
    }
   ],
   "source": [
    "vec = map(c for c in \"example\") do char\n",
    "    Int8(char)\n",
    "end"
   ]
  },
  {
   "cell_type": "code",
   "execution_count": 45,
   "id": "fd8e6eed-2900-422e-b007-5a65ed728a11",
   "metadata": {},
   "outputs": [
    {
     "data": {
      "text/plain": [
       "3-element Vector{Int64}:\n",
       " 2\n",
       " 3\n",
       " 4"
      ]
     },
     "execution_count": 45,
     "metadata": {},
     "output_type": "execute_result"
    }
   ],
   "source": [
    "vec = map([1, 2, 3]) do num\n",
    "    num += 1\n",
    "end"
   ]
  },
  {
   "cell_type": "code",
   "execution_count": 46,
   "id": "a64fbd9c-2b28-437a-8e9b-5f585bdeab67",
   "metadata": {},
   "outputs": [
    {
     "name": "stdout",
     "output_type": "stream",
     "text": [
      "[1, 4, 9, 16, 25]\n"
     ]
    }
   ],
   "source": [
    "# Preallocate an array to store results\n",
    "dest = zeros(Int, 5)    # destination array\n",
    "src  = 1:5              # source data\n",
    "\n",
    "# Square each element of src and store in dest\n",
    "map!(x -> x^2, dest, src)\n",
    "\n",
    "println(dest)  # [1, 4, 9, 16, 25]"
   ]
  },
  {
   "cell_type": "markdown",
   "id": "6a89290e-ec6e-4740-b8ba-283936a033b9",
   "metadata": {},
   "source": [
    "### convert + promote"
   ]
  },
  {
   "cell_type": "code",
   "execution_count": 48,
   "id": "415613e5-fd8d-401a-b25d-528f880c7440",
   "metadata": {},
   "outputs": [
    {
     "data": {
      "text/plain": [
       "55"
      ]
     },
     "execution_count": 48,
     "metadata": {},
     "output_type": "execute_result"
    }
   ],
   "source": [
    "p::Int64 = 55\n",
    "\n",
    "newint::Int16 = convert(Int16, p)"
   ]
  },
  {
   "cell_type": "code",
   "execution_count": 49,
   "id": "7a04e452-8515-445d-b6c8-6eebbc8f2aea",
   "metadata": {},
   "outputs": [
    {
     "data": {
      "text/plain": [
       "(3.0, 2.5)"
      ]
     },
     "execution_count": 49,
     "metadata": {},
     "output_type": "execute_result"
    }
   ],
   "source": [
    "a = 3         # Int\n",
    "b = 2.5       # Float64\n",
    "\n",
    "promote(a, b) \n",
    "# returns (3.0, 2.5) with type Tuple{Float64, Float64}"
   ]
  },
  {
   "cell_type": "markdown",
   "id": "2535080f-dc13-4541-a223-060a558d9a30",
   "metadata": {},
   "source": [
    "### reduce"
   ]
  },
  {
   "cell_type": "code",
   "execution_count": 50,
   "id": "7174fef3-bb34-461f-a7c1-3e0dc37fce40",
   "metadata": {},
   "outputs": [
    {
     "name": "stdout",
     "output_type": "stream",
     "text": [
      "10\n"
     ]
    },
    {
     "data": {
      "text/plain": [
       "10"
      ]
     },
     "execution_count": 50,
     "metadata": {},
     "output_type": "execute_result"
    }
   ],
   "source": [
    "nums = [1, 2, 3, 4]\n",
    "\n",
    "result = reduce(+, nums)\n",
    "println(result)  \n",
    "\n",
    "result = reduce((x::Int64, y::Int64) -> x += y, nums)"
   ]
  },
  {
   "cell_type": "code",
   "execution_count": 51,
   "id": "27160556-1f0c-4165-abbf-5b427acffce0",
   "metadata": {},
   "outputs": [
    {
     "name": "stdout",
     "output_type": "stream",
     "text": [
      "12\n"
     ]
    }
   ],
   "source": [
    "nums = [24, 36, 60, 48]\n",
    "\n",
    "result = reduce(gcd, nums)\n",
    "\n",
    "println(result)  \n",
    "# 12"
   ]
  },
  {
   "cell_type": "code",
   "execution_count": 52,
   "id": "32fe9562-714a-497d-8d29-20d03a91fb58",
   "metadata": {},
   "outputs": [
    {
     "data": {
      "text/plain": [
       "sum_minus_1 (generic function with 1 method)"
      ]
     },
     "execution_count": 52,
     "metadata": {},
     "output_type": "execute_result"
    }
   ],
   "source": [
    "sum_minus_1(nums::Vector{<:Real}) = reduce(+, nums, init = -1)"
   ]
  },
  {
   "cell_type": "markdown",
   "id": "17282b8f-a593-4984-bd25-1993699ffd44",
   "metadata": {},
   "source": [
    "### sort"
   ]
  },
  {
   "cell_type": "code",
   "execution_count": 56,
   "id": "efb45262-a0cb-4def-a7f2-0b3f2478b024",
   "metadata": {},
   "outputs": [
    {
     "name": "stdout",
     "output_type": "stream",
     "text": [
      "[3, 1, 4, 2]\n",
      "[1, 2, 3, 4]\n"
     ]
    }
   ],
   "source": [
    "arr = [3, 1, 4, 2]\n",
    "sorted_arr = sort(arr)\n",
    "\n",
    "println(arr)       \n",
    "println(sorted_arr) "
   ]
  },
  {
   "cell_type": "code",
   "execution_count": 57,
   "id": "7b015049-bced-410e-a30d-535281f64c25",
   "metadata": {},
   "outputs": [
    {
     "name": "stdout",
     "output_type": "stream",
     "text": [
      "[1, 2, 3, 4]\n"
     ]
    }
   ],
   "source": [
    "arr = [3, 1, 4, 2]\n",
    "sort!(arr)\n",
    "\n",
    "println(arr)  "
   ]
  },
  {
   "cell_type": "markdown",
   "id": "0a4229bd-84d5-4709-8118-c1761cbf55dc",
   "metadata": {},
   "source": [
    "### any + all"
   ]
  },
  {
   "cell_type": "code",
   "execution_count": 58,
   "id": "9cdc2bfd-92b4-4a96-a3a3-0f2cd6f64e6f",
   "metadata": {},
   "outputs": [
    {
     "data": {
      "text/plain": [
       "in (generic function with 62 methods)"
      ]
     },
     "execution_count": 58,
     "metadata": {},
     "output_type": "execute_result"
    }
   ],
   "source": [
    "in(emps::Vector{Employee}, name::String) = begin\n",
    "    any(emp -> emp.name == name, emps)\n",
    "end"
   ]
  },
  {
   "cell_type": "code",
   "execution_count": 59,
   "id": "cb2dc4bb-1148-478d-879e-93350e2a41c8",
   "metadata": {},
   "outputs": [
    {
     "data": {
      "text/plain": [
       "all_the_same_name (generic function with 1 method)"
      ]
     },
     "execution_count": 59,
     "metadata": {},
     "output_type": "execute_result"
    }
   ],
   "source": [
    "all_the_same_name(emps::Vector{Employee}, name::String) = begin\n",
    "    all(emp -> emp.name == name, emps)\n",
    "end"
   ]
  },
  {
   "cell_type": "code",
   "execution_count": 64,
   "id": "45b3712c-9f87-4581-bbd6-c3036fcb3467",
   "metadata": {},
   "outputs": [
    {
     "data": {
      "text/markdown": [
       "# ❤\n",
       "thanks for reading loves c: have a good day"
      ]
     },
     "metadata": {},
     "output_type": "display_data"
    }
   ],
   "source": [
    "display(\"text/markdown\", \"\"\"# $(Char(value))\n",
    "    thanks for reading loves c: have a good day\"\"\")"
   ]
  },
  {
   "cell_type": "code",
   "execution_count": null,
   "id": "1f30aef3-792f-4033-a73e-36127a82394e",
   "metadata": {},
   "outputs": [],
   "source": []
  }
 ],
 "metadata": {
  "kernelspec": {
   "display_name": "Julia 1.11.6",
   "language": "julia",
   "name": "julia-1.11"
  },
  "language_info": {
   "file_extension": ".jl",
   "mimetype": "application/julia",
   "name": "julia",
   "version": "1.11.6"
  }
 },
 "nbformat": 4,
 "nbformat_minor": 5
}

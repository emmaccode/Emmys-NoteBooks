{
 "cells": [
  {
   "cell_type": "code",
   "execution_count": 1,
   "id": "66974c1b-9603-4027-8f5b-d39807d756f5",
   "metadata": {},
   "outputs": [
    {
     "name": "stderr",
     "output_type": "stream",
     "text": [
      "\u001b[32m\u001b[1m  Activating\u001b[22m\u001b[39m new project at `~/mounted/notebooks/mixed`\n",
      "\u001b[32m\u001b[1m   Resolving\u001b[22m\u001b[39m package versions...\n",
      "\u001b[32m\u001b[1m    Updating\u001b[22m\u001b[39m `~/mounted/notebooks/mixed/Project.toml`\n",
      "  \u001b[90m[438e738f] \u001b[39m\u001b[92m+ PyCall v1.96.4\u001b[39m\n",
      "\u001b[32m\u001b[1m    Updating\u001b[22m\u001b[39m `~/mounted/notebooks/mixed/Manifest.toml`\n",
      "  \u001b[90m[8f4d0f93] \u001b[39m\u001b[92m+ Conda v1.10.2\u001b[39m\n",
      "  \u001b[90m[682c06a0] \u001b[39m\u001b[92m+ JSON v0.21.4\u001b[39m\n",
      "  \u001b[90m[1914dd2f] \u001b[39m\u001b[92m+ MacroTools v0.5.13\u001b[39m\n",
      "  \u001b[90m[69de0a69] \u001b[39m\u001b[92m+ Parsers v2.8.1\u001b[39m\n",
      "  \u001b[90m[aea7be01] \u001b[39m\u001b[92m+ PrecompileTools v1.2.1\u001b[39m\n",
      "  \u001b[90m[21216c6a] \u001b[39m\u001b[92m+ Preferences v1.4.3\u001b[39m\n",
      "  \u001b[90m[438e738f] \u001b[39m\u001b[92m+ PyCall v1.96.4\u001b[39m\n",
      "  \u001b[90m[81def892] \u001b[39m\u001b[92m+ VersionParsing v1.3.0\u001b[39m\n",
      "  \u001b[90m[0dad84c5] \u001b[39m\u001b[92m+ ArgTools v1.1.1\u001b[39m\n",
      "  \u001b[90m[56f22d72] \u001b[39m\u001b[92m+ Artifacts\u001b[39m\n",
      "  \u001b[90m[2a0f44e3] \u001b[39m\u001b[92m+ Base64\u001b[39m\n",
      "  \u001b[90m[ade2ca70] \u001b[39m\u001b[92m+ Dates\u001b[39m\n",
      "  \u001b[90m[f43a241f] \u001b[39m\u001b[92m+ Downloads v1.6.0\u001b[39m\n",
      "  \u001b[90m[7b1f6079] \u001b[39m\u001b[92m+ FileWatching\u001b[39m\n",
      "  \u001b[90m[b27032c2] \u001b[39m\u001b[92m+ LibCURL v0.6.3\u001b[39m\n",
      "  \u001b[90m[8f399da3] \u001b[39m\u001b[92m+ Libdl\u001b[39m\n",
      "  \u001b[90m[37e2e46d] \u001b[39m\u001b[92m+ LinearAlgebra\u001b[39m\n",
      "  \u001b[90m[d6f4376e] \u001b[39m\u001b[92m+ Markdown\u001b[39m\n",
      "  \u001b[90m[a63ad114] \u001b[39m\u001b[92m+ Mmap\u001b[39m\n",
      "  \u001b[90m[ca575930] \u001b[39m\u001b[92m+ NetworkOptions v1.2.0\u001b[39m\n",
      "  \u001b[90m[de0858da] \u001b[39m\u001b[92m+ Printf\u001b[39m\n",
      "  \u001b[90m[9a3f8284] \u001b[39m\u001b[92m+ Random\u001b[39m\n",
      "  \u001b[90m[ea8e919c] \u001b[39m\u001b[92m+ SHA v0.7.0\u001b[39m\n",
      "  \u001b[90m[9e88b42a] \u001b[39m\u001b[92m+ Serialization\u001b[39m\n",
      "  \u001b[90m[fa267f1f] \u001b[39m\u001b[92m+ TOML v1.0.3\u001b[39m\n",
      "  \u001b[90m[cf7118a7] \u001b[39m\u001b[92m+ UUIDs\u001b[39m\n",
      "  \u001b[90m[4ec0a83e] \u001b[39m\u001b[92m+ Unicode\u001b[39m\n",
      "  \u001b[90m[e66e0078] \u001b[39m\u001b[92m+ CompilerSupportLibraries_jll v1.0.5+0\u001b[39m\n",
      "  \u001b[90m[deac9b47] \u001b[39m\u001b[92m+ LibCURL_jll v7.84.0+0\u001b[39m\n",
      "  \u001b[90m[29816b5a] \u001b[39m\u001b[92m+ LibSSH2_jll v1.10.2+0\u001b[39m\n",
      "  \u001b[90m[c8ffd9c3] \u001b[39m\u001b[92m+ MbedTLS_jll v2.28.2+0\u001b[39m\n",
      "  \u001b[90m[14a3606d] \u001b[39m\u001b[92m+ MozillaCACerts_jll v2022.10.11\u001b[39m\n",
      "  \u001b[90m[4536629a] \u001b[39m\u001b[92m+ OpenBLAS_jll v0.3.21+4\u001b[39m\n",
      "  \u001b[90m[83775a58] \u001b[39m\u001b[92m+ Zlib_jll v1.2.13+0\u001b[39m\n",
      "  \u001b[90m[8e850b90] \u001b[39m\u001b[92m+ libblastrampoline_jll v5.8.0+0\u001b[39m\n",
      "  \u001b[90m[8e850ede] \u001b[39m\u001b[92m+ nghttp2_jll v1.48.0+0\u001b[39m\n"
     ]
    }
   ],
   "source": [
    "using Pkg; Pkg.activate(\"mixed\"); Pkg.add(\"PyCall\")"
   ]
  },
  {
   "cell_type": "code",
   "execution_count": 4,
   "id": "90a1b5a8-0004-403b-b7e3-31ff267c32f8",
   "metadata": {},
   "outputs": [],
   "source": [
    "default methodsusing PyCall"
   ]
  },
  {
   "cell_type": "code",
   "execution_count": 10,
   "id": "770f6d6e-c158-4cb2-a87b-0399ac4efdaf",
   "metadata": {},
   "outputs": [
    {
     "name": "stdout",
     "output_type": "stream",
     "text": [
      "hello hello\n",
      "6\n"
     ]
    }
   ],
   "source": [
    "function example(x::String)\n",
    "    x * \" $(x)\"\n",
    "end\n",
    "\n",
    "function example(x::Int64)\n",
    "    x += 1\n",
    "end\n",
    "\n",
    "println(example(\"hello\")) # args(::String) will go to method 1\n",
    "\n",
    "println(example(5)) # args (::Int64) will go to method 2"
   ]
  },
  {
   "cell_type": "code",
   "execution_count": 11,
   "id": "0aff92c1-72f3-41c4-ae45-296a0ff0c920",
   "metadata": {},
   "outputs": [
    {
     "data": {
      "text/html": [
       "# 2 methods for generic function <b>example</b> from \u001b[35mMain\u001b[39m:<ul><li> example(x::<b>String</b>) in Main at In[10]:1</li> <li> example(x::<b>Int64</b>) in Main at In[10]:5</li> </ul>"
      ],
      "text/plain": [
       "# 2 methods for generic function \"example\" from \u001b[35mMain\u001b[39m:\n",
       " [1] example(\u001b[90mx\u001b[39m::\u001b[1mString\u001b[22m)\n",
       "\u001b[90m     @\u001b[39m \u001b[90m\u001b[4mIn[10]:1\u001b[24m\u001b[39m\n",
       " [2] example(\u001b[90mx\u001b[39m::\u001b[1mInt64\u001b[22m)\n",
       "\u001b[90m     @\u001b[39m \u001b[90m\u001b[4mIn[10]:5\u001b[24m\u001b[39m"
      ]
     },
     "execution_count": 11,
     "metadata": {},
     "output_type": "execute_result"
    }
   ],
   "source": [
    "methods(example)"
   ]
  },
  {
   "cell_type": "code",
   "execution_count": 6,
   "id": "0dab30bb-b213-491c-a883-eba2e69eae03",
   "metadata": {},
   "outputs": [
    {
     "name": "stdout",
     "output_type": "stream",
     "text": [
      "j\n",
      "Char\n",
      "true\n"
     ]
    }
   ],
   "source": [
    "new_char = \"julia is cool!\"[1]\n",
    "\n",
    "println(new_char)\n",
    "println(typeof(new_char))\n",
    "println(new_char == 'j')"
   ]
  },
  {
   "cell_type": "code",
   "execution_count": 7,
   "id": "0fa648dc-2929-4104-9df8-c13c336f8d01",
   "metadata": {},
   "outputs": [
    {
     "name": "stdout",
     "output_type": "stream",
     "text": [
      "y \n",
      "\n",
      "True\n"
     ]
    }
   ],
   "source": [
    "py\"\"\"\n",
    "new_character = \"python is cool!\"[1]\n",
    "\n",
    "print(new_character, \"\\n\")\n",
    "print(type(new_character) is str)\n",
    "\"\"\""
   ]
  },
  {
   "cell_type": "code",
   "execution_count": 15,
   "id": "b5c213c9-37bd-435c-80f9-72a1b3923a6a",
   "metadata": {},
   "outputs": [
    {
     "data": {
      "text/html": [
       "# 9 methods for generic function <b>getindex</b> from \u001b[90mBase\u001b[39m:<ul><li> getindex(s::<b>AbstractString</b>, i::<b>Colon</b>) in Base at <a href=\"https://github.com/JuliaLang/julia/tree/e4ee485e90961018b7e53ce14b8b99335953e176/base/strings/basic.jl#L189\" target=\"_blank\">strings/basic.jl:189</a></li> <li> getindex(s::<b>SubString</b>, i::<b>Integer</b>) in Base at <a href=\"https://github.com/JuliaLang/julia/tree/e4ee485e90961018b7e53ce14b8b99335953e176/base/strings/substring.jl#L90\" target=\"_blank\">strings/substring.jl:90</a></li> <li> getindex(s::<b>String</b>, i::<b>Int64</b>) in Base at <a href=\"https://github.com/JuliaLang/julia/tree/e4ee485e90961018b7e53ce14b8b99335953e176/base/strings/string.jl#L237\" target=\"_blank\">strings/string.jl:237</a></li> <li> getindex(s::<b>AbstractString</b>, i::<b>Integer</b>) in Base at <a href=\"https://github.com/JuliaLang/julia/tree/e4ee485e90961018b7e53ce14b8b99335953e176/base/strings/basic.jl#L184\" target=\"_blank\">strings/basic.jl:184</a></li> <li> getindex(s::<b>String</b>, r::<b>UnitRange{Int64}</b>) in Base at <a href=\"https://github.com/JuliaLang/julia/tree/e4ee485e90961018b7e53ce14b8b99335953e176/base/strings/string.jl#L272\" target=\"_blank\">strings/string.jl:272</a></li> <li> getindex(s::<b>String</b>, r::<b>AbstractUnitRange{<:Integer}</b>) in Base at <a href=\"https://github.com/JuliaLang/julia/tree/e4ee485e90961018b7e53ce14b8b99335953e176/base/strings/string.jl#L270\" target=\"_blank\">strings/string.jl:270</a></li> <li> getindex(s::<b>AbstractString</b>, r::<b>AbstractUnitRange{<:Integer}</b>) in Base at <a href=\"https://github.com/JuliaLang/julia/tree/e4ee485e90961018b7e53ce14b8b99335953e176/base/strings/substring.jl#L281\" target=\"_blank\">strings/substring.jl:281</a></li> <li> getindex(s::<b>AbstractString</b>, v::<b>AbstractVector{Bool}</b>) in Base at <a href=\"https://github.com/JuliaLang/julia/tree/e4ee485e90961018b7e53ce14b8b99335953e176/base/strings/basic.jl#L194\" target=\"_blank\">strings/basic.jl:194</a></li> <li> getindex(s::<b>AbstractString</b>, v::<b>AbstractVector{<:Integer}</b>) in Base at <a href=\"https://github.com/JuliaLang/julia/tree/e4ee485e90961018b7e53ce14b8b99335953e176/base/strings/basic.jl#L192\" target=\"_blank\">strings/basic.jl:192</a></li> </ul>"
      ],
      "text/plain": [
       "# 9 methods for generic function \"getindex\" from \u001b[90mBase\u001b[39m:\n",
       " [1] getindex(\u001b[90ms\u001b[39m::\u001b[1mAbstractString\u001b[22m, \u001b[90mi\u001b[39m::\u001b[1mColon\u001b[22m)\n",
       "\u001b[90m     @\u001b[39m \u001b[90mstrings/\u001b[39m\u001b[90m\u001b[4mbasic.jl:189\u001b[24m\u001b[39m\n",
       " [2] getindex(\u001b[90ms\u001b[39m::\u001b[1mSubString\u001b[22m, \u001b[90mi\u001b[39m::\u001b[1mInteger\u001b[22m)\n",
       "\u001b[90m     @\u001b[39m \u001b[90mstrings/\u001b[39m\u001b[90m\u001b[4msubstring.jl:90\u001b[24m\u001b[39m\n",
       " [3] getindex(\u001b[90ms\u001b[39m::\u001b[1mString\u001b[22m, \u001b[90mi\u001b[39m::\u001b[1mInt64\u001b[22m)\n",
       "\u001b[90m     @\u001b[39m \u001b[90mstrings/\u001b[39m\u001b[90m\u001b[4mstring.jl:237\u001b[24m\u001b[39m\n",
       " [4] getindex(\u001b[90ms\u001b[39m::\u001b[1mAbstractString\u001b[22m, \u001b[90mi\u001b[39m::\u001b[1mInteger\u001b[22m)\n",
       "\u001b[90m     @\u001b[39m \u001b[90mstrings/\u001b[39m\u001b[90m\u001b[4mbasic.jl:184\u001b[24m\u001b[39m\n",
       " [5] getindex(\u001b[90ms\u001b[39m::\u001b[1mString\u001b[22m, \u001b[90mr\u001b[39m::\u001b[1mUnitRange\u001b[22m\u001b[0m{Int64})\n",
       "\u001b[90m     @\u001b[39m \u001b[90mstrings/\u001b[39m\u001b[90m\u001b[4mstring.jl:272\u001b[24m\u001b[39m\n",
       " [6] getindex(\u001b[90ms\u001b[39m::\u001b[1mString\u001b[22m, \u001b[90mr\u001b[39m::\u001b[1mAbstractUnitRange\u001b[22m\u001b[0m{<:Integer})\n",
       "\u001b[90m     @\u001b[39m \u001b[90mstrings/\u001b[39m\u001b[90m\u001b[4mstring.jl:270\u001b[24m\u001b[39m\n",
       " [7] getindex(\u001b[90ms\u001b[39m::\u001b[1mAbstractString\u001b[22m, \u001b[90mr\u001b[39m::\u001b[1mAbstractUnitRange\u001b[22m\u001b[0m{<:Integer})\n",
       "\u001b[90m     @\u001b[39m \u001b[90mstrings/\u001b[39m\u001b[90m\u001b[4msubstring.jl:281\u001b[24m\u001b[39m\n",
       " [8] getindex(\u001b[90ms\u001b[39m::\u001b[1mAbstractString\u001b[22m, \u001b[90mv\u001b[39m::\u001b[1mAbstractVector\u001b[22m\u001b[0m{Bool})\n",
       "\u001b[90m     @\u001b[39m \u001b[90mstrings/\u001b[39m\u001b[90m\u001b[4mbasic.jl:194\u001b[24m\u001b[39m\n",
       " [9] getindex(\u001b[90ms\u001b[39m::\u001b[1mAbstractString\u001b[22m, \u001b[90mv\u001b[39m::\u001b[1mAbstractVector\u001b[22m\u001b[0m{<:Integer})\n",
       "\u001b[90m     @\u001b[39m \u001b[90mstrings/\u001b[39m\u001b[90m\u001b[4mbasic.jl:192\u001b[24m\u001b[39m"
      ]
     },
     "execution_count": 15,
     "metadata": {},
     "output_type": "execute_result"
    }
   ],
   "source": [
    "methods(getindex, [AbstractString, Any])"
   ]
  },
  {
   "cell_type": "code",
   "execution_count": 18,
   "id": "41b2545d-1468-4006-861c-23ca586c0b25",
   "metadata": {},
   "outputs": [
    {
     "name": "stdout",
     "output_type": "stream",
     "text": [
      "ytho\n"
     ]
    }
   ],
   "source": [
    "py\"\"\"\n",
    "value = \"python is cool!\"[1:5]\n",
    "print(value)\n",
    "\"\"\""
   ]
  },
  {
   "cell_type": "code",
   "execution_count": 71,
   "id": "f98c0a6a-ee4c-4bd7-b968-928c0f355af8",
   "metadata": {},
   "outputs": [
    {
     "name": "stdout",
     "output_type": "stream",
     "text": [
      "12\n",
      "12\n"
     ]
    }
   ],
   "source": [
    "# julia\n",
    "str_len = length(\"hello world!\")\n",
    "println(str_len)\n",
    "# python\n",
    "py\"\"\"\n",
    "str_len = len(\"hello world!\")\n",
    "print(str_len)\n",
    "\"\"\""
   ]
  },
  {
   "cell_type": "code",
   "execution_count": 72,
   "id": "40cb1097-9c68-4f48-84a4-5a75db45920c",
   "metadata": {},
   "outputs": [
    {
     "data": {
      "text/plain": [
       "5-element Vector{UInt8}:\n",
       " 0x68\n",
       " 0x65\n",
       " 0x6c\n",
       " 0x6c\n",
       " 0x6f"
      ]
     },
     "execution_count": 72,
     "metadata": {},
     "output_type": "execute_result"
    }
   ],
   "source": [
    "Vector{UInt8}(\"hello\")"
   ]
  },
  {
   "cell_type": "code",
   "execution_count": 83,
   "id": "e9287f5b-8965-43c9-9f33-cb21c200029f",
   "metadata": {},
   "outputs": [
    {
     "data": {
      "text/plain": [
       "\"0110100001100101011011000110110001101111\""
      ]
     },
     "execution_count": 83,
     "metadata": {},
     "output_type": "execute_result"
    }
   ],
   "source": [
    "bstring = join(bitstring(byte) for byte in Vector{UInt8}(\"hello\"))"
   ]
  },
  {
   "cell_type": "code",
   "execution_count": 84,
   "id": "1c79435e-4eb7-4b44-a13f-dd63b2ffba0d",
   "metadata": {},
   "outputs": [
    {
     "data": {
      "text/plain": [
       "\"0110100001100101011011000110110001101111001000000111011101101111011100100110110001100100\""
      ]
     },
     "execution_count": 84,
     "metadata": {},
     "output_type": "execute_result"
    }
   ],
   "source": [
    "bstring = bstring * \"001000000111011101101111011100100110110001100100\""
   ]
  },
  {
   "cell_type": "code",
   "execution_count": 85,
   "id": "ccf98def-722b-4c5b-9d70-957cdb6abdec",
   "metadata": {},
   "outputs": [
    {
     "data": {
      "text/plain": [
       "\"hello world\""
      ]
     },
     "execution_count": 85,
     "metadata": {},
     "output_type": "execute_result"
    }
   ],
   "source": [
    "String([begin\n",
    "    parse(UInt8, bstring[x:y], base = 2)\n",
    "end for (x, y) in zip(1:8:length(bstring), 8:8:length(bstring))])"
   ]
  },
  {
   "cell_type": "code",
   "execution_count": 86,
   "id": "3074ad0a-a48f-4023-ba7d-6dbf63187d71",
   "metadata": {},
   "outputs": [
    {
     "data": {
      "text/plain": [
       "\"more\""
      ]
     },
     "execution_count": 86,
     "metadata": {},
     "output_type": "execute_result"
    }
   ],
   "source": [
    "\"julia? more like coolia\"[8:11]"
   ]
  },
  {
   "cell_type": "code",
   "execution_count": 87,
   "id": "b8b912d2-4e2d-4856-a3a0-011acd0a5e09",
   "metadata": {},
   "outputs": [
    {
     "name": "stdout",
     "output_type": "stream",
     "text": [
      "SubString{String}[\"\", \"home\", \"emmac\"]\n"
     ]
    }
   ],
   "source": [
    "mypath = \"/home/emmac\"\n",
    "\n",
    "println(split(mypath, \"/\"))"
   ]
  },
  {
   "cell_type": "code",
   "execution_count": 88,
   "id": "3cdd7c2c-6829-4f8a-8dc1-3c9c739c54c0",
   "metadata": {},
   "outputs": [
    {
     "name": "stdout",
     "output_type": "stream",
     "text": [
      "['', 'home', 'emmac']\n"
     ]
    }
   ],
   "source": [
    "py\"\"\"mypath = \"/home/emmac\"\n",
    "\n",
    "print(mypath.split(\"/\"))\n",
    "\"\"\""
   ]
  },
  {
   "cell_type": "code",
   "execution_count": 89,
   "id": "f5c3156c-5460-4f52-ba04-01e1f82dd973",
   "metadata": {},
   "outputs": [
    {
     "data": {
      "text/plain": [
       "\"home/emmac/dev\""
      ]
     },
     "execution_count": 89,
     "metadata": {},
     "output_type": "execute_result"
    }
   ],
   "source": [
    "path_parts = [\"home\", \"emmac\", \"dev\"]\n",
    "\n",
    "result = join(path_parts, \"/\")"
   ]
  },
  {
   "cell_type": "code",
   "execution_count": 91,
   "id": "2055fb0c-f7d1-4940-a418-c9cf3e46ecef",
   "metadata": {},
   "outputs": [
    {
     "name": "stdout",
     "output_type": "stream",
     "text": [
      "home/emmac/dev\n"
     ]
    }
   ],
   "source": [
    "py\"\"\"path_parts = [\"home\", \"emmac\", \"dev\"]\n",
    "\n",
    "result = \"/\".join(path_parts)\n",
    "print(result)\n",
    "\"\"\""
   ]
  },
  {
   "cell_type": "code",
   "execution_count": 95,
   "id": "cce3c67a-26ee-4493-a1b6-713437c08b58",
   "metadata": {},
   "outputs": [
    {
     "data": {
      "text/plain": [
       "\"I  julia\""
      ]
     },
     "execution_count": 95,
     "metadata": {},
     "output_type": "execute_result"
    }
   ],
   "source": [
    "replace(\"I love coolia\", \"coolia\" => \"julia\", \"love\" => \"\")"
   ]
  },
  {
   "cell_type": "code",
   "execution_count": 97,
   "id": "c22280c3-c48d-401b-a383-2f901fe8a6dc",
   "metadata": {},
   "outputs": [
    {
     "name": "stdout",
     "output_type": "stream",
     "text": [
      "I  python\n"
     ]
    }
   ],
   "source": [
    "py\"\"\"\n",
    "result = \"I love scithon\".replace(\"scithon\", \"python\")\n",
    "result = result.replace(\"love\", \"\")\n",
    "print(result)\n",
    "\"\"\""
   ]
  },
  {
   "cell_type": "code",
   "execution_count": 98,
   "id": "3f86d4e4-014f-4750-98ba-75a3ea61d856",
   "metadata": {},
   "outputs": [
    {
     "data": {
      "text/plain": [
       "3"
      ]
     },
     "execution_count": 98,
     "metadata": {},
     "output_type": "execute_result"
    }
   ],
   "source": [
    "# function   vector      position to find from\n",
    "findnext(isodd, [5, 10, 11, 82], 2)\n",
    "\n",
    "11\n",
    "\n",
    "findfirst(x -> x > 11 && x < 94, [1, 8, 36, 11, 9, 12])"
   ]
  },
  {
   "cell_type": "code",
   "execution_count": 99,
   "id": "5e4859e0-a792-4aef-8bea-f6de08b58749",
   "metadata": {},
   "outputs": [
    {
     "name": "stdout",
     "output_type": "stream",
     "text": [
      "Found 'hi' at index 0\n",
      "Found 'hi' at index 11\n"
     ]
    }
   ],
   "source": [
    "py\"\"\"\n",
    "string = \"hi friend, hi again\"\n",
    "substring = \"hi\"\n",
    "start_position = 0\n",
    "\n",
    "while start_position != -1:\n",
    "    start_position = string.find(substring, start_position)\n",
    "    if start_position != -1:\n",
    "        print(f\"Found '{substring}' at index {start_position}\")\n",
    "        start_position += 1  # Move past the current match to find the next\n",
    "\"\"\""
   ]
  },
  {
   "cell_type": "code",
   "execution_count": 100,
   "id": "e9389737-4efd-4a69-8d55-a63dba177827",
   "metadata": {},
   "outputs": [
    {
     "name": "stdout",
     "output_type": "stream",
     "text": [
      "Int64\n",
      "Float64\n"
     ]
    }
   ],
   "source": [
    "println(typeof(parse(Int64, \"5555\")))\n",
    "println(typeof(parse(Float64, \"55.92\")))"
   ]
  },
  {
   "cell_type": "code",
   "execution_count": 103,
   "id": "e85dbf9c-dc93-46ea-8757-6be23a5eb473",
   "metadata": {},
   "outputs": [
    {
     "data": {
      "text/plain": [
       "\"number 5 was my favorite character on codename: kids next door\""
      ]
     },
     "execution_count": 103,
     "metadata": {},
     "output_type": "execute_result"
    }
   ],
   "source": [
    "x = 5\n",
    "\n",
    "new_s = \"number $x was my favorite character on codename: kids next door\""
   ]
  },
  {
   "cell_type": "code",
   "execution_count": 104,
   "id": "e69eb44b-e34f-4551-99ab-41945df34e57",
   "metadata": {},
   "outputs": [
    {
     "data": {
      "text/plain": [
       "\"number 4 was not my favorite character on codename: kids next door\""
      ]
     },
     "execution_count": 104,
     "metadata": {},
     "output_type": "execute_result"
    }
   ],
   "source": [
    "new_s = \"number $(x - 1) was not my favorite character on codename: kids next door\""
   ]
  },
  {
   "cell_type": "code",
   "execution_count": 105,
   "id": "a69f14dd-db89-4e67-b449-176f90ae5b3d",
   "metadata": {},
   "outputs": [
    {
     "data": {
      "text/plain": [
       "\"Rumor has it that [REDACTED] and [REDACTED] bought the last turkey in town.\""
      ]
     },
     "execution_count": 105,
     "metadata": {},
     "output_type": "execute_result"
    }
   ],
   "source": [
    "macro replacer_str(s::String)\n",
    "   replace(s, \"emma\" => \"[REDACTED]\", \"jonas\" => \"[REDACTED]\")\n",
    "end\n",
    "\n",
    "replacer\"\"\"Rumor has it that emma and jonas bought the last turkey in town.\"\"\""
   ]
  },
  {
   "cell_type": "code",
   "execution_count": null,
   "id": "4cc21def-9afb-47e0-91ad-bd8505d350ee",
   "metadata": {},
   "outputs": [],
   "source": []
  }
 ],
 "metadata": {
  "kernelspec": {
   "display_name": "Julia 1.9.2",
   "language": "julia",
   "name": "julia-1.9"
  },
  "language_info": {
   "file_extension": ".jl",
   "mimetype": "application/julia",
   "name": "julia",
   "version": "1.9.2"
  }
 },
 "nbformat": 4,
 "nbformat_minor": 5
}

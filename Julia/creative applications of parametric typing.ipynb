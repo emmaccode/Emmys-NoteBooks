{
 "cells": [
  {
   "cell_type": "code",
   "execution_count": 48,
   "id": "fae43654-8d0c-4fb9-9026-e6749f7fd3d9",
   "metadata": {},
   "outputs": [],
   "source": [
    "# Define a custom type\n",
    "struct MyData\n",
    "    name::String\n",
    "    values::Vector{Float64}\n",
    "end\n",
    "\n",
    "# Default text representation\n",
    "Base.show(io::IO, data::MyData) = print(io, \n",
    "    \"MyData with name: $(data.name) and $(length(data.values)) values\")\n",
    "\n",
    "# Specialized HTML representation\n",
    "Base.show(io::IO, ::MIME\"text/html\", data::MyData) = print(io,\n",
    "     \"<strong>MyData</strong>: <br>Name: <em>$(data.name)</em><br>Values: $(data.values)\")\n",
    "\n",
    "# Specialized LaTeX representation\n",
    "Base.show(io::IO, ::MIME\"text/latex\", data::MyData) = print(io, \n",
    "    \"\\\\textbf{MyData}: \\\\textit{$(data.name)} \\\\\\\\ \\\\texttt{$(data.values)}\")"
   ]
  },
  {
   "cell_type": "code",
   "execution_count": 49,
   "id": "c0e485a3-e0e2-4dbb-a741-afcfd346e7e8",
   "metadata": {},
   "outputs": [],
   "source": [
    "mutable struct Document\n",
    "    raw::String\n",
    "end\n",
    "\n",
    "mutable struct File{T <: Any}\n",
    "    path::String\n",
    "    File(path::String) = begin\n",
    "        fending = split(path, \".\")[2:end]\n",
    "        new{Symbol(fending)}(path)\n",
    "    end\n",
    "end"
   ]
  },
  {
   "cell_type": "code",
   "execution_count": 50,
   "id": "f110eef8-de0b-4ed9-9405-090e25db18e1",
   "metadata": {},
   "outputs": [
    {
     "data": {
      "text/plain": [
       "Unit{Float64}(1.0)"
      ]
     },
     "execution_count": 50,
     "metadata": {},
     "output_type": "execute_result"
    }
   ],
   "source": [
    "# Define a struct for a unit of measurement\n",
    "struct Unit{T}\n",
    "    value::T\n",
    "end\n",
    "\n",
    "# Overload the multiplication operator\n",
    "import Base.*\n",
    "\n",
    "*(x::Number, u::Unit) = Unit(x * u.value)\n",
    "\n",
    "# Define specific units\n",
    "const Meter = Unit(1.0)  # 1 meter\n",
    "const Second = Unit(1.0)  # 1 second"
   ]
  },
  {
   "cell_type": "code",
   "execution_count": null,
   "id": "00d9ea39-33dc-4dc2-a47d-8efc09113852",
   "metadata": {},
   "outputs": [],
   "source": []
  },
  {
   "cell_type": "code",
   "execution_count": 12,
   "id": "d50183b8-4215-4ec8-8cec-82d1b31f7e04",
   "metadata": {},
   "outputs": [],
   "source": [
    "using StaticArrays\n",
    "# our constructor:\n",
    "mutable struct PointVector{N, T}\n",
    "    values::SVector{N, T}\n",
    "    function PointVector{N}(args::Any ...) where {N <: Any}\n",
    "        n_values::Int64 = length(args)\n",
    "        T = typeof(args[1])\n",
    "        if n_values > 1 && n_values != N\n",
    "            throw(DimensionMismatch())\n",
    "        end\n",
    "        buffer::SVector{N, T} = SA[args ...]\n",
    "        new{N, T}(buffer)\n",
    "    end\n",
    "end"
   ]
  },
  {
   "cell_type": "code",
   "execution_count": 13,
   "id": "561d5917-30b2-43c8-a3bb-fdb1ebc00183",
   "metadata": {},
   "outputs": [
    {
     "data": {
      "text/plain": [
       "Vector3\u001b[90m (alias for \u001b[39m\u001b[90mPointVector{3}\u001b[39m\u001b[90m)\u001b[39m"
      ]
     },
     "execution_count": 13,
     "metadata": {},
     "output_type": "execute_result"
    }
   ],
   "source": [
    "const Vector2{T} = PointVector{2}\n",
    "const Vector3{T} = PointVector{3}"
   ]
  },
  {
   "cell_type": "code",
   "execution_count": 20,
   "id": "fd2b719f-3980-49de-8a4c-3a67998e8b6f",
   "metadata": {},
   "outputs": [
    {
     "name": "stdout",
     "output_type": "stream",
     "text": [
      "Vector3{Int64}([1, 5, 9])\n",
      "Vector2{Int64}([1, 2])\n"
     ]
    }
   ],
   "source": [
    "println(Vector3(1, 5, 9))\n",
    "println(Vector2(1, 2))"
   ]
  },
  {
   "cell_type": "code",
   "execution_count": 39,
   "id": "59074152-c617-4f98-b56f-67b9557ebcba",
   "metadata": {},
   "outputs": [],
   "source": [
    "mutable struct SoftDirectory{ACTIVE}\n",
    "    files::Dict{String, String}\n",
    "    path::String\n",
    "    function SoftDirectory(path::String)\n",
    "        new{false}(Dict{String, String}(), path::String)\n",
    "    end\n",
    "    function SoftDirectory(files::Dict{String, String}, path::String)\n",
    "        new{true}(files, path)\n",
    "    end\n",
    "end"
   ]
  },
  {
   "cell_type": "code",
   "execution_count": 40,
   "id": "bad80ab8-de9b-4e36-889d-36da2a73e989",
   "metadata": {},
   "outputs": [
    {
     "data": {
      "text/plain": [
       "mount (generic function with 2 methods)"
      ]
     },
     "execution_count": 40,
     "metadata": {},
     "output_type": "execute_result"
    }
   ],
   "source": [
    "function mount(dir::SoftDirectory, path::String = dir.path)\n",
    "    files = dir.files\n",
    "    [begin \n",
    "        file_direc = path * \"/$file\"\n",
    "        if isfile(file_direc)\n",
    "            push!(files, file => read(file_direc, String))\n",
    "        end\n",
    "    end for file in readdir(path)]\n",
    "    newdir = SoftDirectory(files, dir.path)\n",
    "end"
   ]
  },
  {
   "cell_type": "code",
   "execution_count": 41,
   "id": "75011498-f54e-4105-b104-b1301f78520d",
   "metadata": {},
   "outputs": [
    {
     "data": {
      "text/plain": [
       "SoftDirectory{false}(Dict{String, String}(), \"/home/emmac/sampledir\")"
      ]
     },
     "execution_count": 41,
     "metadata": {},
     "output_type": "execute_result"
    }
   ],
   "source": [
    "softdirec = SoftDirectory(\"/home/emmac/sampledir\")"
   ]
  },
  {
   "cell_type": "code",
   "execution_count": 42,
   "id": "0363021a-eb41-4a19-958e-ed6828af6121",
   "metadata": {},
   "outputs": [
    {
     "data": {
      "text/plain": [
       "SoftDirectory{true}(Dict(\"test.txt\" => \"\"), \"/home/emmac/sampledir\")"
      ]
     },
     "execution_count": 42,
     "metadata": {},
     "output_type": "execute_result"
    }
   ],
   "source": [
    "mounted = mount(softdirec)"
   ]
  },
  {
   "cell_type": "code",
   "execution_count": 46,
   "id": "1863321e-7daf-4ba7-8e7a-0a06e2c010e3",
   "metadata": {},
   "outputs": [
    {
     "data": {
      "text/plain": [
       "list_files (generic function with 2 methods)"
      ]
     },
     "execution_count": 46,
     "metadata": {},
     "output_type": "execute_result"
    }
   ],
   "source": [
    "list_files(soft::SoftDirectory{true}) = println(keys(soft.files))\n",
    "list_files(soft::SoftDirectory{false}) = throw(\"you have yet to initialize!\")"
   ]
  },
  {
   "cell_type": "code",
   "execution_count": 47,
   "id": "c75de112-aeea-4da8-85bd-2d8bafa2eb26",
   "metadata": {},
   "outputs": [
    {
     "name": "stdout",
     "output_type": "stream",
     "text": [
      "[\"test.txt\"]\n"
     ]
    }
   ],
   "source": [
    "# list_files(softdirec)\n",
    "list_files(mounted)"
   ]
  },
  {
   "cell_type": "code",
   "execution_count": null,
   "id": "8e86cfe8-37c6-4243-b7da-d3e1b392cc9f",
   "metadata": {},
   "outputs": [],
   "source": []
  },
  {
   "cell_type": "code",
   "execution_count": null,
   "id": "832f53b0-e00e-4590-9349-ca43a9c86d30",
   "metadata": {},
   "outputs": [],
   "source": []
  }
 ],
 "metadata": {
  "kernelspec": {
   "display_name": "Julia 1.9.2",
   "language": "julia",
   "name": "julia-1.9"
  },
  "language_info": {
   "file_extension": ".jl",
   "mimetype": "application/julia",
   "name": "julia",
   "version": "1.9.2"
  }
 },
 "nbformat": 4,
 "nbformat_minor": 5
}

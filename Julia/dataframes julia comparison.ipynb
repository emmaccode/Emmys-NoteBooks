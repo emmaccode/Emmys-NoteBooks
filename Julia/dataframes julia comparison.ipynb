{
 "cells": [
  {
   "cell_type": "code",
   "execution_count": 1,
   "id": "49254b9a-d22e-43b6-b979-04017bc64068",
   "metadata": {},
   "outputs": [
    {
     "data": {
      "text/plain": [
       "other (generic function with 1 method)"
      ]
     },
     "execution_count": 1,
     "metadata": {},
     "output_type": "execute_result"
    }
   ],
   "source": [
    "abstract type AbstractStructure end\n",
    "\n",
    "mutable struct Structure <: AbstractStructure\n",
    "    field::Type\n",
    "end\n",
    "\n",
    "function other(str::AbstractStructure)\n",
    "    println(str.field)\n",
    "end"
   ]
  },
  {
   "cell_type": "code",
   "execution_count": 2,
   "id": "96f34879-3d36-4d65-b34b-20c988d7afd8",
   "metadata": {},
   "outputs": [
    {
     "data": {
      "text/plain": [
       "length (generic function with 90 methods)"
      ]
     },
     "execution_count": 2,
     "metadata": {},
     "output_type": "execute_result"
    }
   ],
   "source": [
    "import Base: length\n",
    "\n",
    "struct Pizza\n",
    "   radius::Float64\n",
    "end\n",
    "\n",
    "length(pizza::Pizza) = pizza.radius * 2"
   ]
  },
  {
   "cell_type": "markdown",
   "id": "9cbb619b-d038-4a74-a113-b499c3b09949",
   "metadata": {},
   "source": [
    "# surface level differences"
   ]
  },
  {
   "cell_type": "code",
   "execution_count": 5,
   "id": "6757e4b9-31f4-40ca-9095-a552f135802b",
   "metadata": {},
   "outputs": [],
   "source": [
    "using DataFrames"
   ]
  },
  {
   "cell_type": "code",
   "execution_count": 7,
   "id": "396fb345-3d1e-4124-92df-1124af9a82e8",
   "metadata": {},
   "outputs": [
    {
     "data": {
      "text/html": [
       "<div><div style = \"float: left;\"><span>3×2 DataFrame</span></div><div style = \"clear: both;\"></div></div><div class = \"data-frame\" style = \"overflow-x: scroll;\"><table class = \"data-frame\" style = \"margin-bottom: 6px;\"><thead><tr class = \"header\"><th class = \"rowNumber\" style = \"font-weight: bold; text-align: right;\">Row</th><th style = \"text-align: left;\">A</th><th style = \"text-align: left;\">B</th></tr><tr class = \"subheader headerLastRow\"><th class = \"rowNumber\" style = \"font-weight: bold; text-align: right;\"></th><th title = \"Int64\" style = \"text-align: left;\">Int64</th><th title = \"Int64\" style = \"text-align: left;\">Int64</th></tr></thead><tbody><tr><td class = \"rowNumber\" style = \"font-weight: bold; text-align: right;\">1</td><td style = \"text-align: right;\">1</td><td style = \"text-align: right;\">1</td></tr><tr><td class = \"rowNumber\" style = \"font-weight: bold; text-align: right;\">2</td><td style = \"text-align: right;\">2</td><td style = \"text-align: right;\">2</td></tr><tr><td class = \"rowNumber\" style = \"font-weight: bold; text-align: right;\">3</td><td style = \"text-align: right;\">3</td><td style = \"text-align: right;\">3</td></tr></tbody></table></div>"
      ],
      "text/latex": [
       "\\begin{tabular}{r|cc}\n",
       "\t& A & B\\\\\n",
       "\t\\hline\n",
       "\t& Int64 & Int64\\\\\n",
       "\t\\hline\n",
       "\t1 & 1 & 1 \\\\\n",
       "\t2 & 2 & 2 \\\\\n",
       "\t3 & 3 & 3 \\\\\n",
       "\\end{tabular}\n"
      ],
      "text/plain": [
       "\u001b[1m3×2 DataFrame\u001b[0m\n",
       "\u001b[1m Row \u001b[0m│\u001b[1m A     \u001b[0m\u001b[1m B     \u001b[0m\n",
       "     │\u001b[90m Int64 \u001b[0m\u001b[90m Int64 \u001b[0m\n",
       "─────┼──────────────\n",
       "   1 │     1      1\n",
       "   2 │     2      2\n",
       "   3 │     3      3"
      ]
     },
     "execution_count": 7,
     "metadata": {},
     "output_type": "execute_result"
    }
   ],
   "source": [
    "df = DataFrame(\"A\" => [1, 2, 3], \"B\" => [1, 2, 3])"
   ]
  },
  {
   "cell_type": "code",
   "execution_count": 9,
   "id": "5fbcf974-62d7-4438-938c-a96158cf2e84",
   "metadata": {},
   "outputs": [
    {
     "name": "stdout",
     "output_type": "stream",
     "text": [
      "1\n",
      "\u001b[1m2×2 DataFrame\u001b[0m\n",
      "\u001b[1m Row \u001b[0m│\u001b[1m A     \u001b[0m\u001b[1m B     \u001b[0m\n",
      "     │\u001b[90m Int64 \u001b[0m\u001b[90m Int64 \u001b[0m\n",
      "─────┼──────────────\n",
      "   1 │     1      1\n",
      "   2 │     2      2\n"
     ]
    }
   ],
   "source": [
    "println(df[1, 1])\n",
    "\n",
    "println(df[1:2, 1:2])"
   ]
  },
  {
   "cell_type": "markdown",
   "id": "6ff18494-aea1-4d0f-8a3c-01643441563b",
   "metadata": {},
   "source": [
    "## paradigm influences"
   ]
  },
  {
   "cell_type": "code",
   "execution_count": 10,
   "id": "99720937-abc9-4008-bece-68ed108f9496",
   "metadata": {},
   "outputs": [
    {
     "name": "stdout",
     "output_type": "stream",
     "text": [
      "[5, 5]\n",
      "[8, 2]\n",
      "[4, 8]\n",
      "[6, 3]\n",
      "[2, 10]\n",
      "[9, 9]\n",
      "[8, 7]\n",
      "[3, 11]\n",
      "========\n",
      "[1, 2, 3]\n",
      "[5, 3, 8]\n"
     ]
    }
   ],
   "source": [
    "mat = [5 8 4 6 2 9 8 3; 5 2 8 3 10 9 7 11]\n",
    "for col in eachcol(mat)\n",
    "    println(col)\n",
    "end\n",
    "println(\"========\")\n",
    "df = DataFrame(\"A\" => [1, 2, 3], \"B\" => [5, 3, 8])\n",
    "for col in eachcol(df)\n",
    "    println(col)\n",
    "end"
   ]
  },
  {
   "cell_type": "code",
   "execution_count": 11,
   "id": "fcfe6171-b480-452d-98df-d41326536117",
   "metadata": {},
   "outputs": [
    {
     "data": {
      "text/plain": [
       "normalize (generic function with 2 methods)"
      ]
     },
     "execution_count": 11,
     "metadata": {},
     "output_type": "execute_result"
    }
   ],
   "source": [
    "using Statistics: std, mean\n",
    "\n",
    "function normalize(vec::Vector{<:Real})\n",
    "    mu = mean(vec)\n",
    "    sigma = std(vec)\n",
    "    [(mu - xbar) / sigma for xbar in vec]::Vector{<:Real}\n",
    "end\n",
    "\n",
    "function normalize(data::Any)\n",
    "  # will create a new `Matrix` of the concatenated columns.\n",
    "  hcat([normalize(column) for column in eachcol(data)])\n",
    "end"
   ]
  },
  {
   "cell_type": "code",
   "execution_count": 12,
   "id": "d53ae24e-1a3e-48f1-a210-b9349599a7b7",
   "metadata": {},
   "outputs": [
    {
     "data": {
      "text/plain": [
       "2×1 Matrix{Vector{Float64}}:\n",
       " [1.0, 0.0, -1.0]\n",
       " [0.13245323570650427, 0.9271726499455306, -1.0596258856520353]"
      ]
     },
     "execution_count": 12,
     "metadata": {},
     "output_type": "execute_result"
    }
   ],
   "source": [
    "normalize(df)"
   ]
  },
  {
   "cell_type": "code",
   "execution_count": 16,
   "id": "0b22cfac-70e0-44b4-b790-50646371ea8c",
   "metadata": {},
   "outputs": [
    {
     "data": {
      "text/html": [
       "<div><div style = \"float: left;\"><span>3×1 DataFrame</span></div><div style = \"clear: both;\"></div></div><div class = \"data-frame\" style = \"overflow-x: scroll;\"><table class = \"data-frame\" style = \"margin-bottom: 6px;\"><thead><tr class = \"header\"><th class = \"rowNumber\" style = \"font-weight: bold; text-align: right;\">Row</th><th style = \"text-align: left;\">A</th></tr><tr class = \"subheader headerLastRow\"><th class = \"rowNumber\" style = \"font-weight: bold; text-align: right;\"></th><th title = \"Int64\" style = \"text-align: left;\">Int64</th></tr></thead><tbody><tr><td class = \"rowNumber\" style = \"font-weight: bold; text-align: right;\">1</td><td style = \"text-align: right;\">1</td></tr><tr><td class = \"rowNumber\" style = \"font-weight: bold; text-align: right;\">2</td><td style = \"text-align: right;\">2</td></tr><tr><td class = \"rowNumber\" style = \"font-weight: bold; text-align: right;\">3</td><td style = \"text-align: right;\">3</td></tr></tbody></table></div>"
      ],
      "text/latex": [
       "\\begin{tabular}{r|c}\n",
       "\t& A\\\\\n",
       "\t\\hline\n",
       "\t& Int64\\\\\n",
       "\t\\hline\n",
       "\t1 & 1 \\\\\n",
       "\t2 & 2 \\\\\n",
       "\t3 & 3 \\\\\n",
       "\\end{tabular}\n"
      ],
      "text/plain": [
       "\u001b[1m3×1 DataFrame\u001b[0m\n",
       "\u001b[1m Row \u001b[0m│\u001b[1m A     \u001b[0m\n",
       "     │\u001b[90m Int64 \u001b[0m\n",
       "─────┼───────\n",
       "   1 │     1\n",
       "   2 │     2\n",
       "   3 │     3"
      ]
     },
     "execution_count": 16,
     "metadata": {},
     "output_type": "execute_result"
    }
   ],
   "source": [
    "df = df[!, Not(\"B\")]"
   ]
  },
  {
   "cell_type": "code",
   "execution_count": 17,
   "id": "38d93d2d-5cf0-4165-a757-fb51793ed19d",
   "metadata": {},
   "outputs": [
    {
     "name": "stdout",
     "output_type": "stream",
     "text": [
      "1\n",
      "2\n",
      "3\n"
     ]
    }
   ],
   "source": [
    "for col in eachcol(df)\n",
    "    [println(observation) for observation in col]\n",
    "end"
   ]
  },
  {
   "cell_type": "code",
   "execution_count": null,
   "id": "c67dd1a3-3e58-4d56-ad41-76f6a995f333",
   "metadata": {},
   "outputs": [],
   "source": []
  }
 ],
 "metadata": {
  "kernelspec": {
   "display_name": "Julia 1.9.2",
   "language": "julia",
   "name": "julia-1.9"
  },
  "language_info": {
   "file_extension": ".jl",
   "mimetype": "application/julia",
   "name": "julia",
   "version": "1.9.2"
  }
 },
 "nbformat": 4,
 "nbformat_minor": 5
}

{
 "cells": [
  {
   "cell_type": "code",
   "execution_count": 1,
   "id": "e9f2c04f-1f98-42fa-b7a4-842fadaa0cac",
   "metadata": {},
   "outputs": [
    {
     "name": "stderr",
     "output_type": "stream",
     "text": [
      "\u001b[36m\u001b[1m[ \u001b[22m\u001b[39m\u001b[36m\u001b[1mInfo: \u001b[22m\u001b[39mPrecompiling Nettle [49dea1ee-f6fa-5aa6-9a11-8816cee7d4b9] (cache misses: wrong dep version loaded (2), incompatible header (2))\n"
     ]
    }
   ],
   "source": [
    "using Nettle\n",
    "using SHA\n",
    "using Base64"
   ]
  },
  {
   "cell_type": "code",
   "execution_count": 33,
   "id": "42e02b18-ac3e-46b1-9f0b-e46930e2dd76",
   "metadata": {},
   "outputs": [
    {
     "data": {
      "text/plain": [
       "\"LjO8Z1daldsiPswYWLc3fevAfKjCbH8p\""
      ]
     },
     "execution_count": 33,
     "metadata": {},
     "output_type": "execute_result"
    }
   ],
   "source": [
    "using Random\n",
    "randstring(32)"
   ]
  },
  {
   "cell_type": "code",
   "execution_count": 42,
   "id": "939660ce-9a22-4ba6-a923-d809deac48d2",
   "metadata": {},
   "outputs": [
    {
     "data": {
      "text/plain": [
       "random_string (generic function with 2 methods)"
      ]
     },
     "execution_count": 42,
     "metadata": {},
     "output_type": "execute_result"
    }
   ],
   "source": [
    "random_string(len::Integer = 32) = begin\n",
    "    sampler = \"abcdefghijklmnopqrstuvwxyzABCDEFHIJKLMNOPQRSTUVWXYZ\"\n",
    "    n = length(sampler)\n",
    "    join(sampler[rand(1:n)] for x in 1:len)::String\n",
    "end"
   ]
  },
  {
   "cell_type": "code",
   "execution_count": 43,
   "id": "c4979ae1-38f5-4d6f-8285-af73ae83539d",
   "metadata": {},
   "outputs": [
    {
     "data": {
      "text/plain": [
       "\"VvudfkTJzYsTtBeuehjPYrpmBwMqEqOP\""
      ]
     },
     "execution_count": 43,
     "metadata": {},
     "output_type": "execute_result"
    }
   ],
   "source": [
    "random_string(32)"
   ]
  },
  {
   "cell_type": "code",
   "execution_count": 50,
   "id": "dce8864c-68c7-42af-a14e-0886728ddabb",
   "metadata": {},
   "outputs": [
    {
     "data": {
      "text/plain": [
       "AES256 Decryption state"
      ]
     },
     "execution_count": 50,
     "metadata": {},
     "output_type": "execute_result"
    }
   ],
   "source": [
    "HMAC = random_string(32)\n",
    "encryptor = Encryptor(\"AES256\", HMAC)\n",
    "decryptor = Decryptor(\"AES256\", HMAC)"
   ]
  },
  {
   "cell_type": "code",
   "execution_count": 51,
   "id": "4198a926-0e93-4c27-87b9-ddfc4ed6734a",
   "metadata": {},
   "outputs": [
    {
     "data": {
      "text/html": [
       "# 4 methods for generic function <b>encrypt</b> from \u001b[36mNettle\u001b[39m:<ul><li> encrypt(name::<b>String</b>, e::<b>Symbol</b>, iv::<b>Vector{UInt8}</b>, key, data) in Nettle at <a href=\"file:///home/emmac/.julia/packages/Nettle/tQaGT/src/cipher.jl\" target=\"_blank\">/home/emmac/.julia/packages/Nettle/tQaGT/src/cipher.jl:260</a></li> <li> encrypt(name::<b>String</b>, key, data) in Nettle at <a href=\"file:///home/emmac/.julia/packages/Nettle/tQaGT/src/cipher.jl\" target=\"_blank\">/home/emmac/.julia/packages/Nettle/tQaGT/src/cipher.jl:257</a></li> <li> encrypt(state::<b>Encryptor</b>, data) in Nettle at <a href=\"file:///home/emmac/.julia/packages/Nettle/tQaGT/src/cipher.jl\" target=\"_blank\">/home/emmac/.julia/packages/Nettle/tQaGT/src/cipher.jl:249</a></li> <li> encrypt(state::<b>Encryptor</b>, e::<b>Symbol</b>, iv::<b>Vector{UInt8}</b>, data) in Nettle at <a href=\"file:///home/emmac/.julia/packages/Nettle/tQaGT/src/cipher.jl\" target=\"_blank\">/home/emmac/.julia/packages/Nettle/tQaGT/src/cipher.jl:243</a></li> </ul>"
      ],
      "text/plain": [
       "# 4 methods for generic function \"encrypt\" from \u001b[36mNettle\u001b[39m:\n",
       " [1] encrypt(\u001b[90mname\u001b[39m::\u001b[1mString\u001b[22m, \u001b[90me\u001b[39m::\u001b[1mSymbol\u001b[22m, \u001b[90miv\u001b[39m::\u001b[1mVector\u001b[22m\u001b[0m{UInt8}, \u001b[90mkey\u001b[39m, \u001b[90mdata\u001b[39m)\n",
       "\u001b[90m     @\u001b[39m \u001b[90m~/.julia/packages/Nettle/tQaGT/src/\u001b[39m\u001b[90m\u001b[4mcipher.jl:260\u001b[24m\u001b[39m\n",
       " [2] encrypt(\u001b[90mname\u001b[39m::\u001b[1mString\u001b[22m, \u001b[90mkey\u001b[39m, \u001b[90mdata\u001b[39m)\n",
       "\u001b[90m     @\u001b[39m \u001b[90m~/.julia/packages/Nettle/tQaGT/src/\u001b[39m\u001b[90m\u001b[4mcipher.jl:257\u001b[24m\u001b[39m\n",
       " [3] encrypt(\u001b[90mstate\u001b[39m::\u001b[1mEncryptor\u001b[22m, \u001b[90mdata\u001b[39m)\n",
       "\u001b[90m     @\u001b[39m \u001b[90m~/.julia/packages/Nettle/tQaGT/src/\u001b[39m\u001b[90m\u001b[4mcipher.jl:249\u001b[24m\u001b[39m\n",
       " [4] encrypt(\u001b[90mstate\u001b[39m::\u001b[1mEncryptor\u001b[22m, \u001b[90me\u001b[39m::\u001b[1mSymbol\u001b[22m, \u001b[90miv\u001b[39m::\u001b[1mVector\u001b[22m\u001b[0m{UInt8}, \u001b[90mdata\u001b[39m)\n",
       "\u001b[90m     @\u001b[39m \u001b[90m~/.julia/packages/Nettle/tQaGT/src/\u001b[39m\u001b[90m\u001b[4mcipher.jl:243\u001b[24m\u001b[39m"
      ]
     },
     "execution_count": 51,
     "metadata": {},
     "output_type": "execute_result"
    }
   ],
   "source": [
    "methods(encrypt)"
   ]
  },
  {
   "cell_type": "code",
   "execution_count": 52,
   "id": "596885c9-24d6-45a6-b7ef-de6dd9a19936",
   "metadata": {},
   "outputs": [
    {
     "data": {
      "text/html": [
       "# 4 methods for generic function <b>decrypt</b> from \u001b[36mNettle\u001b[39m:<ul><li> decrypt(name::<b>String</b>, e::<b>Symbol</b>, iv::<b>Vector{UInt8}</b>, key, data) in Nettle at <a href=\"file:///home/emmac/.julia/packages/Nettle/tQaGT/src/cipher.jl\" target=\"_blank\">/home/emmac/.julia/packages/Nettle/tQaGT/src/cipher.jl:259</a></li> <li> decrypt(name::<b>String</b>, key, data) in Nettle at <a href=\"file:///home/emmac/.julia/packages/Nettle/tQaGT/src/cipher.jl\" target=\"_blank\">/home/emmac/.julia/packages/Nettle/tQaGT/src/cipher.jl:256</a></li> <li> decrypt(state::<b>Decryptor</b>, data) in Nettle at <a href=\"file:///home/emmac/.julia/packages/Nettle/tQaGT/src/cipher.jl\" target=\"_blank\">/home/emmac/.julia/packages/Nettle/tQaGT/src/cipher.jl:189</a></li> <li> decrypt(state::<b>Decryptor</b>, e::<b>Symbol</b>, iv::<b>Vector{UInt8}</b>, data) in Nettle at <a href=\"file:///home/emmac/.julia/packages/Nettle/tQaGT/src/cipher.jl\" target=\"_blank\">/home/emmac/.julia/packages/Nettle/tQaGT/src/cipher.jl:183</a></li> </ul>"
      ],
      "text/plain": [
       "# 4 methods for generic function \"decrypt\" from \u001b[36mNettle\u001b[39m:\n",
       " [1] decrypt(\u001b[90mname\u001b[39m::\u001b[1mString\u001b[22m, \u001b[90me\u001b[39m::\u001b[1mSymbol\u001b[22m, \u001b[90miv\u001b[39m::\u001b[1mVector\u001b[22m\u001b[0m{UInt8}, \u001b[90mkey\u001b[39m, \u001b[90mdata\u001b[39m)\n",
       "\u001b[90m     @\u001b[39m \u001b[90m~/.julia/packages/Nettle/tQaGT/src/\u001b[39m\u001b[90m\u001b[4mcipher.jl:259\u001b[24m\u001b[39m\n",
       " [2] decrypt(\u001b[90mname\u001b[39m::\u001b[1mString\u001b[22m, \u001b[90mkey\u001b[39m, \u001b[90mdata\u001b[39m)\n",
       "\u001b[90m     @\u001b[39m \u001b[90m~/.julia/packages/Nettle/tQaGT/src/\u001b[39m\u001b[90m\u001b[4mcipher.jl:256\u001b[24m\u001b[39m\n",
       " [3] decrypt(\u001b[90mstate\u001b[39m::\u001b[1mDecryptor\u001b[22m, \u001b[90mdata\u001b[39m)\n",
       "\u001b[90m     @\u001b[39m \u001b[90m~/.julia/packages/Nettle/tQaGT/src/\u001b[39m\u001b[90m\u001b[4mcipher.jl:189\u001b[24m\u001b[39m\n",
       " [4] decrypt(\u001b[90mstate\u001b[39m::\u001b[1mDecryptor\u001b[22m, \u001b[90me\u001b[39m::\u001b[1mSymbol\u001b[22m, \u001b[90miv\u001b[39m::\u001b[1mVector\u001b[22m\u001b[0m{UInt8}, \u001b[90mdata\u001b[39m)\n",
       "\u001b[90m     @\u001b[39m \u001b[90m~/.julia/packages/Nettle/tQaGT/src/\u001b[39m\u001b[90m\u001b[4mcipher.jl:183\u001b[24m\u001b[39m"
      ]
     },
     "execution_count": 52,
     "metadata": {},
     "output_type": "execute_result"
    }
   ],
   "source": [
    "methods(decrypt)"
   ]
  },
  {
   "cell_type": "code",
   "execution_count": 64,
   "id": "6c7801a4-8933-4add-a815-1c4a92e4bf4c",
   "metadata": {},
   "outputs": [
    {
     "name": "stdout",
     "output_type": "stream",
     "text": [
      "qMHjXyDeoQPjzresuztljKnLtuIkXhAP\n"
     ]
    },
    {
     "data": {
      "text/plain": [
       "32-element Vector{UInt8}:\n",
       " 0x86\n",
       " 0x40\n",
       " 0x04\n",
       " 0x2a\n",
       " 0x39\n",
       " 0x0d\n",
       " 0x8a\n",
       " 0x94\n",
       " 0x43\n",
       " 0xa5\n",
       " 0x0e\n",
       " 0x7a\n",
       " 0x43\n",
       "    ⋮\n",
       " 0x25\n",
       " 0xb3\n",
       " 0xe2\n",
       " 0xd7\n",
       " 0x10\n",
       " 0x88\n",
       " 0x9c\n",
       " 0x2a\n",
       " 0x1b\n",
       " 0x5d\n",
       " 0x3e\n",
       " 0x1b"
      ]
     },
     "execution_count": 64,
     "metadata": {},
     "output_type": "execute_result"
    }
   ],
   "source": [
    "original_data = random_string(32)\n",
    "println(original_data)\n",
    "data = encrypt(encryptor, original_data)"
   ]
  },
  {
   "cell_type": "code",
   "execution_count": 65,
   "id": "f77ffc4d-e178-43d9-94d1-56c83e811c36",
   "metadata": {},
   "outputs": [],
   "source": [
    "# String(data)"
   ]
  },
  {
   "cell_type": "code",
   "execution_count": 66,
   "id": "6cb308c4-61bd-41ed-bf82-3b6ca93d5791",
   "metadata": {},
   "outputs": [
    {
     "data": {
      "text/plain": [
       "\"qMHjXyDeoQPjzresuztljKnLtuIkXhAP\""
      ]
     },
     "execution_count": 66,
     "metadata": {},
     "output_type": "execute_result"
    }
   ],
   "source": [
    "String(decrypt(decryptor, data))"
   ]
  },
  {
   "cell_type": "code",
   "execution_count": 83,
   "id": "d6848b37-ea9f-43ae-a6d7-da773f131275",
   "metadata": {},
   "outputs": [
    {
     "data": {
      "text/plain": [
       "\"mkESrnNVhFYPkcBMwZseajZoySdUIhZhRbBJPyBbDLUiFVlrLc\""
      ]
     },
     "execution_count": 83,
     "metadata": {},
     "output_type": "execute_result"
    }
   ],
   "source": [
    "my_str = random_string(50)"
   ]
  },
  {
   "cell_type": "code",
   "execution_count": 84,
   "id": "58e2fa53-ceaa-4dc1-b79d-99a8b93202c8",
   "metadata": {},
   "outputs": [
    {
     "ename": "LoadError",
     "evalue": "ArgumentError: Output array of length 50 must be N times 16 bytes long",
     "output_type": "error",
     "traceback": [
      "ArgumentError: Output array of length 50 must be N times 16 bytes long",
      "",
      "Stacktrace:",
      " [1] \u001b[0m\u001b[1mencrypt!\u001b[22m\u001b[0m\u001b[1m(\u001b[22m\u001b[90mstate\u001b[39m::\u001b[0mEncryptor, \u001b[90mresult\u001b[39m::\u001b[0mVector\u001b[90m{UInt8}\u001b[39m, \u001b[90mdata\u001b[39m::\u001b[0mString\u001b[0m\u001b[1m)\u001b[22m",
      "\u001b[90m   @\u001b[39m \u001b[36mNettle\u001b[39m \u001b[90m~/.julia/packages/Nettle/tQaGT/src/\u001b[39m\u001b[90m\u001b[4mcipher.jl:233\u001b[24m\u001b[39m",
      " [2] \u001b[0m\u001b[1mencrypt\u001b[22m\u001b[0m\u001b[1m(\u001b[22m\u001b[90mstate\u001b[39m::\u001b[0mEncryptor, \u001b[90mdata\u001b[39m::\u001b[0mString\u001b[0m\u001b[1m)\u001b[22m",
      "\u001b[90m   @\u001b[39m \u001b[36mNettle\u001b[39m \u001b[90m~/.julia/packages/Nettle/tQaGT/src/\u001b[39m\u001b[90m\u001b[4mcipher.jl:251\u001b[24m\u001b[39m",
      " [3] top-level scope",
      "\u001b[90m   @\u001b[39m \u001b[90m\u001b[4mIn[84]:1\u001b[24m\u001b[39m"
     ]
    }
   ],
   "source": [
    "encrypt(encryptor, my_str)"
   ]
  },
  {
   "cell_type": "code",
   "execution_count": 85,
   "id": "f5c3e340-b70f-44ce-a882-99c12971a3ff",
   "metadata": {},
   "outputs": [
    {
     "name": "stderr",
     "output_type": "stream",
     "text": [
      "\u001b[36m\u001b[1m[ \u001b[22m\u001b[39m\u001b[36m\u001b[1mInfo: \u001b[22m\u001b[39m1\n",
      "\u001b[36m\u001b[1m[ \u001b[22m\u001b[39m\u001b[36m\u001b[1mInfo: \u001b[22m\u001b[39m2\n",
      "\u001b[36m\u001b[1m[ \u001b[22m\u001b[39m\u001b[36m\u001b[1mInfo: \u001b[22m\u001b[39m3\n",
      "\u001b[36m\u001b[1m[ \u001b[22m\u001b[39m\u001b[36m\u001b[1mInfo: \u001b[22m\u001b[39m4\n",
      "\u001b[36m\u001b[1m[ \u001b[22m\u001b[39m\u001b[36m\u001b[1mInfo: \u001b[22m\u001b[39m5\n",
      "\u001b[36m\u001b[1m[ \u001b[22m\u001b[39m\u001b[36m\u001b[1mInfo: \u001b[22m\u001b[39m6\n",
      "\u001b[36m\u001b[1m[ \u001b[22m\u001b[39m\u001b[36m\u001b[1mInfo: \u001b[22m\u001b[39m7\n",
      "\u001b[36m\u001b[1m[ \u001b[22m\u001b[39m\u001b[36m\u001b[1mInfo: \u001b[22m\u001b[39m8\n",
      "\u001b[36m\u001b[1m[ \u001b[22m\u001b[39m\u001b[36m\u001b[1mInfo: \u001b[22m\u001b[39m9\n",
      "\u001b[36m\u001b[1m[ \u001b[22m\u001b[39m\u001b[36m\u001b[1mInfo: \u001b[22m\u001b[39m10\n",
      "\u001b[36m\u001b[1m[ \u001b[22m\u001b[39m\u001b[36m\u001b[1mInfo: \u001b[22m\u001b[39m11\n",
      "\u001b[36m\u001b[1m[ \u001b[22m\u001b[39m\u001b[36m\u001b[1mInfo: \u001b[22m\u001b[39m12\n",
      "\u001b[36m\u001b[1m[ \u001b[22m\u001b[39m\u001b[36m\u001b[1mInfo: \u001b[22m\u001b[39m13\n",
      "\u001b[36m\u001b[1m[ \u001b[22m\u001b[39m\u001b[36m\u001b[1mInfo: \u001b[22m\u001b[39m14\n"
     ]
    }
   ],
   "source": [
    "# add packing\n",
    "n = length(my_str)\n",
    "for x in 1:64 - n\n",
    "    my_str = my_str * \"\\n\"\n",
    "end"
   ]
  },
  {
   "cell_type": "code",
   "execution_count": 87,
   "id": "30755cea-3f1d-4526-8bab-f32887c368b4",
   "metadata": {},
   "outputs": [
    {
     "data": {
      "text/plain": [
       "\"mkESrnNVhFYPkcBMwZseajZoySdUIhZhRbBJPyBbDLUiFVlrLc\\n\\n\\n\\n\\n\\n\\n\\n\\n\\n\\n\\n\\n\\n\""
      ]
     },
     "execution_count": 87,
     "metadata": {},
     "output_type": "execute_result"
    }
   ],
   "source": [
    "my_str"
   ]
  },
  {
   "cell_type": "code",
   "execution_count": 88,
   "id": "9b428ab9-f60f-45b1-8ac6-748a048725ee",
   "metadata": {},
   "outputs": [
    {
     "data": {
      "text/plain": [
       "64-element Vector{UInt8}:\n",
       " 0xad\n",
       " 0x8f\n",
       " 0x02\n",
       " 0x51\n",
       " 0x03\n",
       " 0xec\n",
       " 0x07\n",
       " 0x67\n",
       " 0x18\n",
       " 0x58\n",
       " 0x0c\n",
       " 0xc7\n",
       " 0x85\n",
       "    ⋮\n",
       " 0xf0\n",
       " 0xca\n",
       " 0xd7\n",
       " 0xf1\n",
       " 0xd1\n",
       " 0xb9\n",
       " 0xb1\n",
       " 0x25\n",
       " 0x4c\n",
       " 0x4a\n",
       " 0x44\n",
       " 0xc7"
      ]
     },
     "execution_count": 88,
     "metadata": {},
     "output_type": "execute_result"
    }
   ],
   "source": [
    "encrypt(encryptor, my_str)"
   ]
  },
  {
   "cell_type": "code",
   "execution_count": 89,
   "id": "8242e62e-225e-4c8e-8d45-7fcfc7a71f5e",
   "metadata": {},
   "outputs": [],
   "source": [
    "using Nettle"
   ]
  },
  {
   "cell_type": "code",
   "execution_count": 91,
   "id": "bcb47db1-af0f-4dd5-a1d6-34c1025cf575",
   "metadata": {},
   "outputs": [
    {
     "data": {
      "text/plain": [
       "20-element Vector{Symbol}:\n",
       " :CipherType\n",
       " :Decryptor\n",
       " :Encryptor\n",
       " :HMACState\n",
       " :Hasher\n",
       " :Nettle\n",
       " :add_padding_PKCS5\n",
       " :decrypt\n",
       " :decrypt!\n",
       " :digest\n",
       " :digest!\n",
       " :encrypt\n",
       " :encrypt!\n",
       " :gen_key32_iv16\n",
       " :get_cipher_types\n",
       " :get_hash_types\n",
       " :hexdigest\n",
       " :hexdigest!\n",
       " :trim_padding_PKCS5\n",
       " :update!"
      ]
     },
     "execution_count": 91,
     "metadata": {},
     "output_type": "execute_result"
    }
   ],
   "source": [
    "names(Nettle)"
   ]
  },
  {
   "cell_type": "code",
   "execution_count": 94,
   "id": "9bcb865b-3b3a-43dc-8454-47d5601c0433",
   "metadata": {},
   "outputs": [
    {
     "data": {
      "text/plain": [
       "64-element Vector{UInt8}:\n",
       " 0x44\n",
       " 0x59\n",
       " 0x66\n",
       " 0x4f\n",
       " 0x76\n",
       " 0x71\n",
       " 0x56\n",
       " 0x56\n",
       " 0x4e\n",
       " 0x69\n",
       " 0x4e\n",
       " 0x4e\n",
       " 0x4d\n",
       "    ⋮\n",
       " 0x0e\n",
       " 0x0e\n",
       " 0x0e\n",
       " 0x0e\n",
       " 0x0e\n",
       " 0x0e\n",
       " 0x0e\n",
       " 0x0e\n",
       " 0x0e\n",
       " 0x0e\n",
       " 0x0e\n",
       " 0x0e"
      ]
     },
     "execution_count": 94,
     "metadata": {},
     "output_type": "execute_result"
    }
   ],
   "source": [
    "my_str = random_string(50)\n",
    "\n",
    "val = add_padding_PKCS5(Vector{UInt8}(my_str), 16)"
   ]
  },
  {
   "cell_type": "code",
   "execution_count": 95,
   "id": "c251e560-79f7-4199-9fec-330d892d98fd",
   "metadata": {},
   "outputs": [
    {
     "data": {
      "text/plain": [
       "32-element Vector{UInt8}:\n",
       " 0x06\n",
       " 0x59\n",
       " 0x45\n",
       " 0xef\n",
       " 0xcf\n",
       " 0x92\n",
       " 0xb6\n",
       " 0x69\n",
       " 0x8f\n",
       " 0xec\n",
       " 0xf7\n",
       " 0x51\n",
       " 0xef\n",
       "    ⋮\n",
       " 0x17\n",
       " 0xc4\n",
       " 0xa2\n",
       " 0x3b\n",
       " 0xf8\n",
       " 0xb5\n",
       " 0x67\n",
       " 0x4d\n",
       " 0xe4\n",
       " 0x94\n",
       " 0xa6\n",
       " 0xe5"
      ]
     },
     "execution_count": 95,
     "metadata": {},
     "output_type": "execute_result"
    }
   ],
   "source": [
    "my_password = \"123456\"\n",
    "\n",
    "# also converts to `Vector{UInt8}`\n",
    "hash = sha256(my_password)\n",
    "\n",
    "crypt = encrypt(encryptor, hash)"
   ]
  },
  {
   "cell_type": "code",
   "execution_count": 97,
   "id": "fa2f8e10-e9f6-4efe-8ddc-20b33707e646",
   "metadata": {},
   "outputs": [
    {
     "data": {
      "text/plain": [
       "true"
      ]
     },
     "execution_count": 97,
     "metadata": {},
     "output_type": "execute_result"
    }
   ],
   "source": [
    "decrypt(decryptor, crypt) == sha256(\"123456\")"
   ]
  },
  {
   "cell_type": "code",
   "execution_count": 100,
   "id": "211d03be-f3af-4acb-b441-65218e4abb6a",
   "metadata": {},
   "outputs": [
    {
     "data": {
      "text/plain": [
       "read_and_decrypt (generic function with 1 method)"
      ]
     },
     "execution_count": 100,
     "metadata": {},
     "output_type": "execute_result"
    }
   ],
   "source": [
    "PATH = pwd() * \"values.txt\"\n",
    "\n",
    "if ~(isfile(PATH))\n",
    "    touch(PATH)\n",
    "end\n",
    "\n",
    "function encrypt_and_write(value::String)\n",
    "    hash = sha256(value)\n",
    "    encrypted = encrypt(encryptor, hash)\n",
    "    encoded = base64encode(encrypted)\n",
    "    open(PATH, \"a\") do o::IOStream\n",
    "        write(o, encoded)\n",
    "        write(o, \"\\n\")\n",
    "    end\n",
    "    return(true)\n",
    "end\n",
    "\n",
    "function read_and_decrypt(index::Int64)\n",
    "    val = readlines(PATH)[index]\n",
    "    decoded = base64decode(val)\n",
    "    hash = decrypt(decryptor, decoded)\n",
    "    return(hash)\n",
    "end"
   ]
  },
  {
   "cell_type": "code",
   "execution_count": 101,
   "id": "3147918d-6b6a-4206-bc82-ddad86bb67fc",
   "metadata": {},
   "outputs": [
    {
     "data": {
      "text/plain": [
       "true"
      ]
     },
     "execution_count": 101,
     "metadata": {},
     "output_type": "execute_result"
    }
   ],
   "source": [
    "encrypt_and_write(\"hello!\")"
   ]
  },
  {
   "cell_type": "code",
   "execution_count": 103,
   "id": "c7bd8bcf-59c5-4a10-bddf-edf6f5c83946",
   "metadata": {},
   "outputs": [
    {
     "data": {
      "text/plain": [
       "true"
      ]
     },
     "execution_count": 103,
     "metadata": {},
     "output_type": "execute_result"
    }
   ],
   "source": [
    "read_and_decrypt(1) == sha256(\"hello!\")"
   ]
  },
  {
   "cell_type": "code",
   "execution_count": null,
   "id": "0b4e3d45-eb7f-4941-8f58-aaa048743fb6",
   "metadata": {},
   "outputs": [],
   "source": []
  }
 ],
 "metadata": {
  "kernelspec": {
   "display_name": "Julia 1.11.6",
   "language": "julia",
   "name": "julia-1.11"
  },
  "language_info": {
   "file_extension": ".jl",
   "mimetype": "application/julia",
   "name": "julia",
   "version": "1.11.6"
  }
 },
 "nbformat": 4,
 "nbformat_minor": 5
}

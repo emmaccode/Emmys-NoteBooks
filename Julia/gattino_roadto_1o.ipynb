{
 "cells": [
  {
   "cell_type": "code",
   "execution_count": 1,
   "id": "f68306f8-d9b9-472a-88d2-b97d8076a750",
   "metadata": {},
   "outputs": [
    {
     "name": "stderr",
     "output_type": "stream",
     "text": [
      "\u001b[32m\u001b[1m   Resolving\u001b[22m\u001b[39m package versions...\n",
      "\u001b[32m\u001b[1m  No Changes\u001b[22m\u001b[39m to `~/Project.toml`\n",
      "\u001b[32m\u001b[1m  No Changes\u001b[22m\u001b[39m to `~/Manifest.toml`\n",
      "\u001b[32m\u001b[1m  Activating\u001b[22m\u001b[39m project at `~/dev/packages/gattino/Gattino.jl`\n",
      "\u001b[32m\u001b[1mPrecompiling\u001b[22m\u001b[39m project...\n",
      "\u001b[32m  ✓ \u001b[39mGattino\n",
      "  1 dependency successfully precompiled in 1 seconds. 11 already precompiled.\n"
     ]
    }
   ],
   "source": [
    "using Pkg\n",
    "Pkg.add(\"Revise\"); using Revise\n",
    "Pkg.activate(\"Gattino.jl\")\n",
    "Pkg.instantiate()"
   ]
  },
  {
   "cell_type": "code",
   "execution_count": 2,
   "id": "a266244f-748a-4647-97c5-5889888f2cf5",
   "metadata": {},
   "outputs": [],
   "source": [
    "using Gattino"
   ]
  },
  {
   "cell_type": "code",
   "execution_count": 3,
   "id": "b103d1b8-5f93-4338-89c0-403181603f0c",
   "metadata": {},
   "outputs": [
    {
     "data": {
      "text/html": [
       "\"<svg id='window' height=500 width=500><text id='kyTWuOPw' x=175 y=40 style='fill:black;font-size:15pt;'>gattino scatter plot</text><g id='title' height=500 width=500></g><g id='axes' height=375 width=375><line id='4JOmhLEU' x1=60 y1=435 x2=435 y2=435 style='fill:none;stroke:black;stroke-width:4;'></line><line id='yfpV9zaE' x1=60 y1=60 x2=60 y2=435 style='fill:none;stroke:black;stroke-width:4;'></line></g><g id='grid' height=375 width=375><line id='sQ1zzVj9' x1=61 y1=60 x2=61 y2=435 style='fill:none;stroke:lightblue;stroke-width:1;opacity:80%;'></line><line id='gUR0lcit' x1=60 y1=61 x2=435 y2=61 style='fill:none;stroke:lightblue;stroke-width:1;opacity:80%;'></line><line id='kcfzLEQa' x1=155 y1=60 x2=155 y2=435 style='fill:none;stroke:lightblue;stroke-width:1;opacity:80%;'></line><line id='MtPwbPOw' x1=60 y1=155 x2=435 y2=155 style='fill:none;stroke:lightblue;stroke-width:1;opacity:80%;'></line><line id='LyazIfQ2' x1=249 y1=60 x2=249 y2=435 style='fill:none;stroke:lightblue;stroke-width:1;opacity:80%;'></line><line id='BRJVjvRi' x1=60 y1=249 x2=435 y2=249 style='fill:none;stroke:lightblue;stroke-width:1;opacity:80%;'></line><line id='GfBVolnR' x1=343 y1=60 x2=343 y2=435 style='fill:none;stroke:lightblue;stroke-width:1;opacity:80%;'></line><line id='LAK17D3m' x1=60 y1=343 x2=435 y2=343 style='fill:none;stroke:lightblue;stroke-width:1;opacity:80%;'></line></g><g id='y' height=375 width=375><circle id='HfmyYexT' cx=60 r=5 cy=111 style='fill:#FF6633;'></circle><circle id='Tm44JX1F' cx=93 r=5 cy=364 style='fill:#FF6633;'></circle><circle id='47xjUYXE' cx=126 r=5 cy=435 style='fill:#FF6633;'></circle><circle id='nvBqlWBw' cx=434 r=5 cy=61 style='fill:#FF6633;'></circle><circle id='o0b3NDGw' cx=244 r=5 cy=355 style='fill:#FF6633;'></circle><circle id='D9u6mrr0' cx=172 r=5 cy=435 style='fill:#FF6633;'></circle></g><g id='labels' height=375 width=375><text id='okLEYORA' x=65 y=425 style='fill:black;font-size:10pt;'>5</text><text id='C7RMdL5n' x=60 y=63 style='fill:black;font-size:10pt;'>92</text><text id='W15riCPi' x=159 y=425 style='fill:black;font-size:10pt;'>19.25</text><text id='S26NGiCK' x=60 y=157 style='fill:black;font-size:10pt;'>69.75</text><text id='4DFJLEKW' x=253 y=425 style='fill:black;font-size:10pt;'>33.5</text><text id='AFy44qCj' x=60 y=251 style='fill:black;font-size:10pt;'>47.5</text><text id='zu5ZVsvs' x=347 y=425 style='fill:black;font-size:10pt;'>47.75</text><text id='yWwxJt97' x=60 y=345 style='fill:black;font-size:10pt;'>25.25</text></g><g id='axislabels' height=375 width=375><text id='ZPE4FNBO' x=248 y=405 style='stroke:darkgray;font-size:12pt;'>x</text><text id='ODHc5zvN' x=0 y=248 style='stroke:darkgray;font-size:12pt;'>y</text></g><g id='legend' ><rect id='legendbg' style='stroke:darkgray;fill:white;stroke-width:2px;' x=370 y=350 height=0 width=100></rect></g></svg>\""
      ]
     },
     "metadata": {},
     "output_type": "display_data"
    },
    {
     "data": {
      "text/html": [
       "\"<svg id='window' height=500 width=500><text id='kyTWuOPw' x=175 y=40 style='fill:black;font-size:15pt;'>gattino scatter plot</text><g id='title' height=500 width=500></g><g id='axes' height=375 width=375><line id='4JOmhLEU' x1=60 y1=435 x2=435 y2=435 style='fill:none;stroke:black;stroke-width:4;'></line><line id='yfpV9zaE' x1=60 y1=60 x2=60 y2=435 style='fill:none;stroke:black;stroke-width:4;'></line></g><g id='grid' height=375 width=375><line id='sQ1zzVj9' x1=61 y1=60 x2=61 y2=435 style='fill:none;stroke:lightblue;stroke-width:1;opacity:80%;'></line><line id='gUR0lcit' x1=60 y1=61 x2=435 y2=61 style='fill:none;stroke:lightblue;stroke-width:1;opacity:80%;'></line><line id='kcfzLEQa' x1=155 y1=60 x2=155 y2=435 style='fill:none;stroke:lightblue;stroke-width:1;opacity:80%;'></line><line id='MtPwbPOw' x1=60 y1=155 x2=435 y2=155 style='fill:none;stroke:lightblue;stroke-width:1;opacity:80%;'></line><line id='LyazIfQ2' x1=249 y1=60 x2=249 y2=435 style='fill:none;stroke:lightblue;stroke-width:1;opacity:80%;'></line><line id='BRJVjvRi' x1=60 y1=249 x2=435 y2=249 style='fill:none;stroke:lightblue;stroke-width:1;opacity:80%;'></line><line id='GfBVolnR' x1=343 y1=60 x2=343 y2=435 style='fill:none;stroke:lightblue;stroke-width:1;opacity:80%;'></line><line id='LAK17D3m' x1=60 y1=343 x2=435 y2=343 style='fill:none;stroke:lightblue;stroke-width:1;opacity:80%;'></line></g><g id='y' height=375 width=375><circle id='HfmyYexT' cx=60 r=5 cy=111 style='fill:#FF6633;'></circle><circle id='Tm44JX1F' cx=93 r=5 cy=364 style='fill:#FF6633;'></circle><circle id='47xjUYXE' cx=126 r=5 cy=435 style='fill:#FF6633;'></circle><circle id='nvBqlWBw' cx=434 r=5 cy=61 style='fill:#FF6633;'></circle><circle id='o0b3NDGw' cx=244 r=5 cy=355 style='fill:#FF6633;'></circle><circle id='D9u6mrr0' cx=172 r=5 cy=435 style='fill:#FF6633;'></circle></g><g id='labels' height=375 width=375><text id='okLEYORA' x=65 y=425 style='fill:black;font-size:10pt;'>5</text><text id='C7RMdL5n' x=60 y=63 style='fill:black;font-size:10pt;'>92</text><text id='W15riCPi' x=159 y=425 style='fill:black;font-size:10pt;'>19.25</text><text id='S26NGiCK' x=60 y=157 style='fill:black;font-size:10pt;'>69.75</text><text id='4DFJLEKW' x=253 y=425 style='fill:black;font-size:10pt;'>33.5</text><text id='AFy44qCj' x=60 y=251 style='fill:black;font-size:10pt;'>47.5</text><text id='zu5ZVsvs' x=347 y=425 style='fill:black;font-size:10pt;'>47.75</text><text id='yWwxJt97' x=60 y=345 style='fill:black;font-size:10pt;'>25.25</text></g><g id='axislabels' height=375 width=375><text id='ZPE4FNBO' x=248 y=405 style='stroke:darkgray;font-size:12pt;'>x</text><text id='ODHc5zvN' x=0 y=248 style='stroke:darkgray;font-size:12pt;'>y</text></g><g id='legend' ><rect id='legendbg' style='stroke:darkgray;fill:white;stroke-width:2px;' x=370 y=350 height=0 width=100></rect></g></svg>\""
      ],
      "text/plain": []
     },
     "execution_count": 3,
     "metadata": {},
     "output_type": "execute_result"
    }
   ],
   "source": [
    "scatter([5, 10, 15, 62, 33, 22], [80, 20, 3, 92, 22, 3], xlabel = \"x\", ylabel = \"y\", title = \"gattino scatter plot\")"
   ]
  },
  {
   "cell_type": "code",
   "execution_count": 4,
   "id": "92e8cd53-b8c2-4f26-a8e8-89304945bddc",
   "metadata": {},
   "outputs": [],
   "source": [
    "using DataFrames"
   ]
  },
  {
   "cell_type": "code",
   "execution_count": 5,
   "id": "b2840295-1691-4c9a-aedf-fdf3e5c3c745",
   "metadata": {},
   "outputs": [
    {
     "data": {
      "text/html": [
       "<div><div style = \"float: left;\"><span>7×2 DataFrame</span></div><div style = \"clear: both;\"></div></div><div class = \"data-frame\" style = \"overflow-x: scroll;\"><table class = \"data-frame\" style = \"margin-bottom: 6px;\"><thead><tr class = \"header\"><th class = \"rowNumber\" style = \"font-weight: bold; text-align: right;\">Row</th><th style = \"text-align: left;\">age</th><th style = \"text-align: left;\">pay</th></tr><tr class = \"subheader headerLastRow\"><th class = \"rowNumber\" style = \"font-weight: bold; text-align: right;\"></th><th title = \"Int64\" style = \"text-align: left;\">Int64</th><th title = \"Int64\" style = \"text-align: left;\">Int64</th></tr></thead><tbody><tr><td class = \"rowNumber\" style = \"font-weight: bold; text-align: right;\">1</td><td style = \"text-align: right;\">20</td><td style = \"text-align: right;\">22</td></tr><tr><td class = \"rowNumber\" style = \"font-weight: bold; text-align: right;\">2</td><td style = \"text-align: right;\">32</td><td style = \"text-align: right;\">13</td></tr><tr><td class = \"rowNumber\" style = \"font-weight: bold; text-align: right;\">3</td><td style = \"text-align: right;\">28</td><td style = \"text-align: right;\">8</td></tr><tr><td class = \"rowNumber\" style = \"font-weight: bold; text-align: right;\">4</td><td style = \"text-align: right;\">37</td><td style = \"text-align: right;\">8</td></tr><tr><td class = \"rowNumber\" style = \"font-weight: bold; text-align: right;\">5</td><td style = \"text-align: right;\">32</td><td style = \"text-align: right;\">46</td></tr><tr><td class = \"rowNumber\" style = \"font-weight: bold; text-align: right;\">6</td><td style = \"text-align: right;\">22</td><td style = \"text-align: right;\">22</td></tr><tr><td class = \"rowNumber\" style = \"font-weight: bold; text-align: right;\">7</td><td style = \"text-align: right;\">37</td><td style = \"text-align: right;\">33</td></tr></tbody></table></div>"
      ],
      "text/latex": [
       "\\begin{tabular}{r|cc}\n",
       "\t& age & pay\\\\\n",
       "\t\\hline\n",
       "\t& Int64 & Int64\\\\\n",
       "\t\\hline\n",
       "\t1 & 20 & 22 \\\\\n",
       "\t2 & 32 & 13 \\\\\n",
       "\t3 & 28 & 8 \\\\\n",
       "\t4 & 37 & 8 \\\\\n",
       "\t5 & 32 & 46 \\\\\n",
       "\t6 & 22 & 22 \\\\\n",
       "\t7 & 37 & 33 \\\\\n",
       "\\end{tabular}\n"
      ],
      "text/plain": [
       "\u001b[1m7×2 DataFrame\u001b[0m\n",
       "\u001b[1m Row \u001b[0m│\u001b[1m age   \u001b[0m\u001b[1m pay   \u001b[0m\n",
       "     │\u001b[90m Int64 \u001b[0m\u001b[90m Int64 \u001b[0m\n",
       "─────┼──────────────\n",
       "   1 │    20     22\n",
       "   2 │    32     13\n",
       "   3 │    28      8\n",
       "   4 │    37      8\n",
       "   5 │    32     46\n",
       "   6 │    22     22\n",
       "   7 │    37     33"
      ]
     },
     "execution_count": 5,
     "metadata": {},
     "output_type": "execute_result"
    }
   ],
   "source": [
    "df = DataFrame(:age => [20, 32, 28, 37, 32, 22, 37], :pay => [22, 13, 8, 8, 46, 22, 33])"
   ]
  },
  {
   "cell_type": "code",
   "execution_count": 6,
   "id": "c588f7d7-0bfd-4062-981c-3bb6e027aa8e",
   "metadata": {},
   "outputs": [
    {
     "data": {
      "text/html": [
       "\"<svg id='window' height=500 width=500><text id='aDI35mwR' x=175 y=40 style='fill:black;font-size:15pt;'>age vs pay</text><g id='title' height=500 width=500></g><g id='axes' height=375 width=375><line id='nsBOoYXQ' x1=60 y1=435 x2=435 y2=435 style='fill:none;stroke:black;stroke-width:4;'></line><line id='pEOYJhvM' x1=60 y1=60 x2=60 y2=435 style='fill:none;stroke:black;stroke-width:4;'></line></g><g id='grid' height=375 width=375><line id='rjYFrI2Z' x1=61 y1=60 x2=61 y2=435 style='fill:none;stroke:lightblue;stroke-width:1;opacity:80%;'></line><line id='TbVxTfaN' x1=60 y1=61 x2=435 y2=61 style='fill:none;stroke:lightblue;stroke-width:1;opacity:80%;'></line><line id='CslqjuqA' x1=155 y1=60 x2=155 y2=435 style='fill:none;stroke:lightblue;stroke-width:1;opacity:80%;'></line><line id='iOLStWf1' x1=60 y1=155 x2=435 y2=155 style='fill:none;stroke:lightblue;stroke-width:1;opacity:80%;'></line><line id='U8WCrKlD' x1=249 y1=60 x2=249 y2=435 style='fill:none;stroke:lightblue;stroke-width:1;opacity:80%;'></line><line id='KteH8veA' x1=60 y1=249 x2=435 y2=249 style='fill:none;stroke:lightblue;stroke-width:1;opacity:80%;'></line><line id='ULsMkXTn' x1=343 y1=60 x2=343 y2=435 style='fill:none;stroke:lightblue;stroke-width:1;opacity:80%;'></line><line id='2BkAnFRq' x1=60 y1=343 x2=435 y2=343 style='fill:none;stroke:lightblue;stroke-width:1;opacity:80%;'></line></g><g id='pay' height=375 width=375><circle id='OB9V9AXj' cx=60 r=5 cy=297 style='fill:#CCCC00;'></circle><circle id='rV4jZR92' cx=324 r=5 cy=386 style='fill:#CCCC00;'></circle><circle id='3mkPjiUL' cx=236 r=5 cy=435 style='fill:#CCCC00;'></circle><circle id='K1rZZDs3' cx=434 r=5 cy=435 style='fill:#CCCC00;'></circle><circle id='rGAYTqaj' cx=324 r=5 cy=61 style='fill:#CCCC00;'></circle><circle id='NwB2RWLb' cx=104 r=5 cy=297 style='fill:#CCCC00;'></circle><circle id='5U7ICvmU' cx=434 r=5 cy=189 style='fill:#CCCC00;'></circle></g><g id='labels' height=375 width=375><text id='HzigMouL' x=80 y=425 style='fill:black;font-size:10pt;'>20</text><text id='uDAz8GuP' x=60 y=68 style='fill:black;font-size:10pt;'>46</text><text id='dPgkHl2h' x=174 y=425 style='fill:black;font-size:10pt;'>24.25</text><text id='7zcNKul2' x=60 y=162 style='fill:black;font-size:10pt;'>36.5</text><text id='QR2cFEIV' x=268 y=425 style='fill:black;font-size:10pt;'>28.5</text><text id='aCBQkr8a' x=60 y=256 style='fill:black;font-size:10pt;'>27.0</text><text id='Krl59iKp' x=362 y=425 style='fill:black;font-size:10pt;'>32.75</text><text id='RC7ZgUm0' x=60 y=350 style='fill:black;font-size:10pt;'>17.5</text></g><g id='axislabels' height=375 width=375><text id='dCb3qS0v' x=248 y=405 style='stroke:darkgray;font-size:12pt;'>age</text><text id='sumOiHic' x=0 y=248 style='stroke:darkgray;font-size:12pt;'>pay</text></g><g id='legend' ><rect id='legendbg' style='stroke:darkgray;fill:white;stroke-width:2px;' x=370 y=350 height=0 width=100></rect></g></svg>\""
      ]
     },
     "metadata": {},
     "output_type": "display_data"
    },
    {
     "data": {
      "text/html": [
       "\"<svg id='window' height=500 width=500><text id='aDI35mwR' x=175 y=40 style='fill:black;font-size:15pt;'>age vs pay</text><g id='title' height=500 width=500></g><g id='axes' height=375 width=375><line id='nsBOoYXQ' x1=60 y1=435 x2=435 y2=435 style='fill:none;stroke:black;stroke-width:4;'></line><line id='pEOYJhvM' x1=60 y1=60 x2=60 y2=435 style='fill:none;stroke:black;stroke-width:4;'></line></g><g id='grid' height=375 width=375><line id='rjYFrI2Z' x1=61 y1=60 x2=61 y2=435 style='fill:none;stroke:lightblue;stroke-width:1;opacity:80%;'></line><line id='TbVxTfaN' x1=60 y1=61 x2=435 y2=61 style='fill:none;stroke:lightblue;stroke-width:1;opacity:80%;'></line><line id='CslqjuqA' x1=155 y1=60 x2=155 y2=435 style='fill:none;stroke:lightblue;stroke-width:1;opacity:80%;'></line><line id='iOLStWf1' x1=60 y1=155 x2=435 y2=155 style='fill:none;stroke:lightblue;stroke-width:1;opacity:80%;'></line><line id='U8WCrKlD' x1=249 y1=60 x2=249 y2=435 style='fill:none;stroke:lightblue;stroke-width:1;opacity:80%;'></line><line id='KteH8veA' x1=60 y1=249 x2=435 y2=249 style='fill:none;stroke:lightblue;stroke-width:1;opacity:80%;'></line><line id='ULsMkXTn' x1=343 y1=60 x2=343 y2=435 style='fill:none;stroke:lightblue;stroke-width:1;opacity:80%;'></line><line id='2BkAnFRq' x1=60 y1=343 x2=435 y2=343 style='fill:none;stroke:lightblue;stroke-width:1;opacity:80%;'></line></g><g id='pay' height=375 width=375><circle id='OB9V9AXj' cx=60 r=5 cy=297 style='fill:#CCCC00;'></circle><circle id='rV4jZR92' cx=324 r=5 cy=386 style='fill:#CCCC00;'></circle><circle id='3mkPjiUL' cx=236 r=5 cy=435 style='fill:#CCCC00;'></circle><circle id='K1rZZDs3' cx=434 r=5 cy=435 style='fill:#CCCC00;'></circle><circle id='rGAYTqaj' cx=324 r=5 cy=61 style='fill:#CCCC00;'></circle><circle id='NwB2RWLb' cx=104 r=5 cy=297 style='fill:#CCCC00;'></circle><circle id='5U7ICvmU' cx=434 r=5 cy=189 style='fill:#CCCC00;'></circle></g><g id='labels' height=375 width=375><text id='HzigMouL' x=80 y=425 style='fill:black;font-size:10pt;'>20</text><text id='uDAz8GuP' x=60 y=68 style='fill:black;font-size:10pt;'>46</text><text id='dPgkHl2h' x=174 y=425 style='fill:black;font-size:10pt;'>24.25</text><text id='7zcNKul2' x=60 y=162 style='fill:black;font-size:10pt;'>36.5</text><text id='QR2cFEIV' x=268 y=425 style='fill:black;font-size:10pt;'>28.5</text><text id='aCBQkr8a' x=60 y=256 style='fill:black;font-size:10pt;'>27.0</text><text id='Krl59iKp' x=362 y=425 style='fill:black;font-size:10pt;'>32.75</text><text id='RC7ZgUm0' x=60 y=350 style='fill:black;font-size:10pt;'>17.5</text></g><g id='axislabels' height=375 width=375><text id='dCb3qS0v' x=248 y=405 style='stroke:darkgray;font-size:12pt;'>age</text><text id='sumOiHic' x=0 y=248 style='stroke:darkgray;font-size:12pt;'>pay</text></g><g id='legend' ><rect id='legendbg' style='stroke:darkgray;fill:white;stroke-width:2px;' x=370 y=350 height=0 width=100></rect></g></svg>\""
      ],
      "text/plain": []
     },
     "execution_count": 6,
     "metadata": {},
     "output_type": "execute_result"
    }
   ],
   "source": [
    "con = scatter(df, \"age\", \"pay\", xlabel = \"age\", ylabel = \"pay\", title = \"age vs pay\")"
   ]
  },
  {
   "cell_type": "code",
   "execution_count": 7,
   "id": "5c0eacb7-bb04-4466-bcd7-246d2b469e40",
   "metadata": {},
   "outputs": [
    {
     "data": {
      "text/plain": [
       "9-element Vector{ToolipsServables.Servable}:\n",
       " ToolipsServables.Component{:text}(\"aDI35mwR\", Dict{Symbol, Any}(:extras => ToolipsServables.AbstractComponent[], :style => \"fill:black;font-size:15pt;\", :children => ToolipsServables.AbstractComponent[], :y => 40, :text => \"age vs pay\", :x => 175), \"text\")\n",
       " ToolipsServables.Component{:g}(\"title\", Dict{Symbol, Any}(:extras => ToolipsServables.AbstractComponent[], :children => ToolipsServables.AbstractComponent[], :height => 500, :text => \"\", :width => 500), \"g\")\n",
       " ToolipsServables.Component{:g}(\"axes\", Dict{Symbol, Any}(:extras => ToolipsServables.AbstractComponent[], :children => ToolipsServables.AbstractComponent[ToolipsServables.Component{:line}(\"nsBOoYXQ\", Dict{Symbol, Any}(:extras => ToolipsServables.AbstractComponent[], :style => \"fill:none;stroke:black;stroke-width:4;\", :children => ToolipsServables.AbstractComponent[], :y1 => 435, :x2 => 435, :text => \"\", :y2 => 435, :x1 => 60), \"line\"), ToolipsServables.Component{:line}(\"pEOYJhvM\", Dict{Symbol, Any}(:extras => ToolipsServables.AbstractComponent[], :style => \"fill:none;stroke:black;stroke-width:4;\", :children => ToolipsServables.AbstractComponent[], :y1 => 60, :x2 => 60, :text => \"\", :y2 => 435, :x1 => 60), \"line\")], :height => 375, :text => \"\", :width => 375), \"g\")\n",
       " ToolipsServables.Component{:g}(\"grid\", Dict{Symbol, Any}(:extras => ToolipsServables.AbstractComponent[], :children => ToolipsServables.AbstractComponent[ToolipsServables.Component{:line}(\"rjYFrI2Z\", Dict{Symbol, Any}(:extras => ToolipsServables.AbstractComponent[], :style => \"fill:none;stroke:lightblue;stroke-width:1;opacity:80%;\", :children => ToolipsServables.AbstractComponent[], :y1 => 60, :x2 => 61, :text => \"\", :y2 => 435, :x1 => 61), \"line\"), ToolipsServables.Component{:line}(\"TbVxTfaN\", Dict{Symbol, Any}(:extras => ToolipsServables.AbstractComponent[], :style => \"fill:none;stroke:lightblue;stroke-width:1;opacity:80%;\", :children => ToolipsServables.AbstractComponent[], :y1 => 61, :x2 => 435, :text => \"\", :y2 => 61, :x1 => 60), \"line\"), ToolipsServables.Component{:line}(\"CslqjuqA\", Dict{Symbol, Any}(:extras => ToolipsServables.AbstractComponent[], :style => \"fill:none;stroke:lightblue;stroke-width:1;opacity:80%;\", :children => ToolipsServables.AbstractComponent[], :y1 => 60, :x2 => 155, :text => \"\", :y2 => 435, :x1 => 155), \"line\"), ToolipsServables.Component{:line}(\"iOLStWf1\", Dict{Symbol, Any}(:extras => ToolipsServables.AbstractComponent[], :style => \"fill:none;stroke:lightblue;stroke-width:1;opacity:80%;\", :children => ToolipsServables.AbstractComponent[], :y1 => 155, :x2 => 435, :text => \"\", :y2 => 155, :x1 => 60), \"line\"), ToolipsServables.Component{:line}(\"U8WCrKlD\", Dict{Symbol, Any}(:extras => ToolipsServables.AbstractComponent[], :style => \"fill:none;stroke:lightblue;stroke-width:1;opacity:80%;\", :children => ToolipsServables.AbstractComponent[], :y1 => 60, :x2 => 249, :text => \"\", :y2 => 435, :x1 => 249), \"line\"), ToolipsServables.Component{:line}(\"KteH8veA\", Dict{Symbol, Any}(:extras => ToolipsServables.AbstractComponent[], :style => \"fill:none;stroke:lightblue;stroke-width:1;opacity:80%;\", :children => ToolipsServables.AbstractComponent[], :y1 => 249, :x2 => 435, :text => \"\", :y2 => 249, :x1 => 60), \"line\"), ToolipsServables.Component{:line}(\"ULsMkXTn\", Dict{Symbol, Any}(:extras => ToolipsServables.AbstractComponent[], :style => \"fill:none;stroke:lightblue;stroke-width:1;opacity:80%;\", :children => ToolipsServables.AbstractComponent[], :y1 => 60, :x2 => 343, :text => \"\", :y2 => 435, :x1 => 343), \"line\"), ToolipsServables.Component{:line}(\"2BkAnFRq\", Dict{Symbol, Any}(:extras => ToolipsServables.AbstractComponent[], :style => \"fill:none;stroke:lightblue;stroke-width:1;opacity:80%;\", :children => ToolipsServables.AbstractComponent[], :y1 => 343, :x2 => 435, :text => \"\", :y2 => 343, :x1 => 60), \"line\")], :height => 375, :text => \"\", :width => 375), \"g\")\n",
       " ToolipsServables.Component{:g}(\"pay\", Dict{Symbol, Any}(:extras => ToolipsServables.AbstractComponent[], :children => ToolipsServables.Servable[ToolipsServables.Component{:circle}(\"pay-preview\", Dict{Symbol, Any}(:extras => ToolipsServables.AbstractComponent[], :children => ToolipsServables.AbstractComponent[], :cx => 382, :text => \"\", :r => 5, :cy => 362, :style => \"fill:#CCCC00;\"), \"circle\"), ToolipsServables.Component{:circle}(\"rV4jZR92\", Dict{Symbol, Any}(:extras => ToolipsServables.AbstractComponent[], :children => ToolipsServables.AbstractComponent[], :cx => 324, :text => \"\", :r => 5, :cy => 386, :style => \"fill:#CCCC00;\"), \"circle\"), ToolipsServables.Component{:circle}(\"3mkPjiUL\", Dict{Symbol, Any}(:extras => ToolipsServables.AbstractComponent[], :children => ToolipsServables.AbstractComponent[], :cx => 236, :text => \"\", :r => 5, :cy => 435, :style => \"fill:#CCCC00;\"), \"circle\"), ToolipsServables.Component{:circle}(\"K1rZZDs3\", Dict{Symbol, Any}(:extras => ToolipsServables.AbstractComponent[], :children => ToolipsServables.AbstractComponent[], :cx => 434, :text => \"\", :r => 5, :cy => 435, :style => \"fill:#CCCC00;\"), \"circle\"), ToolipsServables.Component{:circle}(\"rGAYTqaj\", Dict{Symbol, Any}(:extras => ToolipsServables.AbstractComponent[], :children => ToolipsServables.AbstractComponent[], :cx => 324, :text => \"\", :r => 5, :cy => 61, :style => \"fill:#CCCC00;\"), \"circle\"), ToolipsServables.Component{:circle}(\"NwB2RWLb\", Dict{Symbol, Any}(:extras => ToolipsServables.AbstractComponent[], :children => ToolipsServables.AbstractComponent[], :cx => 104, :text => \"\", :r => 5, :cy => 297, :style => \"fill:#CCCC00;\"), \"circle\"), ToolipsServables.Component{:circle}(\"5U7ICvmU\", Dict{Symbol, Any}(:extras => ToolipsServables.AbstractComponent[], :children => ToolipsServables.AbstractComponent[], :cx => 434, :text => \"\", :r => 5, :cy => 189, :style => \"fill:#CCCC00;\"), \"circle\")], :height => 375, :text => \"\", :width => 375), \"g\")\n",
       " ToolipsServables.Component{:g}(\"labels\", Dict{Symbol, Any}(:extras => ToolipsServables.AbstractComponent[], :children => ToolipsServables.AbstractComponent[ToolipsServables.Component{:text}(\"HzigMouL\", Dict{Symbol, Any}(:extras => ToolipsServables.AbstractComponent[], :style => \"fill:black;font-size:10pt;\", :children => ToolipsServables.AbstractComponent[], :y => 425, :text => \"20\", :x => 80), \"text\"), ToolipsServables.Component{:text}(\"uDAz8GuP\", Dict{Symbol, Any}(:extras => ToolipsServables.AbstractComponent[], :style => \"fill:black;font-size:10pt;\", :children => ToolipsServables.AbstractComponent[], :y => 68, :text => \"46\", :x => 60), \"text\"), ToolipsServables.Component{:text}(\"dPgkHl2h\", Dict{Symbol, Any}(:extras => ToolipsServables.AbstractComponent[], :style => \"fill:black;font-size:10pt;\", :children => ToolipsServables.AbstractComponent[], :y => 425, :text => \"24.25\", :x => 174), \"text\"), ToolipsServables.Component{:text}(\"7zcNKul2\", Dict{Symbol, Any}(:extras => ToolipsServables.AbstractComponent[], :style => \"fill:black;font-size:10pt;\", :children => ToolipsServables.AbstractComponent[], :y => 162, :text => \"36.5\", :x => 60), \"text\"), ToolipsServables.Component{:text}(\"QR2cFEIV\", Dict{Symbol, Any}(:extras => ToolipsServables.AbstractComponent[], :style => \"fill:black;font-size:10pt;\", :children => ToolipsServables.AbstractComponent[], :y => 425, :text => \"28.5\", :x => 268), \"text\"), ToolipsServables.Component{:text}(\"aCBQkr8a\", Dict{Symbol, Any}(:extras => ToolipsServables.AbstractComponent[], :style => \"fill:black;font-size:10pt;\", :children => ToolipsServables.AbstractComponent[], :y => 256, :text => \"27.0\", :x => 60), \"text\"), ToolipsServables.Component{:text}(\"Krl59iKp\", Dict{Symbol, Any}(:extras => ToolipsServables.AbstractComponent[], :style => \"fill:black;font-size:10pt;\", :children => ToolipsServables.AbstractComponent[], :y => 425, :text => \"32.75\", :x => 362), \"text\"), ToolipsServables.Component{:text}(\"RC7ZgUm0\", Dict{Symbol, Any}(:extras => ToolipsServables.AbstractComponent[], :style => \"fill:black;font-size:10pt;\", :children => ToolipsServables.AbstractComponent[], :y => 350, :text => \"17.5\", :x => 60), \"text\")], :height => 375, :text => \"\", :width => 375), \"g\")\n",
       " ToolipsServables.Component{:g}(\"axislabels\", Dict{Symbol, Any}(:extras => ToolipsServables.AbstractComponent[], :children => ToolipsServables.AbstractComponent[ToolipsServables.Component{:text}(\"dCb3qS0v\", Dict{Symbol, Any}(:extras => ToolipsServables.AbstractComponent[], :style => \"stroke:darkgray;font-size:12pt;\", :children => ToolipsServables.AbstractComponent[], :y => 405, :text => \"age\", :x => 248), \"text\"), ToolipsServables.Component{:text}(\"sumOiHic\", Dict{Symbol, Any}(:extras => ToolipsServables.AbstractComponent[], :style => \"stroke:darkgray;font-size:12pt;\", :children => ToolipsServables.AbstractComponent[], :y => 248, :text => \"pay\", :x => 0), \"text\")], :height => 375, :text => \"\", :width => 375), \"g\")\n",
       " ToolipsServables.Component{:g}(\"legend\", Dict{Symbol, Any}(:extras => ToolipsServables.AbstractComponent[], :children => ToolipsServables.AbstractComponent[ToolipsServables.Component{:rect}(\"legendbg\", Dict{Symbol, Any}(:width => 100, :extras => ToolipsServables.AbstractComponent[], :style => \"stroke:darkgray;fill:white;stroke-width:2px;\", :children => ToolipsServables.AbstractComponent[], :y => 350, :height => 0, :text => \"\", :x => 370), \"rect\")], :text => \"\"), \"g\")\n",
       " ToolipsServables.Component{:g}(\"legend\", Dict{Symbol, Any}(:extras => ToolipsServables.AbstractComponent[], :children => ToolipsServables.AbstractComponent[ToolipsServables.Component{:rect}(\"legendbg\", Dict{Symbol, Any}(:width => 100, :extras => ToolipsServables.AbstractComponent[], :style => \"stroke:darkgray;fill:white;stroke-width:2px;\", :children => ToolipsServables.AbstractComponent[], :y => 350, :height => 20, :text => \"\", :x => 370), \"rect\"), ToolipsServables.Component{:circle}(\"pay-preview\", Dict{Symbol, Any}(:extras => ToolipsServables.AbstractComponent[], :children => ToolipsServables.AbstractComponent[], :cx => 382, :text => \"\", :r => 5, :cy => 362, :style => \"fill:#CCCC00;\"), \"circle\"), ToolipsServables.Component{:text}(\"pay-label\", Dict{Symbol, Any}(:extras => ToolipsServables.AbstractComponent[], :style => \"stroke:darkgray;font-size:9pt;\", :children => ToolipsServables.AbstractComponent[], :y => 363.8, :text => \"pay\", :x => 394), \"text\")], :text => \"\"), \"g\")"
      ]
     },
     "execution_count": 7,
     "metadata": {},
     "output_type": "execute_result"
    }
   ],
   "source": [
    "Gattino.legend!(con, [\"pay\"])"
   ]
  },
  {
   "cell_type": "code",
   "execution_count": 8,
   "id": "f1c0c51c-0fdd-4818-a92a-048d063d8202",
   "metadata": {},
   "outputs": [
    {
     "data": {
      "text/html": [
       "\"<svg id='window' height=500 width=500><text id='aDI35mwR' x=175 y=40 style='fill:black;font-size:15pt;'>age vs pay</text><g id='title' height=500 width=500></g><g id='axes' height=375 width=375><line id='nsBOoYXQ' x1=60 y1=435 x2=435 y2=435 style='fill:none;stroke:black;stroke-width:4;'></line><line id='pEOYJhvM' x1=60 y1=60 x2=60 y2=435 style='fill:none;stroke:black;stroke-width:4;'></line></g><g id='grid' height=375 width=375><line id='rjYFrI2Z' x1=61 y1=60 x2=61 y2=435 style='fill:none;stroke:lightblue;stroke-width:1;opacity:80%;'></line><line id='TbVxTfaN' x1=60 y1=61 x2=435 y2=61 style='fill:none;stroke:lightblue;stroke-width:1;opacity:80%;'></line><line id='CslqjuqA' x1=155 y1=60 x2=155 y2=435 style='fill:none;stroke:lightblue;stroke-width:1;opacity:80%;'></line><line id='iOLStWf1' x1=60 y1=155 x2=435 y2=155 style='fill:none;stroke:lightblue;stroke-width:1;opacity:80%;'></line><line id='U8WCrKlD' x1=249 y1=60 x2=249 y2=435 style='fill:none;stroke:lightblue;stroke-width:1;opacity:80%;'></line><line id='KteH8veA' x1=60 y1=249 x2=435 y2=249 style='fill:none;stroke:lightblue;stroke-width:1;opacity:80%;'></line><line id='ULsMkXTn' x1=343 y1=60 x2=343 y2=435 style='fill:none;stroke:lightblue;stroke-width:1;opacity:80%;'></line><line id='2BkAnFRq' x1=60 y1=343 x2=435 y2=343 style='fill:none;stroke:lightblue;stroke-width:1;opacity:80%;'></line></g><g id='pay' height=375 width=375><circle id='pay-preview' cx=382 r=5 cy=362 style='fill:#CCCC00;'></circle><circle id='rV4jZR92' cx=324 r=5 cy=386 style='fill:#CCCC00;'></circle><circle id='3mkPjiUL' cx=236 r=5 cy=435 style='fill:#CCCC00;'></circle><circle id='K1rZZDs3' cx=434 r=5 cy=435 style='fill:#CCCC00;'></circle><circle id='rGAYTqaj' cx=324 r=5 cy=61 style='fill:#CCCC00;'></circle><circle id='NwB2RWLb' cx=104 r=5 cy=297 style='fill:#CCCC00;'></circle><circle id='5U7ICvmU' cx=434 r=5 cy=189 style='fill:#CCCC00;'></circle></g><g id='labels' height=375 width=375><text id='HzigMouL' x=80 y=425 style='fill:black;font-size:10pt;'>20</text><text id='uDAz8GuP' x=60 y=68 style='fill:black;font-size:10pt;'>46</text><text id='dPgkHl2h' x=174 y=425 style='fill:black;font-size:10pt;'>24.25</text><text id='7zcNKul2' x=60 y=162 style='fill:black;font-size:10pt;'>36.5</text><text id='QR2cFEIV' x=268 y=425 style='fill:black;font-size:10pt;'>28.5</text><text id='aCBQkr8a' x=60 y=256 style='fill:black;font-size:10pt;'>27.0</text><text id='Krl59iKp' x=362 y=425 style='fill:black;font-size:10pt;'>32.75</text><text id='RC7ZgUm0' x=60 y=350 style='fill:black;font-size:10pt;'>17.5</text></g><g id='axislabels' height=375 width=375><text id='dCb3qS0v' x=248 y=405 style='stroke:darkgray;font-size:12pt;'>age</text><text id='sumOiHic' x=0 y=248 style='stroke:darkgray;font-size:12pt;'>pay</text></g><g id='legend' ><rect id='legendbg' style='stroke:darkgray;fill:white;stroke-width:2px;' x=370 y=350 height=0 width=100></rect></g><g id='legend' ><rect id='legendbg' style='stroke:darkgray;fill:white;stroke-width:2px;' x=370 y=350 height=20 width=100></rect><circle id='pay-preview' cx=382 r=5 cy=362 style='fill:#CCCC00;'></circle><text id='pay-label' x=394 y=363.8 style='stroke:darkgray;font-size:9pt;'>pay</text></g></svg>\""
      ]
     },
     "metadata": {},
     "output_type": "display_data"
    },
    {
     "data": {
      "text/html": [
       "\"<svg id='window' height=500 width=500><text id='aDI35mwR' x=175 y=40 style='fill:black;font-size:15pt;'>age vs pay</text><g id='title' height=500 width=500></g><g id='axes' height=375 width=375><line id='nsBOoYXQ' x1=60 y1=435 x2=435 y2=435 style='fill:none;stroke:black;stroke-width:4;'></line><line id='pEOYJhvM' x1=60 y1=60 x2=60 y2=435 style='fill:none;stroke:black;stroke-width:4;'></line></g><g id='grid' height=375 width=375><line id='rjYFrI2Z' x1=61 y1=60 x2=61 y2=435 style='fill:none;stroke:lightblue;stroke-width:1;opacity:80%;'></line><line id='TbVxTfaN' x1=60 y1=61 x2=435 y2=61 style='fill:none;stroke:lightblue;stroke-width:1;opacity:80%;'></line><line id='CslqjuqA' x1=155 y1=60 x2=155 y2=435 style='fill:none;stroke:lightblue;stroke-width:1;opacity:80%;'></line><line id='iOLStWf1' x1=60 y1=155 x2=435 y2=155 style='fill:none;stroke:lightblue;stroke-width:1;opacity:80%;'></line><line id='U8WCrKlD' x1=249 y1=60 x2=249 y2=435 style='fill:none;stroke:lightblue;stroke-width:1;opacity:80%;'></line><line id='KteH8veA' x1=60 y1=249 x2=435 y2=249 style='fill:none;stroke:lightblue;stroke-width:1;opacity:80%;'></line><line id='ULsMkXTn' x1=343 y1=60 x2=343 y2=435 style='fill:none;stroke:lightblue;stroke-width:1;opacity:80%;'></line><line id='2BkAnFRq' x1=60 y1=343 x2=435 y2=343 style='fill:none;stroke:lightblue;stroke-width:1;opacity:80%;'></line></g><g id='pay' height=375 width=375><circle id='pay-preview' cx=382 r=5 cy=362 style='fill:#CCCC00;'></circle><circle id='rV4jZR92' cx=324 r=5 cy=386 style='fill:#CCCC00;'></circle><circle id='3mkPjiUL' cx=236 r=5 cy=435 style='fill:#CCCC00;'></circle><circle id='K1rZZDs3' cx=434 r=5 cy=435 style='fill:#CCCC00;'></circle><circle id='rGAYTqaj' cx=324 r=5 cy=61 style='fill:#CCCC00;'></circle><circle id='NwB2RWLb' cx=104 r=5 cy=297 style='fill:#CCCC00;'></circle><circle id='5U7ICvmU' cx=434 r=5 cy=189 style='fill:#CCCC00;'></circle></g><g id='labels' height=375 width=375><text id='HzigMouL' x=80 y=425 style='fill:black;font-size:10pt;'>20</text><text id='uDAz8GuP' x=60 y=68 style='fill:black;font-size:10pt;'>46</text><text id='dPgkHl2h' x=174 y=425 style='fill:black;font-size:10pt;'>24.25</text><text id='7zcNKul2' x=60 y=162 style='fill:black;font-size:10pt;'>36.5</text><text id='QR2cFEIV' x=268 y=425 style='fill:black;font-size:10pt;'>28.5</text><text id='aCBQkr8a' x=60 y=256 style='fill:black;font-size:10pt;'>27.0</text><text id='Krl59iKp' x=362 y=425 style='fill:black;font-size:10pt;'>32.75</text><text id='RC7ZgUm0' x=60 y=350 style='fill:black;font-size:10pt;'>17.5</text></g><g id='axislabels' height=375 width=375><text id='dCb3qS0v' x=248 y=405 style='stroke:darkgray;font-size:12pt;'>age</text><text id='sumOiHic' x=0 y=248 style='stroke:darkgray;font-size:12pt;'>pay</text></g><g id='legend' ><rect id='legendbg' style='stroke:darkgray;fill:white;stroke-width:2px;' x=370 y=350 height=0 width=100></rect></g><g id='legend' ><rect id='legendbg' style='stroke:darkgray;fill:white;stroke-width:2px;' x=370 y=350 height=20 width=100></rect><circle id='pay-preview' cx=382 r=5 cy=362 style='fill:#CCCC00;'></circle><text id='pay-label' x=394 y=363.8 style='stroke:darkgray;font-size:9pt;'>pay</text></g></svg>\""
      ],
      "text/plain": []
     },
     "execution_count": 8,
     "metadata": {},
     "output_type": "execute_result"
    }
   ],
   "source": [
    "con"
   ]
  },
  {
   "cell_type": "code",
   "execution_count": 9,
   "id": "c83e25fe-6261-47ef-8bc9-61dc13b22ad6",
   "metadata": {},
   "outputs": [
    {
     "data": {
      "text/plain": [
       "9-element Vector{Pair{Int64, String}}:\n",
       " 1 => \"aDI35mwR\"\n",
       " 2 => \"title\"\n",
       " 3 => \"axes\"\n",
       " 4 => \"grid\"\n",
       " 5 => \"pay\"\n",
       " 6 => \"labels\"\n",
       " 7 => \"axislabels\"\n",
       " 8 => \"legend\"\n",
       " 9 => \"legend\""
      ]
     },
     "execution_count": 9,
     "metadata": {},
     "output_type": "execute_result"
    }
   ],
   "source": [
    "layers(con)"
   ]
  },
  {
   "cell_type": "code",
   "execution_count": 10,
   "id": "0ec05f8b-a45f-49df-b778-556d0463148a",
   "metadata": {},
   "outputs": [],
   "source": [
    "style!(con.window, \"background-color\" => \"#37002\")\n",
    "style!(con, \"grid\", \"stroke\" => \"white\", \"stroke-width\" => 2px)\n",
    "style!(con, \"labels\", \"fill\" => \"pink\")\n",
    "style!(con, \"axes\", \"stroke\" => \"gray\")"
   ]
  },
  {
   "cell_type": "code",
   "execution_count": 11,
   "id": "52958d3f-00a4-4c8e-9cfc-c68e90aa4eca",
   "metadata": {},
   "outputs": [
    {
     "data": {
      "text/html": [
       "\"<svg id='window' width=500 height=500 style='background-color:#37002;'><text id='aDI35mwR' x=175 y=40 style='fill:black;font-size:15pt;'>age vs pay</text><g id='title' height=500 width=500></g><g id='axes' height=375 width=375><line id='nsBOoYXQ' x1=60 y1=435 x2=435 y2=435 style='fill:none;stroke:black;stroke-width:4;stroke:gray;'></line><line id='pEOYJhvM' x1=60 y1=60 x2=60 y2=435 style='fill:none;stroke:black;stroke-width:4;stroke:gray;'></line></g><g id='grid' height=375 width=375><line id='rjYFrI2Z' x1=61 y1=60 x2=61 y2=435 style='fill:none;stroke:lightblue;stroke-width:1;opacity:80%;stroke:white;stroke-width:2px;'></line><line id='TbVxTfaN' x1=60 y1=61 x2=435 y2=61 style='fill:none;stroke:lightblue;stroke-width:1;opacity:80%;stroke:white;stroke-width:2px;'></line><line id='CslqjuqA' x1=155 y1=60 x2=155 y2=435 style='fill:none;stroke:lightblue;stroke-width:1;opacity:80%;stroke:white;stroke-width:2px;'></line><line id='iOLStWf1' x1=60 y1=155 x2=435 y2=155 style='fill:none;stroke:lightblue;stroke-width:1;opacity:80%;stroke:white;stroke-width:2px;'></line><line id='U8WCrKlD' x1=249 y1=60 x2=249 y2=435 style='fill:none;stroke:lightblue;stroke-width:1;opacity:80%;stroke:white;stroke-width:2px;'></line><line id='KteH8veA' x1=60 y1=249 x2=435 y2=249 style='fill:none;stroke:lightblue;stroke-width:1;opacity:80%;stroke:white;stroke-width:2px;'></line><line id='ULsMkXTn' x1=343 y1=60 x2=343 y2=435 style='fill:none;stroke:lightblue;stroke-width:1;opacity:80%;stroke:white;stroke-width:2px;'></line><line id='2BkAnFRq' x1=60 y1=343 x2=435 y2=343 style='fill:none;stroke:lightblue;stroke-width:1;opacity:80%;stroke:white;stroke-width:2px;'></line></g><g id='pay' height=375 width=375><circle id='pay-preview' cx=382 r=5 cy=362 style='fill:#CCCC00;'></circle><circle id='rV4jZR92' cx=324 r=5 cy=386 style='fill:#CCCC00;'></circle><circle id='3mkPjiUL' cx=236 r=5 cy=435 style='fill:#CCCC00;'></circle><circle id='K1rZZDs3' cx=434 r=5 cy=435 style='fill:#CCCC00;'></circle><circle id='rGAYTqaj' cx=324 r=5 cy=61 style='fill:#CCCC00;'></circle><circle id='NwB2RWLb' cx=104 r=5 cy=297 style='fill:#CCCC00;'></circle><circle id='5U7ICvmU' cx=434 r=5 cy=189 style='fill:#CCCC00;'></circle></g><g id='labels' height=375 width=375><text id='HzigMouL' x=80 y=425 style='fill:black;font-size:10pt;fill:pink;'>20</text><text id='uDAz8GuP' x=60 y=68 style='fill:black;font-size:10pt;fill:pink;'>46</text><text id='dPgkHl2h' x=174 y=425 style='fill:black;font-size:10pt;fill:pink;'>24.25</text><text id='7zcNKul2' x=60 y=162 style='fill:black;font-size:10pt;fill:pink;'>36.5</text><text id='QR2cFEIV' x=268 y=425 style='fill:black;font-size:10pt;fill:pink;'>28.5</text><text id='aCBQkr8a' x=60 y=256 style='fill:black;font-size:10pt;fill:pink;'>27.0</text><text id='Krl59iKp' x=362 y=425 style='fill:black;font-size:10pt;fill:pink;'>32.75</text><text id='RC7ZgUm0' x=60 y=350 style='fill:black;font-size:10pt;fill:pink;'>17.5</text></g><g id='axislabels' height=375 width=375><text id='dCb3qS0v' x=248 y=405 style='stroke:darkgray;font-size:12pt;'>age</text><text id='sumOiHic' x=0 y=248 style='stroke:darkgray;font-size:12pt;'>pay</text></g><g id='legend' ><rect id='legendbg' style='stroke:darkgray;fill:white;stroke-width:2px;' x=370 y=350 height=0 width=100></rect></g><g id='legend' ><rect id='legendbg' style='stroke:darkgray;fill:white;stroke-width:2px;' x=370 y=350 height=20 width=100></rect><circle id='pay-preview' cx=382 r=5 cy=362 style='fill:#CCCC00;'></circle><text id='pay-label' x=394 y=363.8 style='stroke:darkgray;font-size:9pt;'>pay</text></g></svg>\""
      ]
     },
     "metadata": {},
     "output_type": "display_data"
    },
    {
     "data": {
      "text/html": [
       "\"<svg id='window' width=500 height=500 style='background-color:#37002;'><text id='aDI35mwR' x=175 y=40 style='fill:black;font-size:15pt;'>age vs pay</text><g id='title' height=500 width=500></g><g id='axes' height=375 width=375><line id='nsBOoYXQ' x1=60 y1=435 x2=435 y2=435 style='fill:none;stroke:black;stroke-width:4;stroke:gray;'></line><line id='pEOYJhvM' x1=60 y1=60 x2=60 y2=435 style='fill:none;stroke:black;stroke-width:4;stroke:gray;'></line></g><g id='grid' height=375 width=375><line id='rjYFrI2Z' x1=61 y1=60 x2=61 y2=435 style='fill:none;stroke:lightblue;stroke-width:1;opacity:80%;stroke:white;stroke-width:2px;'></line><line id='TbVxTfaN' x1=60 y1=61 x2=435 y2=61 style='fill:none;stroke:lightblue;stroke-width:1;opacity:80%;stroke:white;stroke-width:2px;'></line><line id='CslqjuqA' x1=155 y1=60 x2=155 y2=435 style='fill:none;stroke:lightblue;stroke-width:1;opacity:80%;stroke:white;stroke-width:2px;'></line><line id='iOLStWf1' x1=60 y1=155 x2=435 y2=155 style='fill:none;stroke:lightblue;stroke-width:1;opacity:80%;stroke:white;stroke-width:2px;'></line><line id='U8WCrKlD' x1=249 y1=60 x2=249 y2=435 style='fill:none;stroke:lightblue;stroke-width:1;opacity:80%;stroke:white;stroke-width:2px;'></line><line id='KteH8veA' x1=60 y1=249 x2=435 y2=249 style='fill:none;stroke:lightblue;stroke-width:1;opacity:80%;stroke:white;stroke-width:2px;'></line><line id='ULsMkXTn' x1=343 y1=60 x2=343 y2=435 style='fill:none;stroke:lightblue;stroke-width:1;opacity:80%;stroke:white;stroke-width:2px;'></line><line id='2BkAnFRq' x1=60 y1=343 x2=435 y2=343 style='fill:none;stroke:lightblue;stroke-width:1;opacity:80%;stroke:white;stroke-width:2px;'></line></g><g id='pay' height=375 width=375><circle id='pay-preview' cx=382 r=5 cy=362 style='fill:#CCCC00;'></circle><circle id='rV4jZR92' cx=324 r=5 cy=386 style='fill:#CCCC00;'></circle><circle id='3mkPjiUL' cx=236 r=5 cy=435 style='fill:#CCCC00;'></circle><circle id='K1rZZDs3' cx=434 r=5 cy=435 style='fill:#CCCC00;'></circle><circle id='rGAYTqaj' cx=324 r=5 cy=61 style='fill:#CCCC00;'></circle><circle id='NwB2RWLb' cx=104 r=5 cy=297 style='fill:#CCCC00;'></circle><circle id='5U7ICvmU' cx=434 r=5 cy=189 style='fill:#CCCC00;'></circle></g><g id='labels' height=375 width=375><text id='HzigMouL' x=80 y=425 style='fill:black;font-size:10pt;fill:pink;'>20</text><text id='uDAz8GuP' x=60 y=68 style='fill:black;font-size:10pt;fill:pink;'>46</text><text id='dPgkHl2h' x=174 y=425 style='fill:black;font-size:10pt;fill:pink;'>24.25</text><text id='7zcNKul2' x=60 y=162 style='fill:black;font-size:10pt;fill:pink;'>36.5</text><text id='QR2cFEIV' x=268 y=425 style='fill:black;font-size:10pt;fill:pink;'>28.5</text><text id='aCBQkr8a' x=60 y=256 style='fill:black;font-size:10pt;fill:pink;'>27.0</text><text id='Krl59iKp' x=362 y=425 style='fill:black;font-size:10pt;fill:pink;'>32.75</text><text id='RC7ZgUm0' x=60 y=350 style='fill:black;font-size:10pt;fill:pink;'>17.5</text></g><g id='axislabels' height=375 width=375><text id='dCb3qS0v' x=248 y=405 style='stroke:darkgray;font-size:12pt;'>age</text><text id='sumOiHic' x=0 y=248 style='stroke:darkgray;font-size:12pt;'>pay</text></g><g id='legend' ><rect id='legendbg' style='stroke:darkgray;fill:white;stroke-width:2px;' x=370 y=350 height=0 width=100></rect></g><g id='legend' ><rect id='legendbg' style='stroke:darkgray;fill:white;stroke-width:2px;' x=370 y=350 height=20 width=100></rect><circle id='pay-preview' cx=382 r=5 cy=362 style='fill:#CCCC00;'></circle><text id='pay-label' x=394 y=363.8 style='stroke:darkgray;font-size:9pt;'>pay</text></g></svg>\""
      ],
      "text/plain": []
     },
     "execution_count": 11,
     "metadata": {},
     "output_type": "execute_result"
    }
   ],
   "source": [
    "con"
   ]
  },
  {
   "cell_type": "code",
   "execution_count": 12,
   "id": "003ef674-5d6b-4312-90bf-34447d93c82c",
   "metadata": {},
   "outputs": [
    {
     "data": {
      "text/html": [
       "\"<svg id='window' height=500 width=500><text id='xOO8GQPL' x=175 y=40 style='fill:black;font-size:15pt;'>who has more power?</text><g id='title' height=500 width=500></g><g id='axes' height=375 width=375><line id='OexWmVGE' x1=60 y1=435 x2=435 y2=435 style='fill:none;stroke:black;stroke-width:4;'></line><line id='8kmynYLG' x1=60 y1=60 x2=60 y2=435 style='fill:none;stroke:black;stroke-width:4;'></line></g><g id='grid' height=375 width=375><line id='69eGAi8e' x1=61 y1=60 x2=61 y2=435 style='fill:none;stroke:lightblue;stroke-width:1;opacity:80%;'></line><line id='AhC9hMEJ' x1=60 y1=61 x2=435 y2=61 style='fill:none;stroke:lightblue;stroke-width:1;opacity:80%;'></line><line id='apqFzJZs' x1=186 y1=60 x2=186 y2=435 style='fill:none;stroke:lightblue;stroke-width:1;opacity:80%;'></line><line id='gZLyaScN' x1=60 y1=186 x2=435 y2=186 style='fill:none;stroke:lightblue;stroke-width:1;opacity:80%;'></line><line id='IXgl07na' x1=311 y1=60 x2=311 y2=435 style='fill:none;stroke:lightblue;stroke-width:1;opacity:80%;'></line><line id='KUXDrtlG' x1=60 y1=311 x2=435 y2=311 style='fill:none;stroke:lightblue;stroke-width:1;opacity:80%;'></line></g><g id='bars' height=375 width=375><rect id='OTHz35mD' style='fill:none;stroke:black;stroke-width:4;' x=60 y=247 height=188 width=125></rect><rect id='u2z9cJ6P' style='fill:none;stroke:black;stroke-width:4;' x=185 y=304 height=131 width=125></rect><rect id='A1WkGmxc' style='fill:none;stroke:black;stroke-width:4;' x=310 y=429 height=6 width=125></rect></g><g id='labels' height=375 width=375><text id='GblcAaoP' x=80 y=300 style='fill:black;font-size:11pt;'>emmy</text><text id='bz8tjVqZ' x=205 y=300 style='fill:black;font-size:11pt;'>gilby</text><text id='8eZ9ttRP' x=330 y=300 style='fill:black;font-size:11pt;'>everyone else</text><text id='oXpTjdZb' x=79 y=128 style='fill:black;font-size:10pt;'>1000</text><text id='qvoW1WZL' x=79 y=253 style='fill:black;font-size:10pt;'>676.66</text><text id='1Ji7GjKX' x=79 y=378 style='fill:black;font-size:10pt;'>353.33</text></g><g id='axislabels' height=375 width=375></g></svg>\""
      ]
     },
     "metadata": {},
     "output_type": "display_data"
    },
    {
     "data": {
      "text/html": [
       "\"<svg id='window' height=500 width=500><text id='xOO8GQPL' x=175 y=40 style='fill:black;font-size:15pt;'>who has more power?</text><g id='title' height=500 width=500></g><g id='axes' height=375 width=375><line id='OexWmVGE' x1=60 y1=435 x2=435 y2=435 style='fill:none;stroke:black;stroke-width:4;'></line><line id='8kmynYLG' x1=60 y1=60 x2=60 y2=435 style='fill:none;stroke:black;stroke-width:4;'></line></g><g id='grid' height=375 width=375><line id='69eGAi8e' x1=61 y1=60 x2=61 y2=435 style='fill:none;stroke:lightblue;stroke-width:1;opacity:80%;'></line><line id='AhC9hMEJ' x1=60 y1=61 x2=435 y2=61 style='fill:none;stroke:lightblue;stroke-width:1;opacity:80%;'></line><line id='apqFzJZs' x1=186 y1=60 x2=186 y2=435 style='fill:none;stroke:lightblue;stroke-width:1;opacity:80%;'></line><line id='gZLyaScN' x1=60 y1=186 x2=435 y2=186 style='fill:none;stroke:lightblue;stroke-width:1;opacity:80%;'></line><line id='IXgl07na' x1=311 y1=60 x2=311 y2=435 style='fill:none;stroke:lightblue;stroke-width:1;opacity:80%;'></line><line id='KUXDrtlG' x1=60 y1=311 x2=435 y2=311 style='fill:none;stroke:lightblue;stroke-width:1;opacity:80%;'></line></g><g id='bars' height=375 width=375><rect id='OTHz35mD' style='fill:none;stroke:black;stroke-width:4;' x=60 y=247 height=188 width=125></rect><rect id='u2z9cJ6P' style='fill:none;stroke:black;stroke-width:4;' x=185 y=304 height=131 width=125></rect><rect id='A1WkGmxc' style='fill:none;stroke:black;stroke-width:4;' x=310 y=429 height=6 width=125></rect></g><g id='labels' height=375 width=375><text id='GblcAaoP' x=80 y=300 style='fill:black;font-size:11pt;'>emmy</text><text id='bz8tjVqZ' x=205 y=300 style='fill:black;font-size:11pt;'>gilby</text><text id='8eZ9ttRP' x=330 y=300 style='fill:black;font-size:11pt;'>everyone else</text><text id='oXpTjdZb' x=79 y=128 style='fill:black;font-size:10pt;'>1000</text><text id='qvoW1WZL' x=79 y=253 style='fill:black;font-size:10pt;'>676.66</text><text id='1Ji7GjKX' x=79 y=378 style='fill:black;font-size:10pt;'>353.33</text></g><g id='axislabels' height=375 width=375></g></svg>\""
      ],
      "text/plain": []
     },
     "execution_count": 12,
     "metadata": {},
     "output_type": "execute_result"
    }
   ],
   "source": [
    "mybars = hist([\"emmy\", \"gilby\", \"everyone else\"], [1000, 700, 30], title = \"who has more power?\", ylabel = \"power level\", xlabel = \"name\", ymin = 0, ymax = 2000)"
   ]
  },
  {
   "cell_type": "code",
   "execution_count": 13,
   "id": "7b12a627-c23d-4e97-bccb-e4153f91bf12",
   "metadata": {},
   "outputs": [
    {
     "data": {
      "text/plain": [
       "7-element Vector{Pair{Int64, String}}:\n",
       " 1 => \"xOO8GQPL\"\n",
       " 2 => \"title\"\n",
       " 3 => \"axes\"\n",
       " 4 => \"grid\"\n",
       " 5 => \"bars\"\n",
       " 6 => \"labels\"\n",
       " 7 => \"axislabels\""
      ]
     },
     "execution_count": 13,
     "metadata": {},
     "output_type": "execute_result"
    }
   ],
   "source": [
    "layers(mybars)"
   ]
  },
  {
   "cell_type": "code",
   "execution_count": 14,
   "id": "c67bc1ae-6e28-45d9-9b8c-9d388e18c155",
   "metadata": {},
   "outputs": [],
   "source": [
    "open_layer!(mybars, \"bars\") do ecomp\n",
    "    style!(ecomp, \"fill\", [\"pink\", \"blue\", \"red\"])\n",
    "end"
   ]
  },
  {
   "cell_type": "code",
   "execution_count": 15,
   "id": "097b902b-fe19-4ee0-92b5-cbf381166b38",
   "metadata": {},
   "outputs": [
    {
     "data": {
      "text/plain": [
       "Dict{Symbol, Any} with 8 entries:\n",
       "  :width    => 125\n",
       "  :extras   => AbstractComponent[]\n",
       "  :style    => \"fill:none;stroke:black;stroke-width:4;fill:pink;\"\n",
       "  :children => AbstractComponent[]\n",
       "  :y        => 247\n",
       "  :height   => 188\n",
       "  :text     => \"\"\n",
       "  :x        => 60"
      ]
     },
     "execution_count": 15,
     "metadata": {},
     "output_type": "execute_result"
    }
   ],
   "source": [
    "mybars.window[:children][\"bars\"][:children][1].properties"
   ]
  },
  {
   "cell_type": "code",
   "execution_count": 16,
   "id": "aff04f64-d115-43b3-949f-15042b8e83a4",
   "metadata": {},
   "outputs": [
    {
     "data": {
      "text/html": [
       "\"<svg id='window' height=500 width=500><text id='xOO8GQPL' x=175 y=40 style='fill:black;font-size:15pt;'>who has more power?</text><g id='title' height=500 width=500></g><g id='axes' height=375 width=375><line id='OexWmVGE' x1=60 y1=435 x2=435 y2=435 style='fill:none;stroke:black;stroke-width:4;'></line><line id='8kmynYLG' x1=60 y1=60 x2=60 y2=435 style='fill:none;stroke:black;stroke-width:4;'></line></g><g id='grid' height=375 width=375><line id='69eGAi8e' x1=61 y1=60 x2=61 y2=435 style='fill:none;stroke:lightblue;stroke-width:1;opacity:80%;'></line><line id='AhC9hMEJ' x1=60 y1=61 x2=435 y2=61 style='fill:none;stroke:lightblue;stroke-width:1;opacity:80%;'></line><line id='apqFzJZs' x1=186 y1=60 x2=186 y2=435 style='fill:none;stroke:lightblue;stroke-width:1;opacity:80%;'></line><line id='gZLyaScN' x1=60 y1=186 x2=435 y2=186 style='fill:none;stroke:lightblue;stroke-width:1;opacity:80%;'></line><line id='IXgl07na' x1=311 y1=60 x2=311 y2=435 style='fill:none;stroke:lightblue;stroke-width:1;opacity:80%;'></line><line id='KUXDrtlG' x1=60 y1=311 x2=435 y2=311 style='fill:none;stroke:lightblue;stroke-width:1;opacity:80%;'></line></g><g id='bars' height=375 width=375><rect id='OTHz35mD' style='fill:none;stroke:black;stroke-width:4;fill:pink;' x=60 y=247 height=188 width=125></rect><rect id='u2z9cJ6P' style='fill:none;stroke:black;stroke-width:4;fill:blue;' x=185 y=304 height=131 width=125></rect><rect id='A1WkGmxc' style='fill:none;stroke:black;stroke-width:4;fill:red;' x=310 y=429 height=6 width=125></rect></g><g id='labels' height=375 width=375><text id='GblcAaoP' x=80 y=300 style='fill:black;font-size:11pt;'>emmy</text><text id='bz8tjVqZ' x=205 y=300 style='fill:black;font-size:11pt;'>gilby</text><text id='8eZ9ttRP' x=330 y=300 style='fill:black;font-size:11pt;'>everyone else</text><text id='oXpTjdZb' x=79 y=128 style='fill:black;font-size:10pt;'>1000</text><text id='qvoW1WZL' x=79 y=253 style='fill:black;font-size:10pt;'>676.66</text><text id='1Ji7GjKX' x=79 y=378 style='fill:black;font-size:10pt;'>353.33</text></g><g id='axislabels' height=375 width=375></g></svg>\""
      ]
     },
     "metadata": {},
     "output_type": "display_data"
    },
    {
     "data": {
      "text/html": [
       "\"<svg id='window' height=500 width=500><text id='xOO8GQPL' x=175 y=40 style='fill:black;font-size:15pt;'>who has more power?</text><g id='title' height=500 width=500></g><g id='axes' height=375 width=375><line id='OexWmVGE' x1=60 y1=435 x2=435 y2=435 style='fill:none;stroke:black;stroke-width:4;'></line><line id='8kmynYLG' x1=60 y1=60 x2=60 y2=435 style='fill:none;stroke:black;stroke-width:4;'></line></g><g id='grid' height=375 width=375><line id='69eGAi8e' x1=61 y1=60 x2=61 y2=435 style='fill:none;stroke:lightblue;stroke-width:1;opacity:80%;'></line><line id='AhC9hMEJ' x1=60 y1=61 x2=435 y2=61 style='fill:none;stroke:lightblue;stroke-width:1;opacity:80%;'></line><line id='apqFzJZs' x1=186 y1=60 x2=186 y2=435 style='fill:none;stroke:lightblue;stroke-width:1;opacity:80%;'></line><line id='gZLyaScN' x1=60 y1=186 x2=435 y2=186 style='fill:none;stroke:lightblue;stroke-width:1;opacity:80%;'></line><line id='IXgl07na' x1=311 y1=60 x2=311 y2=435 style='fill:none;stroke:lightblue;stroke-width:1;opacity:80%;'></line><line id='KUXDrtlG' x1=60 y1=311 x2=435 y2=311 style='fill:none;stroke:lightblue;stroke-width:1;opacity:80%;'></line></g><g id='bars' height=375 width=375><rect id='OTHz35mD' style='fill:none;stroke:black;stroke-width:4;fill:pink;' x=60 y=247 height=188 width=125></rect><rect id='u2z9cJ6P' style='fill:none;stroke:black;stroke-width:4;fill:blue;' x=185 y=304 height=131 width=125></rect><rect id='A1WkGmxc' style='fill:none;stroke:black;stroke-width:4;fill:red;' x=310 y=429 height=6 width=125></rect></g><g id='labels' height=375 width=375><text id='GblcAaoP' x=80 y=300 style='fill:black;font-size:11pt;'>emmy</text><text id='bz8tjVqZ' x=205 y=300 style='fill:black;font-size:11pt;'>gilby</text><text id='8eZ9ttRP' x=330 y=300 style='fill:black;font-size:11pt;'>everyone else</text><text id='oXpTjdZb' x=79 y=128 style='fill:black;font-size:10pt;'>1000</text><text id='qvoW1WZL' x=79 y=253 style='fill:black;font-size:10pt;'>676.66</text><text id='1Ji7GjKX' x=79 y=378 style='fill:black;font-size:10pt;'>353.33</text></g><g id='axislabels' height=375 width=375></g></svg>\""
      ],
      "text/plain": []
     },
     "execution_count": 16,
     "metadata": {},
     "output_type": "execute_result"
    }
   ],
   "source": [
    "mybars"
   ]
  },
  {
   "cell_type": "code",
   "execution_count": 17,
   "id": "f90dc23f-3040-4824-b38a-1c3a9c303da4",
   "metadata": {},
   "outputs": [],
   "source": [
    "accidents = [1, 4, 3, 2, 3, 11, 5]\n",
    "style!(con, \"pay\", \"stroke\" => \"red\")\n",
    "open_layer!(con, \"pay\") do ecomp\n",
    "    style!(ecomp, accidents, \"stroke-width\" => 3)\n",
    "end"
   ]
  },
  {
   "cell_type": "code",
   "execution_count": 18,
   "id": "267e0bd7-62af-4a9a-97b6-df9cda01085e",
   "metadata": {},
   "outputs": [
    {
     "data": {
      "text/html": [
       "\"<svg id='window' width=500 height=500 style='background-color:#37002;'><text id='aDI35mwR' x=175 y=40 style='fill:black;font-size:15pt;'>age vs pay</text><g id='title' height=500 width=500></g><g id='axes' height=375 width=375><line id='nsBOoYXQ' x1=60 y1=435 x2=435 y2=435 style='fill:none;stroke:black;stroke-width:4;stroke:gray;'></line><line id='pEOYJhvM' x1=60 y1=60 x2=60 y2=435 style='fill:none;stroke:black;stroke-width:4;stroke:gray;'></line></g><g id='grid' height=375 width=375><line id='rjYFrI2Z' x1=61 y1=60 x2=61 y2=435 style='fill:none;stroke:lightblue;stroke-width:1;opacity:80%;stroke:white;stroke-width:2px;'></line><line id='TbVxTfaN' x1=60 y1=61 x2=435 y2=61 style='fill:none;stroke:lightblue;stroke-width:1;opacity:80%;stroke:white;stroke-width:2px;'></line><line id='CslqjuqA' x1=155 y1=60 x2=155 y2=435 style='fill:none;stroke:lightblue;stroke-width:1;opacity:80%;stroke:white;stroke-width:2px;'></line><line id='iOLStWf1' x1=60 y1=155 x2=435 y2=155 style='fill:none;stroke:lightblue;stroke-width:1;opacity:80%;stroke:white;stroke-width:2px;'></line><line id='U8WCrKlD' x1=249 y1=60 x2=249 y2=435 style='fill:none;stroke:lightblue;stroke-width:1;opacity:80%;stroke:white;stroke-width:2px;'></line><line id='KteH8veA' x1=60 y1=249 x2=435 y2=249 style='fill:none;stroke:lightblue;stroke-width:1;opacity:80%;stroke:white;stroke-width:2px;'></line><line id='ULsMkXTn' x1=343 y1=60 x2=343 y2=435 style='fill:none;stroke:lightblue;stroke-width:1;opacity:80%;stroke:white;stroke-width:2px;'></line><line id='2BkAnFRq' x1=60 y1=343 x2=435 y2=343 style='fill:none;stroke:lightblue;stroke-width:1;opacity:80%;stroke:white;stroke-width:2px;'></line></g><g id='pay' height=375 width=375><circle id='pay-preview' cx=382 r=5 cy=362 style='fill:#CCCC00;stroke:red;stroke-width:0;'></circle><circle id='rV4jZR92' cx=324 r=5 cy=386 style='fill:#CCCC00;stroke:red;stroke-width:1;'></circle><circle id='3mkPjiUL' cx=236 r=5 cy=435 style='fill:#CCCC00;stroke:red;stroke-width:1;'></circle><circle id='K1rZZDs3' cx=434 r=5 cy=435 style='fill:#CCCC00;stroke:red;stroke-width:1;'></circle><circle id='rGAYTqaj' cx=324 r=5 cy=61 style='fill:#CCCC00;stroke:red;stroke-width:1;'></circle><circle id='NwB2RWLb' cx=104 r=5 cy=297 style='fill:#CCCC00;stroke:red;stroke-width:3;'></circle><circle id='5U7ICvmU' cx=434 r=5 cy=189 style='fill:#CCCC00;stroke:red;stroke-width:1;'></circle></g><g id='labels' height=375 width=375><text id='HzigMouL' x=80 y=425 style='fill:black;font-size:10pt;fill:pink;'>20</text><text id='uDAz8GuP' x=60 y=68 style='fill:black;font-size:10pt;fill:pink;'>46</text><text id='dPgkHl2h' x=174 y=425 style='fill:black;font-size:10pt;fill:pink;'>24.25</text><text id='7zcNKul2' x=60 y=162 style='fill:black;font-size:10pt;fill:pink;'>36.5</text><text id='QR2cFEIV' x=268 y=425 style='fill:black;font-size:10pt;fill:pink;'>28.5</text><text id='aCBQkr8a' x=60 y=256 style='fill:black;font-size:10pt;fill:pink;'>27.0</text><text id='Krl59iKp' x=362 y=425 style='fill:black;font-size:10pt;fill:pink;'>32.75</text><text id='RC7ZgUm0' x=60 y=350 style='fill:black;font-size:10pt;fill:pink;'>17.5</text></g><g id='axislabels' height=375 width=375><text id='dCb3qS0v' x=248 y=405 style='stroke:darkgray;font-size:12pt;'>age</text><text id='sumOiHic' x=0 y=248 style='stroke:darkgray;font-size:12pt;'>pay</text></g><g id='legend' ><rect id='legendbg' style='stroke:darkgray;fill:white;stroke-width:2px;' x=370 y=350 height=0 width=100></rect></g><g id='legend' ><rect id='legendbg' style='stroke:darkgray;fill:white;stroke-width:2px;' x=370 y=350 height=20 width=100></rect><circle id='pay-preview' cx=382 r=5 cy=362 style='fill:#CCCC00;stroke:red;stroke-width:0;'></circle><text id='pay-label' x=394 y=363.8 style='stroke:darkgray;font-size:9pt;'>pay</text></g></svg>\""
      ]
     },
     "metadata": {},
     "output_type": "display_data"
    },
    {
     "data": {
      "text/html": [
       "\"<svg id='window' width=500 height=500 style='background-color:#37002;'><text id='aDI35mwR' x=175 y=40 style='fill:black;font-size:15pt;'>age vs pay</text><g id='title' height=500 width=500></g><g id='axes' height=375 width=375><line id='nsBOoYXQ' x1=60 y1=435 x2=435 y2=435 style='fill:none;stroke:black;stroke-width:4;stroke:gray;'></line><line id='pEOYJhvM' x1=60 y1=60 x2=60 y2=435 style='fill:none;stroke:black;stroke-width:4;stroke:gray;'></line></g><g id='grid' height=375 width=375><line id='rjYFrI2Z' x1=61 y1=60 x2=61 y2=435 style='fill:none;stroke:lightblue;stroke-width:1;opacity:80%;stroke:white;stroke-width:2px;'></line><line id='TbVxTfaN' x1=60 y1=61 x2=435 y2=61 style='fill:none;stroke:lightblue;stroke-width:1;opacity:80%;stroke:white;stroke-width:2px;'></line><line id='CslqjuqA' x1=155 y1=60 x2=155 y2=435 style='fill:none;stroke:lightblue;stroke-width:1;opacity:80%;stroke:white;stroke-width:2px;'></line><line id='iOLStWf1' x1=60 y1=155 x2=435 y2=155 style='fill:none;stroke:lightblue;stroke-width:1;opacity:80%;stroke:white;stroke-width:2px;'></line><line id='U8WCrKlD' x1=249 y1=60 x2=249 y2=435 style='fill:none;stroke:lightblue;stroke-width:1;opacity:80%;stroke:white;stroke-width:2px;'></line><line id='KteH8veA' x1=60 y1=249 x2=435 y2=249 style='fill:none;stroke:lightblue;stroke-width:1;opacity:80%;stroke:white;stroke-width:2px;'></line><line id='ULsMkXTn' x1=343 y1=60 x2=343 y2=435 style='fill:none;stroke:lightblue;stroke-width:1;opacity:80%;stroke:white;stroke-width:2px;'></line><line id='2BkAnFRq' x1=60 y1=343 x2=435 y2=343 style='fill:none;stroke:lightblue;stroke-width:1;opacity:80%;stroke:white;stroke-width:2px;'></line></g><g id='pay' height=375 width=375><circle id='pay-preview' cx=382 r=5 cy=362 style='fill:#CCCC00;stroke:red;stroke-width:0;'></circle><circle id='rV4jZR92' cx=324 r=5 cy=386 style='fill:#CCCC00;stroke:red;stroke-width:1;'></circle><circle id='3mkPjiUL' cx=236 r=5 cy=435 style='fill:#CCCC00;stroke:red;stroke-width:1;'></circle><circle id='K1rZZDs3' cx=434 r=5 cy=435 style='fill:#CCCC00;stroke:red;stroke-width:1;'></circle><circle id='rGAYTqaj' cx=324 r=5 cy=61 style='fill:#CCCC00;stroke:red;stroke-width:1;'></circle><circle id='NwB2RWLb' cx=104 r=5 cy=297 style='fill:#CCCC00;stroke:red;stroke-width:3;'></circle><circle id='5U7ICvmU' cx=434 r=5 cy=189 style='fill:#CCCC00;stroke:red;stroke-width:1;'></circle></g><g id='labels' height=375 width=375><text id='HzigMouL' x=80 y=425 style='fill:black;font-size:10pt;fill:pink;'>20</text><text id='uDAz8GuP' x=60 y=68 style='fill:black;font-size:10pt;fill:pink;'>46</text><text id='dPgkHl2h' x=174 y=425 style='fill:black;font-size:10pt;fill:pink;'>24.25</text><text id='7zcNKul2' x=60 y=162 style='fill:black;font-size:10pt;fill:pink;'>36.5</text><text id='QR2cFEIV' x=268 y=425 style='fill:black;font-size:10pt;fill:pink;'>28.5</text><text id='aCBQkr8a' x=60 y=256 style='fill:black;font-size:10pt;fill:pink;'>27.0</text><text id='Krl59iKp' x=362 y=425 style='fill:black;font-size:10pt;fill:pink;'>32.75</text><text id='RC7ZgUm0' x=60 y=350 style='fill:black;font-size:10pt;fill:pink;'>17.5</text></g><g id='axislabels' height=375 width=375><text id='dCb3qS0v' x=248 y=405 style='stroke:darkgray;font-size:12pt;'>age</text><text id='sumOiHic' x=0 y=248 style='stroke:darkgray;font-size:12pt;'>pay</text></g><g id='legend' ><rect id='legendbg' style='stroke:darkgray;fill:white;stroke-width:2px;' x=370 y=350 height=0 width=100></rect></g><g id='legend' ><rect id='legendbg' style='stroke:darkgray;fill:white;stroke-width:2px;' x=370 y=350 height=20 width=100></rect><circle id='pay-preview' cx=382 r=5 cy=362 style='fill:#CCCC00;stroke:red;stroke-width:0;'></circle><text id='pay-label' x=394 y=363.8 style='stroke:darkgray;font-size:9pt;'>pay</text></g></svg>\""
      ],
      "text/plain": []
     },
     "execution_count": 18,
     "metadata": {},
     "output_type": "execute_result"
    }
   ],
   "source": [
    "con"
   ]
  },
  {
   "cell_type": "code",
   "execution_count": 20,
   "id": "f7c48a06-86d5-4eb6-9303-851c413c7eca",
   "metadata": {},
   "outputs": [],
   "source": [
    "emptycircle = Gattino.circle(\"stroke-rep\", r = 2)\n",
    "style!(emptycircle, \"fill\" => \"transparent\", \"stroke-width\" => 2px, \"stroke\" => \"red\")\n",
    "Gattino.append_legend!(con, \"accidents\", emptycircle)"
   ]
  },
  {
   "cell_type": "code",
   "execution_count": 21,
   "id": "1a6f401d-3598-4303-ae64-5dcd4db1b89a",
   "metadata": {},
   "outputs": [
    {
     "data": {
      "text/html": [
       "\"<svg id='window' width=500 height=500 style='background-color:#37002;display:inline-block;'><text id='aDI35mwR' x=175 y=40 style='fill:black;font-size:15pt;'>age vs pay</text><g id='title' height=500 width=500></g><g id='axes' height=375 width=375><line id='nsBOoYXQ' x1=60 y1=435 x2=435 y2=435 style='fill:none;stroke:black;stroke-width:4;stroke:gray;'></line><line id='pEOYJhvM' x1=60 y1=60 x2=60 y2=435 style='fill:none;stroke:black;stroke-width:4;stroke:gray;'></line></g><g id='grid' height=375 width=375><line id='rjYFrI2Z' x1=61 y1=60 x2=61 y2=435 style='fill:none;stroke:lightblue;stroke-width:1;opacity:80%;stroke:white;stroke-width:2px;'></line><line id='TbVxTfaN' x1=60 y1=61 x2=435 y2=61 style='fill:none;stroke:lightblue;stroke-width:1;opacity:80%;stroke:white;stroke-width:2px;'></line><line id='CslqjuqA' x1=155 y1=60 x2=155 y2=435 style='fill:none;stroke:lightblue;stroke-width:1;opacity:80%;stroke:white;stroke-width:2px;'></line><line id='iOLStWf1' x1=60 y1=155 x2=435 y2=155 style='fill:none;stroke:lightblue;stroke-width:1;opacity:80%;stroke:white;stroke-width:2px;'></line><line id='U8WCrKlD' x1=249 y1=60 x2=249 y2=435 style='fill:none;stroke:lightblue;stroke-width:1;opacity:80%;stroke:white;stroke-width:2px;'></line><line id='KteH8veA' x1=60 y1=249 x2=435 y2=249 style='fill:none;stroke:lightblue;stroke-width:1;opacity:80%;stroke:white;stroke-width:2px;'></line><line id='ULsMkXTn' x1=343 y1=60 x2=343 y2=435 style='fill:none;stroke:lightblue;stroke-width:1;opacity:80%;stroke:white;stroke-width:2px;'></line><line id='2BkAnFRq' x1=60 y1=343 x2=435 y2=343 style='fill:none;stroke:lightblue;stroke-width:1;opacity:80%;stroke:white;stroke-width:2px;'></line></g><g id='pay' height=375 width=375><circle id='pay-preview' cx=382 r=5 cy=362 style='fill:#CCCC00;stroke:red;stroke-width:0;'></circle><circle id='rV4jZR92' cx=324 r=5 cy=386 style='fill:#CCCC00;stroke:red;stroke-width:1;'></circle><circle id='3mkPjiUL' cx=236 r=5 cy=435 style='fill:#CCCC00;stroke:red;stroke-width:1;'></circle><circle id='K1rZZDs3' cx=434 r=5 cy=435 style='fill:#CCCC00;stroke:red;stroke-width:1;'></circle><circle id='rGAYTqaj' cx=324 r=5 cy=61 style='fill:#CCCC00;stroke:red;stroke-width:1;'></circle><circle id='NwB2RWLb' cx=104 r=5 cy=297 style='fill:#CCCC00;stroke:red;stroke-width:3;'></circle><circle id='5U7ICvmU' cx=434 r=5 cy=189 style='fill:#CCCC00;stroke:red;stroke-width:1;'></circle></g><g id='labels' height=375 width=375><text id='HzigMouL' x=80 y=425 style='fill:black;font-size:10pt;fill:pink;'>20</text><text id='uDAz8GuP' x=60 y=68 style='fill:black;font-size:10pt;fill:pink;'>46</text><text id='dPgkHl2h' x=174 y=425 style='fill:black;font-size:10pt;fill:pink;'>24.25</text><text id='7zcNKul2' x=60 y=162 style='fill:black;font-size:10pt;fill:pink;'>36.5</text><text id='QR2cFEIV' x=268 y=425 style='fill:black;font-size:10pt;fill:pink;'>28.5</text><text id='aCBQkr8a' x=60 y=256 style='fill:black;font-size:10pt;fill:pink;'>27.0</text><text id='Krl59iKp' x=362 y=425 style='fill:black;font-size:10pt;fill:pink;'>32.75</text><text id='RC7ZgUm0' x=60 y=350 style='fill:black;font-size:10pt;fill:pink;'>17.5</text></g><g id='axislabels' height=375 width=375><text id='dCb3qS0v' x=248 y=405 style='stroke:darkgray;font-size:12pt;'>age</text><text id='sumOiHic' x=0 y=248 style='stroke:darkgray;font-size:12pt;'>pay</text></g><g id='legend' ><rect id='legendbg' style='stroke:darkgray;fill:white;stroke-width:2px;' x=370 y=350 height=20 width=100></rect><circle id='stroke-rep' cx=382 r=2 cy=350 style='fill:transparent;stroke-width:2px;stroke:red;'></circle><text id='accidents-label' x=394 y=350.0 style='stroke:darkgray;font-size:9pt;'>accidents</text></g><g id='legend' ><rect id='legendbg' style='stroke:darkgray;fill:white;stroke-width:2px;' x=370 y=350 height=20 width=100></rect><circle id='pay-preview' cx=382 r=5 cy=362 style='fill:#CCCC00;stroke:red;stroke-width:0;'></circle><text id='pay-label' x=394 y=363.8 style='stroke:darkgray;font-size:9pt;'>pay</text></g></svg>\""
      ]
     },
     "metadata": {},
     "output_type": "display_data"
    },
    {
     "data": {
      "text/html": [
       "\"<svg id='window' width=500 height=500 style='background-color:#37002;display:inline-block;'><text id='aDI35mwR' x=175 y=40 style='fill:black;font-size:15pt;'>age vs pay</text><g id='title' height=500 width=500></g><g id='axes' height=375 width=375><line id='nsBOoYXQ' x1=60 y1=435 x2=435 y2=435 style='fill:none;stroke:black;stroke-width:4;stroke:gray;'></line><line id='pEOYJhvM' x1=60 y1=60 x2=60 y2=435 style='fill:none;stroke:black;stroke-width:4;stroke:gray;'></line></g><g id='grid' height=375 width=375><line id='rjYFrI2Z' x1=61 y1=60 x2=61 y2=435 style='fill:none;stroke:lightblue;stroke-width:1;opacity:80%;stroke:white;stroke-width:2px;'></line><line id='TbVxTfaN' x1=60 y1=61 x2=435 y2=61 style='fill:none;stroke:lightblue;stroke-width:1;opacity:80%;stroke:white;stroke-width:2px;'></line><line id='CslqjuqA' x1=155 y1=60 x2=155 y2=435 style='fill:none;stroke:lightblue;stroke-width:1;opacity:80%;stroke:white;stroke-width:2px;'></line><line id='iOLStWf1' x1=60 y1=155 x2=435 y2=155 style='fill:none;stroke:lightblue;stroke-width:1;opacity:80%;stroke:white;stroke-width:2px;'></line><line id='U8WCrKlD' x1=249 y1=60 x2=249 y2=435 style='fill:none;stroke:lightblue;stroke-width:1;opacity:80%;stroke:white;stroke-width:2px;'></line><line id='KteH8veA' x1=60 y1=249 x2=435 y2=249 style='fill:none;stroke:lightblue;stroke-width:1;opacity:80%;stroke:white;stroke-width:2px;'></line><line id='ULsMkXTn' x1=343 y1=60 x2=343 y2=435 style='fill:none;stroke:lightblue;stroke-width:1;opacity:80%;stroke:white;stroke-width:2px;'></line><line id='2BkAnFRq' x1=60 y1=343 x2=435 y2=343 style='fill:none;stroke:lightblue;stroke-width:1;opacity:80%;stroke:white;stroke-width:2px;'></line></g><g id='pay' height=375 width=375><circle id='pay-preview' cx=382 r=5 cy=362 style='fill:#CCCC00;stroke:red;stroke-width:0;'></circle><circle id='rV4jZR92' cx=324 r=5 cy=386 style='fill:#CCCC00;stroke:red;stroke-width:1;'></circle><circle id='3mkPjiUL' cx=236 r=5 cy=435 style='fill:#CCCC00;stroke:red;stroke-width:1;'></circle><circle id='K1rZZDs3' cx=434 r=5 cy=435 style='fill:#CCCC00;stroke:red;stroke-width:1;'></circle><circle id='rGAYTqaj' cx=324 r=5 cy=61 style='fill:#CCCC00;stroke:red;stroke-width:1;'></circle><circle id='NwB2RWLb' cx=104 r=5 cy=297 style='fill:#CCCC00;stroke:red;stroke-width:3;'></circle><circle id='5U7ICvmU' cx=434 r=5 cy=189 style='fill:#CCCC00;stroke:red;stroke-width:1;'></circle></g><g id='labels' height=375 width=375><text id='HzigMouL' x=80 y=425 style='fill:black;font-size:10pt;fill:pink;'>20</text><text id='uDAz8GuP' x=60 y=68 style='fill:black;font-size:10pt;fill:pink;'>46</text><text id='dPgkHl2h' x=174 y=425 style='fill:black;font-size:10pt;fill:pink;'>24.25</text><text id='7zcNKul2' x=60 y=162 style='fill:black;font-size:10pt;fill:pink;'>36.5</text><text id='QR2cFEIV' x=268 y=425 style='fill:black;font-size:10pt;fill:pink;'>28.5</text><text id='aCBQkr8a' x=60 y=256 style='fill:black;font-size:10pt;fill:pink;'>27.0</text><text id='Krl59iKp' x=362 y=425 style='fill:black;font-size:10pt;fill:pink;'>32.75</text><text id='RC7ZgUm0' x=60 y=350 style='fill:black;font-size:10pt;fill:pink;'>17.5</text></g><g id='axislabels' height=375 width=375><text id='dCb3qS0v' x=248 y=405 style='stroke:darkgray;font-size:12pt;'>age</text><text id='sumOiHic' x=0 y=248 style='stroke:darkgray;font-size:12pt;'>pay</text></g><g id='legend' ><rect id='legendbg' style='stroke:darkgray;fill:white;stroke-width:2px;' x=370 y=350 height=20 width=100></rect><circle id='stroke-rep' cx=382 r=2 cy=350 style='fill:transparent;stroke-width:2px;stroke:red;'></circle><text id='accidents-label' x=394 y=350.0 style='stroke:darkgray;font-size:9pt;'>accidents</text></g><g id='legend' ><rect id='legendbg' style='stroke:darkgray;fill:white;stroke-width:2px;' x=370 y=350 height=20 width=100></rect><circle id='pay-preview' cx=382 r=5 cy=362 style='fill:#CCCC00;stroke:red;stroke-width:0;'></circle><text id='pay-label' x=394 y=363.8 style='stroke:darkgray;font-size:9pt;'>pay</text></g></svg>\""
      ],
      "text/plain": []
     },
     "execution_count": 21,
     "metadata": {},
     "output_type": "execute_result"
    }
   ],
   "source": [
    "con"
   ]
  },
  {
   "cell_type": "code",
   "execution_count": 27,
   "id": "72c92c03-cb48-4784-813e-1b58fa4f2c58",
   "metadata": {},
   "outputs": [
    {
     "data": {
      "text/html": [
       "\"<div id='6JX' ><svg id='window' width=500 height=500 style='background-color:#37002;display:inline-block;display:inline-block;'><text id='aDI35mwR' x=175 y=40 style='fill:black;font-size:15pt;'>age vs pay</text><g id='title' height=500 width=500></g><g id='axes' height=375 width=375><line id='nsBOoYXQ' x1=60 y1=435 x2=435 y2=435 style='fill:none;stroke:black;stroke-width:4;stroke:gray;'></line><line id='pEOYJhvM' x1=60 y1=60 x2=60 y2=435 style='fill:none;stroke:black;stroke-width:4;stroke:gray;'></line></g><g id='grid' height=375 width=375><line id='rjYFrI2Z' x1=61 y1=60 x2=61 y2=435 style='fill:none;stroke:lightblue;stroke-width:1;opacity:80%;stroke:white;stroke-width:2px;'></line><line id='TbVxTfaN' x1=60 y1=61 x2=435 y2=61 style='fill:none;stroke:lightblue;stroke-width:1;opacity:80%;stroke:white;stroke-width:2px;'></line><line id='CslqjuqA' x1=155 y1=60 x2=155 y2=435 style='fill:none;stroke:lightblue;stroke-width:1;opacity:80%;stroke:white;stroke-width:2px;'></line><line id='iOLStWf1' x1=60 y1=155 x2=435 y2=155 style='fill:none;stroke:lightblue;stroke-width:1;opacity:80%;stroke:white;stroke-width:2px;'></line><line id='U8WCrKlD' x1=249 y1=60 x2=249 y2=435 style='fill:none;stroke:lightblue;stroke-width:1;opacity:80%;stroke:white;stroke-width:2px;'></line><line id='KteH8veA' x1=60 y1=249 x2=435 y2=249 style='fill:none;stroke:lightblue;stroke-width:1;opacity:80%;stroke:white;stroke-width:2px;'></line><line id='ULsMkXTn' x1=343 y1=60 x2=343 y2=435 style='fill:none;stroke:lightblue;stroke-width:1;opacity:80%;stroke:white;stroke-width:2px;'></line><line id='2BkAnFRq' x1=60 y1=343 x2=435 y2=343 style='fill:none;stroke:lightblue;stroke-width:1;opacity:80%;stroke:white;stroke-width:2px;'></line></g><g id='pay' height=375 width=375><circle id='pay-preview' cx=382 r=5 cy=362 style='fill:#CCCC00;stroke:red;stroke-width:0;'></circle><circle id='rV4jZR92' cx=324 r=5 cy=386 style='fill:#CCCC00;stroke:red;stroke-width:1;'></circle><circle id='3mkPjiUL' cx=236 r=5 cy=435 style='fill:#CCCC00;stroke:red;stroke-width:1;'></circle><circle id='K1rZZDs3' cx=434 r=5 cy=435 style='fill:#CCCC00;stroke:red;stroke-width:1;'></circle><circle id='rGAYTqaj' cx=324 r=5 cy=61 style='fill:#CCCC00;stroke:red;stroke-width:1;'></circle><circle id='NwB2RWLb' cx=104 r=5 cy=297 style='fill:#CCCC00;stroke:red;stroke-width:3;'></circle><circle id='5U7ICvmU' cx=434 r=5 cy=189 style='fill:#CCCC00;stroke:red;stroke-width:1;'></circle></g><g id='labels' height=375 width=375><text id='HzigMouL' x=80 y=425 style='fill:black;font-size:10pt;fill:pink;'>20</text><text id='uDAz8GuP' x=60 y=68 style='fill:black;font-size:10pt;fill:pink;'>46</text><text id='dPgkHl2h' x=174 y=425 style='fill:black;font-size:10pt;fill:pink;'>24.25</text><text id='7zcNKul2' x=60 y=162 style='fill:black;font-size:10pt;fill:pink;'>36.5</text><text id='QR2cFEIV' x=268 y=425 style='fill:black;font-size:10pt;fill:pink;'>28.5</text><text id='aCBQkr8a' x=60 y=256 style='fill:black;font-size:10pt;fill:pink;'>27.0</text><text id='Krl59iKp' x=362 y=425 style='fill:black;font-size:10pt;fill:pink;'>32.75</text><text id='RC7ZgUm0' x=60 y=350 style='fill:black;font-size:10pt;fill:pink;'>17.5</text></g><g id='axislabels' height=375 width=375><text id='dCb3qS0v' x=248 y=405 style='stroke:darkgray;font-size:12pt;'>age</text><text id='sumOiHic' x=0 y=248 style='stroke:darkgray;font-size:12pt;'>pay</text></g><g id='legend' ><rect id='legendbg' style='stroke:darkgray;fill:white;stroke-width:2px;' x=370 y=350 height=20 width=100></rect><circle id='stroke-rep' cx=382 r=2 cy=350 style='fill:transparent;stroke-width:2px;stroke:red;'></circle><text id='accidents-label' x=394 y=350.0 style='stroke:darkgray;font-size:9pt;'>accidents</text></g><g id='legend' ><rect id='legendbg' style='stroke:darkgray;fill:white;stroke-width:2px;' x=370 y=350 height=20 width=100></rect><circle id='pay-preview' cx=382 r=5 cy=362 style='fill:#CCCC00;stroke:red;stroke-width:0;'></circle><text id='pay-label' x=394 y=363.8 style='stroke:darkgray;font-size:9pt;'>pay</text></g></svg><svg id='window' width=500 height=500 style='display:inline-block;display:inline-block;'><text id='xOO8GQPL' x=175 y=40 style='fill:black;font-size:15pt;'>who has more power?</text><g id='title' height=500 width=500></g><g id='axes' height=375 width=375><line id='OexWmVGE' x1=60 y1=435 x2=435 y2=435 style='fill:none;stroke:black;stroke-width:4;'></line><line id='8kmynYLG' x1=60 y1=60 x2=60 y2=435 style='fill:none;stroke:black;stroke-width:4;'></line></g><g id='grid' height=375 width=375><line id='69eGAi8e' x1=61 y1=60 x2=61 y2=435 style='fill:none;stroke:lightblue;stroke-width:1;opacity:80%;'></line><line id='AhC9hMEJ' x1=60 y1=61 x2=435 y2=61 style='fill:none;stroke:lightblue;stroke-width:1;opacity:80%;'></line><line id='apqFzJZs' x1=186 y1=60 x2=186 y2=435 style='fill:none;stroke:lightblue;stroke-width:1;opacity:80%;'></line><line id='gZLyaScN' x1=60 y1=186 x2=435 y2=186 style='fill:none;stroke:lightblue;stroke-width:1;opacity:80%;'></line><line id='IXgl07na' x1=311 y1=60 x2=311 y2=435 style='fill:none;stroke:lightblue;stroke-width:1;opacity:80%;'></line><line id='KUXDrtlG' x1=60 y1=311 x2=435 y2=311 style='fill:none;stroke:lightblue;stroke-width:1;opacity:80%;'></line></g><g id='bars' height=375 width=375><rect id='OTHz35mD' style='fill:none;stroke:black;stroke-width:4;fill:pink;' x=60 y=247 height=188 width=125></rect><rect id='u2z9cJ6P' style='fill:none;stroke:black;stroke-width:4;fill:blue;' x=185 y=304 height=131 width=125></rect><rect id='A1WkGmxc' style='fill:none;stroke:black;stroke-width:4;fill:red;' x=310 y=429 height=6 width=125></rect></g><g id='labels' height=375 width=375><text id='GblcAaoP' x=80 y=300 style='fill:black;font-size:11pt;'>emmy</text><text id='bz8tjVqZ' x=205 y=300 style='fill:black;font-size:11pt;'>gilby</text><text id='8eZ9ttRP' x=330 y=300 style='fill:black;font-size:11pt;'>everyone else</text><text id='oXpTjdZb' x=79 y=128 style='fill:black;font-size:10pt;'>1000</text><text id='qvoW1WZL' x=79 y=253 style='fill:black;font-size:10pt;'>676.66</text><text id='1Ji7GjKX' x=79 y=378 style='fill:black;font-size:10pt;'>353.33</text></g><g id='axislabels' height=375 width=375></g></svg></div>\""
      ],
      "text/plain": [
       "ToolipsServables.Component{:div}(\"6JX\", Dict{Symbol, Any}(:extras => ToolipsServables.AbstractComponent[], :children => ToolipsServables.AbstractComponent[ToolipsServables.svg(\"window\", Dict{Symbol, Any}(:extras => ToolipsServables.AbstractComponent[], :style => \"background-color:#37002;display:inline-block;display:inline-block;\", :children => ToolipsServables.Servable[ToolipsServables.Component{:text}(\"aDI35mwR\", Dict{Symbol, Any}(:extras => ToolipsServables.AbstractComponent[], :style => \"fill:black;font-size:15pt;\", :children => ToolipsServables.AbstractComponent[], :y => 40, :text => \"age vs pay\", :x => 175), \"text\"), ToolipsServables.Component{:g}(\"title\", Dict{Symbol, Any}(:extras => ToolipsServables.AbstractComponent[], :children => ToolipsServables.AbstractComponent[], :height => 500, :text => \"\", :width => 500), \"g\"), ToolipsServables.Component{:g}(\"axes\", Dict{Symbol, Any}(:extras => ToolipsServables.AbstractComponent[], :children => ToolipsServables.AbstractComponent[ToolipsServables.Component{:line}(\"nsBOoYXQ\", Dict{Symbol, Any}(:extras => ToolipsServables.AbstractComponent[], :style => \"fill:none;stroke:black;stroke-width:4;stroke:gray;\", :children => ToolipsServables.AbstractComponent[], :y1 => 435, :x2 => 435, :text => \"\", :y2 => 435, :x1 => 60), \"line\"), ToolipsServables.Component{:line}(\"pEOYJhvM\", Dict{Symbol, Any}(:extras => ToolipsServables.AbstractComponent[], :style => \"fill:none;stroke:black;stroke-width:4;stroke:gray;\", :children => ToolipsServables.AbstractComponent[], :y1 => 60, :x2 => 60, :text => \"\", :y2 => 435, :x1 => 60), \"line\")], :height => 375, :text => \"\", :width => 375), \"g\"), ToolipsServables.Component{:g}(\"grid\", Dict{Symbol, Any}(:extras => ToolipsServables.AbstractComponent[], :children => ToolipsServables.AbstractComponent[ToolipsServables.Component{:line}(\"rjYFrI2Z\", Dict{Symbol, Any}(:extras => ToolipsServables.AbstractComponent[], :style => \"fill:none;stroke:lightblue;stroke-width:1;opacity:80%;stroke:white;stroke-width:2px;\", :children => ToolipsServables.AbstractComponent[], :y1 => 60, :x2 => 61, :text => \"\", :y2 => 435, :x1 => 61), \"line\"), ToolipsServables.Component{:line}(\"TbVxTfaN\", Dict{Symbol, Any}(:extras => ToolipsServables.AbstractComponent[], :style => \"fill:none;stroke:lightblue;stroke-width:1;opacity:80%;stroke:white;stroke-width:2px;\", :children => ToolipsServables.AbstractComponent[], :y1 => 61, :x2 => 435, :text => \"\", :y2 => 61, :x1 => 60), \"line\"), ToolipsServables.Component{:line}(\"CslqjuqA\", Dict{Symbol, Any}(:extras => ToolipsServables.AbstractComponent[], :style => \"fill:none;stroke:lightblue;stroke-width:1;opacity:80%;stroke:white;stroke-width:2px;\", :children => ToolipsServables.AbstractComponent[], :y1 => 60, :x2 => 155, :text => \"\", :y2 => 435, :x1 => 155), \"line\"), ToolipsServables.Component{:line}(\"iOLStWf1\", Dict{Symbol, Any}(:extras => ToolipsServables.AbstractComponent[], :style => \"fill:none;stroke:lightblue;stroke-width:1;opacity:80%;stroke:white;stroke-width:2px;\", :children => ToolipsServables.AbstractComponent[], :y1 => 155, :x2 => 435, :text => \"\", :y2 => 155, :x1 => 60), \"line\"), ToolipsServables.Component{:line}(\"U8WCrKlD\", Dict{Symbol, Any}(:extras => ToolipsServables.AbstractComponent[], :style => \"fill:none;stroke:lightblue;stroke-width:1;opacity:80%;stroke:white;stroke-width:2px;\", :children => ToolipsServables.AbstractComponent[], :y1 => 60, :x2 => 249, :text => \"\", :y2 => 435, :x1 => 249), \"line\"), ToolipsServables.Component{:line}(\"KteH8veA\", Dict{Symbol, Any}(:extras => ToolipsServables.AbstractComponent[], :style => \"fill:none;stroke:lightblue;stroke-width:1;opacity:80%;stroke:white;stroke-width:2px;\", :children => ToolipsServables.AbstractComponent[], :y1 => 249, :x2 => 435, :text => \"\", :y2 => 249, :x1 => 60), \"line\"), ToolipsServables.Component{:line}(\"ULsMkXTn\", Dict{Symbol, Any}(:extras => ToolipsServables.AbstractComponent[], :style => \"fill:none;stroke:lightblue;stroke-width:1;opacity:80%;stroke:white;stroke-width:2px;\", :children => ToolipsServables.AbstractComponent[], :y1 => 60, :x2 => 343, :text => \"\", :y2 => 435, :x1 => 343), \"line\"), ToolipsServables.Component{:line}(\"2BkAnFRq\", Dict{Symbol, Any}(:extras => ToolipsServables.AbstractComponent[], :style => \"fill:none;stroke:lightblue;stroke-width:1;opacity:80%;stroke:white;stroke-width:2px;\", :children => ToolipsServables.AbstractComponent[], :y1 => 343, :x2 => 435, :text => \"\", :y2 => 343, :x1 => 60), \"line\")], :height => 375, :text => \"\", :width => 375), \"g\"), ToolipsServables.Component{:g}(\"pay\", Dict{Symbol, Any}(:extras => ToolipsServables.AbstractComponent[], :children => ToolipsServables.Servable[ToolipsServables.Component{:circle}(\"pay-preview\", Dict{Symbol, Any}(:extras => ToolipsServables.AbstractComponent[], :children => ToolipsServables.AbstractComponent[], :cx => 382, :text => \"\", :r => 5, :cy => 362, :style => \"fill:#CCCC00;stroke:red;stroke-width:0;\"), \"circle\"), ToolipsServables.Component{:circle}(\"rV4jZR92\", Dict{Symbol, Any}(:extras => ToolipsServables.AbstractComponent[], :children => ToolipsServables.AbstractComponent[], :cx => 324, :text => \"\", :r => 5, :cy => 386, :style => \"fill:#CCCC00;stroke:red;stroke-width:1;\"), \"circle\"), ToolipsServables.Component{:circle}(\"3mkPjiUL\", Dict{Symbol, Any}(:extras => ToolipsServables.AbstractComponent[], :children => ToolipsServables.AbstractComponent[], :cx => 236, :text => \"\", :r => 5, :cy => 435, :style => \"fill:#CCCC00;stroke:red;stroke-width:1;\"), \"circle\"), ToolipsServables.Component{:circle}(\"K1rZZDs3\", Dict{Symbol, Any}(:extras => ToolipsServables.AbstractComponent[], :children => ToolipsServables.AbstractComponent[], :cx => 434, :text => \"\", :r => 5, :cy => 435, :style => \"fill:#CCCC00;stroke:red;stroke-width:1;\"), \"circle\"), ToolipsServables.Component{:circle}(\"rGAYTqaj\", Dict{Symbol, Any}(:extras => ToolipsServables.AbstractComponent[], :children => ToolipsServables.AbstractComponent[], :cx => 324, :text => \"\", :r => 5, :cy => 61, :style => \"fill:#CCCC00;stroke:red;stroke-width:1;\"), \"circle\"), ToolipsServables.Component{:circle}(\"NwB2RWLb\", Dict{Symbol, Any}(:extras => ToolipsServables.AbstractComponent[], :children => ToolipsServables.AbstractComponent[], :cx => 104, :text => \"\", :r => 5, :cy => 297, :style => \"fill:#CCCC00;stroke:red;stroke-width:3;\"), \"circle\"), ToolipsServables.Component{:circle}(\"5U7ICvmU\", Dict{Symbol, Any}(:extras => ToolipsServables.AbstractComponent[], :children => ToolipsServables.AbstractComponent[], :cx => 434, :text => \"\", :r => 5, :cy => 189, :style => \"fill:#CCCC00;stroke:red;stroke-width:1;\"), \"circle\")], :height => 375, :text => \"\", :width => 375), \"g\"), ToolipsServables.Component{:g}(\"labels\", Dict{Symbol, Any}(:extras => ToolipsServables.AbstractComponent[], :children => ToolipsServables.AbstractComponent[ToolipsServables.Component{:text}(\"HzigMouL\", Dict{Symbol, Any}(:extras => ToolipsServables.AbstractComponent[], :style => \"fill:black;font-size:10pt;fill:pink;\", :children => ToolipsServables.AbstractComponent[], :y => 425, :text => \"20\", :x => 80), \"text\"), ToolipsServables.Component{:text}(\"uDAz8GuP\", Dict{Symbol, Any}(:extras => ToolipsServables.AbstractComponent[], :style => \"fill:black;font-size:10pt;fill:pink;\", :children => ToolipsServables.AbstractComponent[], :y => 68, :text => \"46\", :x => 60), \"text\"), ToolipsServables.Component{:text}(\"dPgkHl2h\", Dict{Symbol, Any}(:extras => ToolipsServables.AbstractComponent[], :style => \"fill:black;font-size:10pt;fill:pink;\", :children => ToolipsServables.AbstractComponent[], :y => 425, :text => \"24.25\", :x => 174), \"text\"), ToolipsServables.Component{:text}(\"7zcNKul2\", Dict{Symbol, Any}(:extras => ToolipsServables.AbstractComponent[], :style => \"fill:black;font-size:10pt;fill:pink;\", :children => ToolipsServables.AbstractComponent[], :y => 162, :text => \"36.5\", :x => 60), \"text\"), ToolipsServables.Component{:text}(\"QR2cFEIV\", Dict{Symbol, Any}(:extras => ToolipsServables.AbstractComponent[], :style => \"fill:black;font-size:10pt;fill:pink;\", :children => ToolipsServables.AbstractComponent[], :y => 425, :text => \"28.5\", :x => 268), \"text\"), ToolipsServables.Component{:text}(\"aCBQkr8a\", Dict{Symbol, Any}(:extras => ToolipsServables.AbstractComponent[], :style => \"fill:black;font-size:10pt;fill:pink;\", :children => ToolipsServables.AbstractComponent[], :y => 256, :text => \"27.0\", :x => 60), \"text\"), ToolipsServables.Component{:text}(\"Krl59iKp\", Dict{Symbol, Any}(:extras => ToolipsServables.AbstractComponent[], :style => \"fill:black;font-size:10pt;fill:pink;\", :children => ToolipsServables.AbstractComponent[], :y => 425, :text => \"32.75\", :x => 362), \"text\"), ToolipsServables.Component{:text}(\"RC7ZgUm0\", Dict{Symbol, Any}(:extras => ToolipsServables.AbstractComponent[], :style => \"fill:black;font-size:10pt;fill:pink;\", :children => ToolipsServables.AbstractComponent[], :y => 350, :text => \"17.5\", :x => 60), \"text\")], :height => 375, :text => \"\", :width => 375), \"g\"), ToolipsServables.Component{:g}(\"axislabels\", Dict{Symbol, Any}(:extras => ToolipsServables.AbstractComponent[], :children => ToolipsServables.AbstractComponent[ToolipsServables.Component{:text}(\"dCb3qS0v\", Dict{Symbol, Any}(:extras => ToolipsServables.AbstractComponent[], :style => \"stroke:darkgray;font-size:12pt;\", :children => ToolipsServables.AbstractComponent[], :y => 405, :text => \"age\", :x => 248), \"text\"), ToolipsServables.Component{:text}(\"sumOiHic\", Dict{Symbol, Any}(:extras => ToolipsServables.AbstractComponent[], :style => \"stroke:darkgray;font-size:12pt;\", :children => ToolipsServables.AbstractComponent[], :y => 248, :text => \"pay\", :x => 0), \"text\")], :height => 375, :text => \"\", :width => 375), \"g\"), ToolipsServables.Component{:g}(\"legend\", Dict{Symbol, Any}(:extras => ToolipsServables.AbstractComponent[], :children => ToolipsServables.AbstractComponent[ToolipsServables.Component{:rect}(\"legendbg\", Dict{Symbol, Any}(:width => 100, :extras => ToolipsServables.AbstractComponent[], :style => \"stroke:darkgray;fill:white;stroke-width:2px;\", :children => ToolipsServables.AbstractComponent[], :y => 350, :height => 20, :text => \"\", :x => 370), \"rect\"), ToolipsServables.Component{:circle}(\"stroke-rep\", Dict{Symbol, Any}(:extras => ToolipsServables.AbstractComponent[], :children => ToolipsServables.AbstractComponent[], :cx => 382, :text => \"\", :r => 2, :cy => 350, :style => \"fill:transparent;stroke-width:2px;stroke:red;\"), \"circle\"), ToolipsServables.Component{:text}(\"accidents-label\", Dict{Symbol, Any}(:extras => ToolipsServables.AbstractComponent[], :style => \"stroke:darkgray;font-size:9pt;\", :children => ToolipsServables.AbstractComponent[], :y => 350.0, :text => \"accidents\", :x => 394), \"text\")], :text => \"\"), \"g\"), ToolipsServables.Component{:g}(\"legend\", Dict{Symbol, Any}(:extras => ToolipsServables.AbstractComponent[], :children => ToolipsServables.AbstractComponent[ToolipsServables.Component{:rect}(\"legendbg\", Dict{Symbol, Any}(:width => 100, :extras => ToolipsServables.AbstractComponent[], :style => \"stroke:darkgray;fill:white;stroke-width:2px;\", :children => ToolipsServables.AbstractComponent[], :y => 350, :height => 20, :text => \"\", :x => 370), \"rect\"), ToolipsServables.Component{:circle}(\"pay-preview\", Dict{Symbol, Any}(:extras => ToolipsServables.AbstractComponent[], :children => ToolipsServables.AbstractComponent[], :cx => 382, :text => \"\", :r => 5, :cy => 362, :style => \"fill:#CCCC00;stroke:red;stroke-width:0;\"), \"circle\"), ToolipsServables.Component{:text}(\"pay-label\", Dict{Symbol, Any}(:extras => ToolipsServables.AbstractComponent[], :style => \"stroke:darkgray;font-size:9pt;\", :children => ToolipsServables.AbstractComponent[], :y => 363.8, :text => \"pay\", :x => 394), \"text\")], :text => \"\"), \"g\")], :height => 500, :text => \"\", :width => 500), \"svg\"), ToolipsServables.svg(\"window\", Dict{Symbol, Any}(:extras => ToolipsServables.AbstractComponent[], :style => \"display:inline-block;display:inline-block;\", :children => ToolipsServables.Servable[ToolipsServables.Component{:text}(\"xOO8GQPL\", Dict{Symbol, Any}(:extras => ToolipsServables.AbstractComponent[], :style => \"fill:black;font-size:15pt;\", :children => ToolipsServables.AbstractComponent[], :y => 40, :text => \"who has more power?\", :x => 175), \"text\"), ToolipsServables.Component{:g}(\"title\", Dict{Symbol, Any}(:extras => ToolipsServables.AbstractComponent[], :children => ToolipsServables.AbstractComponent[], :height => 500, :text => \"\", :width => 500), \"g\"), ToolipsServables.Component{:g}(\"axes\", Dict{Symbol, Any}(:extras => ToolipsServables.AbstractComponent[], :children => ToolipsServables.AbstractComponent[ToolipsServables.Component{:line}(\"OexWmVGE\", Dict{Symbol, Any}(:extras => ToolipsServables.AbstractComponent[], :style => \"fill:none;stroke:black;stroke-width:4;\", :children => ToolipsServables.AbstractComponent[], :y1 => 435, :x2 => 435, :text => \"\", :y2 => 435, :x1 => 60), \"line\"), ToolipsServables.Component{:line}(\"8kmynYLG\", Dict{Symbol, Any}(:extras => ToolipsServables.AbstractComponent[], :style => \"fill:none;stroke:black;stroke-width:4;\", :children => ToolipsServables.AbstractComponent[], :y1 => 60, :x2 => 60, :text => \"\", :y2 => 435, :x1 => 60), \"line\")], :height => 375, :text => \"\", :width => 375), \"g\"), ToolipsServables.Component{:g}(\"grid\", Dict{Symbol, Any}(:extras => ToolipsServables.AbstractComponent[], :children => ToolipsServables.AbstractComponent[ToolipsServables.Component{:line}(\"69eGAi8e\", Dict{Symbol, Any}(:extras => ToolipsServables.AbstractComponent[], :style => \"fill:none;stroke:lightblue;stroke-width:1;opacity:80%;\", :children => ToolipsServables.AbstractComponent[], :y1 => 60, :x2 => 61, :text => \"\", :y2 => 435, :x1 => 61), \"line\"), ToolipsServables.Component{:line}(\"AhC9hMEJ\", Dict{Symbol, Any}(:extras => ToolipsServables.AbstractComponent[], :style => \"fill:none;stroke:lightblue;stroke-width:1;opacity:80%;\", :children => ToolipsServables.AbstractComponent[], :y1 => 61, :x2 => 435, :text => \"\", :y2 => 61, :x1 => 60), \"line\"), ToolipsServables.Component{:line}(\"apqFzJZs\", Dict{Symbol, Any}(:extras => ToolipsServables.AbstractComponent[], :style => \"fill:none;stroke:lightblue;stroke-width:1;opacity:80%;\", :children => ToolipsServables.AbstractComponent[], :y1 => 60, :x2 => 186, :text => \"\", :y2 => 435, :x1 => 186), \"line\"), ToolipsServables.Component{:line}(\"gZLyaScN\", Dict{Symbol, Any}(:extras => ToolipsServables.AbstractComponent[], :style => \"fill:none;stroke:lightblue;stroke-width:1;opacity:80%;\", :children => ToolipsServables.AbstractComponent[], :y1 => 186, :x2 => 435, :text => \"\", :y2 => 186, :x1 => 60), \"line\"), ToolipsServables.Component{:line}(\"IXgl07na\", Dict{Symbol, Any}(:extras => ToolipsServables.AbstractComponent[], :style => \"fill:none;stroke:lightblue;stroke-width:1;opacity:80%;\", :children => ToolipsServables.AbstractComponent[], :y1 => 60, :x2 => 311, :text => \"\", :y2 => 435, :x1 => 311), \"line\"), ToolipsServables.Component{:line}(\"KUXDrtlG\", Dict{Symbol, Any}(:extras => ToolipsServables.AbstractComponent[], :style => \"fill:none;stroke:lightblue;stroke-width:1;opacity:80%;\", :children => ToolipsServables.AbstractComponent[], :y1 => 311, :x2 => 435, :text => \"\", :y2 => 311, :x1 => 60), \"line\")], :height => 375, :text => \"\", :width => 375), \"g\"), ToolipsServables.Component{:g}(\"bars\", Dict{Symbol, Any}(:extras => ToolipsServables.AbstractComponent[], :children => ToolipsServables.Servable[ToolipsServables.Component{:rect}(\"OTHz35mD\", Dict{Symbol, Any}(:width => 125, :extras => ToolipsServables.AbstractComponent[], :style => \"fill:none;stroke:black;stroke-width:4;fill:pink;\", :children => ToolipsServables.AbstractComponent[], :y => 247, :height => 188, :text => \"\", :x => 60), \"rect\"), ToolipsServables.Component{:rect}(\"u2z9cJ6P\", Dict{Symbol, Any}(:width => 125, :extras => ToolipsServables.AbstractComponent[], :style => \"fill:none;stroke:black;stroke-width:4;fill:blue;\", :children => ToolipsServables.AbstractComponent[], :y => 304, :height => 131, :text => \"\", :x => 185), \"rect\"), ToolipsServables.Component{:rect}(\"A1WkGmxc\", Dict{Symbol, Any}(:width => 125, :extras => ToolipsServables.AbstractComponent[], :style => \"fill:none;stroke:black;stroke-width:4;fill:red;\", :children => ToolipsServables.AbstractComponent[], :y => 429, :height => 6, :text => \"\", :x => 310), \"rect\")], :height => 375, :text => \"\", :width => 375), \"g\"), ToolipsServables.Component{:g}(\"labels\", Dict{Symbol, Any}(:extras => ToolipsServables.AbstractComponent[], :children => ToolipsServables.AbstractComponent[ToolipsServables.Component{:text}(\"GblcAaoP\", Dict{Symbol, Any}(:extras => ToolipsServables.AbstractComponent[], :style => \"fill:black;font-size:11pt;\", :children => ToolipsServables.AbstractComponent[], :y => 300, :text => \"emmy\", :x => 80), \"text\"), ToolipsServables.Component{:text}(\"bz8tjVqZ\", Dict{Symbol, Any}(:extras => ToolipsServables.AbstractComponent[], :style => \"fill:black;font-size:11pt;\", :children => ToolipsServables.AbstractComponent[], :y => 300, :text => \"gilby\", :x => 205), \"text\"), ToolipsServables.Component{:text}(\"8eZ9ttRP\", Dict{Symbol, Any}(:extras => ToolipsServables.AbstractComponent[], :style => \"fill:black;font-size:11pt;\", :children => ToolipsServables.AbstractComponent[], :y => 300, :text => \"everyone else\", :x => 330), \"text\"), ToolipsServables.Component{:text}(\"oXpTjdZb\", Dict{Symbol, Any}(:extras => ToolipsServables.AbstractComponent[], :style => \"fill:black;font-size:10pt;\", :children => ToolipsServables.AbstractComponent[], :y => 128, :text => \"1000\", :x => 79), \"text\"), ToolipsServables.Component{:text}(\"qvoW1WZL\", Dict{Symbol, Any}(:extras => ToolipsServables.AbstractComponent[], :style => \"fill:black;font-size:10pt;\", :children => ToolipsServables.AbstractComponent[], :y => 253, :text => \"676.66\", :x => 79), \"text\"), ToolipsServables.Component{:text}(\"1Ji7GjKX\", Dict{Symbol, Any}(:extras => ToolipsServables.AbstractComponent[], :style => \"fill:black;font-size:10pt;\", :children => ToolipsServables.AbstractComponent[], :y => 378, :text => \"353.33\", :x => 79), \"text\")], :height => 375, :text => \"\", :width => 375), \"g\"), ToolipsServables.Component{:g}(\"axislabels\", Dict{Symbol, Any}(:extras => ToolipsServables.AbstractComponent[], :children => ToolipsServables.AbstractComponent[], :height => 375, :text => \"\", :width => 375), \"g\")], :height => 500, :text => \"\", :width => 500), \"svg\")], :text => \"\"), \"div\")"
      ]
     },
     "execution_count": 27,
     "metadata": {},
     "output_type": "execute_result"
    }
   ],
   "source": [
    "hcat(con, mybars)"
   ]
  },
  {
   "cell_type": "code",
   "execution_count": 26,
   "id": "fbad87d3-8503-4aae-8805-507ace83e493",
   "metadata": {},
   "outputs": [
    {
     "data": {
      "text/html": [
       "\"<svg id='window' height=500 width=500><g id='axes' height=250 width=250><line id='9l1fc1zi' x1=0 y1=250 x2=250 y2=250 style='fill:none;stroke:black;stroke-width:4;'></line><line id='noIXNvbL' x1=0 y1=0 x2=0 y2=250 style='fill:none;stroke:black;stroke-width:4;'></line></g><g id='grid' height=250 width=250><line id='5sadExSb' x1=1 y1=0 x2=1 y2=250 style='fill:none;stroke:lightblue;stroke-width:1;opacity:80%;'></line><line id='q2wnlb7i' x1=0 y1=1 x2=250 y2=1 style='fill:none;stroke:lightblue;stroke-width:1;opacity:80%;'></line><line id='1r50PvTK' x1=63 y1=0 x2=63 y2=250 style='fill:none;stroke:lightblue;stroke-width:1;opacity:80%;'></line><line id='Ytvr6eaK' x1=0 y1=63 x2=250 y2=63 style='fill:none;stroke:lightblue;stroke-width:1;opacity:80%;'></line><line id='YlG4ORLM' x1=125 y1=0 x2=125 y2=250 style='fill:none;stroke:lightblue;stroke-width:1;opacity:80%;'></line><line id='2i7p7F8Z' x1=0 y1=125 x2=250 y2=125 style='fill:none;stroke:lightblue;stroke-width:1;opacity:80%;'></line><line id='siWjmCHg' x1=187 y1=0 x2=187 y2=250 style='fill:none;stroke:lightblue;stroke-width:1;opacity:80%;'></line><line id='tRE9LF1B' x1=0 y1=187 x2=250 y2=187 style='fill:none;stroke:lightblue;stroke-width:1;opacity:80%;'></line><line id='0T3msELn' x1=249 y1=0 x2=249 y2=250 style='fill:none;stroke:lightblue;stroke-width:1;opacity:80%;'></line><line id='pemHm05s' x1=0 y1=249 x2=250 y2=249 style='fill:none;stroke:lightblue;stroke-width:1;opacity:80%;'></line></g><g id='bars' height=250 width=250><rect id='catVaeJF' style='stroke-width:1px;stroke:darkgray;fill:purple;' x=0 y=154 height=96 width=42></rect><rect id='zukApWKs' style='stroke-width:1px;stroke:darkgray;fill:pink;' x=42 y=48 height=202 width=42></rect><rect id='aePPd9IO' style='stroke-width:1px;stroke:darkgray;fill:orange;' x=84 y=250 height=0 width=42></rect><rect id='9DROTQc2' style='stroke-width:1px;stroke:darkgray;fill:blue;' x=126 y=245 height=5 width=42></rect><rect id='PG7FC3gG' style='stroke-width:1px;stroke:darkgray;fill:red;' x=168 y=128 height=122 width=42></rect><rect id='L1wkscON' style='stroke-width:1px;stroke:darkgray;fill:white;' x=210 y=0 height=250 width=42></rect></g><g id='labels' height=250 width=250><text id='rQJvORZA' x=7 y=200 style='stroke-width:0px;font-size:11pt;'>purple</text><text id='boGzPObE' x=49 y=200 style='stroke-width:0px;font-size:11pt;'>pink</text><text id='bb6D8VoQ' x=91 y=200 style='stroke-width:0px;font-size:11pt;'>orange</text><text id='gsMw0As4' x=133 y=200 style='stroke-width:0px;font-size:11pt;'>blue</text><text id='iKTv8iNW' x=175 y=200 style='stroke-width:0px;font-size:11pt;'>red</text><text id='Lf0ws4SD' x=217 y=200 style='stroke-width:0px;font-size:11pt;'>white</text></g><g id='grid2' height=250 width=250><line id='yJe4gYzq' x1=251 y1=0 x2=251 y2=250 style='stroke:pink;'></line><line id='Wy9YNnfU' x1=250 y1=1 x2=500 y2=1 style='stroke:pink;'></line><line id='NXqkVMKU' x1=313 y1=0 x2=313 y2=250 style='stroke:pink;'></line><line id='YygncoQ9' x1=250 y1=63 x2=500 y2=63 style='stroke:pink;'></line><line id='jYXx4OeE' x1=375 y1=0 x2=375 y2=250 style='stroke:pink;'></line><line id='EhYboaS3' x1=250 y1=125 x2=500 y2=125 style='stroke:pink;'></line><line id='Bq8pxJ7j' x1=437 y1=0 x2=437 y2=250 style='stroke:pink;'></line><line id='9bxHWZru' x1=250 y1=187 x2=500 y2=187 style='stroke:pink;'></line><line id='JJWJuoG2' x1=499 y1=0 x2=499 y2=250 style='stroke:pink;'></line><line id='U4843RJj' x1=250 y1=249 x2=500 y2=249 style='stroke:pink;'></line></g><g id='line' height=250 width=250><polyline id='newline' points='292&#32;148,333&#32;46,375&#32;240,417&#32;235,458&#32;122,500&#32;0,' style='fill:none;stroke:black;stroke-width:4;'></polyline></g><g id='labels' height=250 width=250><text id='WMHWnOak' x=204 y=240 style='fill:black;font-size:10pt;'>purple</text><text id='5PL2nuyn' x=250 y=-4 style='fill:black;font-size:10pt;'>49</text><text id='5bNNwoL3' x=266 y=240 style='fill:black;font-size:10pt;'>pink</text><text id='kGtsHb9S' x=250 y=58 style='fill:black;font-size:10pt;'>37.25</text><text id='AgWoxSU8' x=328 y=240 style='fill:black;font-size:10pt;'>orange</text><text id='oIQxmI08' x=250 y=120 style='fill:black;font-size:10pt;'>25.5</text><text id='AnIlE4Ti' x=390 y=240 style='fill:black;font-size:10pt;'>blue</text><text id='QbbAYcui' x=250 y=182 style='fill:black;font-size:10pt;'>13.75</text><text id='Rw4ftSKZ' x=452 y=240 style='fill:black;font-size:10pt;'>red</text><text id='sbFuG0hq' x=250 y=244 style='fill:black;font-size:10pt;'>2.0</text></g><g id='grid3' height=250 width=500><g id='axes' height=250 width=500><line id='ksl9tgYZ' x1=0 y1=500 x2=500 y2=500 style='fill:none;stroke:black;stroke-width:4;'></line><line id='Ce40cLv8' x1=0 y1=250 x2=0 y2=500 style='fill:none;stroke:black;stroke-width:4;'></line></g><g id='grid' height=250 width=500><line id='A7EhgivS' x1=1 y1=250 x2=1 y2=500 style='fill:none;stroke:lightblue;stroke-width:1;opacity:80%;'></line><line id='0LxuUyVU' x1=0 y1=251 x2=500 y2=251 style='fill:none;stroke:lightblue;stroke-width:1;opacity:80%;'></line><line id='gjwQMsTX' x1=126 y1=250 x2=126 y2=500 style='fill:none;stroke:lightblue;stroke-width:1;opacity:80%;'></line><line id='Ng5uFbTV' x1=0 y1=313 x2=500 y2=313 style='fill:none;stroke:lightblue;stroke-width:1;opacity:80%;'></line><line id='5LEy3M5q' x1=251 y1=250 x2=251 y2=500 style='fill:none;stroke:lightblue;stroke-width:1;opacity:80%;'></line><line id='LLiap9h3' x1=0 y1=375 x2=500 y2=375 style='fill:none;stroke:lightblue;stroke-width:1;opacity:80%;'></line><line id='8GQXl0rx' x1=376 y1=250 x2=376 y2=500 style='fill:none;stroke:lightblue;stroke-width:1;opacity:80%;'></line><line id='7cfg0ltg' x1=0 y1=437 x2=500 y2=437 style='fill:none;stroke:lightblue;stroke-width:1;opacity:80%;'></line></g><g id='points' height=250 width=500><circle id='oXT0Z4RD' cx=0 r=5 cy=500 style='fill:#FF6633;'></circle><circle id='vIXYXJ9v' cx=250 r=5 cy=376 style='fill:#FF6633;'></circle><circle id='QykiGCxj' cx=499 r=5 cy=251 style='fill:#FF6633;'></circle></g><g id='labels' height=250 width=500><text id='EJgSw53w' x=1 y=490 style='fill:black;font-size:10pt;'>1</text><text id='Y3EAYTQ7' x=0 y=251 style='fill:black;font-size:10pt;'>3</text><text id='rICxrVKO' x=126 y=490 style='fill:black;font-size:10pt;'>1.5</text><text id='4FkmEhjF' x=0 y=313 style='fill:black;font-size:10pt;'>2.5</text><text id='OWNtlo7U' x=251 y=490 style='fill:black;font-size:10pt;'>2.0</text><text id='saWl5k7U' x=0 y=375 style='fill:black;font-size:10pt;'>2.0</text><text id='5kIJobar' x=376 y=490 style='fill:black;font-size:10pt;'>2.5</text><text id='qgq3y1em' x=0 y=437 style='fill:black;font-size:10pt;'>1.5</text></g><g id='legend' ><rect id='legendbg' style='stroke:darkgray;fill:white;stroke-width:2px;' x=370 y=425 height=0 width=100></rect></g></g></svg>\""
      ]
     },
     "metadata": {},
     "output_type": "display_data"
    },
    {
     "data": {
      "text/html": [
       "\"<svg id='window' height=500 width=500><g id='axes' height=250 width=250><line id='9l1fc1zi' x1=0 y1=250 x2=250 y2=250 style='fill:none;stroke:black;stroke-width:4;'></line><line id='noIXNvbL' x1=0 y1=0 x2=0 y2=250 style='fill:none;stroke:black;stroke-width:4;'></line></g><g id='grid' height=250 width=250><line id='5sadExSb' x1=1 y1=0 x2=1 y2=250 style='fill:none;stroke:lightblue;stroke-width:1;opacity:80%;'></line><line id='q2wnlb7i' x1=0 y1=1 x2=250 y2=1 style='fill:none;stroke:lightblue;stroke-width:1;opacity:80%;'></line><line id='1r50PvTK' x1=63 y1=0 x2=63 y2=250 style='fill:none;stroke:lightblue;stroke-width:1;opacity:80%;'></line><line id='Ytvr6eaK' x1=0 y1=63 x2=250 y2=63 style='fill:none;stroke:lightblue;stroke-width:1;opacity:80%;'></line><line id='YlG4ORLM' x1=125 y1=0 x2=125 y2=250 style='fill:none;stroke:lightblue;stroke-width:1;opacity:80%;'></line><line id='2i7p7F8Z' x1=0 y1=125 x2=250 y2=125 style='fill:none;stroke:lightblue;stroke-width:1;opacity:80%;'></line><line id='siWjmCHg' x1=187 y1=0 x2=187 y2=250 style='fill:none;stroke:lightblue;stroke-width:1;opacity:80%;'></line><line id='tRE9LF1B' x1=0 y1=187 x2=250 y2=187 style='fill:none;stroke:lightblue;stroke-width:1;opacity:80%;'></line><line id='0T3msELn' x1=249 y1=0 x2=249 y2=250 style='fill:none;stroke:lightblue;stroke-width:1;opacity:80%;'></line><line id='pemHm05s' x1=0 y1=249 x2=250 y2=249 style='fill:none;stroke:lightblue;stroke-width:1;opacity:80%;'></line></g><g id='bars' height=250 width=250><rect id='catVaeJF' style='stroke-width:1px;stroke:darkgray;fill:purple;' x=0 y=154 height=96 width=42></rect><rect id='zukApWKs' style='stroke-width:1px;stroke:darkgray;fill:pink;' x=42 y=48 height=202 width=42></rect><rect id='aePPd9IO' style='stroke-width:1px;stroke:darkgray;fill:orange;' x=84 y=250 height=0 width=42></rect><rect id='9DROTQc2' style='stroke-width:1px;stroke:darkgray;fill:blue;' x=126 y=245 height=5 width=42></rect><rect id='PG7FC3gG' style='stroke-width:1px;stroke:darkgray;fill:red;' x=168 y=128 height=122 width=42></rect><rect id='L1wkscON' style='stroke-width:1px;stroke:darkgray;fill:white;' x=210 y=0 height=250 width=42></rect></g><g id='labels' height=250 width=250><text id='rQJvORZA' x=7 y=200 style='stroke-width:0px;font-size:11pt;'>purple</text><text id='boGzPObE' x=49 y=200 style='stroke-width:0px;font-size:11pt;'>pink</text><text id='bb6D8VoQ' x=91 y=200 style='stroke-width:0px;font-size:11pt;'>orange</text><text id='gsMw0As4' x=133 y=200 style='stroke-width:0px;font-size:11pt;'>blue</text><text id='iKTv8iNW' x=175 y=200 style='stroke-width:0px;font-size:11pt;'>red</text><text id='Lf0ws4SD' x=217 y=200 style='stroke-width:0px;font-size:11pt;'>white</text></g><g id='grid2' height=250 width=250><line id='yJe4gYzq' x1=251 y1=0 x2=251 y2=250 style='stroke:pink;'></line><line id='Wy9YNnfU' x1=250 y1=1 x2=500 y2=1 style='stroke:pink;'></line><line id='NXqkVMKU' x1=313 y1=0 x2=313 y2=250 style='stroke:pink;'></line><line id='YygncoQ9' x1=250 y1=63 x2=500 y2=63 style='stroke:pink;'></line><line id='jYXx4OeE' x1=375 y1=0 x2=375 y2=250 style='stroke:pink;'></line><line id='EhYboaS3' x1=250 y1=125 x2=500 y2=125 style='stroke:pink;'></line><line id='Bq8pxJ7j' x1=437 y1=0 x2=437 y2=250 style='stroke:pink;'></line><line id='9bxHWZru' x1=250 y1=187 x2=500 y2=187 style='stroke:pink;'></line><line id='JJWJuoG2' x1=499 y1=0 x2=499 y2=250 style='stroke:pink;'></line><line id='U4843RJj' x1=250 y1=249 x2=500 y2=249 style='stroke:pink;'></line></g><g id='line' height=250 width=250><polyline id='newline' points='292&#32;148,333&#32;46,375&#32;240,417&#32;235,458&#32;122,500&#32;0,' style='fill:none;stroke:black;stroke-width:4;'></polyline></g><g id='labels' height=250 width=250><text id='WMHWnOak' x=204 y=240 style='fill:black;font-size:10pt;'>purple</text><text id='5PL2nuyn' x=250 y=-4 style='fill:black;font-size:10pt;'>49</text><text id='5bNNwoL3' x=266 y=240 style='fill:black;font-size:10pt;'>pink</text><text id='kGtsHb9S' x=250 y=58 style='fill:black;font-size:10pt;'>37.25</text><text id='AgWoxSU8' x=328 y=240 style='fill:black;font-size:10pt;'>orange</text><text id='oIQxmI08' x=250 y=120 style='fill:black;font-size:10pt;'>25.5</text><text id='AnIlE4Ti' x=390 y=240 style='fill:black;font-size:10pt;'>blue</text><text id='QbbAYcui' x=250 y=182 style='fill:black;font-size:10pt;'>13.75</text><text id='Rw4ftSKZ' x=452 y=240 style='fill:black;font-size:10pt;'>red</text><text id='sbFuG0hq' x=250 y=244 style='fill:black;font-size:10pt;'>2.0</text></g><g id='grid3' height=250 width=500><g id='axes' height=250 width=500><line id='ksl9tgYZ' x1=0 y1=500 x2=500 y2=500 style='fill:none;stroke:black;stroke-width:4;'></line><line id='Ce40cLv8' x1=0 y1=250 x2=0 y2=500 style='fill:none;stroke:black;stroke-width:4;'></line></g><g id='grid' height=250 width=500><line id='A7EhgivS' x1=1 y1=250 x2=1 y2=500 style='fill:none;stroke:lightblue;stroke-width:1;opacity:80%;'></line><line id='0LxuUyVU' x1=0 y1=251 x2=500 y2=251 style='fill:none;stroke:lightblue;stroke-width:1;opacity:80%;'></line><line id='gjwQMsTX' x1=126 y1=250 x2=126 y2=500 style='fill:none;stroke:lightblue;stroke-width:1;opacity:80%;'></line><line id='Ng5uFbTV' x1=0 y1=313 x2=500 y2=313 style='fill:none;stroke:lightblue;stroke-width:1;opacity:80%;'></line><line id='5LEy3M5q' x1=251 y1=250 x2=251 y2=500 style='fill:none;stroke:lightblue;stroke-width:1;opacity:80%;'></line><line id='LLiap9h3' x1=0 y1=375 x2=500 y2=375 style='fill:none;stroke:lightblue;stroke-width:1;opacity:80%;'></line><line id='8GQXl0rx' x1=376 y1=250 x2=376 y2=500 style='fill:none;stroke:lightblue;stroke-width:1;opacity:80%;'></line><line id='7cfg0ltg' x1=0 y1=437 x2=500 y2=437 style='fill:none;stroke:lightblue;stroke-width:1;opacity:80%;'></line></g><g id='points' height=250 width=500><circle id='oXT0Z4RD' cx=0 r=5 cy=500 style='fill:#FF6633;'></circle><circle id='vIXYXJ9v' cx=250 r=5 cy=376 style='fill:#FF6633;'></circle><circle id='QykiGCxj' cx=499 r=5 cy=251 style='fill:#FF6633;'></circle></g><g id='labels' height=250 width=500><text id='EJgSw53w' x=1 y=490 style='fill:black;font-size:10pt;'>1</text><text id='Y3EAYTQ7' x=0 y=251 style='fill:black;font-size:10pt;'>3</text><text id='rICxrVKO' x=126 y=490 style='fill:black;font-size:10pt;'>1.5</text><text id='4FkmEhjF' x=0 y=313 style='fill:black;font-size:10pt;'>2.5</text><text id='OWNtlo7U' x=251 y=490 style='fill:black;font-size:10pt;'>2.0</text><text id='saWl5k7U' x=0 y=375 style='fill:black;font-size:10pt;'>2.0</text><text id='5kIJobar' x=376 y=490 style='fill:black;font-size:10pt;'>2.5</text><text id='qgq3y1em' x=0 y=437 style='fill:black;font-size:10pt;'>1.5</text></g><g id='legend' ><rect id='legendbg' style='stroke:darkgray;fill:white;stroke-width:2px;' x=370 y=425 height=0 width=100></rect></g></g></svg>\""
      ],
      "text/plain": []
     },
     "execution_count": 26,
     "metadata": {},
     "output_type": "execute_result"
    }
   ],
   "source": [
    "x = [\"purple\", \"pink\", \"orange\", \"blue\", \"red\", \"white\"]\n",
    "y = [20, 40, 2, 3, 25, 49]\n",
    "mycon = context(500, 500) do con::Context\n",
    "    group(con, 250, 250) do firstvis::Group\n",
    "        group!(firstvis, \"axes\") do g::Group\n",
    "            Gattino.axes!(g)\n",
    "        end\n",
    "        group!(firstvis, \"grid\") do g::Group\n",
    "            Gattino.grid!(g, 4)\n",
    "        end\n",
    "        group!(firstvis, \"bars\") do g::Group\n",
    "            Gattino.bars!(g, x, y, \"stroke-width\" => 1px, \"stroke\" => \"darkgray\")\n",
    "            [style!(comp, \"fill\" => color) for (comp, color) in zip(g.window[:children], x)]\n",
    "        end\n",
    "        group!(firstvis, \"labels\") do g::Group\n",
    "            Gattino.barlabels!(g, x, \"stroke-width\" => 0px, \"font-size\" => 11pt)\n",
    "        end\n",
    "    end\n",
    "    group(con, 250, 250, 250 => 0) do secondvis::Group\n",
    "        group!(secondvis, \"grid2\") do g::Group\n",
    "            Gattino.grid!(g, 4, \"stroke\" => \"pink\")\n",
    "        end\n",
    "        group!(secondvis, \"line\") do g::Group\n",
    "            Gattino.line!(g, x, y)\n",
    "        end\n",
    "        group!(secondvis, \"labels\") do g::Group\n",
    "            Gattino.gridlabels!(g, x, y, 4)\n",
    "        end\n",
    "    end\n",
    "    group(con, 500, 250, 0 => 250) do bottomvis::Group\n",
    "        group!(bottomvis, \"grid3\") do g::Group\n",
    "            Gattino.scatter_plot!(g, [1, 2, 3], [1, 2, 3])\n",
    "        end\n",
    "    end\n",
    "end\n"
   ]
  },
  {
   "cell_type": "code",
   "execution_count": 31,
   "id": "b8141483-dfcd-4edc-8864-dcf50de580eb",
   "metadata": {},
   "outputs": [
    {
     "data": {
      "text/latex": [
       "\\begin{tabular}\n",
       "{l | r | l}\n",
       "name & size & summary \\\\\n",
       "\\hline\n",
       "Base &  & Module \\\\\n",
       "Core &  & Module \\\\\n",
       "Main &  & Module \\\\\n",
       "accidents & 96 bytes & 7-element Vector\\{Int64\\} \\\\\n",
       "con & 26.819 KiB & Context \\\\\n",
       "df & 824 bytes & 7×2 DataFrame \\\\\n",
       "emptycircle & 677 bytes & ToolipsServables.Component\\{:circle\\} \\\\\n",
       "mybars & 15.789 KiB & Context \\\\\n",
       "mycon & 50.551 KiB & Context \\\\\n",
       "x & 164 bytes & 6-element Vector\\{String\\} \\\\\n",
       "y & 88 bytes & 6-element Vector\\{Int64\\} \\\\\n",
       "\\end{tabular}\n"
      ],
      "text/markdown": [
       "| name        |       size | summary                             |\n",
       "|:----------- | ----------:|:----------------------------------- |\n",
       "| Base        |            | Module                              |\n",
       "| Core        |            | Module                              |\n",
       "| Main        |            | Module                              |\n",
       "| accidents   |   96 bytes | 7-element Vector{Int64}             |\n",
       "| con         | 26.819 KiB | Context                             |\n",
       "| df          |  824 bytes | 7×2 DataFrame                       |\n",
       "| emptycircle |  677 bytes | ToolipsServables.Component{:circle} |\n",
       "| mybars      | 15.789 KiB | Context                             |\n",
       "| mycon       | 50.551 KiB | Context                             |\n",
       "| x           |  164 bytes | 6-element Vector{String}            |\n",
       "| y           |   88 bytes | 6-element Vector{Int64}             |\n"
      ],
      "text/plain": [
       "  name              size summary                            \n",
       "  ––––––––––– –––––––––– –––––––––––––––––––––––––––––––––––\n",
       "  Base                   Module                             \n",
       "  Core                   Module                             \n",
       "  Main                   Module                             \n",
       "  accidents     96 bytes 7-element Vector{Int64}            \n",
       "  con         26.819 KiB Context                            \n",
       "  df           824 bytes 7×2 DataFrame                      \n",
       "  emptycircle  677 bytes ToolipsServables.Component{:circle}\n",
       "  mybars      15.789 KiB Context                            \n",
       "  mycon       50.551 KiB Context                            \n",
       "  x            164 bytes 6-element Vector{String}           \n",
       "  y             88 bytes 6-element Vector{Int64}            "
      ]
     },
     "execution_count": 31,
     "metadata": {},
     "output_type": "execute_result"
    }
   ],
   "source": [
    "varinfo()"
   ]
  },
  {
   "cell_type": "code",
   "execution_count": 37,
   "id": "64905618-fc27-473c-ba53-c07d81a74616",
   "metadata": {},
   "outputs": [
    {
     "data": {
      "image/png": "[encoded data removed]",
      "image/svg+xml": [
       "<?xml version=\"1.0\" encoding=\"utf-8\"?>\n",
       "<svg xmlns=\"http://www.w3.org/2000/svg\" xmlns:xlink=\"http://www.w3.org/1999/xlink\" width=\"600\" height=\"400\" viewBox=\"0 0 2400 1600\">\n",
       "<defs>\n",
       "  <clipPath id=\"clip150\">\n",
       "    <rect x=\"0\" y=\"0\" width=\"2400\" height=\"1600\"/>\n",
       "  </clipPath>\n",
       "</defs>\n",
       "<path clip-path=\"url(#clip150)\" d=\"M0 1600 L2400 1600 L2400 0 L0 0  Z\" fill=\"#ffffff\" fill-rule=\"evenodd\" fill-opacity=\"1\"/>\n",
       "<defs>\n",
       "  <clipPath id=\"clip151\">\n",
       "    <rect x=\"480\" y=\"0\" width=\"1681\" height=\"1600\"/>\n",
       "  </clipPath>\n",
       "</defs>\n",
       "<path clip-path=\"url(#clip150)\" d=\"M141.853 1486.45 L2352.76 1486.45 L2352.76 47.2441 L141.853 47.2441  Z\" fill=\"#ffffff\" fill-rule=\"evenodd\" fill-opacity=\"1\"/>\n",
       "<defs>\n",
       "  <clipPath id=\"clip152\">\n",
       "    <rect x=\"141\" y=\"47\" width=\"2212\" height=\"1440\"/>\n",
       "  </clipPath>\n",
       "</defs>\n",
       "<polyline clip-path=\"url(#clip152)\" style=\"stroke:#000000; stroke-linecap:round; stroke-linejoin:round; stroke-width:2; stroke-opacity:0.1; fill:none\" points=\"320.301,1486.45 320.301,47.2441 \"/>\n",
       "<polyline clip-path=\"url(#clip152)\" style=\"stroke:#000000; stroke-linecap:round; stroke-linejoin:round; stroke-width:2; stroke-opacity:0.1; fill:none\" points=\"899.678,1486.45 899.678,47.2441 \"/>\n",
       "<polyline clip-path=\"url(#clip152)\" style=\"stroke:#000000; stroke-linecap:round; stroke-linejoin:round; stroke-width:2; stroke-opacity:0.1; fill:none\" points=\"1479.06,1486.45 1479.06,47.2441 \"/>\n",
       "<polyline clip-path=\"url(#clip152)\" style=\"stroke:#000000; stroke-linecap:round; stroke-linejoin:round; stroke-width:2; stroke-opacity:0.1; fill:none\" points=\"2058.43,1486.45 2058.43,47.2441 \"/>\n",
       "<polyline clip-path=\"url(#clip150)\" style=\"stroke:#000000; stroke-linecap:round; stroke-linejoin:round; stroke-width:4; stroke-opacity:1; fill:none\" points=\"141.853,1486.45 2352.76,1486.45 \"/>\n",
       "<polyline clip-path=\"url(#clip150)\" style=\"stroke:#000000; stroke-linecap:round; stroke-linejoin:round; stroke-width:4; stroke-opacity:1; fill:none\" points=\"320.301,1486.45 320.301,1467.55 \"/>\n",
       "<polyline clip-path=\"url(#clip150)\" style=\"stroke:#000000; stroke-linecap:round; stroke-linejoin:round; stroke-width:4; stroke-opacity:1; fill:none\" points=\"899.678,1486.45 899.678,1467.55 \"/>\n",
       "<polyline clip-path=\"url(#clip150)\" style=\"stroke:#000000; stroke-linecap:round; stroke-linejoin:round; stroke-width:4; stroke-opacity:1; fill:none\" points=\"1479.06,1486.45 1479.06,1467.55 \"/>\n",
       "<polyline clip-path=\"url(#clip150)\" style=\"stroke:#000000; stroke-linecap:round; stroke-linejoin:round; stroke-width:4; stroke-opacity:1; fill:none\" points=\"2058.43,1486.45 2058.43,1467.55 \"/>\n",
       "<path clip-path=\"url(#clip150)\" d=\"M310.579 1514.29 L328.935 1514.29 L328.935 1518.22 L314.861 1518.22 L314.861 1526.7 Q315.88 1526.35 316.898 1526.19 Q317.917 1526 318.935 1526 Q324.722 1526 328.102 1529.17 Q331.482 1532.34 331.482 1537.76 Q331.482 1543.34 328.009 1546.44 Q324.537 1549.52 318.218 1549.52 Q316.042 1549.52 313.773 1549.15 Q311.528 1548.78 309.121 1548.04 L309.121 1543.34 Q311.204 1544.47 313.426 1545.03 Q315.648 1545.58 318.125 1545.58 Q322.13 1545.58 324.468 1543.48 Q326.806 1541.37 326.806 1537.76 Q326.806 1534.15 324.468 1532.04 Q322.13 1529.94 318.125 1529.94 Q316.25 1529.94 314.375 1530.35 Q312.523 1530.77 310.579 1531.65 L310.579 1514.29 Z\" fill=\"#000000\" fill-rule=\"nonzero\" fill-opacity=\"1\" /><path clip-path=\"url(#clip150)\" d=\"M874.366 1544.91 L882.005 1544.91 L882.005 1518.55 L873.695 1520.21 L873.695 1515.95 L881.958 1514.29 L886.634 1514.29 L886.634 1544.91 L894.273 1544.91 L894.273 1548.85 L874.366 1548.85 L874.366 1544.91 Z\" fill=\"#000000\" fill-rule=\"nonzero\" fill-opacity=\"1\" /><path clip-path=\"url(#clip150)\" d=\"M913.717 1517.37 Q910.106 1517.37 908.278 1520.93 Q906.472 1524.47 906.472 1531.6 Q906.472 1538.71 908.278 1542.27 Q910.106 1545.82 913.717 1545.82 Q917.352 1545.82 919.157 1542.27 Q920.986 1538.71 920.986 1531.6 Q920.986 1524.47 919.157 1520.93 Q917.352 1517.37 913.717 1517.37 M913.717 1513.66 Q919.528 1513.66 922.583 1518.27 Q925.662 1522.85 925.662 1531.6 Q925.662 1540.33 922.583 1544.94 Q919.528 1549.52 913.717 1549.52 Q907.907 1549.52 904.829 1544.94 Q901.773 1540.33 901.773 1531.6 Q901.773 1522.85 904.829 1518.27 Q907.907 1513.66 913.717 1513.66 Z\" fill=\"#000000\" fill-rule=\"nonzero\" fill-opacity=\"1\" /><path clip-path=\"url(#clip150)\" d=\"M1454.24 1544.91 L1461.88 1544.91 L1461.88 1518.55 L1453.57 1520.21 L1453.57 1515.95 L1461.83 1514.29 L1466.51 1514.29 L1466.51 1544.91 L1474.15 1544.91 L1474.15 1548.85 L1454.24 1548.85 L1454.24 1544.91 Z\" fill=\"#000000\" fill-rule=\"nonzero\" fill-opacity=\"1\" /><path clip-path=\"url(#clip150)\" d=\"M1483.64 1514.29 L1501.99 1514.29 L1501.99 1518.22 L1487.92 1518.22 L1487.92 1526.7 Q1488.94 1526.35 1489.96 1526.19 Q1490.98 1526 1492 1526 Q1497.78 1526 1501.16 1529.17 Q1504.54 1532.34 1504.54 1537.76 Q1504.54 1543.34 1501.07 1546.44 Q1497.6 1549.52 1491.28 1549.52 Q1489.1 1549.52 1486.83 1549.15 Q1484.59 1548.78 1482.18 1548.04 L1482.18 1543.34 Q1484.26 1544.47 1486.49 1545.03 Q1488.71 1545.58 1491.18 1545.58 Q1495.19 1545.58 1497.53 1543.48 Q1499.87 1541.37 1499.87 1537.76 Q1499.87 1534.15 1497.53 1532.04 Q1495.19 1529.94 1491.18 1529.94 Q1489.31 1529.94 1487.43 1530.35 Q1485.58 1530.77 1483.64 1531.65 L1483.64 1514.29 Z\" fill=\"#000000\" fill-rule=\"nonzero\" fill-opacity=\"1\" /><path clip-path=\"url(#clip150)\" d=\"M2037.21 1544.91 L2053.52 1544.91 L2053.52 1548.85 L2031.58 1548.85 L2031.58 1544.91 Q2034.24 1542.16 2038.83 1537.53 Q2043.43 1532.88 2044.61 1531.53 Q2046.86 1529.01 2047.74 1527.27 Q2048.64 1525.51 2048.64 1523.82 Q2048.64 1521.07 2046.7 1519.33 Q2044.78 1517.6 2041.67 1517.6 Q2039.47 1517.6 2037.02 1518.36 Q2034.59 1519.13 2031.81 1520.68 L2031.81 1515.95 Q2034.64 1514.82 2037.09 1514.24 Q2039.54 1513.66 2041.58 1513.66 Q2046.95 1513.66 2050.15 1516.35 Q2053.34 1519.03 2053.34 1523.52 Q2053.34 1525.65 2052.53 1527.57 Q2051.74 1529.47 2049.64 1532.07 Q2049.06 1532.74 2045.96 1535.95 Q2042.85 1539.15 2037.21 1544.91 Z\" fill=\"#000000\" fill-rule=\"nonzero\" fill-opacity=\"1\" /><path clip-path=\"url(#clip150)\" d=\"M2073.34 1517.37 Q2069.73 1517.37 2067.9 1520.93 Q2066.09 1524.47 2066.09 1531.6 Q2066.09 1538.71 2067.9 1542.27 Q2069.73 1545.82 2073.34 1545.82 Q2076.97 1545.82 2078.78 1542.27 Q2080.61 1538.71 2080.61 1531.6 Q2080.61 1524.47 2078.78 1520.93 Q2076.97 1517.37 2073.34 1517.37 M2073.34 1513.66 Q2079.15 1513.66 2082.21 1518.27 Q2085.28 1522.85 2085.28 1531.6 Q2085.28 1540.33 2082.21 1544.94 Q2079.15 1549.52 2073.34 1549.52 Q2067.53 1549.52 2064.45 1544.94 Q2061.4 1540.33 2061.4 1531.6 Q2061.4 1522.85 2064.45 1518.27 Q2067.53 1513.66 2073.34 1513.66 Z\" fill=\"#000000\" fill-rule=\"nonzero\" fill-opacity=\"1\" /><polyline clip-path=\"url(#clip152)\" style=\"stroke:#000000; stroke-linecap:round; stroke-linejoin:round; stroke-width:2; stroke-opacity:0.1; fill:none\" points=\"141.853,1187.1 2352.76,1187.1 \"/>\n",
       "<polyline clip-path=\"url(#clip152)\" style=\"stroke:#000000; stroke-linecap:round; stroke-linejoin:round; stroke-width:2; stroke-opacity:0.1; fill:none\" points=\"141.853,863.827 2352.76,863.827 \"/>\n",
       "<polyline clip-path=\"url(#clip152)\" style=\"stroke:#000000; stroke-linecap:round; stroke-linejoin:round; stroke-width:2; stroke-opacity:0.1; fill:none\" points=\"141.853,540.556 2352.76,540.556 \"/>\n",
       "<polyline clip-path=\"url(#clip152)\" style=\"stroke:#000000; stroke-linecap:round; stroke-linejoin:round; stroke-width:2; stroke-opacity:0.1; fill:none\" points=\"141.853,217.285 2352.76,217.285 \"/>\n",
       "<polyline clip-path=\"url(#clip150)\" style=\"stroke:#000000; stroke-linecap:round; stroke-linejoin:round; stroke-width:4; stroke-opacity:1; fill:none\" points=\"141.853,1486.45 141.853,47.2441 \"/>\n",
       "<polyline clip-path=\"url(#clip150)\" style=\"stroke:#000000; stroke-linecap:round; stroke-linejoin:round; stroke-width:4; stroke-opacity:1; fill:none\" points=\"141.853,1187.1 160.751,1187.1 \"/>\n",
       "<polyline clip-path=\"url(#clip150)\" style=\"stroke:#000000; stroke-linecap:round; stroke-linejoin:round; stroke-width:4; stroke-opacity:1; fill:none\" points=\"141.853,863.827 160.751,863.827 \"/>\n",
       "<polyline clip-path=\"url(#clip150)\" style=\"stroke:#000000; stroke-linecap:round; stroke-linejoin:round; stroke-width:4; stroke-opacity:1; fill:none\" points=\"141.853,540.556 160.751,540.556 \"/>\n",
       "<polyline clip-path=\"url(#clip150)\" style=\"stroke:#000000; stroke-linecap:round; stroke-linejoin:round; stroke-width:4; stroke-opacity:1; fill:none\" points=\"141.853,217.285 160.751,217.285 \"/>\n",
       "<path clip-path=\"url(#clip150)\" d=\"M54.5569 1200.44 L62.1958 1200.44 L62.1958 1174.08 L53.8856 1175.74 L53.8856 1171.49 L62.1495 1169.82 L66.8254 1169.82 L66.8254 1200.44 L74.4642 1200.44 L74.4642 1204.38 L54.5569 1204.38 L54.5569 1200.44 Z\" fill=\"#000000\" fill-rule=\"nonzero\" fill-opacity=\"1\" /><path clip-path=\"url(#clip150)\" d=\"M93.9086 1172.9 Q90.2975 1172.9 88.4688 1176.46 Q86.6632 1180 86.6632 1187.13 Q86.6632 1194.24 88.4688 1197.8 Q90.2975 1201.35 93.9086 1201.35 Q97.5428 1201.35 99.3483 1197.8 Q101.177 1194.24 101.177 1187.13 Q101.177 1180 99.3483 1176.46 Q97.5428 1172.9 93.9086 1172.9 M93.9086 1169.19 Q99.7187 1169.19 102.774 1173.8 Q105.853 1178.38 105.853 1187.13 Q105.853 1195.86 102.774 1200.47 Q99.7187 1205.05 93.9086 1205.05 Q88.0984 1205.05 85.0197 1200.47 Q81.9642 1195.86 81.9642 1187.13 Q81.9642 1178.38 85.0197 1173.8 Q88.0984 1169.19 93.9086 1169.19 Z\" fill=\"#000000\" fill-rule=\"nonzero\" fill-opacity=\"1\" /><path clip-path=\"url(#clip150)\" d=\"M57.7745 877.172 L74.0939 877.172 L74.0939 881.107 L52.1495 881.107 L52.1495 877.172 Q54.8115 874.418 59.3949 869.788 Q64.0013 865.135 65.1819 863.793 Q67.4272 861.27 68.3068 859.533 Q69.2096 857.774 69.2096 856.084 Q69.2096 853.33 67.2652 851.594 Q65.3439 849.858 62.2421 849.858 Q60.043 849.858 57.5893 850.621 Q55.1588 851.385 52.381 852.936 L52.381 848.214 Q55.2051 847.08 57.6588 846.501 Q60.1124 845.922 62.1495 845.922 Q67.5198 845.922 70.7142 848.608 Q73.9087 851.293 73.9087 855.783 Q73.9087 857.913 73.0985 859.834 Q72.3115 861.732 70.205 864.325 Q69.6263 864.996 66.5245 868.214 Q63.4226 871.408 57.7745 877.172 Z\" fill=\"#000000\" fill-rule=\"nonzero\" fill-opacity=\"1\" /><path clip-path=\"url(#clip150)\" d=\"M93.9086 849.626 Q90.2975 849.626 88.4688 853.191 Q86.6632 856.733 86.6632 863.862 Q86.6632 870.969 88.4688 874.533 Q90.2975 878.075 93.9086 878.075 Q97.5428 878.075 99.3483 874.533 Q101.177 870.969 101.177 863.862 Q101.177 856.733 99.3483 853.191 Q97.5428 849.626 93.9086 849.626 M93.9086 845.922 Q99.7187 845.922 102.774 850.529 Q105.853 855.112 105.853 863.862 Q105.853 872.589 102.774 877.195 Q99.7187 881.779 93.9086 881.779 Q88.0984 881.779 85.0197 877.195 Q81.9642 872.589 81.9642 863.862 Q81.9642 855.112 85.0197 850.529 Q88.0984 845.922 93.9086 845.922 Z\" fill=\"#000000\" fill-rule=\"nonzero\" fill-opacity=\"1\" /><path clip-path=\"url(#clip150)\" d=\"M67.9133 539.202 Q71.2698 539.92 73.1448 542.188 Q75.0429 544.457 75.0429 547.79 Q75.0429 552.906 71.5244 555.706 Q68.0059 558.507 61.5245 558.507 Q59.3486 558.507 57.0338 558.068 Q54.7421 557.651 52.2884 556.794 L52.2884 552.281 Q54.2328 553.415 56.5477 553.994 Q58.8625 554.572 61.3856 554.572 Q65.7837 554.572 68.0754 552.836 Q70.3902 551.1 70.3902 547.79 Q70.3902 544.734 68.2374 543.021 Q66.1078 541.285 62.2884 541.285 L58.2606 541.285 L58.2606 537.443 L62.4735 537.443 Q65.9226 537.443 67.7513 536.077 Q69.58 534.688 69.58 532.095 Q69.58 529.433 67.6819 528.021 Q65.8069 526.586 62.2884 526.586 Q60.3671 526.586 58.168 527.003 Q55.969 527.42 53.3301 528.299 L53.3301 524.133 Q55.9921 523.392 58.3069 523.021 Q60.6449 522.651 62.705 522.651 Q68.0291 522.651 71.1309 525.082 Q74.2327 527.489 74.2327 531.609 Q74.2327 534.48 72.5892 536.47 Q70.9457 538.438 67.9133 539.202 Z\" fill=\"#000000\" fill-rule=\"nonzero\" fill-opacity=\"1\" /><path clip-path=\"url(#clip150)\" d=\"M93.9086 526.355 Q90.2975 526.355 88.4688 529.92 Q86.6632 533.461 86.6632 540.591 Q86.6632 547.697 88.4688 551.262 Q90.2975 554.804 93.9086 554.804 Q97.5428 554.804 99.3483 551.262 Q101.177 547.697 101.177 540.591 Q101.177 533.461 99.3483 529.92 Q97.5428 526.355 93.9086 526.355 M93.9086 522.651 Q99.7187 522.651 102.774 527.258 Q105.853 531.841 105.853 540.591 Q105.853 549.318 102.774 553.924 Q99.7187 558.507 93.9086 558.507 Q88.0984 558.507 85.0197 553.924 Q81.9642 549.318 81.9642 540.591 Q81.9642 531.841 85.0197 527.258 Q88.0984 522.651 93.9086 522.651 Z\" fill=\"#000000\" fill-rule=\"nonzero\" fill-opacity=\"1\" /><path clip-path=\"url(#clip150)\" d=\"M66.5939 204.079 L54.7884 222.528 L66.5939 222.528 L66.5939 204.079 M65.367 200.005 L71.2466 200.005 L71.2466 222.528 L76.1772 222.528 L76.1772 226.417 L71.2466 226.417 L71.2466 234.565 L66.5939 234.565 L66.5939 226.417 L50.9921 226.417 L50.9921 221.903 L65.367 200.005 Z\" fill=\"#000000\" fill-rule=\"nonzero\" fill-opacity=\"1\" /><path clip-path=\"url(#clip150)\" d=\"M93.9086 203.083 Q90.2975 203.083 88.4688 206.648 Q86.6632 210.19 86.6632 217.32 Q86.6632 224.426 88.4688 227.991 Q90.2975 231.532 93.9086 231.532 Q97.5428 231.532 99.3483 227.991 Q101.177 224.426 101.177 217.32 Q101.177 210.19 99.3483 206.648 Q97.5428 203.083 93.9086 203.083 M93.9086 199.38 Q99.7187 199.38 102.774 203.986 Q105.853 208.57 105.853 217.32 Q105.853 226.046 102.774 230.653 Q99.7187 235.236 93.9086 235.236 Q88.0984 235.236 85.0197 230.653 Q81.9642 226.046 81.9642 217.32 Q81.9642 208.57 85.0197 203.986 Q88.0984 199.38 93.9086 199.38 Z\" fill=\"#000000\" fill-rule=\"nonzero\" fill-opacity=\"1\" /><polyline clip-path=\"url(#clip152)\" style=\"stroke:#009af9; stroke-linecap:round; stroke-linejoin:round; stroke-width:4; stroke-opacity:1; fill:none\" points=\"320.301,1348.73 899.678,1445.72 204.426,1413.39 2290.18,87.9763 320.301,1445.72 \"/>\n",
       "<path clip-path=\"url(#clip150)\" d=\"M215.55 198.898 L489.07 198.898 L489.07 95.2176 L215.55 95.2176  Z\" fill=\"#ffffff\" fill-rule=\"evenodd\" fill-opacity=\"1\"/>\n",
       "<polyline clip-path=\"url(#clip150)\" style=\"stroke:#000000; stroke-linecap:round; stroke-linejoin:round; stroke-width:4; stroke-opacity:1; fill:none\" points=\"215.55,198.898 489.07,198.898 489.07,95.2176 215.55,95.2176 215.55,198.898 \"/>\n",
       "<polyline clip-path=\"url(#clip150)\" style=\"stroke:#009af9; stroke-linecap:round; stroke-linejoin:round; stroke-width:4; stroke-opacity:1; fill:none\" points=\"240.115,147.058 387.509,147.058 \"/>\n",
       "<path clip-path=\"url(#clip150)\" d=\"M425.917 166.745 Q424.111 171.375 422.398 172.787 Q420.685 174.199 417.815 174.199 L414.412 174.199 L414.412 170.634 L416.912 170.634 Q418.672 170.634 419.644 169.8 Q420.616 168.967 421.797 165.865 L422.56 163.921 L412.074 138.412 L416.588 138.412 L424.69 158.689 L432.792 138.412 L437.306 138.412 L425.917 166.745 Z\" fill=\"#000000\" fill-rule=\"nonzero\" fill-opacity=\"1\" /><path clip-path=\"url(#clip150)\" d=\"M444.597 160.402 L452.236 160.402 L452.236 134.037 L443.926 135.703 L443.926 131.444 L452.19 129.778 L456.866 129.778 L456.866 160.402 L464.505 160.402 L464.505 164.338 L444.597 164.338 L444.597 160.402 Z\" fill=\"#000000\" fill-rule=\"nonzero\" fill-opacity=\"1\" /></svg>\n"
      ],
      "text/html": [
       "<?xml version=\"1.0\" encoding=\"utf-8\"?>\n",
       "<svg xmlns=\"http://www.w3.org/2000/svg\" xmlns:xlink=\"http://www.w3.org/1999/xlink\" width=\"600\" height=\"400\" viewBox=\"0 0 2400 1600\">\n",
       "<defs>\n",
       "  <clipPath id=\"clip200\">\n",
       "    <rect x=\"0\" y=\"0\" width=\"2400\" height=\"1600\"/>\n",
       "  </clipPath>\n",
       "</defs>\n",
       "<path clip-path=\"url(#clip200)\" d=\"M0 1600 L2400 1600 L2400 0 L0 0  Z\" fill=\"#ffffff\" fill-rule=\"evenodd\" fill-opacity=\"1\"/>\n",
       "<defs>\n",
       "  <clipPath id=\"clip201\">\n",
       "    <rect x=\"480\" y=\"0\" width=\"1681\" height=\"1600\"/>\n",
       "  </clipPath>\n",
       "</defs>\n",
       "<path clip-path=\"url(#clip200)\" d=\"M141.853 1486.45 L2352.76 1486.45 L2352.76 47.2441 L141.853 47.2441  Z\" fill=\"#ffffff\" fill-rule=\"evenodd\" fill-opacity=\"1\"/>\n",
       "<defs>\n",
       "  <clipPath id=\"clip202\">\n",
       "    <rect x=\"141\" y=\"47\" width=\"2212\" height=\"1440\"/>\n",
       "  </clipPath>\n",
       "</defs>\n",
       "<polyline clip-path=\"url(#clip202)\" style=\"stroke:#000000; stroke-linecap:round; stroke-linejoin:round; stroke-width:2; stroke-opacity:0.1; fill:none\" points=\"320.301,1486.45 320.301,47.2441 \"/>\n",
       "<polyline clip-path=\"url(#clip202)\" style=\"stroke:#000000; stroke-linecap:round; stroke-linejoin:round; stroke-width:2; stroke-opacity:0.1; fill:none\" points=\"899.678,1486.45 899.678,47.2441 \"/>\n",
       "<polyline clip-path=\"url(#clip202)\" style=\"stroke:#000000; stroke-linecap:round; stroke-linejoin:round; stroke-width:2; stroke-opacity:0.1; fill:none\" points=\"1479.06,1486.45 1479.06,47.2441 \"/>\n",
       "<polyline clip-path=\"url(#clip202)\" style=\"stroke:#000000; stroke-linecap:round; stroke-linejoin:round; stroke-width:2; stroke-opacity:0.1; fill:none\" points=\"2058.43,1486.45 2058.43,47.2441 \"/>\n",
       "<polyline clip-path=\"url(#clip200)\" style=\"stroke:#000000; stroke-linecap:round; stroke-linejoin:round; stroke-width:4; stroke-opacity:1; fill:none\" points=\"141.853,1486.45 2352.76,1486.45 \"/>\n",
       "<polyline clip-path=\"url(#clip200)\" style=\"stroke:#000000; stroke-linecap:round; stroke-linejoin:round; stroke-width:4; stroke-opacity:1; fill:none\" points=\"320.301,1486.45 320.301,1467.55 \"/>\n",
       "<polyline clip-path=\"url(#clip200)\" style=\"stroke:#000000; stroke-linecap:round; stroke-linejoin:round; stroke-width:4; stroke-opacity:1; fill:none\" points=\"899.678,1486.45 899.678,1467.55 \"/>\n",
       "<polyline clip-path=\"url(#clip200)\" style=\"stroke:#000000; stroke-linecap:round; stroke-linejoin:round; stroke-width:4; stroke-opacity:1; fill:none\" points=\"1479.06,1486.45 1479.06,1467.55 \"/>\n",
       "<polyline clip-path=\"url(#clip200)\" style=\"stroke:#000000; stroke-linecap:round; stroke-linejoin:round; stroke-width:4; stroke-opacity:1; fill:none\" points=\"2058.43,1486.45 2058.43,1467.55 \"/>\n",
       "<path clip-path=\"url(#clip200)\" d=\"M310.579 1514.29 L328.935 1514.29 L328.935 1518.22 L314.861 1518.22 L314.861 1526.7 Q315.88 1526.35 316.898 1526.19 Q317.917 1526 318.935 1526 Q324.722 1526 328.102 1529.17 Q331.482 1532.34 331.482 1537.76 Q331.482 1543.34 328.009 1546.44 Q324.537 1549.52 318.218 1549.52 Q316.042 1549.52 313.773 1549.15 Q311.528 1548.78 309.121 1548.04 L309.121 1543.34 Q311.204 1544.47 313.426 1545.03 Q315.648 1545.58 318.125 1545.58 Q322.13 1545.58 324.468 1543.48 Q326.806 1541.37 326.806 1537.76 Q326.806 1534.15 324.468 1532.04 Q322.13 1529.94 318.125 1529.94 Q316.25 1529.94 314.375 1530.35 Q312.523 1530.77 310.579 1531.65 L310.579 1514.29 Z\" fill=\"#000000\" fill-rule=\"nonzero\" fill-opacity=\"1\" /><path clip-path=\"url(#clip200)\" d=\"M874.366 1544.91 L882.005 1544.91 L882.005 1518.55 L873.695 1520.21 L873.695 1515.95 L881.958 1514.29 L886.634 1514.29 L886.634 1544.91 L894.273 1544.91 L894.273 1548.85 L874.366 1548.85 L874.366 1544.91 Z\" fill=\"#000000\" fill-rule=\"nonzero\" fill-opacity=\"1\" /><path clip-path=\"url(#clip200)\" d=\"M913.717 1517.37 Q910.106 1517.37 908.278 1520.93 Q906.472 1524.47 906.472 1531.6 Q906.472 1538.71 908.278 1542.27 Q910.106 1545.82 913.717 1545.82 Q917.352 1545.82 919.157 1542.27 Q920.986 1538.71 920.986 1531.6 Q920.986 1524.47 919.157 1520.93 Q917.352 1517.37 913.717 1517.37 M913.717 1513.66 Q919.528 1513.66 922.583 1518.27 Q925.662 1522.85 925.662 1531.6 Q925.662 1540.33 922.583 1544.94 Q919.528 1549.52 913.717 1549.52 Q907.907 1549.52 904.829 1544.94 Q901.773 1540.33 901.773 1531.6 Q901.773 1522.85 904.829 1518.27 Q907.907 1513.66 913.717 1513.66 Z\" fill=\"#000000\" fill-rule=\"nonzero\" fill-opacity=\"1\" /><path clip-path=\"url(#clip200)\" d=\"M1454.24 1544.91 L1461.88 1544.91 L1461.88 1518.55 L1453.57 1520.21 L1453.57 1515.95 L1461.83 1514.29 L1466.51 1514.29 L1466.51 1544.91 L1474.15 1544.91 L1474.15 1548.85 L1454.24 1548.85 L1454.24 1544.91 Z\" fill=\"#000000\" fill-rule=\"nonzero\" fill-opacity=\"1\" /><path clip-path=\"url(#clip200)\" d=\"M1483.64 1514.29 L1501.99 1514.29 L1501.99 1518.22 L1487.92 1518.22 L1487.92 1526.7 Q1488.94 1526.35 1489.96 1526.19 Q1490.98 1526 1492 1526 Q1497.78 1526 1501.16 1529.17 Q1504.54 1532.34 1504.54 1537.76 Q1504.54 1543.34 1501.07 1546.44 Q1497.6 1549.52 1491.28 1549.52 Q1489.1 1549.52 1486.83 1549.15 Q1484.59 1548.78 1482.18 1548.04 L1482.18 1543.34 Q1484.26 1544.47 1486.49 1545.03 Q1488.71 1545.58 1491.18 1545.58 Q1495.19 1545.58 1497.53 1543.48 Q1499.87 1541.37 1499.87 1537.76 Q1499.87 1534.15 1497.53 1532.04 Q1495.19 1529.94 1491.18 1529.94 Q1489.31 1529.94 1487.43 1530.35 Q1485.58 1530.77 1483.64 1531.65 L1483.64 1514.29 Z\" fill=\"#000000\" fill-rule=\"nonzero\" fill-opacity=\"1\" /><path clip-path=\"url(#clip200)\" d=\"M2037.21 1544.91 L2053.52 1544.91 L2053.52 1548.85 L2031.58 1548.85 L2031.58 1544.91 Q2034.24 1542.16 2038.83 1537.53 Q2043.43 1532.88 2044.61 1531.53 Q2046.86 1529.01 2047.74 1527.27 Q2048.64 1525.51 2048.64 1523.82 Q2048.64 1521.07 2046.7 1519.33 Q2044.78 1517.6 2041.67 1517.6 Q2039.47 1517.6 2037.02 1518.36 Q2034.59 1519.13 2031.81 1520.68 L2031.81 1515.95 Q2034.64 1514.82 2037.09 1514.24 Q2039.54 1513.66 2041.58 1513.66 Q2046.95 1513.66 2050.15 1516.35 Q2053.34 1519.03 2053.34 1523.52 Q2053.34 1525.65 2052.53 1527.57 Q2051.74 1529.47 2049.64 1532.07 Q2049.06 1532.74 2045.96 1535.95 Q2042.85 1539.15 2037.21 1544.91 Z\" fill=\"#000000\" fill-rule=\"nonzero\" fill-opacity=\"1\" /><path clip-path=\"url(#clip200)\" d=\"M2073.34 1517.37 Q2069.73 1517.37 2067.9 1520.93 Q2066.09 1524.47 2066.09 1531.6 Q2066.09 1538.71 2067.9 1542.27 Q2069.73 1545.82 2073.34 1545.82 Q2076.97 1545.82 2078.78 1542.27 Q2080.61 1538.71 2080.61 1531.6 Q2080.61 1524.47 2078.78 1520.93 Q2076.97 1517.37 2073.34 1517.37 M2073.34 1513.66 Q2079.15 1513.66 2082.21 1518.27 Q2085.28 1522.85 2085.28 1531.6 Q2085.28 1540.33 2082.21 1544.94 Q2079.15 1549.52 2073.34 1549.52 Q2067.53 1549.52 2064.45 1544.94 Q2061.4 1540.33 2061.4 1531.6 Q2061.4 1522.85 2064.45 1518.27 Q2067.53 1513.66 2073.34 1513.66 Z\" fill=\"#000000\" fill-rule=\"nonzero\" fill-opacity=\"1\" /><polyline clip-path=\"url(#clip202)\" style=\"stroke:#000000; stroke-linecap:round; stroke-linejoin:round; stroke-width:2; stroke-opacity:0.1; fill:none\" points=\"141.853,1187.1 2352.76,1187.1 \"/>\n",
       "<polyline clip-path=\"url(#clip202)\" style=\"stroke:#000000; stroke-linecap:round; stroke-linejoin:round; stroke-width:2; stroke-opacity:0.1; fill:none\" points=\"141.853,863.827 2352.76,863.827 \"/>\n",
       "<polyline clip-path=\"url(#clip202)\" style=\"stroke:#000000; stroke-linecap:round; stroke-linejoin:round; stroke-width:2; stroke-opacity:0.1; fill:none\" points=\"141.853,540.556 2352.76,540.556 \"/>\n",
       "<polyline clip-path=\"url(#clip202)\" style=\"stroke:#000000; stroke-linecap:round; stroke-linejoin:round; stroke-width:2; stroke-opacity:0.1; fill:none\" points=\"141.853,217.285 2352.76,217.285 \"/>\n",
       "<polyline clip-path=\"url(#clip200)\" style=\"stroke:#000000; stroke-linecap:round; stroke-linejoin:round; stroke-width:4; stroke-opacity:1; fill:none\" points=\"141.853,1486.45 141.853,47.2441 \"/>\n",
       "<polyline clip-path=\"url(#clip200)\" style=\"stroke:#000000; stroke-linecap:round; stroke-linejoin:round; stroke-width:4; stroke-opacity:1; fill:none\" points=\"141.853,1187.1 160.751,1187.1 \"/>\n",
       "<polyline clip-path=\"url(#clip200)\" style=\"stroke:#000000; stroke-linecap:round; stroke-linejoin:round; stroke-width:4; stroke-opacity:1; fill:none\" points=\"141.853,863.827 160.751,863.827 \"/>\n",
       "<polyline clip-path=\"url(#clip200)\" style=\"stroke:#000000; stroke-linecap:round; stroke-linejoin:round; stroke-width:4; stroke-opacity:1; fill:none\" points=\"141.853,540.556 160.751,540.556 \"/>\n",
       "<polyline clip-path=\"url(#clip200)\" style=\"stroke:#000000; stroke-linecap:round; stroke-linejoin:round; stroke-width:4; stroke-opacity:1; fill:none\" points=\"141.853,217.285 160.751,217.285 \"/>\n",
       "<path clip-path=\"url(#clip200)\" d=\"M54.5569 1200.44 L62.1958 1200.44 L62.1958 1174.08 L53.8856 1175.74 L53.8856 1171.49 L62.1495 1169.82 L66.8254 1169.82 L66.8254 1200.44 L74.4642 1200.44 L74.4642 1204.38 L54.5569 1204.38 L54.5569 1200.44 Z\" fill=\"#000000\" fill-rule=\"nonzero\" fill-opacity=\"1\" /><path clip-path=\"url(#clip200)\" d=\"M93.9086 1172.9 Q90.2975 1172.9 88.4688 1176.46 Q86.6632 1180 86.6632 1187.13 Q86.6632 1194.24 88.4688 1197.8 Q90.2975 1201.35 93.9086 1201.35 Q97.5428 1201.35 99.3483 1197.8 Q101.177 1194.24 101.177 1187.13 Q101.177 1180 99.3483 1176.46 Q97.5428 1172.9 93.9086 1172.9 M93.9086 1169.19 Q99.7187 1169.19 102.774 1173.8 Q105.853 1178.38 105.853 1187.13 Q105.853 1195.86 102.774 1200.47 Q99.7187 1205.05 93.9086 1205.05 Q88.0984 1205.05 85.0197 1200.47 Q81.9642 1195.86 81.9642 1187.13 Q81.9642 1178.38 85.0197 1173.8 Q88.0984 1169.19 93.9086 1169.19 Z\" fill=\"#000000\" fill-rule=\"nonzero\" fill-opacity=\"1\" /><path clip-path=\"url(#clip200)\" d=\"M57.7745 877.172 L74.0939 877.172 L74.0939 881.107 L52.1495 881.107 L52.1495 877.172 Q54.8115 874.418 59.3949 869.788 Q64.0013 865.135 65.1819 863.793 Q67.4272 861.27 68.3068 859.533 Q69.2096 857.774 69.2096 856.084 Q69.2096 853.33 67.2652 851.594 Q65.3439 849.858 62.2421 849.858 Q60.043 849.858 57.5893 850.621 Q55.1588 851.385 52.381 852.936 L52.381 848.214 Q55.2051 847.08 57.6588 846.501 Q60.1124 845.922 62.1495 845.922 Q67.5198 845.922 70.7142 848.608 Q73.9087 851.293 73.9087 855.783 Q73.9087 857.913 73.0985 859.834 Q72.3115 861.732 70.205 864.325 Q69.6263 864.996 66.5245 868.214 Q63.4226 871.408 57.7745 877.172 Z\" fill=\"#000000\" fill-rule=\"nonzero\" fill-opacity=\"1\" /><path clip-path=\"url(#clip200)\" d=\"M93.9086 849.626 Q90.2975 849.626 88.4688 853.191 Q86.6632 856.733 86.6632 863.862 Q86.6632 870.969 88.4688 874.533 Q90.2975 878.075 93.9086 878.075 Q97.5428 878.075 99.3483 874.533 Q101.177 870.969 101.177 863.862 Q101.177 856.733 99.3483 853.191 Q97.5428 849.626 93.9086 849.626 M93.9086 845.922 Q99.7187 845.922 102.774 850.529 Q105.853 855.112 105.853 863.862 Q105.853 872.589 102.774 877.195 Q99.7187 881.779 93.9086 881.779 Q88.0984 881.779 85.0197 877.195 Q81.9642 872.589 81.9642 863.862 Q81.9642 855.112 85.0197 850.529 Q88.0984 845.922 93.9086 845.922 Z\" fill=\"#000000\" fill-rule=\"nonzero\" fill-opacity=\"1\" /><path clip-path=\"url(#clip200)\" d=\"M67.9133 539.202 Q71.2698 539.92 73.1448 542.188 Q75.0429 544.457 75.0429 547.79 Q75.0429 552.906 71.5244 555.706 Q68.0059 558.507 61.5245 558.507 Q59.3486 558.507 57.0338 558.068 Q54.7421 557.651 52.2884 556.794 L52.2884 552.281 Q54.2328 553.415 56.5477 553.994 Q58.8625 554.572 61.3856 554.572 Q65.7837 554.572 68.0754 552.836 Q70.3902 551.1 70.3902 547.79 Q70.3902 544.734 68.2374 543.021 Q66.1078 541.285 62.2884 541.285 L58.2606 541.285 L58.2606 537.443 L62.4735 537.443 Q65.9226 537.443 67.7513 536.077 Q69.58 534.688 69.58 532.095 Q69.58 529.433 67.6819 528.021 Q65.8069 526.586 62.2884 526.586 Q60.3671 526.586 58.168 527.003 Q55.969 527.42 53.3301 528.299 L53.3301 524.133 Q55.9921 523.392 58.3069 523.021 Q60.6449 522.651 62.705 522.651 Q68.0291 522.651 71.1309 525.082 Q74.2327 527.489 74.2327 531.609 Q74.2327 534.48 72.5892 536.47 Q70.9457 538.438 67.9133 539.202 Z\" fill=\"#000000\" fill-rule=\"nonzero\" fill-opacity=\"1\" /><path clip-path=\"url(#clip200)\" d=\"M93.9086 526.355 Q90.2975 526.355 88.4688 529.92 Q86.6632 533.461 86.6632 540.591 Q86.6632 547.697 88.4688 551.262 Q90.2975 554.804 93.9086 554.804 Q97.5428 554.804 99.3483 551.262 Q101.177 547.697 101.177 540.591 Q101.177 533.461 99.3483 529.92 Q97.5428 526.355 93.9086 526.355 M93.9086 522.651 Q99.7187 522.651 102.774 527.258 Q105.853 531.841 105.853 540.591 Q105.853 549.318 102.774 553.924 Q99.7187 558.507 93.9086 558.507 Q88.0984 558.507 85.0197 553.924 Q81.9642 549.318 81.9642 540.591 Q81.9642 531.841 85.0197 527.258 Q88.0984 522.651 93.9086 522.651 Z\" fill=\"#000000\" fill-rule=\"nonzero\" fill-opacity=\"1\" /><path clip-path=\"url(#clip200)\" d=\"M66.5939 204.079 L54.7884 222.528 L66.5939 222.528 L66.5939 204.079 M65.367 200.005 L71.2466 200.005 L71.2466 222.528 L76.1772 222.528 L76.1772 226.417 L71.2466 226.417 L71.2466 234.565 L66.5939 234.565 L66.5939 226.417 L50.9921 226.417 L50.9921 221.903 L65.367 200.005 Z\" fill=\"#000000\" fill-rule=\"nonzero\" fill-opacity=\"1\" /><path clip-path=\"url(#clip200)\" d=\"M93.9086 203.083 Q90.2975 203.083 88.4688 206.648 Q86.6632 210.19 86.6632 217.32 Q86.6632 224.426 88.4688 227.991 Q90.2975 231.532 93.9086 231.532 Q97.5428 231.532 99.3483 227.991 Q101.177 224.426 101.177 217.32 Q101.177 210.19 99.3483 206.648 Q97.5428 203.083 93.9086 203.083 M93.9086 199.38 Q99.7187 199.38 102.774 203.986 Q105.853 208.57 105.853 217.32 Q105.853 226.046 102.774 230.653 Q99.7187 235.236 93.9086 235.236 Q88.0984 235.236 85.0197 230.653 Q81.9642 226.046 81.9642 217.32 Q81.9642 208.57 85.0197 203.986 Q88.0984 199.38 93.9086 199.38 Z\" fill=\"#000000\" fill-rule=\"nonzero\" fill-opacity=\"1\" /><polyline clip-path=\"url(#clip202)\" style=\"stroke:#009af9; stroke-linecap:round; stroke-linejoin:round; stroke-width:4; stroke-opacity:1; fill:none\" points=\"320.301,1348.73 899.678,1445.72 204.426,1413.39 2290.18,87.9763 320.301,1445.72 \"/>\n",
       "<path clip-path=\"url(#clip200)\" d=\"M215.55 198.898 L489.07 198.898 L489.07 95.2176 L215.55 95.2176  Z\" fill=\"#ffffff\" fill-rule=\"evenodd\" fill-opacity=\"1\"/>\n",
       "<polyline clip-path=\"url(#clip200)\" style=\"stroke:#000000; stroke-linecap:round; stroke-linejoin:round; stroke-width:4; stroke-opacity:1; fill:none\" points=\"215.55,198.898 489.07,198.898 489.07,95.2176 215.55,95.2176 215.55,198.898 \"/>\n",
       "<polyline clip-path=\"url(#clip200)\" style=\"stroke:#009af9; stroke-linecap:round; stroke-linejoin:round; stroke-width:4; stroke-opacity:1; fill:none\" points=\"240.115,147.058 387.509,147.058 \"/>\n",
       "<path clip-path=\"url(#clip200)\" d=\"M425.917 166.745 Q424.111 171.375 422.398 172.787 Q420.685 174.199 417.815 174.199 L414.412 174.199 L414.412 170.634 L416.912 170.634 Q418.672 170.634 419.644 169.8 Q420.616 168.967 421.797 165.865 L422.56 163.921 L412.074 138.412 L416.588 138.412 L424.69 158.689 L432.792 138.412 L437.306 138.412 L425.917 166.745 Z\" fill=\"#000000\" fill-rule=\"nonzero\" fill-opacity=\"1\" /><path clip-path=\"url(#clip200)\" d=\"M444.597 160.402 L452.236 160.402 L452.236 134.037 L443.926 135.703 L443.926 131.444 L452.19 129.778 L456.866 129.778 L456.866 160.402 L464.505 160.402 L464.505 164.338 L444.597 164.338 L444.597 160.402 Z\" fill=\"#000000\" fill-rule=\"nonzero\" fill-opacity=\"1\" /></svg>\n"
      ]
     },
     "execution_count": 37,
     "metadata": {},
     "output_type": "execute_result"
    }
   ],
   "source": [
    "# gots to compare to GR\n",
    "using Plots; myplot = plot([5, 10, 4, 22, 5], [5, 2, 3, 44, 2])"
   ]
  },
  {
   "cell_type": "code",
   "execution_count": 38,
   "id": "73825ede-9faa-46cd-a298-02ff6739c28f",
   "metadata": {},
   "outputs": [
    {
     "data": {
      "text/latex": [
       "\\begin{tabular}\n",
       "{l | r | l}\n",
       "name & size & summary \\\\\n",
       "\\hline\n",
       "Base &  & Module \\\\\n",
       "Core &  & Module \\\\\n",
       "Main &  & Module \\\\\n",
       "accidents & 96 bytes & 7-element Vector\\{Int64\\} \\\\\n",
       "con & 26.819 KiB & Context \\\\\n",
       "df & 824 bytes & 7×2 DataFrame \\\\\n",
       "emptycircle & 677 bytes & ToolipsServables.Component\\{:circle\\} \\\\\n",
       "mybars & 15.789 KiB & Context \\\\\n",
       "mycon & 50.551 KiB & Context \\\\\n",
       "myplot & 42.439 KiB & Plots.Plot\\{Plots.GRBackend\\} \\\\\n",
       "x & 164 bytes & 6-element Vector\\{String\\} \\\\\n",
       "y & 88 bytes & 6-element Vector\\{Int64\\} \\\\\n",
       "\\end{tabular}\n"
      ],
      "text/markdown": [
       "| name        |       size | summary                             |\n",
       "|:----------- | ----------:|:----------------------------------- |\n",
       "| Base        |            | Module                              |\n",
       "| Core        |            | Module                              |\n",
       "| Main        |            | Module                              |\n",
       "| accidents   |   96 bytes | 7-element Vector{Int64}             |\n",
       "| con         | 26.819 KiB | Context                             |\n",
       "| df          |  824 bytes | 7×2 DataFrame                       |\n",
       "| emptycircle |  677 bytes | ToolipsServables.Component{:circle} |\n",
       "| mybars      | 15.789 KiB | Context                             |\n",
       "| mycon       | 50.551 KiB | Context                             |\n",
       "| myplot      | 42.439 KiB | Plots.Plot{Plots.GRBackend}         |\n",
       "| x           |  164 bytes | 6-element Vector{String}            |\n",
       "| y           |   88 bytes | 6-element Vector{Int64}             |\n"
      ],
      "text/plain": [
       "  name              size summary                            \n",
       "  ––––––––––– –––––––––– –––––––––––––––––––––––––––––––––––\n",
       "  Base                   Module                             \n",
       "  Core                   Module                             \n",
       "  Main                   Module                             \n",
       "  accidents     96 bytes 7-element Vector{Int64}            \n",
       "  con         26.819 KiB Context                            \n",
       "  df           824 bytes 7×2 DataFrame                      \n",
       "  emptycircle  677 bytes ToolipsServables.Component{:circle}\n",
       "  mybars      15.789 KiB Context                            \n",
       "  mycon       50.551 KiB Context                            \n",
       "  myplot      42.439 KiB Plots.Plot{Plots.GRBackend}        \n",
       "  x            164 bytes 6-element Vector{String}           \n",
       "  y             88 bytes 6-element Vector{Int64}            "
      ]
     },
     "execution_count": 38,
     "metadata": {},
     "output_type": "execute_result"
    }
   ],
   "source": [
    "varinfo()"
   ]
  },
  {
   "cell_type": "code",
   "execution_count": 40,
   "id": "34073c7b-b601-47c1-82e1-4a9cece1a178",
   "metadata": {},
   "outputs": [
    {
     "name": "stdout",
     "output_type": "stream",
     "text": [
      "rip\n"
     ]
    }
   ],
   "source": [
    "println(\"rip\")"
   ]
  },
  {
   "cell_type": "code",
   "execution_count": null,
   "id": "be36010d-8baf-46b4-b2b9-60bc7b68915c",
   "metadata": {},
   "outputs": [],
   "source": []
  }
 ],
 "metadata": {
  "kernelspec": {
   "display_name": "Julia 1.9.2",
   "language": "julia",
   "name": "julia-1.9"
  },
  "language_info": {
   "file_extension": ".jl",
   "mimetype": "application/julia",
   "name": "julia",
   "version": "1.9.2"
  }
 },
 "nbformat": 4,
 "nbformat_minor": 5
}

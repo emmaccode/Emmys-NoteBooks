{
 "cells": [
  {
   "cell_type": "code",
   "execution_count": 1,
   "id": "4186616a-5852-4789-bd0e-83f13c466794",
   "metadata": {},
   "outputs": [],
   "source": [
    "import Base: string"
   ]
  },
  {
   "cell_type": "code",
   "execution_count": 2,
   "id": "055efc26-28a6-43ac-b76e-bd322843b341",
   "metadata": {},
   "outputs": [
    {
     "data": {
      "text/html": [
       "# 14 methods for generic function <b>findfirst</b> from \u001b[90mBase\u001b[39m:<ul><li> findfirst(ch::<b>AbstractChar</b>, string::<b>AbstractString</b>) in Base at <a href=\"https://github.com/JuliaLang/julia/tree/e4ee485e90961018b7e53ce14b8b99335953e176/base/strings/search.jl#L140\" target=\"_blank\">strings/search.jl:140</a></li> <li> findfirst(p::<b>Union{Base.Fix2{typeof(==), Int64}, Base.Fix2{typeof(isequal), Int64}}</b>, r::<b>Base.OneTo{Int64}</b>) in Base at <a href=\"https://github.com/JuliaLang/julia/tree/e4ee485e90961018b7e53ce14b8b99335953e176/base/array.jl#L2125\" target=\"_blank\">array.jl:2125</a></li> <li> findfirst(p::<b>Union{Base.Fix2{typeof(==), T}, Base.Fix2{typeof(isequal), T}}</b>, r::<b>AbstractUnitRange</b>)<i> where T<:Integer</i> in Base at <a href=\"https://github.com/JuliaLang/julia/tree/e4ee485e90961018b7e53ce14b8b99335953e176/base/array.jl#L2128\" target=\"_blank\">array.jl:2128</a></li> <li> findfirst(p::<b>Union{Base.Fix2{typeof(==), T}, Base.Fix2{typeof(isequal), T}}</b>, r::<b>StepRange{T, S}</b>)<i> where {T, S}</i> in Base at <a href=\"https://github.com/JuliaLang/julia/tree/e4ee485e90961018b7e53ce14b8b99335953e176/base/array.jl#L2131\" target=\"_blank\">array.jl:2131</a></li> <li> findfirst(pred::<b>Base.Fix2{<:Union{typeof(==), typeof(isequal)}, <:Union{Int8, UInt8}}</b>, a::<b>Union{Base.CodeUnits{UInt8, String}, Vector{Int8}, Vector{UInt8}, SubArray{Int8, 1, Vector{Int8}, I, true} where I<:Union{Tuple{Vararg{Real}}, Tuple{AbstractUnitRange, Vararg{Any}}}, SubArray{UInt8, 1, Base.CodeUnits{UInt8, String}, I, true} where I<:Union{Tuple{Vararg{Real}}, Tuple{AbstractUnitRange, Vararg{Any}}}, SubArray{UInt8, 1, Vector{UInt8}, I, true} where I<:Union{Tuple{Vararg{Real}}, Tuple{AbstractUnitRange, Vararg{Any}}}}</b>) in Base at <a href=\"https://github.com/JuliaLang/julia/tree/e4ee485e90961018b7e53ce14b8b99335953e176/base/strings/search.jl#L32\" target=\"_blank\">strings/search.jl:32</a></li> <li> findfirst(pattern::<b>AbstractVector{<:Union{Int8, UInt8}}</b>, A::<b>AbstractVector{<:Union{Int8, UInt8}}</b>) in Base at <a href=\"https://github.com/JuliaLang/julia/tree/e4ee485e90961018b7e53ce14b8b99335953e176/base/strings/search.jl#L158\" target=\"_blank\">strings/search.jl:158</a></li> <li> findfirst(A::<b>AbstractArray</b>) in Base at <a href=\"https://github.com/JuliaLang/julia/tree/e4ee485e90961018b7e53ce14b8b99335953e176/base/array.jl#L2040\" target=\"_blank\">array.jl:2040</a></li> <li> findfirst(f::<b>Function</b>, t::<b>Tuple</b>) in Base at <a href=\"https://github.com/JuliaLang/julia/tree/e4ee485e90961018b7e53ce14b8b99335953e176/base/tuple.jl#L421\" target=\"_blank\">tuple.jl:421</a></li> <li> findfirst(pattern::<b>AbstractString</b>, string::<b>AbstractString</b>) in Base at <a href=\"https://github.com/JuliaLang/julia/tree/e4ee485e90961018b7e53ce14b8b99335953e176/base/strings/search.jl#L120\" target=\"_blank\">strings/search.jl:120</a></li> <li> findfirst(r::<b>Regex</b>, s::<b>AbstractString</b>) in Base at <a href=\"https://github.com/JuliaLang/julia/tree/e4ee485e90961018b7e53ce14b8b99335953e176/base/regex.jl#L428\" target=\"_blank\">regex.jl:428</a></li> <li> findfirst(::<b>typeof(iszero)</b>, a::<b>Union{Base.CodeUnits{UInt8, String}, Vector{Int8}, Vector{UInt8}, SubArray{Int8, 1, Vector{Int8}, I, true} where I<:Union{Tuple{Vararg{Real}}, Tuple{AbstractUnitRange, Vararg{Any}}}, SubArray{UInt8, 1, Base.CodeUnits{UInt8, String}, I, true} where I<:Union{Tuple{Vararg{Real}}, Tuple{AbstractUnitRange, Vararg{Any}}}, SubArray{UInt8, 1, Vector{UInt8}, I, true} where I<:Union{Tuple{Vararg{Real}}, Tuple{AbstractUnitRange, Vararg{Any}}}}</b>) in Base at <a href=\"https://github.com/JuliaLang/julia/tree/e4ee485e90961018b7e53ce14b8b99335953e176/base/strings/search.jl#L38\" target=\"_blank\">strings/search.jl:38</a></li> <li> findfirst(testf::<b>Function</b>, A::<b>Union{AbstractString, AbstractArray}</b>) in Base at <a href=\"https://github.com/JuliaLang/julia/tree/e4ee485e90961018b7e53ce14b8b99335953e176/base/array.jl#L2122\" target=\"_blank\">array.jl:2122</a></li> <li> findfirst(testf::<b>Function</b>, A) in Base at <a href=\"https://github.com/JuliaLang/julia/tree/e4ee485e90961018b7e53ce14b8b99335953e176/base/array.jl#L2114\" target=\"_blank\">array.jl:2114</a></li> <li> findfirst(A) in Base at <a href=\"https://github.com/JuliaLang/julia/tree/e4ee485e90961018b7e53ce14b8b99335953e176/base/array.jl#L2037\" target=\"_blank\">array.jl:2037</a></li> </ul>"
      ],
      "text/plain": [
       "# 14 methods for generic function \"findfirst\" from \u001b[90mBase\u001b[39m:\n",
       "  [1] findfirst(\u001b[90mch\u001b[39m::\u001b[1mAbstractChar\u001b[22m, \u001b[90mstring\u001b[39m::\u001b[1mAbstractString\u001b[22m)\n",
       "\u001b[90m     @\u001b[39m \u001b[90mstrings/\u001b[39m\u001b[90m\u001b[4msearch.jl:140\u001b[24m\u001b[39m\n",
       "  [2] findfirst(\u001b[90mp\u001b[39m::\u001b[1mUnion\u001b[22m\u001b[0m{Base.Fix2{typeof(==), Int64}, Base.Fix2{typeof(isequal), Int64}}, \u001b[90mr\u001b[39m::\u001b[1mBase.OneTo\u001b[22m\u001b[0m{Int64})\n",
       "\u001b[90m     @\u001b[39m \u001b[90m\u001b[4marray.jl:2125\u001b[24m\u001b[39m\n",
       "  [3] findfirst(\u001b[90mp\u001b[39m::\u001b[1mUnion\u001b[22m\u001b[0m{Base.Fix2{typeof(==), T}, Base.Fix2{typeof(isequal), T}}, \u001b[90mr\u001b[39m::\u001b[1mAbstractUnitRange\u001b[22m) where T<:Integer\n",
       "\u001b[90m     @\u001b[39m \u001b[90m\u001b[4marray.jl:2128\u001b[24m\u001b[39m\n",
       "  [4] findfirst(\u001b[90mp\u001b[39m::\u001b[1mUnion\u001b[22m\u001b[0m{Base.Fix2{typeof(==), T}, Base.Fix2{typeof(isequal), T}}, \u001b[90mr\u001b[39m::\u001b[1mStepRange\u001b[22m\u001b[0m{T, S}) where {T, S}\n",
       "\u001b[90m     @\u001b[39m \u001b[90m\u001b[4marray.jl:2131\u001b[24m\u001b[39m\n",
       "  [5] findfirst(\u001b[90mpred\u001b[39m::\u001b[1mBase.Fix2\u001b[22m\u001b[0m{<:Union{typeof(==), typeof(isequal)}, <:Union{Int8, UInt8}}, \u001b[90ma\u001b[39m::\u001b[1mUnion\u001b[22m\u001b[0m{Base.CodeUnits{UInt8, String}, Vector{Int8}, Vector{UInt8}, SubArray{Int8, 1, Vector{Int8}, I, true} where I<:Union{Tuple{Vararg{Real}}, Tuple{AbstractUnitRange, Vararg{Any}}}, SubArray{UInt8, 1, Base.CodeUnits{UInt8, String}, I, true} where I<:Union{Tuple{Vararg{Real}}, Tuple{AbstractUnitRange, Vararg{Any}}}, SubArray{UInt8, 1, Vector{UInt8}, I, true} where I<:Union{Tuple{Vararg{Real}}, Tuple{AbstractUnitRange, Vararg{Any}}}})\n",
       "\u001b[90m     @\u001b[39m \u001b[90mstrings/\u001b[39m\u001b[90m\u001b[4msearch.jl:32\u001b[24m\u001b[39m\n",
       "  [6] findfirst(\u001b[90mpattern\u001b[39m::\u001b[1mAbstractVector\u001b[22m\u001b[0m{<:Union{Int8, UInt8}}, \u001b[90mA\u001b[39m::\u001b[1mAbstractVector\u001b[22m\u001b[0m{<:Union{Int8, UInt8}})\n",
       "\u001b[90m     @\u001b[39m \u001b[90mstrings/\u001b[39m\u001b[90m\u001b[4msearch.jl:158\u001b[24m\u001b[39m\n",
       "  [7] findfirst(\u001b[90mA\u001b[39m::\u001b[1mAbstractArray\u001b[22m)\n",
       "\u001b[90m     @\u001b[39m \u001b[90m\u001b[4marray.jl:2040\u001b[24m\u001b[39m\n",
       "  [8] findfirst(\u001b[90mf\u001b[39m::\u001b[1mFunction\u001b[22m, \u001b[90mt\u001b[39m::\u001b[1mTuple\u001b[22m)\n",
       "\u001b[90m     @\u001b[39m \u001b[90m\u001b[4mtuple.jl:421\u001b[24m\u001b[39m\n",
       "  [9] findfirst(\u001b[90mpattern\u001b[39m::\u001b[1mAbstractString\u001b[22m, \u001b[90mstring\u001b[39m::\u001b[1mAbstractString\u001b[22m)\n",
       "\u001b[90m     @\u001b[39m \u001b[90mstrings/\u001b[39m\u001b[90m\u001b[4msearch.jl:120\u001b[24m\u001b[39m\n",
       " [10] findfirst(\u001b[90mr\u001b[39m::\u001b[1mRegex\u001b[22m, \u001b[90ms\u001b[39m::\u001b[1mAbstractString\u001b[22m)\n",
       "\u001b[90m     @\u001b[39m \u001b[90m\u001b[4mregex.jl:428\u001b[24m\u001b[39m\n",
       " [11] findfirst(::\u001b[1mtypeof(iszero)\u001b[22m, \u001b[90ma\u001b[39m::\u001b[1mUnion\u001b[22m\u001b[0m{Base.CodeUnits{UInt8, String}, Vector{Int8}, Vector{UInt8}, SubArray{Int8, 1, Vector{Int8}, I, true} where I<:Union{Tuple{Vararg{Real}}, Tuple{AbstractUnitRange, Vararg{Any}}}, SubArray{UInt8, 1, Base.CodeUnits{UInt8, String}, I, true} where I<:Union{Tuple{Vararg{Real}}, Tuple{AbstractUnitRange, Vararg{Any}}}, SubArray{UInt8, 1, Vector{UInt8}, I, true} where I<:Union{Tuple{Vararg{Real}}, Tuple{AbstractUnitRange, Vararg{Any}}}})\n",
       "\u001b[90m     @\u001b[39m \u001b[90mstrings/\u001b[39m\u001b[90m\u001b[4msearch.jl:38\u001b[24m\u001b[39m\n",
       " [12] findfirst(\u001b[90mtestf\u001b[39m::\u001b[1mFunction\u001b[22m, \u001b[90mA\u001b[39m::\u001b[1mUnion\u001b[22m\u001b[0m{AbstractString, AbstractArray})\n",
       "\u001b[90m     @\u001b[39m \u001b[90m\u001b[4marray.jl:2122\u001b[24m\u001b[39m\n",
       " [13] findfirst(\u001b[90mtestf\u001b[39m::\u001b[1mFunction\u001b[22m, \u001b[90mA\u001b[39m)\n",
       "\u001b[90m     @\u001b[39m \u001b[90m\u001b[4marray.jl:2114\u001b[24m\u001b[39m\n",
       " [14] findfirst(\u001b[90mA\u001b[39m)\n",
       "\u001b[90m     @\u001b[39m \u001b[90m\u001b[4marray.jl:2037\u001b[24m\u001b[39m"
      ]
     },
     "execution_count": 2,
     "metadata": {},
     "output_type": "execute_result"
    }
   ],
   "source": [
    "methods(findfirst)"
   ]
  },
  {
   "cell_type": "code",
   "execution_count": 3,
   "id": "e2c18163-1dfb-4953-a765-59becbea016f",
   "metadata": {},
   "outputs": [
    {
     "data": {
      "text/plain": [
       "svec(typeof(findfirst), AbstractChar, AbstractString)"
      ]
     },
     "execution_count": 3,
     "metadata": {},
     "output_type": "execute_result"
    }
   ],
   "source": [
    "methods(findfirst)[1].sig.parameters"
   ]
  },
  {
   "cell_type": "code",
   "execution_count": 4,
   "id": "ef3557bd-88fa-4500-81d4-e9f56ac01097",
   "metadata": {},
   "outputs": [
    {
     "data": {
      "text/plain": [
       "AbstractChar"
      ]
     },
     "execution_count": 4,
     "metadata": {},
     "output_type": "execute_result"
    }
   ],
   "source": [
    "methods(findfirst)[1].sig.parameters[2]"
   ]
  },
  {
   "cell_type": "code",
   "execution_count": 5,
   "id": "74eda030-4d13-4ee2-aa6d-edc1d3e69bf2",
   "metadata": {},
   "outputs": [
    {
     "name": "stdout",
     "output_type": "stream",
     "text": [
      "hello"
     ]
    }
   ],
   "source": [
    "function output_info(f::Function)\n",
    "    f()\n",
    "end\n",
    "\n",
    "output_info() do\n",
    "    print(\"hello\")\n",
    "end"
   ]
  },
  {
   "cell_type": "code",
   "execution_count": 6,
   "id": "e111e844-e3ad-4770-b42c-0d8fc9fcb1ec",
   "metadata": {},
   "outputs": [
    {
     "data": {
      "text/plain": [
       "memory_save (generic function with 1 method)"
      ]
     },
     "execution_count": 6,
     "metadata": {},
     "output_type": "execute_result"
    }
   ],
   "source": [
    "function memory_save(f::Function)\n",
    "    provided_type_parameters = methods(f)[1].sig.parameters\n",
    "    if length(provided_type_parameters) == 1 || provided_type_parameters[2] <: AbstractString\n",
    "        ret = f(\"\")\n",
    "        return(ret)\n",
    "    else\n",
    "        buff = IOBuffer()\n",
    "        f(buff)\n",
    "        return(buff)\n",
    "    end\n",
    "end"
   ]
  },
  {
   "cell_type": "code",
   "execution_count": 7,
   "id": "5c5490e8-c117-40a2-aba6-4977f1eb95cd",
   "metadata": {},
   "outputs": [
    {
     "data": {
      "text/plain": [
       "IOBuffer(data=UInt8[...], readable=true, writable=true, seekable=true, append=false, size=13, maxsize=Inf, ptr=14, mark=-1)"
      ]
     },
     "execution_count": 7,
     "metadata": {},
     "output_type": "execute_result"
    }
   ],
   "source": [
    "buff = memory_save() do buff::IOBuffer\n",
    "    write(buff, \"good morning!\")\n",
    "end"
   ]
  },
  {
   "cell_type": "code",
   "execution_count": 8,
   "id": "5b4691cc-6b15-45ee-83c8-d1405f9f25c5",
   "metadata": {},
   "outputs": [
    {
     "data": {
      "text/plain": [
       "\"guten morgen\""
      ]
     },
     "execution_count": 8,
     "metadata": {},
     "output_type": "execute_result"
    }
   ],
   "source": [
    "str = memory_save() do raw::String\n",
    "    raw = raw * \"guten morgen\"\n",
    "end"
   ]
  },
  {
   "cell_type": "code",
   "execution_count": 9,
   "id": "b22c290b-33fa-4908-89de-0ec2f5d6fa89",
   "metadata": {},
   "outputs": [
    {
     "data": {
      "text/plain": [
       "(::Colon) (generic function with 17 methods)"
      ]
     },
     "execution_count": 9,
     "metadata": {},
     "output_type": "execute_result"
    }
   ],
   "source": [
    "import Base: (:)\n",
    "\n",
    "(:)(x::Int64,f2::Function) = [f2(num) for num in 1:x]"
   ]
  },
  {
   "cell_type": "code",
   "execution_count": 10,
   "id": "265b3a1a-1d8e-40ea-946a-a6b4941d7874",
   "metadata": {},
   "outputs": [
    {
     "data": {
      "text/plain": [
       "200-element Vector{Int64}:\n",
       "   6\n",
       "   7\n",
       "   8\n",
       "   9\n",
       "  10\n",
       "  11\n",
       "  12\n",
       "  13\n",
       "  14\n",
       "  15\n",
       "  16\n",
       "  17\n",
       "  18\n",
       "   ⋮\n",
       " 194\n",
       " 195\n",
       " 196\n",
       " 197\n",
       " 198\n",
       " 199\n",
       " 200\n",
       " 201\n",
       " 202\n",
       " 203\n",
       " 204\n",
       " 205"
      ]
     },
     "execution_count": 10,
     "metadata": {},
     "output_type": "execute_result"
    }
   ],
   "source": [
    "200:x -> begin x += 5 end"
   ]
  },
  {
   "cell_type": "code",
   "execution_count": 11,
   "id": "b7867c8a-0d61-4ee2-8358-b28d1beaf8d8",
   "metadata": {},
   "outputs": [
    {
     "data": {
      "text/plain": [
       "regular_func (generic function with 1 method)"
      ]
     },
     "execution_count": 11,
     "metadata": {},
     "output_type": "execute_result"
    }
   ],
   "source": [
    "function regular_func(x::Int64)\n",
    "   # one of the biggest advantages to a closure is that\n",
    "     # we can define its scope based on variables.\n",
    "   function closure_func()\n",
    "        x + 5\n",
    "   end\n",
    "end"
   ]
  },
  {
   "cell_type": "code",
   "execution_count": 12,
   "id": "eea0a334-d718-4d09-ae90-9b860793c13a",
   "metadata": {},
   "outputs": [
    {
     "data": {
      "text/plain": [
       "(::var\"#closure_func#13\"{Int64}) (generic function with 1 method)"
      ]
     },
     "execution_count": 12,
     "metadata": {},
     "output_type": "execute_result"
    }
   ],
   "source": [
    "f = regular_func(5)"
   ]
  },
  {
   "cell_type": "code",
   "execution_count": 13,
   "id": "54870b57-0975-4355-842d-e427464cc297",
   "metadata": {},
   "outputs": [
    {
     "data": {
      "text/plain": [
       "10"
      ]
     },
     "execution_count": 13,
     "metadata": {},
     "output_type": "execute_result"
    }
   ],
   "source": [
    "f()"
   ]
  },
  {
   "cell_type": "code",
   "execution_count": 14,
   "id": "c20ed014-cef6-473c-b4d3-d060d04d5913",
   "metadata": {},
   "outputs": [
    {
     "data": {
      "text/plain": [
       "regular_func (generic function with 1 method)"
      ]
     },
     "execution_count": 14,
     "metadata": {},
     "output_type": "execute_result"
    }
   ],
   "source": [
    "function regular_func(x::Int64)\n",
    "   # one of the biggest advantages to a closure is that\n",
    "     # we can define its scope based on variables.\n",
    "   my_new_func::Function = function closure_func()\n",
    "        x + 5\n",
    "   end\n",
    "    return(my_new_func)::Function\n",
    "end"
   ]
  },
  {
   "cell_type": "code",
   "execution_count": 15,
   "id": "216c546f-4ccf-49f2-bd7e-024b4d14ad2c",
   "metadata": {},
   "outputs": [
    {
     "data": {
      "text/plain": [
       "regular_func (generic function with 1 method)"
      ]
     },
     "execution_count": 15,
     "metadata": {},
     "output_type": "execute_result"
    }
   ],
   "source": [
    "function regular_func(x::Int64)\n",
    "   # one of the biggest advantages to a closure is that\n",
    "     # we can define its scope based on variables.\n",
    "   my_new_func::Function = function closure_func()\n",
    "        x + 5\n",
    "   end\n",
    "    my_new_func = function closure_func(message::String)\n",
    "        println(message)\n",
    "   end\n",
    "    return(my_new_func)::Function\n",
    "end"
   ]
  },
  {
   "cell_type": "code",
   "execution_count": 16,
   "id": "0fdb99c0-7acf-4cc2-ad10-9ce5ca13bcae",
   "metadata": {},
   "outputs": [
    {
     "data": {
      "text/plain": [
       "(::var\"#closure_func#15\"{Int64}) (generic function with 2 methods)"
      ]
     },
     "execution_count": 16,
     "metadata": {},
     "output_type": "execute_result"
    }
   ],
   "source": [
    "f = regular_func(5)"
   ]
  },
  {
   "cell_type": "code",
   "execution_count": 17,
   "id": "e73c7f66-d422-41e0-ab99-c7b58c365cb2",
   "metadata": {},
   "outputs": [
    {
     "data": {
      "text/plain": [
       "10"
      ]
     },
     "execution_count": 17,
     "metadata": {},
     "output_type": "execute_result"
    }
   ],
   "source": [
    "f()"
   ]
  },
  {
   "cell_type": "code",
   "execution_count": 18,
   "id": "4b83a25b-8e91-48db-b90c-6222c42fe358",
   "metadata": {},
   "outputs": [
    {
     "name": "stdout",
     "output_type": "stream",
     "text": [
      "hello world!\n"
     ]
    }
   ],
   "source": [
    "f(\"hello world!\")"
   ]
  },
  {
   "cell_type": "code",
   "execution_count": 19,
   "id": "56a3cfb1-d9b4-477a-8146-156236c6fe1e",
   "metadata": {},
   "outputs": [
    {
     "data": {
      "text/plain": [
       "Main.SampleModule"
      ]
     },
     "execution_count": 19,
     "metadata": {},
     "output_type": "execute_result"
    }
   ],
   "source": [
    "module SampleModule\n",
    "\n",
    "function sample_function()\n",
    "\n",
    "end\n",
    "\n",
    "function exported_function()\n",
    "\n",
    "end\n",
    "\n",
    "export exported_function\n",
    "end"
   ]
  },
  {
   "cell_type": "code",
   "execution_count": 20,
   "id": "383b06de-6872-4ebf-93e2-d4cb5c27a8ab",
   "metadata": {},
   "outputs": [
    {
     "data": {
      "text/plain": [
       "2-element Vector{Symbol}:\n",
       " :SampleModule\n",
       " :exported_function"
      ]
     },
     "execution_count": 20,
     "metadata": {},
     "output_type": "execute_result"
    }
   ],
   "source": [
    "mod_names = names(Main.SampleModule)"
   ]
  },
  {
   "cell_type": "code",
   "execution_count": 21,
   "id": "482b3e8f-36d7-4719-92fe-f862097ed3dc",
   "metadata": {},
   "outputs": [
    {
     "data": {
      "text/plain": [
       "9-element Vector{Symbol}:\n",
       " Symbol(\"#eval\")\n",
       " Symbol(\"#exported_function\")\n",
       " Symbol(\"#include\")\n",
       " Symbol(\"#sample_function\")\n",
       " :SampleModule\n",
       " :eval\n",
       " :exported_function\n",
       " :include\n",
       " :sample_function"
      ]
     },
     "execution_count": 21,
     "metadata": {},
     "output_type": "execute_result"
    }
   ],
   "source": [
    "mod_names = names(Main.SampleModule, all = true)"
   ]
  },
  {
   "cell_type": "code",
   "execution_count": 33,
   "id": "6d07ec4d-e6dc-4a83-9e21-c2e69d15b7bb",
   "metadata": {},
   "outputs": [
    {
     "data": {
      "text/plain": [
       "string (generic function with 23 methods)"
      ]
     },
     "execution_count": 33,
     "metadata": {},
     "output_type": "execute_result"
    }
   ],
   "source": [
    "\n",
    "\n",
    "mutable struct HTMLElement{TAG}\n",
    "    text::String\n",
    "    function HTMLElement{T}(txt::String = \"\") where {T <: Any}\n",
    "        new{T}(txt)\n",
    "    end\n",
    "end\n",
    "\n",
    "string(htm::HTMLElement{<:Any}) = begin\n",
    "    tag = typeof(htm).parameters[1]\n",
    "    \"<$tag>$(htm.text)</$tag>\"\n",
    "end\n",
    "\n",
    "string(vec::Vector{HTMLElement{<:Any}}) = begin\n",
    "    join([string(el) for el in vec])\n",
    "end"
   ]
  },
  {
   "cell_type": "code",
   "execution_count": 34,
   "id": "242ded9b-1ab9-4ab1-bdd5-ddd85dc35acd",
   "metadata": {},
   "outputs": [
    {
     "data": {
      "text/html": [
       "<h1>hello</h1><hsep></hsep><h3>world</h3>"
      ]
     },
     "metadata": {},
     "output_type": "display_data"
    }
   ],
   "source": [
    "const elem = HTMLElement\n",
    "\n",
    "header = elem{:h1}(\"hello\")\n",
    "sep = elem{:hsep}()\n",
    "subheader = elem{:h3}(\"world\")\n",
    "\n",
    "display(\"text/html\", join([string(x) for x in (header, sep, subheader)]))"
   ]
  },
  {
   "cell_type": "code",
   "execution_count": 48,
   "id": "b9214cce-badd-45f4-89a4-174ad0bcbb7d",
   "metadata": {},
   "outputs": [
    {
     "data": {
      "text/plain": [
       "getindex (generic function with 357 methods)"
      ]
     },
     "execution_count": 48,
     "metadata": {},
     "output_type": "execute_result"
    }
   ],
   "source": [
    "using DataFrames\n",
    "import Base: getindex\n",
    "\n",
    "getindex(df::DataFrame, ba::BitArray) = begin\n",
    "    founds = findall(t -> ~(t), ba)\n",
    "    df = df[Not(founds ...), 1:2]\n",
    "end"
   ]
  },
  {
   "cell_type": "code",
   "execution_count": 49,
   "id": "16ef586e-b111-443c-b4e5-7fa842b6e1ec",
   "metadata": {
    "scrolled": true
   },
   "outputs": [
    {
     "data": {
      "text/html": [
       "<div><div style = \"float: left;\"><span>100×2 DataFrame</span></div><div style = \"float: right;\"><span style = \"font-style: italic;\">75 rows omitted</span></div><div style = \"clear: both;\"></div></div><div class = \"data-frame\" style = \"overflow-x: scroll;\"><table class = \"data-frame\" style = \"margin-bottom: 6px;\"><thead><tr class = \"header\"><th class = \"rowNumber\" style = \"font-weight: bold; text-align: right;\">Row</th><th style = \"text-align: left;\">A</th><th style = \"text-align: left;\">B</th></tr><tr class = \"subheader headerLastRow\"><th class = \"rowNumber\" style = \"font-weight: bold; text-align: right;\"></th><th title = \"Float64\" style = \"text-align: left;\">Float64</th><th title = \"Float64\" style = \"text-align: left;\">Float64</th></tr></thead><tbody><tr><td class = \"rowNumber\" style = \"font-weight: bold; text-align: right;\">1</td><td style = \"text-align: right;\">0.206422</td><td style = \"text-align: right;\">-0.438173</td></tr><tr><td class = \"rowNumber\" style = \"font-weight: bold; text-align: right;\">2</td><td style = \"text-align: right;\">-1.08138</td><td style = \"text-align: right;\">0.453483</td></tr><tr><td class = \"rowNumber\" style = \"font-weight: bold; text-align: right;\">3</td><td style = \"text-align: right;\">-0.0373427</td><td style = \"text-align: right;\">1.28641</td></tr><tr><td class = \"rowNumber\" style = \"font-weight: bold; text-align: right;\">4</td><td style = \"text-align: right;\">-0.354838</td><td style = \"text-align: right;\">1.18583</td></tr><tr><td class = \"rowNumber\" style = \"font-weight: bold; text-align: right;\">5</td><td style = \"text-align: right;\">0.299882</td><td style = \"text-align: right;\">2.02138</td></tr><tr><td class = \"rowNumber\" style = \"font-weight: bold; text-align: right;\">6</td><td style = \"text-align: right;\">-0.290412</td><td style = \"text-align: right;\">0.715692</td></tr><tr><td class = \"rowNumber\" style = \"font-weight: bold; text-align: right;\">7</td><td style = \"text-align: right;\">1.13688</td><td style = \"text-align: right;\">1.27957</td></tr><tr><td class = \"rowNumber\" style = \"font-weight: bold; text-align: right;\">8</td><td style = \"text-align: right;\">-0.330165</td><td style = \"text-align: right;\">0.990693</td></tr><tr><td class = \"rowNumber\" style = \"font-weight: bold; text-align: right;\">9</td><td style = \"text-align: right;\">1.5353</td><td style = \"text-align: right;\">-0.0390875</td></tr><tr><td class = \"rowNumber\" style = \"font-weight: bold; text-align: right;\">10</td><td style = \"text-align: right;\">-0.516259</td><td style = \"text-align: right;\">0.134635</td></tr><tr><td class = \"rowNumber\" style = \"font-weight: bold; text-align: right;\">11</td><td style = \"text-align: right;\">0.571391</td><td style = \"text-align: right;\">2.09049</td></tr><tr><td class = \"rowNumber\" style = \"font-weight: bold; text-align: right;\">12</td><td style = \"text-align: right;\">-0.172409</td><td style = \"text-align: right;\">0.910264</td></tr><tr><td class = \"rowNumber\" style = \"font-weight: bold; text-align: right;\">13</td><td style = \"text-align: right;\">0.352973</td><td style = \"text-align: right;\">-0.672885</td></tr><tr><td style = \"text-align: right;\">&vellip;</td><td style = \"text-align: right;\">&vellip;</td><td style = \"text-align: right;\">&vellip;</td></tr><tr><td class = \"rowNumber\" style = \"font-weight: bold; text-align: right;\">89</td><td style = \"text-align: right;\">0.790618</td><td style = \"text-align: right;\">1.19727</td></tr><tr><td class = \"rowNumber\" style = \"font-weight: bold; text-align: right;\">90</td><td style = \"text-align: right;\">-1.31333</td><td style = \"text-align: right;\">0.0271976</td></tr><tr><td class = \"rowNumber\" style = \"font-weight: bold; text-align: right;\">91</td><td style = \"text-align: right;\">0.0256448</td><td style = \"text-align: right;\">0.261398</td></tr><tr><td class = \"rowNumber\" style = \"font-weight: bold; text-align: right;\">92</td><td style = \"text-align: right;\">-0.891895</td><td style = \"text-align: right;\">0.618985</td></tr><tr><td class = \"rowNumber\" style = \"font-weight: bold; text-align: right;\">93</td><td style = \"text-align: right;\">-1.3569</td><td style = \"text-align: right;\">0.818078</td></tr><tr><td class = \"rowNumber\" style = \"font-weight: bold; text-align: right;\">94</td><td style = \"text-align: right;\">-0.971001</td><td style = \"text-align: right;\">0.846268</td></tr><tr><td class = \"rowNumber\" style = \"font-weight: bold; text-align: right;\">95</td><td style = \"text-align: right;\">-1.37016</td><td style = \"text-align: right;\">-0.639578</td></tr><tr><td class = \"rowNumber\" style = \"font-weight: bold; text-align: right;\">96</td><td style = \"text-align: right;\">0.530299</td><td style = \"text-align: right;\">0.732189</td></tr><tr><td class = \"rowNumber\" style = \"font-weight: bold; text-align: right;\">97</td><td style = \"text-align: right;\">0.397749</td><td style = \"text-align: right;\">1.48144</td></tr><tr><td class = \"rowNumber\" style = \"font-weight: bold; text-align: right;\">98</td><td style = \"text-align: right;\">-1.27929</td><td style = \"text-align: right;\">-0.868672</td></tr><tr><td class = \"rowNumber\" style = \"font-weight: bold; text-align: right;\">99</td><td style = \"text-align: right;\">-2.22622</td><td style = \"text-align: right;\">2.07376</td></tr><tr><td class = \"rowNumber\" style = \"font-weight: bold; text-align: right;\">100</td><td style = \"text-align: right;\">1.51254</td><td style = \"text-align: right;\">0.0806104</td></tr></tbody></table></div>"
      ],
      "text/latex": [
       "\\begin{tabular}{r|cc}\n",
       "\t& A & B\\\\\n",
       "\t\\hline\n",
       "\t& Float64 & Float64\\\\\n",
       "\t\\hline\n",
       "\t1 & 0.206422 & -0.438173 \\\\\n",
       "\t2 & -1.08138 & 0.453483 \\\\\n",
       "\t3 & -0.0373427 & 1.28641 \\\\\n",
       "\t4 & -0.354838 & 1.18583 \\\\\n",
       "\t5 & 0.299882 & 2.02138 \\\\\n",
       "\t6 & -0.290412 & 0.715692 \\\\\n",
       "\t7 & 1.13688 & 1.27957 \\\\\n",
       "\t8 & -0.330165 & 0.990693 \\\\\n",
       "\t9 & 1.5353 & -0.0390875 \\\\\n",
       "\t10 & -0.516259 & 0.134635 \\\\\n",
       "\t11 & 0.571391 & 2.09049 \\\\\n",
       "\t12 & -0.172409 & 0.910264 \\\\\n",
       "\t13 & 0.352973 & -0.672885 \\\\\n",
       "\t14 & -0.600351 & -1.34801 \\\\\n",
       "\t15 & -0.0559142 & 1.05335 \\\\\n",
       "\t16 & -0.720871 & -1.85198 \\\\\n",
       "\t17 & 0.538869 & 2.03968 \\\\\n",
       "\t18 & 1.87566 & -1.17427 \\\\\n",
       "\t19 & 0.30226 & -1.49474 \\\\\n",
       "\t20 & -1.34547 & -1.00808 \\\\\n",
       "\t21 & -1.4499 & -0.576181 \\\\\n",
       "\t22 & 1.30329 & 0.965277 \\\\\n",
       "\t23 & 0.235713 & 0.745539 \\\\\n",
       "\t24 & 0.162323 & 1.99166 \\\\\n",
       "\t25 & 0.156831 & -0.179486 \\\\\n",
       "\t26 & -0.799052 & 0.458992 \\\\\n",
       "\t27 & 1.13859 & -0.755987 \\\\\n",
       "\t28 & 0.339677 & 0.487861 \\\\\n",
       "\t29 & -1.10131 & 0.60375 \\\\\n",
       "\t30 & -0.202074 & -1.01574 \\\\\n",
       "\t$\\dots$ & $\\dots$ & $\\dots$ \\\\\n",
       "\\end{tabular}\n"
      ],
      "text/plain": [
       "\u001b[1m100×2 DataFrame\u001b[0m\n",
       "\u001b[1m Row \u001b[0m│\u001b[1m A          \u001b[0m\u001b[1m B          \u001b[0m\n",
       "     │\u001b[90m Float64    \u001b[0m\u001b[90m Float64    \u001b[0m\n",
       "─────┼────────────────────────\n",
       "   1 │  0.206422   -0.438173\n",
       "   2 │ -1.08138     0.453483\n",
       "   3 │ -0.0373427   1.28641\n",
       "   4 │ -0.354838    1.18583\n",
       "   5 │  0.299882    2.02138\n",
       "   6 │ -0.290412    0.715692\n",
       "   7 │  1.13688     1.27957\n",
       "   8 │ -0.330165    0.990693\n",
       "   9 │  1.5353     -0.0390875\n",
       "  10 │ -0.516259    0.134635\n",
       "  11 │  0.571391    2.09049\n",
       "  ⋮  │     ⋮           ⋮\n",
       "  91 │  0.0256448   0.261398\n",
       "  92 │ -0.891895    0.618985\n",
       "  93 │ -1.3569      0.818078\n",
       "  94 │ -0.971001    0.846268\n",
       "  95 │ -1.37016    -0.639578\n",
       "  96 │  0.530299    0.732189\n",
       "  97 │  0.397749    1.48144\n",
       "  98 │ -1.27929    -0.868672\n",
       "  99 │ -2.22622     2.07376\n",
       " 100 │  1.51254     0.0806104\n",
       "\u001b[36m               79 rows omitted\u001b[0m"
      ]
     },
     "execution_count": 49,
     "metadata": {},
     "output_type": "execute_result"
    }
   ],
   "source": [
    "df = DataFrame(:A => randn(100), :B => randn(100))"
   ]
  },
  {
   "cell_type": "code",
   "execution_count": 55,
   "id": "f8de33ae-504a-445d-9fde-0267d6ee6de5",
   "metadata": {},
   "outputs": [
    {
     "data": {
      "text/html": [
       "<div><div style = \"float: left;\"><span>15×2 DataFrame</span></div><div style = \"clear: both;\"></div></div><div class = \"data-frame\" style = \"overflow-x: scroll;\"><table class = \"data-frame\" style = \"margin-bottom: 6px;\"><thead><tr class = \"header\"><th class = \"rowNumber\" style = \"font-weight: bold; text-align: right;\">Row</th><th style = \"text-align: left;\">A</th><th style = \"text-align: left;\">B</th></tr><tr class = \"subheader headerLastRow\"><th class = \"rowNumber\" style = \"font-weight: bold; text-align: right;\"></th><th title = \"Float64\" style = \"text-align: left;\">Float64</th><th title = \"Float64\" style = \"text-align: left;\">Float64</th></tr></thead><tbody><tr><td class = \"rowNumber\" style = \"font-weight: bold; text-align: right;\">1</td><td style = \"text-align: right;\">1.5353</td><td style = \"text-align: right;\">-0.0390875</td></tr><tr><td class = \"rowNumber\" style = \"font-weight: bold; text-align: right;\">2</td><td style = \"text-align: right;\">1.87566</td><td style = \"text-align: right;\">-1.17427</td></tr><tr><td class = \"rowNumber\" style = \"font-weight: bold; text-align: right;\">3</td><td style = \"text-align: right;\">1.30329</td><td style = \"text-align: right;\">0.965277</td></tr><tr><td class = \"rowNumber\" style = \"font-weight: bold; text-align: right;\">4</td><td style = \"text-align: right;\">2.26214</td><td style = \"text-align: right;\">-0.742692</td></tr><tr><td class = \"rowNumber\" style = \"font-weight: bold; text-align: right;\">5</td><td style = \"text-align: right;\">1.52092</td><td style = \"text-align: right;\">-0.82162</td></tr><tr><td class = \"rowNumber\" style = \"font-weight: bold; text-align: right;\">6</td><td style = \"text-align: right;\">1.82826</td><td style = \"text-align: right;\">0.614934</td></tr><tr><td class = \"rowNumber\" style = \"font-weight: bold; text-align: right;\">7</td><td style = \"text-align: right;\">1.33488</td><td style = \"text-align: right;\">0.128371</td></tr><tr><td class = \"rowNumber\" style = \"font-weight: bold; text-align: right;\">8</td><td style = \"text-align: right;\">2.03317</td><td style = \"text-align: right;\">-0.0992538</td></tr><tr><td class = \"rowNumber\" style = \"font-weight: bold; text-align: right;\">9</td><td style = \"text-align: right;\">1.7663</td><td style = \"text-align: right;\">-1.68429</td></tr><tr><td class = \"rowNumber\" style = \"font-weight: bold; text-align: right;\">10</td><td style = \"text-align: right;\">1.44953</td><td style = \"text-align: right;\">-0.217995</td></tr><tr><td class = \"rowNumber\" style = \"font-weight: bold; text-align: right;\">11</td><td style = \"text-align: right;\">1.27344</td><td style = \"text-align: right;\">-1.17042</td></tr><tr><td class = \"rowNumber\" style = \"font-weight: bold; text-align: right;\">12</td><td style = \"text-align: right;\">3.30751</td><td style = \"text-align: right;\">-1.62082</td></tr><tr><td class = \"rowNumber\" style = \"font-weight: bold; text-align: right;\">13</td><td style = \"text-align: right;\">1.40412</td><td style = \"text-align: right;\">-1.97907</td></tr><tr><td class = \"rowNumber\" style = \"font-weight: bold; text-align: right;\">14</td><td style = \"text-align: right;\">1.77256</td><td style = \"text-align: right;\">-0.617585</td></tr><tr><td class = \"rowNumber\" style = \"font-weight: bold; text-align: right;\">15</td><td style = \"text-align: right;\">1.51254</td><td style = \"text-align: right;\">0.0806104</td></tr></tbody></table></div>"
      ],
      "text/latex": [
       "\\begin{tabular}{r|cc}\n",
       "\t& A & B\\\\\n",
       "\t\\hline\n",
       "\t& Float64 & Float64\\\\\n",
       "\t\\hline\n",
       "\t1 & 1.5353 & -0.0390875 \\\\\n",
       "\t2 & 1.87566 & -1.17427 \\\\\n",
       "\t3 & 1.30329 & 0.965277 \\\\\n",
       "\t4 & 2.26214 & -0.742692 \\\\\n",
       "\t5 & 1.52092 & -0.82162 \\\\\n",
       "\t6 & 1.82826 & 0.614934 \\\\\n",
       "\t7 & 1.33488 & 0.128371 \\\\\n",
       "\t8 & 2.03317 & -0.0992538 \\\\\n",
       "\t9 & 1.7663 & -1.68429 \\\\\n",
       "\t10 & 1.44953 & -0.217995 \\\\\n",
       "\t11 & 1.27344 & -1.17042 \\\\\n",
       "\t12 & 3.30751 & -1.62082 \\\\\n",
       "\t13 & 1.40412 & -1.97907 \\\\\n",
       "\t14 & 1.77256 & -0.617585 \\\\\n",
       "\t15 & 1.51254 & 0.0806104 \\\\\n",
       "\\end{tabular}\n"
      ],
      "text/plain": [
       "\u001b[1m15×2 DataFrame\u001b[0m\n",
       "\u001b[1m Row \u001b[0m│\u001b[1m A       \u001b[0m\u001b[1m B          \u001b[0m\n",
       "     │\u001b[90m Float64 \u001b[0m\u001b[90m Float64    \u001b[0m\n",
       "─────┼─────────────────────\n",
       "   1 │ 1.5353   -0.0390875\n",
       "   2 │ 1.87566  -1.17427\n",
       "   3 │ 1.30329   0.965277\n",
       "   4 │ 2.26214  -0.742692\n",
       "   5 │ 1.52092  -0.82162\n",
       "   6 │ 1.82826   0.614934\n",
       "   7 │ 1.33488   0.128371\n",
       "   8 │ 2.03317  -0.0992538\n",
       "   9 │ 1.7663   -1.68429\n",
       "  10 │ 1.44953  -0.217995\n",
       "  11 │ 1.27344  -1.17042\n",
       "  12 │ 3.30751  -1.62082\n",
       "  13 │ 1.40412  -1.97907\n",
       "  14 │ 1.77256  -0.617585\n",
       "  15 │ 1.51254   0.0806104"
      ]
     },
     "execution_count": 55,
     "metadata": {},
     "output_type": "execute_result"
    }
   ],
   "source": [
    "df[df[!, :A] .> 1.25]"
   ]
  },
  {
   "cell_type": "code",
   "execution_count": 69,
   "id": "1b6d94b6-9c10-4e99-a688-7d2dd73806fd",
   "metadata": {},
   "outputs": [
    {
     "data": {
      "text/plain": [
       "sampler (generic function with 1 method)"
      ]
     },
     "execution_count": 69,
     "metadata": {},
     "output_type": "execute_result"
    }
   ],
   "source": [
    "function sampler()\n",
    "    y = 5\n",
    "    z = 2\n",
    "    (var)->(z;y)\n",
    "end"
   ]
  },
  {
   "cell_type": "code",
   "execution_count": 70,
   "id": "941e587e-75c3-4192-b191-4660e8bb11ba",
   "metadata": {},
   "outputs": [
    {
     "data": {
      "text/plain": [
       "#38 (generic function with 1 method)"
      ]
     },
     "execution_count": 70,
     "metadata": {},
     "output_type": "execute_result"
    }
   ],
   "source": [
    "x = sampler()"
   ]
  },
  {
   "cell_type": "code",
   "execution_count": 71,
   "id": "4f8d0873-e6c9-4cd1-a459-5ee3143b4e46",
   "metadata": {},
   "outputs": [
    {
     "data": {
      "text/plain": [
       "(:z, :y)"
      ]
     },
     "execution_count": 71,
     "metadata": {},
     "output_type": "execute_result"
    }
   ],
   "source": [
    "fieldnames(typeof(x))"
   ]
  },
  {
   "cell_type": "code",
   "execution_count": 72,
   "id": "73921194-3754-44ec-a230-fadfccfb16df",
   "metadata": {},
   "outputs": [
    {
     "data": {
      "text/plain": [
       "5"
      ]
     },
     "execution_count": 72,
     "metadata": {},
     "output_type": "execute_result"
    }
   ],
   "source": [
    "x.y"
   ]
  },
  {
   "cell_type": "code",
   "execution_count": null,
   "id": "4ab1c09f-5339-4bfd-acaf-4fdc7527bc45",
   "metadata": {},
   "outputs": [],
   "source": []
  }
 ],
 "metadata": {
  "kernelspec": {
   "display_name": "Julia 1.9.2",
   "language": "julia",
   "name": "julia-1.9"
  },
  "language_info": {
   "file_extension": ".jl",
   "mimetype": "application/julia",
   "name": "julia",
   "version": "1.9.2"
  }
 },
 "nbformat": 4,
 "nbformat_minor": 5
}

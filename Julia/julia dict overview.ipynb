{
 "cells": [
  {
   "cell_type": "code",
   "execution_count": 2,
   "id": "e801533f-5d3d-4a94-8d33-a0f799da5065",
   "metadata": {},
   "outputs": [
    {
     "name": "stdout",
     "output_type": "stream",
     "text": [
      "[1, 2, 3]\n"
     ]
    }
   ],
   "source": [
    "new_dct = Dict(:A => [1, 2, 3], :B => [4, 5, 6])\n",
    "\n",
    "arr = new_dct[:A]\n",
    "println(arr)"
   ]
  },
  {
   "cell_type": "code",
   "execution_count": 3,
   "id": "f3efb6fe-9115-46cb-bc8a-3c74a84e0fce",
   "metadata": {},
   "outputs": [
    {
     "name": "stdout",
     "output_type": "stream",
     "text": [
      "[:A, :B]"
     ]
    }
   ],
   "source": [
    "show(keys(new_dct))"
   ]
  },
  {
   "cell_type": "code",
   "execution_count": 4,
   "id": "9d483f17-94d7-4572-a9e7-d0f219fcd4af",
   "metadata": {},
   "outputs": [
    {
     "name": "stdout",
     "output_type": "stream",
     "text": [
      "[[1, 2, 3], [4, 5, 6]]"
     ]
    }
   ],
   "source": [
    "show(values(new_dct))"
   ]
  },
  {
   "cell_type": "code",
   "execution_count": 5,
   "id": "309cd1b5-a9b4-43c8-9507-f37103feb978",
   "metadata": {
    "scrolled": true
   },
   "outputs": [
    {
     "data": {
      "text/plain": [
       "Dict{Symbol, Vector{Int64}} with 2 entries:\n",
       "  :A => [1, 2, 3]\n",
       "  :B => [4, 5, 6]"
      ]
     },
     "execution_count": 5,
     "metadata": {},
     "output_type": "execute_result"
    }
   ],
   "source": [
    "pairs(new_dct)"
   ]
  },
  {
   "cell_type": "code",
   "execution_count": 8,
   "id": "57d7ded9-503f-43c8-93f4-4942fdc66750",
   "metadata": {
    "scrolled": true
   },
   "outputs": [
    {
     "name": "stdout",
     "output_type": "stream",
     "text": [
      "pair: A => [1, 2, 3]\n",
      "pair: B => [4, 5, 6]\n",
      "key: A | value: [1, 2, 3]\n",
      "key: B | value: [4, 5, 6]\n"
     ]
    }
   ],
   "source": [
    "for pair in new_dct\n",
    "    println(\"pair: \" * \"$(pair[1]) => $(pair[2])\")\n",
    "end\n",
    "for (key, value) in new_dct\n",
    "    println(\"key: \" * string(key) * \" | value: \" * string(value))\n",
    "end"
   ]
  },
  {
   "cell_type": "code",
   "execution_count": 10,
   "id": "c450648c-e7e0-4c20-801c-7addd787a08a",
   "metadata": {},
   "outputs": [
    {
     "name": "stdout",
     "output_type": "stream",
     "text": [
      "A => [1, 2, 3]\n",
      "B => [4, 5, 6]\n"
     ]
    }
   ],
   "source": [
    "for key in keys(new_dct)\n",
    "    value = new_dct[key]\n",
    "    println(key, \" => \", value)\n",
    "end"
   ]
  },
  {
   "cell_type": "code",
   "execution_count": null,
   "id": "537feb1d-3edf-44f5-a691-43ba86f07599",
   "metadata": {},
   "outputs": [],
   "source": []
  }
 ],
 "metadata": {
  "kernelspec": {
   "display_name": "Julia 1.9.2",
   "language": "julia",
   "name": "julia-1.9"
  },
  "language_info": {
   "file_extension": ".jl",
   "mimetype": "application/julia",
   "name": "julia",
   "version": "1.9.2"
  }
 },
 "nbformat": 4,
 "nbformat_minor": 5
}

{
 "cells": [
  {
   "cell_type": "code",
   "execution_count": 3,
   "id": "43078675-a15a-452f-b079-175221e77627",
   "metadata": {},
   "outputs": [
    {
     "data": {
      "text/plain": [
       "\"/home/emmac\""
      ]
     },
     "execution_count": 3,
     "metadata": {},
     "output_type": "execute_result"
    }
   ],
   "source": [
    "# example input: /home/emmac/sample.svg\n",
    "function get_dir_fromfile(path::String)\n",
    "    # `split` splits by delimiter, gives a `Vector{SubString}`\n",
    "    file_parts::Vector{SubString} = split(path, \"/\")\n",
    "    # we index 1 less than the end. \n",
    "     # (Yes. We can do arithmetic with symbolic indexes.)\n",
    "    join(file_parts[1:end - 1])\n",
    "    # more traditional alternative\n",
    "    join(file_parts[1:length(file_parts) - 1], \"/\")\n",
    "end\n",
    "\n",
    "# example output: /home/emmac\n",
    "get_dir_fromfile(\"/home/emmac/sample.svg\")"
   ]
  },
  {
   "cell_type": "code",
   "execution_count": 4,
   "id": "59be723c-fff9-4804-9f75-cafdd79698fc",
   "metadata": {},
   "outputs": [
    {
     "data": {
      "text/plain": [
       "3-element Vector{Int64}:\n",
       " 2\n",
       " 3\n",
       " 4"
      ]
     },
     "execution_count": 4,
     "metadata": {},
     "output_type": "execute_result"
    }
   ],
   "source": [
    "x = [1, 2, 3, 4, 5]\n",
    "x[2:4]"
   ]
  },
  {
   "cell_type": "code",
   "execution_count": 5,
   "id": "3f7c4ae5-a146-47d1-88d6-3574172d66a8",
   "metadata": {},
   "outputs": [],
   "source": [
    "import Base: getindex, setindex"
   ]
  },
  {
   "cell_type": "code",
   "execution_count": 11,
   "id": "853f882f-ac38-43f3-b3fb-b90751b26212",
   "metadata": {},
   "outputs": [
    {
     "data": {
      "text/plain": [
       "getindex (generic function with 227 methods)"
      ]
     },
     "execution_count": 11,
     "metadata": {},
     "output_type": "execute_result"
    }
   ],
   "source": [
    "function getindex(vec::Vector{<:Any}, f::Function)\n",
    "    f = findall(element -> f(element), vec)\n",
    "    [vec[x] for x in f]\n",
    "end"
   ]
  },
  {
   "cell_type": "code",
   "execution_count": 13,
   "id": "edd76c8b-8276-4662-81ce-2fef12940534",
   "metadata": {
    "scrolled": true
   },
   "outputs": [
    {
     "data": {
      "text/plain": [
       "1-element Vector{Int64}:\n",
       " 5"
      ]
     },
     "execution_count": 13,
     "metadata": {},
     "output_type": "execute_result"
    }
   ],
   "source": [
    "[5, 10, 15][x::Int64 -> x < 10]"
   ]
  },
  {
   "cell_type": "code",
   "execution_count": 23,
   "id": "1f8e0d82-627f-4ec6-bed7-6c97140ee8ad",
   "metadata": {},
   "outputs": [
    {
     "data": {
      "text/plain": [
       "getindex (generic function with 228 methods)"
      ]
     },
     "execution_count": 23,
     "metadata": {},
     "output_type": "execute_result"
    }
   ],
   "source": [
    "mutable struct BankAccount\n",
    "     routing_n::Int64\n",
    "     account_n::Int64\n",
    "end\n",
    "\n",
    "getindex(vec::Vector{BankAccount}, routing::Int64, accn::Int64) = begin\n",
    "    found = findfirst(\n",
    "        account -> account.routing_n == routing && account.account_n == accn, \n",
    "        vec)\n",
    "    if isnothing(found)\n",
    "         throw(BoundsError)\n",
    "    end\n",
    "    vec[found]\n",
    "end"
   ]
  },
  {
   "cell_type": "code",
   "execution_count": 25,
   "id": "a892d76d-5284-4850-9a29-a43d765baf2b",
   "metadata": {},
   "outputs": [
    {
     "data": {
      "text/html": [
       "<div><div style = \"float: left;\"><span>DataFrameRow (2 columns)</span></div><div style = \"clear: both;\"></div></div><div class = \"data-frame\" style = \"overflow-x: scroll;\"><table class = \"data-frame\" style = \"margin-bottom: 6px;\"><thead><tr class = \"header\"><th class = \"rowLabel\" style = \"font-weight: bold; text-align: right;\">Row</th><th style = \"text-align: left;\">A</th><th style = \"text-align: left;\">B</th></tr><tr class = \"subheader headerLastRow\"><th class = \"rowLabel\" style = \"font-weight: bold; text-align: right;\"></th><th title = \"Int64\" style = \"text-align: left;\">Int64</th><th title = \"Int64\" style = \"text-align: left;\">Int64</th></tr></thead><tbody><tr><td class = \"rowLabel\" style = \"font-weight: bold; text-align: right;\">1</td><td style = \"text-align: right;\">1</td><td style = \"text-align: right;\">2</td></tr></tbody></table></div>"
      ],
      "text/latex": [
       "\\begin{tabular}{r|cc}\n",
       "\t& A & B\\\\\n",
       "\t\\hline\n",
       "\t& Int64 & Int64\\\\\n",
       "\t\\hline\n",
       "\t1 & 1 & 2 \\\\\n",
       "\\end{tabular}\n"
      ],
      "text/plain": [
       "\u001b[1mDataFrameRow\u001b[0m\n",
       "\u001b[1m Row \u001b[0m│\u001b[1m A     \u001b[0m\u001b[1m B     \u001b[0m\n",
       "     │\u001b[90m Int64 \u001b[0m\u001b[90m Int64 \u001b[0m\n",
       "─────┼──────────────\n",
       "   1 │     1      2"
      ]
     },
     "execution_count": 25,
     "metadata": {},
     "output_type": "execute_result"
    }
   ],
   "source": [
    "\n",
    "using DataFrames\n",
    "\n",
    "df = DataFrame(:A => [1, 8, 7, 5, 8, 8], :B => [2, 3, 0, 0, 3, 5])\n",
    "\n",
    "df[!, :A]\n",
    "[1, 8, 7, 5, 8, 8]\n",
    "\n",
    "df[1, 1:2]"
   ]
  },
  {
   "cell_type": "code",
   "execution_count": null,
   "id": "abfa9845-ae29-4e74-8329-c745eb6fa014",
   "metadata": {},
   "outputs": [],
   "source": []
  }
 ],
 "metadata": {
  "kernelspec": {
   "display_name": "Julia 1.9.2",
   "language": "julia",
   "name": "julia-1.9"
  },
  "language_info": {
   "file_extension": ".jl",
   "mimetype": "application/julia",
   "name": "julia",
   "version": "1.9.2"
  }
 },
 "nbformat": 4,
 "nbformat_minor": 5
}

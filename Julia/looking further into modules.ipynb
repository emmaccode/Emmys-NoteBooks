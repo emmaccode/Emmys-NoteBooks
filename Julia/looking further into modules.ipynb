{
 "cells": [
  {
   "cell_type": "code",
   "execution_count": 1,
   "id": "f5569afc-8276-46f4-aba8-e4172903c795",
   "metadata": {},
   "outputs": [
    {
     "data": {
      "text/plain": [
       "Main.MySampleModule"
      ]
     },
     "execution_count": 1,
     "metadata": {},
     "output_type": "execute_result"
    }
   ],
   "source": [
    "module MySampleModule\n",
    "\n",
    "end"
   ]
  },
  {
   "cell_type": "code",
   "execution_count": 7,
   "id": "3494f6e7-b0b8-4572-beb9-a13e8f99c83a",
   "metadata": {},
   "outputs": [
    {
     "name": "stderr",
     "output_type": "stream",
     "text": [
      "WARNING: replacing module MySampleModule.\n"
     ]
    },
    {
     "data": {
      "text/plain": [
       "Main.MySampleModule"
      ]
     },
     "execution_count": 7,
     "metadata": {},
     "output_type": "execute_result"
    }
   ],
   "source": [
    "module MySampleModule\n",
    "\n",
    "module MySubModule\n",
    "\n",
    "end\n",
    "\n",
    "number = 5\n",
    "export number\n",
    "end"
   ]
  },
  {
   "cell_type": "code",
   "execution_count": 10,
   "id": "95e04c06-7161-478f-9ca6-95e7e4075d2c",
   "metadata": {},
   "outputs": [
    {
     "name": "stdout",
     "output_type": "stream",
     "text": [
      "5\n"
     ]
    }
   ],
   "source": [
    "using Main.MySampleModule\n",
    "println(number)"
   ]
  },
  {
   "cell_type": "code",
   "execution_count": 12,
   "id": "b6e27386-c3e0-48be-9358-09fec9d190a1",
   "metadata": {},
   "outputs": [],
   "source": [
    "using Main.MySampleModule: MySubModule"
   ]
  },
  {
   "cell_type": "code",
   "execution_count": 13,
   "id": "4d4ea95c-f66e-4d33-b34a-1b2d5432b3b4",
   "metadata": {},
   "outputs": [],
   "source": [
    "import Main.MySampleModule\n",
    "\n",
    "import Main.MySampleModule: number"
   ]
  },
  {
   "cell_type": "code",
   "execution_count": 23,
   "id": "01b0ab78-96c4-4261-a2cc-42131c741010",
   "metadata": {},
   "outputs": [
    {
     "name": "stderr",
     "output_type": "stream",
     "text": [
      "WARNING: replacing module NewMod.\n"
     ]
    },
    {
     "data": {
      "text/plain": [
       "Main.NewMod"
      ]
     },
     "execution_count": 23,
     "metadata": {},
     "output_type": "execute_result"
    }
   ],
   "source": [
    "module NewMod\n",
    "value1 = 5\n",
    "value2 = \"hello\"\n",
    "\n",
    "export value1\n",
    "end"
   ]
  },
  {
   "cell_type": "code",
   "execution_count": 24,
   "id": "51bc367a-fe1b-4424-b1f1-c88c7639544d",
   "metadata": {},
   "outputs": [
    {
     "data": {
      "text/plain": [
       "2-element Vector{Symbol}:\n",
       " :NewMod\n",
       " :value1"
      ]
     },
     "execution_count": 24,
     "metadata": {},
     "output_type": "execute_result"
    }
   ],
   "source": [
    "names(Main.NewMod)"
   ]
  },
  {
   "cell_type": "code",
   "execution_count": 25,
   "id": "c8859eec-5c54-4231-b531-a8c696780991",
   "metadata": {},
   "outputs": [
    {
     "data": {
      "text/plain": [
       "7-element Vector{Symbol}:\n",
       " Symbol(\"#eval\")\n",
       " Symbol(\"#include\")\n",
       " :NewMod\n",
       " :eval\n",
       " :include\n",
       " :value1\n",
       " :value2"
      ]
     },
     "execution_count": 25,
     "metadata": {},
     "output_type": "execute_result"
    }
   ],
   "source": [
    "names(Main.NewMod, all = true)"
   ]
  },
  {
   "cell_type": "code",
   "execution_count": 28,
   "id": "1af926bc-650d-400b-83e2-674f3bd455b3",
   "metadata": {},
   "outputs": [
    {
     "name": "stdout",
     "output_type": "stream",
     "text": [
      "hello world"
     ]
    },
    {
     "name": "stderr",
     "output_type": "stream",
     "text": [
      "WARNING: replacing module NewMod.\n"
     ]
    }
   ],
   "source": [
    "module NewMod\n",
    "value1 = 5\n",
    "value2 = \"hello\"\n",
    "value3 = \" \"\n",
    "value4 = \"world\"\n",
    "\n",
    "export value2, value3, value4\n",
    "end\n",
    "\n",
    "allstrings = \"\"\n",
    "for x in names(Main.NewMod)\n",
    "    value = getfield(Main.NewMod, x)\n",
    "    if typeof(value) <: AbstractString\n",
    "        allstrings = allstrings * value\n",
    "    end\n",
    "end\n",
    "print(allstrings)"
   ]
  },
  {
   "cell_type": "code",
   "execution_count": 30,
   "id": "06bc92e1-a77b-401e-8d59-52aca18d17f1",
   "metadata": {},
   "outputs": [
    {
     "name": "stdout",
     "output_type": "stream",
     "text": [
      "false\n",
      "false\n",
      "true\n",
      "true\n"
     ]
    }
   ],
   "source": [
    "println(MySampleModule.eval == eval)\n",
    "println(MySampleModule.eval == Main.eval)\n",
    "println(Main.eval == eval)\n",
    "println(MySampleModule.eval == MySampleModule.eval)"
   ]
  },
  {
   "cell_type": "code",
   "execution_count": 31,
   "id": "0e2f0f9c-1da4-4f22-852a-bf2e2b99362d",
   "metadata": {},
   "outputs": [
    {
     "name": "stdout",
     "output_type": "stream",
     "text": [
      "10"
     ]
    }
   ],
   "source": [
    "MySampleModule.eval(Meta.parse(\"print(number + 5)\"))"
   ]
  },
  {
   "cell_type": "code",
   "execution_count": 32,
   "id": "588c4e11-f794-4b04-a99d-4a375b1ef7e2",
   "metadata": {},
   "outputs": [
    {
     "data": {
      "text/plain": [
       "1000"
      ]
     },
     "execution_count": 32,
     "metadata": {},
     "output_type": "execute_result"
    }
   ],
   "source": [
    "MySampleModule.eval(Meta.parse(\"my_var = 1000\"))"
   ]
  },
  {
   "cell_type": "code",
   "execution_count": 33,
   "id": "493aef35-e45f-458d-872e-d75cd6673b47",
   "metadata": {},
   "outputs": [
    {
     "data": {
      "text/plain": [
       "1000"
      ]
     },
     "execution_count": 33,
     "metadata": {},
     "output_type": "execute_result"
    }
   ],
   "source": [
    "MySampleModule.my_var"
   ]
  },
  {
   "cell_type": "code",
   "execution_count": 34,
   "id": "ebdcb6c9-8938-4b6d-87ce-2f4cf16966ff",
   "metadata": {},
   "outputs": [
    {
     "data": {
      "text/plain": [
       "Main.Sample"
      ]
     },
     "execution_count": 34,
     "metadata": {},
     "output_type": "execute_result"
    }
   ],
   "source": [
    "baremodule Sample\n",
    "\n",
    "end"
   ]
  },
  {
   "cell_type": "code",
   "execution_count": 36,
   "id": "0060d8c3-0b1c-4f9e-a832-a6cd4a3f341b",
   "metadata": {},
   "outputs": [
    {
     "data": {
      "text/plain": [
       "1-element Vector{Symbol}:\n",
       " :Sample"
      ]
     },
     "execution_count": 36,
     "metadata": {},
     "output_type": "execute_result"
    }
   ],
   "source": [
    "names(Sample, all = true)"
   ]
  },
  {
   "cell_type": "code",
   "execution_count": 37,
   "id": "bc301c72-5f5e-4081-80c1-9c230e948848",
   "metadata": {},
   "outputs": [
    {
     "data": {
      "text/plain": [
       "eval (generic function with 1 method)"
      ]
     },
     "execution_count": 37,
     "metadata": {},
     "output_type": "execute_result"
    }
   ],
   "source": [
    "Sample.eval"
   ]
  },
  {
   "cell_type": "code",
   "execution_count": null,
   "id": "9676072d-5ee2-48aa-85b2-74ed064af27a",
   "metadata": {},
   "outputs": [],
   "source": []
  }
 ],
 "metadata": {
  "kernelspec": {
   "display_name": "Julia 1.9.2",
   "language": "julia",
   "name": "julia-1.9"
  },
  "language_info": {
   "file_extension": ".jl",
   "mimetype": "application/julia",
   "name": "julia",
   "version": "1.9.2"
  }
 },
 "nbformat": 4,
 "nbformat_minor": 5
}

{
 "cells": [
  {
   "cell_type": "code",
   "execution_count": 1,
   "id": "b72f847e-2b2c-4321-ba46-717e633e80f9",
   "metadata": {},
   "outputs": [
    {
     "data": {
      "text/plain": [
       "my_fancy_function (generic function with 0 methods)"
      ]
     },
     "execution_count": 1,
     "metadata": {},
     "output_type": "execute_result"
    }
   ],
   "source": [
    "function my_fancy_function end"
   ]
  },
  {
   "cell_type": "code",
   "execution_count": 2,
   "id": "5edaa5cc-e572-4701-98df-d3efc57adab0",
   "metadata": {},
   "outputs": [
    {
     "data": {
      "text/html": [
       "# 0 methods for generic function <b>my_fancy_function</b> from \u001b[35mMain\u001b[39m<ul></ul>"
      ],
      "text/plain": [
       "# 0 methods for generic function \"my_fancy_function\" from \u001b[35mMain\u001b[39m"
      ]
     },
     "execution_count": 2,
     "metadata": {},
     "output_type": "execute_result"
    }
   ],
   "source": [
    "methods(my_fancy_function)"
   ]
  },
  {
   "cell_type": "code",
   "execution_count": 3,
   "id": "360f9fdd-d26a-4bd1-975f-c32739baba51",
   "metadata": {},
   "outputs": [
    {
     "data": {
      "text/plain": [
       "my_fancy_function (generic function with 1 method)"
      ]
     },
     "execution_count": 3,
     "metadata": {},
     "output_type": "execute_result"
    }
   ],
   "source": [
    "function my_fancy_function(a::Any)\n",
    "    println(\"I have no idea what type that is!\")\n",
    "end"
   ]
  },
  {
   "cell_type": "code",
   "execution_count": 4,
   "id": "066e5379-d638-42da-aa3a-fae3f925f5f0",
   "metadata": {},
   "outputs": [
    {
     "data": {
      "text/html": [
       "# 1 method for generic function <b>my_fancy_function</b> from \u001b[35mMain\u001b[39m:<ul><li> my_fancy_function(a) in Main at In[3]:1</li> </ul>"
      ],
      "text/plain": [
       "# 1 method for generic function \"my_fancy_function\" from \u001b[35mMain\u001b[39m:\n",
       " [1] my_fancy_function(\u001b[90ma\u001b[39m)\n",
       "\u001b[90m     @\u001b[39m \u001b[90m\u001b[4mIn[3]:1\u001b[24m\u001b[39m"
      ]
     },
     "execution_count": 4,
     "metadata": {},
     "output_type": "execute_result"
    }
   ],
   "source": [
    "methods(my_fancy_function)"
   ]
  },
  {
   "cell_type": "code",
   "execution_count": 5,
   "id": "1fb2092e-d9b1-4a5f-90b6-77153c287a30",
   "metadata": {},
   "outputs": [
    {
     "name": "stdout",
     "output_type": "stream",
     "text": [
      "no. methods: 1\n",
      "my_fancy_function(\u001b[90ma\u001b[39m)\u001b[90m @\u001b[39m \u001b[90mMain\u001b[39m \u001b[90m\u001b[4mIn[3]:1\u001b[24m\u001b[39m\n"
     ]
    }
   ],
   "source": [
    "ms = methods(my_fancy_function)\n",
    "println(\"no. methods: $(length(ms))\")\n",
    "for m in ms\n",
    "    println(m)\n",
    "end"
   ]
  },
  {
   "cell_type": "code",
   "execution_count": 7,
   "id": "cabe949e-c94e-4f95-9404-a9508ca9cf66",
   "metadata": {},
   "outputs": [
    {
     "data": {
      "text/plain": [
       "my_fancy_function (generic function with 3 methods)"
      ]
     },
     "execution_count": 7,
     "metadata": {},
     "output_type": "execute_result"
    }
   ],
   "source": [
    "function my_fancy_function(s::AbstractString)\n",
    "    println(\"That is some kind of string.\")\n",
    "end\n",
    "function my_fancy_function(s::String)\n",
    "    println(\"That is a regular String\")\n",
    "end"
   ]
  },
  {
   "cell_type": "code",
   "execution_count": 8,
   "id": "269f7b3c-3e49-4816-9ba4-faf098e71316",
   "metadata": {
    "scrolled": true
   },
   "outputs": [
    {
     "data": {
      "text/html": [
       "# 2 methods for generic function <b>my_fancy_function</b> from \u001b[35mMain\u001b[39m:<ul><li> my_fancy_function(s::<b>String</b>) in Main at In[7]:4</li> <li> my_fancy_function(s::<b>AbstractString</b>) in Main at In[7]:1</li> </ul>"
      ],
      "text/plain": [
       "# 2 methods for generic function \"my_fancy_function\" from \u001b[35mMain\u001b[39m:\n",
       " [1] my_fancy_function(\u001b[90ms\u001b[39m::\u001b[1mString\u001b[22m)\n",
       "\u001b[90m     @\u001b[39m \u001b[90m\u001b[4mIn[7]:4\u001b[24m\u001b[39m\n",
       " [2] my_fancy_function(\u001b[90ms\u001b[39m::\u001b[1mAbstractString\u001b[22m)\n",
       "\u001b[90m     @\u001b[39m \u001b[90m\u001b[4mIn[7]:1\u001b[24m\u001b[39m"
      ]
     },
     "execution_count": 8,
     "metadata": {},
     "output_type": "execute_result"
    }
   ],
   "source": [
    "methods(my_fancy_function, [AbstractString])"
   ]
  },
  {
   "cell_type": "code",
   "execution_count": 9,
   "id": "8ed72e0d-b1b2-4592-bc2c-5cfa2dd4f6f7",
   "metadata": {},
   "outputs": [
    {
     "data": {
      "text/plain": [
       "(:name, :module, :file, :line, :primary_world, :deleted_world, :sig, :specializations, :speckeyset, :slot_syms, :external_mt, :source, :unspecialized, :generator, :roots, :root_blocks, :nroots_sysimg, :ccallable, :invokes, :recursion_relation, :nargs, :called, :nospecialize, :nkw, :isva, :pure, :is_for_opaque_closure, :constprop, :purity)"
      ]
     },
     "execution_count": 9,
     "metadata": {},
     "output_type": "execute_result"
    }
   ],
   "source": [
    "fieldnames(Method)"
   ]
  },
  {
   "cell_type": "code",
   "execution_count": 15,
   "id": "b123d356-2ba4-4107-83e6-7d5f804375e6",
   "metadata": {},
   "outputs": [
    {
     "data": {
      "text/plain": [
       "Tuple{typeof(my_fancy_function), Any}"
      ]
     },
     "execution_count": 15,
     "metadata": {},
     "output_type": "execute_result"
    }
   ],
   "source": [
    "ms[1].sig"
   ]
  },
  {
   "cell_type": "code",
   "execution_count": 16,
   "id": "a8693bdc-10a1-4564-8b7c-724f800075b0",
   "metadata": {},
   "outputs": [],
   "source": [
    "mutable struct MyExample{T <: AbstractString}\n",
    "    main::T\n",
    "    tag::String\n",
    "    MyExample(main::AbstractString, tag::String) = new{typeof(main)}(main, tag)::MyExample\n",
    "end"
   ]
  },
  {
   "cell_type": "code",
   "execution_count": 19,
   "id": "8678ff6b-e0c4-4c27-b9e8-9eda373fb63f",
   "metadata": {},
   "outputs": [
    {
     "data": {
      "text/plain": [
       "(:main, :tag)"
      ]
     },
     "execution_count": 19,
     "metadata": {},
     "output_type": "execute_result"
    }
   ],
   "source": [
    "obj = MyExample(SubString(\"hi\"), \"hello\")\n",
    "T = typeof(obj)\n",
    "fieldnames(T)"
   ]
  },
  {
   "cell_type": "code",
   "execution_count": 20,
   "id": "632d57aa-d077-4262-9f6b-bd9c995c6623",
   "metadata": {},
   "outputs": [
    {
     "data": {
      "text/plain": [
       "SubString{String}"
      ]
     },
     "execution_count": 20,
     "metadata": {},
     "output_type": "execute_result"
    }
   ],
   "source": [
    "T.parameters[1]"
   ]
  },
  {
   "cell_type": "code",
   "execution_count": 21,
   "id": "520447f3-5d4b-4a2a-96e1-c36b20fd0549",
   "metadata": {},
   "outputs": [
    {
     "data": {
      "text/plain": [
       "Main.Sample"
      ]
     },
     "execution_count": 21,
     "metadata": {},
     "output_type": "execute_result"
    }
   ],
   "source": [
    "module Sample\n",
    "\n",
    "func1() = println(\"hello world!\")\n",
    "\n",
    "x = 5\n",
    "\n",
    "export func1\n",
    "end"
   ]
  },
  {
   "cell_type": "code",
   "execution_count": 24,
   "id": "c226fb6b-2315-4f76-b0ef-ffd2127e8f2a",
   "metadata": {},
   "outputs": [
    {
     "data": {
      "text/plain": [
       "2-element Vector{Symbol}:\n",
       " :Sample\n",
       " :func1"
      ]
     },
     "execution_count": 24,
     "metadata": {},
     "output_type": "execute_result"
    }
   ],
   "source": [
    "names(Sample)"
   ]
  },
  {
   "cell_type": "code",
   "execution_count": 25,
   "id": "7973e3a7-4827-4172-9b02-3857542fa40e",
   "metadata": {},
   "outputs": [
    {
     "data": {
      "text/plain": [
       "8-element Vector{Symbol}:\n",
       " Symbol(\"#eval\")\n",
       " Symbol(\"#func1\")\n",
       " Symbol(\"#include\")\n",
       " :Sample\n",
       " :eval\n",
       " :func1\n",
       " :include\n",
       " :x"
      ]
     },
     "execution_count": 25,
     "metadata": {},
     "output_type": "execute_result"
    }
   ],
   "source": [
    "names(Sample, all = true)"
   ]
  },
  {
   "cell_type": "code",
   "execution_count": 50,
   "id": "dbe94d52-1b87-4354-9937-fb85f6aaf86b",
   "metadata": {},
   "outputs": [
    {
     "data": {
      "text/plain": [
       "show_any_as_html (generic function with 1 method)"
      ]
     },
     "execution_count": 50,
     "metadata": {},
     "output_type": "execute_result"
    }
   ],
   "source": [
    "function show_any_as_html(value::Any)\n",
    "    ms = methods(display, [MIME{<:Any}, typeof(value)])\n",
    "    println(ms)\n",
    "end"
   ]
  },
  {
   "cell_type": "code",
   "execution_count": 49,
   "id": "a3bfd60f-0fdb-4931-9d78-9c3dbeb46ec0",
   "metadata": {},
   "outputs": [
    {
     "name": "stdout",
     "output_type": "stream",
     "text": [
      "# 1 method for generic function \"display\" from \u001b[90mBase.Multimedia\u001b[39m:\n",
      " [1] display(\u001b[90mm\u001b[39m::\u001b[1mMIME\u001b[22m, \u001b[90mx\u001b[39m)\n",
      "\u001b[90m     @\u001b[39m \u001b[90m\u001b[4mmultimedia.jl:350\u001b[24m\u001b[39m\n"
     ]
    }
   ],
   "source": [
    "show_any_as_html(Dict{Int64, Int64}())"
   ]
  },
  {
   "cell_type": "code",
   "execution_count": null,
   "id": "ea768b75-ea74-4d32-a9f2-201650106cf4",
   "metadata": {},
   "outputs": [],
   "source": []
  }
 ],
 "metadata": {
  "kernelspec": {
   "display_name": "Julia 1.9.2",
   "language": "julia",
   "name": "julia-1.9"
  },
  "language_info": {
   "file_extension": ".jl",
   "mimetype": "application/julia",
   "name": "julia",
   "version": "1.9.2"
  }
 },
 "nbformat": 4,
 "nbformat_minor": 5
}

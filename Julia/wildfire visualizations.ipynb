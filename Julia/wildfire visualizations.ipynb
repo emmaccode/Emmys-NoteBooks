{
 "cells": [
  {
   "cell_type": "code",
   "execution_count": 92,
   "id": "cbd905f4-e8f3-4b82-99df-31989f7f7fc9",
   "metadata": {},
   "outputs": [],
   "source": [
    "using Gattino\n",
    "using GattinoPleths"
   ]
  },
  {
   "cell_type": "code",
   "execution_count": 93,
   "id": "9a62223b-793f-4495-9261-f91c8e3382e3",
   "metadata": {},
   "outputs": [],
   "source": [
    "using DataFrames\n",
    "using CSV"
   ]
  },
  {
   "cell_type": "code",
   "execution_count": 94,
   "id": "593a5b69-080c-4c40-83ca-043504df2c97",
   "metadata": {},
   "outputs": [
    {
     "name": "stderr",
     "output_type": "stream",
     "text": [
      "\u001b[33m\u001b[1m┌ \u001b[22m\u001b[39m\u001b[33m\u001b[1mWarning: \u001b[22m\u001b[39mthread = 1 warning: parsed expected 1 columns, but didn't reach end of line around data row: 1. Parsing extra columns and widening final columnset\n",
      "\u001b[33m\u001b[1m└ \u001b[22m\u001b[39m\u001b[90m@ CSV ~/.julia/packages/CSV/XLcqT/src/file.jl:593\u001b[39m\n"
     ]
    },
    {
     "data": {
      "text/html": [
       "<div><div style = \"float: left;\"><span>26×4 DataFrame</span></div><div style = \"clear: both;\"></div></div><div class = \"data-frame\" style = \"overflow-x: scroll;\"><table class = \"data-frame\" style = \"margin-bottom: 6px;\"><thead><tr class = \"header\"><th class = \"rowNumber\" style = \"font-weight: bold; text-align: right;\">Row</th><th style = \"text-align: left;\">U.S. Wildfires October</th><th style = \"text-align: left;\">Column2</th><th style = \"text-align: left;\">Column3</th><th style = \"text-align: left;\">Column4</th></tr><tr class = \"subheader headerLastRow\"><th class = \"rowNumber\" style = \"font-weight: bold; text-align: right;\"></th><th title = \"String7\" style = \"text-align: left;\">String7</th><th title = \"String15\" style = \"text-align: left;\">String15</th><th title = \"String15\" style = \"text-align: left;\">String15</th><th title = \"String31\" style = \"text-align: left;\">String31</th></tr></thead><tbody><tr><td class = \"rowNumber\" style = \"font-weight: bold; text-align: right;\">1</td><td style = \"text-align: left;\">Date</td><td style = \"text-align: left;\">Acres Burned</td><td style = \"text-align: left;\">Number of Fires</td><td style = \"text-align: left;\">Acres Burned per Fire</td></tr><tr><td class = \"rowNumber\" style = \"font-weight: bold; text-align: right;\">2</td><td style = \"text-align: left;\">2000</td><td style = \"text-align: left;\">195645</td><td style = \"text-align: left;\">7651</td><td style = \"text-align: left;\">25.57</td></tr><tr><td class = \"rowNumber\" style = \"font-weight: bold; text-align: right;\">3</td><td style = \"text-align: left;\">2001</td><td style = \"text-align: left;\">33868</td><td style = \"text-align: left;\">6223</td><td style = \"text-align: left;\">5.44</td></tr><tr><td class = \"rowNumber\" style = \"font-weight: bold; text-align: right;\">4</td><td style = \"text-align: left;\">2002</td><td style = \"text-align: left;\">128571</td><td style = \"text-align: left;\">2009</td><td style = \"text-align: left;\">64</td></tr><tr><td class = \"rowNumber\" style = \"font-weight: bold; text-align: right;\">5</td><td style = \"text-align: left;\">2003</td><td style = \"text-align: left;\">170015</td><td style = \"text-align: left;\">6353</td><td style = \"text-align: left;\">26.76</td></tr><tr><td class = \"rowNumber\" style = \"font-weight: bold; text-align: right;\">6</td><td style = \"text-align: left;\">2004</td><td style = \"text-align: left;\">304809</td><td style = \"text-align: left;\">1918</td><td style = \"text-align: left;\">158.92</td></tr><tr><td class = \"rowNumber\" style = \"font-weight: bold; text-align: right;\">7</td><td style = \"text-align: left;\">2005</td><td style = \"text-align: left;\">95393</td><td style = \"text-align: left;\">3414</td><td style = \"text-align: left;\">27.94</td></tr><tr><td class = \"rowNumber\" style = \"font-weight: bold; text-align: right;\">8</td><td style = \"text-align: left;\">2006</td><td style = \"text-align: left;\">326551</td><td style = \"text-align: left;\">2639</td><td style = \"text-align: left;\">123.74</td></tr><tr><td class = \"rowNumber\" style = \"font-weight: bold; text-align: right;\">9</td><td style = \"text-align: left;\">2007</td><td style = \"text-align: left;\">469496</td><td style = \"text-align: left;\">3787</td><td style = \"text-align: left;\">123.98</td></tr><tr><td class = \"rowNumber\" style = \"font-weight: bold; text-align: right;\">10</td><td style = \"text-align: left;\">2008</td><td style = \"text-align: left;\">299720</td><td style = \"text-align: left;\">5403</td><td style = \"text-align: left;\">55.47</td></tr><tr><td class = \"rowNumber\" style = \"font-weight: bold; text-align: right;\">11</td><td style = \"text-align: left;\">2009</td><td style = \"text-align: left;\">91444</td><td style = \"text-align: left;\">2989</td><td style = \"text-align: left;\">30.59</td></tr><tr><td class = \"rowNumber\" style = \"font-weight: bold; text-align: right;\">12</td><td style = \"text-align: left;\">2010</td><td style = \"text-align: left;\">210259</td><td style = \"text-align: left;\">4594</td><td style = \"text-align: left;\">45.77</td></tr><tr><td class = \"rowNumber\" style = \"font-weight: bold; text-align: right;\">13</td><td style = \"text-align: left;\">2011</td><td style = \"text-align: left;\">507724</td><td style = \"text-align: left;\">3399</td><td style = \"text-align: left;\">149.37</td></tr><tr><td class = \"rowNumber\" style = \"font-weight: bold; text-align: right;\">14</td><td style = \"text-align: left;\">2012</td><td style = \"text-align: left;\">200860</td><td style = \"text-align: left;\">3553</td><td style = \"text-align: left;\">56.53</td></tr><tr><td class = \"rowNumber\" style = \"font-weight: bold; text-align: right;\">15</td><td style = \"text-align: left;\">2013</td><td style = \"text-align: left;\">19514</td><td style = \"text-align: left;\">3323</td><td style = \"text-align: left;\">5.87</td></tr><tr><td class = \"rowNumber\" style = \"font-weight: bold; text-align: right;\">16</td><td style = \"text-align: left;\">2014</td><td style = \"text-align: left;\">202883</td><td style = \"text-align: left;\">1946</td><td style = \"text-align: left;\">104.26</td></tr><tr><td class = \"rowNumber\" style = \"font-weight: bold; text-align: right;\">17</td><td style = \"text-align: left;\">2015</td><td style = \"text-align: left;\">323784</td><td style = \"text-align: left;\">3826</td><td style = \"text-align: left;\">84.63</td></tr><tr><td class = \"rowNumber\" style = \"font-weight: bold; text-align: right;\">18</td><td style = \"text-align: left;\">2016</td><td style = \"text-align: left;\">126963</td><td style = \"text-align: left;\">6555</td><td style = \"text-align: left;\">19.37</td></tr><tr><td class = \"rowNumber\" style = \"font-weight: bold; text-align: right;\">19</td><td style = \"text-align: left;\">2017</td><td style = \"text-align: left;\">366641</td><td style = \"text-align: left;\">3408</td><td style = \"text-align: left;\">107.58</td></tr><tr><td class = \"rowNumber\" style = \"font-weight: bold; text-align: right;\">20</td><td style = \"text-align: left;\">2018</td><td style = \"text-align: left;\">466374</td><td style = \"text-align: left;\">1791</td><td style = \"text-align: left;\">260.4</td></tr><tr><td class = \"rowNumber\" style = \"font-weight: bold; text-align: right;\">21</td><td style = \"text-align: left;\">2019</td><td style = \"text-align: left;\">134013</td><td style = \"text-align: left;\">2314</td><td style = \"text-align: left;\">57.91</td></tr><tr><td class = \"rowNumber\" style = \"font-weight: bold; text-align: right;\">22</td><td style = \"text-align: left;\">2020</td><td style = \"text-align: left;\">1020326</td><td style = \"text-align: left;\">3033</td><td style = \"text-align: left;\">336.41</td></tr><tr><td class = \"rowNumber\" style = \"font-weight: bold; text-align: right;\">23</td><td style = \"text-align: left;\">2021</td><td style = \"text-align: left;\">616701</td><td style = \"text-align: left;\">2275</td><td style = \"text-align: left;\">271.08</td></tr><tr><td class = \"rowNumber\" style = \"font-weight: bold; text-align: right;\">24</td><td style = \"text-align: left;\">2022</td><td style = \"text-align: left;\">326208</td><td style = \"text-align: left;\">5942</td><td style = \"text-align: left;\">54.9</td></tr><tr><td class = \"rowNumber\" style = \"font-weight: bold; text-align: right;\">25</td><td style = \"text-align: left;\">2023</td><td style = \"text-align: left;\">97539</td><td style = \"text-align: left;\">5820</td><td style = \"text-align: left;\">16.76</td></tr><tr><td class = \"rowNumber\" style = \"font-weight: bold; text-align: right;\">26</td><td style = \"text-align: left;\">2024</td><td style = \"text-align: left;\">75882</td><td style = \"text-align: left;\">8111</td><td style = \"text-align: left;\">9.36</td></tr></tbody></table></div>"
      ],
      "text/latex": [
       "\\begin{tabular}{r|cccc}\n",
       "\t& U.S. Wildfires October & Column2 & Column3 & Column4\\\\\n",
       "\t\\hline\n",
       "\t& String7 & String15 & String15 & String31\\\\\n",
       "\t\\hline\n",
       "\t1 & Date & Acres Burned & Number of Fires & Acres Burned per Fire \\\\\n",
       "\t2 & 2000 & 195645 & 7651 & 25.57 \\\\\n",
       "\t3 & 2001 & 33868 & 6223 & 5.44 \\\\\n",
       "\t4 & 2002 & 128571 & 2009 & 64 \\\\\n",
       "\t5 & 2003 & 170015 & 6353 & 26.76 \\\\\n",
       "\t6 & 2004 & 304809 & 1918 & 158.92 \\\\\n",
       "\t7 & 2005 & 95393 & 3414 & 27.94 \\\\\n",
       "\t8 & 2006 & 326551 & 2639 & 123.74 \\\\\n",
       "\t9 & 2007 & 469496 & 3787 & 123.98 \\\\\n",
       "\t10 & 2008 & 299720 & 5403 & 55.47 \\\\\n",
       "\t11 & 2009 & 91444 & 2989 & 30.59 \\\\\n",
       "\t12 & 2010 & 210259 & 4594 & 45.77 \\\\\n",
       "\t13 & 2011 & 507724 & 3399 & 149.37 \\\\\n",
       "\t14 & 2012 & 200860 & 3553 & 56.53 \\\\\n",
       "\t15 & 2013 & 19514 & 3323 & 5.87 \\\\\n",
       "\t16 & 2014 & 202883 & 1946 & 104.26 \\\\\n",
       "\t17 & 2015 & 323784 & 3826 & 84.63 \\\\\n",
       "\t18 & 2016 & 126963 & 6555 & 19.37 \\\\\n",
       "\t19 & 2017 & 366641 & 3408 & 107.58 \\\\\n",
       "\t20 & 2018 & 466374 & 1791 & 260.4 \\\\\n",
       "\t21 & 2019 & 134013 & 2314 & 57.91 \\\\\n",
       "\t22 & 2020 & 1020326 & 3033 & 336.41 \\\\\n",
       "\t23 & 2021 & 616701 & 2275 & 271.08 \\\\\n",
       "\t24 & 2022 & 326208 & 5942 & 54.9 \\\\\n",
       "\t25 & 2023 & 97539 & 5820 & 16.76 \\\\\n",
       "\t26 & 2024 & 75882 & 8111 & 9.36 \\\\\n",
       "\\end{tabular}\n"
      ],
      "text/plain": [
       "\u001b[1m26×4 DataFrame\u001b[0m\n",
       "\u001b[1m Row \u001b[0m│\u001b[1m U.S. Wildfires October \u001b[0m\u001b[1m Column2      \u001b[0m\u001b[1m Column3         \u001b[0m\u001b[1m Column4         \u001b[0m ⋯\n",
       "     │\u001b[90m String7                \u001b[0m\u001b[90m String15     \u001b[0m\u001b[90m String15        \u001b[0m\u001b[90m String31        \u001b[0m ⋯\n",
       "─────┼──────────────────────────────────────────────────────────────────────────\n",
       "   1 │ Date                    Acres Burned  Number of Fires  Acres Burned per ⋯\n",
       "   2 │ 2000                    195645        7651             25.57\n",
       "   3 │ 2001                    33868         6223             5.44\n",
       "   4 │ 2002                    128571        2009             64\n",
       "   5 │ 2003                    170015        6353             26.76            ⋯\n",
       "   6 │ 2004                    304809        1918             158.92\n",
       "   7 │ 2005                    95393         3414             27.94\n",
       "   8 │ 2006                    326551        2639             123.74\n",
       "   9 │ 2007                    469496        3787             123.98           ⋯\n",
       "  10 │ 2008                    299720        5403             55.47\n",
       "  11 │ 2009                    91444         2989             30.59\n",
       "  ⋮  │           ⋮                  ⋮               ⋮                   ⋮      ⋱\n",
       "  17 │ 2015                    323784        3826             84.63\n",
       "  18 │ 2016                    126963        6555             19.37            ⋯\n",
       "  19 │ 2017                    366641        3408             107.58\n",
       "  20 │ 2018                    466374        1791             260.4\n",
       "  21 │ 2019                    134013        2314             57.91\n",
       "  22 │ 2020                    1020326       3033             336.41           ⋯\n",
       "  23 │ 2021                    616701        2275             271.08\n",
       "  24 │ 2022                    326208        5942             54.9\n",
       "  25 │ 2023                    97539         5820             16.76\n",
       "  26 │ 2024                    75882         8111             9.36             ⋯\n",
       "\u001b[36m                                                     1 column and 5 rows omitted\u001b[0m"
      ]
     },
     "execution_count": 94,
     "metadata": {},
     "output_type": "execute_result"
    }
   ],
   "source": [
    "df1 = CSV.read(\"data.csv\", DataFrame)"
   ]
  },
  {
   "cell_type": "code",
   "execution_count": 95,
   "id": "adf25069-66b9-488f-91f5-cfd4eab06d67",
   "metadata": {},
   "outputs": [
    {
     "data": {
      "text/html": [
       "<div><div style = \"float: left;\"><span>26×4 DataFrame</span></div><div style = \"clear: both;\"></div></div><div class = \"data-frame\" style = \"overflow-x: scroll;\"><table class = \"data-frame\" style = \"margin-bottom: 6px;\"><thead><tr class = \"header\"><th class = \"rowNumber\" style = \"font-weight: bold; text-align: right;\">Row</th><th style = \"text-align: left;\">U.S. Wildfires October</th><th style = \"text-align: left;\">Column2</th><th style = \"text-align: left;\">Column3</th><th style = \"text-align: left;\">Column4</th></tr><tr class = \"subheader headerLastRow\"><th class = \"rowNumber\" style = \"font-weight: bold; text-align: right;\"></th><th title = \"String7\" style = \"text-align: left;\">String7</th><th title = \"String15\" style = \"text-align: left;\">String15</th><th title = \"String15\" style = \"text-align: left;\">String15</th><th title = \"String31\" style = \"text-align: left;\">String31</th></tr></thead><tbody><tr><td class = \"rowNumber\" style = \"font-weight: bold; text-align: right;\">1</td><td style = \"text-align: left;\">Date</td><td style = \"text-align: left;\">Acres Burned</td><td style = \"text-align: left;\">Number of Fires</td><td style = \"text-align: left;\">Acres Burned per Fire</td></tr><tr><td class = \"rowNumber\" style = \"font-weight: bold; text-align: right;\">2</td><td style = \"text-align: left;\">2000</td><td style = \"text-align: left;\">195645</td><td style = \"text-align: left;\">7651</td><td style = \"text-align: left;\">25.57</td></tr><tr><td class = \"rowNumber\" style = \"font-weight: bold; text-align: right;\">3</td><td style = \"text-align: left;\">2001</td><td style = \"text-align: left;\">33868</td><td style = \"text-align: left;\">6223</td><td style = \"text-align: left;\">5.44</td></tr><tr><td class = \"rowNumber\" style = \"font-weight: bold; text-align: right;\">4</td><td style = \"text-align: left;\">2002</td><td style = \"text-align: left;\">128571</td><td style = \"text-align: left;\">2009</td><td style = \"text-align: left;\">64</td></tr><tr><td class = \"rowNumber\" style = \"font-weight: bold; text-align: right;\">5</td><td style = \"text-align: left;\">2003</td><td style = \"text-align: left;\">170015</td><td style = \"text-align: left;\">6353</td><td style = \"text-align: left;\">26.76</td></tr><tr><td class = \"rowNumber\" style = \"font-weight: bold; text-align: right;\">6</td><td style = \"text-align: left;\">2004</td><td style = \"text-align: left;\">304809</td><td style = \"text-align: left;\">1918</td><td style = \"text-align: left;\">158.92</td></tr><tr><td class = \"rowNumber\" style = \"font-weight: bold; text-align: right;\">7</td><td style = \"text-align: left;\">2005</td><td style = \"text-align: left;\">95393</td><td style = \"text-align: left;\">3414</td><td style = \"text-align: left;\">27.94</td></tr><tr><td class = \"rowNumber\" style = \"font-weight: bold; text-align: right;\">8</td><td style = \"text-align: left;\">2006</td><td style = \"text-align: left;\">326551</td><td style = \"text-align: left;\">2639</td><td style = \"text-align: left;\">123.74</td></tr><tr><td class = \"rowNumber\" style = \"font-weight: bold; text-align: right;\">9</td><td style = \"text-align: left;\">2007</td><td style = \"text-align: left;\">469496</td><td style = \"text-align: left;\">3787</td><td style = \"text-align: left;\">123.98</td></tr><tr><td class = \"rowNumber\" style = \"font-weight: bold; text-align: right;\">10</td><td style = \"text-align: left;\">2008</td><td style = \"text-align: left;\">299720</td><td style = \"text-align: left;\">5403</td><td style = \"text-align: left;\">55.47</td></tr><tr><td class = \"rowNumber\" style = \"font-weight: bold; text-align: right;\">11</td><td style = \"text-align: left;\">2009</td><td style = \"text-align: left;\">91444</td><td style = \"text-align: left;\">2989</td><td style = \"text-align: left;\">30.59</td></tr><tr><td class = \"rowNumber\" style = \"font-weight: bold; text-align: right;\">12</td><td style = \"text-align: left;\">2010</td><td style = \"text-align: left;\">210259</td><td style = \"text-align: left;\">4594</td><td style = \"text-align: left;\">45.77</td></tr><tr><td class = \"rowNumber\" style = \"font-weight: bold; text-align: right;\">13</td><td style = \"text-align: left;\">2011</td><td style = \"text-align: left;\">507724</td><td style = \"text-align: left;\">3399</td><td style = \"text-align: left;\">149.37</td></tr><tr><td class = \"rowNumber\" style = \"font-weight: bold; text-align: right;\">14</td><td style = \"text-align: left;\">2012</td><td style = \"text-align: left;\">200860</td><td style = \"text-align: left;\">3553</td><td style = \"text-align: left;\">56.53</td></tr><tr><td class = \"rowNumber\" style = \"font-weight: bold; text-align: right;\">15</td><td style = \"text-align: left;\">2013</td><td style = \"text-align: left;\">19514</td><td style = \"text-align: left;\">3323</td><td style = \"text-align: left;\">5.87</td></tr><tr><td class = \"rowNumber\" style = \"font-weight: bold; text-align: right;\">16</td><td style = \"text-align: left;\">2014</td><td style = \"text-align: left;\">202883</td><td style = \"text-align: left;\">1946</td><td style = \"text-align: left;\">104.26</td></tr><tr><td class = \"rowNumber\" style = \"font-weight: bold; text-align: right;\">17</td><td style = \"text-align: left;\">2015</td><td style = \"text-align: left;\">323784</td><td style = \"text-align: left;\">3826</td><td style = \"text-align: left;\">84.63</td></tr><tr><td class = \"rowNumber\" style = \"font-weight: bold; text-align: right;\">18</td><td style = \"text-align: left;\">2016</td><td style = \"text-align: left;\">126963</td><td style = \"text-align: left;\">6555</td><td style = \"text-align: left;\">19.37</td></tr><tr><td class = \"rowNumber\" style = \"font-weight: bold; text-align: right;\">19</td><td style = \"text-align: left;\">2017</td><td style = \"text-align: left;\">366641</td><td style = \"text-align: left;\">3408</td><td style = \"text-align: left;\">107.58</td></tr><tr><td class = \"rowNumber\" style = \"font-weight: bold; text-align: right;\">20</td><td style = \"text-align: left;\">2018</td><td style = \"text-align: left;\">466374</td><td style = \"text-align: left;\">1791</td><td style = \"text-align: left;\">260.4</td></tr><tr><td class = \"rowNumber\" style = \"font-weight: bold; text-align: right;\">21</td><td style = \"text-align: left;\">2019</td><td style = \"text-align: left;\">134013</td><td style = \"text-align: left;\">2314</td><td style = \"text-align: left;\">57.91</td></tr><tr><td class = \"rowNumber\" style = \"font-weight: bold; text-align: right;\">22</td><td style = \"text-align: left;\">2020</td><td style = \"text-align: left;\">1020326</td><td style = \"text-align: left;\">3033</td><td style = \"text-align: left;\">336.41</td></tr><tr><td class = \"rowNumber\" style = \"font-weight: bold; text-align: right;\">23</td><td style = \"text-align: left;\">2021</td><td style = \"text-align: left;\">616701</td><td style = \"text-align: left;\">2275</td><td style = \"text-align: left;\">271.08</td></tr><tr><td class = \"rowNumber\" style = \"font-weight: bold; text-align: right;\">24</td><td style = \"text-align: left;\">2022</td><td style = \"text-align: left;\">326208</td><td style = \"text-align: left;\">5942</td><td style = \"text-align: left;\">54.9</td></tr><tr><td class = \"rowNumber\" style = \"font-weight: bold; text-align: right;\">25</td><td style = \"text-align: left;\">2023</td><td style = \"text-align: left;\">97539</td><td style = \"text-align: left;\">5820</td><td style = \"text-align: left;\">16.76</td></tr><tr><td class = \"rowNumber\" style = \"font-weight: bold; text-align: right;\">26</td><td style = \"text-align: left;\">2024</td><td style = \"text-align: left;\">75882</td><td style = \"text-align: left;\">8111</td><td style = \"text-align: left;\">9.36</td></tr></tbody></table></div>"
      ],
      "text/latex": [
       "\\begin{tabular}{r|cccc}\n",
       "\t& U.S. Wildfires October & Column2 & Column3 & Column4\\\\\n",
       "\t\\hline\n",
       "\t& String7 & String15 & String15 & String31\\\\\n",
       "\t\\hline\n",
       "\t1 & Date & Acres Burned & Number of Fires & Acres Burned per Fire \\\\\n",
       "\t2 & 2000 & 195645 & 7651 & 25.57 \\\\\n",
       "\t3 & 2001 & 33868 & 6223 & 5.44 \\\\\n",
       "\t4 & 2002 & 128571 & 2009 & 64 \\\\\n",
       "\t5 & 2003 & 170015 & 6353 & 26.76 \\\\\n",
       "\t6 & 2004 & 304809 & 1918 & 158.92 \\\\\n",
       "\t7 & 2005 & 95393 & 3414 & 27.94 \\\\\n",
       "\t8 & 2006 & 326551 & 2639 & 123.74 \\\\\n",
       "\t9 & 2007 & 469496 & 3787 & 123.98 \\\\\n",
       "\t10 & 2008 & 299720 & 5403 & 55.47 \\\\\n",
       "\t11 & 2009 & 91444 & 2989 & 30.59 \\\\\n",
       "\t12 & 2010 & 210259 & 4594 & 45.77 \\\\\n",
       "\t13 & 2011 & 507724 & 3399 & 149.37 \\\\\n",
       "\t14 & 2012 & 200860 & 3553 & 56.53 \\\\\n",
       "\t15 & 2013 & 19514 & 3323 & 5.87 \\\\\n",
       "\t16 & 2014 & 202883 & 1946 & 104.26 \\\\\n",
       "\t17 & 2015 & 323784 & 3826 & 84.63 \\\\\n",
       "\t18 & 2016 & 126963 & 6555 & 19.37 \\\\\n",
       "\t19 & 2017 & 366641 & 3408 & 107.58 \\\\\n",
       "\t20 & 2018 & 466374 & 1791 & 260.4 \\\\\n",
       "\t21 & 2019 & 134013 & 2314 & 57.91 \\\\\n",
       "\t22 & 2020 & 1020326 & 3033 & 336.41 \\\\\n",
       "\t23 & 2021 & 616701 & 2275 & 271.08 \\\\\n",
       "\t24 & 2022 & 326208 & 5942 & 54.9 \\\\\n",
       "\t25 & 2023 & 97539 & 5820 & 16.76 \\\\\n",
       "\t26 & 2024 & 75882 & 8111 & 9.36 \\\\\n",
       "\\end{tabular}\n"
      ],
      "text/plain": [
       "\u001b[1m26×4 DataFrame\u001b[0m\n",
       "\u001b[1m Row \u001b[0m│\u001b[1m U.S. Wildfires October \u001b[0m\u001b[1m Column2      \u001b[0m\u001b[1m Column3         \u001b[0m\u001b[1m Column4         \u001b[0m ⋯\n",
       "     │\u001b[90m String7                \u001b[0m\u001b[90m String15     \u001b[0m\u001b[90m String15        \u001b[0m\u001b[90m String31        \u001b[0m ⋯\n",
       "─────┼──────────────────────────────────────────────────────────────────────────\n",
       "   1 │ Date                    Acres Burned  Number of Fires  Acres Burned per ⋯\n",
       "   2 │ 2000                    195645        7651             25.57\n",
       "   3 │ 2001                    33868         6223             5.44\n",
       "   4 │ 2002                    128571        2009             64\n",
       "   5 │ 2003                    170015        6353             26.76            ⋯\n",
       "   6 │ 2004                    304809        1918             158.92\n",
       "   7 │ 2005                    95393         3414             27.94\n",
       "   8 │ 2006                    326551        2639             123.74\n",
       "   9 │ 2007                    469496        3787             123.98           ⋯\n",
       "  10 │ 2008                    299720        5403             55.47\n",
       "  11 │ 2009                    91444         2989             30.59\n",
       "  ⋮  │           ⋮                  ⋮               ⋮                   ⋮      ⋱\n",
       "  17 │ 2015                    323784        3826             84.63\n",
       "  18 │ 2016                    126963        6555             19.37            ⋯\n",
       "  19 │ 2017                    366641        3408             107.58\n",
       "  20 │ 2018                    466374        1791             260.4\n",
       "  21 │ 2019                    134013        2314             57.91\n",
       "  22 │ 2020                    1020326       3033             336.41           ⋯\n",
       "  23 │ 2021                    616701        2275             271.08\n",
       "  24 │ 2022                    326208        5942             54.9\n",
       "  25 │ 2023                    97539         5820             16.76\n",
       "  26 │ 2024                    75882         8111             9.36             ⋯\n",
       "\u001b[36m                                                     1 column and 5 rows omitted\u001b[0m"
      ]
     },
     "execution_count": 95,
     "metadata": {},
     "output_type": "execute_result"
    }
   ],
   "source": [
    "dropmissing!(df1)"
   ]
  },
  {
   "cell_type": "code",
   "execution_count": 96,
   "id": "5cec88e8-0327-42f4-a796-0cbb7fd27b35",
   "metadata": {},
   "outputs": [
    {
     "data": {
      "text/html": [
       "<div><div style = \"float: left;\"><span>25×4 DataFrame</span></div><div style = \"clear: both;\"></div></div><div class = \"data-frame\" style = \"overflow-x: scroll;\"><table class = \"data-frame\" style = \"margin-bottom: 6px;\"><thead><tr class = \"header\"><th class = \"rowNumber\" style = \"font-weight: bold; text-align: right;\">Row</th><th style = \"text-align: left;\">U.S. Wildfires October</th><th style = \"text-align: left;\">Column2</th><th style = \"text-align: left;\">Column3</th><th style = \"text-align: left;\">Column4</th></tr><tr class = \"subheader headerLastRow\"><th class = \"rowNumber\" style = \"font-weight: bold; text-align: right;\"></th><th title = \"String7\" style = \"text-align: left;\">String7</th><th title = \"String15\" style = \"text-align: left;\">String15</th><th title = \"String15\" style = \"text-align: left;\">String15</th><th title = \"String31\" style = \"text-align: left;\">String31</th></tr></thead><tbody><tr><td class = \"rowNumber\" style = \"font-weight: bold; text-align: right;\">1</td><td style = \"text-align: left;\">2000</td><td style = \"text-align: left;\">195645</td><td style = \"text-align: left;\">7651</td><td style = \"text-align: left;\">25.57</td></tr><tr><td class = \"rowNumber\" style = \"font-weight: bold; text-align: right;\">2</td><td style = \"text-align: left;\">2001</td><td style = \"text-align: left;\">33868</td><td style = \"text-align: left;\">6223</td><td style = \"text-align: left;\">5.44</td></tr><tr><td class = \"rowNumber\" style = \"font-weight: bold; text-align: right;\">3</td><td style = \"text-align: left;\">2002</td><td style = \"text-align: left;\">128571</td><td style = \"text-align: left;\">2009</td><td style = \"text-align: left;\">64</td></tr><tr><td class = \"rowNumber\" style = \"font-weight: bold; text-align: right;\">4</td><td style = \"text-align: left;\">2003</td><td style = \"text-align: left;\">170015</td><td style = \"text-align: left;\">6353</td><td style = \"text-align: left;\">26.76</td></tr><tr><td class = \"rowNumber\" style = \"font-weight: bold; text-align: right;\">5</td><td style = \"text-align: left;\">2004</td><td style = \"text-align: left;\">304809</td><td style = \"text-align: left;\">1918</td><td style = \"text-align: left;\">158.92</td></tr><tr><td class = \"rowNumber\" style = \"font-weight: bold; text-align: right;\">6</td><td style = \"text-align: left;\">2005</td><td style = \"text-align: left;\">95393</td><td style = \"text-align: left;\">3414</td><td style = \"text-align: left;\">27.94</td></tr><tr><td class = \"rowNumber\" style = \"font-weight: bold; text-align: right;\">7</td><td style = \"text-align: left;\">2006</td><td style = \"text-align: left;\">326551</td><td style = \"text-align: left;\">2639</td><td style = \"text-align: left;\">123.74</td></tr><tr><td class = \"rowNumber\" style = \"font-weight: bold; text-align: right;\">8</td><td style = \"text-align: left;\">2007</td><td style = \"text-align: left;\">469496</td><td style = \"text-align: left;\">3787</td><td style = \"text-align: left;\">123.98</td></tr><tr><td class = \"rowNumber\" style = \"font-weight: bold; text-align: right;\">9</td><td style = \"text-align: left;\">2008</td><td style = \"text-align: left;\">299720</td><td style = \"text-align: left;\">5403</td><td style = \"text-align: left;\">55.47</td></tr><tr><td class = \"rowNumber\" style = \"font-weight: bold; text-align: right;\">10</td><td style = \"text-align: left;\">2009</td><td style = \"text-align: left;\">91444</td><td style = \"text-align: left;\">2989</td><td style = \"text-align: left;\">30.59</td></tr><tr><td class = \"rowNumber\" style = \"font-weight: bold; text-align: right;\">11</td><td style = \"text-align: left;\">2010</td><td style = \"text-align: left;\">210259</td><td style = \"text-align: left;\">4594</td><td style = \"text-align: left;\">45.77</td></tr><tr><td class = \"rowNumber\" style = \"font-weight: bold; text-align: right;\">12</td><td style = \"text-align: left;\">2011</td><td style = \"text-align: left;\">507724</td><td style = \"text-align: left;\">3399</td><td style = \"text-align: left;\">149.37</td></tr><tr><td class = \"rowNumber\" style = \"font-weight: bold; text-align: right;\">13</td><td style = \"text-align: left;\">2012</td><td style = \"text-align: left;\">200860</td><td style = \"text-align: left;\">3553</td><td style = \"text-align: left;\">56.53</td></tr><tr><td class = \"rowNumber\" style = \"font-weight: bold; text-align: right;\">14</td><td style = \"text-align: left;\">2013</td><td style = \"text-align: left;\">19514</td><td style = \"text-align: left;\">3323</td><td style = \"text-align: left;\">5.87</td></tr><tr><td class = \"rowNumber\" style = \"font-weight: bold; text-align: right;\">15</td><td style = \"text-align: left;\">2014</td><td style = \"text-align: left;\">202883</td><td style = \"text-align: left;\">1946</td><td style = \"text-align: left;\">104.26</td></tr><tr><td class = \"rowNumber\" style = \"font-weight: bold; text-align: right;\">16</td><td style = \"text-align: left;\">2015</td><td style = \"text-align: left;\">323784</td><td style = \"text-align: left;\">3826</td><td style = \"text-align: left;\">84.63</td></tr><tr><td class = \"rowNumber\" style = \"font-weight: bold; text-align: right;\">17</td><td style = \"text-align: left;\">2016</td><td style = \"text-align: left;\">126963</td><td style = \"text-align: left;\">6555</td><td style = \"text-align: left;\">19.37</td></tr><tr><td class = \"rowNumber\" style = \"font-weight: bold; text-align: right;\">18</td><td style = \"text-align: left;\">2017</td><td style = \"text-align: left;\">366641</td><td style = \"text-align: left;\">3408</td><td style = \"text-align: left;\">107.58</td></tr><tr><td class = \"rowNumber\" style = \"font-weight: bold; text-align: right;\">19</td><td style = \"text-align: left;\">2018</td><td style = \"text-align: left;\">466374</td><td style = \"text-align: left;\">1791</td><td style = \"text-align: left;\">260.4</td></tr><tr><td class = \"rowNumber\" style = \"font-weight: bold; text-align: right;\">20</td><td style = \"text-align: left;\">2019</td><td style = \"text-align: left;\">134013</td><td style = \"text-align: left;\">2314</td><td style = \"text-align: left;\">57.91</td></tr><tr><td class = \"rowNumber\" style = \"font-weight: bold; text-align: right;\">21</td><td style = \"text-align: left;\">2020</td><td style = \"text-align: left;\">1020326</td><td style = \"text-align: left;\">3033</td><td style = \"text-align: left;\">336.41</td></tr><tr><td class = \"rowNumber\" style = \"font-weight: bold; text-align: right;\">22</td><td style = \"text-align: left;\">2021</td><td style = \"text-align: left;\">616701</td><td style = \"text-align: left;\">2275</td><td style = \"text-align: left;\">271.08</td></tr><tr><td class = \"rowNumber\" style = \"font-weight: bold; text-align: right;\">23</td><td style = \"text-align: left;\">2022</td><td style = \"text-align: left;\">326208</td><td style = \"text-align: left;\">5942</td><td style = \"text-align: left;\">54.9</td></tr><tr><td class = \"rowNumber\" style = \"font-weight: bold; text-align: right;\">24</td><td style = \"text-align: left;\">2023</td><td style = \"text-align: left;\">97539</td><td style = \"text-align: left;\">5820</td><td style = \"text-align: left;\">16.76</td></tr><tr><td class = \"rowNumber\" style = \"font-weight: bold; text-align: right;\">25</td><td style = \"text-align: left;\">2024</td><td style = \"text-align: left;\">75882</td><td style = \"text-align: left;\">8111</td><td style = \"text-align: left;\">9.36</td></tr></tbody></table></div>"
      ],
      "text/latex": [
       "\\begin{tabular}{r|cccc}\n",
       "\t& U.S. Wildfires October & Column2 & Column3 & Column4\\\\\n",
       "\t\\hline\n",
       "\t& String7 & String15 & String15 & String31\\\\\n",
       "\t\\hline\n",
       "\t1 & 2000 & 195645 & 7651 & 25.57 \\\\\n",
       "\t2 & 2001 & 33868 & 6223 & 5.44 \\\\\n",
       "\t3 & 2002 & 128571 & 2009 & 64 \\\\\n",
       "\t4 & 2003 & 170015 & 6353 & 26.76 \\\\\n",
       "\t5 & 2004 & 304809 & 1918 & 158.92 \\\\\n",
       "\t6 & 2005 & 95393 & 3414 & 27.94 \\\\\n",
       "\t7 & 2006 & 326551 & 2639 & 123.74 \\\\\n",
       "\t8 & 2007 & 469496 & 3787 & 123.98 \\\\\n",
       "\t9 & 2008 & 299720 & 5403 & 55.47 \\\\\n",
       "\t10 & 2009 & 91444 & 2989 & 30.59 \\\\\n",
       "\t11 & 2010 & 210259 & 4594 & 45.77 \\\\\n",
       "\t12 & 2011 & 507724 & 3399 & 149.37 \\\\\n",
       "\t13 & 2012 & 200860 & 3553 & 56.53 \\\\\n",
       "\t14 & 2013 & 19514 & 3323 & 5.87 \\\\\n",
       "\t15 & 2014 & 202883 & 1946 & 104.26 \\\\\n",
       "\t16 & 2015 & 323784 & 3826 & 84.63 \\\\\n",
       "\t17 & 2016 & 126963 & 6555 & 19.37 \\\\\n",
       "\t18 & 2017 & 366641 & 3408 & 107.58 \\\\\n",
       "\t19 & 2018 & 466374 & 1791 & 260.4 \\\\\n",
       "\t20 & 2019 & 134013 & 2314 & 57.91 \\\\\n",
       "\t21 & 2020 & 1020326 & 3033 & 336.41 \\\\\n",
       "\t22 & 2021 & 616701 & 2275 & 271.08 \\\\\n",
       "\t23 & 2022 & 326208 & 5942 & 54.9 \\\\\n",
       "\t24 & 2023 & 97539 & 5820 & 16.76 \\\\\n",
       "\t25 & 2024 & 75882 & 8111 & 9.36 \\\\\n",
       "\\end{tabular}\n"
      ],
      "text/plain": [
       "\u001b[1m25×4 DataFrame\u001b[0m\n",
       "\u001b[1m Row \u001b[0m│\u001b[1m U.S. Wildfires October \u001b[0m\u001b[1m Column2  \u001b[0m\u001b[1m Column3  \u001b[0m\u001b[1m Column4  \u001b[0m\n",
       "     │\u001b[90m String7                \u001b[0m\u001b[90m String15 \u001b[0m\u001b[90m String15 \u001b[0m\u001b[90m String31 \u001b[0m\n",
       "─────┼──────────────────────────────────────────────────────\n",
       "   1 │ 2000                    195645    7651      25.57\n",
       "   2 │ 2001                    33868     6223      5.44\n",
       "   3 │ 2002                    128571    2009      64\n",
       "   4 │ 2003                    170015    6353      26.76\n",
       "   5 │ 2004                    304809    1918      158.92\n",
       "   6 │ 2005                    95393     3414      27.94\n",
       "   7 │ 2006                    326551    2639      123.74\n",
       "   8 │ 2007                    469496    3787      123.98\n",
       "   9 │ 2008                    299720    5403      55.47\n",
       "  10 │ 2009                    91444     2989      30.59\n",
       "  11 │ 2010                    210259    4594      45.77\n",
       "  ⋮  │           ⋮                ⋮         ⋮         ⋮\n",
       "  16 │ 2015                    323784    3826      84.63\n",
       "  17 │ 2016                    126963    6555      19.37\n",
       "  18 │ 2017                    366641    3408      107.58\n",
       "  19 │ 2018                    466374    1791      260.4\n",
       "  20 │ 2019                    134013    2314      57.91\n",
       "  21 │ 2020                    1020326   3033      336.41\n",
       "  22 │ 2021                    616701    2275      271.08\n",
       "  23 │ 2022                    326208    5942      54.9\n",
       "  24 │ 2023                    97539     5820      16.76\n",
       "  25 │ 2024                    75882     8111      9.36\n",
       "\u001b[36m                                              4 rows omitted\u001b[0m"
      ]
     },
     "execution_count": 96,
     "metadata": {},
     "output_type": "execute_result"
    }
   ],
   "source": [
    "filter!(row -> row[\"U.S. Wildfires October\"] != \"Date\", df1)"
   ]
  },
  {
   "cell_type": "code",
   "execution_count": 97,
   "id": "693f153a-49ff-4647-969e-470f96d4c6bc",
   "metadata": {},
   "outputs": [
    {
     "data": {
      "text/plain": [
       "25-element Vector{Float64}:\n",
       "  25.57\n",
       "   5.44\n",
       "  64.0\n",
       "  26.76\n",
       " 158.92\n",
       "  27.94\n",
       " 123.74\n",
       " 123.98\n",
       "  55.47\n",
       "  30.59\n",
       "  45.77\n",
       " 149.37\n",
       "  56.53\n",
       "   5.87\n",
       " 104.26\n",
       "  84.63\n",
       "  19.37\n",
       " 107.58\n",
       " 260.4\n",
       "  57.91\n",
       " 336.41\n",
       " 271.08\n",
       "  54.9\n",
       "  16.76\n",
       "   9.36"
      ]
     },
     "execution_count": 97,
     "metadata": {},
     "output_type": "execute_result"
    }
   ],
   "source": [
    "df1[!, Symbol(\"U.S. Wildfires October\")] = [begin\n",
    "        parse(Int64, s)\n",
    "    end for s in df1[!, \"U.S. Wildfires October\"]]\n",
    "\n",
    "df1[!, Symbol(\"Column2\")] = [begin\n",
    "        parse(Int64, s)\n",
    "    end for s in df1[!, \"Column2\"]]\n",
    "\n",
    "df1[!, Symbol(\"Column3\")] = [begin\n",
    "        parse(Int64, s)\n",
    "    end for s in df1[!, \"Column3\"]]\n",
    "\n",
    "df1[!, Symbol(\"Column4\")] = [begin\n",
    "        parse(Float64, s)\n",
    "    end for s in df1[!, \"Column4\"]]"
   ]
  },
  {
   "cell_type": "code",
   "execution_count": 98,
   "id": "022b2e7e-73c1-4a78-b215-d1ac7f0f3fc4",
   "metadata": {},
   "outputs": [
    {
     "data": {
      "text/html": [
       "<div><div style = \"float: left;\"><span>25×4 DataFrame</span></div><div style = \"clear: both;\"></div></div><div class = \"data-frame\" style = \"overflow-x: scroll;\"><table class = \"data-frame\" style = \"margin-bottom: 6px;\"><thead><tr class = \"header\"><th class = \"rowNumber\" style = \"font-weight: bold; text-align: right;\">Row</th><th style = \"text-align: left;\">U.S. Wildfires October</th><th style = \"text-align: left;\">acres burned</th><th style = \"text-align: left;\">no. fires</th><th style = \"text-align: left;\">acres per fire</th></tr><tr class = \"subheader headerLastRow\"><th class = \"rowNumber\" style = \"font-weight: bold; text-align: right;\"></th><th title = \"Int64\" style = \"text-align: left;\">Int64</th><th title = \"Int64\" style = \"text-align: left;\">Int64</th><th title = \"Int64\" style = \"text-align: left;\">Int64</th><th title = \"Float64\" style = \"text-align: left;\">Float64</th></tr></thead><tbody><tr><td class = \"rowNumber\" style = \"font-weight: bold; text-align: right;\">1</td><td style = \"text-align: right;\">2000</td><td style = \"text-align: right;\">195645</td><td style = \"text-align: right;\">7651</td><td style = \"text-align: right;\">25.57</td></tr><tr><td class = \"rowNumber\" style = \"font-weight: bold; text-align: right;\">2</td><td style = \"text-align: right;\">2001</td><td style = \"text-align: right;\">33868</td><td style = \"text-align: right;\">6223</td><td style = \"text-align: right;\">5.44</td></tr><tr><td class = \"rowNumber\" style = \"font-weight: bold; text-align: right;\">3</td><td style = \"text-align: right;\">2002</td><td style = \"text-align: right;\">128571</td><td style = \"text-align: right;\">2009</td><td style = \"text-align: right;\">64.0</td></tr><tr><td class = \"rowNumber\" style = \"font-weight: bold; text-align: right;\">4</td><td style = \"text-align: right;\">2003</td><td style = \"text-align: right;\">170015</td><td style = \"text-align: right;\">6353</td><td style = \"text-align: right;\">26.76</td></tr><tr><td class = \"rowNumber\" style = \"font-weight: bold; text-align: right;\">5</td><td style = \"text-align: right;\">2004</td><td style = \"text-align: right;\">304809</td><td style = \"text-align: right;\">1918</td><td style = \"text-align: right;\">158.92</td></tr><tr><td class = \"rowNumber\" style = \"font-weight: bold; text-align: right;\">6</td><td style = \"text-align: right;\">2005</td><td style = \"text-align: right;\">95393</td><td style = \"text-align: right;\">3414</td><td style = \"text-align: right;\">27.94</td></tr><tr><td class = \"rowNumber\" style = \"font-weight: bold; text-align: right;\">7</td><td style = \"text-align: right;\">2006</td><td style = \"text-align: right;\">326551</td><td style = \"text-align: right;\">2639</td><td style = \"text-align: right;\">123.74</td></tr><tr><td class = \"rowNumber\" style = \"font-weight: bold; text-align: right;\">8</td><td style = \"text-align: right;\">2007</td><td style = \"text-align: right;\">469496</td><td style = \"text-align: right;\">3787</td><td style = \"text-align: right;\">123.98</td></tr><tr><td class = \"rowNumber\" style = \"font-weight: bold; text-align: right;\">9</td><td style = \"text-align: right;\">2008</td><td style = \"text-align: right;\">299720</td><td style = \"text-align: right;\">5403</td><td style = \"text-align: right;\">55.47</td></tr><tr><td class = \"rowNumber\" style = \"font-weight: bold; text-align: right;\">10</td><td style = \"text-align: right;\">2009</td><td style = \"text-align: right;\">91444</td><td style = \"text-align: right;\">2989</td><td style = \"text-align: right;\">30.59</td></tr><tr><td class = \"rowNumber\" style = \"font-weight: bold; text-align: right;\">11</td><td style = \"text-align: right;\">2010</td><td style = \"text-align: right;\">210259</td><td style = \"text-align: right;\">4594</td><td style = \"text-align: right;\">45.77</td></tr><tr><td class = \"rowNumber\" style = \"font-weight: bold; text-align: right;\">12</td><td style = \"text-align: right;\">2011</td><td style = \"text-align: right;\">507724</td><td style = \"text-align: right;\">3399</td><td style = \"text-align: right;\">149.37</td></tr><tr><td class = \"rowNumber\" style = \"font-weight: bold; text-align: right;\">13</td><td style = \"text-align: right;\">2012</td><td style = \"text-align: right;\">200860</td><td style = \"text-align: right;\">3553</td><td style = \"text-align: right;\">56.53</td></tr><tr><td class = \"rowNumber\" style = \"font-weight: bold; text-align: right;\">14</td><td style = \"text-align: right;\">2013</td><td style = \"text-align: right;\">19514</td><td style = \"text-align: right;\">3323</td><td style = \"text-align: right;\">5.87</td></tr><tr><td class = \"rowNumber\" style = \"font-weight: bold; text-align: right;\">15</td><td style = \"text-align: right;\">2014</td><td style = \"text-align: right;\">202883</td><td style = \"text-align: right;\">1946</td><td style = \"text-align: right;\">104.26</td></tr><tr><td class = \"rowNumber\" style = \"font-weight: bold; text-align: right;\">16</td><td style = \"text-align: right;\">2015</td><td style = \"text-align: right;\">323784</td><td style = \"text-align: right;\">3826</td><td style = \"text-align: right;\">84.63</td></tr><tr><td class = \"rowNumber\" style = \"font-weight: bold; text-align: right;\">17</td><td style = \"text-align: right;\">2016</td><td style = \"text-align: right;\">126963</td><td style = \"text-align: right;\">6555</td><td style = \"text-align: right;\">19.37</td></tr><tr><td class = \"rowNumber\" style = \"font-weight: bold; text-align: right;\">18</td><td style = \"text-align: right;\">2017</td><td style = \"text-align: right;\">366641</td><td style = \"text-align: right;\">3408</td><td style = \"text-align: right;\">107.58</td></tr><tr><td class = \"rowNumber\" style = \"font-weight: bold; text-align: right;\">19</td><td style = \"text-align: right;\">2018</td><td style = \"text-align: right;\">466374</td><td style = \"text-align: right;\">1791</td><td style = \"text-align: right;\">260.4</td></tr><tr><td class = \"rowNumber\" style = \"font-weight: bold; text-align: right;\">20</td><td style = \"text-align: right;\">2019</td><td style = \"text-align: right;\">134013</td><td style = \"text-align: right;\">2314</td><td style = \"text-align: right;\">57.91</td></tr><tr><td class = \"rowNumber\" style = \"font-weight: bold; text-align: right;\">21</td><td style = \"text-align: right;\">2020</td><td style = \"text-align: right;\">1020326</td><td style = \"text-align: right;\">3033</td><td style = \"text-align: right;\">336.41</td></tr><tr><td class = \"rowNumber\" style = \"font-weight: bold; text-align: right;\">22</td><td style = \"text-align: right;\">2021</td><td style = \"text-align: right;\">616701</td><td style = \"text-align: right;\">2275</td><td style = \"text-align: right;\">271.08</td></tr><tr><td class = \"rowNumber\" style = \"font-weight: bold; text-align: right;\">23</td><td style = \"text-align: right;\">2022</td><td style = \"text-align: right;\">326208</td><td style = \"text-align: right;\">5942</td><td style = \"text-align: right;\">54.9</td></tr><tr><td class = \"rowNumber\" style = \"font-weight: bold; text-align: right;\">24</td><td style = \"text-align: right;\">2023</td><td style = \"text-align: right;\">97539</td><td style = \"text-align: right;\">5820</td><td style = \"text-align: right;\">16.76</td></tr><tr><td class = \"rowNumber\" style = \"font-weight: bold; text-align: right;\">25</td><td style = \"text-align: right;\">2024</td><td style = \"text-align: right;\">75882</td><td style = \"text-align: right;\">8111</td><td style = \"text-align: right;\">9.36</td></tr></tbody></table></div>"
      ],
      "text/latex": [
       "\\begin{tabular}{r|cccc}\n",
       "\t& U.S. Wildfires October & acres burned & no. fires & acres per fire\\\\\n",
       "\t\\hline\n",
       "\t& Int64 & Int64 & Int64 & Float64\\\\\n",
       "\t\\hline\n",
       "\t1 & 2000 & 195645 & 7651 & 25.57 \\\\\n",
       "\t2 & 2001 & 33868 & 6223 & 5.44 \\\\\n",
       "\t3 & 2002 & 128571 & 2009 & 64.0 \\\\\n",
       "\t4 & 2003 & 170015 & 6353 & 26.76 \\\\\n",
       "\t5 & 2004 & 304809 & 1918 & 158.92 \\\\\n",
       "\t6 & 2005 & 95393 & 3414 & 27.94 \\\\\n",
       "\t7 & 2006 & 326551 & 2639 & 123.74 \\\\\n",
       "\t8 & 2007 & 469496 & 3787 & 123.98 \\\\\n",
       "\t9 & 2008 & 299720 & 5403 & 55.47 \\\\\n",
       "\t10 & 2009 & 91444 & 2989 & 30.59 \\\\\n",
       "\t11 & 2010 & 210259 & 4594 & 45.77 \\\\\n",
       "\t12 & 2011 & 507724 & 3399 & 149.37 \\\\\n",
       "\t13 & 2012 & 200860 & 3553 & 56.53 \\\\\n",
       "\t14 & 2013 & 19514 & 3323 & 5.87 \\\\\n",
       "\t15 & 2014 & 202883 & 1946 & 104.26 \\\\\n",
       "\t16 & 2015 & 323784 & 3826 & 84.63 \\\\\n",
       "\t17 & 2016 & 126963 & 6555 & 19.37 \\\\\n",
       "\t18 & 2017 & 366641 & 3408 & 107.58 \\\\\n",
       "\t19 & 2018 & 466374 & 1791 & 260.4 \\\\\n",
       "\t20 & 2019 & 134013 & 2314 & 57.91 \\\\\n",
       "\t21 & 2020 & 1020326 & 3033 & 336.41 \\\\\n",
       "\t22 & 2021 & 616701 & 2275 & 271.08 \\\\\n",
       "\t23 & 2022 & 326208 & 5942 & 54.9 \\\\\n",
       "\t24 & 2023 & 97539 & 5820 & 16.76 \\\\\n",
       "\t25 & 2024 & 75882 & 8111 & 9.36 \\\\\n",
       "\\end{tabular}\n"
      ],
      "text/plain": [
       "\u001b[1m25×4 DataFrame\u001b[0m\n",
       "\u001b[1m Row \u001b[0m│\u001b[1m U.S. Wildfires October \u001b[0m\u001b[1m acres burned \u001b[0m\u001b[1m no. fires \u001b[0m\u001b[1m acres per fire \u001b[0m\n",
       "     │\u001b[90m Int64                  \u001b[0m\u001b[90m Int64        \u001b[0m\u001b[90m Int64     \u001b[0m\u001b[90m Float64        \u001b[0m\n",
       "─────┼─────────────────────────────────────────────────────────────────\n",
       "   1 │                   2000        195645       7651           25.57\n",
       "   2 │                   2001         33868       6223            5.44\n",
       "   3 │                   2002        128571       2009           64.0\n",
       "   4 │                   2003        170015       6353           26.76\n",
       "   5 │                   2004        304809       1918          158.92\n",
       "   6 │                   2005         95393       3414           27.94\n",
       "   7 │                   2006        326551       2639          123.74\n",
       "   8 │                   2007        469496       3787          123.98\n",
       "   9 │                   2008        299720       5403           55.47\n",
       "  10 │                   2009         91444       2989           30.59\n",
       "  11 │                   2010        210259       4594           45.77\n",
       "  ⋮  │           ⋮                  ⋮            ⋮            ⋮\n",
       "  16 │                   2015        323784       3826           84.63\n",
       "  17 │                   2016        126963       6555           19.37\n",
       "  18 │                   2017        366641       3408          107.58\n",
       "  19 │                   2018        466374       1791          260.4\n",
       "  20 │                   2019        134013       2314           57.91\n",
       "  21 │                   2020       1020326       3033          336.41\n",
       "  22 │                   2021        616701       2275          271.08\n",
       "  23 │                   2022        326208       5942           54.9\n",
       "  24 │                   2023         97539       5820           16.76\n",
       "  25 │                   2024         75882       8111            9.36\n",
       "\u001b[36m                                                         4 rows omitted\u001b[0m"
      ]
     },
     "execution_count": 98,
     "metadata": {},
     "output_type": "execute_result"
    }
   ],
   "source": [
    "rename!(df1, \"Column2\" => \"acres burned\", \"Column3\" => \"no. fires\", \"Column4\" => \"acres per fire\")"
   ]
  },
  {
   "cell_type": "code",
   "execution_count": 99,
   "id": "2c647b69-cd06-4540-9ef8-bb67f35c3570",
   "metadata": {},
   "outputs": [
    {
     "data": {
      "text/html": [
       "<div><div style = \"float: left;\"><span>57×3 DataFrame</span></div><div style = \"float: right;\"><span style = \"font-style: italic;\">32 rows omitted</span></div><div style = \"clear: both;\"></div></div><div class = \"data-frame\" style = \"overflow-x: scroll;\"><table class = \"data-frame\" style = \"margin-bottom: 6px;\"><thead><tr class = \"header\"><th class = \"rowNumber\" style = \"font-weight: bold; text-align: right;\">Row</th><th style = \"text-align: left;\">Column1</th><th style = \"text-align: left;\">Column2</th><th style = \"text-align: left;\">Column3</th></tr><tr class = \"subheader headerLastRow\"><th class = \"rowNumber\" style = \"font-weight: bold; text-align: right;\"></th><th title = \"String\" style = \"text-align: left;\">String</th><th title = \"Union{Missing, String15}\" style = \"text-align: left;\">String15?</th><th title = \"Union{Missing, String31}\" style = \"text-align: left;\">String31?</th></tr></thead><tbody><tr><td class = \"rowNumber\" style = \"font-weight: bold; text-align: right;\">1</td><td style = \"text-align: left;\">Wildfires By State, 2022</td><td style = \"font-style: italic; text-align: left;\">missing</td><td style = \"font-style: italic; text-align: left;\">missing</td></tr><tr><td class = \"rowNumber\" style = \"font-weight: bold; text-align: right;\">2</td><td style = \"text-align: left;\"> </td><td style = \"font-style: italic; text-align: left;\">missing</td><td style = \"font-style: italic; text-align: left;\">missing</td></tr><tr><td class = \"rowNumber\" style = \"font-weight: bold; text-align: right;\">3</td><td style = \"text-align: left;\">State</td><td style = \"text-align: left;\">Number of fires</td><td style = \"text-align: left;\">Number of acres burned</td></tr><tr><td class = \"rowNumber\" style = \"font-weight: bold; text-align: right;\">4</td><td style = \"text-align: left;\">Alabama</td><td style = \"text-align: left;\">2710</td><td style = \"text-align: left;\">40975</td></tr><tr><td class = \"rowNumber\" style = \"font-weight: bold; text-align: right;\">5</td><td style = \"text-align: left;\">Alaska</td><td style = \"text-align: left;\">595</td><td style = \"text-align: left;\">3110976</td></tr><tr><td class = \"rowNumber\" style = \"font-weight: bold; text-align: right;\">6</td><td style = \"text-align: left;\">Arizona</td><td style = \"text-align: left;\">1432</td><td style = \"text-align: left;\">124165</td></tr><tr><td class = \"rowNumber\" style = \"font-weight: bold; text-align: right;\">7</td><td style = \"text-align: left;\">Arkansas</td><td style = \"text-align: left;\">1903</td><td style = \"text-align: left;\">39028</td></tr><tr><td class = \"rowNumber\" style = \"font-weight: bold; text-align: right;\">8</td><td style = \"text-align: left;\">California</td><td style = \"text-align: left;\">7884</td><td style = \"text-align: left;\">309287</td></tr><tr><td class = \"rowNumber\" style = \"font-weight: bold; text-align: right;\">9</td><td style = \"text-align: left;\">Colorado</td><td style = \"text-align: left;\">835</td><td style = \"text-align: left;\">45732</td></tr><tr><td class = \"rowNumber\" style = \"font-weight: bold; text-align: right;\">10</td><td style = \"text-align: left;\">Connecticut</td><td style = \"text-align: left;\">150</td><td style = \"text-align: left;\">347</td></tr><tr><td class = \"rowNumber\" style = \"font-weight: bold; text-align: right;\">11</td><td style = \"text-align: left;\">Delaware</td><td style = \"text-align: left;\">7</td><td style = \"text-align: left;\">79</td></tr><tr><td class = \"rowNumber\" style = \"font-weight: bold; text-align: right;\">12</td><td style = \"text-align: left;\">District of Columbia</td><td style = \"text-align: left;\">0</td><td style = \"text-align: left;\">0</td></tr><tr><td class = \"rowNumber\" style = \"font-weight: bold; text-align: right;\">13</td><td style = \"text-align: left;\">Florida</td><td style = \"text-align: left;\">2784</td><td style = \"text-align: left;\">164774</td></tr><tr><td style = \"text-align: right;\">&vellip;</td><td style = \"text-align: right;\">&vellip;</td><td style = \"text-align: right;\">&vellip;</td><td style = \"text-align: right;\">&vellip;</td></tr><tr><td class = \"rowNumber\" style = \"font-weight: bold; text-align: right;\">46</td><td style = \"text-align: left;\">South Dakota</td><td style = \"text-align: left;\">527</td><td style = \"text-align: left;\">42148</td></tr><tr><td class = \"rowNumber\" style = \"font-weight: bold; text-align: right;\">47</td><td style = \"text-align: left;\">Tennessee</td><td style = \"text-align: left;\">1225</td><td style = \"text-align: left;\">15059</td></tr><tr><td class = \"rowNumber\" style = \"font-weight: bold; text-align: right;\">48</td><td style = \"text-align: left;\">Texas</td><td style = \"text-align: left;\">12571</td><td style = \"text-align: left;\">671800</td></tr><tr><td class = \"rowNumber\" style = \"font-weight: bold; text-align: right;\">49</td><td style = \"text-align: left;\">Utah</td><td style = \"text-align: left;\">945</td><td style = \"text-align: left;\">27245</td></tr><tr><td class = \"rowNumber\" style = \"font-weight: bold; text-align: right;\">50</td><td style = \"text-align: left;\">Vermont</td><td style = \"text-align: left;\">86</td><td style = \"text-align: left;\">83</td></tr><tr><td class = \"rowNumber\" style = \"font-weight: bold; text-align: right;\">51</td><td style = \"text-align: left;\">Virginia</td><td style = \"text-align: left;\">558</td><td style = \"text-align: left;\">9956</td></tr><tr><td class = \"rowNumber\" style = \"font-weight: bold; text-align: right;\">52</td><td style = \"text-align: left;\">Washington</td><td style = \"text-align: left;\">1492</td><td style = \"text-align: left;\">173659</td></tr><tr><td class = \"rowNumber\" style = \"font-weight: bold; text-align: right;\">53</td><td style = \"text-align: left;\">West Virginia</td><td style = \"text-align: left;\">893</td><td style = \"text-align: left;\">20275</td></tr><tr><td class = \"rowNumber\" style = \"font-weight: bold; text-align: right;\">54</td><td style = \"text-align: left;\">Wisconsin</td><td style = \"text-align: left;\">923</td><td style = \"text-align: left;\">881</td></tr><tr><td class = \"rowNumber\" style = \"font-weight: bold; text-align: right;\">55</td><td style = \"text-align: left;\">Wyoming</td><td style = \"text-align: left;\">443</td><td style = \"text-align: left;\">25766</td></tr><tr><td class = \"rowNumber\" style = \"font-weight: bold; text-align: right;\">56</td><td style = \"text-align: left;\">United States (1)</td><td style = \"text-align: left;\">68988</td><td style = \"text-align: left;\">7577175</td></tr><tr><td class = \"rowNumber\" style = \"font-weight: bold; text-align: right;\">57</td><td style = \"text-align: left;\">(1) Includes Puerto Rico. Totals for the United States do not match totals shown elsewhere by the National Interagency Fire Center due to the use of different exhibits. Source: National Interagency Fire Center.</td><td style = \"font-style: italic; text-align: left;\">missing</td><td style = \"font-style: italic; text-align: left;\">missing</td></tr></tbody></table></div>"
      ],
      "text/latex": [
       "\\begin{tabular}{r|ccc}\n",
       "\t& Column1 & Column2 & Column3\\\\\n",
       "\t\\hline\n",
       "\t& String & String15? & String31?\\\\\n",
       "\t\\hline\n",
       "\t1 & Wildfires By State, 2022 & \\emph{missing} & \\emph{missing} \\\\\n",
       "\t2 &   & \\emph{missing} & \\emph{missing} \\\\\n",
       "\t3 & State & Number of fires & Number of acres burned \\\\\n",
       "\t4 & Alabama & 2710 & 40975 \\\\\n",
       "\t5 & Alaska & 595 & 3110976 \\\\\n",
       "\t6 & Arizona & 1432 & 124165 \\\\\n",
       "\t7 & Arkansas & 1903 & 39028 \\\\\n",
       "\t8 & California & 7884 & 309287 \\\\\n",
       "\t9 & Colorado & 835 & 45732 \\\\\n",
       "\t10 & Connecticut & 150 & 347 \\\\\n",
       "\t11 & Delaware & 7 & 79 \\\\\n",
       "\t12 & District of Columbia & 0 & 0 \\\\\n",
       "\t13 & Florida & 2784 & 164774 \\\\\n",
       "\t14 & Georgia & 3621 & 25017 \\\\\n",
       "\t15 & Hawaii & 5 & 25053 \\\\\n",
       "\t16 & Idaho & 1088 & 436733 \\\\\n",
       "\t17 & Illinois & 32 & 298 \\\\\n",
       "\t18 & Indiana & 49 & 1643 \\\\\n",
       "\t19 & Iowa & 7 & 288 \\\\\n",
       "\t20 & Kansas & 67 & 84015 \\\\\n",
       "\t21 & Kentucky & 1280 & 59199 \\\\\n",
       "\t22 & Louisiana & 1259 & 24475 \\\\\n",
       "\t23 & Maine & 730 & 425 \\\\\n",
       "\t24 & Maryland & 117 & 3139 \\\\\n",
       "\t25 & Massachusetts & 1192 & 1756 \\\\\n",
       "\t26 & Michigan & 376 & 3522 \\\\\n",
       "\t27 & Minnesota & 713 & 3715 \\\\\n",
       "\t28 & Mississippi & 1980 & 53170 \\\\\n",
       "\t29 & Missouri & 136 & 4968 \\\\\n",
       "\t30 & Montana & 2087 & 137509 \\\\\n",
       "\t$\\dots$ & $\\dots$ & $\\dots$ & $\\dots$ \\\\\n",
       "\\end{tabular}\n"
      ],
      "text/plain": [
       "\u001b[1m57×3 DataFrame\u001b[0m\n",
       "\u001b[1m Row \u001b[0m│\u001b[1m Column1                           \u001b[0m\u001b[1m Column2         \u001b[0m\u001b[1m Column3            \u001b[0m ⋯\n",
       "     │\u001b[90m String                            \u001b[0m\u001b[90m String15?       \u001b[0m\u001b[90m String31?          \u001b[0m ⋯\n",
       "─────┼──────────────────────────────────────────────────────────────────────────\n",
       "   1 │ Wildfires By State, 2022          \u001b[90m missing         \u001b[0m\u001b[90m missing            \u001b[0m ⋯\n",
       "   2 │                                   \u001b[90m missing         \u001b[0m\u001b[90m missing            \u001b[0m\n",
       "   3 │ State                              Number of fires  Number of acres bur\n",
       "   4 │ Alabama                            2710             40975\n",
       "   5 │ Alaska                             595              3110976             ⋯\n",
       "   6 │ Arizona                            1432             124165\n",
       "   7 │ Arkansas                           1903             39028\n",
       "   8 │ California                         7884             309287\n",
       "   9 │ Colorado                           835              45732               ⋯\n",
       "  10 │ Connecticut                        150              347\n",
       "  11 │ Delaware                           7                79\n",
       "  ⋮  │                 ⋮                         ⋮                   ⋮         ⋱\n",
       "  48 │ Texas                              12571            671800\n",
       "  49 │ Utah                               945              27245               ⋯\n",
       "  50 │ Vermont                            86               83\n",
       "  51 │ Virginia                           558              9956\n",
       "  52 │ Washington                         1492             173659\n",
       "  53 │ West Virginia                      893              20275               ⋯\n",
       "  54 │ Wisconsin                          923              881\n",
       "  55 │ Wyoming                            443              25766\n",
       "  56 │ United States (1)                  68988            7577175\n",
       "  57 │ (1) Includes Puerto Rico. Totals… \u001b[90m missing         \u001b[0m\u001b[90m missing            \u001b[0m ⋯\n",
       "\u001b[36m                                                    1 column and 36 rows omitted\u001b[0m"
      ]
     },
     "execution_count": 99,
     "metadata": {},
     "output_type": "execute_result"
    }
   ],
   "source": [
    "df2 = CSV.read(\"Wildfires By State, 2022.csv\", DataFrame)"
   ]
  },
  {
   "cell_type": "code",
   "execution_count": 100,
   "id": "3d964e4e-a031-484a-9df7-a08c844e2a33",
   "metadata": {},
   "outputs": [
    {
     "data": {
      "text/html": [
       "<div><div style = \"float: left;\"><span>52×3 DataFrame</span></div><div style = \"float: right;\"><span style = \"font-style: italic;\">27 rows omitted</span></div><div style = \"clear: both;\"></div></div><div class = \"data-frame\" style = \"overflow-x: scroll;\"><table class = \"data-frame\" style = \"margin-bottom: 6px;\"><thead><tr class = \"header\"><th class = \"rowNumber\" style = \"font-weight: bold; text-align: right;\">Row</th><th style = \"text-align: left;\">Column1</th><th style = \"text-align: left;\">Column2</th><th style = \"text-align: left;\">Column3</th></tr><tr class = \"subheader headerLastRow\"><th class = \"rowNumber\" style = \"font-weight: bold; text-align: right;\"></th><th title = \"String\" style = \"text-align: left;\">String</th><th title = \"String15\" style = \"text-align: left;\">String15</th><th title = \"String31\" style = \"text-align: left;\">String31</th></tr></thead><tbody><tr><td class = \"rowNumber\" style = \"font-weight: bold; text-align: right;\">1</td><td style = \"text-align: left;\">Alabama</td><td style = \"text-align: left;\">2710</td><td style = \"text-align: left;\">40975</td></tr><tr><td class = \"rowNumber\" style = \"font-weight: bold; text-align: right;\">2</td><td style = \"text-align: left;\">Alaska</td><td style = \"text-align: left;\">595</td><td style = \"text-align: left;\">3110976</td></tr><tr><td class = \"rowNumber\" style = \"font-weight: bold; text-align: right;\">3</td><td style = \"text-align: left;\">Arizona</td><td style = \"text-align: left;\">1432</td><td style = \"text-align: left;\">124165</td></tr><tr><td class = \"rowNumber\" style = \"font-weight: bold; text-align: right;\">4</td><td style = \"text-align: left;\">Arkansas</td><td style = \"text-align: left;\">1903</td><td style = \"text-align: left;\">39028</td></tr><tr><td class = \"rowNumber\" style = \"font-weight: bold; text-align: right;\">5</td><td style = \"text-align: left;\">California</td><td style = \"text-align: left;\">7884</td><td style = \"text-align: left;\">309287</td></tr><tr><td class = \"rowNumber\" style = \"font-weight: bold; text-align: right;\">6</td><td style = \"text-align: left;\">Colorado</td><td style = \"text-align: left;\">835</td><td style = \"text-align: left;\">45732</td></tr><tr><td class = \"rowNumber\" style = \"font-weight: bold; text-align: right;\">7</td><td style = \"text-align: left;\">Connecticut</td><td style = \"text-align: left;\">150</td><td style = \"text-align: left;\">347</td></tr><tr><td class = \"rowNumber\" style = \"font-weight: bold; text-align: right;\">8</td><td style = \"text-align: left;\">Delaware</td><td style = \"text-align: left;\">7</td><td style = \"text-align: left;\">79</td></tr><tr><td class = \"rowNumber\" style = \"font-weight: bold; text-align: right;\">9</td><td style = \"text-align: left;\">District of Columbia</td><td style = \"text-align: left;\">0</td><td style = \"text-align: left;\">0</td></tr><tr><td class = \"rowNumber\" style = \"font-weight: bold; text-align: right;\">10</td><td style = \"text-align: left;\">Florida</td><td style = \"text-align: left;\">2784</td><td style = \"text-align: left;\">164774</td></tr><tr><td class = \"rowNumber\" style = \"font-weight: bold; text-align: right;\">11</td><td style = \"text-align: left;\">Georgia</td><td style = \"text-align: left;\">3621</td><td style = \"text-align: left;\">25017</td></tr><tr><td class = \"rowNumber\" style = \"font-weight: bold; text-align: right;\">12</td><td style = \"text-align: left;\">Hawaii</td><td style = \"text-align: left;\">5</td><td style = \"text-align: left;\">25053</td></tr><tr><td class = \"rowNumber\" style = \"font-weight: bold; text-align: right;\">13</td><td style = \"text-align: left;\">Idaho</td><td style = \"text-align: left;\">1088</td><td style = \"text-align: left;\">436733</td></tr><tr><td style = \"text-align: right;\">&vellip;</td><td style = \"text-align: right;\">&vellip;</td><td style = \"text-align: right;\">&vellip;</td><td style = \"text-align: right;\">&vellip;</td></tr><tr><td class = \"rowNumber\" style = \"font-weight: bold; text-align: right;\">41</td><td style = \"text-align: left;\">Rhode Island</td><td style = \"text-align: left;\">76</td><td style = \"text-align: left;\">44</td></tr><tr><td class = \"rowNumber\" style = \"font-weight: bold; text-align: right;\">42</td><td style = \"text-align: left;\">South Carolina</td><td style = \"text-align: left;\">22</td><td style = \"text-align: left;\">677</td></tr><tr><td class = \"rowNumber\" style = \"font-weight: bold; text-align: right;\">43</td><td style = \"text-align: left;\">South Dakota</td><td style = \"text-align: left;\">527</td><td style = \"text-align: left;\">42148</td></tr><tr><td class = \"rowNumber\" style = \"font-weight: bold; text-align: right;\">44</td><td style = \"text-align: left;\">Tennessee</td><td style = \"text-align: left;\">1225</td><td style = \"text-align: left;\">15059</td></tr><tr><td class = \"rowNumber\" style = \"font-weight: bold; text-align: right;\">45</td><td style = \"text-align: left;\">Texas</td><td style = \"text-align: left;\">12571</td><td style = \"text-align: left;\">671800</td></tr><tr><td class = \"rowNumber\" style = \"font-weight: bold; text-align: right;\">46</td><td style = \"text-align: left;\">Utah</td><td style = \"text-align: left;\">945</td><td style = \"text-align: left;\">27245</td></tr><tr><td class = \"rowNumber\" style = \"font-weight: bold; text-align: right;\">47</td><td style = \"text-align: left;\">Vermont</td><td style = \"text-align: left;\">86</td><td style = \"text-align: left;\">83</td></tr><tr><td class = \"rowNumber\" style = \"font-weight: bold; text-align: right;\">48</td><td style = \"text-align: left;\">Virginia</td><td style = \"text-align: left;\">558</td><td style = \"text-align: left;\">9956</td></tr><tr><td class = \"rowNumber\" style = \"font-weight: bold; text-align: right;\">49</td><td style = \"text-align: left;\">Washington</td><td style = \"text-align: left;\">1492</td><td style = \"text-align: left;\">173659</td></tr><tr><td class = \"rowNumber\" style = \"font-weight: bold; text-align: right;\">50</td><td style = \"text-align: left;\">West Virginia</td><td style = \"text-align: left;\">893</td><td style = \"text-align: left;\">20275</td></tr><tr><td class = \"rowNumber\" style = \"font-weight: bold; text-align: right;\">51</td><td style = \"text-align: left;\">Wisconsin</td><td style = \"text-align: left;\">923</td><td style = \"text-align: left;\">881</td></tr><tr><td class = \"rowNumber\" style = \"font-weight: bold; text-align: right;\">52</td><td style = \"text-align: left;\">Wyoming</td><td style = \"text-align: left;\">443</td><td style = \"text-align: left;\">25766</td></tr></tbody></table></div>"
      ],
      "text/latex": [
       "\\begin{tabular}{r|ccc}\n",
       "\t& Column1 & Column2 & Column3\\\\\n",
       "\t\\hline\n",
       "\t& String & String15 & String31\\\\\n",
       "\t\\hline\n",
       "\t1 & Alabama & 2710 & 40975 \\\\\n",
       "\t2 & Alaska & 595 & 3110976 \\\\\n",
       "\t3 & Arizona & 1432 & 124165 \\\\\n",
       "\t4 & Arkansas & 1903 & 39028 \\\\\n",
       "\t5 & California & 7884 & 309287 \\\\\n",
       "\t6 & Colorado & 835 & 45732 \\\\\n",
       "\t7 & Connecticut & 150 & 347 \\\\\n",
       "\t8 & Delaware & 7 & 79 \\\\\n",
       "\t9 & District of Columbia & 0 & 0 \\\\\n",
       "\t10 & Florida & 2784 & 164774 \\\\\n",
       "\t11 & Georgia & 3621 & 25017 \\\\\n",
       "\t12 & Hawaii & 5 & 25053 \\\\\n",
       "\t13 & Idaho & 1088 & 436733 \\\\\n",
       "\t14 & Illinois & 32 & 298 \\\\\n",
       "\t15 & Indiana & 49 & 1643 \\\\\n",
       "\t16 & Iowa & 7 & 288 \\\\\n",
       "\t17 & Kansas & 67 & 84015 \\\\\n",
       "\t18 & Kentucky & 1280 & 59199 \\\\\n",
       "\t19 & Louisiana & 1259 & 24475 \\\\\n",
       "\t20 & Maine & 730 & 425 \\\\\n",
       "\t21 & Maryland & 117 & 3139 \\\\\n",
       "\t22 & Massachusetts & 1192 & 1756 \\\\\n",
       "\t23 & Michigan & 376 & 3522 \\\\\n",
       "\t24 & Minnesota & 713 & 3715 \\\\\n",
       "\t25 & Mississippi & 1980 & 53170 \\\\\n",
       "\t26 & Missouri & 136 & 4968 \\\\\n",
       "\t27 & Montana & 2087 & 137509 \\\\\n",
       "\t28 & Nebraska & 568 & 76534 \\\\\n",
       "\t29 & Nevada & 506 & 58402 \\\\\n",
       "\t30 & New Hampshire & 103 & 381 \\\\\n",
       "\t$\\dots$ & $\\dots$ & $\\dots$ & $\\dots$ \\\\\n",
       "\\end{tabular}\n"
      ],
      "text/plain": [
       "\u001b[1m52×3 DataFrame\u001b[0m\n",
       "\u001b[1m Row \u001b[0m│\u001b[1m Column1              \u001b[0m\u001b[1m Column2  \u001b[0m\u001b[1m Column3  \u001b[0m\n",
       "     │\u001b[90m String               \u001b[0m\u001b[90m String15 \u001b[0m\u001b[90m String31 \u001b[0m\n",
       "─────┼──────────────────────────────────────────\n",
       "   1 │ Alabama               2710      40975\n",
       "   2 │ Alaska                595       3110976\n",
       "   3 │ Arizona               1432      124165\n",
       "   4 │ Arkansas              1903      39028\n",
       "   5 │ California            7884      309287\n",
       "   6 │ Colorado              835       45732\n",
       "   7 │ Connecticut           150       347\n",
       "   8 │ Delaware              7         79\n",
       "   9 │ District of Columbia  0         0\n",
       "  10 │ Florida               2784      164774\n",
       "  11 │ Georgia               3621      25017\n",
       "  ⋮  │          ⋮               ⋮         ⋮\n",
       "  43 │ South Dakota          527       42148\n",
       "  44 │ Tennessee             1225      15059\n",
       "  45 │ Texas                 12571     671800\n",
       "  46 │ Utah                  945       27245\n",
       "  47 │ Vermont               86        83\n",
       "  48 │ Virginia              558       9956\n",
       "  49 │ Washington            1492      173659\n",
       "  50 │ West Virginia         893       20275\n",
       "  51 │ Wisconsin             923       881\n",
       "  52 │ Wyoming               443       25766\n",
       "\u001b[36m                                 31 rows omitted\u001b[0m"
      ]
     },
     "execution_count": 100,
     "metadata": {},
     "output_type": "execute_result"
    }
   ],
   "source": [
    "dropmissing!(df2)\n",
    "filter!(row -> ~(contains(row[\"Column1\"], \"(1)\")) && ~(row[\"Column1\"] == \"State\"),\n",
    "    df2)"
   ]
  },
  {
   "cell_type": "code",
   "execution_count": 101,
   "id": "2eb7c676-155f-490d-8e3f-a682d9ad43de",
   "metadata": {},
   "outputs": [
    {
     "data": {
      "text/html": [
       "<div><div style = \"float: left;\"><span>52×3 DataFrame</span></div><div style = \"float: right;\"><span style = \"font-style: italic;\">27 rows omitted</span></div><div style = \"clear: both;\"></div></div><div class = \"data-frame\" style = \"overflow-x: scroll;\"><table class = \"data-frame\" style = \"margin-bottom: 6px;\"><thead><tr class = \"header\"><th class = \"rowNumber\" style = \"font-weight: bold; text-align: right;\">Row</th><th style = \"text-align: left;\">state</th><th style = \"text-align: left;\">no fires</th><th style = \"text-align: left;\">no acres</th></tr><tr class = \"subheader headerLastRow\"><th class = \"rowNumber\" style = \"font-weight: bold; text-align: right;\"></th><th title = \"String\" style = \"text-align: left;\">String</th><th title = \"Int64\" style = \"text-align: left;\">Int64</th><th title = \"Int64\" style = \"text-align: left;\">Int64</th></tr></thead><tbody><tr><td class = \"rowNumber\" style = \"font-weight: bold; text-align: right;\">1</td><td style = \"text-align: left;\">Alabama</td><td style = \"text-align: right;\">2710</td><td style = \"text-align: right;\">40975</td></tr><tr><td class = \"rowNumber\" style = \"font-weight: bold; text-align: right;\">2</td><td style = \"text-align: left;\">Alaska</td><td style = \"text-align: right;\">595</td><td style = \"text-align: right;\">3110976</td></tr><tr><td class = \"rowNumber\" style = \"font-weight: bold; text-align: right;\">3</td><td style = \"text-align: left;\">Arizona</td><td style = \"text-align: right;\">1432</td><td style = \"text-align: right;\">124165</td></tr><tr><td class = \"rowNumber\" style = \"font-weight: bold; text-align: right;\">4</td><td style = \"text-align: left;\">Arkansas</td><td style = \"text-align: right;\">1903</td><td style = \"text-align: right;\">39028</td></tr><tr><td class = \"rowNumber\" style = \"font-weight: bold; text-align: right;\">5</td><td style = \"text-align: left;\">California</td><td style = \"text-align: right;\">7884</td><td style = \"text-align: right;\">309287</td></tr><tr><td class = \"rowNumber\" style = \"font-weight: bold; text-align: right;\">6</td><td style = \"text-align: left;\">Colorado</td><td style = \"text-align: right;\">835</td><td style = \"text-align: right;\">45732</td></tr><tr><td class = \"rowNumber\" style = \"font-weight: bold; text-align: right;\">7</td><td style = \"text-align: left;\">Connecticut</td><td style = \"text-align: right;\">150</td><td style = \"text-align: right;\">347</td></tr><tr><td class = \"rowNumber\" style = \"font-weight: bold; text-align: right;\">8</td><td style = \"text-align: left;\">Delaware</td><td style = \"text-align: right;\">7</td><td style = \"text-align: right;\">79</td></tr><tr><td class = \"rowNumber\" style = \"font-weight: bold; text-align: right;\">9</td><td style = \"text-align: left;\">District of Columbia</td><td style = \"text-align: right;\">0</td><td style = \"text-align: right;\">0</td></tr><tr><td class = \"rowNumber\" style = \"font-weight: bold; text-align: right;\">10</td><td style = \"text-align: left;\">Florida</td><td style = \"text-align: right;\">2784</td><td style = \"text-align: right;\">164774</td></tr><tr><td class = \"rowNumber\" style = \"font-weight: bold; text-align: right;\">11</td><td style = \"text-align: left;\">Georgia</td><td style = \"text-align: right;\">3621</td><td style = \"text-align: right;\">25017</td></tr><tr><td class = \"rowNumber\" style = \"font-weight: bold; text-align: right;\">12</td><td style = \"text-align: left;\">Hawaii</td><td style = \"text-align: right;\">5</td><td style = \"text-align: right;\">25053</td></tr><tr><td class = \"rowNumber\" style = \"font-weight: bold; text-align: right;\">13</td><td style = \"text-align: left;\">Idaho</td><td style = \"text-align: right;\">1088</td><td style = \"text-align: right;\">436733</td></tr><tr><td style = \"text-align: right;\">&vellip;</td><td style = \"text-align: right;\">&vellip;</td><td style = \"text-align: right;\">&vellip;</td><td style = \"text-align: right;\">&vellip;</td></tr><tr><td class = \"rowNumber\" style = \"font-weight: bold; text-align: right;\">41</td><td style = \"text-align: left;\">Rhode Island</td><td style = \"text-align: right;\">76</td><td style = \"text-align: right;\">44</td></tr><tr><td class = \"rowNumber\" style = \"font-weight: bold; text-align: right;\">42</td><td style = \"text-align: left;\">South Carolina</td><td style = \"text-align: right;\">22</td><td style = \"text-align: right;\">677</td></tr><tr><td class = \"rowNumber\" style = \"font-weight: bold; text-align: right;\">43</td><td style = \"text-align: left;\">South Dakota</td><td style = \"text-align: right;\">527</td><td style = \"text-align: right;\">42148</td></tr><tr><td class = \"rowNumber\" style = \"font-weight: bold; text-align: right;\">44</td><td style = \"text-align: left;\">Tennessee</td><td style = \"text-align: right;\">1225</td><td style = \"text-align: right;\">15059</td></tr><tr><td class = \"rowNumber\" style = \"font-weight: bold; text-align: right;\">45</td><td style = \"text-align: left;\">Texas</td><td style = \"text-align: right;\">12571</td><td style = \"text-align: right;\">671800</td></tr><tr><td class = \"rowNumber\" style = \"font-weight: bold; text-align: right;\">46</td><td style = \"text-align: left;\">Utah</td><td style = \"text-align: right;\">945</td><td style = \"text-align: right;\">27245</td></tr><tr><td class = \"rowNumber\" style = \"font-weight: bold; text-align: right;\">47</td><td style = \"text-align: left;\">Vermont</td><td style = \"text-align: right;\">86</td><td style = \"text-align: right;\">83</td></tr><tr><td class = \"rowNumber\" style = \"font-weight: bold; text-align: right;\">48</td><td style = \"text-align: left;\">Virginia</td><td style = \"text-align: right;\">558</td><td style = \"text-align: right;\">9956</td></tr><tr><td class = \"rowNumber\" style = \"font-weight: bold; text-align: right;\">49</td><td style = \"text-align: left;\">Washington</td><td style = \"text-align: right;\">1492</td><td style = \"text-align: right;\">173659</td></tr><tr><td class = \"rowNumber\" style = \"font-weight: bold; text-align: right;\">50</td><td style = \"text-align: left;\">West Virginia</td><td style = \"text-align: right;\">893</td><td style = \"text-align: right;\">20275</td></tr><tr><td class = \"rowNumber\" style = \"font-weight: bold; text-align: right;\">51</td><td style = \"text-align: left;\">Wisconsin</td><td style = \"text-align: right;\">923</td><td style = \"text-align: right;\">881</td></tr><tr><td class = \"rowNumber\" style = \"font-weight: bold; text-align: right;\">52</td><td style = \"text-align: left;\">Wyoming</td><td style = \"text-align: right;\">443</td><td style = \"text-align: right;\">25766</td></tr></tbody></table></div>"
      ],
      "text/latex": [
       "\\begin{tabular}{r|ccc}\n",
       "\t& state & no fires & no acres\\\\\n",
       "\t\\hline\n",
       "\t& String & Int64 & Int64\\\\\n",
       "\t\\hline\n",
       "\t1 & Alabama & 2710 & 40975 \\\\\n",
       "\t2 & Alaska & 595 & 3110976 \\\\\n",
       "\t3 & Arizona & 1432 & 124165 \\\\\n",
       "\t4 & Arkansas & 1903 & 39028 \\\\\n",
       "\t5 & California & 7884 & 309287 \\\\\n",
       "\t6 & Colorado & 835 & 45732 \\\\\n",
       "\t7 & Connecticut & 150 & 347 \\\\\n",
       "\t8 & Delaware & 7 & 79 \\\\\n",
       "\t9 & District of Columbia & 0 & 0 \\\\\n",
       "\t10 & Florida & 2784 & 164774 \\\\\n",
       "\t11 & Georgia & 3621 & 25017 \\\\\n",
       "\t12 & Hawaii & 5 & 25053 \\\\\n",
       "\t13 & Idaho & 1088 & 436733 \\\\\n",
       "\t14 & Illinois & 32 & 298 \\\\\n",
       "\t15 & Indiana & 49 & 1643 \\\\\n",
       "\t16 & Iowa & 7 & 288 \\\\\n",
       "\t17 & Kansas & 67 & 84015 \\\\\n",
       "\t18 & Kentucky & 1280 & 59199 \\\\\n",
       "\t19 & Louisiana & 1259 & 24475 \\\\\n",
       "\t20 & Maine & 730 & 425 \\\\\n",
       "\t21 & Maryland & 117 & 3139 \\\\\n",
       "\t22 & Massachusetts & 1192 & 1756 \\\\\n",
       "\t23 & Michigan & 376 & 3522 \\\\\n",
       "\t24 & Minnesota & 713 & 3715 \\\\\n",
       "\t25 & Mississippi & 1980 & 53170 \\\\\n",
       "\t26 & Missouri & 136 & 4968 \\\\\n",
       "\t27 & Montana & 2087 & 137509 \\\\\n",
       "\t28 & Nebraska & 568 & 76534 \\\\\n",
       "\t29 & Nevada & 506 & 58402 \\\\\n",
       "\t30 & New Hampshire & 103 & 381 \\\\\n",
       "\t$\\dots$ & $\\dots$ & $\\dots$ & $\\dots$ \\\\\n",
       "\\end{tabular}\n"
      ],
      "text/plain": [
       "\u001b[1m52×3 DataFrame\u001b[0m\n",
       "\u001b[1m Row \u001b[0m│\u001b[1m state                \u001b[0m\u001b[1m no fires \u001b[0m\u001b[1m no acres \u001b[0m\n",
       "     │\u001b[90m String               \u001b[0m\u001b[90m Int64    \u001b[0m\u001b[90m Int64    \u001b[0m\n",
       "─────┼──────────────────────────────────────────\n",
       "   1 │ Alabama                   2710     40975\n",
       "   2 │ Alaska                     595   3110976\n",
       "   3 │ Arizona                   1432    124165\n",
       "   4 │ Arkansas                  1903     39028\n",
       "   5 │ California                7884    309287\n",
       "   6 │ Colorado                   835     45732\n",
       "   7 │ Connecticut                150       347\n",
       "   8 │ Delaware                     7        79\n",
       "   9 │ District of Columbia         0         0\n",
       "  10 │ Florida                   2784    164774\n",
       "  11 │ Georgia                   3621     25017\n",
       "  ⋮  │          ⋮               ⋮         ⋮\n",
       "  43 │ South Dakota               527     42148\n",
       "  44 │ Tennessee                 1225     15059\n",
       "  45 │ Texas                    12571    671800\n",
       "  46 │ Utah                       945     27245\n",
       "  47 │ Vermont                     86        83\n",
       "  48 │ Virginia                   558      9956\n",
       "  49 │ Washington                1492    173659\n",
       "  50 │ West Virginia              893     20275\n",
       "  51 │ Wisconsin                  923       881\n",
       "  52 │ Wyoming                    443     25766\n",
       "\u001b[36m                                 31 rows omitted\u001b[0m"
      ]
     },
     "execution_count": 101,
     "metadata": {},
     "output_type": "execute_result"
    }
   ],
   "source": [
    "df2[!, Symbol(\"Column2\")] = [begin\n",
    "        parse(Int64, s)\n",
    "    end for s in df2[!, \"Column2\"]]\n",
    "df2[!, Symbol(\"Column3\")] = [begin\n",
    "        parse(Int64, s)\n",
    "    end for s in df2[!, \"Column3\"]]\n",
    "\n",
    "rename!(df2, \"Column1\" => \"state\", \"Column2\" => \"no fires\", \"Column3\" => \"no acres\")"
   ]
  },
  {
   "cell_type": "code",
   "execution_count": 102,
   "id": "e0d48936-a4bb-41f1-8785-35637b073bf6",
   "metadata": {},
   "outputs": [
    {
     "data": {
      "text/html": [
       "<div><div style = \"float: left;\"><span>25×4 DataFrame</span></div><div style = \"clear: both;\"></div></div><div class = \"data-frame\" style = \"overflow-x: scroll;\"><table class = \"data-frame\" style = \"margin-bottom: 6px;\"><thead><tr class = \"header\"><th class = \"rowNumber\" style = \"font-weight: bold; text-align: right;\">Row</th><th style = \"text-align: left;\">U.S. Wildfires October</th><th style = \"text-align: left;\">acres burned</th><th style = \"text-align: left;\">no. fires</th><th style = \"text-align: left;\">acres per fire</th></tr><tr class = \"subheader headerLastRow\"><th class = \"rowNumber\" style = \"font-weight: bold; text-align: right;\"></th><th title = \"Int64\" style = \"text-align: left;\">Int64</th><th title = \"Int64\" style = \"text-align: left;\">Int64</th><th title = \"Int64\" style = \"text-align: left;\">Int64</th><th title = \"Float64\" style = \"text-align: left;\">Float64</th></tr></thead><tbody><tr><td class = \"rowNumber\" style = \"font-weight: bold; text-align: right;\">1</td><td style = \"text-align: right;\">2000</td><td style = \"text-align: right;\">195645</td><td style = \"text-align: right;\">7651</td><td style = \"text-align: right;\">25.57</td></tr><tr><td class = \"rowNumber\" style = \"font-weight: bold; text-align: right;\">2</td><td style = \"text-align: right;\">2001</td><td style = \"text-align: right;\">33868</td><td style = \"text-align: right;\">6223</td><td style = \"text-align: right;\">5.44</td></tr><tr><td class = \"rowNumber\" style = \"font-weight: bold; text-align: right;\">3</td><td style = \"text-align: right;\">2002</td><td style = \"text-align: right;\">128571</td><td style = \"text-align: right;\">2009</td><td style = \"text-align: right;\">64.0</td></tr><tr><td class = \"rowNumber\" style = \"font-weight: bold; text-align: right;\">4</td><td style = \"text-align: right;\">2003</td><td style = \"text-align: right;\">170015</td><td style = \"text-align: right;\">6353</td><td style = \"text-align: right;\">26.76</td></tr><tr><td class = \"rowNumber\" style = \"font-weight: bold; text-align: right;\">5</td><td style = \"text-align: right;\">2004</td><td style = \"text-align: right;\">304809</td><td style = \"text-align: right;\">1918</td><td style = \"text-align: right;\">158.92</td></tr><tr><td class = \"rowNumber\" style = \"font-weight: bold; text-align: right;\">6</td><td style = \"text-align: right;\">2005</td><td style = \"text-align: right;\">95393</td><td style = \"text-align: right;\">3414</td><td style = \"text-align: right;\">27.94</td></tr><tr><td class = \"rowNumber\" style = \"font-weight: bold; text-align: right;\">7</td><td style = \"text-align: right;\">2006</td><td style = \"text-align: right;\">326551</td><td style = \"text-align: right;\">2639</td><td style = \"text-align: right;\">123.74</td></tr><tr><td class = \"rowNumber\" style = \"font-weight: bold; text-align: right;\">8</td><td style = \"text-align: right;\">2007</td><td style = \"text-align: right;\">469496</td><td style = \"text-align: right;\">3787</td><td style = \"text-align: right;\">123.98</td></tr><tr><td class = \"rowNumber\" style = \"font-weight: bold; text-align: right;\">9</td><td style = \"text-align: right;\">2008</td><td style = \"text-align: right;\">299720</td><td style = \"text-align: right;\">5403</td><td style = \"text-align: right;\">55.47</td></tr><tr><td class = \"rowNumber\" style = \"font-weight: bold; text-align: right;\">10</td><td style = \"text-align: right;\">2009</td><td style = \"text-align: right;\">91444</td><td style = \"text-align: right;\">2989</td><td style = \"text-align: right;\">30.59</td></tr><tr><td class = \"rowNumber\" style = \"font-weight: bold; text-align: right;\">11</td><td style = \"text-align: right;\">2010</td><td style = \"text-align: right;\">210259</td><td style = \"text-align: right;\">4594</td><td style = \"text-align: right;\">45.77</td></tr><tr><td class = \"rowNumber\" style = \"font-weight: bold; text-align: right;\">12</td><td style = \"text-align: right;\">2011</td><td style = \"text-align: right;\">507724</td><td style = \"text-align: right;\">3399</td><td style = \"text-align: right;\">149.37</td></tr><tr><td class = \"rowNumber\" style = \"font-weight: bold; text-align: right;\">13</td><td style = \"text-align: right;\">2012</td><td style = \"text-align: right;\">200860</td><td style = \"text-align: right;\">3553</td><td style = \"text-align: right;\">56.53</td></tr><tr><td class = \"rowNumber\" style = \"font-weight: bold; text-align: right;\">14</td><td style = \"text-align: right;\">2013</td><td style = \"text-align: right;\">19514</td><td style = \"text-align: right;\">3323</td><td style = \"text-align: right;\">5.87</td></tr><tr><td class = \"rowNumber\" style = \"font-weight: bold; text-align: right;\">15</td><td style = \"text-align: right;\">2014</td><td style = \"text-align: right;\">202883</td><td style = \"text-align: right;\">1946</td><td style = \"text-align: right;\">104.26</td></tr><tr><td class = \"rowNumber\" style = \"font-weight: bold; text-align: right;\">16</td><td style = \"text-align: right;\">2015</td><td style = \"text-align: right;\">323784</td><td style = \"text-align: right;\">3826</td><td style = \"text-align: right;\">84.63</td></tr><tr><td class = \"rowNumber\" style = \"font-weight: bold; text-align: right;\">17</td><td style = \"text-align: right;\">2016</td><td style = \"text-align: right;\">126963</td><td style = \"text-align: right;\">6555</td><td style = \"text-align: right;\">19.37</td></tr><tr><td class = \"rowNumber\" style = \"font-weight: bold; text-align: right;\">18</td><td style = \"text-align: right;\">2017</td><td style = \"text-align: right;\">366641</td><td style = \"text-align: right;\">3408</td><td style = \"text-align: right;\">107.58</td></tr><tr><td class = \"rowNumber\" style = \"font-weight: bold; text-align: right;\">19</td><td style = \"text-align: right;\">2018</td><td style = \"text-align: right;\">466374</td><td style = \"text-align: right;\">1791</td><td style = \"text-align: right;\">260.4</td></tr><tr><td class = \"rowNumber\" style = \"font-weight: bold; text-align: right;\">20</td><td style = \"text-align: right;\">2019</td><td style = \"text-align: right;\">134013</td><td style = \"text-align: right;\">2314</td><td style = \"text-align: right;\">57.91</td></tr><tr><td class = \"rowNumber\" style = \"font-weight: bold; text-align: right;\">21</td><td style = \"text-align: right;\">2020</td><td style = \"text-align: right;\">1020326</td><td style = \"text-align: right;\">3033</td><td style = \"text-align: right;\">336.41</td></tr><tr><td class = \"rowNumber\" style = \"font-weight: bold; text-align: right;\">22</td><td style = \"text-align: right;\">2021</td><td style = \"text-align: right;\">616701</td><td style = \"text-align: right;\">2275</td><td style = \"text-align: right;\">271.08</td></tr><tr><td class = \"rowNumber\" style = \"font-weight: bold; text-align: right;\">23</td><td style = \"text-align: right;\">2022</td><td style = \"text-align: right;\">326208</td><td style = \"text-align: right;\">5942</td><td style = \"text-align: right;\">54.9</td></tr><tr><td class = \"rowNumber\" style = \"font-weight: bold; text-align: right;\">24</td><td style = \"text-align: right;\">2023</td><td style = \"text-align: right;\">97539</td><td style = \"text-align: right;\">5820</td><td style = \"text-align: right;\">16.76</td></tr><tr><td class = \"rowNumber\" style = \"font-weight: bold; text-align: right;\">25</td><td style = \"text-align: right;\">2024</td><td style = \"text-align: right;\">75882</td><td style = \"text-align: right;\">8111</td><td style = \"text-align: right;\">9.36</td></tr></tbody></table></div>"
      ],
      "text/latex": [
       "\\begin{tabular}{r|cccc}\n",
       "\t& U.S. Wildfires October & acres burned & no. fires & acres per fire\\\\\n",
       "\t\\hline\n",
       "\t& Int64 & Int64 & Int64 & Float64\\\\\n",
       "\t\\hline\n",
       "\t1 & 2000 & 195645 & 7651 & 25.57 \\\\\n",
       "\t2 & 2001 & 33868 & 6223 & 5.44 \\\\\n",
       "\t3 & 2002 & 128571 & 2009 & 64.0 \\\\\n",
       "\t4 & 2003 & 170015 & 6353 & 26.76 \\\\\n",
       "\t5 & 2004 & 304809 & 1918 & 158.92 \\\\\n",
       "\t6 & 2005 & 95393 & 3414 & 27.94 \\\\\n",
       "\t7 & 2006 & 326551 & 2639 & 123.74 \\\\\n",
       "\t8 & 2007 & 469496 & 3787 & 123.98 \\\\\n",
       "\t9 & 2008 & 299720 & 5403 & 55.47 \\\\\n",
       "\t10 & 2009 & 91444 & 2989 & 30.59 \\\\\n",
       "\t11 & 2010 & 210259 & 4594 & 45.77 \\\\\n",
       "\t12 & 2011 & 507724 & 3399 & 149.37 \\\\\n",
       "\t13 & 2012 & 200860 & 3553 & 56.53 \\\\\n",
       "\t14 & 2013 & 19514 & 3323 & 5.87 \\\\\n",
       "\t15 & 2014 & 202883 & 1946 & 104.26 \\\\\n",
       "\t16 & 2015 & 323784 & 3826 & 84.63 \\\\\n",
       "\t17 & 2016 & 126963 & 6555 & 19.37 \\\\\n",
       "\t18 & 2017 & 366641 & 3408 & 107.58 \\\\\n",
       "\t19 & 2018 & 466374 & 1791 & 260.4 \\\\\n",
       "\t20 & 2019 & 134013 & 2314 & 57.91 \\\\\n",
       "\t21 & 2020 & 1020326 & 3033 & 336.41 \\\\\n",
       "\t22 & 2021 & 616701 & 2275 & 271.08 \\\\\n",
       "\t23 & 2022 & 326208 & 5942 & 54.9 \\\\\n",
       "\t24 & 2023 & 97539 & 5820 & 16.76 \\\\\n",
       "\t25 & 2024 & 75882 & 8111 & 9.36 \\\\\n",
       "\\end{tabular}\n"
      ],
      "text/plain": [
       "\u001b[1m25×4 DataFrame\u001b[0m\n",
       "\u001b[1m Row \u001b[0m│\u001b[1m U.S. Wildfires October \u001b[0m\u001b[1m acres burned \u001b[0m\u001b[1m no. fires \u001b[0m\u001b[1m acres per fire \u001b[0m\n",
       "     │\u001b[90m Int64                  \u001b[0m\u001b[90m Int64        \u001b[0m\u001b[90m Int64     \u001b[0m\u001b[90m Float64        \u001b[0m\n",
       "─────┼─────────────────────────────────────────────────────────────────\n",
       "   1 │                   2000        195645       7651           25.57\n",
       "   2 │                   2001         33868       6223            5.44\n",
       "   3 │                   2002        128571       2009           64.0\n",
       "   4 │                   2003        170015       6353           26.76\n",
       "   5 │                   2004        304809       1918          158.92\n",
       "   6 │                   2005         95393       3414           27.94\n",
       "   7 │                   2006        326551       2639          123.74\n",
       "   8 │                   2007        469496       3787          123.98\n",
       "   9 │                   2008        299720       5403           55.47\n",
       "  10 │                   2009         91444       2989           30.59\n",
       "  11 │                   2010        210259       4594           45.77\n",
       "  ⋮  │           ⋮                  ⋮            ⋮            ⋮\n",
       "  16 │                   2015        323784       3826           84.63\n",
       "  17 │                   2016        126963       6555           19.37\n",
       "  18 │                   2017        366641       3408          107.58\n",
       "  19 │                   2018        466374       1791          260.4\n",
       "  20 │                   2019        134013       2314           57.91\n",
       "  21 │                   2020       1020326       3033          336.41\n",
       "  22 │                   2021        616701       2275          271.08\n",
       "  23 │                   2022        326208       5942           54.9\n",
       "  24 │                   2023         97539       5820           16.76\n",
       "  25 │                   2024         75882       8111            9.36\n",
       "\u001b[36m                                                         4 rows omitted\u001b[0m"
      ]
     },
     "execution_count": 102,
     "metadata": {},
     "output_type": "execute_result"
    }
   ],
   "source": [
    "df1"
   ]
  },
  {
   "cell_type": "code",
   "execution_count": 103,
   "id": "ce41ea84-9028-4c6b-82ea-9a34d90b26b5",
   "metadata": {},
   "outputs": [
    {
     "name": "stdout",
     "output_type": "stream",
     "text": [
      "search: \u001b[0m\u001b[1mG\u001b[22m\u001b[0m\u001b[1ma\u001b[22m\u001b[0m\u001b[1mt\u001b[22m\u001b[0m\u001b[1mt\u001b[22m\u001b[0m\u001b[1mi\u001b[22m\u001b[0m\u001b[1mn\u001b[22m\u001b[0m\u001b[1mo\u001b[22m \u001b[0m\u001b[1mG\u001b[22m\u001b[0m\u001b[1ma\u001b[22m\u001b[0m\u001b[1mt\u001b[22m\u001b[0m\u001b[1mt\u001b[22m\u001b[0m\u001b[1mi\u001b[22m\u001b[0m\u001b[1mn\u001b[22m\u001b[0m\u001b[1mo\u001b[22mPleths\n",
      "\n"
     ]
    },
    {
     "data": {
      "text/latex": [
       "Created in December, 2023 by \\href{https://github.com/orgs/ChifiSource}{chifi - an open source software dynasty.}\n",
       "\n",
       "\\begin{itemize}\n",
       "\\item This software is MIT-licensed.\n",
       "\n",
       "\\end{itemize}\n",
       "\\subsubsection{Gattino}\n",
       "\\texttt{Gattino} is a \\textbf{hyper-composable} SVG visualization library for Julia built using the \\texttt{Toolips}  web-development framework's HTML templating (\\texttt{ToolipsSVG}). Usage centers around the \\texttt{Context},  which is provided to translate data into Scalable Vector Graphics and scale it onto a window. A  \\texttt{Context} is usually created via the \\texttt{context} function:\n",
       "\n",
       "\\begin{verbatim}\n",
       "mycon = context(200, 200) do con::Context\n",
       "    text!(con, 250, 250, \"hello world!\")\n",
       "    points!(con, [1, 2, 3, 4], [1, 2, 3, 4])\n",
       "end\n",
       "\\end{verbatim}\n",
       "\\texttt{Gattino}\n",
       "\n",
       "\\begin{itemize}\n",
       "\\item For more information on creating and editing visualizations, use \\texttt{?context}.\n",
       "\n",
       "\\end{itemize}\n",
       "\\subsubparagraph{names}\n",
       "\\begin{itemize}\n",
       "\\item \\textbf{colors} (not exported)\n",
       "\n",
       "\\end{itemize}\n",
       "\\begin{verbatim}\n",
       "randcolor\n",
       "make_gradient\n",
       "\\end{verbatim}\n",
       "\\begin{itemize}\n",
       "\\item \\textbf{visualizations} (exported)\n",
       "\n",
       "\\end{itemize}\n",
       "\\begin{verbatim}\n",
       "# plot   | context plotting equivalent\n",
       "scatter #| scatter_plot!\n",
       "line    #| line_plot!\n",
       "hist    #| hist_plot!\n",
       "\\end{verbatim}\n",
       "\\begin{itemize}\n",
       "\\item \\textbf{contexts} (exported)\n",
       "\n",
       "\\end{itemize}\n",
       "\\begin{verbatim}\n",
       "AbstractContext\n",
       "vcat(comp::AbstractContext, cons::AbstractContext ...)\n",
       "hcat(comp::AbstractContext, cons::AbstractContext ...)\n",
       "vcat(comp::Component{:div}, cons::AbstractContext ...)\n",
       "hcat(comp::Component{:div}, cons::AbstractContext ...)\n",
       "Context\n",
       "context\n",
       "layers\n",
       "draw!\n",
       "Group\n",
       "group\n",
       "group!\n",
       "style!(con::AbstractContext, s::String, spairs::Pair{String, String} ...)\n",
       "ToolipsServables.animate!(con::AbstractContext, layer::String, animation::ToolipsSVG.KeyFrames)\n",
       "merge!(c::AbstractContext, c2::AbstractContext)\n",
       "delete_layer!\n",
       "rename_layer!\n",
       "move_layer!\n",
       "set_shape!\n",
       "open_layer!\n",
       "set!\n",
       "set_gradient!\n",
       "style!(ecomp::Pair{Int64, <:ToolipsSVG.ToolipsServables.AbstractComponent}, vec::Vector{<:Number}, stylep::Pair{String, Int64} ...)\n",
       "compress!\n",
       "\\end{verbatim}\n",
       "\\begin{itemize}\n",
       "\\item \\textbf{context plotting} (not exported)\n",
       "\n",
       "\\end{itemize}\n",
       "\\begin{verbatim}\n",
       "text!\n",
       "line!\n",
       "gridlabels!\n",
       "grid!\n",
       "labeled_grid!\n",
       "points!\n",
       "axes!\n",
       "axislabels!\n",
       "bars!\n",
       "barlabels!\n",
       "v_bars!\n",
       "v_barlabels!\n",
       "legend!\n",
       "append_legend!\n",
       "make_legend_preview\n",
       "\\end{verbatim}\n"
      ],
      "text/markdown": [
       "Created in December, 2023 by [chifi - an open source software dynasty.](https://github.com/orgs/ChifiSource)\n",
       "\n",
       "  * This software is MIT-licensed.\n",
       "\n",
       "### Gattino\n",
       "\n",
       "`Gattino` is a **hyper-composable** SVG visualization library for Julia built using the `Toolips`  web-development framework's HTML templating (`ToolipsSVG`). Usage centers around the `Context`,  which is provided to translate data into Scalable Vector Graphics and scale it onto a window. A  `Context` is usually created via the `context` function:\n",
       "\n",
       "```julia\n",
       "mycon = context(200, 200) do con::Context\n",
       "    text!(con, 250, 250, \"hello world!\")\n",
       "    points!(con, [1, 2, 3, 4], [1, 2, 3, 4])\n",
       "end\n",
       "```\n",
       "\n",
       "`Gattino`\n",
       "\n",
       "  * For more information on creating and editing visualizations, use `?context`.\n",
       "\n",
       "###### names\n",
       "\n",
       "  * **colors** (not exported)\n",
       "\n",
       "```julia\n",
       "randcolor\n",
       "make_gradient\n",
       "```\n",
       "\n",
       "  * **visualizations** (exported)\n",
       "\n",
       "```julia\n",
       "# plot   | context plotting equivalent\n",
       "scatter #| scatter_plot!\n",
       "line    #| line_plot!\n",
       "hist    #| hist_plot!\n",
       "```\n",
       "\n",
       "  * **contexts** (exported)\n",
       "\n",
       "```julia\n",
       "AbstractContext\n",
       "vcat(comp::AbstractContext, cons::AbstractContext ...)\n",
       "hcat(comp::AbstractContext, cons::AbstractContext ...)\n",
       "vcat(comp::Component{:div}, cons::AbstractContext ...)\n",
       "hcat(comp::Component{:div}, cons::AbstractContext ...)\n",
       "Context\n",
       "context\n",
       "layers\n",
       "draw!\n",
       "Group\n",
       "group\n",
       "group!\n",
       "style!(con::AbstractContext, s::String, spairs::Pair{String, String} ...)\n",
       "ToolipsServables.animate!(con::AbstractContext, layer::String, animation::ToolipsSVG.KeyFrames)\n",
       "merge!(c::AbstractContext, c2::AbstractContext)\n",
       "delete_layer!\n",
       "rename_layer!\n",
       "move_layer!\n",
       "set_shape!\n",
       "open_layer!\n",
       "set!\n",
       "set_gradient!\n",
       "style!(ecomp::Pair{Int64, <:ToolipsSVG.ToolipsServables.AbstractComponent}, vec::Vector{<:Number}, stylep::Pair{String, Int64} ...)\n",
       "compress!\n",
       "```\n",
       "\n",
       "  * **context plotting** (not exported)\n",
       "\n",
       "```julia\n",
       "text!\n",
       "line!\n",
       "gridlabels!\n",
       "grid!\n",
       "labeled_grid!\n",
       "points!\n",
       "axes!\n",
       "axislabels!\n",
       "bars!\n",
       "barlabels!\n",
       "v_bars!\n",
       "v_barlabels!\n",
       "legend!\n",
       "append_legend!\n",
       "make_legend_preview\n",
       "```\n"
      ],
      "text/plain": [
       "  Created in December, 2023 by chifi - an open source software dynasty.\n",
       "  (https://github.com/orgs/ChifiSource)\n",
       "\n",
       "    •  This software is MIT-licensed.\n",
       "\n",
       "\u001b[1m  Gattino\u001b[22m\n",
       "\u001b[1m  –––––––\u001b[22m\n",
       "\n",
       "  \u001b[36mGattino\u001b[39m is a \u001b[1mhyper-composable\u001b[22m SVG visualization library for Julia built\n",
       "  using the \u001b[36mToolips\u001b[39m web-development framework's HTML templating (\u001b[36mToolipsSVG\u001b[39m).\n",
       "  Usage centers around the \u001b[36mContext\u001b[39m, which is provided to translate data into\n",
       "  Scalable Vector Graphics and scale it onto a window. A \u001b[36mContext\u001b[39m is usually\n",
       "  created via the \u001b[36mcontext\u001b[39m function:\n",
       "\n",
       "\u001b[36m  mycon = context(200, 200) do con::Context\u001b[39m\n",
       "\u001b[36m      text!(con, 250, 250, \"hello world!\")\u001b[39m\n",
       "\u001b[36m      points!(con, [1, 2, 3, 4], [1, 2, 3, 4])\u001b[39m\n",
       "\u001b[36m  end\u001b[39m\n",
       "\n",
       "  \u001b[36mGattino\u001b[39m\n",
       "\n",
       "    •  For more information on creating and editing visualizations, use\n",
       "       \u001b[36m?context\u001b[39m.\n",
       "\n",
       "\u001b[1m  names\u001b[22m\n",
       "\n",
       "    •  \u001b[1mcolors\u001b[22m (not exported)\n",
       "\n",
       "\u001b[36m  randcolor\u001b[39m\n",
       "\u001b[36m  make_gradient\u001b[39m\n",
       "\n",
       "    •  \u001b[1mvisualizations\u001b[22m (exported)\n",
       "\n",
       "\u001b[36m  # plot   | context plotting equivalent\u001b[39m\n",
       "\u001b[36m  scatter #| scatter_plot!\u001b[39m\n",
       "\u001b[36m  line    #| line_plot!\u001b[39m\n",
       "\u001b[36m  hist    #| hist_plot!\u001b[39m\n",
       "\n",
       "    •  \u001b[1mcontexts\u001b[22m (exported)\n",
       "\n",
       "\u001b[36m  AbstractContext\u001b[39m\n",
       "\u001b[36m  vcat(comp::AbstractContext, cons::AbstractContext ...)\u001b[39m\n",
       "\u001b[36m  hcat(comp::AbstractContext, cons::AbstractContext ...)\u001b[39m\n",
       "\u001b[36m  vcat(comp::Component{:div}, cons::AbstractContext ...)\u001b[39m\n",
       "\u001b[36m  hcat(comp::Component{:div}, cons::AbstractContext ...)\u001b[39m\n",
       "\u001b[36m  Context\u001b[39m\n",
       "\u001b[36m  context\u001b[39m\n",
       "\u001b[36m  layers\u001b[39m\n",
       "\u001b[36m  draw!\u001b[39m\n",
       "\u001b[36m  Group\u001b[39m\n",
       "\u001b[36m  group\u001b[39m\n",
       "\u001b[36m  group!\u001b[39m\n",
       "\u001b[36m  style!(con::AbstractContext, s::String, spairs::Pair{String, String} ...)\u001b[39m\n",
       "\u001b[36m  ToolipsServables.animate!(con::AbstractContext, layer::String, animation::ToolipsSVG.KeyFrames)\u001b[39m\n",
       "\u001b[36m  merge!(c::AbstractContext, c2::AbstractContext)\u001b[39m\n",
       "\u001b[36m  delete_layer!\u001b[39m\n",
       "\u001b[36m  rename_layer!\u001b[39m\n",
       "\u001b[36m  move_layer!\u001b[39m\n",
       "\u001b[36m  set_shape!\u001b[39m\n",
       "\u001b[36m  open_layer!\u001b[39m\n",
       "\u001b[36m  set!\u001b[39m\n",
       "\u001b[36m  set_gradient!\u001b[39m\n",
       "\u001b[36m  style!(ecomp::Pair{Int64, <:ToolipsSVG.ToolipsServables.AbstractComponent}, vec::Vector{<:Number}, stylep::Pair{String, Int64} ...)\u001b[39m\n",
       "\u001b[36m  compress!\u001b[39m\n",
       "\n",
       "    •  \u001b[1mcontext plotting\u001b[22m (not exported)\n",
       "\n",
       "\u001b[36m  text!\u001b[39m\n",
       "\u001b[36m  line!\u001b[39m\n",
       "\u001b[36m  gridlabels!\u001b[39m\n",
       "\u001b[36m  grid!\u001b[39m\n",
       "\u001b[36m  labeled_grid!\u001b[39m\n",
       "\u001b[36m  points!\u001b[39m\n",
       "\u001b[36m  axes!\u001b[39m\n",
       "\u001b[36m  axislabels!\u001b[39m\n",
       "\u001b[36m  bars!\u001b[39m\n",
       "\u001b[36m  barlabels!\u001b[39m\n",
       "\u001b[36m  v_bars!\u001b[39m\n",
       "\u001b[36m  v_barlabels!\u001b[39m\n",
       "\u001b[36m  legend!\u001b[39m\n",
       "\u001b[36m  append_legend!\u001b[39m\n",
       "\u001b[36m  make_legend_preview\u001b[39m"
      ]
     },
     "execution_count": 103,
     "metadata": {},
     "output_type": "execute_result"
    }
   ],
   "source": [
    "?Gattino"
   ]
  },
  {
   "cell_type": "code",
   "execution_count": 104,
   "id": "1d457a0f-09af-4982-a568-24f77fa39051",
   "metadata": {},
   "outputs": [
    {
     "data": {
      "text/html": [
       "\"<svg id='kjgxj' height=550 width=550><line id='rjtxs' x1=10.0 y1=50 x2=10.0 y2=250 style='fill:none;stroke:black;stroke-width:4;'></line><line id='dsrto' x1=10 y1=250.0 x2=410 y2=250.0 style='fill:none;stroke:black;stroke-width:4;'></line><text id='sjjir' x=10 y=-2150.0 style='fill:black;font-size:13pt;'>0</text><text id='jxdoa' x=10.0 y=240 style='fill:black;font-size:13pt;'>2000</text><line id='tthns' x1=93.33333333333334 y1=50 x2=93.33333333333334 y2=250 style='fill:none;stroke:black;stroke-width:4;'></line><line id='asirj' x1=10 y1=200.0 x2=410 y2=200.0 style='fill:none;stroke:black;stroke-width:4;'></line><text id='ndvii' x=10 y=-2200.0 style='fill:black;font-size:13pt;'>5000</text><text id='rjstk' x=93.33333333333334 y=240 style='fill:black;font-size:13pt;'>2005</text><line id='sbjij' x1=176.66666666666669 y1=50 x2=176.66666666666669 y2=250 style='fill:none;stroke:black;stroke-width:4;'></line><line id='vjjii' x1=10 y1=150.0 x2=410 y2=150.0 style='fill:none;stroke:black;stroke-width:4;'></line><text id='wjgrj' x=10 y=-2250.0 style='fill:black;font-size:13pt;'>10000</text><text id='tttsj' x=176.66666666666669 y=240 style='fill:black;font-size:13pt;'>2010</text><line id='ytttr' x1=260.0 y1=50 x2=260.0 y2=250 style='fill:none;stroke:black;stroke-width:4;'></line><line id='iwjyj' x1=10 y1=100.0 x2=410 y2=100.0 style='fill:none;stroke:black;stroke-width:4;'></line><text id='atkjj' x=10 y=-2300.0 style='fill:black;font-size:13pt;'>15000</text><text id='ijssr' x=260.0 y=240 style='fill:black;font-size:13pt;'>2015</text><polyline id='newline' points='10&#32;148,27&#32;167,43&#32;223,60&#32;165,77&#32;224,93&#32;204,110&#32;215,127&#32;200,143&#32;178,160&#32;210,177&#32;189,193&#32;205,210&#32;203,227&#32;206,243&#32;224,260&#32;199,277&#32;163,293&#32;205,310&#32;226,327&#32;219,343&#32;210,360&#32;220,377&#32;171,393&#32;172,410&#32;142' style='stroke:red;fill:none;'></polyline><g id='n_fires' height=550 width=550></g><line id='jyhjs' x1=10.0 y1=300 x2=10.0 y2=500 style='fill:none;stroke:black;stroke-width:4;'></line><line id='pysbj' x1=10 y1=500.0 x2=410 y2=500.0 style='fill:none;stroke:black;stroke-width:4;'></line><text id='shhjs' x=10 y=-1900.0 style='fill:black;font-size:13pt;'>0</text><text id='rhhib' x=10.0 y=490 style='fill:black;font-size:13pt;'>2000</text><line id='jstyj' x1=93.33333333333334 y1=300 x2=93.33333333333334 y2=500 style='fill:none;stroke:black;stroke-width:4;'></line><line id='vibhr' x1=10 y1=400.0 x2=410 y2=400.0 style='fill:none;stroke:black;stroke-width:4;'></line><text id='bajvs' x=10 y=-2000.0 style='fill:black;font-size:13pt;'>10000</text><text id='jjgbg' x=93.33333333333334 y=490 style='fill:black;font-size:13pt;'>2005</text><line id='skitj' x1=176.66666666666669 y1=300 x2=176.66666666666669 y2=500 style='fill:none;stroke:black;stroke-width:4;'></line><line id='jbgvs' x1=10 y1=350.0 x2=410 y2=350.0 style='fill:none;stroke:black;stroke-width:4;'></line><text id='jjihd' x=10 y=-2050.0 style='fill:black;font-size:13pt;'>15000</text><text id='ywiso' x=176.66666666666669 y=490 style='fill:black;font-size:13pt;'>2010</text><line id='tbyij' x1=260.0 y1=300 x2=260.0 y2=500 style='fill:none;stroke:black;stroke-width:4;'></line><line id='ksrvt' x1=10 y1=300.0 x2=410 y2=300.0 style='fill:none;stroke:black;stroke-width:4;'></line><text id='btrtk' x=10 y=-2100.0 style='fill:black;font-size:13pt;'>20000</text><text id='sjijp' x=260.0 y=490 style='fill:black;font-size:13pt;'>2015</text><polyline id='newline' points='10&#32;490,27&#32;498,43&#32;474,60&#32;489,77&#32;436,93&#32;489,110&#32;451,127&#32;450,143&#32;478,160&#32;488,177&#32;482,193&#32;440,210&#32;477,227&#32;498,243&#32;458,260&#32;466,277&#32;492,293&#32;457,310&#32;396,327&#32;477,343&#32;365,360&#32;392,377&#32;478,393&#32;493,410&#32;496' style='stroke:green;fill:none;'></polyline><g id='labels' height=550 width=550><text id='hrjij' x=350 y=30 style='font-weight:bold;font-size:13pt;fill:red;'>number of fires</text><text id='sojry' x=420 y=50 style='font-weight:bold;font-size:10pt;fill:darkred;'>15,000</text><text id='sbghk' x=420 y=250 style='font-weight:bold;font-size:10pt;fill:darkblue;'>0</text><text id='xjitd' x=350 y=280 style='font-weight:bold;font-size:13pt;fill:green;'>acres burned</text><text id='shjhs' x=420 y=310 style='font-weight:bold;font-size:10pt;fill:darkred;'>500</text><text id='sbwro' x=420 y=500 style='font-weight:bold;font-size:10pt;fill:darkgreen;'>0</text></g></svg>\""
      ]
     },
     "metadata": {},
     "output_type": "display_data"
    },
    {
     "data": {
      "text/html": [
       "\"<svg id='kjgxj' height=550 width=550><line id='rjtxs' x1=10.0 y1=50 x2=10.0 y2=250 style='fill:none;stroke:black;stroke-width:4;'></line><line id='dsrto' x1=10 y1=250.0 x2=410 y2=250.0 style='fill:none;stroke:black;stroke-width:4;'></line><text id='sjjir' x=10 y=-2150.0 style='fill:black;font-size:13pt;'>0</text><text id='jxdoa' x=10.0 y=240 style='fill:black;font-size:13pt;'>2000</text><line id='tthns' x1=93.33333333333334 y1=50 x2=93.33333333333334 y2=250 style='fill:none;stroke:black;stroke-width:4;'></line><line id='asirj' x1=10 y1=200.0 x2=410 y2=200.0 style='fill:none;stroke:black;stroke-width:4;'></line><text id='ndvii' x=10 y=-2200.0 style='fill:black;font-size:13pt;'>5000</text><text id='rjstk' x=93.33333333333334 y=240 style='fill:black;font-size:13pt;'>2005</text><line id='sbjij' x1=176.66666666666669 y1=50 x2=176.66666666666669 y2=250 style='fill:none;stroke:black;stroke-width:4;'></line><line id='vjjii' x1=10 y1=150.0 x2=410 y2=150.0 style='fill:none;stroke:black;stroke-width:4;'></line><text id='wjgrj' x=10 y=-2250.0 style='fill:black;font-size:13pt;'>10000</text><text id='tttsj' x=176.66666666666669 y=240 style='fill:black;font-size:13pt;'>2010</text><line id='ytttr' x1=260.0 y1=50 x2=260.0 y2=250 style='fill:none;stroke:black;stroke-width:4;'></line><line id='iwjyj' x1=10 y1=100.0 x2=410 y2=100.0 style='fill:none;stroke:black;stroke-width:4;'></line><text id='atkjj' x=10 y=-2300.0 style='fill:black;font-size:13pt;'>15000</text><text id='ijssr' x=260.0 y=240 style='fill:black;font-size:13pt;'>2015</text><polyline id='newline' points='10&#32;148,27&#32;167,43&#32;223,60&#32;165,77&#32;224,93&#32;204,110&#32;215,127&#32;200,143&#32;178,160&#32;210,177&#32;189,193&#32;205,210&#32;203,227&#32;206,243&#32;224,260&#32;199,277&#32;163,293&#32;205,310&#32;226,327&#32;219,343&#32;210,360&#32;220,377&#32;171,393&#32;172,410&#32;142' style='stroke:red;fill:none;'></polyline><g id='n_fires' height=550 width=550></g><line id='jyhjs' x1=10.0 y1=300 x2=10.0 y2=500 style='fill:none;stroke:black;stroke-width:4;'></line><line id='pysbj' x1=10 y1=500.0 x2=410 y2=500.0 style='fill:none;stroke:black;stroke-width:4;'></line><text id='shhjs' x=10 y=-1900.0 style='fill:black;font-size:13pt;'>0</text><text id='rhhib' x=10.0 y=490 style='fill:black;font-size:13pt;'>2000</text><line id='jstyj' x1=93.33333333333334 y1=300 x2=93.33333333333334 y2=500 style='fill:none;stroke:black;stroke-width:4;'></line><line id='vibhr' x1=10 y1=400.0 x2=410 y2=400.0 style='fill:none;stroke:black;stroke-width:4;'></line><text id='bajvs' x=10 y=-2000.0 style='fill:black;font-size:13pt;'>10000</text><text id='jjgbg' x=93.33333333333334 y=490 style='fill:black;font-size:13pt;'>2005</text><line id='skitj' x1=176.66666666666669 y1=300 x2=176.66666666666669 y2=500 style='fill:none;stroke:black;stroke-width:4;'></line><line id='jbgvs' x1=10 y1=350.0 x2=410 y2=350.0 style='fill:none;stroke:black;stroke-width:4;'></line><text id='jjihd' x=10 y=-2050.0 style='fill:black;font-size:13pt;'>15000</text><text id='ywiso' x=176.66666666666669 y=490 style='fill:black;font-size:13pt;'>2010</text><line id='tbyij' x1=260.0 y1=300 x2=260.0 y2=500 style='fill:none;stroke:black;stroke-width:4;'></line><line id='ksrvt' x1=10 y1=300.0 x2=410 y2=300.0 style='fill:none;stroke:black;stroke-width:4;'></line><text id='btrtk' x=10 y=-2100.0 style='fill:black;font-size:13pt;'>20000</text><text id='sjijp' x=260.0 y=490 style='fill:black;font-size:13pt;'>2015</text><polyline id='newline' points='10&#32;490,27&#32;498,43&#32;474,60&#32;489,77&#32;436,93&#32;489,110&#32;451,127&#32;450,143&#32;478,160&#32;488,177&#32;482,193&#32;440,210&#32;477,227&#32;498,243&#32;458,260&#32;466,277&#32;492,293&#32;457,310&#32;396,327&#32;477,343&#32;365,360&#32;392,377&#32;478,393&#32;493,410&#32;496' style='stroke:green;fill:none;'></polyline><g id='labels' height=550 width=550><text id='hrjij' x=350 y=30 style='font-weight:bold;font-size:13pt;fill:red;'>number of fires</text><text id='sojry' x=420 y=50 style='font-weight:bold;font-size:10pt;fill:darkred;'>15,000</text><text id='sbghk' x=420 y=250 style='font-weight:bold;font-size:10pt;fill:darkblue;'>0</text><text id='xjitd' x=350 y=280 style='font-weight:bold;font-size:13pt;fill:green;'>acres burned</text><text id='shjhs' x=420 y=310 style='font-weight:bold;font-size:10pt;fill:darkred;'>500</text><text id='sbwro' x=420 y=500 style='font-weight:bold;font-size:10pt;fill:darkgreen;'>0</text></g></svg>\""
      ],
      "text/plain": []
     },
     "execution_count": 104,
     "metadata": {},
     "output_type": "execute_result"
    }
   ],
   "source": [
    "x = df1[!, \"U.S. Wildfires October\"]\n",
    "y = df1[!, \"no. fires\"]\n",
    "linevis = context(550, 550) do con::Context\n",
    "    ymax = 20000\n",
    "    ymin = 0\n",
    "    group!(con, \"n_fires\") do group1::Group\n",
    "        # n _fires\n",
    "    group(con, 400, 200, 10 => 50) do g::Group\n",
    "        Gattino.labeled_grid!(g, x, Array(0:20000), [2000, 2005, 2010, 2015, 2024], [0, 5000, 10000, 15000])\n",
    "        Gattino.line!(g, x, y, ymax = 15000, ymin = 0, \"stroke\" => \"red\", \"fill\" => \"none\")\n",
    "        Gattino.gridlabels!(g, x, y, 4, \"fill\" => \"black\", \"stroke\" => \"black\", \"font-size\" => 20pt, ymax = ymax, ymin = ymin)\n",
    "    end\n",
    "    end\n",
    "    \n",
    "    global y = df1[!, \"acres per fire\"]\n",
    "    group(con, 400, 200, 10 => 300) do g::Group\n",
    "        Gattino.labeled_grid!(g, x, Array(0:20000), [2000, 2005, 2010, 2015, 2024], [0, 10000, 15000, 20000])\n",
    "        Gattino.line!(g, x, y, ymax = 500, ymin = 0, \"stroke\" => \"green\", \"fill\" => \"none\")\n",
    "        Gattino.gridlabels!(g, x, y, 4, \"fill\" => \"black\", \"stroke\" => \"black\", \"font-size\" => 20pt, ymax = ymax, ymin = ymin)\n",
    "    end\n",
    "    group!(con, \"labels\") do g\n",
    "        Gattino.text!(g, 350, 30, \"number of fires\", \"font-weight\" => \"bold\", \"font-size\" => 13pt, \"fill\" => \"red\")\n",
    "        Gattino.text!(g, 420, 50, \"15,000\", \"font-weight\" => \"bold\", \"font-size\" => 10pt, \"fill\" => \"darkred\")\n",
    "        Gattino.text!(g, 420, 250, \"0\", \"font-weight\" => \"bold\", \"font-size\" => 10pt, \"fill\" => \"darkblue\")\n",
    "        Gattino.text!(g, 350, 280, \"acres burned\", \"font-weight\" => \"bold\", \"font-size\" => 13pt, \"fill\" => \"green\")\n",
    "                Gattino.text!(g, 420, 310, \"500\", \"font-weight\" => \"bold\", \"font-size\" => 10pt, \"fill\" => \"darkred\")\n",
    "        Gattino.text!(g, 420, 500, \"0\", \"font-weight\" => \"bold\", \"font-size\" => 10pt, \"fill\" => \"darkgreen\")\n",
    "    end\n",
    "end"
   ]
  },
  {
   "cell_type": "code",
   "execution_count": 119,
   "id": "83815ca6-4949-484e-bc5e-2aedb1598baf",
   "metadata": {},
   "outputs": [
    {
     "data": {
      "text/html": [
       "<div><div style = \"float: left;\"><span>52×3 DataFrame</span></div><div style = \"float: right;\"><span style = \"font-style: italic;\">27 rows omitted</span></div><div style = \"clear: both;\"></div></div><div class = \"data-frame\" style = \"overflow-x: scroll;\"><table class = \"data-frame\" style = \"margin-bottom: 6px;\"><thead><tr class = \"header\"><th class = \"rowNumber\" style = \"font-weight: bold; text-align: right;\">Row</th><th style = \"text-align: left;\">state</th><th style = \"text-align: left;\">no fires</th><th style = \"text-align: left;\">no acres</th></tr><tr class = \"subheader headerLastRow\"><th class = \"rowNumber\" style = \"font-weight: bold; text-align: right;\"></th><th title = \"String\" style = \"text-align: left;\">String</th><th title = \"Int64\" style = \"text-align: left;\">Int64</th><th title = \"Int64\" style = \"text-align: left;\">Int64</th></tr></thead><tbody><tr><td class = \"rowNumber\" style = \"font-weight: bold; text-align: right;\">1</td><td style = \"text-align: left;\">Texas</td><td style = \"text-align: right;\">12571</td><td style = \"text-align: right;\">671800</td></tr><tr><td class = \"rowNumber\" style = \"font-weight: bold; text-align: right;\">2</td><td style = \"text-align: left;\">California</td><td style = \"text-align: right;\">7884</td><td style = \"text-align: right;\">309287</td></tr><tr><td class = \"rowNumber\" style = \"font-weight: bold; text-align: right;\">3</td><td style = \"text-align: left;\">North Carolina</td><td style = \"text-align: right;\">6222</td><td style = \"text-align: right;\">28851</td></tr><tr><td class = \"rowNumber\" style = \"font-weight: bold; text-align: right;\">4</td><td style = \"text-align: left;\">Georgia</td><td style = \"text-align: right;\">3621</td><td style = \"text-align: right;\">25017</td></tr><tr><td class = \"rowNumber\" style = \"font-weight: bold; text-align: right;\">5</td><td style = \"text-align: left;\">Oklahoma</td><td style = \"text-align: right;\">2811</td><td style = \"text-align: right;\">385133</td></tr><tr><td class = \"rowNumber\" style = \"font-weight: bold; text-align: right;\">6</td><td style = \"text-align: left;\">Florida</td><td style = \"text-align: right;\">2784</td><td style = \"text-align: right;\">164774</td></tr><tr><td class = \"rowNumber\" style = \"font-weight: bold; text-align: right;\">7</td><td style = \"text-align: left;\">Alabama</td><td style = \"text-align: right;\">2710</td><td style = \"text-align: right;\">40975</td></tr><tr><td class = \"rowNumber\" style = \"font-weight: bold; text-align: right;\">8</td><td style = \"text-align: left;\">Oregon</td><td style = \"text-align: right;\">2117</td><td style = \"text-align: right;\">456082</td></tr><tr><td class = \"rowNumber\" style = \"font-weight: bold; text-align: right;\">9</td><td style = \"text-align: left;\">Montana</td><td style = \"text-align: right;\">2087</td><td style = \"text-align: right;\">137509</td></tr><tr><td class = \"rowNumber\" style = \"font-weight: bold; text-align: right;\">10</td><td style = \"text-align: left;\">Mississippi</td><td style = \"text-align: right;\">1980</td><td style = \"text-align: right;\">53170</td></tr><tr><td class = \"rowNumber\" style = \"font-weight: bold; text-align: right;\">11</td><td style = \"text-align: left;\">Arkansas</td><td style = \"text-align: right;\">1903</td><td style = \"text-align: right;\">39028</td></tr><tr><td class = \"rowNumber\" style = \"font-weight: bold; text-align: right;\">12</td><td style = \"text-align: left;\">Washington</td><td style = \"text-align: right;\">1492</td><td style = \"text-align: right;\">173659</td></tr><tr><td class = \"rowNumber\" style = \"font-weight: bold; text-align: right;\">13</td><td style = \"text-align: left;\">Arizona</td><td style = \"text-align: right;\">1432</td><td style = \"text-align: right;\">124165</td></tr><tr><td style = \"text-align: right;\">&vellip;</td><td style = \"text-align: right;\">&vellip;</td><td style = \"text-align: right;\">&vellip;</td><td style = \"text-align: right;\">&vellip;</td></tr><tr><td class = \"rowNumber\" style = \"font-weight: bold; text-align: right;\">41</td><td style = \"text-align: left;\">New Hampshire</td><td style = \"text-align: right;\">103</td><td style = \"text-align: right;\">381</td></tr><tr><td class = \"rowNumber\" style = \"font-weight: bold; text-align: right;\">42</td><td style = \"text-align: left;\">Vermont</td><td style = \"text-align: right;\">86</td><td style = \"text-align: right;\">83</td></tr><tr><td class = \"rowNumber\" style = \"font-weight: bold; text-align: right;\">43</td><td style = \"text-align: left;\">Rhode Island</td><td style = \"text-align: right;\">76</td><td style = \"text-align: right;\">44</td></tr><tr><td class = \"rowNumber\" style = \"font-weight: bold; text-align: right;\">44</td><td style = \"text-align: left;\">Kansas</td><td style = \"text-align: right;\">67</td><td style = \"text-align: right;\">84015</td></tr><tr><td class = \"rowNumber\" style = \"font-weight: bold; text-align: right;\">45</td><td style = \"text-align: left;\">Indiana</td><td style = \"text-align: right;\">49</td><td style = \"text-align: right;\">1643</td></tr><tr><td class = \"rowNumber\" style = \"font-weight: bold; text-align: right;\">46</td><td style = \"text-align: left;\">Illinois</td><td style = \"text-align: right;\">32</td><td style = \"text-align: right;\">298</td></tr><tr><td class = \"rowNumber\" style = \"font-weight: bold; text-align: right;\">47</td><td style = \"text-align: left;\">South Carolina</td><td style = \"text-align: right;\">22</td><td style = \"text-align: right;\">677</td></tr><tr><td class = \"rowNumber\" style = \"font-weight: bold; text-align: right;\">48</td><td style = \"text-align: left;\">Delaware</td><td style = \"text-align: right;\">7</td><td style = \"text-align: right;\">79</td></tr><tr><td class = \"rowNumber\" style = \"font-weight: bold; text-align: right;\">49</td><td style = \"text-align: left;\">Iowa</td><td style = \"text-align: right;\">7</td><td style = \"text-align: right;\">288</td></tr><tr><td class = \"rowNumber\" style = \"font-weight: bold; text-align: right;\">50</td><td style = \"text-align: left;\">Hawaii</td><td style = \"text-align: right;\">5</td><td style = \"text-align: right;\">25053</td></tr><tr><td class = \"rowNumber\" style = \"font-weight: bold; text-align: right;\">51</td><td style = \"text-align: left;\">District of Columbia</td><td style = \"text-align: right;\">0</td><td style = \"text-align: right;\">0</td></tr><tr><td class = \"rowNumber\" style = \"font-weight: bold; text-align: right;\">52</td><td style = \"text-align: left;\">Puerto Rico</td><td style = \"text-align: right;\">0</td><td style = \"text-align: right;\">0</td></tr></tbody></table></div>"
      ],
      "text/latex": [
       "\\begin{tabular}{r|ccc}\n",
       "\t& state & no fires & no acres\\\\\n",
       "\t\\hline\n",
       "\t& String & Int64 & Int64\\\\\n",
       "\t\\hline\n",
       "\t1 & Texas & 12571 & 671800 \\\\\n",
       "\t2 & California & 7884 & 309287 \\\\\n",
       "\t3 & North Carolina & 6222 & 28851 \\\\\n",
       "\t4 & Georgia & 3621 & 25017 \\\\\n",
       "\t5 & Oklahoma & 2811 & 385133 \\\\\n",
       "\t6 & Florida & 2784 & 164774 \\\\\n",
       "\t7 & Alabama & 2710 & 40975 \\\\\n",
       "\t8 & Oregon & 2117 & 456082 \\\\\n",
       "\t9 & Montana & 2087 & 137509 \\\\\n",
       "\t10 & Mississippi & 1980 & 53170 \\\\\n",
       "\t11 & Arkansas & 1903 & 39028 \\\\\n",
       "\t12 & Washington & 1492 & 173659 \\\\\n",
       "\t13 & Arizona & 1432 & 124165 \\\\\n",
       "\t14 & Kentucky & 1280 & 59199 \\\\\n",
       "\t15 & Louisiana & 1259 & 24475 \\\\\n",
       "\t16 & Tennessee & 1225 & 15059 \\\\\n",
       "\t17 & Massachusetts & 1192 & 1756 \\\\\n",
       "\t18 & New Jersey & 1165 & 15532 \\\\\n",
       "\t19 & Idaho & 1088 & 436733 \\\\\n",
       "\t20 & Pennsylvania & 951 & 2588 \\\\\n",
       "\t21 & Utah & 945 & 27245 \\\\\n",
       "\t22 & Wisconsin & 923 & 881 \\\\\n",
       "\t23 & West Virginia & 893 & 20275 \\\\\n",
       "\t24 & Colorado & 835 & 45732 \\\\\n",
       "\t25 & New Mexico & 748 & 859906 \\\\\n",
       "\t26 & Maine & 730 & 425 \\\\\n",
       "\t27 & Ohio & 724 & 3063 \\\\\n",
       "\t28 & Minnesota & 713 & 3715 \\\\\n",
       "\t29 & Alaska & 595 & 3110976 \\\\\n",
       "\t30 & Nebraska & 568 & 76534 \\\\\n",
       "\t$\\dots$ & $\\dots$ & $\\dots$ & $\\dots$ \\\\\n",
       "\\end{tabular}\n"
      ],
      "text/plain": [
       "\u001b[1m52×3 DataFrame\u001b[0m\n",
       "\u001b[1m Row \u001b[0m│\u001b[1m state                \u001b[0m\u001b[1m no fires \u001b[0m\u001b[1m no acres \u001b[0m\n",
       "     │\u001b[90m String               \u001b[0m\u001b[90m Int64    \u001b[0m\u001b[90m Int64    \u001b[0m\n",
       "─────┼──────────────────────────────────────────\n",
       "   1 │ Texas                    12571    671800\n",
       "   2 │ California                7884    309287\n",
       "   3 │ North Carolina            6222     28851\n",
       "   4 │ Georgia                   3621     25017\n",
       "   5 │ Oklahoma                  2811    385133\n",
       "   6 │ Florida                   2784    164774\n",
       "   7 │ Alabama                   2710     40975\n",
       "   8 │ Oregon                    2117    456082\n",
       "   9 │ Montana                   2087    137509\n",
       "  10 │ Mississippi               1980     53170\n",
       "  11 │ Arkansas                  1903     39028\n",
       "  ⋮  │          ⋮               ⋮         ⋮\n",
       "  43 │ Rhode Island                76        44\n",
       "  44 │ Kansas                      67     84015\n",
       "  45 │ Indiana                     49      1643\n",
       "  46 │ Illinois                    32       298\n",
       "  47 │ South Carolina              22       677\n",
       "  48 │ Delaware                     7        79\n",
       "  49 │ Iowa                         7       288\n",
       "  50 │ Hawaii                       5     25053\n",
       "  51 │ District of Columbia         0         0\n",
       "  52 │ Puerto Rico                  0         0\n",
       "\u001b[36m                                 31 rows omitted\u001b[0m"
      ]
     },
     "execution_count": 119,
     "metadata": {},
     "output_type": "execute_result"
    }
   ],
   "source": [
    "sorted_cop = sort(df2, [\"no fires\"], rev = true)"
   ]
  },
  {
   "cell_type": "code",
   "execution_count": 135,
   "id": "600bfacb-d977-49e2-83e6-98b14db4e076",
   "metadata": {},
   "outputs": [
    {
     "data": {
      "text/html": [
       "\"<svg id='kvhro' height=500 width=750><text id='hhjjj' x=262 y=40 style='fill:black;font-size:15pt;'>5 states with most wildfires</text><g id='title' height=500 width=750></g><g id='axes' height=375 width=562><line id='jrbry' x1=90 y1=435 x2=652 y2=435 style='fill:none;stroke:black;stroke-width:4;'></line><line id='srktr' x1=90 y1=60 x2=90 y2=435 style='fill:none;stroke:black;stroke-width:4;'></line></g><g id='grid' height=375 width=562><line id='rbjis' x1=91 y1=60 x2=91 y2=435 style='fill:none;stroke:lightblue;stroke-width:1;opacity:80%;'></line><line id='hijov' x1=90 y1=61 x2=652 y2=61 style='fill:none;stroke:lightblue;stroke-width:1;opacity:80%;'></line><line id='kthhj' x1=204 y1=60 x2=204 y2=435 style='fill:none;stroke:lightblue;stroke-width:1;opacity:80%;'></line><line id='rasjn' x1=90 y1=136 x2=652 y2=136 style='fill:none;stroke:lightblue;stroke-width:1;opacity:80%;'></line><line id='jibiy' x1=317 y1=60 x2=317 y2=435 style='fill:none;stroke:lightblue;stroke-width:1;opacity:80%;'></line><line id='rejdy' x1=90 y1=211 x2=652 y2=211 style='fill:none;stroke:lightblue;stroke-width:1;opacity:80%;'></line><line id='irtsj' x1=430 y1=60 x2=430 y2=435 style='fill:none;stroke:lightblue;stroke-width:1;opacity:80%;'></line><line id='phrtk' x1=90 y1=286 x2=652 y2=286 style='fill:none;stroke:lightblue;stroke-width:1;opacity:80%;'></line><line id='tssrk' x1=543 y1=60 x2=543 y2=435 style='fill:none;stroke:lightblue;stroke-width:1;opacity:80%;'></line><line id='gshbt' x1=90 y1=361 x2=652 y2=361 style='fill:none;stroke:lightblue;stroke-width:1;opacity:80%;'></line></g><g id='bars' height=375 width=562><rect id='wrhhb' style='fill:none;stroke:black;stroke-width:4;fill:#33991A;' x=90 y=60 height=375 width=112></rect><rect id='wkgvo' style='fill:none;stroke:black;stroke-width:4;fill:#B366CC;' x=202 y=240 height=195 width=112></rect><rect id='ivjgg' style='fill:none;stroke:black;stroke-width:4;fill:#4D8000;' x=314 y=304 height=131 width=112></rect><rect id='jyohh' style='fill:none;stroke:black;stroke-width:4;fill:#999933;' x=426 y=404 height=31 width=112></rect><rect id='rvrsa' style='fill:none;stroke:black;stroke-width:4;fill:#CCCC00;' x=538 y=435 height=0 width=112></rect></g><g id='labels' height=375 width=562><text id='katjw' x=108 y=300 style='fill:black;font-size:11pt;'>Texas</text><text id='xbkrj' x=221 y=300 style='fill:black;font-size:11pt;'>California</text><text id='srttr' x=334 y=300 style='fill:black;font-size:11pt;'>North Carolina</text><text id='skips' x=447 y=300 style='fill:black;font-size:11pt;'>Georgia</text><text id='jjijh' x=560 y=300 style='fill:black;font-size:11pt;'>Oklahoma</text></g><g id='axislabels' height=375 width=562></g></svg>\""
      ]
     },
     "metadata": {},
     "output_type": "display_data"
    },
    {
     "data": {
      "text/html": [
       "\"<svg id='kvhro' height=500 width=750><text id='hhjjj' x=262 y=40 style='fill:black;font-size:15pt;'>5 states with most wildfires</text><g id='title' height=500 width=750></g><g id='axes' height=375 width=562><line id='jrbry' x1=90 y1=435 x2=652 y2=435 style='fill:none;stroke:black;stroke-width:4;'></line><line id='srktr' x1=90 y1=60 x2=90 y2=435 style='fill:none;stroke:black;stroke-width:4;'></line></g><g id='grid' height=375 width=562><line id='rbjis' x1=91 y1=60 x2=91 y2=435 style='fill:none;stroke:lightblue;stroke-width:1;opacity:80%;'></line><line id='hijov' x1=90 y1=61 x2=652 y2=61 style='fill:none;stroke:lightblue;stroke-width:1;opacity:80%;'></line><line id='kthhj' x1=204 y1=60 x2=204 y2=435 style='fill:none;stroke:lightblue;stroke-width:1;opacity:80%;'></line><line id='rasjn' x1=90 y1=136 x2=652 y2=136 style='fill:none;stroke:lightblue;stroke-width:1;opacity:80%;'></line><line id='jibiy' x1=317 y1=60 x2=317 y2=435 style='fill:none;stroke:lightblue;stroke-width:1;opacity:80%;'></line><line id='rejdy' x1=90 y1=211 x2=652 y2=211 style='fill:none;stroke:lightblue;stroke-width:1;opacity:80%;'></line><line id='irtsj' x1=430 y1=60 x2=430 y2=435 style='fill:none;stroke:lightblue;stroke-width:1;opacity:80%;'></line><line id='phrtk' x1=90 y1=286 x2=652 y2=286 style='fill:none;stroke:lightblue;stroke-width:1;opacity:80%;'></line><line id='tssrk' x1=543 y1=60 x2=543 y2=435 style='fill:none;stroke:lightblue;stroke-width:1;opacity:80%;'></line><line id='gshbt' x1=90 y1=361 x2=652 y2=361 style='fill:none;stroke:lightblue;stroke-width:1;opacity:80%;'></line></g><g id='bars' height=375 width=562><rect id='wrhhb' style='fill:none;stroke:black;stroke-width:4;fill:#33991A;' x=90 y=60 height=375 width=112></rect><rect id='wkgvo' style='fill:none;stroke:black;stroke-width:4;fill:#B366CC;' x=202 y=240 height=195 width=112></rect><rect id='ivjgg' style='fill:none;stroke:black;stroke-width:4;fill:#4D8000;' x=314 y=304 height=131 width=112></rect><rect id='jyohh' style='fill:none;stroke:black;stroke-width:4;fill:#999933;' x=426 y=404 height=31 width=112></rect><rect id='rvrsa' style='fill:none;stroke:black;stroke-width:4;fill:#CCCC00;' x=538 y=435 height=0 width=112></rect></g><g id='labels' height=375 width=562><text id='katjw' x=108 y=300 style='fill:black;font-size:11pt;'>Texas</text><text id='xbkrj' x=221 y=300 style='fill:black;font-size:11pt;'>California</text><text id='srttr' x=334 y=300 style='fill:black;font-size:11pt;'>North Carolina</text><text id='skips' x=447 y=300 style='fill:black;font-size:11pt;'>Georgia</text><text id='jjijh' x=560 y=300 style='fill:black;font-size:11pt;'>Oklahoma</text></g><g id='axislabels' height=375 width=562></g></svg>\""
      ],
      "text/plain": []
     },
     "execution_count": 135,
     "metadata": {},
     "output_type": "execute_result"
    }
   ],
   "source": [
    "sev_most = Gattino.hist(sorted_cop[!, \"state\"][1:5], sorted_cop[!, \"no fires\"][1:5], width = 750, title = \"5 states with most wildfires\")"
   ]
  },
  {
   "cell_type": "code",
   "execution_count": 140,
   "id": "e0763fec-24f5-429a-8ca8-a15dd80107d0",
   "metadata": {},
   "outputs": [
    {
     "data": {
      "text/plain": [
       "5-element Vector{ToolipsServables.Servable}:\n",
       " Component{:rect}(\"wrhhb\", Dict{Symbol, Any}(:width => 112, :extras => ToolipsServables.AbstractComponent[], :style => \"fill:none;stroke:black;stroke-width:4;fill:#33991A;\", :children => ToolipsServables.AbstractComponent[], :y => 60, :height => 375, :text => \"\", :x => 90), \"rect\")\n",
       " Component{:rect}(\"wkgvo\", Dict{Symbol, Any}(:width => 112, :extras => ToolipsServables.AbstractComponent[], :style => \"fill:none;stroke:black;stroke-width:4;fill:#B366CC;\", :children => ToolipsServables.AbstractComponent[], :y => 240, :height => 195, :text => \"\", :x => 202), \"rect\")\n",
       " Component{:rect}(\"ivjgg\", Dict{Symbol, Any}(:width => 112, :extras => ToolipsServables.AbstractComponent[], :style => \"fill:none;stroke:black;stroke-width:4;fill:#4D8000;\", :children => ToolipsServables.AbstractComponent[], :y => 304, :height => 131, :text => \"\", :x => 314), \"rect\")\n",
       " Component{:rect}(\"jyohh\", Dict{Symbol, Any}(:width => 112, :extras => ToolipsServables.AbstractComponent[], :style => \"fill:none;stroke:black;stroke-width:4;fill:#999933;\", :children => ToolipsServables.AbstractComponent[], :y => 404, :height => 31, :text => \"\", :x => 426), \"rect\")\n",
       " Component{:rect}(\"rvrsa\", Dict{Symbol, Any}(:width => 112, :extras => ToolipsServables.AbstractComponent[], :style => \"fill:none;stroke:black;stroke-width:4;fill:#CCCC00;\", :children => ToolipsServables.AbstractComponent[], :y => 435, :height => 0, :text => \"\", :x => 538), \"rect\")"
      ]
     },
     "execution_count": 140,
     "metadata": {},
     "output_type": "execute_result"
    }
   ],
   "source": [
    "top_fives = Dict{String, Int64}()\n",
    "for x in 1:5\n",
    "    push!(top_fives, sorted_cop[!, \"state\"][x] => sorted_cop[!, \"no fires\"][x])\n",
    "end"
   ]
  },
  {
   "cell_type": "code",
   "execution_count": 159,
   "id": "8da87d46-a524-4fed-a6fe-a27f19136c3a",
   "metadata": {},
   "outputs": [
    {
     "data": {
      "text/html": [
       "<div><div style = \"float: left;\"><span>52×3 DataFrame</span></div><div style = \"float: right;\"><span style = \"font-style: italic;\">27 rows omitted</span></div><div style = \"clear: both;\"></div></div><div class = \"data-frame\" style = \"overflow-x: scroll;\"><table class = \"data-frame\" style = \"margin-bottom: 6px;\"><thead><tr class = \"header\"><th class = \"rowNumber\" style = \"font-weight: bold; text-align: right;\">Row</th><th style = \"text-align: left;\">state</th><th style = \"text-align: left;\">no fires</th><th style = \"text-align: left;\">no acres</th></tr><tr class = \"subheader headerLastRow\"><th class = \"rowNumber\" style = \"font-weight: bold; text-align: right;\"></th><th title = \"String\" style = \"text-align: left;\">String</th><th title = \"Int64\" style = \"text-align: left;\">Int64</th><th title = \"Int64\" style = \"text-align: left;\">Int64</th></tr></thead><tbody><tr><td class = \"rowNumber\" style = \"font-weight: bold; text-align: right;\">1</td><td style = \"text-align: left;\">Alabama</td><td style = \"text-align: right;\">2710</td><td style = \"text-align: right;\">40975</td></tr><tr><td class = \"rowNumber\" style = \"font-weight: bold; text-align: right;\">2</td><td style = \"text-align: left;\">Alaska</td><td style = \"text-align: right;\">595</td><td style = \"text-align: right;\">3110976</td></tr><tr><td class = \"rowNumber\" style = \"font-weight: bold; text-align: right;\">3</td><td style = \"text-align: left;\">Arizona</td><td style = \"text-align: right;\">1432</td><td style = \"text-align: right;\">124165</td></tr><tr><td class = \"rowNumber\" style = \"font-weight: bold; text-align: right;\">4</td><td style = \"text-align: left;\">Arkansas</td><td style = \"text-align: right;\">1903</td><td style = \"text-align: right;\">39028</td></tr><tr><td class = \"rowNumber\" style = \"font-weight: bold; text-align: right;\">5</td><td style = \"text-align: left;\">California</td><td style = \"text-align: right;\">7884</td><td style = \"text-align: right;\">309287</td></tr><tr><td class = \"rowNumber\" style = \"font-weight: bold; text-align: right;\">6</td><td style = \"text-align: left;\">Colorado</td><td style = \"text-align: right;\">835</td><td style = \"text-align: right;\">45732</td></tr><tr><td class = \"rowNumber\" style = \"font-weight: bold; text-align: right;\">7</td><td style = \"text-align: left;\">Connecticut</td><td style = \"text-align: right;\">150</td><td style = \"text-align: right;\">347</td></tr><tr><td class = \"rowNumber\" style = \"font-weight: bold; text-align: right;\">8</td><td style = \"text-align: left;\">Delaware</td><td style = \"text-align: right;\">7</td><td style = \"text-align: right;\">79</td></tr><tr><td class = \"rowNumber\" style = \"font-weight: bold; text-align: right;\">9</td><td style = \"text-align: left;\">District of Columbia</td><td style = \"text-align: right;\">0</td><td style = \"text-align: right;\">0</td></tr><tr><td class = \"rowNumber\" style = \"font-weight: bold; text-align: right;\">10</td><td style = \"text-align: left;\">Florida</td><td style = \"text-align: right;\">2784</td><td style = \"text-align: right;\">164774</td></tr><tr><td class = \"rowNumber\" style = \"font-weight: bold; text-align: right;\">11</td><td style = \"text-align: left;\">Georgia</td><td style = \"text-align: right;\">3621</td><td style = \"text-align: right;\">25017</td></tr><tr><td class = \"rowNumber\" style = \"font-weight: bold; text-align: right;\">12</td><td style = \"text-align: left;\">Hawaii</td><td style = \"text-align: right;\">5</td><td style = \"text-align: right;\">25053</td></tr><tr><td class = \"rowNumber\" style = \"font-weight: bold; text-align: right;\">13</td><td style = \"text-align: left;\">Idaho</td><td style = \"text-align: right;\">1088</td><td style = \"text-align: right;\">436733</td></tr><tr><td style = \"text-align: right;\">&vellip;</td><td style = \"text-align: right;\">&vellip;</td><td style = \"text-align: right;\">&vellip;</td><td style = \"text-align: right;\">&vellip;</td></tr><tr><td class = \"rowNumber\" style = \"font-weight: bold; text-align: right;\">41</td><td style = \"text-align: left;\">Rhode Island</td><td style = \"text-align: right;\">76</td><td style = \"text-align: right;\">44</td></tr><tr><td class = \"rowNumber\" style = \"font-weight: bold; text-align: right;\">42</td><td style = \"text-align: left;\">South Carolina</td><td style = \"text-align: right;\">22</td><td style = \"text-align: right;\">677</td></tr><tr><td class = \"rowNumber\" style = \"font-weight: bold; text-align: right;\">43</td><td style = \"text-align: left;\">South Dakota</td><td style = \"text-align: right;\">527</td><td style = \"text-align: right;\">42148</td></tr><tr><td class = \"rowNumber\" style = \"font-weight: bold; text-align: right;\">44</td><td style = \"text-align: left;\">Tennessee</td><td style = \"text-align: right;\">1225</td><td style = \"text-align: right;\">15059</td></tr><tr><td class = \"rowNumber\" style = \"font-weight: bold; text-align: right;\">45</td><td style = \"text-align: left;\">Texas</td><td style = \"text-align: right;\">12571</td><td style = \"text-align: right;\">671800</td></tr><tr><td class = \"rowNumber\" style = \"font-weight: bold; text-align: right;\">46</td><td style = \"text-align: left;\">Utah</td><td style = \"text-align: right;\">945</td><td style = \"text-align: right;\">27245</td></tr><tr><td class = \"rowNumber\" style = \"font-weight: bold; text-align: right;\">47</td><td style = \"text-align: left;\">Vermont</td><td style = \"text-align: right;\">86</td><td style = \"text-align: right;\">83</td></tr><tr><td class = \"rowNumber\" style = \"font-weight: bold; text-align: right;\">48</td><td style = \"text-align: left;\">Virginia</td><td style = \"text-align: right;\">558</td><td style = \"text-align: right;\">9956</td></tr><tr><td class = \"rowNumber\" style = \"font-weight: bold; text-align: right;\">49</td><td style = \"text-align: left;\">Washington</td><td style = \"text-align: right;\">1492</td><td style = \"text-align: right;\">173659</td></tr><tr><td class = \"rowNumber\" style = \"font-weight: bold; text-align: right;\">50</td><td style = \"text-align: left;\">West Virginia</td><td style = \"text-align: right;\">893</td><td style = \"text-align: right;\">20275</td></tr><tr><td class = \"rowNumber\" style = \"font-weight: bold; text-align: right;\">51</td><td style = \"text-align: left;\">Wisconsin</td><td style = \"text-align: right;\">923</td><td style = \"text-align: right;\">881</td></tr><tr><td class = \"rowNumber\" style = \"font-weight: bold; text-align: right;\">52</td><td style = \"text-align: left;\">Wyoming</td><td style = \"text-align: right;\">443</td><td style = \"text-align: right;\">25766</td></tr></tbody></table></div>"
      ],
      "text/latex": [
       "\\begin{tabular}{r|ccc}\n",
       "\t& state & no fires & no acres\\\\\n",
       "\t\\hline\n",
       "\t& String & Int64 & Int64\\\\\n",
       "\t\\hline\n",
       "\t1 & Alabama & 2710 & 40975 \\\\\n",
       "\t2 & Alaska & 595 & 3110976 \\\\\n",
       "\t3 & Arizona & 1432 & 124165 \\\\\n",
       "\t4 & Arkansas & 1903 & 39028 \\\\\n",
       "\t5 & California & 7884 & 309287 \\\\\n",
       "\t6 & Colorado & 835 & 45732 \\\\\n",
       "\t7 & Connecticut & 150 & 347 \\\\\n",
       "\t8 & Delaware & 7 & 79 \\\\\n",
       "\t9 & District of Columbia & 0 & 0 \\\\\n",
       "\t10 & Florida & 2784 & 164774 \\\\\n",
       "\t11 & Georgia & 3621 & 25017 \\\\\n",
       "\t12 & Hawaii & 5 & 25053 \\\\\n",
       "\t13 & Idaho & 1088 & 436733 \\\\\n",
       "\t14 & Illinois & 32 & 298 \\\\\n",
       "\t15 & Indiana & 49 & 1643 \\\\\n",
       "\t16 & Iowa & 7 & 288 \\\\\n",
       "\t17 & Kansas & 67 & 84015 \\\\\n",
       "\t18 & Kentucky & 1280 & 59199 \\\\\n",
       "\t19 & Louisiana & 1259 & 24475 \\\\\n",
       "\t20 & Maine & 730 & 425 \\\\\n",
       "\t21 & Maryland & 117 & 3139 \\\\\n",
       "\t22 & Massachusetts & 1192 & 1756 \\\\\n",
       "\t23 & Michigan & 376 & 3522 \\\\\n",
       "\t24 & Minnesota & 713 & 3715 \\\\\n",
       "\t25 & Mississippi & 1980 & 53170 \\\\\n",
       "\t26 & Missouri & 136 & 4968 \\\\\n",
       "\t27 & Montana & 2087 & 137509 \\\\\n",
       "\t28 & Nebraska & 568 & 76534 \\\\\n",
       "\t29 & Nevada & 506 & 58402 \\\\\n",
       "\t30 & New Hampshire & 103 & 381 \\\\\n",
       "\t$\\dots$ & $\\dots$ & $\\dots$ & $\\dots$ \\\\\n",
       "\\end{tabular}\n"
      ],
      "text/plain": [
       "\u001b[1m52×3 DataFrame\u001b[0m\n",
       "\u001b[1m Row \u001b[0m│\u001b[1m state                \u001b[0m\u001b[1m no fires \u001b[0m\u001b[1m no acres \u001b[0m\n",
       "     │\u001b[90m String               \u001b[0m\u001b[90m Int64    \u001b[0m\u001b[90m Int64    \u001b[0m\n",
       "─────┼──────────────────────────────────────────\n",
       "   1 │ Alabama                   2710     40975\n",
       "   2 │ Alaska                     595   3110976\n",
       "   3 │ Arizona                   1432    124165\n",
       "   4 │ Arkansas                  1903     39028\n",
       "   5 │ California                7884    309287\n",
       "   6 │ Colorado                   835     45732\n",
       "   7 │ Connecticut                150       347\n",
       "   8 │ Delaware                     7        79\n",
       "   9 │ District of Columbia         0         0\n",
       "  10 │ Florida                   2784    164774\n",
       "  11 │ Georgia                   3621     25017\n",
       "  ⋮  │          ⋮               ⋮         ⋮\n",
       "  43 │ South Dakota               527     42148\n",
       "  44 │ Tennessee                 1225     15059\n",
       "  45 │ Texas                    12571    671800\n",
       "  46 │ Utah                       945     27245\n",
       "  47 │ Vermont                     86        83\n",
       "  48 │ Virginia                   558      9956\n",
       "  49 │ Washington                1492    173659\n",
       "  50 │ West Virginia              893     20275\n",
       "  51 │ Wisconsin                  923       881\n",
       "  52 │ Wyoming                    443     25766\n",
       "\u001b[36m                                 31 rows omitted\u001b[0m"
      ]
     },
     "execution_count": 159,
     "metadata": {},
     "output_type": "execute_result"
    }
   ],
   "source": [
    "pleth_data = copy(df2)"
   ]
  },
  {
   "cell_type": "code",
   "execution_count": 160,
   "id": "bd36c6b3-50ac-4b6e-8b44-dc7c73dc2ac0",
   "metadata": {},
   "outputs": [
    {
     "data": {
      "text/plain": [
       "50-element Vector{String}:\n",
       " \"AL\"\n",
       " \"AK\"\n",
       " \"AZ\"\n",
       " \"AR\"\n",
       " \"CA\"\n",
       " \"CO\"\n",
       " \"CT\"\n",
       " \"DE\"\n",
       " \"FL\"\n",
       " \"GA\"\n",
       " \"HI\"\n",
       " \"ID\"\n",
       " \"IL\"\n",
       " ⋮\n",
       " \"RI\"\n",
       " \"SC\"\n",
       " \"SD\"\n",
       " \"TN\"\n",
       " \"TX\"\n",
       " \"UT\"\n",
       " \"VT\"\n",
       " \"VA\"\n",
       " \"WA\"\n",
       " \"WV\"\n",
       " \"WI\"\n",
       " \"WY\""
      ]
     },
     "execution_count": 160,
     "metadata": {},
     "output_type": "execute_result"
    }
   ],
   "source": [
    "state_ns = [\"Alabama\",\"Alaska\",\"Arizona\",\"Arkansas\",\"California\",\"Colorado\",\"Connecticut\",\"Delaware\",\"Florida\",\"Georgia\",\"Hawaii\",\"Idaho\",\"Illinois\",\"Indiana\",\"Iowa\",\"Kansas\",\"Kentucky\",\"Louisiana\",\"Maine\",\"Maryland\",\"Massachusetts\",\"Michigan\",\"Minnesota\",\"Mississippi\",\"Missouri\",\"Montana\",\"Nebraska\",\"Nevada\",\"New Hampshire\",\"New Jersey\",\"New Mexico\",\"New York\",\"North Carolina\",\"North Dakota\",\"Ohio\",\"Oklahoma\",\"Oregon\",\"Pennsylvania\",\"Rhode Island\",\"South Carolina\",\"South Dakota\",\"Tennessee\",\"Texas\",\"Utah\",\"Vermont\",\"Virginia\",\"Washington\",\"West Virginia\",\"Wisconsin\",\"Wyoming\"]\n",
    "abbrevs = [\"AL\",\"AK\",\"AZ\",\"AR\",\"CA\",\"CO\",\"CT\",\"DE\",\"FL\",\"GA\",\"HI\",\"ID\",\"IL\",\"IN\",\"IA\",\"KS\",\"KY\",\"LA\",\"ME\",\"MD\",\"MA\",\"MI\",\"MN\",\"MS\",\"MO\",\"MT\",\"NE\",\"NV\",\"NH\",\"NJ\",\"NM\",\"NY\",\"NC\",\"ND\",\"OH\",\"OK\",\"OR\",\"PA\",\"RI\",\"SC\",\"SD\",\"TN\",\"TX\",\"UT\",\"VT\",\"VA\",\"WA\",\"WV\",\"WI\",\"WY\"]"
   ]
  },
  {
   "cell_type": "code",
   "execution_count": 161,
   "id": "745a06fc-70da-4834-9c1e-9d0c5fd3755b",
   "metadata": {},
   "outputs": [
    {
     "data": {
      "text/plain": [
       "52-element Vector{String}:\n",
       " \"al\"\n",
       " \"ak\"\n",
       " \"az\"\n",
       " \"ar\"\n",
       " \"ca\"\n",
       " \"co\"\n",
       " \"ct\"\n",
       " \"de\"\n",
       " \"District of Columbia\"\n",
       " \"fl\"\n",
       " \"ga\"\n",
       " \"hi\"\n",
       " \"id\"\n",
       " ⋮\n",
       " \"ri\"\n",
       " \"sc\"\n",
       " \"sd\"\n",
       " \"tn\"\n",
       " \"tx\"\n",
       " \"ut\"\n",
       " \"vt\"\n",
       " \"va\"\n",
       " \"wa\"\n",
       " \"wv\"\n",
       " \"wi\"\n",
       " \"wy\""
      ]
     },
     "execution_count": 161,
     "metadata": {},
     "output_type": "execute_result"
    }
   ],
   "source": [
    "pleth_data[!, \"state\"] = [begin \n",
    "            replace(x, [state_ns[n] => lowercase(abbrevs[n]) for n in 1:length(state_ns)] ...)\n",
    "        end for x in pleth_data[!, \"state\"]]"
   ]
  },
  {
   "cell_type": "code",
   "execution_count": 162,
   "id": "c899ccaa-0cda-438c-8616-6262a0027341",
   "metadata": {},
   "outputs": [
    {
     "data": {
      "text/html": [
       "<div><div style = \"float: left;\"><span>47×3 DataFrame</span></div><div style = \"float: right;\"><span style = \"font-style: italic;\">22 rows omitted</span></div><div style = \"clear: both;\"></div></div><div class = \"data-frame\" style = \"overflow-x: scroll;\"><table class = \"data-frame\" style = \"margin-bottom: 6px;\"><thead><tr class = \"header\"><th class = \"rowNumber\" style = \"font-weight: bold; text-align: right;\">Row</th><th style = \"text-align: left;\">state</th><th style = \"text-align: left;\">no fires</th><th style = \"text-align: left;\">no acres</th></tr><tr class = \"subheader headerLastRow\"><th class = \"rowNumber\" style = \"font-weight: bold; text-align: right;\"></th><th title = \"String\" style = \"text-align: left;\">String</th><th title = \"Int64\" style = \"text-align: left;\">Int64</th><th title = \"Int64\" style = \"text-align: left;\">Int64</th></tr></thead><tbody><tr><td class = \"rowNumber\" style = \"font-weight: bold; text-align: right;\">1</td><td style = \"text-align: left;\">al</td><td style = \"text-align: right;\">2710</td><td style = \"text-align: right;\">40975</td></tr><tr><td class = \"rowNumber\" style = \"font-weight: bold; text-align: right;\">2</td><td style = \"text-align: left;\">ak</td><td style = \"text-align: right;\">595</td><td style = \"text-align: right;\">3110976</td></tr><tr><td class = \"rowNumber\" style = \"font-weight: bold; text-align: right;\">3</td><td style = \"text-align: left;\">az</td><td style = \"text-align: right;\">1432</td><td style = \"text-align: right;\">124165</td></tr><tr><td class = \"rowNumber\" style = \"font-weight: bold; text-align: right;\">4</td><td style = \"text-align: left;\">ar</td><td style = \"text-align: right;\">1903</td><td style = \"text-align: right;\">39028</td></tr><tr><td class = \"rowNumber\" style = \"font-weight: bold; text-align: right;\">5</td><td style = \"text-align: left;\">ca</td><td style = \"text-align: right;\">7884</td><td style = \"text-align: right;\">309287</td></tr><tr><td class = \"rowNumber\" style = \"font-weight: bold; text-align: right;\">6</td><td style = \"text-align: left;\">co</td><td style = \"text-align: right;\">835</td><td style = \"text-align: right;\">45732</td></tr><tr><td class = \"rowNumber\" style = \"font-weight: bold; text-align: right;\">7</td><td style = \"text-align: left;\">ct</td><td style = \"text-align: right;\">150</td><td style = \"text-align: right;\">347</td></tr><tr><td class = \"rowNumber\" style = \"font-weight: bold; text-align: right;\">8</td><td style = \"text-align: left;\">fl</td><td style = \"text-align: right;\">2784</td><td style = \"text-align: right;\">164774</td></tr><tr><td class = \"rowNumber\" style = \"font-weight: bold; text-align: right;\">9</td><td style = \"text-align: left;\">ga</td><td style = \"text-align: right;\">3621</td><td style = \"text-align: right;\">25017</td></tr><tr><td class = \"rowNumber\" style = \"font-weight: bold; text-align: right;\">10</td><td style = \"text-align: left;\">id</td><td style = \"text-align: right;\">1088</td><td style = \"text-align: right;\">436733</td></tr><tr><td class = \"rowNumber\" style = \"font-weight: bold; text-align: right;\">11</td><td style = \"text-align: left;\">il</td><td style = \"text-align: right;\">32</td><td style = \"text-align: right;\">298</td></tr><tr><td class = \"rowNumber\" style = \"font-weight: bold; text-align: right;\">12</td><td style = \"text-align: left;\">in</td><td style = \"text-align: right;\">49</td><td style = \"text-align: right;\">1643</td></tr><tr><td class = \"rowNumber\" style = \"font-weight: bold; text-align: right;\">13</td><td style = \"text-align: left;\">ks</td><td style = \"text-align: right;\">67</td><td style = \"text-align: right;\">84015</td></tr><tr><td style = \"text-align: right;\">&vellip;</td><td style = \"text-align: right;\">&vellip;</td><td style = \"text-align: right;\">&vellip;</td><td style = \"text-align: right;\">&vellip;</td></tr><tr><td class = \"rowNumber\" style = \"font-weight: bold; text-align: right;\">36</td><td style = \"text-align: left;\">ri</td><td style = \"text-align: right;\">76</td><td style = \"text-align: right;\">44</td></tr><tr><td class = \"rowNumber\" style = \"font-weight: bold; text-align: right;\">37</td><td style = \"text-align: left;\">sc</td><td style = \"text-align: right;\">22</td><td style = \"text-align: right;\">677</td></tr><tr><td class = \"rowNumber\" style = \"font-weight: bold; text-align: right;\">38</td><td style = \"text-align: left;\">sd</td><td style = \"text-align: right;\">527</td><td style = \"text-align: right;\">42148</td></tr><tr><td class = \"rowNumber\" style = \"font-weight: bold; text-align: right;\">39</td><td style = \"text-align: left;\">tn</td><td style = \"text-align: right;\">1225</td><td style = \"text-align: right;\">15059</td></tr><tr><td class = \"rowNumber\" style = \"font-weight: bold; text-align: right;\">40</td><td style = \"text-align: left;\">tx</td><td style = \"text-align: right;\">12571</td><td style = \"text-align: right;\">671800</td></tr><tr><td class = \"rowNumber\" style = \"font-weight: bold; text-align: right;\">41</td><td style = \"text-align: left;\">ut</td><td style = \"text-align: right;\">945</td><td style = \"text-align: right;\">27245</td></tr><tr><td class = \"rowNumber\" style = \"font-weight: bold; text-align: right;\">42</td><td style = \"text-align: left;\">vt</td><td style = \"text-align: right;\">86</td><td style = \"text-align: right;\">83</td></tr><tr><td class = \"rowNumber\" style = \"font-weight: bold; text-align: right;\">43</td><td style = \"text-align: left;\">va</td><td style = \"text-align: right;\">558</td><td style = \"text-align: right;\">9956</td></tr><tr><td class = \"rowNumber\" style = \"font-weight: bold; text-align: right;\">44</td><td style = \"text-align: left;\">wa</td><td style = \"text-align: right;\">1492</td><td style = \"text-align: right;\">173659</td></tr><tr><td class = \"rowNumber\" style = \"font-weight: bold; text-align: right;\">45</td><td style = \"text-align: left;\">wv</td><td style = \"text-align: right;\">893</td><td style = \"text-align: right;\">20275</td></tr><tr><td class = \"rowNumber\" style = \"font-weight: bold; text-align: right;\">46</td><td style = \"text-align: left;\">wi</td><td style = \"text-align: right;\">923</td><td style = \"text-align: right;\">881</td></tr><tr><td class = \"rowNumber\" style = \"font-weight: bold; text-align: right;\">47</td><td style = \"text-align: left;\">wy</td><td style = \"text-align: right;\">443</td><td style = \"text-align: right;\">25766</td></tr></tbody></table></div>"
      ],
      "text/latex": [
       "\\begin{tabular}{r|ccc}\n",
       "\t& state & no fires & no acres\\\\\n",
       "\t\\hline\n",
       "\t& String & Int64 & Int64\\\\\n",
       "\t\\hline\n",
       "\t1 & al & 2710 & 40975 \\\\\n",
       "\t2 & ak & 595 & 3110976 \\\\\n",
       "\t3 & az & 1432 & 124165 \\\\\n",
       "\t4 & ar & 1903 & 39028 \\\\\n",
       "\t5 & ca & 7884 & 309287 \\\\\n",
       "\t6 & co & 835 & 45732 \\\\\n",
       "\t7 & ct & 150 & 347 \\\\\n",
       "\t8 & fl & 2784 & 164774 \\\\\n",
       "\t9 & ga & 3621 & 25017 \\\\\n",
       "\t10 & id & 1088 & 436733 \\\\\n",
       "\t11 & il & 32 & 298 \\\\\n",
       "\t12 & in & 49 & 1643 \\\\\n",
       "\t13 & ks & 67 & 84015 \\\\\n",
       "\t14 & ky & 1280 & 59199 \\\\\n",
       "\t15 & la & 1259 & 24475 \\\\\n",
       "\t16 & me & 730 & 425 \\\\\n",
       "\t17 & md & 117 & 3139 \\\\\n",
       "\t18 & ma & 1192 & 1756 \\\\\n",
       "\t19 & mi & 376 & 3522 \\\\\n",
       "\t20 & mn & 713 & 3715 \\\\\n",
       "\t21 & ms & 1980 & 53170 \\\\\n",
       "\t22 & mo & 136 & 4968 \\\\\n",
       "\t23 & mt & 2087 & 137509 \\\\\n",
       "\t24 & ne & 568 & 76534 \\\\\n",
       "\t25 & nv & 506 & 58402 \\\\\n",
       "\t26 & nh & 103 & 381 \\\\\n",
       "\t27 & nj & 1165 & 15532 \\\\\n",
       "\t28 & nm & 748 & 859906 \\\\\n",
       "\t29 & ny & 162 & 1313 \\\\\n",
       "\t30 & nc & 6222 & 28851 \\\\\n",
       "\t$\\dots$ & $\\dots$ & $\\dots$ & $\\dots$ \\\\\n",
       "\\end{tabular}\n"
      ],
      "text/plain": [
       "\u001b[1m47×3 DataFrame\u001b[0m\n",
       "\u001b[1m Row \u001b[0m│\u001b[1m state  \u001b[0m\u001b[1m no fires \u001b[0m\u001b[1m no acres \u001b[0m\n",
       "     │\u001b[90m String \u001b[0m\u001b[90m Int64    \u001b[0m\u001b[90m Int64    \u001b[0m\n",
       "─────┼────────────────────────────\n",
       "   1 │ al          2710     40975\n",
       "   2 │ ak           595   3110976\n",
       "   3 │ az          1432    124165\n",
       "   4 │ ar          1903     39028\n",
       "   5 │ ca          7884    309287\n",
       "   6 │ co           835     45732\n",
       "   7 │ ct           150       347\n",
       "   8 │ fl          2784    164774\n",
       "   9 │ ga          3621     25017\n",
       "  10 │ id          1088    436733\n",
       "  11 │ il            32       298\n",
       "  ⋮  │   ⋮        ⋮         ⋮\n",
       "  38 │ sd           527     42148\n",
       "  39 │ tn          1225     15059\n",
       "  40 │ tx         12571    671800\n",
       "  41 │ ut           945     27245\n",
       "  42 │ vt            86        83\n",
       "  43 │ va           558      9956\n",
       "  44 │ wa          1492    173659\n",
       "  45 │ wv           893     20275\n",
       "  46 │ wi           923       881\n",
       "  47 │ wy           443     25766\n",
       "\u001b[36m                   26 rows omitted\u001b[0m"
      ]
     },
     "execution_count": 162,
     "metadata": {},
     "output_type": "execute_result"
    }
   ],
   "source": [
    "filter!(row -> row[\"no fires\"] > 10, pleth_data)"
   ]
  },
  {
   "cell_type": "code",
   "execution_count": 163,
   "id": "f30342fa-3413-4dc5-ba43-0985566678c6",
   "metadata": {},
   "outputs": [
    {
     "name": "stdout",
     "output_type": "stream",
     "text": [
      "search: \u001b[0m\u001b[1mc\u001b[22m\u001b[0m\u001b[1mh\u001b[22m\u001b[0m\u001b[1mo\u001b[22m\u001b[0m\u001b[1mr\u001b[22m\u001b[0m\u001b[1mo\u001b[22m\u001b[0m\u001b[1mp\u001b[22m\u001b[0m\u001b[1ml\u001b[22m\u001b[0m\u001b[1me\u001b[22m\u001b[0m\u001b[1mt\u001b[22m\u001b[0m\u001b[1mh\u001b[22m\n",
      "\n"
     ]
    },
    {
     "data": {
      "text/latex": [
       "\\begin{verbatim}\n",
       "choropleth(x::Vector, y::Vector{<:Number}, resource::AbstractChoroplethResource, args ...) -> ::Gattino.Context\n",
       "\\end{verbatim}\n",
       "The \\texttt{choropleth} function will create a choropleth from geographic labels (x), a continuous feature (y), a choropleth resource file (resource, an \\texttt{AbstractChoroplethResource}), and  a provided \\texttt{Vector} of colors. There is a dispatch for both a local \\texttt{ChoroplethResource} and the  remote \\texttt{RemoteChoroplethResource}. The latter will download a new file into an SVG file named  after the resource in your current working directory. Storing in your working directory is optional,  but in order to store elsewhere, use \\texttt{download\\_resource} to \" convert\" a remote resource into a local one.\n",
       "\n",
       "The resources will use lower-case abbreviations for region names.\n",
       "\n",
       "\\begin{verbatim}\n",
       "choropleth(x::Vector{String}, y::Vector{<:Number}, rs::ChoroplethResource, colors::Vector{String}) -> ::Context\n",
       "choropleth(x::Vector{<:Any}, y::Vector{<:Number}, rs::RemoteChoroplethResource, args ...) -> ::Context\n",
       "\\end{verbatim}\n",
       "\\rule{\\textwidth}{1pt}\n",
       "\\begin{verbatim}\n",
       "countries = [\"mx\", \"us\", \"ca\", \"uk\", \"br\", \"au\", \"it\", \"ch\", \"ru\", \"in\", \"cn\", \"gl\", \"af\", \"bd\", \"jp\", \"iq\"]\n",
       "pleth = choropleth(countries, [rand(1:100) for c in countries], GattinoPleths.world_map, red_and_blue)\n",
       "\\end{verbatim}\n"
      ],
      "text/markdown": [
       "```julia\n",
       "choropleth(x::Vector, y::Vector{<:Number}, resource::AbstractChoroplethResource, args ...) -> ::Gattino.Context\n",
       "```\n",
       "\n",
       "The `choropleth` function will create a choropleth from geographic labels (x), a continuous feature (y), a choropleth resource file (resource, an `AbstractChoroplethResource`), and  a provided `Vector` of colors. There is a dispatch for both a local `ChoroplethResource` and the  remote `RemoteChoroplethResource`. The latter will download a new file into an SVG file named  after the resource in your current working directory. Storing in your working directory is optional,  but in order to store elsewhere, use `download_resource` to \" convert\" a remote resource into a local one.\n",
       "\n",
       "The resources will use lower-case abbreviations for region names.\n",
       "\n",
       "```julia\n",
       "choropleth(x::Vector{String}, y::Vector{<:Number}, rs::ChoroplethResource, colors::Vector{String}) -> ::Context\n",
       "choropleth(x::Vector{<:Any}, y::Vector{<:Number}, rs::RemoteChoroplethResource, args ...) -> ::Context\n",
       "```\n",
       "\n",
       "---\n",
       "\n",
       "```example\n",
       "countries = [\"mx\", \"us\", \"ca\", \"uk\", \"br\", \"au\", \"it\", \"ch\", \"ru\", \"in\", \"cn\", \"gl\", \"af\", \"bd\", \"jp\", \"iq\"]\n",
       "pleth = choropleth(countries, [rand(1:100) for c in countries], GattinoPleths.world_map, red_and_blue)\n",
       "```\n"
      ],
      "text/plain": [
       "\u001b[36m  choropleth(x::Vector, y::Vector{<:Number}, resource::AbstractChoroplethResource, args ...) -> ::Gattino.Context\u001b[39m\n",
       "\n",
       "  The \u001b[36mchoropleth\u001b[39m function will create a choropleth from geographic labels (x),\n",
       "  a continuous feature (y), a choropleth resource file (resource, an\n",
       "  \u001b[36mAbstractChoroplethResource\u001b[39m), and a provided \u001b[36mVector\u001b[39m of colors. There is a\n",
       "  dispatch for both a local \u001b[36mChoroplethResource\u001b[39m and the remote\n",
       "  \u001b[36mRemoteChoroplethResource\u001b[39m. The latter will download a new file into an SVG\n",
       "  file named after the resource in your current working directory. Storing in\n",
       "  your working directory is optional, but in order to store elsewhere, use\n",
       "  \u001b[36mdownload_resource\u001b[39m to \" convert\" a remote resource into a local one.\n",
       "\n",
       "  The resources will use lower-case abbreviations for region names.\n",
       "\n",
       "\u001b[36m  choropleth(x::Vector{String}, y::Vector{<:Number}, rs::ChoroplethResource, colors::Vector{String}) -> ::Context\u001b[39m\n",
       "\u001b[36m  choropleth(x::Vector{<:Any}, y::Vector{<:Number}, rs::RemoteChoroplethResource, args ...) -> ::Context\u001b[39m\n",
       "\n",
       "  ────────────────────────────────────────────────────────────────────────────\n",
       "\n",
       "\u001b[36m  countries = [\"mx\", \"us\", \"ca\", \"uk\", \"br\", \"au\", \"it\", \"ch\", \"ru\", \"in\", \"cn\", \"gl\", \"af\", \"bd\", \"jp\", \"iq\"]\u001b[39m\n",
       "\u001b[36m  pleth = choropleth(countries, [rand(1:100) for c in countries], GattinoPleths.world_map, red_and_blue)\u001b[39m"
      ]
     },
     "execution_count": 163,
     "metadata": {},
     "output_type": "execute_result"
    }
   ],
   "source": [
    "?choropleth"
   ]
  },
  {
   "cell_type": "code",
   "execution_count": 184,
   "id": "59039bef-c4a8-4012-a06d-42fc4c3f7980",
   "metadata": {},
   "outputs": [
    {
     "data": {
      "text/html": [
       "\"<svg id='jthir' viewBox='0 0 959 593' height=593 width=959> <style id='.al'>.al {fill:rgb(140,0,115,1.0) !important;}</style> <style id='.ak'>.ak {fill:rgb(40,0,215,1.0) !important;}</style> <style id='.az'>.az {fill:rgb(80,0,175,1.0) !important;}</style> <style id='.ar'>.ar {fill:rgb(100,0,155,1.0) !important;}</style> <style id='.ca'>.ca {fill:rgb(380,0,-125,1.0) !important;}</style> <style id='.co'>.co {fill:rgb(40,0,215,1.0) !important;}</style> <style id='.ct'>.ct {fill:rgb(20,0,235,1.0) !important;}</style> <style id='.fl'>.fl {fill:rgb(140,0,115,1.0) !important;}</style> <style id='.ga'>.ga {fill:rgb(180,0,75,1.0) !important;}</style> <style id='.id'>.id {fill:rgb(60,0,195,1.0) !important;}</style> <style id='.il'>.il {fill:rgb(20,0,235,1.0) !important;}</style> <style id='.in'>.in {fill:rgb(20,0,235,1.0) !important;}</style> <style id='.ks'>.ks {fill:rgb(20,0,235,1.0) !important;}</style> <style id='.ky'>.ky {fill:rgb(80,0,175,1.0) !important;}</style> <style id='.la'>.la {fill:rgb(80,0,175,1.0) !important;}</style> <style id='.me'>.me {fill:rgb(40,0,215,1.0) !important;}</style> <style id='.md'>.md {fill:rgb(20,0,235,1.0) !important;}</style> <style id='.ma'>.ma {fill:rgb(60,0,195,1.0) !important;}</style> <style id='.mi'>.mi {fill:rgb(20,0,235,1.0) !important;}</style> <style id='.mn'>.mn {fill:rgb(40,0,215,1.0) !important;}</style> <style id='.ms'>.ms {fill:rgb(100,0,155,1.0) !important;}</style> <style id='.mo'>.mo {fill:rgb(20,0,235,1.0) !important;}</style> <style id='.mt'>.mt {fill:rgb(100,0,155,1.0) !important;}</style> <style id='.ne'>.ne {fill:rgb(40,0,215,1.0) !important;}</style> <style id='.nv'>.nv {fill:rgb(40,0,215,1.0) !important;}</style> <style id='.nh'>.nh {fill:rgb(20,0,235,1.0) !important;}</style> <style id='.nj'>.nj {fill:rgb(60,0,195,1.0) !important;}</style> <style id='.nm'>.nm {fill:rgb(40,0,215,1.0) !important;}</style> <style id='.ny'>.ny {fill:rgb(20,0,235,1.0) !important;}</style> <style id='.nc'>.nc {fill:rgb(300,0,-45,1.0) !important;}</style> <style id='.nd'>.nd {fill:rgb(20,0,235,1.0) !important;}</style> <style id='.oh'>.oh {fill:rgb(40,0,215,1.0) !important;}</style> <style id='.ok'>.ok {fill:rgb(140,0,115,1.0) !important;}</style> <style id='.or'>.or {fill:rgb(120,0,135,1.0) !important;}</style> <style id='.pa'>.pa {fill:rgb(60,0,195,1.0) !important;}</style> <style id='.ri'>.ri {fill:rgb(20,0,235,1.0) !important;}</style> <style id='.sc'>.sc {fill:rgb(20,0,235,1.0) !important;}</style> <style id='.sd'>.sd {fill:rgb(40,0,215,1.0) !important;}</style> <style id='.tn'>.tn {fill:rgb(60,0,195,1.0) !important;}</style> <style id='.tx'>.tx {fill:rgb(600,0,-345,1.0) !important;}</style> <style id='.ut'>.ut {fill:rgb(60,0,195,1.0) !important;}</style> <style id='.vt'>.vt {fill:rgb(20,0,235,1.0) !important;}</style> <style id='.va'>.va {fill:rgb(40,0,215,1.0) !important;}</style> <style id='.wa'>.wa {fill:rgb(80,0,175,1.0) !important;}</style> <style id='.wv'>.wv {fill:rgb(60,0,195,1.0) !important;}</style> <style id='.wi'>.wi {fill:rgb(60,0,195,1.0) !important;}</style> <style id='.wy'>.wy {fill:rgb(40,0,215,1.0) !important;}</style><?xml version='1.0' encoding='UTF-8' standalone='no'?>\\r\\n<svg xmlns='http://www.w3.org/2000/svg' width='959' height='593'>\\r\\n  <title>Blank map of the United States, territories not included</title>\\r\\n<defs>\\r\\n<style type='text/css'>\\r\\n.state {fill:#D0D0D0}                        /* default color for all states not specified below */\\r\\n.borders {stroke:#FFFFFF; stroke-width:1}    /* color and width of borders between states */\\r\\n.dccircle {display:yes}                      /* set display to yes to show the circle for the District of Columbia, or none to hide it */\\r\\n.separator1 {stroke:#B0B0B0; stroke-width:2} /* color and width of lines around Alaska and Hawaii */\\r\\n\\r\\n/* Individual states can be colored as follows:\\r\\n.ks,.mt,.pa {fill:#0000FF}\\r\\n.ca,.de {fill:#FF0000}\\r\\nIn this example, Kansas, Montana and Pennsylvania are colored blue, and California and Delaware are colored red.\\r\\nPlace this code in the empty space below. */\\r\\n\\r\\n\\r\\n\\r\\n</style>\\r\\n</defs>\\r\\n\\r\\n<g class='state'>\\r\\n\\r\\n<path class='al' d='m 643,467.4 .4,-7.3 -.9,-1.2 -1.7,-.7 -2.5,-2.8 .5,-2.9 48.8,-5.1 -.7,-2.2 -1.5,-1.5 -.5,-1.4 .6,-6.3 -2.4,-5.7 .5,-2.6 .3,-3.7 2.2,-3.8 -.2,-1.1 -1.7,-1 v -3.2 l -1.8,-1.9 -2.9,-6.1 -12.9,-45.8 -45.7,4 1.3,2 -1.3,67 4.4,33.2 .9,-.5 1.3,.1 .6,.4 .8,-.1 2,-3.8 v -2.3 l 1.1,-1.1 1.4,.5 3.4,6.4 v .9 l -3.3,2.2 3.5,-.4 4.9,-1.6 z'>\\r\\n<title>Alabama</title></path>\\r\\n\\r\\n<!-- The scale of Alaska is 42% that of the contiguous United States, so its area is reduced to about 17.6%. The Islands of Four Mountains, Andreanof Islands, Rat Islands and Near Islands are not shown. -->\\r\\n<path class='ak' d='m 15.8,572 h 2.4 l .7,.7 -1,1.2 -1.9,.2 -2.5,1.3 -3.7,-.1 2.2,-.9 .3,-1.1 2.5,-.3 z m 8.3,-1.7 1.3,.5 h .9 l .5,1.2 .3,-.6 .9,.2 1.1,1.5 0,.5 -4.2,1.9 -2.4,-.1 -1,-.5 -1.1,.7 -2,0 -1.1,-1.4 4.7,-.5 z m 5.4,-.1 1,.1 .7,.7 v 1 l -1.3,.1 -.9,-1.1 z m 2.5,.3 1.3,-.1 -.1,1 -1.1,.6 z m .3,2.2 3.4,-.1 .2,1.1 -1.3,.1 -.3,-.5 -.8,.6 -.4,-.6 -.9,-.2 z m 166.3,7.6 2.1,.1 -1,1.9 -1.1,-.1 -.4,-.8 .5,-1.3 m -1.1,-2.9 .6,-1.3 -.2,-2.3 2.4,-.5 4.5,4.4 1.3,3.4 1.9,1.6 .3,5.1 -1.4,0 -1.3,-2.3 -3.1,-2.4 h -.6 l 1.1,2.8 1.7,.2 .2,2.1 -.9,.1 -4.1,-4.4 -.1,-.9 1.9,-1 0,-1 -.5,-.8 -1.6,-.6 -1.7,-1.3 1.4,.1 .5,-.4 -.6,-.9 -.6,.5 z m -3.6,-9.1 1.3,.1 2.4,2.5 -.2,.8 -.8,-.1 -.1,1.8 .5,.5 0,1.5 -.8,.3 -.4,1.2 -.8,-.4 -.4,-2.2 1.1,-1.4 -2.1,-2.2 .1,-1.2 z m 1.5,-1.5 1.9,.2 2.5,.1 3.4,3.2 -.2,.5 -1.1,.6 -1.1,-.2 -.1,-.7 -1.2,-1.6 -.3,.7 1,1.3 -.2,1.2 -.8,-.1 -1.3,.2 -.1,-1.7 -2.6,-2.8 z m -12.7,-8.9 .9,-.4 h 1.6 l .7,-.5 4.1,2.2 .1,1.5 -.5,.5 h -.8 l -1.4,-.7 1.1,1.3 1.8,0 .5,2 -.9,0 -2.2,-1.5 -1.1,-.2 .6,1.3 .1,.9 .8,-.6 1.7,1.2 1.3,-.1 -.2,.8 1.9,4.3 0,3.4 .4,2.1 -.8,.3 -1.2,-2 -.5,-1.5 -1.6,-1.6 -.2,-2.7 -.6,-1.7 h -.7 l .3,1.1 0,.5 -1.4,1 .1,-3.3 -1.6,-1.6 -1.3,-2.3 -1.2,-1.2 z m 7.2,-2.3 1.1,1.8 2.4,-.1 1,2.1 -.6,.6 2,3.2 v 1.3 l -1.2,.8 v .7 l -2,1.9 -.5,-1.4 -.1,-1.3 .6,-.7 v -1.1 l -1.5,-1.9 -.5,-3.7 -.9,-1.5 z m -56.7,-18.3 -4,4.1 v 1.6 l 2.1,-.8 .8,-1.9 2.2,-2.4 z m -31.6,16.6 0,.6 1.8,1.2 .2,-1.4 .6,.9 3.5,.1 .7,-.6 .2,-1.8 -.5,-.7 -1.4,0 0,-.8 .4,-.6 v -.4 l -1.5,-.3 -3.3,3.6 z m -8.1,6.2 1.5,5.8 h 2.1 l 2.4,-2.5 .3,1.2 6.3,-4 .7,-1 -1,-1.1 v -.7 l .5,-1.3 -.9,-.1 -2,1 0,-1.2 -2.7,-.6 -2.4,.3 -.2,3.4 -.8,-2 -1.5,-.1 -1,.6 z m -2.2,8.2 .1,-.7 2.1,-1.3 .6,.3 1.3,.2 1.3,1.2 -2.2,-.2 -.4,-.6 -1,.6 z m -5.2,3.3 -1.1,.8 1.5,1.4 .8,-.7 -.1,-1.3 z m -6.3,-7.9 1.4,.1 .4,.6 -1.8,.1 z m -13.9,11.9 v .5 l .7,.1 -.1,-.6 z m -.4,-3.2 -1,1 v .5 l .7,1.1 1,-1 -.7,-.1 z m -2,-.8 -.3,1 -1.3,.1 -.4,.2 0,1.3 -.5,.9 .6,0 .7,-.9 .8,-.1 .9,-1 .2,-1.3 z m -4.4,-2 -.2,1.8 1.4,.8 1.2,-.6 0,-1 1.7,-.3 -.1,-.6 -.9,-.2 -.7,.6 -.9,-.5 z m -4.9,-.1 1,.7 -.3,1.2 -1.4,-1.1 z m -4.2,1.3 1.4,.1 -.7,.8 z m -3.5,3 1.8,1.1 -1.7,.1 z m -25.4,-31.2 1.2,.6 -.8,.6 z m -.7,-6.3 .4,1.2 .8,-1.2 z m 24.3,-19.3 1.5,-.1 .9,.4 1.1,-.5 1.3,-.1 1.6,.8 .8,1.9 -.1,.9 -1.2,2 -2.4,-.2 -2.1,-1.8 -1,-.4 -1.1,-2 z m -21.1,-14.4 .1,1.9 2,2 v .5 l -.8,-.2 -1.7,-.8 -.3,-1.1 -.3,-1.6 z m 18.3,-23.3 v 1.2 l 1.9,1.8 h 2.3 l .6,1.1 v 1.6 l 2.1,1.9 1.8,1.2 -.1,.7 -.7,1.1 -1.4,-1.2 -2.1,.1 -.8,-.8 -.9,-2.1 -1.5,-2.2 -2.6,-.1 -1,-.7 1,-2.1 z m 16.8,-4.5 1,0 .1,1.1 h -1 z m 16.2,19.7 .9,.1 0,1.2 -1.7,-.5 z m 127.8,77.7 -1.2,.4 -.1,1.1 h 1.2 z m -157.6,-4.5 -1.3,-.4 -4.1,.6 -2.8,1.4 -.1,1.9 1.9,.7 1.5,-.9 1.7,-.1 4.7,1.4 .1,-1.3 -1.6,-1.1 z m 2.1,2.3 -.4,-1.4 1.2,.2 .1,1.4 1.8,0 .4,-2.5 .3,2.4 2.5,-.1 3.2,-3.3 .8,.1 -.7,1.3 1.4,.9 4.2,-.2 2.6,-1.2 1.4,-.1 .3,1.5 .6,-.5 .4,-1.4 5.9,.2 1.9,-1.6 -1.3,-1.1 .6,-1.2 2.6,.2 -.2,-1.2 2.5,.2 .7,-1.1 1.1,.2 4.6,-1.9 .2,-1.7 5.6,-2.4 2,-1.9 1.2,-.6 1.3,.8 2.3,-.9 1.1,-1.9 .5,-1.3 1.7,-.9 1.5,-.7 .4,-1.4 -1.1,-1.7 -2.2,-.2 -.2,-1.3 .8,-1.6 1.4,-.2 1.3,-1.5 1.9,-.1 3.4,-3.2 .4,-1.4 1.5,-2.3 3.8,-4.1 2.5,-.9 1.9,-.9 2.1,.8 1.4,2.6 -1.5,0 -1.4,-1.5 -3,2 -1.7,.1 -.2,3.1 -3.1,4.9 .6,2 2.3,0 -.6,1 -1.4,.1 -2.4,1.8 0,.9 1.9,1 3.4,-.6 1.4,-1.7 1.4,.1 3,-1.7 .5,-2.3 1.6,-.1 6.3,.8 1,-1.1 1,-4.5 -1.6,1.1 .6,-2.2 -1.6,-1.4 .8,-1.5 .1,1.5 3.4,0 .7,-1 1.6,-.1 -.3,1.7 1.9,.1 -1.9,1.3 4.1,1.1 -3.5,.4 -1.3,1.2 .9,1.4 4.6,-1.7 2.3,1.7 .7,-.9 .6,1.4 4,2.3 h 2.9 l 3.9,-.5 4.3,1.1 2,1.9 4.5,.4 1.8,-1.5 .8,2.4 -1.8,.7 1.2,1.2 7.4,3.8 1.4,2.5 5.4,4.1 3.3,-2 -.6,-2.2 -3.5,-2 3.1,1.2 .5,-.7 .9,1.3 0,2.7 2.1,-.6 2.1,1.8 -2.5,-9.8 1.2,1.3 1.4,6 2.2,2.5 2.4,-.4 1.8,3.5 h .9 l .6,5.6 3.4,.5 1.6,2.2 1.8,1.1 .4,2.8 -1.8,2.6 2.9,1.6 1.2,-2.4 -.2,3.1 -.8,.9 1.4,1.7 .7,-2.4 -.2,-1.2 .8,.2 .6,2.3 -1,1.4 .6,2.6 .5,.4 .3,-1.6 .7,.6 -.3,2 1.2,.2 -.4,.9 1.7,-.1 0,-1 h -1 l .1,-1.7 -.8,-.6 1.7,-.3 .5,-.8 0,-1.6 .5,1.3 -.6,1.8 1.2,3.9 1.8,.1 2.2,-4.2 .1,-1.9 -1.3,-4 -.1,-1.2 .5,-1.2 -.7,-.7 -1.7,.1 -2.5,-2 -1.7,0 -2,-1.4 -1.5,0 -.5,-1.6 -1.4,-.3 -.2,-1.5 -1,-.5 .1,-1.7 -5.1,-7.4 -1.8,-1.5 v -1.2 l -4.3,-3.5 -.7,-1.1 -1.6,-2 -1.9,-.6 0,-2.2 -1.2,-1.3 -1.7,-.7 -2.1,1.3 -1.6,2.1 -.4,2.4 -1.5,.1 -2.5,2.7 -.8,-.3 v -2.5 l -2.4,-2.2 -2.3,-2 -.5,-2 -2.5,-1.3 .2,-2.2 -2.8,-.1 -.7,1.1 -1.2,0 -.7,-.7 -1.2,.8 -1.8,-1.2 0,-85.8 -6.9,-4.1 -1.8,-.5 -2.2,1.1 -2.2,.1 -2.3,-1.6 -4.3,-.6 -5.8,-3.6 -5.7,-.4 -2,.5 -.2,-1.8 -1.8,-.7 1.1,-1 -.2,-.9 -3.2,-1.1 h -2.4 l -.4,.4 -.9,-.6 .1,-2.6 -.8,-.9 -2.5,2.9 -.8,-.1 v -.8 l 1.7,-.8 v -.8 l -1.9,-2.4 -1.1,-.1 -4.5,3.1 h -3.9 l .4,-.9 -1.8,-.1 -5.2,3.4 -1.8,0 -.6,-.8 -2.7,1.5 -3.6,3.7 -2.8,2.7 -1.5,1.2  -2.6,.1 -2.2,-.4 -2.3,-1.3 v 0 l -2.8,3.9 -.1,2.4 2.6,2.4 2.1,4.5 .2,5.3 2.9,2 3.4,.4 .7,.8 -1.5,2.3 .7,2.7 -1.7,-2.6 v -2.4 l -1.5,-.3 .1,1.2 .7,2.1 2.9,3.7 h -1.4 l -2.2,1.1 -6.2,-2.5 -.1,-2 1.4,-1.3 0,-1.4 -2.1,-.5 -2.3,.2 -4.8,.2 1.5,2.3 -1.9,-1.8 -8.4,1.2 -.8,1.5 4.9,4.7 -.8,1.4 -.3,2 -.7,.8 -.1,1.9 4.4,3.6 4.1,.2 4.6,1.9 h 2 l .8,-.6 3.8,.1 .1,-.8 1.2,1.1 .1,2 -2.5,-.1 .1,3.3 .5,3.2 -2.9,2.7 -1.9,-.1 -2,-.8 -1,.1 -3.1,2.1 -1.7,.2 -1.4,-2.8 -3.1,0 -2.2,2 -.5,1.8 -3.3,1.8 -5.3,4.3 -.3,3.1 .7,2.2 1,1.2 1,-.4 .9,1 -.8,.6 -1.5,.9 1.1,1.5 -2.6,1.1 .8,2.2 1.7,2.3 .8,4.1 4,1.5 2.6,-.8 1.7,-1.1 .5,2.1 .3,4.4 -1.9,1.4 0,4.4 -.6,.9 h -1.7 l 1.7,1.2 2.1,-.1 .4,-1 4.6,-.6 2,2.6 1.3,-.7 1.3,5.1 1,.5 1,-.7 .1,-2.4 .9,-1 .7,1.1 .2,1.6 1.6,.4 4.7,-1.2 .2,1.2 -2,1.1 -1.6,1.7 -2.8,7 -4.3,2 -1.4,1.5 -.3,1.4 -1,-.6 -9.3,3.3 -1.8,4.1 -1.3,-.4 .5,-1.1 -1.5,-1.4 -3.5,-.2 -5.3,3.2 -2.2,1.3 -2.3,0 -.5,2.4 z'>\\r\\n<title>Alaska</title></path>\\r\\n\\r\\n<path class='az' d='m 139.6,387.6 3,-2.2 .8,-2.4 -1,-1.6 -1.8,-.2 -1.1,-1.6 1.1,-6.9 1.6,-.3 2.4,-3.2 1.6,-7 2.4,-3.6 4.8,-1.7 1.3,-1.3 -.4,-1.9 -2.3,-2.5 -1.2,-5.8 -1.4,-1.8 -1.3,-3.4 .9,-2.1 1.4,-3 .5,-2.9 -.5,-4.9 1,-13.6 3.5,-.6 3.7,1.4 1.2,2.7 h 2 l 2.4,-2.9 3.4,-17.5 46.2,8.2 40,6 -17.4,124.1 -37.3,-5.4 -64.2,-37.5 .5,-2.9 2,-1.8 z'>\\r\\n<title>Arizona</title></path>\\r\\n\\r\\n<path class='ar' d='m 584.2,367 .9,-2.2 1.2,.5 .7,-1 -.8,-.7 .3,-1.5 -1.1,-.9 .6,-1 -.1,-1.5 -1.1,-.1 .8,-.8 1.3,.8 .3,-1.4 -.4,-1.1 .1,-.7 2,.6 -.4,-1.5 1.6,-1.3 -.5,-.9 -1.1,.1 -.6,-.9 .9,-.9 1.6,-.2 .5,-.8 1.4,-.2 -.1,-.8 -.9,-.9 v -.5 h 1.5 l .4,-.7 -1.4,-1 -.1,-.6 -11.2,.8 2.8,-5.1 1.7,-1.5 v -2.2 l -1.6,-2.5 -39.8,2 -39.1,.7 4.1,24.4 -.7,39 2.6,2.3 2.8,-1.3 3.2,.8 .2,11.9 52.3,-1.3 1.2,-1.5 .5,-3 -1.5,-2.3 -.5,-2.2 .9,-.7 v -.8 l -1.7,-1.1 -.1,-.7 1.6,-.9 -1.2,-1.1 1.7,-7.1 3.4,-1.6 v -.8 l -1.1,-1.4 2.9,-5.4 h 1.9 l 1.5,-1.2 -.3,-5.2 3.1,-4.5 1.8,-.6 -.5,-3.1 z'>\\r\\n<title>Arkansas</title></path>\\r\\n\\r\\n<path class='ca' d='m 69.4,365.6 3.4,5.2 -1.4,.1 -1.8,-1.9 z m 1.9,-9.8 1.8,4.1 2.6,1 .7,-.6 -1.3,-2.5 -2.6,-2.4 z m -19.9,-19 v 2.4 l 2,1.2 4.4,-.2 1,-1 -3.1,-.2 z m -5.9,.1 3.3,.5 1.4,2.2 h -3.8 z m 47.9,45.5 -1,-3 .2,-3 -.4,-7.9 -1.8,-4.8 -1.2,-1.4 -.6,-1.5 -7,-8.6 -3.6,.1 -2,-1.9 1.1,-1.8 -.7,-3.7 -2.2,-1.2 -3.9,-.6 -2.8,-1.3 -1.5,-1.9 -4.5,-6.6 -2.7,-2.2 -3.7,-.5 -3.1,-2.3 -4.7,-1.5 -2.8,-.3 -2.5,-2.5 .2,-2.8 .8,-4.8 1.8,-5.1 -1.4,-1.6 -4,-9.4 -2.7,-3.7 -.4,-3 -1.6,-2.3 .2,-2.5 -2,-5 -2.9,-2.7 .6,-7.1 2.4,-.8 1.8,-3.1 -.4,-3.2 -1,-.9 h -2.5 l -2.5,-3.3 -1.5,-3.5 v -7.5 l 1.2,-4.2 .2,-2.1 2.5,.2 -.1,1.6 -.8,.7 v 2.5 l 3.7,3.2 v -4.7 l -1.4,-3.4 .5,-1.1 -1,-1.7 2.8,-1.5 -1.9,-3 -1.4,.5 -1.5,3.8 .5,1.3 -.8,1 -.9,-.1 -5.4,-6.1 .7,-5.6 -1.1,-3.9 -6.5,-12.8 .8,-10.7 2.3,-3.6 .2,-6.4 -5.5,-11.1 .3,-5.2 6.9,-7.5 1.7,-2.4 -.1,-1.4 4,-9.2 .1,-8.4 .9,-2.5 66.1,18.6 -16.4,63.1 1.1,3.5 70.4,105 -.9,2.1 1.3,3.4 1.4,1.8 1.2,5.8 2.3,2.5 .4,1.9 -1.3,1.3 -4.8,1.7 -2.4,3.6 -1.6,7 -2.4,3.2 -1.6,.3 -1.1,6.9 1.1,1.6 1.8,.2 1,1.6 -.8,2.4 -3,2.2 -2.2,-.1 z'>\\r\\n<title>California</title></path>\\r\\n\\r\\n<path class='co' d='m 374.6,323.3 -16.5,-1 -51.7,-4.8 -52.6,-6.5 11.5,-88.3 44.9,5.7 37.5,3.4 33.1,2.4 -1.4,22.1 z'>\\r\\n<title>Colorado</title></path>\\r\\n\\r\\n<path class='ct' d='m 873.5,178.9 .4,-1.1 -3.2,-12.3 -.1,-.3 -14.9,3.4 v .7 l -.9,.3 -.5,-.7 -10.5,2.4 2.8,16.3 1.8,1.5 -3.5,3.4 1.7,2.2 5.4,-4.5 1.7,-1.3 h .8 l 2.4,-3.1 1.4,.1 2.9,-1.1 h 2.1 l 5.3,-2.7 2.8,-.9 1,-1 1.5,.5 z'>\\r\\n<title>Connecticut</title></path>\\r\\n\\r\\n<path class='de' d='m 822.2,226.6 -1.6,.3 -1.5,1.1 -1.2,2.1 7.6,27.1 10.9,-2.3 -2.2,-7.6 -1.1,.5 -3.3,-2.6 -.5,-1.7 -1.8,-1 -.2,-3.7 -2.1,-2.2 -1.1,-.8 -1.2,-1.1 -.4,-3.2 .3,-2.1 1,-2.2 z'>\\r\\n<title>Delaware</title></path>\\r\\n\\r\\n<path class='fl' d='m 751.7,445.1 -4,-.7 -1.7,-.9 -2.2,1.4 v 2.5 l 1.4,2.1 -.5,4.3 -2.1,.6 -1,-1.1 -.6,-3.2 -50.1,3.3 -3.3,-6 -48.8,5.1 -.5,2.9 2.5,2.8 1.7,.7 .9,1.2 -.4,7.3 -1.1,.6 .5,.4 1,-.3 .7,-.8 10.5,-2.7 9.2,-.5 8.1,1.9 8.5,5 2.4,.8 2.2,2 -.1,2.7 h 2.4 l 1.9,-1 2.5,.1 2,-.8 2.9,-2 3.1,-2.9 1.1,-.4 .6,.5 h 1.4 l .5,-.8 -.5,-1.2 -.6,-.6 .2,-.8 2,-1.1 5,-.4 .8,1 1,.1 2.3,1 3,1.8 1.2,1.7 1.1,1.2 2.8,1.4 v 2.4 l 2.8,1.9 1,.1 1.6,1.4 .7,1.6 1,.2 .8,2.1 .7,.6 1,-1.1 2.9,.1 .5,1.4 1.1,.9 v 1.3 l 2.9,2.2 .2,9.6 -1.8,5.8 1,1.2 -.2,3.4 -.8,1.4 .7,1.2 2.3,2.3 .3,1.5 .8,1 -.4,-1.9 1.3,-.6 .8,-3.6 -3,-1.2 .1,-.6 2.6,-.4 .9,2.6 1.1,.6 .1,-2 1.1,.3 .6,.8 -.1,.7 -2.9,4.2 -.2,1.1 -1.7,1.9 v 1.1 l 3.7,3.8 5.3,7.9 1.8,2.1 v 1.8 l 2.8,4.6 2.3,.6 .7,-1.2 -2.1,.3 -3,-4.5 .2,-1.4 1.5,-.8 v -1.5 l -.6,-1.3 .9,-.9 .4,.9 .7,.5 v 4 l -1.2,-.6 -.8,.9 1.4,1.6 1,2.6 1.2,-.6 2.3,1.2 2.1,2.2 1.6,5.1 3.1,4.8 .8,-1.3 2.8,-.5 3.2,1.3 .3,1.7 3.3,3.8 .1,1.1 2.2,2.7 -.7,.5 v 2.7 l 2.7,1.4 h 1.5 l 2.7,-1.8 1.5,.3 1.1,.4 2.3,-1.7 .2,-.7 1.2,.3 2.4,-1.7 1.3,-2.3 -.7,-3.2 -.2,-1.3 1.1,-4 .6,-.2 .6,1.6 .8,-1.8 -.8,-7.2 -.4,-10.5 -1,-6.8 -.7,-1.7 -6.6,-11.1 -5.2,-9.1 -2.2,-3.3 -1.3,-3.6 -.2,-3.4 .9,-.3 v -.9 l -1.1,-2.2 -4,-4 -7.6,-9.7 -5.7,-10.4 -4.3,-10.7 -.6,-3.7 -1.2,-1 -.5,-3.8 z m 9.2,134.5 1.7,-.1 -.7,-1 z m 7.3,-1.1 v -.7 l 1.6,-.2 3.7,-3.3 1.5,-.6 2.4,-.9 .3,1.3 1.7,.8 -2.6,1.2 h -2.4 l -3.9,2.5 z m 17.2,-7.6 -3,1.4 -1,1.3 1.1,.1 z m 3.8,-2.9 -1.1,.3 -1.4,2 1.1,-.2 1.5,-1.6 z m 8.3,-15.7 -1.7,5.6 -.8,1 -1,2.6 -1.2,1.6 -.7,1.7 -1.9,2.2 v .9 l 2.7,-2.8 2.4,-3.5 .6,-2 2.1,-4.9 z'>\\r\\n<title>Florida</title></path>\\r\\n\\r\\n<path class='ga' d='m 761.8,414.1 v 1.4 l -4.2,6.2 -1.2,.2 1.5,.5 v 2 l -.9,1.1 -.6,6 -2.3,6.2 .5,2 .7,5.1 -3.6,.3 -4,-.7 -1.7,-.9 -2.2,1.4 v 2.5 l 1.4,2.1 -.5,4.3 -2.1,.6 -1,-1.1 -.6,-3.2 -50.1,3.3 -3.3,-6 -.7,-2.2 -1.5,-1.5 -.5,-1.4 .6,-6.3 -2.4,-5.7 .5,-2.6 .3,-3.7 2.2,-3.8 -.2,-1.1 -1.7,-1 v -3.2 l -1.8,-1.9 -2.9,-6.1 -12.9,-45.8 22.9,-2.9 21.4,-3 -.1,1.9 -1.9,1 -1.4,3.2 .2,1.3 6.1,3.8 2.6,-.3 3.1,4 .4,1.7 4.2,5.1 2.6,1.7 1.4,.2 2.2,1.6 1.1,2.2 2,1.6 1.8,.5 2.7,2.7 .1,1.4 2.6,2.8 5,2.3 3.6,6.7 .3,2.7 3.9,2.1 2.5,4.8 .8,3.1 4.2,.4 z'>\\r\\n<title>Georgia</title></path>\\r\\n\\r\\n<!-- Hawaii is shown in the same scale as the contiguous United States. The Northwestern Hawaiian Islands are not shown. -->\\r\\n<path class='hi' d='m 317,553.7 -.2,3.2 1.7,1.9 .1,1.2 -4.8,4.5 -.1,1.2 1.9,3.2 1.7,4.2 v 2.6 l -.5,1.2 .1,3.4 4.1,2.1 1.1,1.1 1.2,-1.1 2.1,-3.6 4.5,-2.9 3.3,-.5 2.5,-1 1.7,-1.2 3.2,-3.5 -2.8,-1.1 -1.4,-1.4 .1,-1.7 -.5,-.6 h -2 l .2,-2.5 -.7,-1.2 -2.6,-2.3 -4.5,-1.9 -2.8,-.2 -3.3,-2.7 -1.2,-.6 z m -15.3,-17 -1.1,1.5 -.1,1.7 2.7,2.4 1.9,.5 .6,1 .4,3 3.6,.2 5.3,-2.6 -.1,-2.5 -1.4,-.5 -3.5,-2.6 -1.8,-.3 -2.9,1.3 -1.5,-2.7 z m -1.5,11.5 .9,-1.4 2.5,-.3 .6,1.8 z m -7,-8.7 1.7,4 3.1,-.6 .3,-2 -1.4,-1.5 z m -4.1,-6.7 -1.1,2.4 h 5 l 4.8,1.6 2.5,-1.6 .2,-1.5 -4.8,.2 z m -16,-10.6 -1.9,2.1 -2.9,.6 .8,2.2 2.2,2.8 .1,1 2.1,-.3 2.3,.1 1.7,1.2 3.5,-.8 v -.7 l -1,-.8 -.5,-2.1 -.8,-.3 -.5,1 -1.2,-1.3 .2,-1.4 -1.8,-3.3 -1.1,-.7 z m -31.8,-12.4 -4.2,2.9 .2,2.3 2.4,1.2 1.9,1.3 2.7,.4 2.6,-2.2 -.2,-1.9 .8,-1.7 v -1.4 l -1,-.9 z m -10.8,4.8 -.3,1.2 -1.9,.9 -.6,1.8 1,.8 1.1,-1.5 1.9,-.6 .4,-2.6 z'>\\r\\n<title>Hawaii</title></path>\\r\\n\\r\\n<path class='id' d='m 165.3,183.1 -24.4,-5.4 8.5,-37.3 2.9,-5.8 .4,-2.1 .8,-.9 -.9,-2 -2.9,-1.2 .2,-4.2 4,-5.8 2.5,-.8 1.6,-2.3 -.1,-1.6 1.8,-1.6 3.2,-5.5 4.2,-4.8 -.5,-3.2 -3.5,-3.1 -1.6,-3.6 1.1,-4.3 -.7,-4 12.7,-56.1 14.2,3 -4.8,22 3.7,7.4 -1.6,4.8 3.6,4.8 1.9,.7 3.9,8.3 v 2.1 l 2.3,3 h .9 l 1.4,2.1 h 3.2 v 1.6 l -7.1,17 -.5,4.1 1.4,.5 1.6,2.6 2.8,-1.4 3.6,-2.4 1.9,1.9 .5,2.5 -.5,3.2 2.5,9.7 2.6,3.5 2.3,1.4 .4,3 v 4.1 l 2.3,2.3 1.6,-2.3 6.9,1.6 2.1,-1.2 9,1.7 2.8,-3.3 1.8,-.6 1.2,1.8 1.6,4.1 .9,.1 -8.5,54.8 -47.9,-8.2 z'>\\r\\n<title>Idaho</title></path>\\r\\n\\r\\n<path class='il' d='m 623.5,265.9 -1,5.2 v 2 l 2.4,3.5 v .7 l -.3,.9 .9,1.9 -.3,2.4 -1.6,1.8 -1.3,4.2 -3.8,5.3 -.1,7 h -1 l .9,1.9 v .9 l -2.2,2.7 .1,1.1 1.5,2.2 -.1,.9 -3.7,.6 -.6,1.2 -1.2,-.6 -1,.5 -.4,3.3 1.7,1.8 -.4,2.4 -1.5,.3 -6.9,-3 -4,3.7 .3,1.8 h -2.8 l -1.4,-1.5 -1.8,-3.8 v -1.9 l .8,-.6 .1,-1.3 -1.7,-1.9 -.9,-2.5 -2.7,-4.1 -4.8,-1.3 -7.4,-7.1 -.4,-2.4 2.8,-7.6 -.4,-1.9 1.2,-1.1 v -1.3 l -2.8,-1.5 -3,-.7 -3.4,1.2 -1.3,-2.3 .6,-1.9 -.7,-2.4 -8.6,-8.4 -2.2,-1.5 -2.5,-5.9 -1.2,-5.4 1.4,-3.7 .7,-.7 .1,-2.3 -.7,-.9 1,-1.5 1.8,-.6 .9,-.3 1,-1.2 v -2.4 l 1.7,-2.4 .5,-.5 .1,-3.5 -.9,-1.4 -1,-.3 -1.1,-1.6 1,-4 3,-.8 h 2.4 l 4.2,-1.8 1.7,-2.2 .1,-2.4 1.1,-1.3 1.3,-3.2 -.1,-2.6 -2.8,-3.5 h -1.2 l -.9,-1.1 .2,-1.6 -1.7,-1.7 -2.5,-1.3 .5,-.6 45.9,-2.8 .1,4.6 3.4,4.6 1.2,4.1 1.6,3.2 z'>\\r\\n<title>Illinois</title></path>\\r\\n\\r\\n<path class='in' d='m 629.2,214.8 -5.1,2.3 -4.7,-1.4 4.1,50.2 -1,5.2 v 2 l 2.4,3.5 v .7 l -.3,.9 .9,1.9 -.3,2.4 -1.6,1.8 -1.3,4.2 -3.8,5.3 -.1,7 h -1 l .9,1.9 1.1,.8 .6,-1 -.7,-1.7 4.6,-.5 .2,1.2 1.1,.2 .4,-.9 -.6,-1.3 .3,-.8 1.3,.8 1.7,-.4 1.7,.6 3.4,2.1 1.8,-2.8 3.5,-2.2 3,3.3 1.6,-2.1 .3,-2.7 3.8,-2.3 .2,1.3 1.9,1.2 3,-.2 1.2,-.7 .1,-3.4 2.5,-3.7 4.6,-4.4 -.1,-1.7 1.2,-3.8 2.2,1 6.7,-4.5 -.4,-1.7 -1.5,-2.1 1,-1.9 -6.6,-57.2 -.1,-1.4 -32.4,3.4 z'>\\r\\n<title>Indiana</title></path>\\r\\n\\r\\n<path class='ia' d='m 556.9,183 2.1,1.6 .6,1.1 -1.6,3.3 -.1,2.5 2,5.5 2.7,1.5 3.3,.7 1.3,2.8 -.5,.6 2.5,1.3 1.7,1.7 -.2,1.6 .9,1.1 h 1.2 l 2.8,3.5 .1,2.6 -1.3,3.2 -1.1,1.3 -.1,2.4 -1.7,2.2 -4.2,1.8 h -2.4 l -3,.8 -1,4 1.1,1.6 1,.3 .9,1.4 -.1,3.5 -.5,.5 -1.7,2.4 v 2.4 l -1,1.2 -.9,.3 -1.8,.6 -1,1.5 .7,.9 -.1,2.3 -.7,.7 -1.5,-.8 -1.1,-1.1 -.6,-1.6 -1.7,-1.3 -14.3,.8 -27.2,1.2 -25.9,-.1 -1.8,-4.4 .7,-2.2 -.8,-3.3 .2,-2.9 -1.3,-.7 -.4,-6.1 -2.8,-5 -.2,-3.7 -2.2,-4.3 -1.3,-3.7 v -1.4 l -.6,-1.7 v -2.3 l -.5,-.9 -.7,-1.7 -.3,-1.3 -1.3,-1.2 1,-4.3 1.7,-5.1 -.7,-2 -1.3,-.4 -.4,-1.6 1,-.5 .1,-1.1 -1.3,-1.5 .1,-1.6 2.2,.1 h 28.2 l 36.3,-.9 18.6,-.7 z'>\\r\\n<title>Iowa</title></path>\\r\\n\\r\\n<path class='ks' d='m 459.1,259.5 -43.7,-1.2 -36,-2 -4.8,67 67.7,2.9 62,.1 -.5,-48.1 -3.2,-.7 -2.6,-4.7 -2.5,-2.5 .5,-2.3 2.7,-2.6 .1,-1.2 -1.5,-2.1 -.9,1 -2,-.6 -2.9,-3 z'>\\r\\n<title>Kansas</title></path>\\r\\n\\r\\n<path class='ky' d='m 692.1,322.5 -20.5,1.4 -5.2,.8 -17.4,1 -2.6,.8 -22.6,2 -.7,-.6 h -3.7 l 1.2,3.2 -.6,.9 -23.3,1.5 1,-2.7 1.4,.9 .7,-.4 1.2,-4.1 -1,-1 1,-2 .2,-.9 -1.3,-.8 -.3,-1.8 4,-3.7 6.9,3 1.5,-.3 .4,-2.4 -1.7,-1.8 .4,-3.3 1,-.5 1.2,.6 .6,-1.2 3.7,-.6 .1,-.9 -1.5,-2.2 -.1,-1.1 2.2,-2.7 0,-.9 1.1,.8 .6,-1 -.7,-1.7 4.6,-.5 .2,1.2 1.1,.2 .4,-.9 -.6,-1.3 .3,-.8 1.3,.8 1.7,-.4 1.7,.6 3.4,2.1 1.8,-2.8 3.5,-2.2 3,3.3 1.6,-2.1 .3,-2.7 3.8,-2.3 .2,1.3 1.9,1.2 3,-.2 1.2,-.7 .1,-3.4 2.5,-3.7 4.6,-4.4 -.1,-1.7 1.2,-3.8 2.2,1 6.7,-4.5 -.4,-1.7 -1.5,-2.1 1,-1.9 1.3,.5 2.2,.1 1.9,-.8 2.9,1.2 2.2,3.4 v 1 l 4.1,.7 2.3,-.2 1.9,2.1 2.2,.2 v -1 l 1.9,-.8 3,.8 1.2,.8 1.3,-.7 h .9 l .6,-1.7 3.4,-1.8 .5,.8 .8,2.9 3.5,1.4 1.2,2.1 -.1,1.1 .6,1 -.6,3.6 1.9,1.6 .8,1.1 1,.6 -.1,.9 4.4,5.6 h 1.4 l 1.5,1.8 1.2,.3 1.4,-.1 -4.9,6.6 -2.9,1 -3,3 -.4,2.2 -2.1,1.3 -.1,1.7 -1.4,1.4 -1.8,.5 -.5,1.9 -1,.4 -6.9,4.2 z m -98,11.3 -.7,-.7 .2,-1 h 1.1 l .7,.7 -.3,1 z'>\\r\\n<title>Kentucky</title></path>\\r\\n\\r\\n<path class='la' d='m 602.5,472.8 -1.2,-1.8 .3,-1.3 -4.8,-6.8 .9,-4.6 1,-1.4 .1,-1.4 -36,2 1.7,-11.9 2.4,-4.8 6,-8.4 -1.8,-2.5 h 2 v -3.3 l -2.4,-2.5 .5,-1.7 -1.2,-1 -1.6,-7.1 .6,-1.4 -52.3,1.3 .5,19.9 .7,3.4 2.6,2.8 .7,5.4 3.8,4.6 .8,4.3 h 1 l -.1,7.3 -3.3,6.4 1.3,2.3 -1.3,1.5 .7,3 -.1,4.3 -2.2,3.5 -.1,.8 -1.7,1.2 1,1.8 1.2,1.1 1.6,-1.3 5.3,-.9 6.1,-.1 9.6,3.8 8,1 1.5,-1.4 1.8,-.2 4.8,2.2 1.6,-.4 1.1,-1.5 -4.2,-1.8 -2.2,1 -1.1,-.2 -1.4,-2 3.3,-2.2 1.6,-.1 v 1.7 l 1.5,-.1 3.4,-.3 .4,2.3 1.1,.4 .6,1.9 4.8,1 1.7,1.6 v .7 h -1.2 l -1.5,1.7 1.7,1.2 5.4,1 2.7,2.8 4.4,-1 -3.7,.2 -.1,-.6 2.8,-.7 .2,-1.8 1.2,-.3 v -1.4 l 1.1,.1 v 1.6 l 2.5,.1 .8,-1.9 .9,.3 .2,2.5 1.2,.2 -1.8,2 2.6,-.9 2,-1.1 2.9,-3.3 h -.7 l -1.3,1.2 -.4,-.1 -.5,-.8 .9,-1.2 v -2.3 l 1.1,-.8 .7,.7 1,-.8 1,-.1 .6,1.3 -.6,1.9 h 2.4 l 5.1,1.7 .5,1.3 1.6,1.4 2.8,.1 1.3,.7 1.8,-1 .9,-1.7 v -1.7 h -1.4 l -1.2,-1.4 -1.1,-1.1 -3.2,-.9 -2.6,.2 -4.2,-2.4 v -2.3 l 1.3,-1 2.4,.6 -3.1,-1.6 .2,-.8 h 3.6 l 2.6,-3.5 -2.6,-1.8 .8,-1.5 -1.2,-.8 h -.8 l -2,2.1 v 2.1 l -.6,.7 -1.1,-.1 -1.6,-1.4 h -1.3 v -1.5 l .6,-.7 .8,.7 1.7,-1.6 .7,-1.6 .8,-.3 z m -10.3,-2.7 1.9,1 .8,1.1 2.5,.1 1.5,.8 .2,1.4 -.4,.6 -.9,-1.5 -1.4,1.2 -.9,1.4 -2.8,.8 -1.6,.1 -3.7,-1 .1,-1.7 2,-2 1.1,-2.4 z m -4.7,1.2 v 1.1 l -1.8,2 h -1.2 v -2.2 l 1.6,-1.5 z'>\\r\\n<title>Louisiana</title></path>\\r\\n\\r\\n<path class='me' d='m 875,128.7 .6,4 3.2,2 .8,2.2 2.3,1.4 1.4,-.3 1,-3 -.8,-2.9 1.6,-.9 .5,-2.8 -.6,-1.3 3.3,-1.9 -2.2,-2.3 .9,-2.4 1.4,-2.2 .5,3.2 1.6,-2 1.3,.9 1.2,-.8 v -1.7 l 3.2,-1.3 .3,-2.9 2.5,-.2 2.7,-3.7 v -.7 l -.9,-.5 -.1,-3.3 .6,-1.1 .2,1.6 1,-.5 -.2,-3.2 -.9,.3 -.1,1.2 -1.2,-1.4 .9,-1.4 .6,.1 1.1,-.4 .5,2.8 2,-.3 2.9,.7 v -1 l -1.1,-1.2 1.3,.1 .1,-2.3 .6,.8 .3,1.9 2.1,1.5 .2,-1 .9,-.2 -.3,-.8 .8,-.6 -.1,-1.6 -1.6,-.2 -2,.7 1.4,-1.6 .7,-.8 1.3,-.2 .4,1.3 1.7,1.6 .4,-2.1 2.3,-1.2 -.9,-1.3 .1,-1.7 1.1,.5 h .7 l 1.7,-1.4 .4,-2.3 2.2,.3 .1,-.7 .2,-1.6 .5,1.4 1.5,-1 2.3,-4.1 -.1,-2.2 -1.4,-2 -3,-3.2 h -1.9 l -.8,2.2 -2.9,-3 .3,-.8 v -1.5 l -1.6,-4.5 -.8,-.2 -.7,.4 h -4.8 l -.3,-3.6 -8.1,-26 -7.3,-3.7 -2.9,-.1 -6.7,6.6 -2.7,-1 -1,-3.9 h -2.7 l -6.9,19.5 .7,6.2 -1.7,2.4 -.4,4.6 1.3,3.7 .8,.2 v 1.6 l -1.6,4.5 -1.5,1.4 -1.3,2.2 -.4,7.8 -2.4,-1 -1.5,.4 z m 34.6,-24.7 -1,.8 v 1.3 l .7,-.8 .9,.8 .4,-.5 1.1,.2 -1,-.8 .4,-.8 z m -1.7,2.6 -1,1.1 .5,.4 -.1,1 h 1.1 v -1.8 z m -3,-1.6 .9,1.3 1,.5 .3,-1 v -1.8 l -1.3,-.7 -.4,1.2 z m -1,5 -1.7,-1.7 1.6,-2.4 .8,.3 .2,1.1 1,.8 v 1.1 l -1,1 z'>\\r\\n<title>Maine</title></path>\\r\\n\\r\\n<path class='md' d='m 822.9,269.3 0,-1.7 h -.8 l 0,1.8 z m 11.8,-3.9 1.2,-2.2 .1,-2.5 -.6,-.6 -.7,.9 -.2,2.1 -.8,1.4 -.3,1.1 -4.6,1.6 -.7,.8 -1.3,.2 -.4,.9 -1.3,.6 -.3,-2.5 .4,-.7 -.8,-.5 .2,-1.5 -1.6,1 v -2 l 1.2,-.3 -1.9,-.4 -.7,-.8 .4,-1.3 -.8,-.6 -.7,1.6 .5,.8 -.7,.6 -1.1,.5 -2,-1 -.2,-1.2 -1,-1.1 -1.4,-1.7 1.5,-.8 -1,-.6 v -.9 l .6,-1 1.7,-.3 -1.4,-.6 -.1,-.7 -1.3,-.1 -.4,1.1 -.6,.3 .1,-3.4 1,-1 .8,.7 .1,-1.6 -1,-.9 -.9,1.1 -1,1.4 -.6,-1 .2,-2.4 .9,-1 .9,.9 1.2,-.7 -.4,-1.7 -1,1 -.9,-2.1 -.2,-1.7 1.1,-2.4 1.1,-1.4 1.4,-.2 -.5,-.8 .5,-.6 -.3,-.7 .2,-2.1 -1.5,.4 -.8,1.1 1,1.3 -2.6,3.6 -.9,-.4 -.7,.9 -.6,2.2 -1.8,.5 1.3,.6 1.3,1.3 -.2,.7 .9,1.2 -1.1,1 .5,.3 -.5,1.3 v 2.1 l -.5,1.3 .9,1.1 .7,3.4 1.3,1.4 1.6,1.4 .4,2.8 1.6,2 .4,1.4 v 1 h -.7 l -1.5,-1.2 -.4,.2 -1.2,-.2 -1.7,-1.4 -1.4,-.3 -1,.5 -1.2,-.3 -.4,.2 -1.7,-.8 -1,-1 -1,-1.3 -.6,-.2 -.8,.7 -1.6,1.3 -1.1,-.8 -.4,-2.3 .8,-2.1 -.3,-.5 .3,-.4 -.7,-1 1,-.1 1,-.9 .4,-1.8 1.7,-2.6 -2.6,-1.8 -1,1.7 -.6,-.6 h -1 l -.6,-.1 -.4,-.4 .1,-.5 -1.7,-.6 -.8,.3 -1.2,-.1 -.7,-.7 -.5,-.2 -.2,-.7 .6,-.8 v -.9 l -1.2,-.2 -1,-.9 -.9,.1 -1.6,-.3 -.9,-.4 .2,-1.6 -1,-.5 -.2,-.7 h -.7 l -.8,-1.2 .2,-1 -2.6,.4 -2.2,-1.6 -1.4,.3 -.9,1.4 h -1.3 l -1.7,2.9 -3.3,.4 -1.9,-1 -2.6,3.8 -2.2,-.3 -3.1,3.9 -.9,1.6 -1.8,1.6 -1.7,-11.4 60.5,-11.8 7.6,27.1 10.9,-2.3 0,5.3 -.1,3.1 -1,1.8 z m -13.4,-1.8 -1.3,.9 .8,1.8 1.7,.8 -.4,-1.6 z'>\\r\\n<title>Maryland</title></path>\\r\\n\\r\\n<path class='ma' d='m 899.9,174.2 h 3.4 l .9,-.6 .1,-1.3 -1.9,-1.8 .4,1 -1.5,1.5 h -2.3 l .1,.8 z m -9,1.8 -1.2,-.6 1,-.8 .6,-2.1 1.2,-1 .8,-.2 .6,.9 1.1,.2 .6,-.6 .5,1.9 -1.3,.3 -2.8,.7 z m -34.9,-23.4 18.4,-3.8 1,-1.5 .3,-1.7 1.9,-.6 .5,-1.1 1.7,-1.1 1.3,.3 1.7,3.3 1,.4 1.1,-1.3 .8,1.3 v 1.1 l -3,2.4 .2,.8 -.9,1 .4,.8 -1.3,.3 .9,1.2 -.8,.7 .6,1 .9,-.2 .3,-.8 1.1,.6 h 1.8 l 2.5,2.6 .2,2.6 1.8,.1 .8,1.1 .6,2 1,.7 h 1.9 l 1.9,-.1 .8,-.9 1.6,-1.2 1.1,-.3 -1.2,-2.1 -.3,.9 -1.5,-3.6 h -.8 l -.4,.9 -1.2,-1 1.3,-1.1 1.8,.4 2.3,2.1 1.3,2.7 1.2,3.3 -1,2.8 v -1.8 l -.7,-1 -3.5,2.3 -.9,-.3 -1.6,1 -.1,1.2 -2.2,1.2 -2,2.1 -2,1.9 h -1.2 l 3.3,-3.3 .5,-1.9 -.5,-.6 -.3,-1.3 -.9,-.1 -.1,1.3 -1,1.2 h -1.2 l -.3,1.1 .4,1.2 -1.2,1.1 -1.1,-.2 -.4,1 -1.4,-3 -1.3,-1.1 -2.6,-1.3 -.6,-2.2 h -.8 l -.7,-2.6 -6.5,2 -.1,-.3 -14.9,3.4 v .7 l -.9,.3 -.5,-.7 -10.5,2.4 -.7,-1 .5,-15 z'>\\r\\n<title>Massachusetts</title></path>\\r\\n\\r\\n<path class='mi' d='m 663.3,209.8 .1,1.4 21.4,-3.5 .5,-1.2 3.9,-5.9 v -4.3 l .8,-2.1 2.2,-.8 2,-7.8 1,-.5 1,.6 -.2,.6 -1.1,.8 .3,.9 .8,.4 1.9,-1.4 .4,-9.8 -1.6,-2.3 -1.2,-3.7 v -2.5 l -2.3,-4.4 v -1.8 l -1.2,-3.3 -2.3,-3 -2.9,-1 -4.8,3 -2.5,4.6 -.2,.9 -3,3.5 -1.5,-.2 -2.9,-2.8 -.1,-3.4 1.5,-1.9 2,-.2 1.2,-1.7 .2,-4 .8,-.8 1.1,-.1 .9,-1.7 -.2,-9.6 -.3,-1.3 -1.2,-1.2 -1.7,-1 -.1,-1.8 .7,-.6 1.8,.8 -.3,-1.7 -1.9,-2.7 -.7,-1.6 -1.1,-1.1 h -2.2 l -8.1,-2.9 -1.4,-1.7 -3.1,-.3 -1.2,.3 -4.4,-2.3 h -1.4 l .5,1 -2.7,-.1 .1,.6 .6,.6 -2.5,2.1 .1,1.8 1.5,2.3 1.5,.2 v .6 l -1.5,.5 -2.1,-.1 -2.8,2.5 .1,2.5 .4,5.8 -2.2,3.4 .8,-4.5 -.8,-.6 -.9,5.3 -1,-2.3 .5,-2.3 -.5,-1 .6,-1.3 -.6,-1.1 1,-1 v -1.2 l -1.3,.6 -1.3,3.1 -.7,.7 -1.3,2.4 -1.7,-.2 -.1,1.2 h -1.6 l .2,1.5 .2,2 -3,1.2 .1,1.3 1,1.7 -.1,5.2 -1.3,4.4 -1.7,2.5 1.2,1.4 .8,3.5 -1,2.5 -.2,2.1 1.7,3.4 2.5,4.9 1.2,1.9 1.6,6.9 -.1,8.8 -.9,3.9 -2,3.2 -.9,3.7 -2,3 -1.2,1 z m -95.8,-96.8 3,3.8 17,3.8 1.4,1 4,.8 .7,.5 2.8,-.2 4.9,.8 1.4,1.5 -1,1 .8,.8 3.8,.7 1.2,1.2 .1,4.4 -1.3,2.8 2,.1 1,-.8 .9,.8 -1.1,3.1 1,1.6 1.2,.3 .8,-1.8 2.9,-4.6 1.6,-6 2.3,-2 -.5,-1.6 .5,-.9 1,1.6 -.3,2.2 2.9,-2.2 .2,-2.3 2.1,.6 .8,-1.6 .7,.6 -.7,1.5 -1,.5 -1,2 1.4,1.8 1.1,-.5 -.5,-.7 1,-1.5 1.9,-1.7 h .8 l .2,-2.6 2,-1.8 7.9,-.5 1.9,-3.1 3.8,-.3 3.8,1.2 4.2,2.7 .7,-.2 -.2,-3.5 .7,-.2 4.5,1.1 1.5,-.2 2.9,-.7 1.7,.4 1.8,.1 v -1.1 l -.7,-.9 -1.5,-.2 -1.1,-.8 .5,-1.4 -.8,-.3 -2.6,.1 -.1,-1 1.1,-.8 .6,.8 .5,-1.8 -.7,-.7 .7,-.2 -1.4,-1.3 .3,-1.3 .1,-1.9 h -1.3 l -1.5,1 -1.9,.1 -.5,1.8 -1.9,.2 -.3,-1.2 -2.2,.1 -1,1.2 -.7,-.1 -.2,-.8 -2.6,.4 -.1,-4.8 1,-2 -.7,-.1 -1.8,1.1 h -2.2 l -3.8,2.7 -6.2,.3 -4.1,.8 -1.9,1.5 -1.4,1.3 -2.5,1.7 -.3,.8 -.6,-1.7 -1.3,-.6 v .6 l .7,.7 v 1.3 l -1.5,-.6 h -.6 l -.3,1.2 -2,-1.9 -1.3,-.2 -1.3,1.5 -3.2,-.1 -.5,-1.4 -2,-1.9 -1.3,-1.6 v -.7 l -1.1,-1.4 -2.6,-1.2 -3.3,-.1 -1.1,-.9 h -1.4 l -.7,.4 -2.2,2.2 -.7,1.1 -1,-.7 .2,-1 .8,-2.1 3.2,-5 .8,-.2 1.7,-1.9 .7,-1.6 3,-.6 .8,-.6 -.1,-1 -.5,-.5 -4.5,.2 -2,.5 -2.6,1.2 -1.2,1.2 -1.7,2.2 -1.8,1 -3.3,3.4 -.4,1.6 -7.4,4.6 -4,.5 -1.8,.4 -2.3,3 -1.8,.7 -4.4,2.3 z m 100.7,3.8 3.8,.1 .6,-.5 -.2,-2 -1.7,-1.8 -1.9,.1 -.1,.5 1.1,.4 -1.6,.8 -.3,1 -.6,-.6 -.4,.8 z m -75.1,-41.9 -2.3,.2 -2.7,1.9 -7.1,5.3 .8,1 1.8,.3 2.8,-2 -1.1,-.5 2.3,-1.6 h 1 l 3,-1.9 -.1,-.9 z m 41.1,62.8 v 1 l 2.1,1.6 -.2,-2.4 z m -.7,2.8 1.1,.1 v .9 h -1 z m 21.4,-21.3 v .9 l .8,-.2 v -.5 z m 4.7,3.1 -.1,-1.1 -1.6,-.2 -.6,-.4 h -.9 l -.4,.3 .9,.4 1.1,1.1 z m -18,1.2 -.1,1.1 -.3,.7 .2,2.2 .4,.3 .7,.1 .5,-.9 .1,-1.6 -.3,-.6 -.1,-1.1 z'>\\r\\n<title>Michigan</title></path>\\r\\n\\r\\n<path class='mn' d='m 464.7,68.6 -1.1,2.8 .8,1.4 -.3,5.1 -.5,1.1 2.7,9.1 1.3,2.5 .7,14 1,2.7 -.4,5.8 2.9,7.4 .3,5.8 -.1,2.1 -.1,2.2 -.9,2 -3.1,1.9 -.3,1.2 1.7,2.5 .4,1.8 2.6,.6 1.5,1.9 -.2,39.5 h 28.2 l 36.3,-.9 18.6,-.7 -1.1,-4.5 -.2,-3 -2.2,-3 -2.8,-.7 -5.2,-3.6 -.6,-3.3 -6.3,-3.1 -.2,-1.3 h -3.3 l -2.2,-2.6 -2,-1.3 .7,-5.1 -.9,-1.6 .5,-5.4 1,-1.8 -.3,-2.7 -1.2,-1.3 -1.8,-.3 v -1.7 l 2.8,-5.8 5.9,-3.9 -.4,-13 .9,.4 .6,-.5 .1,-1.1 .9,-.6 1.4,1.2 .7,-.1 v 0 l -1.2,-2.2 4.3,-3.1 3.1,-3.7 1.6,-.8 4.7,-5.9 6.3,-5.8 3.9,-2.1 6.3,-2.7 7.6,-4.5 -.6,-.4 -3.7,.7 -2.8,.1 -1,-1.6 -1.4,-.9 -9.8,1.2 -1,-2.8 -1.6,-.1 -1.7,.8 -3.7,3.1 h -4.1 l -2.1,-1 -.3,-1.7 -3.9,-.8 -.6,-1.6 -.7,-1.3 -1,.9 -2.6,.1 -9.9,-5.5 h -2.9 l -.8,-.7 -3.1,1.3 -.8,1.3 -3.3,.8 -1.3,-.2 v -1.7 l -.7,-.9 h -5.9 l -.4,-1.4 h -2.6 l -1.1,.4 -2.4,-1.7 .3,-1.4 -.6,-2.4 -.7,-1.1 -.2,-3 -1,-3.1 -2.1,-1.6 h -2.9 l .1,8 -30.9,-.4 z'>\\r\\n<title>Minnesota</title></path>\\r\\n\\r\\n<path class='ms' d='m 623.8,468.6 -5,.1 -2.4,-1.5 -7.9,2.5 -.9,-.7 -.5,.2 -.1,1.6 -.6,.1 -2.6,2.7 -.7,-.1 -.6,-.7 -1.2,-1.8 .3,-1.3 -4.8,-6.8 .9,-4.6 1,-1.4 .1,-1.4 -36,2 1.7,-11.9 2.4,-4.8 6,-8.4 -1.8,-2.5 h 2 v -3.3 l -2.4,-2.5 .5,-1.7 -1.2,-1 -1.6,-7.1 .6,-1.4 1.2,-1.5 .5,-3 -1.5,-2.3 -.5,-2.2 .9,-.7 v -.8 l -1.7,-1.1 -.1,-.7 1.6,-.9 -1.2,-1.1 1.7,-7.1 3.4,-1.6 v -.8 l -1.1,-1.4 2.9,-5.4 h 1.9 l 1.5,-1.2 -.3,-5.2 3.1,-4.5 1.8,-.6 -.5,-3.1 38.3,-2.6 1.3,2 -1.3,67 4.4,33.2 z'>\\r\\n<title>Mississippi</title></path>\\r\\n\\r\\n<path class='mo' d='m 555.3,248.9 -1.1,-1.1 -.6,-1.6 -1.7,-1.3 -14.3,.8 -27.2,1.2 -25.9,-.1 1.3,1.3 -.3,1.4 2.1,3.7 3.9,6.3 2.9,3 2,.6 .9,-1 1.5,2.1 -.1,1.2 -2.7,2.6 -.5,2.3 2.5,2.5 2.6,4.7 3.2,.7 .5,48.1 .2,10.8 39.1,-.7 39.8,-2 1.6,2.5 v 2.2 l -1.7,1.5 -2.8,5.1 11.2,-.8 1,-2 1.2,-.5 v -.7 l -1.2,-1.1 -.6,-1 1.7,.2 .8,-.7 -1.4,-1.5 1.4,-.5 .1,-1 -.6,-1 v -1.3 l -.7,-.7 .2,-1 h 1.1 l .7,.7 -.3,1 .8,.7 .8,-1 1,-2.7 1.4,.9 .7,-.4 1.2,-4.1 -1,-1 1,-2 .2,-.9 -1.3,-.8 h -2.8 l -1.4,-1.5 -1.8,-3.8 v -1.9 l .8,-.6 .1,-1.3 -1.7,-1.9 -.9,-2.5 -2.7,-4.1 -4.8,-1.3 -7.4,-7.1 -.4,-2.4 2.8,-7.6 -.4,-1.9 1.2,-1.1 v -1.3 l -2.8,-1.5 -3,-.7 -3.4,1.2 -1.3,-2.3 .6,-1.9 -.7,-2.4 -8.6,-8.4 -2.2,-1.5 -2.5,-5.9 -1.2,-5.4 1.4,-3.7 z'>\\r\\n<title>Missouri</title></path>\\r\\n\\r\\n<path class='mt' d='m 247,130.5 57.3,7.9 51,5.3 2,-20.7 5.2,-66.7 -53.5,-5.6 -54.3,-7.7 -65.9,-12.5 -4.8,22 3.7,7.4 -1.6,4.8 3.6,4.8 1.9,.7 3.9,8.3 v 2.1 l 2.3,3 h .9 l 1.4,2.1 h 3.2 v 1.6 l -7.1,17 -.5,4.1 1.4,.5 1.6,2.6 2.8,-1.4 3.6,-2.4 1.9,1.9 .5,2.5 -.5,3.2 2.5,9.7 2.6,3.5 2.3,1.4 .4,3 v 4.1 l 2.3,2.3 1.6,-2.3 6.9,1.6 2.1,-1.2 9,1.7 2.8,-3.3 1.8,-.6 1.2,1.8 1.6,4.1 .9,.1 z'>\\r\\n<title>Montana</title></path>\\r\\n\\r\\n<path class='ne' d='m 402.5,191.1 38,1.6 3.4,3.2 1.7,.2 2.1,2 1.8,-.1 1.8,-2 1.5,.6 1,-.7 .7,.5 .9,-.4 .7,.4 .9,-.4 1,.5 1.4,-.6 2,.6 .6,1.1 6.1,2.2 1.2,1.3 .9,2.6 1.8,.7 1.5,-.2 .5,.9 v 2.3 l .6,1.7 v 1.4 l 1.3,3.7 2.2,4.3 .2,3.7 2.8,5 .4,6.1 1.3,.7 -.2,2.9 .8,3.3 -.7,2.2 1.8,4.4 1.3,1.3 -.3,1.4 2.1,3.7 3.9,6.3 h -32.4 l -43.7,-1.2 -36,-2 1.4,-22.1 -33.1,-2.4 3.7,-44.2 z'>\\r\\n<title>Nebraska</title></path>\\r\\n\\r\\n<path class='nv' d='m 167.6,296.8 -3.4,17.5 -2.4,2.9 h -2 l -1.2,-2.7 -3.7,-1.4 -3.5,.6 -1,13.6 .5,4.9 -.5,2.9 -1.4,3 -70.4,-105 -1.1,-3.5 16.4,-63.1 47,11.2 24.4,5.4 23.3,4.7 z'>\\r\\n<title>Nevada</title></path>\\r\\n\\r\\n<path class='nh' d='m 862.6,93.6 -1.3,.1 -1,-1.1 -1.9,1.4 -.5,6.1 1.2,2.3 -1.1,3.5 2.1,2.8 -.4,1.7 .1,1.3 -1.1,2.1 -1.4,.4 -.6,1.3 -2.1,1 -.7,1.5 1.4,3.4 -.5,2.5 .5,1.5 -1,1.9 .4,1.9 -1.3,1.9 .2,2.2 -.7,1.1 .7,4.5 .7,1.5 -.5,2.6 .9,1.8 -.2,2.5 -.5,1.3 -.1,1.4 2.1,2.6 18.4,-3.8 1,-1.5 .3,-1.7 1.9,-.6 .5,-1.1 1.7,-1.1 1.3,.3 .8,-4.8 -2.3,-1.4 -.8,-2.2 -3.2,-2 -.6,-4 -11.9,-36.8 z'>\\r\\n<title>New Hampshire</title></path>\\r\\n\\r\\n<path class='nj' d='m 842.5,195.4 -14.6,-4.9 -1.8,2.5 .1,2.2 -3,5.4 1.5,1.8 -.7,2 -1,1 .5,3.6 2.7,.9 1,2.8 2.1,1.1 4.2,3.2 -3.3,2.6 -1.6,2.3 -1.8,3 -1.6,.6 -1.4,1.7 -1,2.2 -.3,2.1 .8,.9 .4,2.3 1.2,.6 2.4,1.5 1.8,.8 1.6,.8 .1,1.1 .8,.1 1.1,-1.2 .8,.4 2.1,.2 -.2,2.9 .2,2.5 1.8,-.7 1.5,-3.9 1.6,-4.8 2.9,-2.8 .6,-3.5 -.6,-1.2 1.7,-2.9 v -1.2 l -.7,-1.1 1.2,-2.7 -.3,-3.6 -.6,-8.2 -1.2,-1.4 v 1.4 l .5,.6 h -1.1 l -.6,-.4 -1.3,-.2 -.9,.6 -1.2,-1.6 .7,-1.7 v -1 l 1.7,-.7 .8,-2.1 z'>\\r\\n<title>New Jersey</title></path>\\r\\n\\r\\n<path class='nm' d='m 357.5,332.9 h -.8 l -7.9,99.3 -31.8,-2.6 -34.4,-3.6 -.3,3 2,2.2 -30.8,-4.1 -1.4,10.2 -15.7,-2.2 17.4,-124.1 52.6,6.5 51.7,4.8 z'>\\r\\n<title>New Mexico</title></path>\\r\\n\\r\\n<path class='ny' d='m 872.9,181.6 -1.3,.1 -.5,1 z m -30.6,22.7 .7,.6 1.3,-.3 1.1,.3 .9,-1.3 h 1.9 l 2.4,-.9 5.1,-2.1 -.5,-.5 -1.9,.8 -2,.9 .2,-.8 2.6,-1.1 .8,-1 1.2,.1 4.1,-2.3 v .7 l -4.2,3 4.5,-2.8 1.7,-2.2 1.5,-.1 4.5,-3.1 3.2,-3.1 3,-2.3 1,-1.2 -1.7,-.1 -1,1.2 -.2,.7 -.9,.7 -.8,-1.1 -1.7,1 -.1,.9 -.9,-.2 .5,-.9 -1.2,-.7 -.6,.9 .9,.3 .2,.5 -.3,.5 -1.4,2.6 h -1.9 l .9,-1.8 .9,-.6 .3,-1.7 1.4,-1.6 .9,-.8 1.5,-.7 -1.2,-.2 -.7,.9 h -.7 l -1.1,.8 -.2,1 -2.2,2.1 -.4,.9 -1.4,.9 -7.7,1.9 .2,.9 -.9,.7 -2,.3 -1,-.6 -.2,1.1 -1.1,-.4 .1,1 -1.2,-.1 -1.2,.5 -.2,1.1 h -1 l .2,1 h -.7 l .2,1 -1.8,.4 -1.5,2.3 z m -.8,-.4 -1.6,.4 v 1 l -.7,1.6 .6,.7 2.4,-2.3 -.1,-.9 z m -10.1,-95.2 -.6,1.9 1.4,.9 -.4,1.5 .5,3.2 2.2,2.3 -.4,2.2 .6,2 -.4,1 -.3,3.8 3.1,6.7 -.8,1.8 .9,2.2 .9,-1.6 1.9,1.5 3,14.2 -.5,2 1.1,1 -.5,15 .7,1 2.8,16.3 1.8,1.5 -3.5,3.4 1.7,2.2 -1.3,3.3 -1.5,1.7 -1.5,2.3 -.2,-.7 .4,-5.9 -14.6,-4.9 -1.6,-1.1 -1.9,.3 -3,-2.2 -3,-5.8 h -2 l -.4,-1.5 -1.7,-1.1 -70.5,13.9 -.8,-6 4.3,-3.9 .6,-1.7 3.9,-2.5 .6,-2.4 2.3,-2 .8,-1.1 -1.7,-3.3 -1.7,-.5 -1.8,-3 -.2,-3.2 7.6,-3.9 8.2,-1.6 h 4.4 l 3.2,1.6 .9,-.1 1.8,-1.6 3.4,-.7 h 3 l 2.6,-1.3 2.5,-2.6 2.4,-3.1 1.9,-.4 1.1,-.5 .4,-3.2 -1.4,-2.7 -1.2,-.7 2,-1.3 -.1,-1.8 h -1.5 l -2.3,-1.4 -.1,-3.1 6.2,-6.1 .7,-2.4 3.7,-6.3 5.9,-6.4 2.1,-1.7 2.5,.1 20.6,-5.2 z'>\\r\\n<title>New York</title></path>\\r\\n\\r\\n<path class='nc' d='m 829,300.1 -29.1,6.1 -39.4,7.3 -29.4,3.5 v 5.2 l -1.5,-.1 -1.4,1.2 -2.4,5.2 -2.6,-1.1 -3.5,2.5 -.7,2.1 -1.5,1.2 -.8,-.8 -.1,-1.5 -.8,-.2 -4,3.3 -.6,3.4 -4.7,2.4 -.5,1.2 -3.2,2.6 -3.6,.5 -4.6,3 -.8,4.1 -1.3,.9 -1.5,-.1 -1.4,1.3 -.1,4.9 21.4,-3 4.4,-1.9 1.3,-.1 7.3,-4.3 23.2,-2.2 .4,.5 -.2,1.4 .7,.3 1.2,-1.5 3.3,3 .1,2.6 19.7,-2.8 24.5,17.1 4,-2.2 3,-.7 h 1.7 l 1.1,1.1 .8,-2 .6,-5 1.7,-3.9 5.4,-6.1 4.1,-3.5 5.4,-2.3 2.5,-.4 1.3,.4 .7,1.1 3.3,-6.6 3.3,-5.3 -.7,-.3 -4.4,6.8 -.5,-.8 2,-2.2 -.4,-1.5 -2,-.5 1,1.3 -1.2,.1 -1.2,-1.8 -1.2,2 -1.6,.2 1,-2.7 .7,-1.7 -.2,-2.9 -2.2,-.1 .9,-.9 1.1,.3 2.7,.1 .8,-.5 h 2.3 l 2,-1.9 .2,-3.2 1.3,-1.4 1.2,-.2 1.3,-1 -.5,-3.7 -2.2,-3.8 -2.7,-.2 -.9,1.6 -.5,-1 -2.7,.2 -1.2,.4 -1.9,1.2 -.3,-.4 h -.9 l -1.8,1.2 -2.6,.5 v -1.3 l .8,-1 1,.7 h 1 l 1.7,-2.1 3.7,-1.7 2,-2.2 h 2.4 l .8,1.3 1.7,.8 -.5,-1.5 -.3,-1.6 -2.8,-3.1 -.3,-1.4 -.4,1 -.9,-1.3 z m 7,31 2.7,-2.5 4.6,-3.3 v -3.7 l -.4,-3.1 -1.7,-4.2 1.5,1.4 1,3.2 .4,7.6 -1.7,.4 -3.1,2.4 -3.2,3.2 z m 1.9,-19.3 -.9,-.2 v 1 l 2.5,2.2 -.2,-1.4 z m 2.9,2.1 -1.4,-2.8 -2.2,-3.4 -2.4,-3 -2.2,-4.3 -.8,-.7 2.2,4.3 .3,1.3 3.4,5.5 1.8,2.1 z'>\\r\\n<title>North Carolina</title></path>\\r\\n\\r\\n<path class='nd' d='m 464.7,68.6 -1.1,2.8 .8,1.4 -.3,5.1 -.5,1.1 2.7,9.1 1.3,2.5 .7,14 1,2.7 -.4,5.8 2.9,7.4 .3,5.8 -.1,2.1 -29.5,-.4 -46,-2.1 -39.2,-2.9 5.2,-66.7 44.5,3.4 55.3,1.6 z'>\\r\\n<title>North Dakota</title></path>\\r\\n\\r\\n<path class='oh' d='m 685.7,208.8 1.9,-.4 3,1.3 2.1,.6 .7,.9 h 1 l 1,-1.5 1.3,.8 h 1.5 l -.1,1 -3.1,.5 -2,1.1 1.9,.8 1.6,-1.5 2.4,-.4 2.2,1.5 1.5,-.1 2.5,-1.7 3.6,-2.1 5.2,-.3 4.9,-5.9 3.8,-3.1 9.3,-5.1 4.9,29.9 -2.2,1.2 1.4,2.1 -.1,2.2 .6,2 -1.1,3.4 -.1,5.4 -1,3.6 .5,1.1 -.4,2.2 -1.1,.5 -2,3.3 -1.8,2 h -.6 l -1.8,1.7 -1.3,-1.2 -1.5,1.8 -.3,1.2 h -1.3 l -1.3,2.2 .1,2.1 -1,.5 1.4,1.1 v 1.9 l -1,.2 -.7,.8 -1,.5 -.6,-2.1 -1.6,-.5 -1,2.3 -.3,2.2 -1.1,1.3 1.3,3.6 -1.5,.8 -.4,3.5 h -1.5 l -3.2,1.4 -1.2,-2.1 -3.5,-1.4 -.8,-2.9 -.5,-.8 -3.4,1.8 -.6,1.7 h -.9 l -1.3,.7 -1.2,-.8 -3,-.8 -1.9,.8 v 1 l -2.2,-.2 -1.9,-2.1 -2.3,.2 -4.1,-.7 v -1 l -2.2,-3.4 -2.9,-1.2 -1.9,.8 -2.2,-.1 -1.3,-.5 -6.6,-57.2 21.4,-3.5 z'>\\r\\n<title>Ohio</title></path>\\r\\n\\r\\n<path class='ok' d='m 501.5,398.6 -4.6,-3.8 -2.2,-.9 -.5,1.6 -5.1,.3 -.6,-1.5 -5,2.5 -1.6,-.7 -3.7,.3 -.6,1.7 -3.6,.9 -1.3,-1.2 -1.2,.1 -2,-1.8 -2.1,.7 -2,-.5 -1.8,-2 -2.5,4.2 -1.2,.8 -1,-1.8 .3,-2 -1.2,-.7 -2.3,2.5 -1.7,-1.2 -.1,-1.5 -1.3,.5 -2.6,-1.7 -3,2.6 -2.3,-1.1 .7,-2.1 -2.3,.1 -1.9,-3 -3.5,-1.1 -2,2.3 -2.3,-2.2 -1.4,.4 -2,.1 -3.5,-1.9 -2.3,.1 -1.2,-.7 -.5,-2.9 -2.3,-1.7 -1.1,1.5 -1.4,-1 -1.2,-.4 -1.1,1 -1.5,-.3 -2.5,-3 -2.7,-1.3 1.4,-42.7 -52.6,-3.2 .6,-10.6 16.5,1 67.7,2.9 62,.1 .2,10.8 4.1,24.4 -.7,39 z'>\\r\\n<title>Oklahoma</title></path>\\r\\n\\r\\n<path class='or' d='m 93.9,166.5 47,11.2 8.5,-37.3 2.9,-5.8 .4,-2.1 .8,-.9 -.9,-2 -2.9,-1.2 .2,-4.2 4,-5.8 2.5,-.8 1.6,-2.3 -.1,-1.6 1.8,-1.6 3.2,-5.5 4.2,-4.8 -.5,-3.2 -3.5,-3.1 -1.6,-3.6 -30.3,-7.3 -2.8,1 -5.4,-.9 -1.8,-.9 -1.5,1.2 -3.3,-.4 -4.5,.5 -.9,.7 -4.2,-.4 -.8,-1.6 -1.2,-.2 -4.4,1.3 -1.6,-1.1 -2.2,.8 -.2,-1.8 -2.3,-1.2 -1.5,-.2 -1,-1.1 -3,.3 -1.2,-.8 h -1.2 l -1.2,.9 -5.5,.7 -6.6,-4.2 1.1,-5.6 -.4,-4.1 -3.2,-3.7 -3.7,.1 -.4,-1.1 .4,-1.2 -.7,-.8 -1,.1 -1.1,1.3 -1.5,-.2 -.5,-1.1 -1,-.1 -.7,.6 -2,-1.9 v 4.3 l -1.3,1.3 -1.1,3.5 -.1,2.3 -4.5,12.3 -13.2,31.3 -3.2,4.6 -1.6,-.1 .1,2.1 -5.2,7.1 -.3,3.3 1,1.3 .1,2.4 -1.2,1.1 -1.2,3 .1,5.7 1.2,2.9 z'>\\r\\n<title>Oregon</title></path>\\r\\n\\r\\n<path class='pa' d='m 826.3,189.4 -1.9,.3 -3,-2.2 -3,-5.8 h -2 l -.4,-1.5 -1.7,-1.1 -70.5,13.9 -.8,-6 -4.2,3.4 -.9,.1 -2.7,3 -3.3,1.7 4.9,29.9 3.2,19.7 17.4,-2.9 60.5,-11.8 1.2,-2.1 1.5,-1.1 1.6,-.3 1.6,.6 1.4,-1.7 1.6,-.6 1.8,-3 1.6,-2.3 3.3,-2.6 -4.2,-3.2 -2.1,-1.1 -1,-2.8 -2.7,-.9 -.5,-3.6 1,-1 .7,-2 -1.5,-1.8 3,-5.4 -.1,-2.2 1.8,-2.5 z'>\\r\\n<title>Pennsylvania</title></path>\\r\\n\\r\\n<path class='ri' d='m 883.2,170.7 -1.3,-1.1 -2.6,-1.3 -.6,-2.2 h -.8 l -.7,-2.6 -6.5,2 3.2,12.3 -.4,1.1 .4,1.8 5.6,-3.6 .1,-3 -.8,-.8 .4,-.6 -.1,-1.3 -.9,-.7 1.2,-.4 -.9,-1.6 1.8,.7 .3,1.4 .7,1.2 -1.4,-.8 1.1,1.7 -.3,1.2 -.6,-1.1 v 2.5 l .6,-.9 .4,.9 1.3,-1.5 -.2,-2.5 1.4,3.1 1,-.9 z m -4.7,12.2 h .9 l .5,-.6 -.8,-1.3 -.7,.7 z'>\\r\\n<title>Rhode Island</title></path>\\r\\n\\r\\n<path class='sc' d='m 772.3,350.2 -19.7,2.8 -.1,-2.6 -3.3,-3 -1.2,1.5 -.7,-.3 .2,-1.4 -.4,-.5 -23.2,2.2 -7.3,4.3 -1.3,.1 -4.4,1.9 -.1,1.9 -1.9,1 -1.4,3.2 .2,1.3 6.1,3.8 2.6,-.3 3.1,4 .4,1.7 4.2,5.1 2.6,1.7 1.4,.2 2.2,1.6 1.1,2.2 2,1.6 1.8,.5 2.7,2.7 .1,1.4 2.6,2.8 5,2.3 3.6,6.7 .3,2.7 3.9,2.1 2.5,4.8 .8,3.1 4.2,.4 .8,-1.5 h .6 l 1.8,-1.5 .5,-2 3.2,-2.1 .3,-2.4 -1.2,-.9 .8,-.7 .8,.4 1.3,-.4 1.8,-2.1 3.8,-1.8 1.6,-2.4 .1,-.7 4.8,-4.4 -.1,-.5 -.9,-.8 1.1,-1.5 h .8 l .4,.5 .7,-.8 h 1.3 l .6,-1.5 2.3,-2.1 -.3,-5.4 .8,-2.3 3.6,-6.2 2.4,-2.2 2.2,-1.1 z'>\\r\\n<title>South Carolina</title></path>\\r\\n\\r\\n<path class='sd' d='m 396.5,125.9 46,2.1 29.5,.4 -.1,2.2 -.9,2 -3.1,1.9 -.3,1.2 1.7,2.5 .4,1.8 2.6,.6 1.5,1.9 -.2,39.5 -2.2,-.1 -.1,1.6 1.3,1.5 -.1,1.1 -1,.5 .4,1.6 1.3,.4 .7,2 -1.7,5.1 -1,4.3 1.3,1.2 .3,1.3 .7,1.7 -1.5,.2 -1.8,-.7 -.9,-2.6 -1.2,-1.3 -6.1,-2.2 -.6,-1.1 -2,-.6 -1.4,.6 -1,-.5 -.9,.4 -.7,-.4 -.9,.4 -.7,-.5 -1,.7 -1.5,-.6 -1.8,2 -1.8,.1 -2.1,-2 -1.7,-.2 -3.4,-3.2 -38,-1.6 -51.1,-3.5 3.9,-43.9 2,-20.7 z'>\\r\\n<title>South Dakota</title></path>\\r\\n\\r\\n<path class='tn' d='m 620.9,365.1 45.7,-4 22.9,-2.9 .1,-4.9 1.4,-1.3 1.5,.1 1.3,-.9 .8,-4.1 4.6,-3 3.6,-.5 3.2,-2.6 .5,-1.2 4.7,-2.4 .6,-3.4 4,-3.3 .8,.2 .1,1.5 .8,.8 1.5,-1.2 .7,-2.1 3.5,-2.5 2.6,1.1 2.4,-5.2 1.4,-1.2 1.5,.1 0,-5.2 .3,-.7 -4.6,.5 -.2,1 -28.9,3.3 -5.6,1.4 -20.5,1.4 -5.2,.8 -17.4,1 -2.6,.8 -22.6,2 -.7,-.6 h -3.7 l 1.2,3.2 -.6,.9 -23.3,1.5 -.8,1 -.8,-.7 h -1 v 1.3 l .6,1 -.1,1 -1.4,.5 1.4,1.5 -.8,.7 -1.7,-.2 .6,1 1.2,1.1 v .7 l -1.2,.5 -1,2 .1,.6 1.4,1 -.4,.7 h -1.5 v .5 l .9,.9 .1,.8 -1.4,.2 -.5,.8 -1.6,.2 -.9,.9 .6,.9 1.1,-.1 .5,.9 -1.6,1.3 .4,1.5 -2,-.6 -.1,.7 .4,1.1 -.3,1.4 -1.3,-.8 -.8,.8 1.1,.1 .1,1.5 -.6,1 1.1,.9 -.3,1.5 .8,.7 -.7,1 -1.2,-.5 -.9,2.2 -1.6,.7 z'>\\r\\n<title>Tennessee</title></path>\\r\\n\\r\\n<path class='tx' d='m 282.3,429 .3,-3 34.4,3.6 31.8,2.6 7.9,-99.3 .8,0 52.6,3.2 -1.4,42.7 2.7,1.3 2.5,3 1.5,.3 1.1,-1 1.2,.4 1.4,1 1.1,-1.5 2.3,1.7 .5,2.9 1.2,.7 2.3,-.1 3.5,1.9 2,-.1 1.4,-.4 2.3,2.2 2,-2.3 3.5,1.1 1.9,3 2.3,-.1 -.7,2.1 2.3,1.1 3,-2.6 2.6,1.7 1.3,-.5 .1,1.5 1.7,1.2 2.3,-2.5 1.2,.7 -.3,2 1,1.8 1.2,-.8 2.5,-4.2 1.8,2 2,.5 2.1,-.7 2,1.8 1.2,-.1 1.3,1.2 3.6,-.9 .6,-1.7 3.7,-.3 1.6,.7 5,-2.5 .6,1.5 5.1,-.3 .5,-1.6 2.2,.9 4.6,3.8 6.4,1.9 2.6,2.3 2.8,-1.3 3.2,.8 .2,11.9 .5,19.9 .7,3.4 2.6,2.8 .7,5.4 3.8,4.6 .8,4.3 h 1 l -.1,7.3 -3.3,6.4 1.3,2.3 -1.3,1.5 .7,3 -.1,4.3 -2.2,3.5 -.1,.8 -1.7,1.2 1,1.8 1.2,1.1 -3.5,.3 -8.4,3.9 -3.5,1.4 -1.8,1.8 -.7,-.5 2.1,-2.3 1.8,-.7 .5,-.9 -2.9,-.1 -.7,-.8 .8,-2 -.9,-1.8 h -.6 l -2.4,1.3 -1.9,2.6 .3,1.7 3.3,3.4 1.3,.3 v .8 l -2.3,1.6 -4.9,4 -4,3.9 -3.2,1.4 -5,3 -3.7,2 -4.5,1.9 -4.1,2.5 3.2,-3 v -1.1 l .6,-.8 -.2,-1.8 -1.5,-.1 -1.1,1.5 -2.6,1.3 -1.8,-1.2 -.3,-1.7 h -1.5 l .8,2.2 1.4,.7 1.2,.9 1.8,1.6 -.7,.8 -3.9,1.7 -1.7,.1 -1.2,-1.2 -.5,2.1 .5,1.1 -2.7,2 -1.5,.2 -.8,.7 -.4,1.7 -1.8,3.3 -1.6,.7 -1.6,-.6 -1.8,1.1 .3,1.4 1.3,.8 1,.8 -1.8,3.5 -.3,2.8 -1,1.7 -1.4,1 -2.9,.4 1.8,.6 1.9,-.6 -.4,3.2 -1.1,-.1 .2,1.2 .3,1.4 -1.3,.9 v 3.1 l 1.6,1.4 .6,3.1 -.4,2.2 -1,.4 .4,1.5 1.1,.4 .8,1.7 v 2.6 l 1.1,2.1 2.2,2.6 -.1,.7 -2.2,-.2 -1.6,1.4 .2,1.4 -.9,-.3 -1.4,-.2 -3.4,-3.7 -2.3,-.6 h -7.1 l -2.8,-.8 -3.6,-3 -1.7,-1 -2.1,.1 -3.2,-2.6 -5.4,-1.6 v -1.3 l -1.4,-1.8 -.9,-4.7 -1.1,-1.7 -1.7,-1.4 v -1.6 l -1.4,-.6 .6,-2.6 -.3,-2.2 -1.3,-1.4 .7,-3 -.8,-3.2 -1.7,-1.4 h -1.1 l -4,-3.5 .1,-1.9 -.8,-1.7 -.8,-.2 -.9,-2.4 -2,-1.6 -2.9,-2.5 -.2,-2.1 -1,-.7 .2,-1.6 .5,-.7 -1.4,-1.5 .1,-.7 -2,-2.2 .1,-2.1 -2.7,-4.9 -.1,-1.7 -1.8,-3.1 -5.1,-4.8 v -1.1 l -3.3,-1.7 -.1,-1.8 -1.2,-.4 v -.7 l -.8,-.2 -2.1,-2.8 h -.8 l -.7,-.6 -1.3,1.1 h -2.2 l -2.6,-1.1 h -4.6 l -4.2,-2.1 -1.3,1.9 -2.2,-.6 -3.3,1.2 -1.7,2.8 -2,3.2 -1.1,4.4 -1.4,1.2 -1.1,.1 -.9,1.6 -1.3,.6 -.1,1.8 -2.9,.1 -1.8,-1.5 h -1 l -2,-2.9 -3.6,-.5 -1.7,-2.3 -1.3,-.2 -2.1,-.8 -3.4,-3.4 .2,-.8 -1.6,-1.2 -1,-.1 -3.4,-3.1 -.1,-2 -2.3,-4 .2,-1.6 -.7,-1.3 .8,-1.5 -.1,-2.4 -2.6,-4.1 -.6,-4.2 -1.6,-1.6 v -1 l -1.2,-.2 -.7,-1.1 -2.4,-1.7 -.9,-.1 -1.9,-1.6 v -1.1 l -2.9,-1.8 -.6,-2.1 -2.6,-2.3 -3.2,-4.4 -3,-1.3 -2.1,-1.8 .2,-1.2 -1.3,-1.4 -1.7,-3.7 -2.4,-1 z m 174.9,138.3 .8,.1 -.6,-4.8 -3.5,-12.3 -.2,-8.1 4.9,-10.5 6.1,-8.2 7.2,-5.1 v -.7 h -.8 l -2.6,1 -3.6,2.3 -.7,1.5 -8.2,11.6 -2.8,7.9 v 8.8 l 3.6,12 z'>\\r\\n<title>Texas</title></path>\\r\\n\\r\\n<path class='ut' d='m 233.2,217.9 3.3,-21.9 -47.9,-8.2 -21,109 46.2,8.2 40,6 11.5,-88.3 z'>\\r\\n<title>Utah</title></path>\\r\\n\\r\\n<path class='vt' d='m 859.1,102.4 -1.1,3.5 2.1,2.8 -.4,1.7 .1,1.3 -1.1,2.1 -1.4,.4 -.6,1.3 -2.1,1 -.7,1.5 1.4,3.4 -.5,2.5 .5,1.5 -1,1.9 .4,1.9 -1.3,1.9 .2,2.2 -.7,1.1 .7,4.5 .7,1.5 -.5,2.6 .9,1.8 -.2,2.5 -.5,1.3 -.1,1.4 2.1,2.6 -12.4,2.7 -1.1,-1 .5,-2 -3,-14.2 -1.9,-1.5 -.9,1.6 -.9,-2.2 .8,-1.8 -3.1,-6.7 .3,-3.8 .4,-1 -.6,-2 .4,-2.2 -2.2,-2.3 -.5,-3.2 .4,-1.5 -1.4,-.9 .6,-1.9 -.8,-1.7 27.3,-6.9 z'>\\r\\n<title>Vermont</title></path>\\r\\n\\r\\n<path class='va' d='m 834.7,265.4 -1.1,2.8 .5,1.1 .4,-1.1 .8,-3.1 z m -34.6,-7 -.7,-1 1,-.1 1,-.9 .4,-1.8 -.2,-.5 .1,-.5 -.3,-.7 -.6,-.5 -.4,-.1 -.5,-.4 -.6,-.6 h -1 l -.6,-.1 -.4,-.4 .1,-.5 -1.7,-.6 -.8,.3 -1.2,-.1 -.7,-.7 -.5,-.2 -.2,-.7 .6,-.8 v -.9 l -1.2,-.2 -1,-.9 -.9,.1 -1.6,-.3 -.4,.7 -.4,1.6 -.5,2.3 -10,-5.2 -.2,.9 .9,1.6 -.8,2.3 .1,2.9 -1.2,.8 -.5,2.1 -.9,.8 -1.4,1.8 -.9,.8 -1,2.5 -2.4,-1.1 -2.3,8.5 -1.3,1.6 -2.8,-.5 -1.3,-1.9 -2.3,-.7 -.1,4.7 -1.4,1.7 .4,1.5 -2.1,2.2 .4,1.9 -3.7,6.3 -1,3.3 1.5,1.2 -1.5,1.9 .1,1.4 -2.3,2 -.7,-1.1 -4.3,3.1 -1.5,-1 -.6,1.4 .8,.5 -.5,.9 -5.5,2.4 -3,-1.8 -.8,1.7 -1.9,1.8 -2.3,.1 -4.4,-2.3 -.1,-1.5 -1.5,-.7 .8,-1.2 -.7,-.6 -4.9,6.6 -2.9,1 -3,3 -.4,2.2 -2.1,1.3 -.1,1.7 -1.4,1.4 -1.8,.5 -.5,1.9 -1,.4 -6.9,4.2 28.9,-3.3 .2,-1 4.6,-.5 -.3,.7 29.4,-3.5 39.4,-7.3 29.1,-6.1 -.6,-1.2 .4,-.1 .9,.9 -.1,-1.4 -.3,-1.9 1.6,1.2 .9,2.1 v -1.3 l -3.4,-5.5 v -1.2 l -.7,-.8 -1.3,.7 .5,1.4 h -.8 l -.4,-1 -.6,.9 -.9,-1.1 -2.1,-.1 -.2,.7 1.5,2.1 -1.4,-.7 -.5,-1 -.4,.8 -.8,.1 -1.5,1.7 .3,-1.6 v -1.4 l -1.5,-.7 -1.8,-.5 -.2,-1.7 -.6,-1.3 -.6,1.1 -1.7,-1 -2,.3 .2,-.9 1.5,-.2 .9,.5 1.7,-.8 .9,.4 .5,1 v .7 l 1.9,.4 .3,.9 .9,.4 .9,1.2 1.4,-1.6 h .6 l -.1,-2.1 -1.3,1 -.6,-.9 1.5,-.2 -1.2,-.9 -1.2,.6 -.1,-1.7 -1.7,.2 -2.2,-1.1 -1.8,-2.2 3.6,2.2 .9,.3 1.7,-.8 -1.7,-.9 .6,-.6 -1,-.5 .8,-.2 -.3,-.9 1.1,.9 .4,-.8 .4,1.3 1.2,.8 .6,-.5 -.5,-.6 -.1,-2.5 -1.1,-.1 -1.6,-.8 .9,-1.1 -2,-.1 -.4,-.5 -1.4,.6 -1.4,-.8 -.5,-1.2 -2.1,-1.2 -2.1,-1.8 -2.2,-1.9 3,1.3 .9,1.2 2.1,.7 2.3,2.5 .2,-1.7 .6,1.3 2.3,.5 v -4 l -.8,-1.1 1.1,.4 .1,-1.6 -3.1,-1.4 -1.6,-.2 -1.3,-.2 .3,-1.2 -1.5,-.3 -.1,-.6 h -1.8 l -.2,.8 -.7,-1 h -2.7 l -1,-.4 -.2,-1 -1.2,-.6 -.4,-1.5 -.6,-.4 -.7,1.1 -.9,.2 -.9,.7 h -1.5 l -.9,-1.3 .4,-3.1 .5,-2.4 .6,.5 z m 21.9,11.6 .9,-.1 0,-.6 -.8,.1 z m 7.5,14.2 -1,2.7 1.2,-1.3 z m -1.8,-15.3 .7,.3 -.2,1.9 -.5,-.5 -1.3,1 1,.4 -1.8,4.4 .1,8.1 1.9,3.1 .5,-1.5 .4,-2.7 -.3,-2.3 .7,-.9 -.2,-1.4 1.2,-.6 -.6,-.5 .5,-.7 .8,1.1 -.2,1.1 -.4,3.9 1.1,-2.2 .4,-3.1 .1,-3 -.3,-2 .6,-2.3 1.1,-1.8 .1,-2.2 .3,-.9 -4.6,1.6 -.7,.8 z'>\\r\\n<title>Virginia</title></path>\\r\\n\\r\\n<path class='wa' d='m 161.9,83.6 .7,4 -1.1,4.3 -30.3,-7.3 -2.8,1 -5.4,-.9 -1.8,-.9 -1.5,1.2 -3.3,-.4 -4.5,.5 -.9,.7 -4.2,-.4 -.8,-1.6 -1.2,-.2 -4.4,1.3 -1.6,-1.1 -2.2,.8 -.2,-1.8 -2.3,-1.2 -1.5,-.2 -1,-1.1 -3,.3 -1.2,-.8 h -1.2 l -1.2,.9 -5.5,.7 -6.6,-4.2 1.1,-5.6 -.4,-4.1 -3.2,-3.7 -3.7,.1 -.4,-1.1 .4,-1.2 -.7,-.8 -1,.1 -2.1,-1.5 -1.2,.4 -2,-.1 -.7,-1.5 -1.6,-.3 2.5,-7.5 -.7,6 .5,.5 v -2 l .8,-.2 1.1,2.3 -.5,-2.2 1.2,-4.2 1.8,.4 -1.1,-2 -1,.3 -1.5,-.4 .2,-4.2 .2,1.5 .9,.5 .6,-1.6 h 3.2 l -2.2,-1.2 -1.7,-1.9 -1.4,1.6 1.2,-3.1 -.3,-4.6 -.2,-3.6 .9,-6.1 -.5,-2 -1.4,-2.1 .1,-4 .4,-2.7 2,-2.3 -.7,-1.4 .2,-.6 .9,.1 7.8,7.6 4.7,1.9 5.1,2.5 3.2,-.1 .2,3 1,-1.6 h .7 l .6,2.7 .5,-2.6 1.4,-.2 .5,.7 -1.1,.6 .1,1.6 .7,-1.5 h 1.1 l -.4,2.6 -1.1,-.8 .4,1.4 -.1,1.5 -.8,.7 -2.5,2.9 1.2,-3.4 -1.6,.4 -.4,2.1 -3.8,2.8 -.4,1 -2.1,2.2 -.1,1 h 2.2 l 2.4,-.2 .5,-.9 -3.9,.5 v -.6 l 2.6,-2.8 1.8,-.8 1.9,-.2 1,-1.6 3,-2.3 v -1.4 h 1.1 l .1,4 h -1.5 l -.6,.8 -1.1,-.9 .3,1.1 v 1.7 l -.7,.7 -.3,-1.6 -.8,.8 .7,.6 -.9,1.1 h 1.3 l .7,-.5 .1,2 -1,1.9 -.9,1 -.1,1.8 -1,-.2 -.2,-1.4 .9,-1.1 -.8,-.5 -.8,.7 -.7,2.2 -.8,.9 -.1,-2 .8,-1.1 -.2,-1.1 -1.2,1.2 .1,2.2 -.6,.4 -2.1,-.4 -1.3,1.2 2.2,-.6 -.2,2.2 1,-1.8 .4,1.4 .5,-1 .7,1.8 h .7 l .7,-.8 .6,-.1 2,-1.9 .2,-1.2 .8,.6 .3,.9 .7,-.3 .1,-1.2 h 1.3 l .2,-2.9 -.1,-2.7 .9,.3 -.7,-2.1 1.4,-.8 .2,-2.4 2.3,-2.2 1,.1 .3,-1.4 -1.2,-1.4 -.1,-3.5 -.8,.9 .7,2.9 -.6,.1 -.6,-1.9 -.6,-.5 .3,-2.3 1.8,-.1 .3,.7 .3,-1.6 -1.6,-1.7 -.6,-1.6 -.2,2 .9,1.1 -.7,.4 -1,-.8 -1.8,1.3 1.5,.5 .2,2.4 -.3,1.8 .9,-1.3 1.4,2.3 -.4,1.9 h -1.5 v -1.2 l -1.5,-1.2 .5,-3 -1.9,-2.6 2.7,-3 .6,-4.1 h .9 l 1.4,3.2 v -2.6 l 1.2,.3 v -3.3 l -.9,-.8 -1.2,2.5 -1,-3 1.3,-.1 -1.5,-4.9 1.9,-.6 25.4,7.5 31.7,8 23.6,5.5 z m -78.7,-39.4 h .5 l .1,.8 -.5,.3 .1,.6 -.7,.4 -.2,-.9 .5,-.4 z m 5,-4.3 -1.2,1.9 -.1,.8 .4,.2 .5,-.6 1.1,.1 z m -.4,-21.6 .5,.6 1.3,-.3 .2,-1 1.2,-1.8 -1,-.4 -.7,1.6 -.1,-1.6 -1.1,.2 -.7,1.4 z m 3.2,-5.5 .7,1.5 -.9,.2 -.8,.4 -.2,-2.4 z m -2.7,-1.6 -1.1,-.2 .5,1.4 z m -1,2.5 .8,.4 -.4,1.1 1.7,-.5 -.2,-2.2 -.9,-.2 z m -2.7,-.4 .3,2.7 1.6,1.3 .6,-1.9 -1.1,-2.2 z m 1.9,-1.1 -1.1,-1 -.9,.1 1.8,1.5 z m 3.2,-7 h -1.2 v .8 l 1.2,.6 z m -.9,32.5 .4,-2.7 h -1.1 l -.2,1.9 z'>\\r\\n<title>Washington</title></path>\\r\\n\\r\\n<path class='wv' d='m 723.4,297.5 -.8,1.2 1.5,.7 .1,1.5 4.4,2.3 2.3,-.1 1.9,-1.8 .8,-1.7 3,1.8 5.5,-2.4 .5,-.9 -.8,-.5 .6,-1.4 1.5,1 4.3,-3.1 .7,1.1 2.3,-2 -.1,-1.4 1.5,-1.9 -1.5,-1.2 1,-3.3 3.7,-6.3 -.4,-1.9 2.1,-2.2 -.4,-1.5 1.4,-1.7 .1,-4.7 2.3,.7 1.3,1.9 2.8,.5 1.3,-1.6 2.3,-8.5 2.4,1.1 1,-2.5 .9,-.8 1.4,-1.8 .9,-.8 .5,-2.1 1.2,-.8 -.1,-2.9 .8,-2.3 -.9,-1.6 .2,-.9 10,5.2 .5,-2.3 .4,-1.6 .4,-.7 -.9,-.4 .2,-1.6 -1,-.5 -.2,-.7 h -.7 l -.8,-1.2 .2,-1 -2.6,.4 -2.2,-1.6 -1.4,.3 -.9,1.4 h -1.3 l -1.7,2.9 -3.3,.4 -1.9,-1 -2.6,3.8 -2.2,-.3 -3.1,3.9 -.9,1.6 -1.8,1.6 -1.7,-11.4 -17.4,2.9 -3.2,-19.7 -2.2,1.2 1.4,2.1 -.1,2.2 .6,2 -1.1,3.4 -.1,5.4 -1,3.6 .5,1.1 -.4,2.2 -1.1,.5 -2,3.3 -1.8,2 h -.6 l -1.8,1.7 -1.3,-1.2 -1.5,1.8 -.3,1.2 h -1.3 l -1.3,2.2 .1,2.1 -1,.5 1.4,1.1 v 1.9 l -1,.2 -.7,.8 -1,.5 -.6,-2.1 -1.6,-.5 -1,2.3 -.3,2.2 -1.1,1.3 1.3,3.6 -1.5,.8 -.4,3.5 h -1.5 l -3.2,1.4 -.1,1.1 .6,1 -.6,3.6 1.9,1.6 .8,1.1 1,.6 -.1,.9 4.4,5.6 h 1.4 l 1.5,1.8 1.2,.3 1.4,-.1 z'>\\r\\n<title>West Virginia</title></path>\\r\\n\\r\\n<path class='wi' d='m 611,144 -2.9,.8 .2,2.3 -2.4,3.4 -.2,3.1 .6,.7 .8,-.7 .5,-1.6 2,-1.1 1.6,-4.2 3.5,-1.1 .8,-3.3 .7,-.9 .4,-2.1 1.8,-1.1 v -1.5 l 1,-.9 1.4,.1 v 2 l -1,.1 .5,1.2 -.7,2.2 -.6,.1 -1.2,4.5 -.7,.5 -2.8,7.2 -.3,4.2 .6,2 .1,1.3 -2.4,1.9 .3,1.9 -.9,3.1 .3,1.6 .4,3.7 -1.1,4.1 -1.5,5 1,1.5 -.3,.3 .8,1.7 -.5,1.1 1.1,.9 v 2.7 l 1.3,1.5 -.4,3 .3,4 -45.9,2.8 -1.3,-2.8 -3.3,-.7 -2.7,-1.5 -2,-5.5 .1,-2.5 1.6,-3.3 -.6,-1.1 -2.1,-1.6 -.2,-2.6 -1.1,-4.5 -.2,-3 -2.2,-3 -2.8,-.7 -5.2,-3.6 -.6,-3.3 -6.3,-3.1 -.2,-1.3 h -3.3 l -2.2,-2.6 -2,-1.3 .7,-5.1 -.9,-1.6 .5,-5.4 1,-1.8 -.3,-2.7 -1.2,-1.3 -1.8,-.3 v -1.7 l 2.8,-5.8 5.9,-3.9 -.4,-13 .9,.4 .6,-.5 .1,-1.1 .9,-.6 1.4,1.2 .7,-.1 h 2.6 l 6.8,-2.6 .3,-1 h 1.2 l .7,-1.2 .4,.8 1.8,-.9 1.8,-1.7 .3,.5 1,-1 2.2,1.6 -.8,1.6 -1.2,1.4 .5,1.5 -1.4,1.6 .4,.9 2.3,-1.1 v -1.4 l 3.3,1.9 1.9,.7 1.9,.7 3,3.8 17,3.8 1.4,1 4,.8 .7,.5 2.8,-.2 4.9,.8 1.4,1.5 -1,1 .8,.8 3.8,.7 1.2,1.2 .1,4.4 -1.3,2.8 2,.1 1,-.8 .9,.8 -1.1,3.1 1,1.6 1.2,.3 z m -49.5,-37.3 -.5,.1 -1.5,1.6 .2,.5 1.5,-.6 v -.6 l .9,-.3 z m 1.6,-1.1 -1,.3 -.2,.7 .9,-.1 z m -1.3,-1.6 -.2,.9 h 1.7 l .6,-.4 .1,-1 z m 2.8,-3 -.3,1.9 1.2,-.5 .1,-1.4 z m 58.3,31.9 -2,.3 -.4,1.3 1.3,1.7 z'>\\r\\n<title>Wisconsin</title></path>\\r\\n\\r\\n<path class='wy' d='m 355.3,143.7 -51,-5.3 -57.3,-7.9 -2,10.7 -8.5,54.8 -3.3,21.9 32.1,4.8 44.9,5.7 37.5,3.4 3.7,-44.2 z'>\\r\\n<title>Wyoming</title></path>\\r\\n\\r\\n<path class='dc' d='m 803.5,252 -2.6,-1.8 -1,1.7 .5,.4 .4,.1 .6,.5 .3,.7 -.1,.5 .2,.5 z'>\\r\\n<title>District of Columbia</title></path>\\r\\n\\r\\n</g>\\r\\n\\r\\n<g class='borders' fill='none'>\\r\\n<path class='al-fl' d='m 687.6,447.4 -48.8,5.1 -.5,2.9 2.5,2.8 1.7,.7 .9,1.2 -.4,7.3 -1.1,.6'/>\\r\\n<path class='al-ga' d='m 666.6,361.1 12.9,45.8 2.9,6.1 1.8,1.9 v 3.2 l 1.7,1 .2,1.1 -2.2,3.8 -.3,3.7 -.5,2.6 2.4,5.7 -.6,6.3 .5,1.4 1.5,1.5 .7,2.2'/>\\r\\n<path class='al-ms' d='m 620.9,365.1 1.3,2 -1.3,67 4.4,33.2'/>\\r\\n<path class='al-tn' d='m 620.9,365.1 45.7,-4'/>\\r\\n<path class='ar-la' d='m 516.7,414.2 52.3,-1.3'/>\\r\\n<path class='ar-mo' d='m 591.7,344.9 -11.2,.8 2.8,-5.1 1.7,-1.5 v -2.2 l -1.6,-2.5 -39.8,2 -39.1,.7'/>\\r\\n<path class='ar-ms' d='m 569,412.9 1.2,-1.5 .5,-3 -1.5,-2.3 -.5,-2.2 .9,-.7 v -.8 l -1.7,-1.1 -.1,-.7 1.6,-.9 -1.2,-1.1 1.7,-7.1 3.4,-1.6 0,-.8 -1.1,-1.4 2.9,-5.4 h 1.9 l 1.5,-1.2 -.3,-5.2 3.1,-4.5 1.8,-.6 -.5,-3.1'/>\\r\\n<path class='ar-ok' d='m 507.9,400.5 .7,-39 -4.1,-24.4'/>\\r\\n<path class='ar-tn' d='m 582.6,367.7 1.6,-.7 .9,-2.2 1.2,.5 .7,-1 -.8,-.7 .3,-1.5 -1.1,-.9 .6,-1 -.1,-1.5 -1.1,-.1 .8,-.8 1.3,.8 .3,-1.4 -.4,-1.1 .1,-.7 2,.6 -.4,-1.5 1.6,-1.3 -.5,-.9 -1.1,.1 -.6,-.9 .9,-.9 1.6,-.2 .5,-.8 1.4,-.2 -.1,-.8 -.9,-.9 0,-.5 h 1.5 l .4,-.7 -1.4,-1 -.1,-.6'/>\\r\\n<path class='ar-tx' d='m 507.9,400.5 2.6,2.3 2.8,-1.3 3.2,.8 .2,11.9'/>\\r\\n<path class='az-ca' d='m 149,338.1 -.9,2.1 1.3,3.4 1.4,1.8 1.2,5.8 2.3,2.5 .4,1.9 -1.3,1.3 -4.8,1.7 -2.4,3.6 -1.6,7 -2.4,3.2 -1.6,.3 -1.1,6.9 1.1,1.6 1.8,.2 1,1.6 -.8,2.4 -3,2.2 -2.2,-.1'/>\\r\\n<path class='az-nm' d='m 253.8,311 -17.4,124.1'/>\\r\\n<path class='az-nv' d='m 167.6,296.8 -3.4,17.5 -2.4,2.9 h -2 l -1.2,-2.7 -3.7,-1.4 -3.5,.6 -1,13.6 .5,4.9 -.5,2.9 -1.4,3'/>\\r\\n<path class='az-ut' d='m 167.6,296.8 46.2,8.2 40,6'/>\\r\\n<path class='ca-nv' d='m 93.9,166.5 -16.4,63.1 1.1,3.5 70.4,105'/>\\r\\n<path class='ca-or' d='m 27.8,147.9 66.1,18.6'/>\\r\\n<path class='co-ks' d='m 379.4,256.3 -4.8,67'/>\\r\\n<path class='co-ne' d='m 347.7,231.8 33.1,2.4 -1.4,22.1'/>\\r\\n<path class='co-nm' d='m 253.8,311 52.6,6.5 51.7,4.8'/>\\r\\n<path class='co-ok' d='m 358.1,322.3 16.5,1'/>\\r\\n<path class='co-ut' d='m 265.3,222.7 -11.5,88.3'/>\\r\\n<path class='co-wy' d='m 265.3,222.7 44.9,5.7 37.5,3.4'/>\\r\\n<path class='ct-ma' d='m 843.8,171.3 10.5,-2.4 .5,.7 .9,-.3 0,-.7 14.9,-3.4 .1,.3'/>\\r\\n<path class='ct-ny' d='m 846.6,194.7 -1.7,-2.2 3.5,-3.4 -1.8,-1.5 -2.8,-16.3'/>\\r\\n<path class='ct-ri' d='m 870.7,165.5 3.2,12.3 -.4,1.1 .4,1.8'/>\\r\\n<path class='dc-md' d='m 801.8,254.6 1.7,-2.6 -2.6,-1.8 -1,1.7'/>\\r\\n<path class='dc-va' d='m 799.9,251.9 .5,.4 .4,.1 .6,.5 .3,.7 -.1,.5 .2,.5'/>\\r\\n<path class='de-md' d='m 817.9,230.1 7.6,27.1 10.9,-2.3'/>\\r\\n<path class='de-nj' d='m 823.8,227.2 -1,2.2 -.3,2.1'/>\\r\\n<path class='de-pa' d='m 817.9,230.1 1.2,-2.1 1.5,-1.1 1.6,-.3 1.6,.6'/>\\r\\n<path class='fl-ga' d='m 687.6,447.4 3.3,6 50.1,-3.3 .6,3.2 1,1.1 2.1,-.6 .5,-4.3 -1.4,-2.1 v -2.5 l 2.2,-1.4 1.7,.9 4,.7 3.6,-.3'/>\\r\\n<path class='ga-nc' d='m 689.5,358.2 21.4,-3'/>\\r\\n<path class='ga-sc' d='m 710.9,355.2 -.1,1.9 -1.9,1 -1.4,3.2 .2,1.3 6.1,3.8 2.6,-.3 3.1,4 .4,1.7 4.2,5.1 2.6,1.7 1.4,.2 2.2,1.6 1.1,2.2 2,1.6 1.8,.5 2.7,2.7 .1,1.4 2.6,2.8 5,2.3 3.6,6.7 .3,2.7 3.9,2.1 2.5,4.8 .8,3.1 4.2,.4'/>\\r\\n<path class='ga-tn' d='m 666.6,361.1 22.9,-2.9'/>\\r\\n<path class='ia-il' d='m 556.8,249.7 .7,-.7 .1,-2.3 -.7,-.9 1,-1.5 1.8,-.6 .9,-.3 1,-1.2 0,-2.4 1.7,-2.4 .5,-.5 .1,-3.5 -.9,-1.4 -1,-.3 -1.1,-1.6 1,-4 3,-.8 h 2.4 l 4.2,-1.8 1.7,-2.2 .1,-2.4 1.1,-1.3 1.3,-3.2 -.1,-2.6 -2.8,-3.5 -1.2,0 -.9,-1.1 .2,-1.6 -1.7,-1.7 -2.5,-1.3 .5,-.6'/>\\r\\n<path class='ia-mn' d='m 473.6,182 28.2,0 36.3,-.9 18.6,-.7'/>\\r\\n<path class='ia-mo' d='m 484.5,246.8 25.9,.1 27.2,-1.2 14.3,-.8 1.7,1.3 .6,1.6 1.1,1.1 1.5,.8'/>\\r\\n<path class='ia-ne' d='m 484.5,246.8 -1.8,-4.4 .7,-2.2 -.8,-3.3 .2,-2.9 -1.3,-.7 -.4,-6.1 -2.8,-5 -.2,-3.7 -2.2,-4.3 -1.3,-3.7 v -1.4 l -.6,-1.7 v -2.3 l -.5,-.9'/>\\r\\n<path class='ia-sd' d='m 473.5,204.2 -.7,-1.7 -.3,-1.3 -1.3,-1.2 1,-4.3 1.7,-5.1 -.7,-2 -1.3,-.4 -.4,-1.6 1,-.5 .1,-1.1 -1.3,-1.5 .1,-1.6 2.2,.1'/>\\r\\n<path class='ia-wi' d='m 567.2,202 -1.3,-2.8 -3.3,-.7 -2.7,-1.5 -2,-5.5 .1,-2.5 1.6,-3.3 -.6,-1.1 -2.1,-1.6 -.2,-2.6'/>\\r\\n<path class='id-mt' d='m 188.8,30.5 -4.8,22 3.7,7.4 -1.6,4.8 3.6,4.8 1.9,.7 3.9,8.3 v 2.1 l 2.3,3 h .9 l 1.4,2.1 h 3.2 v 1.6 l -7.1,17 -.5,4.1 1.4,.5 1.6,2.6 2.8,-1.4 3.6,-2.4 1.9,1.9 .5,2.5 -.5,3.2 2.5,9.7 2.6,3.5 2.3,1.4 .4,3 v 4.1 l 2.3,2.3 1.6,-2.3 6.9,1.6 2.1,-1.2 9,1.7 2.8,-3.3 1.8,-.6 1.2,1.8 1.6,4.1 .9,.1'/>\\r\\n<path class='id-nv' d='m 140.9,177.7 24.4,5.4 23.3,4.7'/>\\r\\n<path class='id-or' d='m 140.9,177.7 8.5,-37.3 2.9,-5.8 .4,-2.1 .8,-.9 -.9,-2 -2.9,-1.2 .2,-4.2 4,-5.8 2.5,-.8 1.6,-2.3 -.1,-1.6 1.8,-1.6 3.2,-5.5 4.2,-4.8 -.5,-3.2 -3.5,-3.1 -1.6,-3.6'/>\\r\\n<path class='id-ut' d='m 236.5,196 -47.9,-8.2'/>\\r\\n<path class='id-wa' d='m 174.6,27.5 -12.7,56.1 .7,4 -1.1,4.3'/>\\r\\n<path class='id-wy' d='m 245,141.2 -8.5,54.8'/>\\r\\n<path class='il-in' d='m 619.4,215.7 4.1,50.2 -1,5.2 v 2 l 2.4,3.5 v .7 l -.3,.9 .9,1.9 -.3,2.4 -1.6,1.8 -1.3,4.2 -3.8,5.3 -.1,7 h -1 l .9,1.9'/>\\r\\n<path class='il-ky' d='m 599.9,322.5 -.3,-1.8 4,-3.7 6.9,3 1.5,-.3 .4,-2.4 -1.7,-1.8 .4,-3.3 1,-.5 1.2,.6 .6,-1.2 3.7,-.6 .1,-.9 -1.5,-2.2 -.1,-1.1 2.2,-2.7 v -.9'/>\\r\\n<path class='il-mo' d='m 599.9,322.5 -2.8,0 -1.4,-1.5 -1.8,-3.8 v -1.9 l .8,-.6 .1,-1.3 -1.7,-1.9 -.9,-2.5 -2.7,-4.1 -4.8,-1.3 -7.4,-7.1 -.4,-2.4 2.8,-7.6 -.4,-1.9 1.2,-1.1 v -1.3 l -2.8,-1.5 -3,-.7 -3.4,1.2 -1.3,-2.3 .6,-1.9 -.7,-2.4 -8.6,-8.4 -2.2,-1.5 -2.5,-5.9 -1.2,-5.4 1.4,-3.7'/>\\r\\n<path class='il-wi' d='m 567.2,202 45.9,-2.8'/>\\r\\n<path class='in-ky' d='m 618.3,302.7 1.1,.8 .6,-1 -.7,-1.7 4.6,-.5 .2,1.2 1.1,.2 .4,-.9 -.6,-1.3 .3,-.8 1.3,.8 1.7,-.4 1.7,.6 3.4,2.1 1.8,-2.8 3.5,-2.2 3,3.3 1.6,-2.1 .3,-2.7 3.8,-2.3 .2,1.3 1.9,1.2 3,-.2 1.2,-.7 .1,-3.4 2.5,-3.7 4.6,-4.4 -.1,-1.7 1.2,-3.8 2.2,1 6.7,-4.5 -.4,-1.7 -1.5,-2.1 1,-1.9'/>\\r\\n<path class='in-mi' d='m 630.9,213.2 32.4,-3.4 .1,1.4'/>\\r\\n<path class='in-oh' d='m 670,268.4 -6.6,-57.2'/>\\r\\n<path class='ks-mo' d='m 504.3,326.3 -.5,-48.1 -3.2,-.7 -2.6,-4.7 -2.5,-2.5 .5,-2.3 2.7,-2.6 .1,-1.2 -1.5,-2.1 -.9,1 -2,-.6 -2.9,-3'/>\\r\\n<path class='ks-ne' d='m 379.4,256.3 36,2 43.7,1.2 h 32.4'/>\\r\\n<path class='ks-ok' d='m 374.6,323.3 67.7,2.9 62,.1'/>\\r\\n<path class='ky-mo' d='m 596.7,333.5 1,-2.7 1.4,.9 .7,-.4 1.2,-4.1 -1,-1 1,-2 .2,-.9 -1.3,-.8 m -5.8,11.3 -.7,-.7 .2,-1 h 1.1 l .7,.7 -.3,1'/>\\r\\n<path class='ky-oh' d='m 670,268.4 1.3,.5 2.2,.1 1.9,-.8 2.9,1.2 2.2,3.4 v 1 l 4.1,.7 2.3,-.2 1.9,2.1 2.2,.2 v -1 l 1.9,-.8 3,.8 1.2,.8 1.3,-.7 h .9 l .6,-1.7 3.4,-1.8 .5,.8 .8,2.9 3.5,1.4 1.2,2.1'/>\\r\\n<path class='ky-tn' d='m 596.7,333.5 23.3,-1.5 .6,-.9 -1.2,-3.2 h 3.7 l .7,.6 22.6,-2 2.6,-.8 17.4,-1 5.2,-.8 20.5,-1.4 5.6,-1.4 m -103.6,12.7 h 1'/>\\r\\n<path class='ky-va' d='m 697.7,321.1 6.9,-4.2 1,-.4 .5,-1.9 1.8,-.5 1.4,-1.4 .1,-1.7 2.1,-1.3 .4,-2.2 3,-3 2.9,-1 4.9,-6.6'/>\\r\\n<path class='ky-wv' d='m 709.3,279.4 -.1,1.1 .6,1 -.6,3.6 1.9,1.6 .8,1.1 1,.6 -.1,.9 4.4,5.6 h 1.4 l 1.5,1.8 1.2,.3 1.4,-.1'/>\\r\\n<path class='la-ms' d='m 569,412.9 -.6,1.4 1.6,7.1 1.2,1 -.5,1.7 2.4,2.5 v 3.3 l -2,0 1.8,2.5 -6,8.4 -2.4,4.8 -1.7,11.9 36,-2 -.1,1.4 -1,1.4 -.9,4.6 4.8,6.8 -.3,1.3 1.2,1.8 .6,.7'/>\\r\\n<path class='la-tx' d='m 516.7,414.2 .5,19.9 .7,3.4 2.6,2.8 .7,5.4 3.8,4.6 .8,4.3 h 1 l -.1,7.3 -3.3,6.4 1.3,2.3 -1.3,1.5 .7,3 -.1,4.3 -2.2,3.5 -.1,.8 -1.7,1.2 1,1.8 1.2,1.1'/>\\r\\n<path class='ma-nh' d='m 856,152.6 18.4,-3.8 1,-1.5 .3,-1.7 1.9,-.6 .5,-1.1 1.7,-1.1 1.3,.3'/>\\r\\n<path class='ma-ny' d='m 843.8,171.3 -.7,-1 .5,-15'/>\\r\\n<path class='ma-ri' d='m 870.7,165.5 6.5,-2 .7,2.6 h .8 l .6,2.2 2.6,1.3 1.3,1.1 1.4,3'/>\\r\\n<path class='ma-vt' d='m 843.6,155.3 12.4,-2.7'/>\\r\\n<path class='md-pa' d='m 757.4,241.9 60.5,-11.8'/>\\r\\n<path class='md-va' d='m 822.9,269.3 -.8,.1 m 13.2,-4.3 -.6,.3 m -1.3,.2 -4.6,1.6 -.7,.8 m -28.2,-16.1 -.6,-.6 h -1 l -.6,-.1 -.4,-.4 .1,-.5 -1.7,-.6 -.8,.3 -1.2,-.1 -.7,-.7 -.5,-.2 -.2,-.7 .6,-.8 v -.9 l -1.2,-.2 -1,-.9 -.9,.1 -1.6,-.3 m 11.6,13.5 .3,-.4 -.7,-1 1,-.1 1,-.9 .4,-1.8'/>\\r\\n<path class='md-wv' d='m 757.4,241.9 1.7,11.4 1.8,-1.6 .9,-1.6 3.1,-3.9 2.2,.3 2.6,-3.8 1.9,1 3.3,-.4 1.7,-2.9 h 1.3 l .9,-1.4 1.4,-.3 2.2,1.6 2.6,-.4 -.2,1 .8,1.2 h .7 l .2,.7 1,.5 -.2,1.6 .9,.4'/>\\r\\n<path class='me-nh' d='m 881.9,138.3 -2.3,-1.4 -.8,-2.2 -3.2,-2 -.6,-4 -11.9,-36.8'/>\\r\\n<path class='mi-oh' d='m 663.4,211.2 21.4,-3.5'/>\\r\\n<path class='mi-wi' d='m 565.6,112.3 1.9,.7 3,3.8 17,3.8 1.4,1 4,.8 .7,.5 2.8,-.2 4.9,.8 1.4,1.5 -1,1 .8,.8 3.8,.7 1.2,1.2 .1,4.4 -1.3,2.8 2,.1 1,-.8 .9,.8 -1.1,3.1 1,1.6 1.2,.3'/>\\r\\n<path class='mn-nd' d='m 462.3,61.3 2.4,7.3 -1.1,2.8 .8,1.4 -.3,5.1 -.5,1.1 2.7,9.1 1.3,2.5 .7,14 1,2.7 -.4,5.8 2.9,7.4 .3,5.8 -.1,2.1'/>\\r\\n<path class='mn-sd' d='m 473.6,182 .2,-39.5 -1.5,-1.9 -2.6,-.6 -.4,-1.8 -1.7,-2.5 .3,-1.2 3.1,-1.9 .9,-2 .1,-2.2'/>\\r\\n<path class='mn-wi' d='m 556.7,180.4 -1.1,-4.5 -.2,-3 -2.2,-3 -2.8,-.7 -5.2,-3.6 -.6,-3.3 -6.3,-3.1 -.2,-1.3 -3.3,0 -2.2,-2.6 -2,-1.3 .7,-5.1 -.9,-1.6 .5,-5.4 1,-1.8 -.3,-2.7 -1.2,-1.3 -1.8,-.3 v -1.7 l 2.8,-5.8 5.9,-3.9 -.4,-13 .9,.4 .6,-.5 .1,-1.1 .9,-.6 1.4,1.2 .7,-.1'/>\\r\\n<path class='mo-ne' d='m 491.5,259.5 -3.9,-6.3 -2.1,-3.7 .3,-1.4 -1.3,-1.3'/>\\r\\n<path class='mo-ok' d='m 504.3,326.3 .2,10.8'/>\\r\\n<path class='mo-tn' d='m 591.7,344.9 1,-2 1.2,-.5 v -.7 l -1.2,-1.1 -.6,-1 1.7,.2 .8,-.7 -1.4,-1.5 1.4,-.5 .1,-1 -.6,-1 0,-1.3 m 1,0 .8,.7 .8,-1'/>\\r\\n<path class='ms-tn' d='m 582.6,367.7 38.3,-2.6'/>\\r\\n<path class='mt-nd' d='m 362.5,56.3 -5.2,66.7'/>\\r\\n<path class='mt-sd' d='m 357.3,123 -2,20.7'/>\\r\\n<path class='mt-wy' d='m 355.3,143.7 -51,-5.3 -57.3,-7.9 -2,10.7'/>\\r\\n<path class='nc-sc' d='m 710.9,355.2 4.4,-1.9 1.3,-.1 7.3,-4.3 23.2,-2.2 .4,.5 -.2,1.4 .7,.3 1.2,-1.5 3.3,3 .1,2.6 19.7,-2.8 24.5,17.1'/>\\r\\n<path class='nc-tn' d='m 731.1,317 0,5.2 -1.5,-.1 -1.4,1.2 -2.4,5.2 -2.6,-1.1 -3.5,2.5 -.7,2.1 -1.5,1.2 -.8,-.8 -.1,-1.5 -.8,-.2 -4,3.3 -.6,3.4 -4.7,2.4 -.5,1.2 -3.2,2.6 -3.6,.5 -4.6,3 -.8,4.1 -1.3,.9 -1.5,-.1 -1.4,1.3 -.1,4.9'/>\\r\\n<path class='nc-va' d='m 731.1,317 29.4,-3.5 39.4,-7.3 29.1,-6.1'/>\\r\\n<path class='nd-sd' d='m 357.3,123 39.2,2.9 46,2.1 29.5,.4'/>\\r\\n<path class='ne-sd' d='m 351.4,187.6 51.1,3.5 38,1.6 3.4,3.2 1.7,.2 2.1,2 1.8,-.1 1.8,-2 1.5,.6 1,-.7 .7,.5 .9,-.4 .7,.4 .9,-.4 1,.5 1.4,-.6 2,.6 .6,1.1 6.1,2.2 1.2,1.3 .9,2.6 1.8,.7 1.5,-.2'/>\\r\\n<path class='ne-wy' d='m 347.7,231.8 3.7,-44.2'/>\\r\\n<path class='nh-vt' d='m 857.9,100.1 1.2,2.3 -1.1,3.5 2.1,2.8 -.4,1.7 .1,1.3 -1.1,2.1 -1.4,.4 -.6,1.3 -2.1,1 -.7,1.5 1.4,3.4 -.5,2.5 .5,1.5 -1,1.9 .4,1.9 -1.3,1.9 .2,2.2 -.7,1.1 .7,4.5 .7,1.5 -.5,2.6 .9,1.8 -.2,2.5 -.5,1.3 -.1,1.4 2.1,2.6'/>\\r\\n<path class='nj-ny' d='m 827.9,190.5 14.6,4.9 -.4,5.9'/>\\r\\n<path class='nj-pa' d='m 823.8,227.2 1.4,-1.7 1.6,-.6 1.8,-3 1.6,-2.3 3.3,-2.6 -4.2,-3.2 -2.1,-1.1 -1,-2.8 -2.7,-.9 -.5,-3.6 1,-1 .7,-2 -1.5,-1.8 3,-5.4 -.1,-2.2 1.8,-2.5'/>\\r\\n<path class='nm-ok' d='m 358.1,322.3 -.6,10.6'/>\\r\\n<path class='nm-tx' d='m 284.3,431.2 -2,-2.2 .3,-3 34.4,3.6 31.8,2.6 7.9,-99.3 .8,0'/>\\r\\n<path class='nv-or' d='m 93.9,166.5 47,11.2'/>\\r\\n<path class='nv-ut' d='m 188.6,187.8 -21,109'/>\\r\\n<path class='ny-pa' d='m 827.9,190.5 -1.6,-1.1 -1.9,.3 -3,-2.2 -3,-5.8 h -2 l -.4,-1.5 -1.7,-1.1 -70.5,13.9 -.8,-6'/>\\r\\n<path class='ny-vt' d='m 843.6,155.3 -1.1,-1 .5,-2 -3,-14.2 -1.9,-1.5 -.9,1.6 -.9,-2.2 .8,-1.8 -3.1,-6.7 .3,-3.8 .4,-1 -.6,-2 .4,-2.2 -2.2,-2.3 -.5,-3.2 .4,-1.5 -1.4,-.9 .6,-1.9 -.8,-1.7'/>\\r\\n<path class='oh-pa' d='m 736.8,225.1 -4.9,-29.9'/>\\r\\n<path class='oh-wv' d='m 709.3,279.4 3.2,-1.4 h 1.5 l .4,-3.5 1.5,-.8 -1.3,-3.6 1.1,-1.3 .3,-2.2 1,-2.3 1.6,.5 .6,2.1 1,-.5 .7,-.8 1,-.2 v -1.9 l -1.4,-1.1 1,-.5 -.1,-2.1 1.3,-2.2 h 1.3 l .3,-1.2 1.5,-1.8 1.3,1.2 1.8,-1.7 h .6 l 1.8,-2 2,-3.3 1.1,-.5 .4,-2.2 -.5,-1.1 1,-3.6 .1,-5.4 1.1,-3.4 -.6,-2 .1,-2.2 -1.4,-2.1 2.2,-1.2'/>\\r\\n<path class='ok-tx' d='m 357.5,332.9 52.6,3.2 -1.4,42.7 2.7,1.3 2.5,3 1.5,.3 1.1,-1 1.2,.4 1.4,1 1.1,-1.5 2.3,1.7 .5,2.9 1.2,.7 2.3,-.1 3.5,1.9 2,-.1 1.4,-.4 2.3,2.2 2,-2.3 3.5,1.1 1.9,3 2.3,-.1 -.7,2.1 2.3,1.1 3,-2.6 2.6,1.7 1.3,-.5 .1,1.5 1.7,1.2 2.3,-2.5 1.2,.7 -.3,2 1,1.8 1.2,-.8 2.5,-4.2 1.8,2 2,.5 2.1,-.7 2,1.8 1.2,-.1 1.3,1.2 3.6,-.9 .6,-1.7 3.7,-.3 1.6,.7 5,-2.5 .6,1.5 5.1,-.3 .5,-1.6 2.2,.9 4.6,3.8 6.4,1.9'/>\\r\\n<path class='or-wa' d='m 161.5,91.9 -30.3,-7.3 -2.8,1 -5.4,-.9 -1.8,-.9 -1.5,1.2 -3.3,-.4 -4.5,.5 -.9,.7 -4.2,-.4 -.8,-1.6 -1.2,-.2 -4.4,1.3 -1.6,-1.1 -2.2,.8 -.2,-1.8 -2.3,-1.2 -1.5,-.2 -1,-1.1 -3,.3 -1.2,-.8 h -1.2 l -1.2,.9 -5.5,.7 -6.6,-4.2 1.1,-5.6 -.4,-4.1 -3.2,-3.7 -3.7,.1 -.4,-1.1 .4,-1.2 -.7,-.8 -1,.1'/>\\r\\n<path class='pa-wv' d='m 736.8,225.1 3.2,19.7 17.4,-2.9'/>\\r\\n<path class='sd-wy' d='m 351.4,187.6 3.9,-43.9'/>\\r\\n<path class='tn-va' d='m 697.7,321.1 28.9,-3.3 .2,-1 4.6,-.5 -.3,.7'/>\\r\\n<path class='ut-wy' d='m 236.5,196 -3.3,21.9 32.1,4.8'/>\\r\\n<path class='va-wv' d='m 722.7,296.9 .7,.6 -.8,1.2 1.5,.7 .1,1.5 4.4,2.3 2.3,-.1 1.9,-1.8 .8,-1.7 3,1.8 5.5,-2.4 .5,-.9 -.8,-.5 .6,-1.4 1.5,1 4.3,-3.1 .7,1.1 2.3,-2 -.1,-1.4 1.5,-1.9 -1.5,-1.2 1,-3.3 3.7,-6.3 -.4,-1.9 2.1,-2.2 -.4,-1.5 1.4,-1.7 .1,-4.7 2.3,.7 1.3,1.9 2.8,.5 1.3,-1.6 2.3,-8.5 2.4,1.1 1,-2.5 .9,-.8 1.4,-1.8 .9,-.8 .5,-2.1 1.2,-.8 -.1,-2.9 .8,-2.3 -.9,-1.6 .2,-.9 10,5.2 .5,-2.3 .4,-1.6 .4,-.7'/>\\r\\n</g>\\r\\n\\r\\n<circle class='state borders dccircle dc' cx='801.6' cy='252.1' r='5'>\\r\\n<title>District of Columbia</title></circle>\\r\\n\\r\\n<path class='separator1' fill='none' d='m 215,493 v 55 l 36,45 m -251,-168 h 147 l 68,68 h 85 l 54,54 v 46'/>\\r\\n\\r\\n</svg><rect id='-' style='fill:white;stroke:#333333;border-radius:3px;stroke-width:2px;' width=191.8 y=426 height=88.95 x=0></rect><rect id='-' style='fill:rgb(60,0,195,1.0);' x=19 y=457 height=3 width=19></rect><rect id='-' style='fill:rgb(140,0,115,1.0);' x=38 y=457 height=3 width=19></rect><rect id='-' style='fill:rgb(200,0,55,1.0);' x=57 y=457 height=3 width=19></rect><rect id='-' style='fill:rgb(280,0,-25,1.0);' x=76 y=457 height=3 width=19></rect><rect id='-' style='fill:rgb(340,0,-85,1.0);' x=95 y=457 height=3 width=19></rect><rect id='-' style='fill:rgb(420,0,-165,1.0);' x=114 y=457 height=3 width=19></rect><rect id='-' style='fill:rgb(500,0,-245,1.0);' x=133 y=457 height=3 width=19></rect><rect id='-' style='fill:rgb(560,0,-305,1.0);' x=152 y=457 height=3 width=19></rect><text id='-' x=19 y=488 style='stroke:#333333;'>less fires</text><text id='-' x=134.8 y=488 style='stroke:#333333;fill:blue;'>more fires</text></svg>\""
      ]
     },
     "metadata": {},
     "output_type": "display_data"
    },
    {
     "data": {
      "text/html": [
       "\"<svg id='jthir' viewBox='0 0 959 593' height=593 width=959> <style id='.al'>.al {fill:rgb(140,0,115,1.0) !important;}</style> <style id='.ak'>.ak {fill:rgb(40,0,215,1.0) !important;}</style> <style id='.az'>.az {fill:rgb(80,0,175,1.0) !important;}</style> <style id='.ar'>.ar {fill:rgb(100,0,155,1.0) !important;}</style> <style id='.ca'>.ca {fill:rgb(380,0,-125,1.0) !important;}</style> <style id='.co'>.co {fill:rgb(40,0,215,1.0) !important;}</style> <style id='.ct'>.ct {fill:rgb(20,0,235,1.0) !important;}</style> <style id='.fl'>.fl {fill:rgb(140,0,115,1.0) !important;}</style> <style id='.ga'>.ga {fill:rgb(180,0,75,1.0) !important;}</style> <style id='.id'>.id {fill:rgb(60,0,195,1.0) !important;}</style> <style id='.il'>.il {fill:rgb(20,0,235,1.0) !important;}</style> <style id='.in'>.in {fill:rgb(20,0,235,1.0) !important;}</style> <style id='.ks'>.ks {fill:rgb(20,0,235,1.0) !important;}</style> <style id='.ky'>.ky {fill:rgb(80,0,175,1.0) !important;}</style> <style id='.la'>.la {fill:rgb(80,0,175,1.0) !important;}</style> <style id='.me'>.me {fill:rgb(40,0,215,1.0) !important;}</style> <style id='.md'>.md {fill:rgb(20,0,235,1.0) !important;}</style> <style id='.ma'>.ma {fill:rgb(60,0,195,1.0) !important;}</style> <style id='.mi'>.mi {fill:rgb(20,0,235,1.0) !important;}</style> <style id='.mn'>.mn {fill:rgb(40,0,215,1.0) !important;}</style> <style id='.ms'>.ms {fill:rgb(100,0,155,1.0) !important;}</style> <style id='.mo'>.mo {fill:rgb(20,0,235,1.0) !important;}</style> <style id='.mt'>.mt {fill:rgb(100,0,155,1.0) !important;}</style> <style id='.ne'>.ne {fill:rgb(40,0,215,1.0) !important;}</style> <style id='.nv'>.nv {fill:rgb(40,0,215,1.0) !important;}</style> <style id='.nh'>.nh {fill:rgb(20,0,235,1.0) !important;}</style> <style id='.nj'>.nj {fill:rgb(60,0,195,1.0) !important;}</style> <style id='.nm'>.nm {fill:rgb(40,0,215,1.0) !important;}</style> <style id='.ny'>.ny {fill:rgb(20,0,235,1.0) !important;}</style> <style id='.nc'>.nc {fill:rgb(300,0,-45,1.0) !important;}</style> <style id='.nd'>.nd {fill:rgb(20,0,235,1.0) !important;}</style> <style id='.oh'>.oh {fill:rgb(40,0,215,1.0) !important;}</style> <style id='.ok'>.ok {fill:rgb(140,0,115,1.0) !important;}</style> <style id='.or'>.or {fill:rgb(120,0,135,1.0) !important;}</style> <style id='.pa'>.pa {fill:rgb(60,0,195,1.0) !important;}</style> <style id='.ri'>.ri {fill:rgb(20,0,235,1.0) !important;}</style> <style id='.sc'>.sc {fill:rgb(20,0,235,1.0) !important;}</style> <style id='.sd'>.sd {fill:rgb(40,0,215,1.0) !important;}</style> <style id='.tn'>.tn {fill:rgb(60,0,195,1.0) !important;}</style> <style id='.tx'>.tx {fill:rgb(600,0,-345,1.0) !important;}</style> <style id='.ut'>.ut {fill:rgb(60,0,195,1.0) !important;}</style> <style id='.vt'>.vt {fill:rgb(20,0,235,1.0) !important;}</style> <style id='.va'>.va {fill:rgb(40,0,215,1.0) !important;}</style> <style id='.wa'>.wa {fill:rgb(80,0,175,1.0) !important;}</style> <style id='.wv'>.wv {fill:rgb(60,0,195,1.0) !important;}</style> <style id='.wi'>.wi {fill:rgb(60,0,195,1.0) !important;}</style> <style id='.wy'>.wy {fill:rgb(40,0,215,1.0) !important;}</style><?xml version='1.0' encoding='UTF-8' standalone='no'?>\\r\\n<svg xmlns='http://www.w3.org/2000/svg' width='959' height='593'>\\r\\n  <title>Blank map of the United States, territories not included</title>\\r\\n<defs>\\r\\n<style type='text/css'>\\r\\n.state {fill:#D0D0D0}                        /* default color for all states not specified below */\\r\\n.borders {stroke:#FFFFFF; stroke-width:1}    /* color and width of borders between states */\\r\\n.dccircle {display:yes}                      /* set display to yes to show the circle for the District of Columbia, or none to hide it */\\r\\n.separator1 {stroke:#B0B0B0; stroke-width:2} /* color and width of lines around Alaska and Hawaii */\\r\\n\\r\\n/* Individual states can be colored as follows:\\r\\n.ks,.mt,.pa {fill:#0000FF}\\r\\n.ca,.de {fill:#FF0000}\\r\\nIn this example, Kansas, Montana and Pennsylvania are colored blue, and California and Delaware are colored red.\\r\\nPlace this code in the empty space below. */\\r\\n\\r\\n\\r\\n\\r\\n</style>\\r\\n</defs>\\r\\n\\r\\n<g class='state'>\\r\\n\\r\\n<path class='al' d='m 643,467.4 .4,-7.3 -.9,-1.2 -1.7,-.7 -2.5,-2.8 .5,-2.9 48.8,-5.1 -.7,-2.2 -1.5,-1.5 -.5,-1.4 .6,-6.3 -2.4,-5.7 .5,-2.6 .3,-3.7 2.2,-3.8 -.2,-1.1 -1.7,-1 v -3.2 l -1.8,-1.9 -2.9,-6.1 -12.9,-45.8 -45.7,4 1.3,2 -1.3,67 4.4,33.2 .9,-.5 1.3,.1 .6,.4 .8,-.1 2,-3.8 v -2.3 l 1.1,-1.1 1.4,.5 3.4,6.4 v .9 l -3.3,2.2 3.5,-.4 4.9,-1.6 z'>\\r\\n<title>Alabama</title></path>\\r\\n\\r\\n<!-- The scale of Alaska is 42% that of the contiguous United States, so its area is reduced to about 17.6%. The Islands of Four Mountains, Andreanof Islands, Rat Islands and Near Islands are not shown. -->\\r\\n<path class='ak' d='m 15.8,572 h 2.4 l .7,.7 -1,1.2 -1.9,.2 -2.5,1.3 -3.7,-.1 2.2,-.9 .3,-1.1 2.5,-.3 z m 8.3,-1.7 1.3,.5 h .9 l .5,1.2 .3,-.6 .9,.2 1.1,1.5 0,.5 -4.2,1.9 -2.4,-.1 -1,-.5 -1.1,.7 -2,0 -1.1,-1.4 4.7,-.5 z m 5.4,-.1 1,.1 .7,.7 v 1 l -1.3,.1 -.9,-1.1 z m 2.5,.3 1.3,-.1 -.1,1 -1.1,.6 z m .3,2.2 3.4,-.1 .2,1.1 -1.3,.1 -.3,-.5 -.8,.6 -.4,-.6 -.9,-.2 z m 166.3,7.6 2.1,.1 -1,1.9 -1.1,-.1 -.4,-.8 .5,-1.3 m -1.1,-2.9 .6,-1.3 -.2,-2.3 2.4,-.5 4.5,4.4 1.3,3.4 1.9,1.6 .3,5.1 -1.4,0 -1.3,-2.3 -3.1,-2.4 h -.6 l 1.1,2.8 1.7,.2 .2,2.1 -.9,.1 -4.1,-4.4 -.1,-.9 1.9,-1 0,-1 -.5,-.8 -1.6,-.6 -1.7,-1.3 1.4,.1 .5,-.4 -.6,-.9 -.6,.5 z m -3.6,-9.1 1.3,.1 2.4,2.5 -.2,.8 -.8,-.1 -.1,1.8 .5,.5 0,1.5 -.8,.3 -.4,1.2 -.8,-.4 -.4,-2.2 1.1,-1.4 -2.1,-2.2 .1,-1.2 z m 1.5,-1.5 1.9,.2 2.5,.1 3.4,3.2 -.2,.5 -1.1,.6 -1.1,-.2 -.1,-.7 -1.2,-1.6 -.3,.7 1,1.3 -.2,1.2 -.8,-.1 -1.3,.2 -.1,-1.7 -2.6,-2.8 z m -12.7,-8.9 .9,-.4 h 1.6 l .7,-.5 4.1,2.2 .1,1.5 -.5,.5 h -.8 l -1.4,-.7 1.1,1.3 1.8,0 .5,2 -.9,0 -2.2,-1.5 -1.1,-.2 .6,1.3 .1,.9 .8,-.6 1.7,1.2 1.3,-.1 -.2,.8 1.9,4.3 0,3.4 .4,2.1 -.8,.3 -1.2,-2 -.5,-1.5 -1.6,-1.6 -.2,-2.7 -.6,-1.7 h -.7 l .3,1.1 0,.5 -1.4,1 .1,-3.3 -1.6,-1.6 -1.3,-2.3 -1.2,-1.2 z m 7.2,-2.3 1.1,1.8 2.4,-.1 1,2.1 -.6,.6 2,3.2 v 1.3 l -1.2,.8 v .7 l -2,1.9 -.5,-1.4 -.1,-1.3 .6,-.7 v -1.1 l -1.5,-1.9 -.5,-3.7 -.9,-1.5 z m -56.7,-18.3 -4,4.1 v 1.6 l 2.1,-.8 .8,-1.9 2.2,-2.4 z m -31.6,16.6 0,.6 1.8,1.2 .2,-1.4 .6,.9 3.5,.1 .7,-.6 .2,-1.8 -.5,-.7 -1.4,0 0,-.8 .4,-.6 v -.4 l -1.5,-.3 -3.3,3.6 z m -8.1,6.2 1.5,5.8 h 2.1 l 2.4,-2.5 .3,1.2 6.3,-4 .7,-1 -1,-1.1 v -.7 l .5,-1.3 -.9,-.1 -2,1 0,-1.2 -2.7,-.6 -2.4,.3 -.2,3.4 -.8,-2 -1.5,-.1 -1,.6 z m -2.2,8.2 .1,-.7 2.1,-1.3 .6,.3 1.3,.2 1.3,1.2 -2.2,-.2 -.4,-.6 -1,.6 z m -5.2,3.3 -1.1,.8 1.5,1.4 .8,-.7 -.1,-1.3 z m -6.3,-7.9 1.4,.1 .4,.6 -1.8,.1 z m -13.9,11.9 v .5 l .7,.1 -.1,-.6 z m -.4,-3.2 -1,1 v .5 l .7,1.1 1,-1 -.7,-.1 z m -2,-.8 -.3,1 -1.3,.1 -.4,.2 0,1.3 -.5,.9 .6,0 .7,-.9 .8,-.1 .9,-1 .2,-1.3 z m -4.4,-2 -.2,1.8 1.4,.8 1.2,-.6 0,-1 1.7,-.3 -.1,-.6 -.9,-.2 -.7,.6 -.9,-.5 z m -4.9,-.1 1,.7 -.3,1.2 -1.4,-1.1 z m -4.2,1.3 1.4,.1 -.7,.8 z m -3.5,3 1.8,1.1 -1.7,.1 z m -25.4,-31.2 1.2,.6 -.8,.6 z m -.7,-6.3 .4,1.2 .8,-1.2 z m 24.3,-19.3 1.5,-.1 .9,.4 1.1,-.5 1.3,-.1 1.6,.8 .8,1.9 -.1,.9 -1.2,2 -2.4,-.2 -2.1,-1.8 -1,-.4 -1.1,-2 z m -21.1,-14.4 .1,1.9 2,2 v .5 l -.8,-.2 -1.7,-.8 -.3,-1.1 -.3,-1.6 z m 18.3,-23.3 v 1.2 l 1.9,1.8 h 2.3 l .6,1.1 v 1.6 l 2.1,1.9 1.8,1.2 -.1,.7 -.7,1.1 -1.4,-1.2 -2.1,.1 -.8,-.8 -.9,-2.1 -1.5,-2.2 -2.6,-.1 -1,-.7 1,-2.1 z m 16.8,-4.5 1,0 .1,1.1 h -1 z m 16.2,19.7 .9,.1 0,1.2 -1.7,-.5 z m 127.8,77.7 -1.2,.4 -.1,1.1 h 1.2 z m -157.6,-4.5 -1.3,-.4 -4.1,.6 -2.8,1.4 -.1,1.9 1.9,.7 1.5,-.9 1.7,-.1 4.7,1.4 .1,-1.3 -1.6,-1.1 z m 2.1,2.3 -.4,-1.4 1.2,.2 .1,1.4 1.8,0 .4,-2.5 .3,2.4 2.5,-.1 3.2,-3.3 .8,.1 -.7,1.3 1.4,.9 4.2,-.2 2.6,-1.2 1.4,-.1 .3,1.5 .6,-.5 .4,-1.4 5.9,.2 1.9,-1.6 -1.3,-1.1 .6,-1.2 2.6,.2 -.2,-1.2 2.5,.2 .7,-1.1 1.1,.2 4.6,-1.9 .2,-1.7 5.6,-2.4 2,-1.9 1.2,-.6 1.3,.8 2.3,-.9 1.1,-1.9 .5,-1.3 1.7,-.9 1.5,-.7 .4,-1.4 -1.1,-1.7 -2.2,-.2 -.2,-1.3 .8,-1.6 1.4,-.2 1.3,-1.5 1.9,-.1 3.4,-3.2 .4,-1.4 1.5,-2.3 3.8,-4.1 2.5,-.9 1.9,-.9 2.1,.8 1.4,2.6 -1.5,0 -1.4,-1.5 -3,2 -1.7,.1 -.2,3.1 -3.1,4.9 .6,2 2.3,0 -.6,1 -1.4,.1 -2.4,1.8 0,.9 1.9,1 3.4,-.6 1.4,-1.7 1.4,.1 3,-1.7 .5,-2.3 1.6,-.1 6.3,.8 1,-1.1 1,-4.5 -1.6,1.1 .6,-2.2 -1.6,-1.4 .8,-1.5 .1,1.5 3.4,0 .7,-1 1.6,-.1 -.3,1.7 1.9,.1 -1.9,1.3 4.1,1.1 -3.5,.4 -1.3,1.2 .9,1.4 4.6,-1.7 2.3,1.7 .7,-.9 .6,1.4 4,2.3 h 2.9 l 3.9,-.5 4.3,1.1 2,1.9 4.5,.4 1.8,-1.5 .8,2.4 -1.8,.7 1.2,1.2 7.4,3.8 1.4,2.5 5.4,4.1 3.3,-2 -.6,-2.2 -3.5,-2 3.1,1.2 .5,-.7 .9,1.3 0,2.7 2.1,-.6 2.1,1.8 -2.5,-9.8 1.2,1.3 1.4,6 2.2,2.5 2.4,-.4 1.8,3.5 h .9 l .6,5.6 3.4,.5 1.6,2.2 1.8,1.1 .4,2.8 -1.8,2.6 2.9,1.6 1.2,-2.4 -.2,3.1 -.8,.9 1.4,1.7 .7,-2.4 -.2,-1.2 .8,.2 .6,2.3 -1,1.4 .6,2.6 .5,.4 .3,-1.6 .7,.6 -.3,2 1.2,.2 -.4,.9 1.7,-.1 0,-1 h -1 l .1,-1.7 -.8,-.6 1.7,-.3 .5,-.8 0,-1.6 .5,1.3 -.6,1.8 1.2,3.9 1.8,.1 2.2,-4.2 .1,-1.9 -1.3,-4 -.1,-1.2 .5,-1.2 -.7,-.7 -1.7,.1 -2.5,-2 -1.7,0 -2,-1.4 -1.5,0 -.5,-1.6 -1.4,-.3 -.2,-1.5 -1,-.5 .1,-1.7 -5.1,-7.4 -1.8,-1.5 v -1.2 l -4.3,-3.5 -.7,-1.1 -1.6,-2 -1.9,-.6 0,-2.2 -1.2,-1.3 -1.7,-.7 -2.1,1.3 -1.6,2.1 -.4,2.4 -1.5,.1 -2.5,2.7 -.8,-.3 v -2.5 l -2.4,-2.2 -2.3,-2 -.5,-2 -2.5,-1.3 .2,-2.2 -2.8,-.1 -.7,1.1 -1.2,0 -.7,-.7 -1.2,.8 -1.8,-1.2 0,-85.8 -6.9,-4.1 -1.8,-.5 -2.2,1.1 -2.2,.1 -2.3,-1.6 -4.3,-.6 -5.8,-3.6 -5.7,-.4 -2,.5 -.2,-1.8 -1.8,-.7 1.1,-1 -.2,-.9 -3.2,-1.1 h -2.4 l -.4,.4 -.9,-.6 .1,-2.6 -.8,-.9 -2.5,2.9 -.8,-.1 v -.8 l 1.7,-.8 v -.8 l -1.9,-2.4 -1.1,-.1 -4.5,3.1 h -3.9 l .4,-.9 -1.8,-.1 -5.2,3.4 -1.8,0 -.6,-.8 -2.7,1.5 -3.6,3.7 -2.8,2.7 -1.5,1.2  -2.6,.1 -2.2,-.4 -2.3,-1.3 v 0 l -2.8,3.9 -.1,2.4 2.6,2.4 2.1,4.5 .2,5.3 2.9,2 3.4,.4 .7,.8 -1.5,2.3 .7,2.7 -1.7,-2.6 v -2.4 l -1.5,-.3 .1,1.2 .7,2.1 2.9,3.7 h -1.4 l -2.2,1.1 -6.2,-2.5 -.1,-2 1.4,-1.3 0,-1.4 -2.1,-.5 -2.3,.2 -4.8,.2 1.5,2.3 -1.9,-1.8 -8.4,1.2 -.8,1.5 4.9,4.7 -.8,1.4 -.3,2 -.7,.8 -.1,1.9 4.4,3.6 4.1,.2 4.6,1.9 h 2 l .8,-.6 3.8,.1 .1,-.8 1.2,1.1 .1,2 -2.5,-.1 .1,3.3 .5,3.2 -2.9,2.7 -1.9,-.1 -2,-.8 -1,.1 -3.1,2.1 -1.7,.2 -1.4,-2.8 -3.1,0 -2.2,2 -.5,1.8 -3.3,1.8 -5.3,4.3 -.3,3.1 .7,2.2 1,1.2 1,-.4 .9,1 -.8,.6 -1.5,.9 1.1,1.5 -2.6,1.1 .8,2.2 1.7,2.3 .8,4.1 4,1.5 2.6,-.8 1.7,-1.1 .5,2.1 .3,4.4 -1.9,1.4 0,4.4 -.6,.9 h -1.7 l 1.7,1.2 2.1,-.1 .4,-1 4.6,-.6 2,2.6 1.3,-.7 1.3,5.1 1,.5 1,-.7 .1,-2.4 .9,-1 .7,1.1 .2,1.6 1.6,.4 4.7,-1.2 .2,1.2 -2,1.1 -1.6,1.7 -2.8,7 -4.3,2 -1.4,1.5 -.3,1.4 -1,-.6 -9.3,3.3 -1.8,4.1 -1.3,-.4 .5,-1.1 -1.5,-1.4 -3.5,-.2 -5.3,3.2 -2.2,1.3 -2.3,0 -.5,2.4 z'>\\r\\n<title>Alaska</title></path>\\r\\n\\r\\n<path class='az' d='m 139.6,387.6 3,-2.2 .8,-2.4 -1,-1.6 -1.8,-.2 -1.1,-1.6 1.1,-6.9 1.6,-.3 2.4,-3.2 1.6,-7 2.4,-3.6 4.8,-1.7 1.3,-1.3 -.4,-1.9 -2.3,-2.5 -1.2,-5.8 -1.4,-1.8 -1.3,-3.4 .9,-2.1 1.4,-3 .5,-2.9 -.5,-4.9 1,-13.6 3.5,-.6 3.7,1.4 1.2,2.7 h 2 l 2.4,-2.9 3.4,-17.5 46.2,8.2 40,6 -17.4,124.1 -37.3,-5.4 -64.2,-37.5 .5,-2.9 2,-1.8 z'>\\r\\n<title>Arizona</title></path>\\r\\n\\r\\n<path class='ar' d='m 584.2,367 .9,-2.2 1.2,.5 .7,-1 -.8,-.7 .3,-1.5 -1.1,-.9 .6,-1 -.1,-1.5 -1.1,-.1 .8,-.8 1.3,.8 .3,-1.4 -.4,-1.1 .1,-.7 2,.6 -.4,-1.5 1.6,-1.3 -.5,-.9 -1.1,.1 -.6,-.9 .9,-.9 1.6,-.2 .5,-.8 1.4,-.2 -.1,-.8 -.9,-.9 v -.5 h 1.5 l .4,-.7 -1.4,-1 -.1,-.6 -11.2,.8 2.8,-5.1 1.7,-1.5 v -2.2 l -1.6,-2.5 -39.8,2 -39.1,.7 4.1,24.4 -.7,39 2.6,2.3 2.8,-1.3 3.2,.8 .2,11.9 52.3,-1.3 1.2,-1.5 .5,-3 -1.5,-2.3 -.5,-2.2 .9,-.7 v -.8 l -1.7,-1.1 -.1,-.7 1.6,-.9 -1.2,-1.1 1.7,-7.1 3.4,-1.6 v -.8 l -1.1,-1.4 2.9,-5.4 h 1.9 l 1.5,-1.2 -.3,-5.2 3.1,-4.5 1.8,-.6 -.5,-3.1 z'>\\r\\n<title>Arkansas</title></path>\\r\\n\\r\\n<path class='ca' d='m 69.4,365.6 3.4,5.2 -1.4,.1 -1.8,-1.9 z m 1.9,-9.8 1.8,4.1 2.6,1 .7,-.6 -1.3,-2.5 -2.6,-2.4 z m -19.9,-19 v 2.4 l 2,1.2 4.4,-.2 1,-1 -3.1,-.2 z m -5.9,.1 3.3,.5 1.4,2.2 h -3.8 z m 47.9,45.5 -1,-3 .2,-3 -.4,-7.9 -1.8,-4.8 -1.2,-1.4 -.6,-1.5 -7,-8.6 -3.6,.1 -2,-1.9 1.1,-1.8 -.7,-3.7 -2.2,-1.2 -3.9,-.6 -2.8,-1.3 -1.5,-1.9 -4.5,-6.6 -2.7,-2.2 -3.7,-.5 -3.1,-2.3 -4.7,-1.5 -2.8,-.3 -2.5,-2.5 .2,-2.8 .8,-4.8 1.8,-5.1 -1.4,-1.6 -4,-9.4 -2.7,-3.7 -.4,-3 -1.6,-2.3 .2,-2.5 -2,-5 -2.9,-2.7 .6,-7.1 2.4,-.8 1.8,-3.1 -.4,-3.2 -1,-.9 h -2.5 l -2.5,-3.3 -1.5,-3.5 v -7.5 l 1.2,-4.2 .2,-2.1 2.5,.2 -.1,1.6 -.8,.7 v 2.5 l 3.7,3.2 v -4.7 l -1.4,-3.4 .5,-1.1 -1,-1.7 2.8,-1.5 -1.9,-3 -1.4,.5 -1.5,3.8 .5,1.3 -.8,1 -.9,-.1 -5.4,-6.1 .7,-5.6 -1.1,-3.9 -6.5,-12.8 .8,-10.7 2.3,-3.6 .2,-6.4 -5.5,-11.1 .3,-5.2 6.9,-7.5 1.7,-2.4 -.1,-1.4 4,-9.2 .1,-8.4 .9,-2.5 66.1,18.6 -16.4,63.1 1.1,3.5 70.4,105 -.9,2.1 1.3,3.4 1.4,1.8 1.2,5.8 2.3,2.5 .4,1.9 -1.3,1.3 -4.8,1.7 -2.4,3.6 -1.6,7 -2.4,3.2 -1.6,.3 -1.1,6.9 1.1,1.6 1.8,.2 1,1.6 -.8,2.4 -3,2.2 -2.2,-.1 z'>\\r\\n<title>California</title></path>\\r\\n\\r\\n<path class='co' d='m 374.6,323.3 -16.5,-1 -51.7,-4.8 -52.6,-6.5 11.5,-88.3 44.9,5.7 37.5,3.4 33.1,2.4 -1.4,22.1 z'>\\r\\n<title>Colorado</title></path>\\r\\n\\r\\n<path class='ct' d='m 873.5,178.9 .4,-1.1 -3.2,-12.3 -.1,-.3 -14.9,3.4 v .7 l -.9,.3 -.5,-.7 -10.5,2.4 2.8,16.3 1.8,1.5 -3.5,3.4 1.7,2.2 5.4,-4.5 1.7,-1.3 h .8 l 2.4,-3.1 1.4,.1 2.9,-1.1 h 2.1 l 5.3,-2.7 2.8,-.9 1,-1 1.5,.5 z'>\\r\\n<title>Connecticut</title></path>\\r\\n\\r\\n<path class='de' d='m 822.2,226.6 -1.6,.3 -1.5,1.1 -1.2,2.1 7.6,27.1 10.9,-2.3 -2.2,-7.6 -1.1,.5 -3.3,-2.6 -.5,-1.7 -1.8,-1 -.2,-3.7 -2.1,-2.2 -1.1,-.8 -1.2,-1.1 -.4,-3.2 .3,-2.1 1,-2.2 z'>\\r\\n<title>Delaware</title></path>\\r\\n\\r\\n<path class='fl' d='m 751.7,445.1 -4,-.7 -1.7,-.9 -2.2,1.4 v 2.5 l 1.4,2.1 -.5,4.3 -2.1,.6 -1,-1.1 -.6,-3.2 -50.1,3.3 -3.3,-6 -48.8,5.1 -.5,2.9 2.5,2.8 1.7,.7 .9,1.2 -.4,7.3 -1.1,.6 .5,.4 1,-.3 .7,-.8 10.5,-2.7 9.2,-.5 8.1,1.9 8.5,5 2.4,.8 2.2,2 -.1,2.7 h 2.4 l 1.9,-1 2.5,.1 2,-.8 2.9,-2 3.1,-2.9 1.1,-.4 .6,.5 h 1.4 l .5,-.8 -.5,-1.2 -.6,-.6 .2,-.8 2,-1.1 5,-.4 .8,1 1,.1 2.3,1 3,1.8 1.2,1.7 1.1,1.2 2.8,1.4 v 2.4 l 2.8,1.9 1,.1 1.6,1.4 .7,1.6 1,.2 .8,2.1 .7,.6 1,-1.1 2.9,.1 .5,1.4 1.1,.9 v 1.3 l 2.9,2.2 .2,9.6 -1.8,5.8 1,1.2 -.2,3.4 -.8,1.4 .7,1.2 2.3,2.3 .3,1.5 .8,1 -.4,-1.9 1.3,-.6 .8,-3.6 -3,-1.2 .1,-.6 2.6,-.4 .9,2.6 1.1,.6 .1,-2 1.1,.3 .6,.8 -.1,.7 -2.9,4.2 -.2,1.1 -1.7,1.9 v 1.1 l 3.7,3.8 5.3,7.9 1.8,2.1 v 1.8 l 2.8,4.6 2.3,.6 .7,-1.2 -2.1,.3 -3,-4.5 .2,-1.4 1.5,-.8 v -1.5 l -.6,-1.3 .9,-.9 .4,.9 .7,.5 v 4 l -1.2,-.6 -.8,.9 1.4,1.6 1,2.6 1.2,-.6 2.3,1.2 2.1,2.2 1.6,5.1 3.1,4.8 .8,-1.3 2.8,-.5 3.2,1.3 .3,1.7 3.3,3.8 .1,1.1 2.2,2.7 -.7,.5 v 2.7 l 2.7,1.4 h 1.5 l 2.7,-1.8 1.5,.3 1.1,.4 2.3,-1.7 .2,-.7 1.2,.3 2.4,-1.7 1.3,-2.3 -.7,-3.2 -.2,-1.3 1.1,-4 .6,-.2 .6,1.6 .8,-1.8 -.8,-7.2 -.4,-10.5 -1,-6.8 -.7,-1.7 -6.6,-11.1 -5.2,-9.1 -2.2,-3.3 -1.3,-3.6 -.2,-3.4 .9,-.3 v -.9 l -1.1,-2.2 -4,-4 -7.6,-9.7 -5.7,-10.4 -4.3,-10.7 -.6,-3.7 -1.2,-1 -.5,-3.8 z m 9.2,134.5 1.7,-.1 -.7,-1 z m 7.3,-1.1 v -.7 l 1.6,-.2 3.7,-3.3 1.5,-.6 2.4,-.9 .3,1.3 1.7,.8 -2.6,1.2 h -2.4 l -3.9,2.5 z m 17.2,-7.6 -3,1.4 -1,1.3 1.1,.1 z m 3.8,-2.9 -1.1,.3 -1.4,2 1.1,-.2 1.5,-1.6 z m 8.3,-15.7 -1.7,5.6 -.8,1 -1,2.6 -1.2,1.6 -.7,1.7 -1.9,2.2 v .9 l 2.7,-2.8 2.4,-3.5 .6,-2 2.1,-4.9 z'>\\r\\n<title>Florida</title></path>\\r\\n\\r\\n<path class='ga' d='m 761.8,414.1 v 1.4 l -4.2,6.2 -1.2,.2 1.5,.5 v 2 l -.9,1.1 -.6,6 -2.3,6.2 .5,2 .7,5.1 -3.6,.3 -4,-.7 -1.7,-.9 -2.2,1.4 v 2.5 l 1.4,2.1 -.5,4.3 -2.1,.6 -1,-1.1 -.6,-3.2 -50.1,3.3 -3.3,-6 -.7,-2.2 -1.5,-1.5 -.5,-1.4 .6,-6.3 -2.4,-5.7 .5,-2.6 .3,-3.7 2.2,-3.8 -.2,-1.1 -1.7,-1 v -3.2 l -1.8,-1.9 -2.9,-6.1 -12.9,-45.8 22.9,-2.9 21.4,-3 -.1,1.9 -1.9,1 -1.4,3.2 .2,1.3 6.1,3.8 2.6,-.3 3.1,4 .4,1.7 4.2,5.1 2.6,1.7 1.4,.2 2.2,1.6 1.1,2.2 2,1.6 1.8,.5 2.7,2.7 .1,1.4 2.6,2.8 5,2.3 3.6,6.7 .3,2.7 3.9,2.1 2.5,4.8 .8,3.1 4.2,.4 z'>\\r\\n<title>Georgia</title></path>\\r\\n\\r\\n<!-- Hawaii is shown in the same scale as the contiguous United States. The Northwestern Hawaiian Islands are not shown. -->\\r\\n<path class='hi' d='m 317,553.7 -.2,3.2 1.7,1.9 .1,1.2 -4.8,4.5 -.1,1.2 1.9,3.2 1.7,4.2 v 2.6 l -.5,1.2 .1,3.4 4.1,2.1 1.1,1.1 1.2,-1.1 2.1,-3.6 4.5,-2.9 3.3,-.5 2.5,-1 1.7,-1.2 3.2,-3.5 -2.8,-1.1 -1.4,-1.4 .1,-1.7 -.5,-.6 h -2 l .2,-2.5 -.7,-1.2 -2.6,-2.3 -4.5,-1.9 -2.8,-.2 -3.3,-2.7 -1.2,-.6 z m -15.3,-17 -1.1,1.5 -.1,1.7 2.7,2.4 1.9,.5 .6,1 .4,3 3.6,.2 5.3,-2.6 -.1,-2.5 -1.4,-.5 -3.5,-2.6 -1.8,-.3 -2.9,1.3 -1.5,-2.7 z m -1.5,11.5 .9,-1.4 2.5,-.3 .6,1.8 z m -7,-8.7 1.7,4 3.1,-.6 .3,-2 -1.4,-1.5 z m -4.1,-6.7 -1.1,2.4 h 5 l 4.8,1.6 2.5,-1.6 .2,-1.5 -4.8,.2 z m -16,-10.6 -1.9,2.1 -2.9,.6 .8,2.2 2.2,2.8 .1,1 2.1,-.3 2.3,.1 1.7,1.2 3.5,-.8 v -.7 l -1,-.8 -.5,-2.1 -.8,-.3 -.5,1 -1.2,-1.3 .2,-1.4 -1.8,-3.3 -1.1,-.7 z m -31.8,-12.4 -4.2,2.9 .2,2.3 2.4,1.2 1.9,1.3 2.7,.4 2.6,-2.2 -.2,-1.9 .8,-1.7 v -1.4 l -1,-.9 z m -10.8,4.8 -.3,1.2 -1.9,.9 -.6,1.8 1,.8 1.1,-1.5 1.9,-.6 .4,-2.6 z'>\\r\\n<title>Hawaii</title></path>\\r\\n\\r\\n<path class='id' d='m 165.3,183.1 -24.4,-5.4 8.5,-37.3 2.9,-5.8 .4,-2.1 .8,-.9 -.9,-2 -2.9,-1.2 .2,-4.2 4,-5.8 2.5,-.8 1.6,-2.3 -.1,-1.6 1.8,-1.6 3.2,-5.5 4.2,-4.8 -.5,-3.2 -3.5,-3.1 -1.6,-3.6 1.1,-4.3 -.7,-4 12.7,-56.1 14.2,3 -4.8,22 3.7,7.4 -1.6,4.8 3.6,4.8 1.9,.7 3.9,8.3 v 2.1 l 2.3,3 h .9 l 1.4,2.1 h 3.2 v 1.6 l -7.1,17 -.5,4.1 1.4,.5 1.6,2.6 2.8,-1.4 3.6,-2.4 1.9,1.9 .5,2.5 -.5,3.2 2.5,9.7 2.6,3.5 2.3,1.4 .4,3 v 4.1 l 2.3,2.3 1.6,-2.3 6.9,1.6 2.1,-1.2 9,1.7 2.8,-3.3 1.8,-.6 1.2,1.8 1.6,4.1 .9,.1 -8.5,54.8 -47.9,-8.2 z'>\\r\\n<title>Idaho</title></path>\\r\\n\\r\\n<path class='il' d='m 623.5,265.9 -1,5.2 v 2 l 2.4,3.5 v .7 l -.3,.9 .9,1.9 -.3,2.4 -1.6,1.8 -1.3,4.2 -3.8,5.3 -.1,7 h -1 l .9,1.9 v .9 l -2.2,2.7 .1,1.1 1.5,2.2 -.1,.9 -3.7,.6 -.6,1.2 -1.2,-.6 -1,.5 -.4,3.3 1.7,1.8 -.4,2.4 -1.5,.3 -6.9,-3 -4,3.7 .3,1.8 h -2.8 l -1.4,-1.5 -1.8,-3.8 v -1.9 l .8,-.6 .1,-1.3 -1.7,-1.9 -.9,-2.5 -2.7,-4.1 -4.8,-1.3 -7.4,-7.1 -.4,-2.4 2.8,-7.6 -.4,-1.9 1.2,-1.1 v -1.3 l -2.8,-1.5 -3,-.7 -3.4,1.2 -1.3,-2.3 .6,-1.9 -.7,-2.4 -8.6,-8.4 -2.2,-1.5 -2.5,-5.9 -1.2,-5.4 1.4,-3.7 .7,-.7 .1,-2.3 -.7,-.9 1,-1.5 1.8,-.6 .9,-.3 1,-1.2 v -2.4 l 1.7,-2.4 .5,-.5 .1,-3.5 -.9,-1.4 -1,-.3 -1.1,-1.6 1,-4 3,-.8 h 2.4 l 4.2,-1.8 1.7,-2.2 .1,-2.4 1.1,-1.3 1.3,-3.2 -.1,-2.6 -2.8,-3.5 h -1.2 l -.9,-1.1 .2,-1.6 -1.7,-1.7 -2.5,-1.3 .5,-.6 45.9,-2.8 .1,4.6 3.4,4.6 1.2,4.1 1.6,3.2 z'>\\r\\n<title>Illinois</title></path>\\r\\n\\r\\n<path class='in' d='m 629.2,214.8 -5.1,2.3 -4.7,-1.4 4.1,50.2 -1,5.2 v 2 l 2.4,3.5 v .7 l -.3,.9 .9,1.9 -.3,2.4 -1.6,1.8 -1.3,4.2 -3.8,5.3 -.1,7 h -1 l .9,1.9 1.1,.8 .6,-1 -.7,-1.7 4.6,-.5 .2,1.2 1.1,.2 .4,-.9 -.6,-1.3 .3,-.8 1.3,.8 1.7,-.4 1.7,.6 3.4,2.1 1.8,-2.8 3.5,-2.2 3,3.3 1.6,-2.1 .3,-2.7 3.8,-2.3 .2,1.3 1.9,1.2 3,-.2 1.2,-.7 .1,-3.4 2.5,-3.7 4.6,-4.4 -.1,-1.7 1.2,-3.8 2.2,1 6.7,-4.5 -.4,-1.7 -1.5,-2.1 1,-1.9 -6.6,-57.2 -.1,-1.4 -32.4,3.4 z'>\\r\\n<title>Indiana</title></path>\\r\\n\\r\\n<path class='ia' d='m 556.9,183 2.1,1.6 .6,1.1 -1.6,3.3 -.1,2.5 2,5.5 2.7,1.5 3.3,.7 1.3,2.8 -.5,.6 2.5,1.3 1.7,1.7 -.2,1.6 .9,1.1 h 1.2 l 2.8,3.5 .1,2.6 -1.3,3.2 -1.1,1.3 -.1,2.4 -1.7,2.2 -4.2,1.8 h -2.4 l -3,.8 -1,4 1.1,1.6 1,.3 .9,1.4 -.1,3.5 -.5,.5 -1.7,2.4 v 2.4 l -1,1.2 -.9,.3 -1.8,.6 -1,1.5 .7,.9 -.1,2.3 -.7,.7 -1.5,-.8 -1.1,-1.1 -.6,-1.6 -1.7,-1.3 -14.3,.8 -27.2,1.2 -25.9,-.1 -1.8,-4.4 .7,-2.2 -.8,-3.3 .2,-2.9 -1.3,-.7 -.4,-6.1 -2.8,-5 -.2,-3.7 -2.2,-4.3 -1.3,-3.7 v -1.4 l -.6,-1.7 v -2.3 l -.5,-.9 -.7,-1.7 -.3,-1.3 -1.3,-1.2 1,-4.3 1.7,-5.1 -.7,-2 -1.3,-.4 -.4,-1.6 1,-.5 .1,-1.1 -1.3,-1.5 .1,-1.6 2.2,.1 h 28.2 l 36.3,-.9 18.6,-.7 z'>\\r\\n<title>Iowa</title></path>\\r\\n\\r\\n<path class='ks' d='m 459.1,259.5 -43.7,-1.2 -36,-2 -4.8,67 67.7,2.9 62,.1 -.5,-48.1 -3.2,-.7 -2.6,-4.7 -2.5,-2.5 .5,-2.3 2.7,-2.6 .1,-1.2 -1.5,-2.1 -.9,1 -2,-.6 -2.9,-3 z'>\\r\\n<title>Kansas</title></path>\\r\\n\\r\\n<path class='ky' d='m 692.1,322.5 -20.5,1.4 -5.2,.8 -17.4,1 -2.6,.8 -22.6,2 -.7,-.6 h -3.7 l 1.2,3.2 -.6,.9 -23.3,1.5 1,-2.7 1.4,.9 .7,-.4 1.2,-4.1 -1,-1 1,-2 .2,-.9 -1.3,-.8 -.3,-1.8 4,-3.7 6.9,3 1.5,-.3 .4,-2.4 -1.7,-1.8 .4,-3.3 1,-.5 1.2,.6 .6,-1.2 3.7,-.6 .1,-.9 -1.5,-2.2 -.1,-1.1 2.2,-2.7 0,-.9 1.1,.8 .6,-1 -.7,-1.7 4.6,-.5 .2,1.2 1.1,.2 .4,-.9 -.6,-1.3 .3,-.8 1.3,.8 1.7,-.4 1.7,.6 3.4,2.1 1.8,-2.8 3.5,-2.2 3,3.3 1.6,-2.1 .3,-2.7 3.8,-2.3 .2,1.3 1.9,1.2 3,-.2 1.2,-.7 .1,-3.4 2.5,-3.7 4.6,-4.4 -.1,-1.7 1.2,-3.8 2.2,1 6.7,-4.5 -.4,-1.7 -1.5,-2.1 1,-1.9 1.3,.5 2.2,.1 1.9,-.8 2.9,1.2 2.2,3.4 v 1 l 4.1,.7 2.3,-.2 1.9,2.1 2.2,.2 v -1 l 1.9,-.8 3,.8 1.2,.8 1.3,-.7 h .9 l .6,-1.7 3.4,-1.8 .5,.8 .8,2.9 3.5,1.4 1.2,2.1 -.1,1.1 .6,1 -.6,3.6 1.9,1.6 .8,1.1 1,.6 -.1,.9 4.4,5.6 h 1.4 l 1.5,1.8 1.2,.3 1.4,-.1 -4.9,6.6 -2.9,1 -3,3 -.4,2.2 -2.1,1.3 -.1,1.7 -1.4,1.4 -1.8,.5 -.5,1.9 -1,.4 -6.9,4.2 z m -98,11.3 -.7,-.7 .2,-1 h 1.1 l .7,.7 -.3,1 z'>\\r\\n<title>Kentucky</title></path>\\r\\n\\r\\n<path class='la' d='m 602.5,472.8 -1.2,-1.8 .3,-1.3 -4.8,-6.8 .9,-4.6 1,-1.4 .1,-1.4 -36,2 1.7,-11.9 2.4,-4.8 6,-8.4 -1.8,-2.5 h 2 v -3.3 l -2.4,-2.5 .5,-1.7 -1.2,-1 -1.6,-7.1 .6,-1.4 -52.3,1.3 .5,19.9 .7,3.4 2.6,2.8 .7,5.4 3.8,4.6 .8,4.3 h 1 l -.1,7.3 -3.3,6.4 1.3,2.3 -1.3,1.5 .7,3 -.1,4.3 -2.2,3.5 -.1,.8 -1.7,1.2 1,1.8 1.2,1.1 1.6,-1.3 5.3,-.9 6.1,-.1 9.6,3.8 8,1 1.5,-1.4 1.8,-.2 4.8,2.2 1.6,-.4 1.1,-1.5 -4.2,-1.8 -2.2,1 -1.1,-.2 -1.4,-2 3.3,-2.2 1.6,-.1 v 1.7 l 1.5,-.1 3.4,-.3 .4,2.3 1.1,.4 .6,1.9 4.8,1 1.7,1.6 v .7 h -1.2 l -1.5,1.7 1.7,1.2 5.4,1 2.7,2.8 4.4,-1 -3.7,.2 -.1,-.6 2.8,-.7 .2,-1.8 1.2,-.3 v -1.4 l 1.1,.1 v 1.6 l 2.5,.1 .8,-1.9 .9,.3 .2,2.5 1.2,.2 -1.8,2 2.6,-.9 2,-1.1 2.9,-3.3 h -.7 l -1.3,1.2 -.4,-.1 -.5,-.8 .9,-1.2 v -2.3 l 1.1,-.8 .7,.7 1,-.8 1,-.1 .6,1.3 -.6,1.9 h 2.4 l 5.1,1.7 .5,1.3 1.6,1.4 2.8,.1 1.3,.7 1.8,-1 .9,-1.7 v -1.7 h -1.4 l -1.2,-1.4 -1.1,-1.1 -3.2,-.9 -2.6,.2 -4.2,-2.4 v -2.3 l 1.3,-1 2.4,.6 -3.1,-1.6 .2,-.8 h 3.6 l 2.6,-3.5 -2.6,-1.8 .8,-1.5 -1.2,-.8 h -.8 l -2,2.1 v 2.1 l -.6,.7 -1.1,-.1 -1.6,-1.4 h -1.3 v -1.5 l .6,-.7 .8,.7 1.7,-1.6 .7,-1.6 .8,-.3 z m -10.3,-2.7 1.9,1 .8,1.1 2.5,.1 1.5,.8 .2,1.4 -.4,.6 -.9,-1.5 -1.4,1.2 -.9,1.4 -2.8,.8 -1.6,.1 -3.7,-1 .1,-1.7 2,-2 1.1,-2.4 z m -4.7,1.2 v 1.1 l -1.8,2 h -1.2 v -2.2 l 1.6,-1.5 z'>\\r\\n<title>Louisiana</title></path>\\r\\n\\r\\n<path class='me' d='m 875,128.7 .6,4 3.2,2 .8,2.2 2.3,1.4 1.4,-.3 1,-3 -.8,-2.9 1.6,-.9 .5,-2.8 -.6,-1.3 3.3,-1.9 -2.2,-2.3 .9,-2.4 1.4,-2.2 .5,3.2 1.6,-2 1.3,.9 1.2,-.8 v -1.7 l 3.2,-1.3 .3,-2.9 2.5,-.2 2.7,-3.7 v -.7 l -.9,-.5 -.1,-3.3 .6,-1.1 .2,1.6 1,-.5 -.2,-3.2 -.9,.3 -.1,1.2 -1.2,-1.4 .9,-1.4 .6,.1 1.1,-.4 .5,2.8 2,-.3 2.9,.7 v -1 l -1.1,-1.2 1.3,.1 .1,-2.3 .6,.8 .3,1.9 2.1,1.5 .2,-1 .9,-.2 -.3,-.8 .8,-.6 -.1,-1.6 -1.6,-.2 -2,.7 1.4,-1.6 .7,-.8 1.3,-.2 .4,1.3 1.7,1.6 .4,-2.1 2.3,-1.2 -.9,-1.3 .1,-1.7 1.1,.5 h .7 l 1.7,-1.4 .4,-2.3 2.2,.3 .1,-.7 .2,-1.6 .5,1.4 1.5,-1 2.3,-4.1 -.1,-2.2 -1.4,-2 -3,-3.2 h -1.9 l -.8,2.2 -2.9,-3 .3,-.8 v -1.5 l -1.6,-4.5 -.8,-.2 -.7,.4 h -4.8 l -.3,-3.6 -8.1,-26 -7.3,-3.7 -2.9,-.1 -6.7,6.6 -2.7,-1 -1,-3.9 h -2.7 l -6.9,19.5 .7,6.2 -1.7,2.4 -.4,4.6 1.3,3.7 .8,.2 v 1.6 l -1.6,4.5 -1.5,1.4 -1.3,2.2 -.4,7.8 -2.4,-1 -1.5,.4 z m 34.6,-24.7 -1,.8 v 1.3 l .7,-.8 .9,.8 .4,-.5 1.1,.2 -1,-.8 .4,-.8 z m -1.7,2.6 -1,1.1 .5,.4 -.1,1 h 1.1 v -1.8 z m -3,-1.6 .9,1.3 1,.5 .3,-1 v -1.8 l -1.3,-.7 -.4,1.2 z m -1,5 -1.7,-1.7 1.6,-2.4 .8,.3 .2,1.1 1,.8 v 1.1 l -1,1 z'>\\r\\n<title>Maine</title></path>\\r\\n\\r\\n<path class='md' d='m 822.9,269.3 0,-1.7 h -.8 l 0,1.8 z m 11.8,-3.9 1.2,-2.2 .1,-2.5 -.6,-.6 -.7,.9 -.2,2.1 -.8,1.4 -.3,1.1 -4.6,1.6 -.7,.8 -1.3,.2 -.4,.9 -1.3,.6 -.3,-2.5 .4,-.7 -.8,-.5 .2,-1.5 -1.6,1 v -2 l 1.2,-.3 -1.9,-.4 -.7,-.8 .4,-1.3 -.8,-.6 -.7,1.6 .5,.8 -.7,.6 -1.1,.5 -2,-1 -.2,-1.2 -1,-1.1 -1.4,-1.7 1.5,-.8 -1,-.6 v -.9 l .6,-1 1.7,-.3 -1.4,-.6 -.1,-.7 -1.3,-.1 -.4,1.1 -.6,.3 .1,-3.4 1,-1 .8,.7 .1,-1.6 -1,-.9 -.9,1.1 -1,1.4 -.6,-1 .2,-2.4 .9,-1 .9,.9 1.2,-.7 -.4,-1.7 -1,1 -.9,-2.1 -.2,-1.7 1.1,-2.4 1.1,-1.4 1.4,-.2 -.5,-.8 .5,-.6 -.3,-.7 .2,-2.1 -1.5,.4 -.8,1.1 1,1.3 -2.6,3.6 -.9,-.4 -.7,.9 -.6,2.2 -1.8,.5 1.3,.6 1.3,1.3 -.2,.7 .9,1.2 -1.1,1 .5,.3 -.5,1.3 v 2.1 l -.5,1.3 .9,1.1 .7,3.4 1.3,1.4 1.6,1.4 .4,2.8 1.6,2 .4,1.4 v 1 h -.7 l -1.5,-1.2 -.4,.2 -1.2,-.2 -1.7,-1.4 -1.4,-.3 -1,.5 -1.2,-.3 -.4,.2 -1.7,-.8 -1,-1 -1,-1.3 -.6,-.2 -.8,.7 -1.6,1.3 -1.1,-.8 -.4,-2.3 .8,-2.1 -.3,-.5 .3,-.4 -.7,-1 1,-.1 1,-.9 .4,-1.8 1.7,-2.6 -2.6,-1.8 -1,1.7 -.6,-.6 h -1 l -.6,-.1 -.4,-.4 .1,-.5 -1.7,-.6 -.8,.3 -1.2,-.1 -.7,-.7 -.5,-.2 -.2,-.7 .6,-.8 v -.9 l -1.2,-.2 -1,-.9 -.9,.1 -1.6,-.3 -.9,-.4 .2,-1.6 -1,-.5 -.2,-.7 h -.7 l -.8,-1.2 .2,-1 -2.6,.4 -2.2,-1.6 -1.4,.3 -.9,1.4 h -1.3 l -1.7,2.9 -3.3,.4 -1.9,-1 -2.6,3.8 -2.2,-.3 -3.1,3.9 -.9,1.6 -1.8,1.6 -1.7,-11.4 60.5,-11.8 7.6,27.1 10.9,-2.3 0,5.3 -.1,3.1 -1,1.8 z m -13.4,-1.8 -1.3,.9 .8,1.8 1.7,.8 -.4,-1.6 z'>\\r\\n<title>Maryland</title></path>\\r\\n\\r\\n<path class='ma' d='m 899.9,174.2 h 3.4 l .9,-.6 .1,-1.3 -1.9,-1.8 .4,1 -1.5,1.5 h -2.3 l .1,.8 z m -9,1.8 -1.2,-.6 1,-.8 .6,-2.1 1.2,-1 .8,-.2 .6,.9 1.1,.2 .6,-.6 .5,1.9 -1.3,.3 -2.8,.7 z m -34.9,-23.4 18.4,-3.8 1,-1.5 .3,-1.7 1.9,-.6 .5,-1.1 1.7,-1.1 1.3,.3 1.7,3.3 1,.4 1.1,-1.3 .8,1.3 v 1.1 l -3,2.4 .2,.8 -.9,1 .4,.8 -1.3,.3 .9,1.2 -.8,.7 .6,1 .9,-.2 .3,-.8 1.1,.6 h 1.8 l 2.5,2.6 .2,2.6 1.8,.1 .8,1.1 .6,2 1,.7 h 1.9 l 1.9,-.1 .8,-.9 1.6,-1.2 1.1,-.3 -1.2,-2.1 -.3,.9 -1.5,-3.6 h -.8 l -.4,.9 -1.2,-1 1.3,-1.1 1.8,.4 2.3,2.1 1.3,2.7 1.2,3.3 -1,2.8 v -1.8 l -.7,-1 -3.5,2.3 -.9,-.3 -1.6,1 -.1,1.2 -2.2,1.2 -2,2.1 -2,1.9 h -1.2 l 3.3,-3.3 .5,-1.9 -.5,-.6 -.3,-1.3 -.9,-.1 -.1,1.3 -1,1.2 h -1.2 l -.3,1.1 .4,1.2 -1.2,1.1 -1.1,-.2 -.4,1 -1.4,-3 -1.3,-1.1 -2.6,-1.3 -.6,-2.2 h -.8 l -.7,-2.6 -6.5,2 -.1,-.3 -14.9,3.4 v .7 l -.9,.3 -.5,-.7 -10.5,2.4 -.7,-1 .5,-15 z'>\\r\\n<title>Massachusetts</title></path>\\r\\n\\r\\n<path class='mi' d='m 663.3,209.8 .1,1.4 21.4,-3.5 .5,-1.2 3.9,-5.9 v -4.3 l .8,-2.1 2.2,-.8 2,-7.8 1,-.5 1,.6 -.2,.6 -1.1,.8 .3,.9 .8,.4 1.9,-1.4 .4,-9.8 -1.6,-2.3 -1.2,-3.7 v -2.5 l -2.3,-4.4 v -1.8 l -1.2,-3.3 -2.3,-3 -2.9,-1 -4.8,3 -2.5,4.6 -.2,.9 -3,3.5 -1.5,-.2 -2.9,-2.8 -.1,-3.4 1.5,-1.9 2,-.2 1.2,-1.7 .2,-4 .8,-.8 1.1,-.1 .9,-1.7 -.2,-9.6 -.3,-1.3 -1.2,-1.2 -1.7,-1 -.1,-1.8 .7,-.6 1.8,.8 -.3,-1.7 -1.9,-2.7 -.7,-1.6 -1.1,-1.1 h -2.2 l -8.1,-2.9 -1.4,-1.7 -3.1,-.3 -1.2,.3 -4.4,-2.3 h -1.4 l .5,1 -2.7,-.1 .1,.6 .6,.6 -2.5,2.1 .1,1.8 1.5,2.3 1.5,.2 v .6 l -1.5,.5 -2.1,-.1 -2.8,2.5 .1,2.5 .4,5.8 -2.2,3.4 .8,-4.5 -.8,-.6 -.9,5.3 -1,-2.3 .5,-2.3 -.5,-1 .6,-1.3 -.6,-1.1 1,-1 v -1.2 l -1.3,.6 -1.3,3.1 -.7,.7 -1.3,2.4 -1.7,-.2 -.1,1.2 h -1.6 l .2,1.5 .2,2 -3,1.2 .1,1.3 1,1.7 -.1,5.2 -1.3,4.4 -1.7,2.5 1.2,1.4 .8,3.5 -1,2.5 -.2,2.1 1.7,3.4 2.5,4.9 1.2,1.9 1.6,6.9 -.1,8.8 -.9,3.9 -2,3.2 -.9,3.7 -2,3 -1.2,1 z m -95.8,-96.8 3,3.8 17,3.8 1.4,1 4,.8 .7,.5 2.8,-.2 4.9,.8 1.4,1.5 -1,1 .8,.8 3.8,.7 1.2,1.2 .1,4.4 -1.3,2.8 2,.1 1,-.8 .9,.8 -1.1,3.1 1,1.6 1.2,.3 .8,-1.8 2.9,-4.6 1.6,-6 2.3,-2 -.5,-1.6 .5,-.9 1,1.6 -.3,2.2 2.9,-2.2 .2,-2.3 2.1,.6 .8,-1.6 .7,.6 -.7,1.5 -1,.5 -1,2 1.4,1.8 1.1,-.5 -.5,-.7 1,-1.5 1.9,-1.7 h .8 l .2,-2.6 2,-1.8 7.9,-.5 1.9,-3.1 3.8,-.3 3.8,1.2 4.2,2.7 .7,-.2 -.2,-3.5 .7,-.2 4.5,1.1 1.5,-.2 2.9,-.7 1.7,.4 1.8,.1 v -1.1 l -.7,-.9 -1.5,-.2 -1.1,-.8 .5,-1.4 -.8,-.3 -2.6,.1 -.1,-1 1.1,-.8 .6,.8 .5,-1.8 -.7,-.7 .7,-.2 -1.4,-1.3 .3,-1.3 .1,-1.9 h -1.3 l -1.5,1 -1.9,.1 -.5,1.8 -1.9,.2 -.3,-1.2 -2.2,.1 -1,1.2 -.7,-.1 -.2,-.8 -2.6,.4 -.1,-4.8 1,-2 -.7,-.1 -1.8,1.1 h -2.2 l -3.8,2.7 -6.2,.3 -4.1,.8 -1.9,1.5 -1.4,1.3 -2.5,1.7 -.3,.8 -.6,-1.7 -1.3,-.6 v .6 l .7,.7 v 1.3 l -1.5,-.6 h -.6 l -.3,1.2 -2,-1.9 -1.3,-.2 -1.3,1.5 -3.2,-.1 -.5,-1.4 -2,-1.9 -1.3,-1.6 v -.7 l -1.1,-1.4 -2.6,-1.2 -3.3,-.1 -1.1,-.9 h -1.4 l -.7,.4 -2.2,2.2 -.7,1.1 -1,-.7 .2,-1 .8,-2.1 3.2,-5 .8,-.2 1.7,-1.9 .7,-1.6 3,-.6 .8,-.6 -.1,-1 -.5,-.5 -4.5,.2 -2,.5 -2.6,1.2 -1.2,1.2 -1.7,2.2 -1.8,1 -3.3,3.4 -.4,1.6 -7.4,4.6 -4,.5 -1.8,.4 -2.3,3 -1.8,.7 -4.4,2.3 z m 100.7,3.8 3.8,.1 .6,-.5 -.2,-2 -1.7,-1.8 -1.9,.1 -.1,.5 1.1,.4 -1.6,.8 -.3,1 -.6,-.6 -.4,.8 z m -75.1,-41.9 -2.3,.2 -2.7,1.9 -7.1,5.3 .8,1 1.8,.3 2.8,-2 -1.1,-.5 2.3,-1.6 h 1 l 3,-1.9 -.1,-.9 z m 41.1,62.8 v 1 l 2.1,1.6 -.2,-2.4 z m -.7,2.8 1.1,.1 v .9 h -1 z m 21.4,-21.3 v .9 l .8,-.2 v -.5 z m 4.7,3.1 -.1,-1.1 -1.6,-.2 -.6,-.4 h -.9 l -.4,.3 .9,.4 1.1,1.1 z m -18,1.2 -.1,1.1 -.3,.7 .2,2.2 .4,.3 .7,.1 .5,-.9 .1,-1.6 -.3,-.6 -.1,-1.1 z'>\\r\\n<title>Michigan</title></path>\\r\\n\\r\\n<path class='mn' d='m 464.7,68.6 -1.1,2.8 .8,1.4 -.3,5.1 -.5,1.1 2.7,9.1 1.3,2.5 .7,14 1,2.7 -.4,5.8 2.9,7.4 .3,5.8 -.1,2.1 -.1,2.2 -.9,2 -3.1,1.9 -.3,1.2 1.7,2.5 .4,1.8 2.6,.6 1.5,1.9 -.2,39.5 h 28.2 l 36.3,-.9 18.6,-.7 -1.1,-4.5 -.2,-3 -2.2,-3 -2.8,-.7 -5.2,-3.6 -.6,-3.3 -6.3,-3.1 -.2,-1.3 h -3.3 l -2.2,-2.6 -2,-1.3 .7,-5.1 -.9,-1.6 .5,-5.4 1,-1.8 -.3,-2.7 -1.2,-1.3 -1.8,-.3 v -1.7 l 2.8,-5.8 5.9,-3.9 -.4,-13 .9,.4 .6,-.5 .1,-1.1 .9,-.6 1.4,1.2 .7,-.1 v 0 l -1.2,-2.2 4.3,-3.1 3.1,-3.7 1.6,-.8 4.7,-5.9 6.3,-5.8 3.9,-2.1 6.3,-2.7 7.6,-4.5 -.6,-.4 -3.7,.7 -2.8,.1 -1,-1.6 -1.4,-.9 -9.8,1.2 -1,-2.8 -1.6,-.1 -1.7,.8 -3.7,3.1 h -4.1 l -2.1,-1 -.3,-1.7 -3.9,-.8 -.6,-1.6 -.7,-1.3 -1,.9 -2.6,.1 -9.9,-5.5 h -2.9 l -.8,-.7 -3.1,1.3 -.8,1.3 -3.3,.8 -1.3,-.2 v -1.7 l -.7,-.9 h -5.9 l -.4,-1.4 h -2.6 l -1.1,.4 -2.4,-1.7 .3,-1.4 -.6,-2.4 -.7,-1.1 -.2,-3 -1,-3.1 -2.1,-1.6 h -2.9 l .1,8 -30.9,-.4 z'>\\r\\n<title>Minnesota</title></path>\\r\\n\\r\\n<path class='ms' d='m 623.8,468.6 -5,.1 -2.4,-1.5 -7.9,2.5 -.9,-.7 -.5,.2 -.1,1.6 -.6,.1 -2.6,2.7 -.7,-.1 -.6,-.7 -1.2,-1.8 .3,-1.3 -4.8,-6.8 .9,-4.6 1,-1.4 .1,-1.4 -36,2 1.7,-11.9 2.4,-4.8 6,-8.4 -1.8,-2.5 h 2 v -3.3 l -2.4,-2.5 .5,-1.7 -1.2,-1 -1.6,-7.1 .6,-1.4 1.2,-1.5 .5,-3 -1.5,-2.3 -.5,-2.2 .9,-.7 v -.8 l -1.7,-1.1 -.1,-.7 1.6,-.9 -1.2,-1.1 1.7,-7.1 3.4,-1.6 v -.8 l -1.1,-1.4 2.9,-5.4 h 1.9 l 1.5,-1.2 -.3,-5.2 3.1,-4.5 1.8,-.6 -.5,-3.1 38.3,-2.6 1.3,2 -1.3,67 4.4,33.2 z'>\\r\\n<title>Mississippi</title></path>\\r\\n\\r\\n<path class='mo' d='m 555.3,248.9 -1.1,-1.1 -.6,-1.6 -1.7,-1.3 -14.3,.8 -27.2,1.2 -25.9,-.1 1.3,1.3 -.3,1.4 2.1,3.7 3.9,6.3 2.9,3 2,.6 .9,-1 1.5,2.1 -.1,1.2 -2.7,2.6 -.5,2.3 2.5,2.5 2.6,4.7 3.2,.7 .5,48.1 .2,10.8 39.1,-.7 39.8,-2 1.6,2.5 v 2.2 l -1.7,1.5 -2.8,5.1 11.2,-.8 1,-2 1.2,-.5 v -.7 l -1.2,-1.1 -.6,-1 1.7,.2 .8,-.7 -1.4,-1.5 1.4,-.5 .1,-1 -.6,-1 v -1.3 l -.7,-.7 .2,-1 h 1.1 l .7,.7 -.3,1 .8,.7 .8,-1 1,-2.7 1.4,.9 .7,-.4 1.2,-4.1 -1,-1 1,-2 .2,-.9 -1.3,-.8 h -2.8 l -1.4,-1.5 -1.8,-3.8 v -1.9 l .8,-.6 .1,-1.3 -1.7,-1.9 -.9,-2.5 -2.7,-4.1 -4.8,-1.3 -7.4,-7.1 -.4,-2.4 2.8,-7.6 -.4,-1.9 1.2,-1.1 v -1.3 l -2.8,-1.5 -3,-.7 -3.4,1.2 -1.3,-2.3 .6,-1.9 -.7,-2.4 -8.6,-8.4 -2.2,-1.5 -2.5,-5.9 -1.2,-5.4 1.4,-3.7 z'>\\r\\n<title>Missouri</title></path>\\r\\n\\r\\n<path class='mt' d='m 247,130.5 57.3,7.9 51,5.3 2,-20.7 5.2,-66.7 -53.5,-5.6 -54.3,-7.7 -65.9,-12.5 -4.8,22 3.7,7.4 -1.6,4.8 3.6,4.8 1.9,.7 3.9,8.3 v 2.1 l 2.3,3 h .9 l 1.4,2.1 h 3.2 v 1.6 l -7.1,17 -.5,4.1 1.4,.5 1.6,2.6 2.8,-1.4 3.6,-2.4 1.9,1.9 .5,2.5 -.5,3.2 2.5,9.7 2.6,3.5 2.3,1.4 .4,3 v 4.1 l 2.3,2.3 1.6,-2.3 6.9,1.6 2.1,-1.2 9,1.7 2.8,-3.3 1.8,-.6 1.2,1.8 1.6,4.1 .9,.1 z'>\\r\\n<title>Montana</title></path>\\r\\n\\r\\n<path class='ne' d='m 402.5,191.1 38,1.6 3.4,3.2 1.7,.2 2.1,2 1.8,-.1 1.8,-2 1.5,.6 1,-.7 .7,.5 .9,-.4 .7,.4 .9,-.4 1,.5 1.4,-.6 2,.6 .6,1.1 6.1,2.2 1.2,1.3 .9,2.6 1.8,.7 1.5,-.2 .5,.9 v 2.3 l .6,1.7 v 1.4 l 1.3,3.7 2.2,4.3 .2,3.7 2.8,5 .4,6.1 1.3,.7 -.2,2.9 .8,3.3 -.7,2.2 1.8,4.4 1.3,1.3 -.3,1.4 2.1,3.7 3.9,6.3 h -32.4 l -43.7,-1.2 -36,-2 1.4,-22.1 -33.1,-2.4 3.7,-44.2 z'>\\r\\n<title>Nebraska</title></path>\\r\\n\\r\\n<path class='nv' d='m 167.6,296.8 -3.4,17.5 -2.4,2.9 h -2 l -1.2,-2.7 -3.7,-1.4 -3.5,.6 -1,13.6 .5,4.9 -.5,2.9 -1.4,3 -70.4,-105 -1.1,-3.5 16.4,-63.1 47,11.2 24.4,5.4 23.3,4.7 z'>\\r\\n<title>Nevada</title></path>\\r\\n\\r\\n<path class='nh' d='m 862.6,93.6 -1.3,.1 -1,-1.1 -1.9,1.4 -.5,6.1 1.2,2.3 -1.1,3.5 2.1,2.8 -.4,1.7 .1,1.3 -1.1,2.1 -1.4,.4 -.6,1.3 -2.1,1 -.7,1.5 1.4,3.4 -.5,2.5 .5,1.5 -1,1.9 .4,1.9 -1.3,1.9 .2,2.2 -.7,1.1 .7,4.5 .7,1.5 -.5,2.6 .9,1.8 -.2,2.5 -.5,1.3 -.1,1.4 2.1,2.6 18.4,-3.8 1,-1.5 .3,-1.7 1.9,-.6 .5,-1.1 1.7,-1.1 1.3,.3 .8,-4.8 -2.3,-1.4 -.8,-2.2 -3.2,-2 -.6,-4 -11.9,-36.8 z'>\\r\\n<title>New Hampshire</title></path>\\r\\n\\r\\n<path class='nj' d='m 842.5,195.4 -14.6,-4.9 -1.8,2.5 .1,2.2 -3,5.4 1.5,1.8 -.7,2 -1,1 .5,3.6 2.7,.9 1,2.8 2.1,1.1 4.2,3.2 -3.3,2.6 -1.6,2.3 -1.8,3 -1.6,.6 -1.4,1.7 -1,2.2 -.3,2.1 .8,.9 .4,2.3 1.2,.6 2.4,1.5 1.8,.8 1.6,.8 .1,1.1 .8,.1 1.1,-1.2 .8,.4 2.1,.2 -.2,2.9 .2,2.5 1.8,-.7 1.5,-3.9 1.6,-4.8 2.9,-2.8 .6,-3.5 -.6,-1.2 1.7,-2.9 v -1.2 l -.7,-1.1 1.2,-2.7 -.3,-3.6 -.6,-8.2 -1.2,-1.4 v 1.4 l .5,.6 h -1.1 l -.6,-.4 -1.3,-.2 -.9,.6 -1.2,-1.6 .7,-1.7 v -1 l 1.7,-.7 .8,-2.1 z'>\\r\\n<title>New Jersey</title></path>\\r\\n\\r\\n<path class='nm' d='m 357.5,332.9 h -.8 l -7.9,99.3 -31.8,-2.6 -34.4,-3.6 -.3,3 2,2.2 -30.8,-4.1 -1.4,10.2 -15.7,-2.2 17.4,-124.1 52.6,6.5 51.7,4.8 z'>\\r\\n<title>New Mexico</title></path>\\r\\n\\r\\n<path class='ny' d='m 872.9,181.6 -1.3,.1 -.5,1 z m -30.6,22.7 .7,.6 1.3,-.3 1.1,.3 .9,-1.3 h 1.9 l 2.4,-.9 5.1,-2.1 -.5,-.5 -1.9,.8 -2,.9 .2,-.8 2.6,-1.1 .8,-1 1.2,.1 4.1,-2.3 v .7 l -4.2,3 4.5,-2.8 1.7,-2.2 1.5,-.1 4.5,-3.1 3.2,-3.1 3,-2.3 1,-1.2 -1.7,-.1 -1,1.2 -.2,.7 -.9,.7 -.8,-1.1 -1.7,1 -.1,.9 -.9,-.2 .5,-.9 -1.2,-.7 -.6,.9 .9,.3 .2,.5 -.3,.5 -1.4,2.6 h -1.9 l .9,-1.8 .9,-.6 .3,-1.7 1.4,-1.6 .9,-.8 1.5,-.7 -1.2,-.2 -.7,.9 h -.7 l -1.1,.8 -.2,1 -2.2,2.1 -.4,.9 -1.4,.9 -7.7,1.9 .2,.9 -.9,.7 -2,.3 -1,-.6 -.2,1.1 -1.1,-.4 .1,1 -1.2,-.1 -1.2,.5 -.2,1.1 h -1 l .2,1 h -.7 l .2,1 -1.8,.4 -1.5,2.3 z m -.8,-.4 -1.6,.4 v 1 l -.7,1.6 .6,.7 2.4,-2.3 -.1,-.9 z m -10.1,-95.2 -.6,1.9 1.4,.9 -.4,1.5 .5,3.2 2.2,2.3 -.4,2.2 .6,2 -.4,1 -.3,3.8 3.1,6.7 -.8,1.8 .9,2.2 .9,-1.6 1.9,1.5 3,14.2 -.5,2 1.1,1 -.5,15 .7,1 2.8,16.3 1.8,1.5 -3.5,3.4 1.7,2.2 -1.3,3.3 -1.5,1.7 -1.5,2.3 -.2,-.7 .4,-5.9 -14.6,-4.9 -1.6,-1.1 -1.9,.3 -3,-2.2 -3,-5.8 h -2 l -.4,-1.5 -1.7,-1.1 -70.5,13.9 -.8,-6 4.3,-3.9 .6,-1.7 3.9,-2.5 .6,-2.4 2.3,-2 .8,-1.1 -1.7,-3.3 -1.7,-.5 -1.8,-3 -.2,-3.2 7.6,-3.9 8.2,-1.6 h 4.4 l 3.2,1.6 .9,-.1 1.8,-1.6 3.4,-.7 h 3 l 2.6,-1.3 2.5,-2.6 2.4,-3.1 1.9,-.4 1.1,-.5 .4,-3.2 -1.4,-2.7 -1.2,-.7 2,-1.3 -.1,-1.8 h -1.5 l -2.3,-1.4 -.1,-3.1 6.2,-6.1 .7,-2.4 3.7,-6.3 5.9,-6.4 2.1,-1.7 2.5,.1 20.6,-5.2 z'>\\r\\n<title>New York</title></path>\\r\\n\\r\\n<path class='nc' d='m 829,300.1 -29.1,6.1 -39.4,7.3 -29.4,3.5 v 5.2 l -1.5,-.1 -1.4,1.2 -2.4,5.2 -2.6,-1.1 -3.5,2.5 -.7,2.1 -1.5,1.2 -.8,-.8 -.1,-1.5 -.8,-.2 -4,3.3 -.6,3.4 -4.7,2.4 -.5,1.2 -3.2,2.6 -3.6,.5 -4.6,3 -.8,4.1 -1.3,.9 -1.5,-.1 -1.4,1.3 -.1,4.9 21.4,-3 4.4,-1.9 1.3,-.1 7.3,-4.3 23.2,-2.2 .4,.5 -.2,1.4 .7,.3 1.2,-1.5 3.3,3 .1,2.6 19.7,-2.8 24.5,17.1 4,-2.2 3,-.7 h 1.7 l 1.1,1.1 .8,-2 .6,-5 1.7,-3.9 5.4,-6.1 4.1,-3.5 5.4,-2.3 2.5,-.4 1.3,.4 .7,1.1 3.3,-6.6 3.3,-5.3 -.7,-.3 -4.4,6.8 -.5,-.8 2,-2.2 -.4,-1.5 -2,-.5 1,1.3 -1.2,.1 -1.2,-1.8 -1.2,2 -1.6,.2 1,-2.7 .7,-1.7 -.2,-2.9 -2.2,-.1 .9,-.9 1.1,.3 2.7,.1 .8,-.5 h 2.3 l 2,-1.9 .2,-3.2 1.3,-1.4 1.2,-.2 1.3,-1 -.5,-3.7 -2.2,-3.8 -2.7,-.2 -.9,1.6 -.5,-1 -2.7,.2 -1.2,.4 -1.9,1.2 -.3,-.4 h -.9 l -1.8,1.2 -2.6,.5 v -1.3 l .8,-1 1,.7 h 1 l 1.7,-2.1 3.7,-1.7 2,-2.2 h 2.4 l .8,1.3 1.7,.8 -.5,-1.5 -.3,-1.6 -2.8,-3.1 -.3,-1.4 -.4,1 -.9,-1.3 z m 7,31 2.7,-2.5 4.6,-3.3 v -3.7 l -.4,-3.1 -1.7,-4.2 1.5,1.4 1,3.2 .4,7.6 -1.7,.4 -3.1,2.4 -3.2,3.2 z m 1.9,-19.3 -.9,-.2 v 1 l 2.5,2.2 -.2,-1.4 z m 2.9,2.1 -1.4,-2.8 -2.2,-3.4 -2.4,-3 -2.2,-4.3 -.8,-.7 2.2,4.3 .3,1.3 3.4,5.5 1.8,2.1 z'>\\r\\n<title>North Carolina</title></path>\\r\\n\\r\\n<path class='nd' d='m 464.7,68.6 -1.1,2.8 .8,1.4 -.3,5.1 -.5,1.1 2.7,9.1 1.3,2.5 .7,14 1,2.7 -.4,5.8 2.9,7.4 .3,5.8 -.1,2.1 -29.5,-.4 -46,-2.1 -39.2,-2.9 5.2,-66.7 44.5,3.4 55.3,1.6 z'>\\r\\n<title>North Dakota</title></path>\\r\\n\\r\\n<path class='oh' d='m 685.7,208.8 1.9,-.4 3,1.3 2.1,.6 .7,.9 h 1 l 1,-1.5 1.3,.8 h 1.5 l -.1,1 -3.1,.5 -2,1.1 1.9,.8 1.6,-1.5 2.4,-.4 2.2,1.5 1.5,-.1 2.5,-1.7 3.6,-2.1 5.2,-.3 4.9,-5.9 3.8,-3.1 9.3,-5.1 4.9,29.9 -2.2,1.2 1.4,2.1 -.1,2.2 .6,2 -1.1,3.4 -.1,5.4 -1,3.6 .5,1.1 -.4,2.2 -1.1,.5 -2,3.3 -1.8,2 h -.6 l -1.8,1.7 -1.3,-1.2 -1.5,1.8 -.3,1.2 h -1.3 l -1.3,2.2 .1,2.1 -1,.5 1.4,1.1 v 1.9 l -1,.2 -.7,.8 -1,.5 -.6,-2.1 -1.6,-.5 -1,2.3 -.3,2.2 -1.1,1.3 1.3,3.6 -1.5,.8 -.4,3.5 h -1.5 l -3.2,1.4 -1.2,-2.1 -3.5,-1.4 -.8,-2.9 -.5,-.8 -3.4,1.8 -.6,1.7 h -.9 l -1.3,.7 -1.2,-.8 -3,-.8 -1.9,.8 v 1 l -2.2,-.2 -1.9,-2.1 -2.3,.2 -4.1,-.7 v -1 l -2.2,-3.4 -2.9,-1.2 -1.9,.8 -2.2,-.1 -1.3,-.5 -6.6,-57.2 21.4,-3.5 z'>\\r\\n<title>Ohio</title></path>\\r\\n\\r\\n<path class='ok' d='m 501.5,398.6 -4.6,-3.8 -2.2,-.9 -.5,1.6 -5.1,.3 -.6,-1.5 -5,2.5 -1.6,-.7 -3.7,.3 -.6,1.7 -3.6,.9 -1.3,-1.2 -1.2,.1 -2,-1.8 -2.1,.7 -2,-.5 -1.8,-2 -2.5,4.2 -1.2,.8 -1,-1.8 .3,-2 -1.2,-.7 -2.3,2.5 -1.7,-1.2 -.1,-1.5 -1.3,.5 -2.6,-1.7 -3,2.6 -2.3,-1.1 .7,-2.1 -2.3,.1 -1.9,-3 -3.5,-1.1 -2,2.3 -2.3,-2.2 -1.4,.4 -2,.1 -3.5,-1.9 -2.3,.1 -1.2,-.7 -.5,-2.9 -2.3,-1.7 -1.1,1.5 -1.4,-1 -1.2,-.4 -1.1,1 -1.5,-.3 -2.5,-3 -2.7,-1.3 1.4,-42.7 -52.6,-3.2 .6,-10.6 16.5,1 67.7,2.9 62,.1 .2,10.8 4.1,24.4 -.7,39 z'>\\r\\n<title>Oklahoma</title></path>\\r\\n\\r\\n<path class='or' d='m 93.9,166.5 47,11.2 8.5,-37.3 2.9,-5.8 .4,-2.1 .8,-.9 -.9,-2 -2.9,-1.2 .2,-4.2 4,-5.8 2.5,-.8 1.6,-2.3 -.1,-1.6 1.8,-1.6 3.2,-5.5 4.2,-4.8 -.5,-3.2 -3.5,-3.1 -1.6,-3.6 -30.3,-7.3 -2.8,1 -5.4,-.9 -1.8,-.9 -1.5,1.2 -3.3,-.4 -4.5,.5 -.9,.7 -4.2,-.4 -.8,-1.6 -1.2,-.2 -4.4,1.3 -1.6,-1.1 -2.2,.8 -.2,-1.8 -2.3,-1.2 -1.5,-.2 -1,-1.1 -3,.3 -1.2,-.8 h -1.2 l -1.2,.9 -5.5,.7 -6.6,-4.2 1.1,-5.6 -.4,-4.1 -3.2,-3.7 -3.7,.1 -.4,-1.1 .4,-1.2 -.7,-.8 -1,.1 -1.1,1.3 -1.5,-.2 -.5,-1.1 -1,-.1 -.7,.6 -2,-1.9 v 4.3 l -1.3,1.3 -1.1,3.5 -.1,2.3 -4.5,12.3 -13.2,31.3 -3.2,4.6 -1.6,-.1 .1,2.1 -5.2,7.1 -.3,3.3 1,1.3 .1,2.4 -1.2,1.1 -1.2,3 .1,5.7 1.2,2.9 z'>\\r\\n<title>Oregon</title></path>\\r\\n\\r\\n<path class='pa' d='m 826.3,189.4 -1.9,.3 -3,-2.2 -3,-5.8 h -2 l -.4,-1.5 -1.7,-1.1 -70.5,13.9 -.8,-6 -4.2,3.4 -.9,.1 -2.7,3 -3.3,1.7 4.9,29.9 3.2,19.7 17.4,-2.9 60.5,-11.8 1.2,-2.1 1.5,-1.1 1.6,-.3 1.6,.6 1.4,-1.7 1.6,-.6 1.8,-3 1.6,-2.3 3.3,-2.6 -4.2,-3.2 -2.1,-1.1 -1,-2.8 -2.7,-.9 -.5,-3.6 1,-1 .7,-2 -1.5,-1.8 3,-5.4 -.1,-2.2 1.8,-2.5 z'>\\r\\n<title>Pennsylvania</title></path>\\r\\n\\r\\n<path class='ri' d='m 883.2,170.7 -1.3,-1.1 -2.6,-1.3 -.6,-2.2 h -.8 l -.7,-2.6 -6.5,2 3.2,12.3 -.4,1.1 .4,1.8 5.6,-3.6 .1,-3 -.8,-.8 .4,-.6 -.1,-1.3 -.9,-.7 1.2,-.4 -.9,-1.6 1.8,.7 .3,1.4 .7,1.2 -1.4,-.8 1.1,1.7 -.3,1.2 -.6,-1.1 v 2.5 l .6,-.9 .4,.9 1.3,-1.5 -.2,-2.5 1.4,3.1 1,-.9 z m -4.7,12.2 h .9 l .5,-.6 -.8,-1.3 -.7,.7 z'>\\r\\n<title>Rhode Island</title></path>\\r\\n\\r\\n<path class='sc' d='m 772.3,350.2 -19.7,2.8 -.1,-2.6 -3.3,-3 -1.2,1.5 -.7,-.3 .2,-1.4 -.4,-.5 -23.2,2.2 -7.3,4.3 -1.3,.1 -4.4,1.9 -.1,1.9 -1.9,1 -1.4,3.2 .2,1.3 6.1,3.8 2.6,-.3 3.1,4 .4,1.7 4.2,5.1 2.6,1.7 1.4,.2 2.2,1.6 1.1,2.2 2,1.6 1.8,.5 2.7,2.7 .1,1.4 2.6,2.8 5,2.3 3.6,6.7 .3,2.7 3.9,2.1 2.5,4.8 .8,3.1 4.2,.4 .8,-1.5 h .6 l 1.8,-1.5 .5,-2 3.2,-2.1 .3,-2.4 -1.2,-.9 .8,-.7 .8,.4 1.3,-.4 1.8,-2.1 3.8,-1.8 1.6,-2.4 .1,-.7 4.8,-4.4 -.1,-.5 -.9,-.8 1.1,-1.5 h .8 l .4,.5 .7,-.8 h 1.3 l .6,-1.5 2.3,-2.1 -.3,-5.4 .8,-2.3 3.6,-6.2 2.4,-2.2 2.2,-1.1 z'>\\r\\n<title>South Carolina</title></path>\\r\\n\\r\\n<path class='sd' d='m 396.5,125.9 46,2.1 29.5,.4 -.1,2.2 -.9,2 -3.1,1.9 -.3,1.2 1.7,2.5 .4,1.8 2.6,.6 1.5,1.9 -.2,39.5 -2.2,-.1 -.1,1.6 1.3,1.5 -.1,1.1 -1,.5 .4,1.6 1.3,.4 .7,2 -1.7,5.1 -1,4.3 1.3,1.2 .3,1.3 .7,1.7 -1.5,.2 -1.8,-.7 -.9,-2.6 -1.2,-1.3 -6.1,-2.2 -.6,-1.1 -2,-.6 -1.4,.6 -1,-.5 -.9,.4 -.7,-.4 -.9,.4 -.7,-.5 -1,.7 -1.5,-.6 -1.8,2 -1.8,.1 -2.1,-2 -1.7,-.2 -3.4,-3.2 -38,-1.6 -51.1,-3.5 3.9,-43.9 2,-20.7 z'>\\r\\n<title>South Dakota</title></path>\\r\\n\\r\\n<path class='tn' d='m 620.9,365.1 45.7,-4 22.9,-2.9 .1,-4.9 1.4,-1.3 1.5,.1 1.3,-.9 .8,-4.1 4.6,-3 3.6,-.5 3.2,-2.6 .5,-1.2 4.7,-2.4 .6,-3.4 4,-3.3 .8,.2 .1,1.5 .8,.8 1.5,-1.2 .7,-2.1 3.5,-2.5 2.6,1.1 2.4,-5.2 1.4,-1.2 1.5,.1 0,-5.2 .3,-.7 -4.6,.5 -.2,1 -28.9,3.3 -5.6,1.4 -20.5,1.4 -5.2,.8 -17.4,1 -2.6,.8 -22.6,2 -.7,-.6 h -3.7 l 1.2,3.2 -.6,.9 -23.3,1.5 -.8,1 -.8,-.7 h -1 v 1.3 l .6,1 -.1,1 -1.4,.5 1.4,1.5 -.8,.7 -1.7,-.2 .6,1 1.2,1.1 v .7 l -1.2,.5 -1,2 .1,.6 1.4,1 -.4,.7 h -1.5 v .5 l .9,.9 .1,.8 -1.4,.2 -.5,.8 -1.6,.2 -.9,.9 .6,.9 1.1,-.1 .5,.9 -1.6,1.3 .4,1.5 -2,-.6 -.1,.7 .4,1.1 -.3,1.4 -1.3,-.8 -.8,.8 1.1,.1 .1,1.5 -.6,1 1.1,.9 -.3,1.5 .8,.7 -.7,1 -1.2,-.5 -.9,2.2 -1.6,.7 z'>\\r\\n<title>Tennessee</title></path>\\r\\n\\r\\n<path class='tx' d='m 282.3,429 .3,-3 34.4,3.6 31.8,2.6 7.9,-99.3 .8,0 52.6,3.2 -1.4,42.7 2.7,1.3 2.5,3 1.5,.3 1.1,-1 1.2,.4 1.4,1 1.1,-1.5 2.3,1.7 .5,2.9 1.2,.7 2.3,-.1 3.5,1.9 2,-.1 1.4,-.4 2.3,2.2 2,-2.3 3.5,1.1 1.9,3 2.3,-.1 -.7,2.1 2.3,1.1 3,-2.6 2.6,1.7 1.3,-.5 .1,1.5 1.7,1.2 2.3,-2.5 1.2,.7 -.3,2 1,1.8 1.2,-.8 2.5,-4.2 1.8,2 2,.5 2.1,-.7 2,1.8 1.2,-.1 1.3,1.2 3.6,-.9 .6,-1.7 3.7,-.3 1.6,.7 5,-2.5 .6,1.5 5.1,-.3 .5,-1.6 2.2,.9 4.6,3.8 6.4,1.9 2.6,2.3 2.8,-1.3 3.2,.8 .2,11.9 .5,19.9 .7,3.4 2.6,2.8 .7,5.4 3.8,4.6 .8,4.3 h 1 l -.1,7.3 -3.3,6.4 1.3,2.3 -1.3,1.5 .7,3 -.1,4.3 -2.2,3.5 -.1,.8 -1.7,1.2 1,1.8 1.2,1.1 -3.5,.3 -8.4,3.9 -3.5,1.4 -1.8,1.8 -.7,-.5 2.1,-2.3 1.8,-.7 .5,-.9 -2.9,-.1 -.7,-.8 .8,-2 -.9,-1.8 h -.6 l -2.4,1.3 -1.9,2.6 .3,1.7 3.3,3.4 1.3,.3 v .8 l -2.3,1.6 -4.9,4 -4,3.9 -3.2,1.4 -5,3 -3.7,2 -4.5,1.9 -4.1,2.5 3.2,-3 v -1.1 l .6,-.8 -.2,-1.8 -1.5,-.1 -1.1,1.5 -2.6,1.3 -1.8,-1.2 -.3,-1.7 h -1.5 l .8,2.2 1.4,.7 1.2,.9 1.8,1.6 -.7,.8 -3.9,1.7 -1.7,.1 -1.2,-1.2 -.5,2.1 .5,1.1 -2.7,2 -1.5,.2 -.8,.7 -.4,1.7 -1.8,3.3 -1.6,.7 -1.6,-.6 -1.8,1.1 .3,1.4 1.3,.8 1,.8 -1.8,3.5 -.3,2.8 -1,1.7 -1.4,1 -2.9,.4 1.8,.6 1.9,-.6 -.4,3.2 -1.1,-.1 .2,1.2 .3,1.4 -1.3,.9 v 3.1 l 1.6,1.4 .6,3.1 -.4,2.2 -1,.4 .4,1.5 1.1,.4 .8,1.7 v 2.6 l 1.1,2.1 2.2,2.6 -.1,.7 -2.2,-.2 -1.6,1.4 .2,1.4 -.9,-.3 -1.4,-.2 -3.4,-3.7 -2.3,-.6 h -7.1 l -2.8,-.8 -3.6,-3 -1.7,-1 -2.1,.1 -3.2,-2.6 -5.4,-1.6 v -1.3 l -1.4,-1.8 -.9,-4.7 -1.1,-1.7 -1.7,-1.4 v -1.6 l -1.4,-.6 .6,-2.6 -.3,-2.2 -1.3,-1.4 .7,-3 -.8,-3.2 -1.7,-1.4 h -1.1 l -4,-3.5 .1,-1.9 -.8,-1.7 -.8,-.2 -.9,-2.4 -2,-1.6 -2.9,-2.5 -.2,-2.1 -1,-.7 .2,-1.6 .5,-.7 -1.4,-1.5 .1,-.7 -2,-2.2 .1,-2.1 -2.7,-4.9 -.1,-1.7 -1.8,-3.1 -5.1,-4.8 v -1.1 l -3.3,-1.7 -.1,-1.8 -1.2,-.4 v -.7 l -.8,-.2 -2.1,-2.8 h -.8 l -.7,-.6 -1.3,1.1 h -2.2 l -2.6,-1.1 h -4.6 l -4.2,-2.1 -1.3,1.9 -2.2,-.6 -3.3,1.2 -1.7,2.8 -2,3.2 -1.1,4.4 -1.4,1.2 -1.1,.1 -.9,1.6 -1.3,.6 -.1,1.8 -2.9,.1 -1.8,-1.5 h -1 l -2,-2.9 -3.6,-.5 -1.7,-2.3 -1.3,-.2 -2.1,-.8 -3.4,-3.4 .2,-.8 -1.6,-1.2 -1,-.1 -3.4,-3.1 -.1,-2 -2.3,-4 .2,-1.6 -.7,-1.3 .8,-1.5 -.1,-2.4 -2.6,-4.1 -.6,-4.2 -1.6,-1.6 v -1 l -1.2,-.2 -.7,-1.1 -2.4,-1.7 -.9,-.1 -1.9,-1.6 v -1.1 l -2.9,-1.8 -.6,-2.1 -2.6,-2.3 -3.2,-4.4 -3,-1.3 -2.1,-1.8 .2,-1.2 -1.3,-1.4 -1.7,-3.7 -2.4,-1 z m 174.9,138.3 .8,.1 -.6,-4.8 -3.5,-12.3 -.2,-8.1 4.9,-10.5 6.1,-8.2 7.2,-5.1 v -.7 h -.8 l -2.6,1 -3.6,2.3 -.7,1.5 -8.2,11.6 -2.8,7.9 v 8.8 l 3.6,12 z'>\\r\\n<title>Texas</title></path>\\r\\n\\r\\n<path class='ut' d='m 233.2,217.9 3.3,-21.9 -47.9,-8.2 -21,109 46.2,8.2 40,6 11.5,-88.3 z'>\\r\\n<title>Utah</title></path>\\r\\n\\r\\n<path class='vt' d='m 859.1,102.4 -1.1,3.5 2.1,2.8 -.4,1.7 .1,1.3 -1.1,2.1 -1.4,.4 -.6,1.3 -2.1,1 -.7,1.5 1.4,3.4 -.5,2.5 .5,1.5 -1,1.9 .4,1.9 -1.3,1.9 .2,2.2 -.7,1.1 .7,4.5 .7,1.5 -.5,2.6 .9,1.8 -.2,2.5 -.5,1.3 -.1,1.4 2.1,2.6 -12.4,2.7 -1.1,-1 .5,-2 -3,-14.2 -1.9,-1.5 -.9,1.6 -.9,-2.2 .8,-1.8 -3.1,-6.7 .3,-3.8 .4,-1 -.6,-2 .4,-2.2 -2.2,-2.3 -.5,-3.2 .4,-1.5 -1.4,-.9 .6,-1.9 -.8,-1.7 27.3,-6.9 z'>\\r\\n<title>Vermont</title></path>\\r\\n\\r\\n<path class='va' d='m 834.7,265.4 -1.1,2.8 .5,1.1 .4,-1.1 .8,-3.1 z m -34.6,-7 -.7,-1 1,-.1 1,-.9 .4,-1.8 -.2,-.5 .1,-.5 -.3,-.7 -.6,-.5 -.4,-.1 -.5,-.4 -.6,-.6 h -1 l -.6,-.1 -.4,-.4 .1,-.5 -1.7,-.6 -.8,.3 -1.2,-.1 -.7,-.7 -.5,-.2 -.2,-.7 .6,-.8 v -.9 l -1.2,-.2 -1,-.9 -.9,.1 -1.6,-.3 -.4,.7 -.4,1.6 -.5,2.3 -10,-5.2 -.2,.9 .9,1.6 -.8,2.3 .1,2.9 -1.2,.8 -.5,2.1 -.9,.8 -1.4,1.8 -.9,.8 -1,2.5 -2.4,-1.1 -2.3,8.5 -1.3,1.6 -2.8,-.5 -1.3,-1.9 -2.3,-.7 -.1,4.7 -1.4,1.7 .4,1.5 -2.1,2.2 .4,1.9 -3.7,6.3 -1,3.3 1.5,1.2 -1.5,1.9 .1,1.4 -2.3,2 -.7,-1.1 -4.3,3.1 -1.5,-1 -.6,1.4 .8,.5 -.5,.9 -5.5,2.4 -3,-1.8 -.8,1.7 -1.9,1.8 -2.3,.1 -4.4,-2.3 -.1,-1.5 -1.5,-.7 .8,-1.2 -.7,-.6 -4.9,6.6 -2.9,1 -3,3 -.4,2.2 -2.1,1.3 -.1,1.7 -1.4,1.4 -1.8,.5 -.5,1.9 -1,.4 -6.9,4.2 28.9,-3.3 .2,-1 4.6,-.5 -.3,.7 29.4,-3.5 39.4,-7.3 29.1,-6.1 -.6,-1.2 .4,-.1 .9,.9 -.1,-1.4 -.3,-1.9 1.6,1.2 .9,2.1 v -1.3 l -3.4,-5.5 v -1.2 l -.7,-.8 -1.3,.7 .5,1.4 h -.8 l -.4,-1 -.6,.9 -.9,-1.1 -2.1,-.1 -.2,.7 1.5,2.1 -1.4,-.7 -.5,-1 -.4,.8 -.8,.1 -1.5,1.7 .3,-1.6 v -1.4 l -1.5,-.7 -1.8,-.5 -.2,-1.7 -.6,-1.3 -.6,1.1 -1.7,-1 -2,.3 .2,-.9 1.5,-.2 .9,.5 1.7,-.8 .9,.4 .5,1 v .7 l 1.9,.4 .3,.9 .9,.4 .9,1.2 1.4,-1.6 h .6 l -.1,-2.1 -1.3,1 -.6,-.9 1.5,-.2 -1.2,-.9 -1.2,.6 -.1,-1.7 -1.7,.2 -2.2,-1.1 -1.8,-2.2 3.6,2.2 .9,.3 1.7,-.8 -1.7,-.9 .6,-.6 -1,-.5 .8,-.2 -.3,-.9 1.1,.9 .4,-.8 .4,1.3 1.2,.8 .6,-.5 -.5,-.6 -.1,-2.5 -1.1,-.1 -1.6,-.8 .9,-1.1 -2,-.1 -.4,-.5 -1.4,.6 -1.4,-.8 -.5,-1.2 -2.1,-1.2 -2.1,-1.8 -2.2,-1.9 3,1.3 .9,1.2 2.1,.7 2.3,2.5 .2,-1.7 .6,1.3 2.3,.5 v -4 l -.8,-1.1 1.1,.4 .1,-1.6 -3.1,-1.4 -1.6,-.2 -1.3,-.2 .3,-1.2 -1.5,-.3 -.1,-.6 h -1.8 l -.2,.8 -.7,-1 h -2.7 l -1,-.4 -.2,-1 -1.2,-.6 -.4,-1.5 -.6,-.4 -.7,1.1 -.9,.2 -.9,.7 h -1.5 l -.9,-1.3 .4,-3.1 .5,-2.4 .6,.5 z m 21.9,11.6 .9,-.1 0,-.6 -.8,.1 z m 7.5,14.2 -1,2.7 1.2,-1.3 z m -1.8,-15.3 .7,.3 -.2,1.9 -.5,-.5 -1.3,1 1,.4 -1.8,4.4 .1,8.1 1.9,3.1 .5,-1.5 .4,-2.7 -.3,-2.3 .7,-.9 -.2,-1.4 1.2,-.6 -.6,-.5 .5,-.7 .8,1.1 -.2,1.1 -.4,3.9 1.1,-2.2 .4,-3.1 .1,-3 -.3,-2 .6,-2.3 1.1,-1.8 .1,-2.2 .3,-.9 -4.6,1.6 -.7,.8 z'>\\r\\n<title>Virginia</title></path>\\r\\n\\r\\n<path class='wa' d='m 161.9,83.6 .7,4 -1.1,4.3 -30.3,-7.3 -2.8,1 -5.4,-.9 -1.8,-.9 -1.5,1.2 -3.3,-.4 -4.5,.5 -.9,.7 -4.2,-.4 -.8,-1.6 -1.2,-.2 -4.4,1.3 -1.6,-1.1 -2.2,.8 -.2,-1.8 -2.3,-1.2 -1.5,-.2 -1,-1.1 -3,.3 -1.2,-.8 h -1.2 l -1.2,.9 -5.5,.7 -6.6,-4.2 1.1,-5.6 -.4,-4.1 -3.2,-3.7 -3.7,.1 -.4,-1.1 .4,-1.2 -.7,-.8 -1,.1 -2.1,-1.5 -1.2,.4 -2,-.1 -.7,-1.5 -1.6,-.3 2.5,-7.5 -.7,6 .5,.5 v -2 l .8,-.2 1.1,2.3 -.5,-2.2 1.2,-4.2 1.8,.4 -1.1,-2 -1,.3 -1.5,-.4 .2,-4.2 .2,1.5 .9,.5 .6,-1.6 h 3.2 l -2.2,-1.2 -1.7,-1.9 -1.4,1.6 1.2,-3.1 -.3,-4.6 -.2,-3.6 .9,-6.1 -.5,-2 -1.4,-2.1 .1,-4 .4,-2.7 2,-2.3 -.7,-1.4 .2,-.6 .9,.1 7.8,7.6 4.7,1.9 5.1,2.5 3.2,-.1 .2,3 1,-1.6 h .7 l .6,2.7 .5,-2.6 1.4,-.2 .5,.7 -1.1,.6 .1,1.6 .7,-1.5 h 1.1 l -.4,2.6 -1.1,-.8 .4,1.4 -.1,1.5 -.8,.7 -2.5,2.9 1.2,-3.4 -1.6,.4 -.4,2.1 -3.8,2.8 -.4,1 -2.1,2.2 -.1,1 h 2.2 l 2.4,-.2 .5,-.9 -3.9,.5 v -.6 l 2.6,-2.8 1.8,-.8 1.9,-.2 1,-1.6 3,-2.3 v -1.4 h 1.1 l .1,4 h -1.5 l -.6,.8 -1.1,-.9 .3,1.1 v 1.7 l -.7,.7 -.3,-1.6 -.8,.8 .7,.6 -.9,1.1 h 1.3 l .7,-.5 .1,2 -1,1.9 -.9,1 -.1,1.8 -1,-.2 -.2,-1.4 .9,-1.1 -.8,-.5 -.8,.7 -.7,2.2 -.8,.9 -.1,-2 .8,-1.1 -.2,-1.1 -1.2,1.2 .1,2.2 -.6,.4 -2.1,-.4 -1.3,1.2 2.2,-.6 -.2,2.2 1,-1.8 .4,1.4 .5,-1 .7,1.8 h .7 l .7,-.8 .6,-.1 2,-1.9 .2,-1.2 .8,.6 .3,.9 .7,-.3 .1,-1.2 h 1.3 l .2,-2.9 -.1,-2.7 .9,.3 -.7,-2.1 1.4,-.8 .2,-2.4 2.3,-2.2 1,.1 .3,-1.4 -1.2,-1.4 -.1,-3.5 -.8,.9 .7,2.9 -.6,.1 -.6,-1.9 -.6,-.5 .3,-2.3 1.8,-.1 .3,.7 .3,-1.6 -1.6,-1.7 -.6,-1.6 -.2,2 .9,1.1 -.7,.4 -1,-.8 -1.8,1.3 1.5,.5 .2,2.4 -.3,1.8 .9,-1.3 1.4,2.3 -.4,1.9 h -1.5 v -1.2 l -1.5,-1.2 .5,-3 -1.9,-2.6 2.7,-3 .6,-4.1 h .9 l 1.4,3.2 v -2.6 l 1.2,.3 v -3.3 l -.9,-.8 -1.2,2.5 -1,-3 1.3,-.1 -1.5,-4.9 1.9,-.6 25.4,7.5 31.7,8 23.6,5.5 z m -78.7,-39.4 h .5 l .1,.8 -.5,.3 .1,.6 -.7,.4 -.2,-.9 .5,-.4 z m 5,-4.3 -1.2,1.9 -.1,.8 .4,.2 .5,-.6 1.1,.1 z m -.4,-21.6 .5,.6 1.3,-.3 .2,-1 1.2,-1.8 -1,-.4 -.7,1.6 -.1,-1.6 -1.1,.2 -.7,1.4 z m 3.2,-5.5 .7,1.5 -.9,.2 -.8,.4 -.2,-2.4 z m -2.7,-1.6 -1.1,-.2 .5,1.4 z m -1,2.5 .8,.4 -.4,1.1 1.7,-.5 -.2,-2.2 -.9,-.2 z m -2.7,-.4 .3,2.7 1.6,1.3 .6,-1.9 -1.1,-2.2 z m 1.9,-1.1 -1.1,-1 -.9,.1 1.8,1.5 z m 3.2,-7 h -1.2 v .8 l 1.2,.6 z m -.9,32.5 .4,-2.7 h -1.1 l -.2,1.9 z'>\\r\\n<title>Washington</title></path>\\r\\n\\r\\n<path class='wv' d='m 723.4,297.5 -.8,1.2 1.5,.7 .1,1.5 4.4,2.3 2.3,-.1 1.9,-1.8 .8,-1.7 3,1.8 5.5,-2.4 .5,-.9 -.8,-.5 .6,-1.4 1.5,1 4.3,-3.1 .7,1.1 2.3,-2 -.1,-1.4 1.5,-1.9 -1.5,-1.2 1,-3.3 3.7,-6.3 -.4,-1.9 2.1,-2.2 -.4,-1.5 1.4,-1.7 .1,-4.7 2.3,.7 1.3,1.9 2.8,.5 1.3,-1.6 2.3,-8.5 2.4,1.1 1,-2.5 .9,-.8 1.4,-1.8 .9,-.8 .5,-2.1 1.2,-.8 -.1,-2.9 .8,-2.3 -.9,-1.6 .2,-.9 10,5.2 .5,-2.3 .4,-1.6 .4,-.7 -.9,-.4 .2,-1.6 -1,-.5 -.2,-.7 h -.7 l -.8,-1.2 .2,-1 -2.6,.4 -2.2,-1.6 -1.4,.3 -.9,1.4 h -1.3 l -1.7,2.9 -3.3,.4 -1.9,-1 -2.6,3.8 -2.2,-.3 -3.1,3.9 -.9,1.6 -1.8,1.6 -1.7,-11.4 -17.4,2.9 -3.2,-19.7 -2.2,1.2 1.4,2.1 -.1,2.2 .6,2 -1.1,3.4 -.1,5.4 -1,3.6 .5,1.1 -.4,2.2 -1.1,.5 -2,3.3 -1.8,2 h -.6 l -1.8,1.7 -1.3,-1.2 -1.5,1.8 -.3,1.2 h -1.3 l -1.3,2.2 .1,2.1 -1,.5 1.4,1.1 v 1.9 l -1,.2 -.7,.8 -1,.5 -.6,-2.1 -1.6,-.5 -1,2.3 -.3,2.2 -1.1,1.3 1.3,3.6 -1.5,.8 -.4,3.5 h -1.5 l -3.2,1.4 -.1,1.1 .6,1 -.6,3.6 1.9,1.6 .8,1.1 1,.6 -.1,.9 4.4,5.6 h 1.4 l 1.5,1.8 1.2,.3 1.4,-.1 z'>\\r\\n<title>West Virginia</title></path>\\r\\n\\r\\n<path class='wi' d='m 611,144 -2.9,.8 .2,2.3 -2.4,3.4 -.2,3.1 .6,.7 .8,-.7 .5,-1.6 2,-1.1 1.6,-4.2 3.5,-1.1 .8,-3.3 .7,-.9 .4,-2.1 1.8,-1.1 v -1.5 l 1,-.9 1.4,.1 v 2 l -1,.1 .5,1.2 -.7,2.2 -.6,.1 -1.2,4.5 -.7,.5 -2.8,7.2 -.3,4.2 .6,2 .1,1.3 -2.4,1.9 .3,1.9 -.9,3.1 .3,1.6 .4,3.7 -1.1,4.1 -1.5,5 1,1.5 -.3,.3 .8,1.7 -.5,1.1 1.1,.9 v 2.7 l 1.3,1.5 -.4,3 .3,4 -45.9,2.8 -1.3,-2.8 -3.3,-.7 -2.7,-1.5 -2,-5.5 .1,-2.5 1.6,-3.3 -.6,-1.1 -2.1,-1.6 -.2,-2.6 -1.1,-4.5 -.2,-3 -2.2,-3 -2.8,-.7 -5.2,-3.6 -.6,-3.3 -6.3,-3.1 -.2,-1.3 h -3.3 l -2.2,-2.6 -2,-1.3 .7,-5.1 -.9,-1.6 .5,-5.4 1,-1.8 -.3,-2.7 -1.2,-1.3 -1.8,-.3 v -1.7 l 2.8,-5.8 5.9,-3.9 -.4,-13 .9,.4 .6,-.5 .1,-1.1 .9,-.6 1.4,1.2 .7,-.1 h 2.6 l 6.8,-2.6 .3,-1 h 1.2 l .7,-1.2 .4,.8 1.8,-.9 1.8,-1.7 .3,.5 1,-1 2.2,1.6 -.8,1.6 -1.2,1.4 .5,1.5 -1.4,1.6 .4,.9 2.3,-1.1 v -1.4 l 3.3,1.9 1.9,.7 1.9,.7 3,3.8 17,3.8 1.4,1 4,.8 .7,.5 2.8,-.2 4.9,.8 1.4,1.5 -1,1 .8,.8 3.8,.7 1.2,1.2 .1,4.4 -1.3,2.8 2,.1 1,-.8 .9,.8 -1.1,3.1 1,1.6 1.2,.3 z m -49.5,-37.3 -.5,.1 -1.5,1.6 .2,.5 1.5,-.6 v -.6 l .9,-.3 z m 1.6,-1.1 -1,.3 -.2,.7 .9,-.1 z m -1.3,-1.6 -.2,.9 h 1.7 l .6,-.4 .1,-1 z m 2.8,-3 -.3,1.9 1.2,-.5 .1,-1.4 z m 58.3,31.9 -2,.3 -.4,1.3 1.3,1.7 z'>\\r\\n<title>Wisconsin</title></path>\\r\\n\\r\\n<path class='wy' d='m 355.3,143.7 -51,-5.3 -57.3,-7.9 -2,10.7 -8.5,54.8 -3.3,21.9 32.1,4.8 44.9,5.7 37.5,3.4 3.7,-44.2 z'>\\r\\n<title>Wyoming</title></path>\\r\\n\\r\\n<path class='dc' d='m 803.5,252 -2.6,-1.8 -1,1.7 .5,.4 .4,.1 .6,.5 .3,.7 -.1,.5 .2,.5 z'>\\r\\n<title>District of Columbia</title></path>\\r\\n\\r\\n</g>\\r\\n\\r\\n<g class='borders' fill='none'>\\r\\n<path class='al-fl' d='m 687.6,447.4 -48.8,5.1 -.5,2.9 2.5,2.8 1.7,.7 .9,1.2 -.4,7.3 -1.1,.6'/>\\r\\n<path class='al-ga' d='m 666.6,361.1 12.9,45.8 2.9,6.1 1.8,1.9 v 3.2 l 1.7,1 .2,1.1 -2.2,3.8 -.3,3.7 -.5,2.6 2.4,5.7 -.6,6.3 .5,1.4 1.5,1.5 .7,2.2'/>\\r\\n<path class='al-ms' d='m 620.9,365.1 1.3,2 -1.3,67 4.4,33.2'/>\\r\\n<path class='al-tn' d='m 620.9,365.1 45.7,-4'/>\\r\\n<path class='ar-la' d='m 516.7,414.2 52.3,-1.3'/>\\r\\n<path class='ar-mo' d='m 591.7,344.9 -11.2,.8 2.8,-5.1 1.7,-1.5 v -2.2 l -1.6,-2.5 -39.8,2 -39.1,.7'/>\\r\\n<path class='ar-ms' d='m 569,412.9 1.2,-1.5 .5,-3 -1.5,-2.3 -.5,-2.2 .9,-.7 v -.8 l -1.7,-1.1 -.1,-.7 1.6,-.9 -1.2,-1.1 1.7,-7.1 3.4,-1.6 0,-.8 -1.1,-1.4 2.9,-5.4 h 1.9 l 1.5,-1.2 -.3,-5.2 3.1,-4.5 1.8,-.6 -.5,-3.1'/>\\r\\n<path class='ar-ok' d='m 507.9,400.5 .7,-39 -4.1,-24.4'/>\\r\\n<path class='ar-tn' d='m 582.6,367.7 1.6,-.7 .9,-2.2 1.2,.5 .7,-1 -.8,-.7 .3,-1.5 -1.1,-.9 .6,-1 -.1,-1.5 -1.1,-.1 .8,-.8 1.3,.8 .3,-1.4 -.4,-1.1 .1,-.7 2,.6 -.4,-1.5 1.6,-1.3 -.5,-.9 -1.1,.1 -.6,-.9 .9,-.9 1.6,-.2 .5,-.8 1.4,-.2 -.1,-.8 -.9,-.9 0,-.5 h 1.5 l .4,-.7 -1.4,-1 -.1,-.6'/>\\r\\n<path class='ar-tx' d='m 507.9,400.5 2.6,2.3 2.8,-1.3 3.2,.8 .2,11.9'/>\\r\\n<path class='az-ca' d='m 149,338.1 -.9,2.1 1.3,3.4 1.4,1.8 1.2,5.8 2.3,2.5 .4,1.9 -1.3,1.3 -4.8,1.7 -2.4,3.6 -1.6,7 -2.4,3.2 -1.6,.3 -1.1,6.9 1.1,1.6 1.8,.2 1,1.6 -.8,2.4 -3,2.2 -2.2,-.1'/>\\r\\n<path class='az-nm' d='m 253.8,311 -17.4,124.1'/>\\r\\n<path class='az-nv' d='m 167.6,296.8 -3.4,17.5 -2.4,2.9 h -2 l -1.2,-2.7 -3.7,-1.4 -3.5,.6 -1,13.6 .5,4.9 -.5,2.9 -1.4,3'/>\\r\\n<path class='az-ut' d='m 167.6,296.8 46.2,8.2 40,6'/>\\r\\n<path class='ca-nv' d='m 93.9,166.5 -16.4,63.1 1.1,3.5 70.4,105'/>\\r\\n<path class='ca-or' d='m 27.8,147.9 66.1,18.6'/>\\r\\n<path class='co-ks' d='m 379.4,256.3 -4.8,67'/>\\r\\n<path class='co-ne' d='m 347.7,231.8 33.1,2.4 -1.4,22.1'/>\\r\\n<path class='co-nm' d='m 253.8,311 52.6,6.5 51.7,4.8'/>\\r\\n<path class='co-ok' d='m 358.1,322.3 16.5,1'/>\\r\\n<path class='co-ut' d='m 265.3,222.7 -11.5,88.3'/>\\r\\n<path class='co-wy' d='m 265.3,222.7 44.9,5.7 37.5,3.4'/>\\r\\n<path class='ct-ma' d='m 843.8,171.3 10.5,-2.4 .5,.7 .9,-.3 0,-.7 14.9,-3.4 .1,.3'/>\\r\\n<path class='ct-ny' d='m 846.6,194.7 -1.7,-2.2 3.5,-3.4 -1.8,-1.5 -2.8,-16.3'/>\\r\\n<path class='ct-ri' d='m 870.7,165.5 3.2,12.3 -.4,1.1 .4,1.8'/>\\r\\n<path class='dc-md' d='m 801.8,254.6 1.7,-2.6 -2.6,-1.8 -1,1.7'/>\\r\\n<path class='dc-va' d='m 799.9,251.9 .5,.4 .4,.1 .6,.5 .3,.7 -.1,.5 .2,.5'/>\\r\\n<path class='de-md' d='m 817.9,230.1 7.6,27.1 10.9,-2.3'/>\\r\\n<path class='de-nj' d='m 823.8,227.2 -1,2.2 -.3,2.1'/>\\r\\n<path class='de-pa' d='m 817.9,230.1 1.2,-2.1 1.5,-1.1 1.6,-.3 1.6,.6'/>\\r\\n<path class='fl-ga' d='m 687.6,447.4 3.3,6 50.1,-3.3 .6,3.2 1,1.1 2.1,-.6 .5,-4.3 -1.4,-2.1 v -2.5 l 2.2,-1.4 1.7,.9 4,.7 3.6,-.3'/>\\r\\n<path class='ga-nc' d='m 689.5,358.2 21.4,-3'/>\\r\\n<path class='ga-sc' d='m 710.9,355.2 -.1,1.9 -1.9,1 -1.4,3.2 .2,1.3 6.1,3.8 2.6,-.3 3.1,4 .4,1.7 4.2,5.1 2.6,1.7 1.4,.2 2.2,1.6 1.1,2.2 2,1.6 1.8,.5 2.7,2.7 .1,1.4 2.6,2.8 5,2.3 3.6,6.7 .3,2.7 3.9,2.1 2.5,4.8 .8,3.1 4.2,.4'/>\\r\\n<path class='ga-tn' d='m 666.6,361.1 22.9,-2.9'/>\\r\\n<path class='ia-il' d='m 556.8,249.7 .7,-.7 .1,-2.3 -.7,-.9 1,-1.5 1.8,-.6 .9,-.3 1,-1.2 0,-2.4 1.7,-2.4 .5,-.5 .1,-3.5 -.9,-1.4 -1,-.3 -1.1,-1.6 1,-4 3,-.8 h 2.4 l 4.2,-1.8 1.7,-2.2 .1,-2.4 1.1,-1.3 1.3,-3.2 -.1,-2.6 -2.8,-3.5 -1.2,0 -.9,-1.1 .2,-1.6 -1.7,-1.7 -2.5,-1.3 .5,-.6'/>\\r\\n<path class='ia-mn' d='m 473.6,182 28.2,0 36.3,-.9 18.6,-.7'/>\\r\\n<path class='ia-mo' d='m 484.5,246.8 25.9,.1 27.2,-1.2 14.3,-.8 1.7,1.3 .6,1.6 1.1,1.1 1.5,.8'/>\\r\\n<path class='ia-ne' d='m 484.5,246.8 -1.8,-4.4 .7,-2.2 -.8,-3.3 .2,-2.9 -1.3,-.7 -.4,-6.1 -2.8,-5 -.2,-3.7 -2.2,-4.3 -1.3,-3.7 v -1.4 l -.6,-1.7 v -2.3 l -.5,-.9'/>\\r\\n<path class='ia-sd' d='m 473.5,204.2 -.7,-1.7 -.3,-1.3 -1.3,-1.2 1,-4.3 1.7,-5.1 -.7,-2 -1.3,-.4 -.4,-1.6 1,-.5 .1,-1.1 -1.3,-1.5 .1,-1.6 2.2,.1'/>\\r\\n<path class='ia-wi' d='m 567.2,202 -1.3,-2.8 -3.3,-.7 -2.7,-1.5 -2,-5.5 .1,-2.5 1.6,-3.3 -.6,-1.1 -2.1,-1.6 -.2,-2.6'/>\\r\\n<path class='id-mt' d='m 188.8,30.5 -4.8,22 3.7,7.4 -1.6,4.8 3.6,4.8 1.9,.7 3.9,8.3 v 2.1 l 2.3,3 h .9 l 1.4,2.1 h 3.2 v 1.6 l -7.1,17 -.5,4.1 1.4,.5 1.6,2.6 2.8,-1.4 3.6,-2.4 1.9,1.9 .5,2.5 -.5,3.2 2.5,9.7 2.6,3.5 2.3,1.4 .4,3 v 4.1 l 2.3,2.3 1.6,-2.3 6.9,1.6 2.1,-1.2 9,1.7 2.8,-3.3 1.8,-.6 1.2,1.8 1.6,4.1 .9,.1'/>\\r\\n<path class='id-nv' d='m 140.9,177.7 24.4,5.4 23.3,4.7'/>\\r\\n<path class='id-or' d='m 140.9,177.7 8.5,-37.3 2.9,-5.8 .4,-2.1 .8,-.9 -.9,-2 -2.9,-1.2 .2,-4.2 4,-5.8 2.5,-.8 1.6,-2.3 -.1,-1.6 1.8,-1.6 3.2,-5.5 4.2,-4.8 -.5,-3.2 -3.5,-3.1 -1.6,-3.6'/>\\r\\n<path class='id-ut' d='m 236.5,196 -47.9,-8.2'/>\\r\\n<path class='id-wa' d='m 174.6,27.5 -12.7,56.1 .7,4 -1.1,4.3'/>\\r\\n<path class='id-wy' d='m 245,141.2 -8.5,54.8'/>\\r\\n<path class='il-in' d='m 619.4,215.7 4.1,50.2 -1,5.2 v 2 l 2.4,3.5 v .7 l -.3,.9 .9,1.9 -.3,2.4 -1.6,1.8 -1.3,4.2 -3.8,5.3 -.1,7 h -1 l .9,1.9'/>\\r\\n<path class='il-ky' d='m 599.9,322.5 -.3,-1.8 4,-3.7 6.9,3 1.5,-.3 .4,-2.4 -1.7,-1.8 .4,-3.3 1,-.5 1.2,.6 .6,-1.2 3.7,-.6 .1,-.9 -1.5,-2.2 -.1,-1.1 2.2,-2.7 v -.9'/>\\r\\n<path class='il-mo' d='m 599.9,322.5 -2.8,0 -1.4,-1.5 -1.8,-3.8 v -1.9 l .8,-.6 .1,-1.3 -1.7,-1.9 -.9,-2.5 -2.7,-4.1 -4.8,-1.3 -7.4,-7.1 -.4,-2.4 2.8,-7.6 -.4,-1.9 1.2,-1.1 v -1.3 l -2.8,-1.5 -3,-.7 -3.4,1.2 -1.3,-2.3 .6,-1.9 -.7,-2.4 -8.6,-8.4 -2.2,-1.5 -2.5,-5.9 -1.2,-5.4 1.4,-3.7'/>\\r\\n<path class='il-wi' d='m 567.2,202 45.9,-2.8'/>\\r\\n<path class='in-ky' d='m 618.3,302.7 1.1,.8 .6,-1 -.7,-1.7 4.6,-.5 .2,1.2 1.1,.2 .4,-.9 -.6,-1.3 .3,-.8 1.3,.8 1.7,-.4 1.7,.6 3.4,2.1 1.8,-2.8 3.5,-2.2 3,3.3 1.6,-2.1 .3,-2.7 3.8,-2.3 .2,1.3 1.9,1.2 3,-.2 1.2,-.7 .1,-3.4 2.5,-3.7 4.6,-4.4 -.1,-1.7 1.2,-3.8 2.2,1 6.7,-4.5 -.4,-1.7 -1.5,-2.1 1,-1.9'/>\\r\\n<path class='in-mi' d='m 630.9,213.2 32.4,-3.4 .1,1.4'/>\\r\\n<path class='in-oh' d='m 670,268.4 -6.6,-57.2'/>\\r\\n<path class='ks-mo' d='m 504.3,326.3 -.5,-48.1 -3.2,-.7 -2.6,-4.7 -2.5,-2.5 .5,-2.3 2.7,-2.6 .1,-1.2 -1.5,-2.1 -.9,1 -2,-.6 -2.9,-3'/>\\r\\n<path class='ks-ne' d='m 379.4,256.3 36,2 43.7,1.2 h 32.4'/>\\r\\n<path class='ks-ok' d='m 374.6,323.3 67.7,2.9 62,.1'/>\\r\\n<path class='ky-mo' d='m 596.7,333.5 1,-2.7 1.4,.9 .7,-.4 1.2,-4.1 -1,-1 1,-2 .2,-.9 -1.3,-.8 m -5.8,11.3 -.7,-.7 .2,-1 h 1.1 l .7,.7 -.3,1'/>\\r\\n<path class='ky-oh' d='m 670,268.4 1.3,.5 2.2,.1 1.9,-.8 2.9,1.2 2.2,3.4 v 1 l 4.1,.7 2.3,-.2 1.9,2.1 2.2,.2 v -1 l 1.9,-.8 3,.8 1.2,.8 1.3,-.7 h .9 l .6,-1.7 3.4,-1.8 .5,.8 .8,2.9 3.5,1.4 1.2,2.1'/>\\r\\n<path class='ky-tn' d='m 596.7,333.5 23.3,-1.5 .6,-.9 -1.2,-3.2 h 3.7 l .7,.6 22.6,-2 2.6,-.8 17.4,-1 5.2,-.8 20.5,-1.4 5.6,-1.4 m -103.6,12.7 h 1'/>\\r\\n<path class='ky-va' d='m 697.7,321.1 6.9,-4.2 1,-.4 .5,-1.9 1.8,-.5 1.4,-1.4 .1,-1.7 2.1,-1.3 .4,-2.2 3,-3 2.9,-1 4.9,-6.6'/>\\r\\n<path class='ky-wv' d='m 709.3,279.4 -.1,1.1 .6,1 -.6,3.6 1.9,1.6 .8,1.1 1,.6 -.1,.9 4.4,5.6 h 1.4 l 1.5,1.8 1.2,.3 1.4,-.1'/>\\r\\n<path class='la-ms' d='m 569,412.9 -.6,1.4 1.6,7.1 1.2,1 -.5,1.7 2.4,2.5 v 3.3 l -2,0 1.8,2.5 -6,8.4 -2.4,4.8 -1.7,11.9 36,-2 -.1,1.4 -1,1.4 -.9,4.6 4.8,6.8 -.3,1.3 1.2,1.8 .6,.7'/>\\r\\n<path class='la-tx' d='m 516.7,414.2 .5,19.9 .7,3.4 2.6,2.8 .7,5.4 3.8,4.6 .8,4.3 h 1 l -.1,7.3 -3.3,6.4 1.3,2.3 -1.3,1.5 .7,3 -.1,4.3 -2.2,3.5 -.1,.8 -1.7,1.2 1,1.8 1.2,1.1'/>\\r\\n<path class='ma-nh' d='m 856,152.6 18.4,-3.8 1,-1.5 .3,-1.7 1.9,-.6 .5,-1.1 1.7,-1.1 1.3,.3'/>\\r\\n<path class='ma-ny' d='m 843.8,171.3 -.7,-1 .5,-15'/>\\r\\n<path class='ma-ri' d='m 870.7,165.5 6.5,-2 .7,2.6 h .8 l .6,2.2 2.6,1.3 1.3,1.1 1.4,3'/>\\r\\n<path class='ma-vt' d='m 843.6,155.3 12.4,-2.7'/>\\r\\n<path class='md-pa' d='m 757.4,241.9 60.5,-11.8'/>\\r\\n<path class='md-va' d='m 822.9,269.3 -.8,.1 m 13.2,-4.3 -.6,.3 m -1.3,.2 -4.6,1.6 -.7,.8 m -28.2,-16.1 -.6,-.6 h -1 l -.6,-.1 -.4,-.4 .1,-.5 -1.7,-.6 -.8,.3 -1.2,-.1 -.7,-.7 -.5,-.2 -.2,-.7 .6,-.8 v -.9 l -1.2,-.2 -1,-.9 -.9,.1 -1.6,-.3 m 11.6,13.5 .3,-.4 -.7,-1 1,-.1 1,-.9 .4,-1.8'/>\\r\\n<path class='md-wv' d='m 757.4,241.9 1.7,11.4 1.8,-1.6 .9,-1.6 3.1,-3.9 2.2,.3 2.6,-3.8 1.9,1 3.3,-.4 1.7,-2.9 h 1.3 l .9,-1.4 1.4,-.3 2.2,1.6 2.6,-.4 -.2,1 .8,1.2 h .7 l .2,.7 1,.5 -.2,1.6 .9,.4'/>\\r\\n<path class='me-nh' d='m 881.9,138.3 -2.3,-1.4 -.8,-2.2 -3.2,-2 -.6,-4 -11.9,-36.8'/>\\r\\n<path class='mi-oh' d='m 663.4,211.2 21.4,-3.5'/>\\r\\n<path class='mi-wi' d='m 565.6,112.3 1.9,.7 3,3.8 17,3.8 1.4,1 4,.8 .7,.5 2.8,-.2 4.9,.8 1.4,1.5 -1,1 .8,.8 3.8,.7 1.2,1.2 .1,4.4 -1.3,2.8 2,.1 1,-.8 .9,.8 -1.1,3.1 1,1.6 1.2,.3'/>\\r\\n<path class='mn-nd' d='m 462.3,61.3 2.4,7.3 -1.1,2.8 .8,1.4 -.3,5.1 -.5,1.1 2.7,9.1 1.3,2.5 .7,14 1,2.7 -.4,5.8 2.9,7.4 .3,5.8 -.1,2.1'/>\\r\\n<path class='mn-sd' d='m 473.6,182 .2,-39.5 -1.5,-1.9 -2.6,-.6 -.4,-1.8 -1.7,-2.5 .3,-1.2 3.1,-1.9 .9,-2 .1,-2.2'/>\\r\\n<path class='mn-wi' d='m 556.7,180.4 -1.1,-4.5 -.2,-3 -2.2,-3 -2.8,-.7 -5.2,-3.6 -.6,-3.3 -6.3,-3.1 -.2,-1.3 -3.3,0 -2.2,-2.6 -2,-1.3 .7,-5.1 -.9,-1.6 .5,-5.4 1,-1.8 -.3,-2.7 -1.2,-1.3 -1.8,-.3 v -1.7 l 2.8,-5.8 5.9,-3.9 -.4,-13 .9,.4 .6,-.5 .1,-1.1 .9,-.6 1.4,1.2 .7,-.1'/>\\r\\n<path class='mo-ne' d='m 491.5,259.5 -3.9,-6.3 -2.1,-3.7 .3,-1.4 -1.3,-1.3'/>\\r\\n<path class='mo-ok' d='m 504.3,326.3 .2,10.8'/>\\r\\n<path class='mo-tn' d='m 591.7,344.9 1,-2 1.2,-.5 v -.7 l -1.2,-1.1 -.6,-1 1.7,.2 .8,-.7 -1.4,-1.5 1.4,-.5 .1,-1 -.6,-1 0,-1.3 m 1,0 .8,.7 .8,-1'/>\\r\\n<path class='ms-tn' d='m 582.6,367.7 38.3,-2.6'/>\\r\\n<path class='mt-nd' d='m 362.5,56.3 -5.2,66.7'/>\\r\\n<path class='mt-sd' d='m 357.3,123 -2,20.7'/>\\r\\n<path class='mt-wy' d='m 355.3,143.7 -51,-5.3 -57.3,-7.9 -2,10.7'/>\\r\\n<path class='nc-sc' d='m 710.9,355.2 4.4,-1.9 1.3,-.1 7.3,-4.3 23.2,-2.2 .4,.5 -.2,1.4 .7,.3 1.2,-1.5 3.3,3 .1,2.6 19.7,-2.8 24.5,17.1'/>\\r\\n<path class='nc-tn' d='m 731.1,317 0,5.2 -1.5,-.1 -1.4,1.2 -2.4,5.2 -2.6,-1.1 -3.5,2.5 -.7,2.1 -1.5,1.2 -.8,-.8 -.1,-1.5 -.8,-.2 -4,3.3 -.6,3.4 -4.7,2.4 -.5,1.2 -3.2,2.6 -3.6,.5 -4.6,3 -.8,4.1 -1.3,.9 -1.5,-.1 -1.4,1.3 -.1,4.9'/>\\r\\n<path class='nc-va' d='m 731.1,317 29.4,-3.5 39.4,-7.3 29.1,-6.1'/>\\r\\n<path class='nd-sd' d='m 357.3,123 39.2,2.9 46,2.1 29.5,.4'/>\\r\\n<path class='ne-sd' d='m 351.4,187.6 51.1,3.5 38,1.6 3.4,3.2 1.7,.2 2.1,2 1.8,-.1 1.8,-2 1.5,.6 1,-.7 .7,.5 .9,-.4 .7,.4 .9,-.4 1,.5 1.4,-.6 2,.6 .6,1.1 6.1,2.2 1.2,1.3 .9,2.6 1.8,.7 1.5,-.2'/>\\r\\n<path class='ne-wy' d='m 347.7,231.8 3.7,-44.2'/>\\r\\n<path class='nh-vt' d='m 857.9,100.1 1.2,2.3 -1.1,3.5 2.1,2.8 -.4,1.7 .1,1.3 -1.1,2.1 -1.4,.4 -.6,1.3 -2.1,1 -.7,1.5 1.4,3.4 -.5,2.5 .5,1.5 -1,1.9 .4,1.9 -1.3,1.9 .2,2.2 -.7,1.1 .7,4.5 .7,1.5 -.5,2.6 .9,1.8 -.2,2.5 -.5,1.3 -.1,1.4 2.1,2.6'/>\\r\\n<path class='nj-ny' d='m 827.9,190.5 14.6,4.9 -.4,5.9'/>\\r\\n<path class='nj-pa' d='m 823.8,227.2 1.4,-1.7 1.6,-.6 1.8,-3 1.6,-2.3 3.3,-2.6 -4.2,-3.2 -2.1,-1.1 -1,-2.8 -2.7,-.9 -.5,-3.6 1,-1 .7,-2 -1.5,-1.8 3,-5.4 -.1,-2.2 1.8,-2.5'/>\\r\\n<path class='nm-ok' d='m 358.1,322.3 -.6,10.6'/>\\r\\n<path class='nm-tx' d='m 284.3,431.2 -2,-2.2 .3,-3 34.4,3.6 31.8,2.6 7.9,-99.3 .8,0'/>\\r\\n<path class='nv-or' d='m 93.9,166.5 47,11.2'/>\\r\\n<path class='nv-ut' d='m 188.6,187.8 -21,109'/>\\r\\n<path class='ny-pa' d='m 827.9,190.5 -1.6,-1.1 -1.9,.3 -3,-2.2 -3,-5.8 h -2 l -.4,-1.5 -1.7,-1.1 -70.5,13.9 -.8,-6'/>\\r\\n<path class='ny-vt' d='m 843.6,155.3 -1.1,-1 .5,-2 -3,-14.2 -1.9,-1.5 -.9,1.6 -.9,-2.2 .8,-1.8 -3.1,-6.7 .3,-3.8 .4,-1 -.6,-2 .4,-2.2 -2.2,-2.3 -.5,-3.2 .4,-1.5 -1.4,-.9 .6,-1.9 -.8,-1.7'/>\\r\\n<path class='oh-pa' d='m 736.8,225.1 -4.9,-29.9'/>\\r\\n<path class='oh-wv' d='m 709.3,279.4 3.2,-1.4 h 1.5 l .4,-3.5 1.5,-.8 -1.3,-3.6 1.1,-1.3 .3,-2.2 1,-2.3 1.6,.5 .6,2.1 1,-.5 .7,-.8 1,-.2 v -1.9 l -1.4,-1.1 1,-.5 -.1,-2.1 1.3,-2.2 h 1.3 l .3,-1.2 1.5,-1.8 1.3,1.2 1.8,-1.7 h .6 l 1.8,-2 2,-3.3 1.1,-.5 .4,-2.2 -.5,-1.1 1,-3.6 .1,-5.4 1.1,-3.4 -.6,-2 .1,-2.2 -1.4,-2.1 2.2,-1.2'/>\\r\\n<path class='ok-tx' d='m 357.5,332.9 52.6,3.2 -1.4,42.7 2.7,1.3 2.5,3 1.5,.3 1.1,-1 1.2,.4 1.4,1 1.1,-1.5 2.3,1.7 .5,2.9 1.2,.7 2.3,-.1 3.5,1.9 2,-.1 1.4,-.4 2.3,2.2 2,-2.3 3.5,1.1 1.9,3 2.3,-.1 -.7,2.1 2.3,1.1 3,-2.6 2.6,1.7 1.3,-.5 .1,1.5 1.7,1.2 2.3,-2.5 1.2,.7 -.3,2 1,1.8 1.2,-.8 2.5,-4.2 1.8,2 2,.5 2.1,-.7 2,1.8 1.2,-.1 1.3,1.2 3.6,-.9 .6,-1.7 3.7,-.3 1.6,.7 5,-2.5 .6,1.5 5.1,-.3 .5,-1.6 2.2,.9 4.6,3.8 6.4,1.9'/>\\r\\n<path class='or-wa' d='m 161.5,91.9 -30.3,-7.3 -2.8,1 -5.4,-.9 -1.8,-.9 -1.5,1.2 -3.3,-.4 -4.5,.5 -.9,.7 -4.2,-.4 -.8,-1.6 -1.2,-.2 -4.4,1.3 -1.6,-1.1 -2.2,.8 -.2,-1.8 -2.3,-1.2 -1.5,-.2 -1,-1.1 -3,.3 -1.2,-.8 h -1.2 l -1.2,.9 -5.5,.7 -6.6,-4.2 1.1,-5.6 -.4,-4.1 -3.2,-3.7 -3.7,.1 -.4,-1.1 .4,-1.2 -.7,-.8 -1,.1'/>\\r\\n<path class='pa-wv' d='m 736.8,225.1 3.2,19.7 17.4,-2.9'/>\\r\\n<path class='sd-wy' d='m 351.4,187.6 3.9,-43.9'/>\\r\\n<path class='tn-va' d='m 697.7,321.1 28.9,-3.3 .2,-1 4.6,-.5 -.3,.7'/>\\r\\n<path class='ut-wy' d='m 236.5,196 -3.3,21.9 32.1,4.8'/>\\r\\n<path class='va-wv' d='m 722.7,296.9 .7,.6 -.8,1.2 1.5,.7 .1,1.5 4.4,2.3 2.3,-.1 1.9,-1.8 .8,-1.7 3,1.8 5.5,-2.4 .5,-.9 -.8,-.5 .6,-1.4 1.5,1 4.3,-3.1 .7,1.1 2.3,-2 -.1,-1.4 1.5,-1.9 -1.5,-1.2 1,-3.3 3.7,-6.3 -.4,-1.9 2.1,-2.2 -.4,-1.5 1.4,-1.7 .1,-4.7 2.3,.7 1.3,1.9 2.8,.5 1.3,-1.6 2.3,-8.5 2.4,1.1 1,-2.5 .9,-.8 1.4,-1.8 .9,-.8 .5,-2.1 1.2,-.8 -.1,-2.9 .8,-2.3 -.9,-1.6 .2,-.9 10,5.2 .5,-2.3 .4,-1.6 .4,-.7'/>\\r\\n</g>\\r\\n\\r\\n<circle class='state borders dccircle dc' cx='801.6' cy='252.1' r='5'>\\r\\n<title>District of Columbia</title></circle>\\r\\n\\r\\n<path class='separator1' fill='none' d='m 215,493 v 55 l 36,45 m -251,-168 h 147 l 68,68 h 85 l 54,54 v 46'/>\\r\\n\\r\\n</svg><rect id='-' style='fill:white;stroke:#333333;border-radius:3px;stroke-width:2px;' width=191.8 y=426 height=88.95 x=0></rect><rect id='-' style='fill:rgb(60,0,195,1.0);' x=19 y=457 height=3 width=19></rect><rect id='-' style='fill:rgb(140,0,115,1.0);' x=38 y=457 height=3 width=19></rect><rect id='-' style='fill:rgb(200,0,55,1.0);' x=57 y=457 height=3 width=19></rect><rect id='-' style='fill:rgb(280,0,-25,1.0);' x=76 y=457 height=3 width=19></rect><rect id='-' style='fill:rgb(340,0,-85,1.0);' x=95 y=457 height=3 width=19></rect><rect id='-' style='fill:rgb(420,0,-165,1.0);' x=114 y=457 height=3 width=19></rect><rect id='-' style='fill:rgb(500,0,-245,1.0);' x=133 y=457 height=3 width=19></rect><rect id='-' style='fill:rgb(560,0,-305,1.0);' x=152 y=457 height=3 width=19></rect><text id='-' x=19 y=488 style='stroke:#333333;'>less fires</text><text id='-' x=134.8 y=488 style='stroke:#333333;fill:blue;'>more fires</text></svg>\""
      ],
      "text/plain": []
     },
     "execution_count": 184,
     "metadata": {},
     "output_type": "execute_result"
    }
   ],
   "source": [
    "colors = Gattino.make_gradient((0, 0, 255), 30, 20, 0, -20)\n",
    "\n",
    "new_pleth = choropleth(pleth_data[!, \"state\"], pleth_data[!, \"no fires\"], GattinoPleths.usa_map, \n",
    "    colors)\n",
    "GattinoPleths.choropleth_legend!(new_pleth, \"less fires\" => \"more fires\", colors, align = \"bottom-left\")\n",
    "new_pleth"
   ]
  },
  {
   "cell_type": "code",
   "execution_count": 210,
   "id": "5345db26-c01c-45e7-8293-9a41b278ab15",
   "metadata": {},
   "outputs": [
    {
     "data": {
      "text/plain": [
       "IOStream(<file plethdata.csv>)"
      ]
     },
     "execution_count": 210,
     "metadata": {},
     "output_type": "execute_result"
    }
   ],
   "source": [
    "touch(\"plethdata.csv\")\n",
    "open(\"plethdata.csv\", \"w\") do io::IOStream\n",
    "    CSV.write(io, pleth_data)\n",
    "end"
   ]
  },
  {
   "cell_type": "code",
   "execution_count": 211,
   "id": "466fbbf3-c2a3-41e3-840a-70f19d9def6d",
   "metadata": {},
   "outputs": [
    {
     "data": {
      "text/plain": [
       "IOStream(<file sortedcop.csv>)"
      ]
     },
     "execution_count": 211,
     "metadata": {},
     "output_type": "execute_result"
    }
   ],
   "source": [
    "touch(\"sortedcop.csv\")\n",
    "open(\"sortedcop.csv\", \"w\") do io::IOStream\n",
    "    CSV.write(io, sorted_cop)\n",
    "end"
   ]
  },
  {
   "cell_type": "code",
   "execution_count": 212,
   "id": "f2009270-bde6-4b9d-83e4-362756af2fcd",
   "metadata": {},
   "outputs": [
    {
     "data": {
      "text/plain": [
       "IOStream(<file df1.csv>)"
      ]
     },
     "execution_count": 212,
     "metadata": {},
     "output_type": "execute_result"
    }
   ],
   "source": [
    "touch(\"df1.csv\")\n",
    "open(\"df1.csv\", \"w\") do io::IOStream\n",
    "    CSV.write(io, df1)\n",
    "end"
   ]
  },
  {
   "cell_type": "code",
   "execution_count": null,
   "id": "1461e076-fb0c-4f02-8ab5-5aa5c1166c88",
   "metadata": {},
   "outputs": [],
   "source": []
  }
 ],
 "metadata": {
  "kernelspec": {
   "display_name": "Julia 1.10.3",
   "language": "julia",
   "name": "julia-1.10"
  },
  "language_info": {
   "file_extension": ".jl",
   "mimetype": "application/julia",
   "name": "julia",
   "version": "1.10.3"
  }
 },
 "nbformat": 4,
 "nbformat_minor": 5
}
